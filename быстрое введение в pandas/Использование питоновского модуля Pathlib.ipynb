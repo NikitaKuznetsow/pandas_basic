{
 "cells": [
  {
   "cell_type": "markdown",
   "metadata": {},
   "source": [
    "# Использование питоновского модуля Pathlib\n",
    "\n",
    "> Оригинал статьи Криса [тут](https://pbpython.com/pathlib-intro.html)\n",
    "\n",
    "## Введение\n",
    "\n",
    "Сложно написать скрипт на Python, который не взаимодействует с файловой системой. Действие может быть таким же простым, как чтение файла данных в DataFrame, или таким сложным, как анализ тысяч файлов в глубоко вложенной структуре каталогов. Стандартная библиотека Python имеет несколько полезных функций для этих задач, включая модуль pathlib.\n",
    "\n",
    "Модуль pathlib был впервые включен в python 3.4 и улучшался в каждом из последующих выпусков. Pathlib - это объектно-ориентированный интерфейс к файловой системе, обеспечивающий более интуитивно понятный метод взаимодействия с файловой системой независимо от платформы и питоническим способом.\n",
    "\n",
    "Недавно у меня был небольшой проект, в котором я решил использовать pathlib в сочетании с pandas для сортировки и управления тысячами файлов во вложенной структуре каталогов. Как только все это было реализовано, я действительно оценил возможности, которые предоставляет pathlib, и обязательно буду использовать его в будущих проектах. Этот проект послужил источником вдохновения для этой статьи.\n",
    "\n",
    "Чтобы помочь другим, я создал шпаргалку по pathlib, которая, надеюсь, упростит использование этой замечательной библиотеки. Позже в этом посте я приведу пример построения кадра данных pandas на основе структуры каталогов. Это полезный инструмент для просмотра и анализа большого количества файлов - особенно в системе Windows, где весь спектр инструментов оболочки недоступен."
   ]
  },
  {
   "cell_type": "markdown",
   "metadata": {},
   "source": [
    "## Начало работы с Pathlib\n",
    "\n",
    "Библиотека pathlib включена во все версии python> = 3.4. Я рекомендую использовать последнюю версию python, чтобы получить доступ ко всем последним обновлениям. В этой статье я буду использовать python 3.8.\n",
    "\n",
    "Одна из полезных функций модуля pathlib заключается в том, что создание путей без использования os.joindir более интуитивно понятно. Например, когда я запускаю небольшие проекты, я создаю in и out каталоги как подкаталоги в текущем рабочем каталоге (с помощью os.getcwd()). Я использую эти каталоги для хранения рабочих файлов ввода и вывода. Вот как будет выглядеть этот код:"
   ]
  },
  {
   "cell_type": "code",
   "execution_count": 1,
   "metadata": {},
   "outputs": [],
   "source": [
    "import os\n",
    "\n",
    "in_dir = os.path.join(os.getcwd(), \"in\")\n",
    "out_dir = os.path.join(os.getcwd(), \"out\")\n",
    "in_file = os.path.join(in_dir, \"input.xlsx\")\n",
    "out_file = os.path.join(out_dir, \"output.xlsx\")"
   ]
  },
  {
   "cell_type": "markdown",
   "metadata": {},
   "source": [
    "Это работает, но немного неуклюже. Например, если бы я хотел определить только входные и выходные файлы без определения каталогов, это выглядело бы так:"
   ]
  },
  {
   "cell_type": "code",
   "execution_count": 2,
   "metadata": {},
   "outputs": [],
   "source": [
    "import os\n",
    "\n",
    "in_file = os.path.join(os.path.join(os.getcwd(), \"in\"), \"input.xlsx\")\n",
    "out_file = os.path.join(os.path.join(os.getcwd(), \"out\"), \"output.xlsx\")"
   ]
  },
  {
   "cell_type": "markdown",
   "metadata": {},
   "source": [
    "Хммм. Это несложно, но определенно некрасиво.\n",
    "\n",
    "Давайте посмотрим, как это будет выглядеть, если мы воспользуемся модулем pathlib."
   ]
  },
  {
   "cell_type": "code",
   "execution_count": 3,
   "metadata": {},
   "outputs": [],
   "source": [
    "from pathlib import Path\n",
    "\n",
    "in_file_1 = Path.cwd() / \"in\" / \"input.xlsx\"\n",
    "out_file_1 = Path.cwd() / \"out\" / \"output.xlsx\""
   ]
  },
  {
   "cell_type": "markdown",
   "metadata": {},
   "source": [
    "Интересно. На мой взгляд, это гораздо легче мысленно разобрать. Это аналогично методу os.path присоединения текущего рабочего каталога (с помощью Path.cwd()) к различным подкаталогам и расположениям файлов. Гораздо легче следовать из-за умного переопределения / для создания пути более естественным образом, чем связывание множества os.path.joins вместе.\n",
    "\n",
    "Кроме того, если вам не нравится приведенный выше синтаксис, вы можете связать несколько частей вместе, используя joinpath:"
   ]
  },
  {
   "cell_type": "code",
   "execution_count": 4,
   "metadata": {},
   "outputs": [],
   "source": [
    "in_file_2 = Path.cwd().joinpath(\"in\").joinpath(\"input.xlsx\")\n",
    "out_file_2 = Path.cwd().joinpath(\"out\").joinpath(\"output.xlsx\")"
   ]
  },
  {
   "cell_type": "markdown",
   "metadata": {},
   "source": [
    "На мой взгляд, это немного сложнее, но все же намного лучше, чем os.path.join безумие выше.\n",
    "\n",
    "Наконец, есть еще один прием, который можно использовать для создания пути с несколькими каталогами:"
   ]
  },
  {
   "cell_type": "code",
   "execution_count": 5,
   "metadata": {},
   "outputs": [],
   "source": [
    "parts = [\"in\", \"input.xlsx\"]\n",
    "in_file_3 = Path.cwd().joinpath(*parts)"
   ]
  },
  {
   "cell_type": "markdown",
   "metadata": {},
   "source": [
    "Независимо от того, какой метод вы используете, эти подходы работают для построения пути к файлу или каталогу. Дополнительным преимуществом этих методов является то, что вы создаете объект Path, а не просто строковое представление пути. Посмотрите на разницу между печатью in_file и in_file_1"
   ]
  },
  {
   "cell_type": "code",
   "execution_count": 6,
   "metadata": {},
   "outputs": [
    {
     "name": "stdout",
     "output_type": "stream",
     "text": [
      "/home/dmf/new_github/анализ_данных/pandas_basic/быстрое введение в pandas/in/input.xlsx\n",
      "<class 'str'>\n"
     ]
    }
   ],
   "source": [
    "print(in_file)\n",
    "print(type(in_file))"
   ]
  },
  {
   "cell_type": "markdown",
   "metadata": {},
   "source": [
    "Результатом os.path.join является обычная строка. Сравните это с различными подходами к pathlib:"
   ]
  },
  {
   "cell_type": "code",
   "execution_count": 7,
   "metadata": {},
   "outputs": [
    {
     "name": "stdout",
     "output_type": "stream",
     "text": [
      "/home/dmf/new_github/анализ_данных/pandas_basic/быстрое введение в pandas/in/input.xlsx\n",
      "<class 'pathlib.PosixPath'>\n"
     ]
    }
   ],
   "source": [
    "print(in_file_1)\n",
    "print(type(in_file_1))"
   ]
  },
  {
   "cell_type": "markdown",
   "metadata": {},
   "source": [
    "Фактическое строковое представление то же самое, но тип переменной - pathlib.PosixPath. Тот факт, что путь является объектом, означает, что мы можем выполнять множество полезных действий с объектом. Также интересно, что объект пути \"знает\", что он находится в системе Linux (также известной как Posix), и внутренне представляет его таким образом без необходимости сообщать программисту. Преимущество заключается в том, что код будет работать одинаково на машине с Windows и что базовая библиотека позаботится о любых чудесах Windows."
   ]
  },
  {
   "cell_type": "markdown",
   "metadata": {},
   "source": [
    "## Работа с объектами Path\n",
    "\n",
    "Теперь, когда вы знаете основы создания объекта Path, давайте посмотрим, что мы можем сделать с этим объектом. В этой статье я буду использовать простую вложенную структуру, которая содержит файлы CSV и Excel и хранится на внешнем USB-накопителе. Вот как это выглядит в системе Linux:\n",
    "\n",
    "![](https://pbpython.com/images/pathlib-tree.png)"
   ]
  },
  {
   "cell_type": "code",
   "execution_count": null,
   "metadata": {},
   "outputs": [],
   "source": []
  }
 ],
 "metadata": {
  "kernelspec": {
   "display_name": "Python 3",
   "language": "python",
   "name": "python3"
  },
  "language_info": {
   "codemirror_mode": {
    "name": "ipython",
    "version": 3
   },
   "file_extension": ".py",
   "mimetype": "text/x-python",
   "name": "python",
   "nbconvert_exporter": "python",
   "pygments_lexer": "ipython3",
   "version": "3.8.3"
  }
 },
 "nbformat": 4,
 "nbformat_minor": 4
}
