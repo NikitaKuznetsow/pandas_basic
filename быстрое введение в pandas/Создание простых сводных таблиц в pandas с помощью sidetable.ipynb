{
 "cells": [
  {
   "cell_type": "markdown",
   "metadata": {},
   "source": [
    "# Создание простых сводных таблиц в pandas с помощью sidetable\n",
    "\n",
    "<a href=\"https://t.me/init_python\"><img src=\"https://dfedorov.spb.ru/pandas/logo-telegram.png\" width=\"35\" height=\"35\" alt=\"telegram\" align=\"left\"></a>"
   ]
  },
  {
   "cell_type": "markdown",
   "metadata": {},
   "source": [
    "<a href=\"https://colab.research.google.com/github/dm-fedorov/pandas_basic/blob/master/быстрое%20введение%20в%20pandas/Создание%20простых%20сводных%20таблиц%20в%20pandas%20с%20помощью%20sidetable.ipynb\"><img align=\"left\" src=\"https://colab.research.google.com/assets/colab-badge.svg\" alt=\"Open in Colab\" title=\"Open and Execute in Google Colaboratory\" target=\"_blank\"></a>"
   ]
  },
  {
   "cell_type": "markdown",
   "metadata": {},
   "source": [
    "Крис Моффитт, редактор [сайта](https://pbpython.com/sidetable.html) об автоматизации бизнес-задач на Python, разработал модуль [sidetable](https://github.com/chris1610/sidetable).\n",
    "\n",
    "Со слов автора новый модуль расширяет возможности [`value_counts()`](https://pandas.pydata.org/pandas-docs/stable/reference/api/pandas.Series.value_counts.html) и использует [`API pandas`](https://pandas.pydata.org/docs/reference/api/pandas.api.extensions.register_dataframe_accessor.html) для регистрации собственных методов.\n",
    "\n",
    "Давайте разбираться, как он работает.\n",
    "\n",
    "Для начала установим модуль:"
   ]
  },
  {
   "cell_type": "code",
   "execution_count": null,
   "metadata": {},
   "outputs": [],
   "source": [
    "#!pip3 install sidetable"
   ]
  },
  {
   "cell_type": "markdown",
   "metadata": {},
   "source": [
    "Рассмотрим пример с [грантами для школ США](https://catalog.data.gov/dataset/school-improvement-2010-grants), если кратко: Конгресс еще при Обаме выделил 4 миллиарда у.е. для реформы образования, для получения гранта школе надо выбрать одну из моделей реформирования (`Model Selected`)."
   ]
  },
  {
   "cell_type": "markdown",
   "metadata": {},
   "source": [
    "Начинаем, как обычно, с импорта модулей:"
   ]
  },
  {
   "cell_type": "code",
   "execution_count": null,
   "metadata": {},
   "outputs": [],
   "source": [
    "import pandas as pd\n",
    "import sidetable"
   ]
  },
  {
   "cell_type": "code",
   "execution_count": null,
   "metadata": {},
   "outputs": [],
   "source": [
    "df = pd.read_csv('https://github.com/chris1610/pbpython/blob/master/data/school_transform.csv?raw=True', index_col=0)\n",
    "df.head()"
   ]
  },
  {
   "cell_type": "markdown",
   "metadata": {},
   "source": [
    "В результате импорта модуля `sidetable` у `DataFrame` появился новый метод `stb`.\n",
    "\n",
    "Вызов `stb.freq()` позволяет построить сводную таблицу частот по штатам:"
   ]
  },
  {
   "cell_type": "code",
   "execution_count": null,
   "metadata": {},
   "outputs": [],
   "source": [
    "df.stb.freq(['State']).head()"
   ]
  },
  {
   "cell_type": "markdown",
   "metadata": {},
   "source": [
    "Этот пример показывает, что `CA` (California) встречается 92 раза и составляет `12,15%` от общего количества школ. Если включить в подсчеты `FL` (Florida), то будет 163 школы, что составляет `21,5%` от общего числа школ, участвующих в грантах.\n",
    "\n",
    "Можно сравнить этот результат с выводом стандартного метода [`value_counts()`](https://pandas.pydata.org/pandas-docs/stable/reference/api/pandas.Series.value_counts.html). \n",
    "\n",
    "При установке `normalize` в `True` возвращаемый объект будет содержать относительные частоты уникальных значений:"
   ]
  },
  {
   "cell_type": "code",
   "execution_count": null,
   "metadata": {},
   "outputs": [],
   "source": [
    "df['State'].value_counts(normalize=True)[:10]"
   ]
  },
  {
   "cell_type": "markdown",
   "metadata": {},
   "source": [
    "Хм... разница заметна, даже невооруженным глазом.\n",
    "\n",
    "Можно составить список штатов, которые составляют около `50%` от общего числа с помощью аргумента `thresh` (рус. «молотить») и сгруппировать все остальные штаты в категорию `Others`:"
   ]
  },
  {
   "cell_type": "code",
   "execution_count": null,
   "metadata": {},
   "outputs": [],
   "source": [
    "df.stb.freq(['State'], thresh=50)"
   ]
  },
  {
   "cell_type": "markdown",
   "metadata": {},
   "source": [
    "Теперь видим, что 8 штатов составляют практически `50%` от общего количества.\n",
    "\n",
    "Можем для симпатичности переименовать категорию `Others`, используя ключевой аргумент `other_label`:"
   ]
  },
  {
   "cell_type": "code",
   "execution_count": null,
   "metadata": {},
   "outputs": [],
   "source": [
    "df.stb.freq(['State'], thresh=50, other_label='Остальные штаты')"
   ]
  },
  {
   "cell_type": "markdown",
   "metadata": {},
   "source": [
    "`sidetable` позволяет группировать столбцы для лучшего понимания распределения. \n",
    "\n",
    "Посмотрим, как различные *Модели трансформации* (`Model Selected`) применяются в разных регионах?"
   ]
  },
  {
   "cell_type": "code",
   "execution_count": null,
   "metadata": {},
   "outputs": [],
   "source": [
    "df.stb.freq(['Region', 'Model Selected'])"
   ]
  },
  {
   "cell_type": "markdown",
   "metadata": {},
   "source": [
    "`sidetable` позволяет передавать значение `value`, по которому можно суммировать (вместо подсчета вхождений)."
   ]
  },
  {
   "cell_type": "code",
   "execution_count": null,
   "metadata": {},
   "outputs": [],
   "source": [
    "df.stb.freq(['Region'], value='Award_Amount')"
   ]
  },
  {
   "cell_type": "markdown",
   "metadata": {},
   "source": [
    "Узнали, что `Northeast` (Северо-Восток) затратил наименьшее количество средств на реформу, а `37%` от общих расходов было потрачено на школы в `South` (Южном) регионе.\n",
    "\n",
    "Посмотрим на типы выбранных моделей и определим разбиение `80/20` для выделенных средств:"
   ]
  },
  {
   "cell_type": "code",
   "execution_count": null,
   "metadata": {},
   "outputs": [],
   "source": [
    "df.stb.freq(['Region', 'Model Selected'],\n",
    "            value='Award_Amount', \n",
    "            thresh=82,\n",
    "            other_label='Remaining')"
   ]
  },
  {
   "cell_type": "markdown",
   "metadata": {},
   "source": [
    "Можем сравнить с кросс-таблицей [`crosstab`](https://pbpython.com/pandas-crosstab.html) в pandas:"
   ]
  },
  {
   "cell_type": "code",
   "execution_count": null,
   "metadata": {},
   "outputs": [],
   "source": [
    "pd.crosstab(df['Region'],\n",
    "            df['Model Selected'], \n",
    "            values=df['Award_Amount'],\n",
    "            aggfunc='sum')"
   ]
  },
  {
   "cell_type": "markdown",
   "metadata": {},
   "source": [
    "Сравните с:"
   ]
  },
  {
   "cell_type": "code",
   "execution_count": null,
   "metadata": {},
   "outputs": [],
   "source": [
    "df.stb.freq(['Region', 'Model Selected'], \n",
    "            value='Award_Amount')"
   ]
  },
  {
   "cell_type": "markdown",
   "metadata": {},
   "source": [
    "Можно улучшить [читабельность данных](https://pbpython.com/styling-pandas.html) в pandas за счет добавления форматирования столбцов `Percentage` и `Amount`. \n",
    "\n",
    "Укажем для этого ключевой аргумент `style=True`:"
   ]
  },
  {
   "cell_type": "code",
   "execution_count": null,
   "metadata": {},
   "outputs": [],
   "source": [
    "df.stb.freq(['Region'], value='Award_Amount', style=True)"
   ]
  },
  {
   "cell_type": "markdown",
   "metadata": {},
   "source": [
    "Пример построения таблицы пропущенных значений:"
   ]
  },
  {
   "cell_type": "code",
   "execution_count": null,
   "metadata": {},
   "outputs": [],
   "source": [
    "df.stb.missing()"
   ]
  },
  {
   "cell_type": "markdown",
   "metadata": {},
   "source": [
    "Видим 10 пропущенных значений в столбце `Region`, что составляет чуть менее `1,3%` от общего значения в этом столбце.\n",
    "\n",
    "Похожий результат можно получить с помощью [`info()`](https://pandas.pydata.org/pandas-docs/stable/reference/api/pandas.DataFrame.info.html):"
   ]
  },
  {
   "cell_type": "code",
   "execution_count": null,
   "metadata": {},
   "outputs": [],
   "source": [
    "df.info()"
   ]
  },
  {
   "cell_type": "markdown",
   "metadata": {},
   "source": [
    "[Ссылка](https://github.com/chris1610/sidetable/blob/master/README.md) на остальную документацию для модуля `sidetable`.\n",
    "\n",
    "Для визуализации пропущенных значений см. модуль [`missingno`](https://github.com/ResidentMario/missingno)."
   ]
  },
  {
   "cell_type": "markdown",
   "metadata": {},
   "source": [
    "<a href=\"https://t.me/init_python\"><img src=\"https://dfedorov.spb.ru/pandas/logo-telegram.png\" width=\"35\" height=\"35\" alt=\"telegram\" align=\"left\"></a>"
   ]
  },
  {
   "cell_type": "code",
   "execution_count": null,
   "metadata": {},
   "outputs": [],
   "source": []
  }
 ],
 "metadata": {
  "kernelspec": {
   "display_name": "Python 3",
   "language": "python",
   "name": "python3"
  },
  "language_info": {
   "codemirror_mode": {
    "name": "ipython",
    "version": 3
   },
   "file_extension": ".py",
   "mimetype": "text/x-python",
   "name": "python",
   "nbconvert_exporter": "python",
   "pygments_lexer": "ipython3",
   "version": "3.8.3"
  },
  "widgets": {
   "application/vnd.jupyter.widget-state+json": {
    "state": {},
    "version_major": 2,
    "version_minor": 0
   }
  }
 },
 "nbformat": 4,
 "nbformat_minor": 4
}
