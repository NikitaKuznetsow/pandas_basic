{
 "cells": [
  {
   "cell_type": "markdown",
   "metadata": {},
   "source": [
    "# Excel функции Filter и Edit, продемонстрированные в Pandas"
   ]
  },
  {
   "cell_type": "markdown",
   "metadata": {},
   "source": [
    "<a href=\"https://colab.research.google.com/github/dm-fedorov/pandas_basic/blob/master/быстрое%20введение%20в%20pandas/Excel%20функции%20Filter%20и%20Edit%2C%20продемонстрированные%20в%20Pandas.ipynb\"><img align=\"left\" src=\"https://colab.research.google.com/assets/colab-badge.svg\" alt=\"Open in Colab\" title=\"Open and Execute in Google Colaboratory\" target=\"_blank\"></a>"
   ]
  },
  {
   "cell_type": "markdown",
   "metadata": {},
   "source": [
    "## Введение\n",
    "\n",
    "Я слышал от разных людей, что мои предыдущие статьи ([тут](линк1) и [тут](линк2)) об общих задачах Excel в pandas оказались полезными. В этой статье мы продолжим эту традицию, проиллюстрировав различные примеры индексирования pandas с использованием Excel функции `Filter` в качестве модели для понимания процесса.\n",
    "\n",
    "> Оригинал статьи Криса [здесь](https://pbpython.com/excel-filter-edit.html)\n",
    "\n",
    "Одна из первых вещей, которую изучает большинство новых пользователей pandas, - это фильтрация данных. Несмотря на то, что я работал с pandas в течение последних нескольких месяцев, недавно я понял, что у подхода к фильтрации pandas есть еще одно преимущество, которое я не использовал в повседневной работе: вы можете фильтровать по заданному набору столбцов, но обновлять другой набор столбцов, используя упрощенный синтаксис pandas. Это похоже на то, что я называю процессом \"Фильтрация и редактирование\" в Excel.\n",
    "\n",
    "В этой статье будут рассмотрены некоторые примеры фильтрации `DataFrame` и обновления данных на основе различных критериев. Попутно я объясню еще кое-что об индексировании pandas и о том, как использовать такие методы индексирования, как `.loc` и `.iloc`, для быстрого и легкого обновления подмножества данных на основе простых или сложных критериев."
   ]
  },
  {
   "cell_type": "markdown",
   "metadata": {},
   "source": [
    "## Excel: \"Фильтрация и редактирование\"\n",
    "\n",
    "Помимо `Pivot Table` (сводной таблицы), одним из самых популярных инструментов в Excel является `Filter`. Этот простой инструмент позволяет быстро фильтровать и сортировать данные по различным числовым, текстовым критериям и критериям форматирования. \n",
    "\n",
    "Вот снимок экрана с некоторыми образцами, отфильтрованными по нескольким критериям:\n",
    "\n",
    "![](https://github.com/dm-fedorov/pandas_basic/blob/master/pic/filter-example.png?raw=True)\n",
    "\n",
    "Процесс фильтрации интуитивно понятен даже начинающему пользователю Excel. Я также заметил, что люди используют эту функцию для выбора строк данных, а затем обновляют дополнительные столбцы на основе критериев строки. Пример ниже показывает, что я имею в виду:\n",
    "\n",
    "![](https://github.com/dm-fedorov/pandas_basic/blob/master/pic/commission-example.png?raw=True)\n",
    "\n",
    "В этом примере я отфильтровал данные по `Account Number` (номеру счета), `SKU` (артикулу) и `Unit Price` (цене за единицу). Затем я вручную добавил столбец `Commission_Rate` и ввел `0.01` в каждую ячейку. Преимущество этого подхода заключается в том, что его легко понять и он может помочь управлять относительно сложными данными без написания длинных формул Excel или использования VBA. Обратной стороной этого подхода является то, что он не воспроизводится, и извне может быть сложно понять, какие критерии использовались для фильтра.\n",
    "\n",
    "Например, если вы посмотрите на скриншот, нет очевидного способа узнать, что отфильтровано, не глядя на каждый столбец. К счастью, мы можем сделать нечто очень похожее в pandas. "
   ]
  },
  {
   "cell_type": "markdown",
   "metadata": {},
   "source": [
    "## Логическое индексирование\n",
    "\n",
    "Теперь, когда вы понимаете проблему, я хочу подробно рассказать о *логической индексации* (`boolean indexing`) в pandas. Это важная концепция, которую нужно понять, если вы хотите разобраться с [индексированием и выбором данных](https://pandas.pydata.org/pandas-docs/stable/user_guide/indexing.html) в pandas. Эта идея может показаться сложной для начинающего пользователя (и, возможно, слишком простой для опытных), но я думаю, важно потратить некоторое время на ее понимание. Если вы усвоите эту концепцию, то основной процесс работы с данными в pandas упростится.\n",
    "\n",
    "Pandas поддерживает индексацию (или выбор данных) с помощью меток (labels), целых чисел на основе позиции или списка логических значений (`True`/`False`). Использование списка логических значений для выбора строки называется *логическим индексированием* (`boolean indexing`), и ему будет уделено внимание в остальной части этой статьи.\n",
    "\n",
    "Я обнаружил, что мой рабочий процесс, как правило, сосредоточен на использовании списков логических значений для выбора данных. Другими словами, когда я создаю `DataFrames`, я стараюсь сохранить в нем индекс по умолчанию. \n",
    "\n",
    "> Логическая индексация (`boolean indexing`) - это один из нескольких мощных и полезных способов выбора строк данных в pandas.\n",
    "\n",
    "Давайте посмотрим на несколько примеров `DataFrames`, чтобы прояснить, что делает логический индекс в pandas.\n",
    "\n",
    "Во-первых, создадим `DataFrame` из списка Python:"
   ]
  },
  {
   "cell_type": "code",
   "execution_count": 1,
   "metadata": {},
   "outputs": [
    {
     "data": {
      "text/html": [
       "<div>\n",
       "<style scoped>\n",
       "    .dataframe tbody tr th:only-of-type {\n",
       "        vertical-align: middle;\n",
       "    }\n",
       "\n",
       "    .dataframe tbody tr th {\n",
       "        vertical-align: top;\n",
       "    }\n",
       "\n",
       "    .dataframe thead th {\n",
       "        text-align: right;\n",
       "    }\n",
       "</style>\n",
       "<table border=\"1\" class=\"dataframe\">\n",
       "  <thead>\n",
       "    <tr style=\"text-align: right;\">\n",
       "      <th></th>\n",
       "      <th>account</th>\n",
       "      <th>Total Sales</th>\n",
       "      <th>Country</th>\n",
       "    </tr>\n",
       "  </thead>\n",
       "  <tbody>\n",
       "    <tr>\n",
       "      <th>0</th>\n",
       "      <td>Jones LLC</td>\n",
       "      <td>150</td>\n",
       "      <td>US</td>\n",
       "    </tr>\n",
       "    <tr>\n",
       "      <th>1</th>\n",
       "      <td>Alpha Co</td>\n",
       "      <td>200</td>\n",
       "      <td>UK</td>\n",
       "    </tr>\n",
       "    <tr>\n",
       "      <th>2</th>\n",
       "      <td>Blue Inc</td>\n",
       "      <td>75</td>\n",
       "      <td>US</td>\n",
       "    </tr>\n",
       "    <tr>\n",
       "      <th>3</th>\n",
       "      <td>Mega Corp</td>\n",
       "      <td>300</td>\n",
       "      <td>US</td>\n",
       "    </tr>\n",
       "  </tbody>\n",
       "</table>\n",
       "</div>"
      ],
      "text/plain": [
       "     account  Total Sales Country\n",
       "0  Jones LLC          150      US\n",
       "1   Alpha Co          200      UK\n",
       "2   Blue Inc           75      US\n",
       "3  Mega Corp          300      US"
      ]
     },
     "execution_count": 1,
     "metadata": {},
     "output_type": "execute_result"
    }
   ],
   "source": [
    "import pandas as pd\n",
    "import collections\n",
    "\n",
    "sales = [('account', ['Jones LLC', 'Alpha Co', 'Blue Inc', 'Mega Corp']),\n",
    "         ('Total Sales', [150, 200, 75, 300]),\n",
    "         ('Country', ['US', 'UK', 'US', 'US'])]\n",
    "\n",
    "# https://github.com/pandas-dev/pandas/issues/21850\n",
    "df = pd.DataFrame.from_dict(collections.OrderedDict(sales))\n",
    "df"
   ]
  },
  {
   "cell_type": "markdown",
   "metadata": {},
   "source": [
    "Обратите внимание, как значения `0-3` автоматически присваиваются строкам. Это индексы, и они не имеют особого значения в этом наборе данных, но полезны для pandas.\n",
    "\n",
    "Когда мы говорим о логической индексации, то имеем в виду, что можем передать список значений из `True` или `False`, представляющих каждую строку, которую мы хотим посмотреть.\n",
    "\n",
    "Если хотим посмотреть данные для `Jones LLC`, `Blue Inc` и `Mega Corp`, то список `True` и `False` будет выглядеть следующим образом:"
   ]
  },
  {
   "cell_type": "code",
   "execution_count": 2,
   "metadata": {},
   "outputs": [],
   "source": [
    "indices = [True, False, True, True]"
   ]
  },
  {
   "cell_type": "markdown",
   "metadata": {},
   "source": [
    "Неудивительно, что вы можете передать этот список в `DataFrame`, и он будет отображать только те строки, в которых значение равно `True`:"
   ]
  },
  {
   "cell_type": "code",
   "execution_count": 3,
   "metadata": {},
   "outputs": [
    {
     "data": {
      "text/html": [
       "<div>\n",
       "<style scoped>\n",
       "    .dataframe tbody tr th:only-of-type {\n",
       "        vertical-align: middle;\n",
       "    }\n",
       "\n",
       "    .dataframe tbody tr th {\n",
       "        vertical-align: top;\n",
       "    }\n",
       "\n",
       "    .dataframe thead th {\n",
       "        text-align: right;\n",
       "    }\n",
       "</style>\n",
       "<table border=\"1\" class=\"dataframe\">\n",
       "  <thead>\n",
       "    <tr style=\"text-align: right;\">\n",
       "      <th></th>\n",
       "      <th>account</th>\n",
       "      <th>Total Sales</th>\n",
       "      <th>Country</th>\n",
       "    </tr>\n",
       "  </thead>\n",
       "  <tbody>\n",
       "    <tr>\n",
       "      <th>0</th>\n",
       "      <td>Jones LLC</td>\n",
       "      <td>150</td>\n",
       "      <td>US</td>\n",
       "    </tr>\n",
       "    <tr>\n",
       "      <th>2</th>\n",
       "      <td>Blue Inc</td>\n",
       "      <td>75</td>\n",
       "      <td>US</td>\n",
       "    </tr>\n",
       "    <tr>\n",
       "      <th>3</th>\n",
       "      <td>Mega Corp</td>\n",
       "      <td>300</td>\n",
       "      <td>US</td>\n",
       "    </tr>\n",
       "  </tbody>\n",
       "</table>\n",
       "</div>"
      ],
      "text/plain": [
       "     account  Total Sales Country\n",
       "0  Jones LLC          150      US\n",
       "2   Blue Inc           75      US\n",
       "3  Mega Corp          300      US"
      ]
     },
     "execution_count": 3,
     "metadata": {},
     "output_type": "execute_result"
    }
   ],
   "source": [
    "df[indices]"
   ]
  },
  {
   "cell_type": "markdown",
   "metadata": {},
   "source": [
    "Вот визуальное изображение того, что произошло:\n",
    "\n",
    "![](https://github.com/dm-fedorov/pandas_basic/blob/master/pic/Boolean-Indexing-Example.png?raw=True)\n",
    "\n",
    "Ручное создание списка индекса работает, но, очевидно, не масштабируется и не очень полезно для чего-либо, кроме тривиального набора данных. К счастью, pandas позволяет очень легко создавать логические индексы, используя простой язык запросов, который должен быть знаком тем, кто использовал Python (или любой другой язык в этом отношении).\n",
    "\n",
    "Для примера рассмотрим все линии продаж из США:"
   ]
  },
  {
   "cell_type": "code",
   "execution_count": 4,
   "metadata": {},
   "outputs": [
    {
     "data": {
      "text/plain": [
       "0     True\n",
       "1    False\n",
       "2     True\n",
       "3     True\n",
       "Name: Country, dtype: bool"
      ]
     },
     "execution_count": 4,
     "metadata": {},
     "output_type": "execute_result"
    }
   ],
   "source": [
    "df.Country == 'US'"
   ]
  },
  {
   "cell_type": "markdown",
   "metadata": {},
   "source": [
    "В примере показано, как pandas возьмет вашу традиционную логику Python, применит ее к `DataFrame` и вернет список логических значений. Этот список логических значений затем может быть передан в `DataFrame` для получения соответствующих строк данных.\n",
    "\n",
    "В реальном коде вы бы не стали выполнять этот двухэтапный процесс. \n",
    "\n",
    "Сокращенный вызов выглядит так:"
   ]
  },
  {
   "cell_type": "code",
   "execution_count": 5,
   "metadata": {},
   "outputs": [
    {
     "data": {
      "text/html": [
       "<div>\n",
       "<style scoped>\n",
       "    .dataframe tbody tr th:only-of-type {\n",
       "        vertical-align: middle;\n",
       "    }\n",
       "\n",
       "    .dataframe tbody tr th {\n",
       "        vertical-align: top;\n",
       "    }\n",
       "\n",
       "    .dataframe thead th {\n",
       "        text-align: right;\n",
       "    }\n",
       "</style>\n",
       "<table border=\"1\" class=\"dataframe\">\n",
       "  <thead>\n",
       "    <tr style=\"text-align: right;\">\n",
       "      <th></th>\n",
       "      <th>account</th>\n",
       "      <th>Total Sales</th>\n",
       "      <th>Country</th>\n",
       "    </tr>\n",
       "  </thead>\n",
       "  <tbody>\n",
       "    <tr>\n",
       "      <th>0</th>\n",
       "      <td>Jones LLC</td>\n",
       "      <td>150</td>\n",
       "      <td>US</td>\n",
       "    </tr>\n",
       "    <tr>\n",
       "      <th>2</th>\n",
       "      <td>Blue Inc</td>\n",
       "      <td>75</td>\n",
       "      <td>US</td>\n",
       "    </tr>\n",
       "    <tr>\n",
       "      <th>3</th>\n",
       "      <td>Mega Corp</td>\n",
       "      <td>300</td>\n",
       "      <td>US</td>\n",
       "    </tr>\n",
       "  </tbody>\n",
       "</table>\n",
       "</div>"
      ],
      "text/plain": [
       "     account  Total Sales Country\n",
       "0  Jones LLC          150      US\n",
       "2   Blue Inc           75      US\n",
       "3  Mega Corp          300      US"
      ]
     },
     "execution_count": 5,
     "metadata": {},
     "output_type": "execute_result"
    }
   ],
   "source": [
    "df[df[\"Country\"] == 'US']"
   ]
  },
  {
   "cell_type": "markdown",
   "metadata": {},
   "source": [
    "Хотя эта концепция проста, но вы можете написать довольно сложную логику для фильтрации данных, используя возможности Python.\n",
    "\n",
    "> В этом примере `df[df.Country == 'US']` эквивалентно `df[df[\"Country\"] == 'US']`. Обозначение `.` более чистое, но не будет работать, если в имени столбца присутствуют пробелы.\n",
    "\n",
    "## Выбор столбцов\n",
    "\n",
    "Теперь, когда мы выяснили, как выбирать строки данных, как мы можем контролировать, какие столбцы отображать. В приведенном выше примере нет очевидного способа сделать это. Pandas может поддерживать этот вариант, используя два типа индексации на основе местоположения: `.loc` и `.iloc`. Эти функции также позволяют нам выбирать столбцы в дополнение к выбору строк, который мы видели до сих пор.\n",
    "\n",
    "Существует много недоразумений относительно того, когда использовать `.loc` или `iloc`. Краткое описание различий заключается в следующем:\n",
    "\n",
    "- `.loc` используется для индексации меток\n",
    "- `.iloc` используется для целых чисел на основе позиции\n",
    "\n",
    "Итак, вопрос в том, какой из них использовать? Признаю, что я тоже несколько раз спотыкался на этом. Я обнаружил, что чаще всего использую `.loc`. В основном потому, что мои данные не поддаются осмысленной индексации на основе позиции (другими словами, мне редко нужен `.iloc`), поэтому я придерживаюсь `.loc`.\n",
    "\n",
    "Честно говоря, у каждого из этих методов есть свое место и они полезны во многих ситуациях. Одна из областей, в частности, связана с иерархической индексацией (`MultiIndex`) `DataFrames`. \n",
    "\n",
    "Теперь, когда мы рассмотрели эту тему, давайте покажем, как фильтровать `DataFrame` по значениям в строке и выбирать определенные столбцы для отображения.\n",
    "\n",
    "Продолжая пример, что, если мы просто хотим показать имена учетных записей (`account`), которые соответствуют нашему индексу? \n",
    "\n",
    "Используя `.loc`, это просто:"
   ]
  },
  {
   "cell_type": "code",
   "execution_count": 6,
   "metadata": {},
   "outputs": [
    {
     "data": {
      "text/plain": [
       "0    Jones LLC\n",
       "1     Alpha Co\n",
       "3    Mega Corp\n",
       "Name: account, dtype: object"
      ]
     },
     "execution_count": 6,
     "metadata": {},
     "output_type": "execute_result"
    }
   ],
   "source": [
    "df.loc[[True, True, False, True], \"account\"]"
   ]
  },
  {
   "cell_type": "markdown",
   "metadata": {},
   "source": [
    "Если вы хотите видеть несколько столбцов, просто передайте список:"
   ]
  },
  {
   "cell_type": "code",
   "execution_count": 7,
   "metadata": {},
   "outputs": [
    {
     "data": {
      "text/html": [
       "<div>\n",
       "<style scoped>\n",
       "    .dataframe tbody tr th:only-of-type {\n",
       "        vertical-align: middle;\n",
       "    }\n",
       "\n",
       "    .dataframe tbody tr th {\n",
       "        vertical-align: top;\n",
       "    }\n",
       "\n",
       "    .dataframe thead th {\n",
       "        text-align: right;\n",
       "    }\n",
       "</style>\n",
       "<table border=\"1\" class=\"dataframe\">\n",
       "  <thead>\n",
       "    <tr style=\"text-align: right;\">\n",
       "      <th></th>\n",
       "      <th>account</th>\n",
       "      <th>Country</th>\n",
       "    </tr>\n",
       "  </thead>\n",
       "  <tbody>\n",
       "    <tr>\n",
       "      <th>0</th>\n",
       "      <td>Jones LLC</td>\n",
       "      <td>US</td>\n",
       "    </tr>\n",
       "    <tr>\n",
       "      <th>1</th>\n",
       "      <td>Alpha Co</td>\n",
       "      <td>UK</td>\n",
       "    </tr>\n",
       "    <tr>\n",
       "      <th>3</th>\n",
       "      <td>Mega Corp</td>\n",
       "      <td>US</td>\n",
       "    </tr>\n",
       "  </tbody>\n",
       "</table>\n",
       "</div>"
      ],
      "text/plain": [
       "     account Country\n",
       "0  Jones LLC      US\n",
       "1   Alpha Co      UK\n",
       "3  Mega Corp      US"
      ]
     },
     "execution_count": 7,
     "metadata": {},
     "output_type": "execute_result"
    }
   ],
   "source": [
    "df.loc[[True, True, False, True], [\"account\", \"Country\"]]"
   ]
  },
  {
   "cell_type": "markdown",
   "metadata": {},
   "source": [
    "Настоящая сила - это когда вы создаете более сложные запросы к своим данным. В этом случае давайте покажем все названия аккаунтов (`account`) и страны (`Country`), где продажи `(Total Sales) > 200`:"
   ]
  },
  {
   "cell_type": "code",
   "execution_count": 8,
   "metadata": {},
   "outputs": [
    {
     "data": {
      "text/html": [
       "<div>\n",
       "<style scoped>\n",
       "    .dataframe tbody tr th:only-of-type {\n",
       "        vertical-align: middle;\n",
       "    }\n",
       "\n",
       "    .dataframe tbody tr th {\n",
       "        vertical-align: top;\n",
       "    }\n",
       "\n",
       "    .dataframe thead th {\n",
       "        text-align: right;\n",
       "    }\n",
       "</style>\n",
       "<table border=\"1\" class=\"dataframe\">\n",
       "  <thead>\n",
       "    <tr style=\"text-align: right;\">\n",
       "      <th></th>\n",
       "      <th>account</th>\n",
       "      <th>Country</th>\n",
       "    </tr>\n",
       "  </thead>\n",
       "  <tbody>\n",
       "    <tr>\n",
       "      <th>3</th>\n",
       "      <td>Mega Corp</td>\n",
       "      <td>US</td>\n",
       "    </tr>\n",
       "  </tbody>\n",
       "</table>\n",
       "</div>"
      ],
      "text/plain": [
       "     account Country\n",
       "3  Mega Corp      US"
      ]
     },
     "execution_count": 8,
     "metadata": {},
     "output_type": "execute_result"
    }
   ],
   "source": [
    "df.loc[df[\"Total Sales\"] > 200, [\"account\", \"Country\"]]"
   ]
  },
  {
   "cell_type": "markdown",
   "metadata": {},
   "source": [
    "Этот процесс можно сравнить с фильтром Excel, который мы обсуждали выше. У вас есть дополнительное преимущество: вы также можете ограничить количество извлекаемых столбцов, а не только строк.\n",
    "\n",
    "## Редактирование столбцов\n",
    "\n",
    "Все это хорошая основа, но где этот процесс действительно проявляется, так это когда вы используете аналогичный подход для обновления одного или нескольких столбцов на основе выбора строки.\n",
    "\n",
    "В качестве простого примера давайте добавим к нашим данным столбец `rate` (ставка комиссионного вознаграждения):"
   ]
  },
  {
   "cell_type": "code",
   "execution_count": 9,
   "metadata": {},
   "outputs": [
    {
     "data": {
      "text/html": [
       "<div>\n",
       "<style scoped>\n",
       "    .dataframe tbody tr th:only-of-type {\n",
       "        vertical-align: middle;\n",
       "    }\n",
       "\n",
       "    .dataframe tbody tr th {\n",
       "        vertical-align: top;\n",
       "    }\n",
       "\n",
       "    .dataframe thead th {\n",
       "        text-align: right;\n",
       "    }\n",
       "</style>\n",
       "<table border=\"1\" class=\"dataframe\">\n",
       "  <thead>\n",
       "    <tr style=\"text-align: right;\">\n",
       "      <th></th>\n",
       "      <th>account</th>\n",
       "      <th>Total Sales</th>\n",
       "      <th>Country</th>\n",
       "      <th>rate</th>\n",
       "    </tr>\n",
       "  </thead>\n",
       "  <tbody>\n",
       "    <tr>\n",
       "      <th>0</th>\n",
       "      <td>Jones LLC</td>\n",
       "      <td>150</td>\n",
       "      <td>US</td>\n",
       "      <td>0.02</td>\n",
       "    </tr>\n",
       "    <tr>\n",
       "      <th>1</th>\n",
       "      <td>Alpha Co</td>\n",
       "      <td>200</td>\n",
       "      <td>UK</td>\n",
       "      <td>0.02</td>\n",
       "    </tr>\n",
       "    <tr>\n",
       "      <th>2</th>\n",
       "      <td>Blue Inc</td>\n",
       "      <td>75</td>\n",
       "      <td>US</td>\n",
       "      <td>0.02</td>\n",
       "    </tr>\n",
       "    <tr>\n",
       "      <th>3</th>\n",
       "      <td>Mega Corp</td>\n",
       "      <td>300</td>\n",
       "      <td>US</td>\n",
       "      <td>0.02</td>\n",
       "    </tr>\n",
       "  </tbody>\n",
       "</table>\n",
       "</div>"
      ],
      "text/plain": [
       "     account  Total Sales Country  rate\n",
       "0  Jones LLC          150      US  0.02\n",
       "1   Alpha Co          200      UK  0.02\n",
       "2   Blue Inc           75      US  0.02\n",
       "3  Mega Corp          300      US  0.02"
      ]
     },
     "execution_count": 9,
     "metadata": {},
     "output_type": "execute_result"
    }
   ],
   "source": [
    "df[\"rate\"] = 0.02\n",
    "df"
   ]
  },
  {
   "cell_type": "markdown",
   "metadata": {},
   "source": [
    "Допустим, если вы продали более `100`, ваша ставка составит `5%`. \n",
    "\n",
    "Основная задача - установить логический индекс для выбора столбцов, а затем присвоить значение столбцу `rate`:"
   ]
  },
  {
   "cell_type": "code",
   "execution_count": 10,
   "metadata": {},
   "outputs": [
    {
     "data": {
      "text/html": [
       "<div>\n",
       "<style scoped>\n",
       "    .dataframe tbody tr th:only-of-type {\n",
       "        vertical-align: middle;\n",
       "    }\n",
       "\n",
       "    .dataframe tbody tr th {\n",
       "        vertical-align: top;\n",
       "    }\n",
       "\n",
       "    .dataframe thead th {\n",
       "        text-align: right;\n",
       "    }\n",
       "</style>\n",
       "<table border=\"1\" class=\"dataframe\">\n",
       "  <thead>\n",
       "    <tr style=\"text-align: right;\">\n",
       "      <th></th>\n",
       "      <th>account</th>\n",
       "      <th>Total Sales</th>\n",
       "      <th>Country</th>\n",
       "      <th>rate</th>\n",
       "    </tr>\n",
       "  </thead>\n",
       "  <tbody>\n",
       "    <tr>\n",
       "      <th>0</th>\n",
       "      <td>Jones LLC</td>\n",
       "      <td>150</td>\n",
       "      <td>US</td>\n",
       "      <td>0.05</td>\n",
       "    </tr>\n",
       "    <tr>\n",
       "      <th>1</th>\n",
       "      <td>Alpha Co</td>\n",
       "      <td>200</td>\n",
       "      <td>UK</td>\n",
       "      <td>0.05</td>\n",
       "    </tr>\n",
       "    <tr>\n",
       "      <th>2</th>\n",
       "      <td>Blue Inc</td>\n",
       "      <td>75</td>\n",
       "      <td>US</td>\n",
       "      <td>0.02</td>\n",
       "    </tr>\n",
       "    <tr>\n",
       "      <th>3</th>\n",
       "      <td>Mega Corp</td>\n",
       "      <td>300</td>\n",
       "      <td>US</td>\n",
       "      <td>0.05</td>\n",
       "    </tr>\n",
       "  </tbody>\n",
       "</table>\n",
       "</div>"
      ],
      "text/plain": [
       "     account  Total Sales Country  rate\n",
       "0  Jones LLC          150      US  0.05\n",
       "1   Alpha Co          200      UK  0.05\n",
       "2   Blue Inc           75      US  0.02\n",
       "3  Mega Corp          300      US  0.05"
      ]
     },
     "execution_count": 10,
     "metadata": {},
     "output_type": "execute_result"
    }
   ],
   "source": [
    "df.loc[df[\"Total Sales\"] > 100, [\"rate\"]] = .05\n",
    "df"
   ]
  },
  {
   "cell_type": "markdown",
   "metadata": {},
   "source": [
    "Надеюсь, если вы прочли эту статью, то теперь сможете понять, как работает этот синтаксис. \n",
    "\n",
    "Теперь у вас есть основы подхода \"Фильтр и редактирование\". \n",
    "\n",
    "В последнем разделе этот процесс будет более подробно показан в Excel и pandas.\n",
    "\n",
    "\n",
    "## Собираем все вместе\n",
    "\n",
    "В последнем примере мы создадим простой калькулятор комиссий, используя следующие правила.\n",
    "\n",
    "- Все комиссии рассчитываются на уровне транзакции.\n",
    "- Базовая комиссия со всех продаж составляет `2%`.\n",
    "- Все рубашки получат комиссию `2.5%`.\n",
    "- Действует специальная программа, при которой `продажа > 10 ремней` (belts) за одну транзакцию получает комиссию `4%`.\n",
    "- Существует специальный бонус в размере `250 долларов США плюс комиссия 4.5%` для всех `продаж обуви > 1000 долларов США` за одну транзакцию.\n",
    "\n",
    "Чтобы сделать это в Excel, используя подход «Фильтр и редактирование»:\n",
    "\n",
    "- Добавьте столбец комиссии с `2%`.\n",
    "- Добавьте бонусный столбец `0 долларов`.\n",
    "- Отфильтруйте рубашки и измените долей на `2.5%`.\n",
    "- Очистить фильтр.\n",
    "- Отфильтруйте ремни (`belts`) и `количество (quantity) > 10` и измените значение на `4%`.\n",
    "- Очистить фильтр.\n",
    "- Отфильтруйте `обувь > 1000 долларов США` и добавьте комиссию и бонус в размере `4.5%` и `250 долларов США` соответственно.\n",
    "\n",
    "Я не собираюсь показывать снимки экрана каждого шага, но вот последний фильтр:\n",
    "\n",
    "![](https://pbpython.com/images/filter-2.png)\n",
    "\n",
    "Этот подход достаточно прост для манипуляций в Excel, но его нельзя повторить и проверить. Конечно, есть и другие подходы для этого в Excel - например, формулы или VBA. Однако этот подход с фильтром и редактированием является обычным и иллюстрирует логику pandas.\n",
    "\n",
    "Теперь давайте рассмотрим весь пример в pandas.\n",
    "\n",
    "Сначала прочтите Excel файл и добавьте столбец со значением по умолчанию `2%`:"
   ]
  },
  {
   "cell_type": "code",
   "execution_count": 11,
   "metadata": {},
   "outputs": [
    {
     "data": {
      "text/html": [
       "<div>\n",
       "<style scoped>\n",
       "    .dataframe tbody tr th:only-of-type {\n",
       "        vertical-align: middle;\n",
       "    }\n",
       "\n",
       "    .dataframe tbody tr th {\n",
       "        vertical-align: top;\n",
       "    }\n",
       "\n",
       "    .dataframe thead th {\n",
       "        text-align: right;\n",
       "    }\n",
       "</style>\n",
       "<table border=\"1\" class=\"dataframe\">\n",
       "  <thead>\n",
       "    <tr style=\"text-align: right;\">\n",
       "      <th></th>\n",
       "      <th>account number</th>\n",
       "      <th>customer name</th>\n",
       "      <th>sales rep</th>\n",
       "      <th>sku</th>\n",
       "      <th>category</th>\n",
       "      <th>quantity</th>\n",
       "      <th>unit price</th>\n",
       "      <th>ext price</th>\n",
       "      <th>date</th>\n",
       "      <th>commission</th>\n",
       "    </tr>\n",
       "  </thead>\n",
       "  <tbody>\n",
       "    <tr>\n",
       "      <th>0</th>\n",
       "      <td>680916</td>\n",
       "      <td>Mueller and Sons</td>\n",
       "      <td>Loring Predovic</td>\n",
       "      <td>GP-14407</td>\n",
       "      <td>Belt</td>\n",
       "      <td>19</td>\n",
       "      <td>88.49</td>\n",
       "      <td>1681.31</td>\n",
       "      <td>2015-11-17 05:58:34</td>\n",
       "      <td>0.02</td>\n",
       "    </tr>\n",
       "    <tr>\n",
       "      <th>1</th>\n",
       "      <td>680916</td>\n",
       "      <td>Mueller and Sons</td>\n",
       "      <td>Loring Predovic</td>\n",
       "      <td>FI-01804</td>\n",
       "      <td>Shirt</td>\n",
       "      <td>3</td>\n",
       "      <td>78.07</td>\n",
       "      <td>234.21</td>\n",
       "      <td>2016-02-13 04:04:11</td>\n",
       "      <td>0.02</td>\n",
       "    </tr>\n",
       "    <tr>\n",
       "      <th>2</th>\n",
       "      <td>530925</td>\n",
       "      <td>Purdy and Sons</td>\n",
       "      <td>Teagan O'Keefe</td>\n",
       "      <td>EO-54210</td>\n",
       "      <td>Shirt</td>\n",
       "      <td>19</td>\n",
       "      <td>30.21</td>\n",
       "      <td>573.99</td>\n",
       "      <td>2015-08-11 12:44:38</td>\n",
       "      <td>0.02</td>\n",
       "    </tr>\n",
       "    <tr>\n",
       "      <th>3</th>\n",
       "      <td>14406</td>\n",
       "      <td>Harber, Lubowitz and Fahey</td>\n",
       "      <td>Esequiel Schinner</td>\n",
       "      <td>NZ-99565</td>\n",
       "      <td>Shirt</td>\n",
       "      <td>12</td>\n",
       "      <td>90.29</td>\n",
       "      <td>1083.48</td>\n",
       "      <td>2016-01-23 02:15:50</td>\n",
       "      <td>0.02</td>\n",
       "    </tr>\n",
       "    <tr>\n",
       "      <th>4</th>\n",
       "      <td>398620</td>\n",
       "      <td>Brekke Ltd</td>\n",
       "      <td>Esequiel Schinner</td>\n",
       "      <td>NZ-99565</td>\n",
       "      <td>Shirt</td>\n",
       "      <td>5</td>\n",
       "      <td>72.64</td>\n",
       "      <td>363.20</td>\n",
       "      <td>2015-08-10 07:16:03</td>\n",
       "      <td>0.02</td>\n",
       "    </tr>\n",
       "  </tbody>\n",
       "</table>\n",
       "</div>"
      ],
      "text/plain": [
       "   account number               customer name          sales rep       sku  \\\n",
       "0          680916            Mueller and Sons    Loring Predovic  GP-14407   \n",
       "1          680916            Mueller and Sons    Loring Predovic  FI-01804   \n",
       "2          530925              Purdy and Sons     Teagan O'Keefe  EO-54210   \n",
       "3           14406  Harber, Lubowitz and Fahey  Esequiel Schinner  NZ-99565   \n",
       "4          398620                  Brekke Ltd  Esequiel Schinner  NZ-99565   \n",
       "\n",
       "  category  quantity  unit price  ext price                 date  commission  \n",
       "0     Belt        19       88.49    1681.31  2015-11-17 05:58:34        0.02  \n",
       "1    Shirt         3       78.07     234.21  2016-02-13 04:04:11        0.02  \n",
       "2    Shirt        19       30.21     573.99  2015-08-11 12:44:38        0.02  \n",
       "3    Shirt        12       90.29    1083.48  2016-01-23 02:15:50        0.02  \n",
       "4    Shirt         5       72.64     363.20  2015-08-10 07:16:03        0.02  "
      ]
     },
     "execution_count": 11,
     "metadata": {},
     "output_type": "execute_result"
    }
   ],
   "source": [
    "import pandas as pd\n",
    "\n",
    "df = pd.read_excel(\"https://github.com/chris1610/pbpython/blob/master/data/sample-sales-reps.xlsx?raw=true\")\n",
    "\n",
    "df[\"commission\"] = .02\n",
    "df.head()"
   ]
  },
  {
   "cell_type": "markdown",
   "metadata": {},
   "source": [
    "Следующее правило комиссии: все рубашки получают `2.5%`, а продажи `поясов > 10` получают ставку `4%`:"
   ]
  },
  {
   "cell_type": "code",
   "execution_count": 12,
   "metadata": {},
   "outputs": [
    {
     "data": {
      "text/html": [
       "<div>\n",
       "<style scoped>\n",
       "    .dataframe tbody tr th:only-of-type {\n",
       "        vertical-align: middle;\n",
       "    }\n",
       "\n",
       "    .dataframe tbody tr th {\n",
       "        vertical-align: top;\n",
       "    }\n",
       "\n",
       "    .dataframe thead th {\n",
       "        text-align: right;\n",
       "    }\n",
       "</style>\n",
       "<table border=\"1\" class=\"dataframe\">\n",
       "  <thead>\n",
       "    <tr style=\"text-align: right;\">\n",
       "      <th></th>\n",
       "      <th>account number</th>\n",
       "      <th>customer name</th>\n",
       "      <th>sales rep</th>\n",
       "      <th>sku</th>\n",
       "      <th>category</th>\n",
       "      <th>quantity</th>\n",
       "      <th>unit price</th>\n",
       "      <th>ext price</th>\n",
       "      <th>date</th>\n",
       "      <th>commission</th>\n",
       "    </tr>\n",
       "  </thead>\n",
       "  <tbody>\n",
       "    <tr>\n",
       "      <th>0</th>\n",
       "      <td>680916</td>\n",
       "      <td>Mueller and Sons</td>\n",
       "      <td>Loring Predovic</td>\n",
       "      <td>GP-14407</td>\n",
       "      <td>Belt</td>\n",
       "      <td>19</td>\n",
       "      <td>88.49</td>\n",
       "      <td>1681.31</td>\n",
       "      <td>2015-11-17 05:58:34</td>\n",
       "      <td>0.040</td>\n",
       "    </tr>\n",
       "    <tr>\n",
       "      <th>1</th>\n",
       "      <td>680916</td>\n",
       "      <td>Mueller and Sons</td>\n",
       "      <td>Loring Predovic</td>\n",
       "      <td>FI-01804</td>\n",
       "      <td>Shirt</td>\n",
       "      <td>3</td>\n",
       "      <td>78.07</td>\n",
       "      <td>234.21</td>\n",
       "      <td>2016-02-13 04:04:11</td>\n",
       "      <td>0.025</td>\n",
       "    </tr>\n",
       "    <tr>\n",
       "      <th>2</th>\n",
       "      <td>530925</td>\n",
       "      <td>Purdy and Sons</td>\n",
       "      <td>Teagan O'Keefe</td>\n",
       "      <td>EO-54210</td>\n",
       "      <td>Shirt</td>\n",
       "      <td>19</td>\n",
       "      <td>30.21</td>\n",
       "      <td>573.99</td>\n",
       "      <td>2015-08-11 12:44:38</td>\n",
       "      <td>0.025</td>\n",
       "    </tr>\n",
       "    <tr>\n",
       "      <th>3</th>\n",
       "      <td>14406</td>\n",
       "      <td>Harber, Lubowitz and Fahey</td>\n",
       "      <td>Esequiel Schinner</td>\n",
       "      <td>NZ-99565</td>\n",
       "      <td>Shirt</td>\n",
       "      <td>12</td>\n",
       "      <td>90.29</td>\n",
       "      <td>1083.48</td>\n",
       "      <td>2016-01-23 02:15:50</td>\n",
       "      <td>0.025</td>\n",
       "    </tr>\n",
       "    <tr>\n",
       "      <th>4</th>\n",
       "      <td>398620</td>\n",
       "      <td>Brekke Ltd</td>\n",
       "      <td>Esequiel Schinner</td>\n",
       "      <td>NZ-99565</td>\n",
       "      <td>Shirt</td>\n",
       "      <td>5</td>\n",
       "      <td>72.64</td>\n",
       "      <td>363.20</td>\n",
       "      <td>2015-08-10 07:16:03</td>\n",
       "      <td>0.025</td>\n",
       "    </tr>\n",
       "  </tbody>\n",
       "</table>\n",
       "</div>"
      ],
      "text/plain": [
       "   account number               customer name          sales rep       sku  \\\n",
       "0          680916            Mueller and Sons    Loring Predovic  GP-14407   \n",
       "1          680916            Mueller and Sons    Loring Predovic  FI-01804   \n",
       "2          530925              Purdy and Sons     Teagan O'Keefe  EO-54210   \n",
       "3           14406  Harber, Lubowitz and Fahey  Esequiel Schinner  NZ-99565   \n",
       "4          398620                  Brekke Ltd  Esequiel Schinner  NZ-99565   \n",
       "\n",
       "  category  quantity  unit price  ext price                 date  commission  \n",
       "0     Belt        19       88.49    1681.31  2015-11-17 05:58:34       0.040  \n",
       "1    Shirt         3       78.07     234.21  2016-02-13 04:04:11       0.025  \n",
       "2    Shirt        19       30.21     573.99  2015-08-11 12:44:38       0.025  \n",
       "3    Shirt        12       90.29    1083.48  2016-01-23 02:15:50       0.025  \n",
       "4    Shirt         5       72.64     363.20  2015-08-10 07:16:03       0.025  "
      ]
     },
     "execution_count": 12,
     "metadata": {},
     "output_type": "execute_result"
    }
   ],
   "source": [
    "df.loc[df[\"category\"] == \"Shirt\", [\"commission\"]] = .025\n",
    "df.loc[(df[\"category\"] == \"Belt\") & (df[\"quantity\"] >= 10), [\"commission\"]] = .04\n",
    "df.head()"
   ]
  },
  {
   "cell_type": "markdown",
   "metadata": {},
   "source": [
    "Последнее правило комиссии - добавить специальный бонус:"
   ]
  },
  {
   "cell_type": "code",
   "execution_count": 13,
   "metadata": {},
   "outputs": [
    {
     "data": {
      "text/html": [
       "<div>\n",
       "<style scoped>\n",
       "    .dataframe tbody tr th:only-of-type {\n",
       "        vertical-align: middle;\n",
       "    }\n",
       "\n",
       "    .dataframe tbody tr th {\n",
       "        vertical-align: top;\n",
       "    }\n",
       "\n",
       "    .dataframe thead th {\n",
       "        text-align: right;\n",
       "    }\n",
       "</style>\n",
       "<table border=\"1\" class=\"dataframe\">\n",
       "  <thead>\n",
       "    <tr style=\"text-align: right;\">\n",
       "      <th></th>\n",
       "      <th>account number</th>\n",
       "      <th>customer name</th>\n",
       "      <th>sales rep</th>\n",
       "      <th>sku</th>\n",
       "      <th>category</th>\n",
       "      <th>quantity</th>\n",
       "      <th>unit price</th>\n",
       "      <th>ext price</th>\n",
       "      <th>date</th>\n",
       "      <th>commission</th>\n",
       "      <th>bonus</th>\n",
       "    </tr>\n",
       "  </thead>\n",
       "  <tbody>\n",
       "    <tr>\n",
       "      <th>3</th>\n",
       "      <td>14406</td>\n",
       "      <td>Harber, Lubowitz and Fahey</td>\n",
       "      <td>Esequiel Schinner</td>\n",
       "      <td>NZ-99565</td>\n",
       "      <td>Shirt</td>\n",
       "      <td>12</td>\n",
       "      <td>90.29</td>\n",
       "      <td>1083.48</td>\n",
       "      <td>2016-01-23 02:15:50</td>\n",
       "      <td>0.025</td>\n",
       "      <td>0</td>\n",
       "    </tr>\n",
       "    <tr>\n",
       "      <th>4</th>\n",
       "      <td>398620</td>\n",
       "      <td>Brekke Ltd</td>\n",
       "      <td>Esequiel Schinner</td>\n",
       "      <td>NZ-99565</td>\n",
       "      <td>Shirt</td>\n",
       "      <td>5</td>\n",
       "      <td>72.64</td>\n",
       "      <td>363.20</td>\n",
       "      <td>2015-08-10 07:16:03</td>\n",
       "      <td>0.025</td>\n",
       "      <td>0</td>\n",
       "    </tr>\n",
       "    <tr>\n",
       "      <th>5</th>\n",
       "      <td>282122</td>\n",
       "      <td>Connelly, Abshire and Von</td>\n",
       "      <td>Beth Skiles</td>\n",
       "      <td>GJ-90272</td>\n",
       "      <td>Shoes</td>\n",
       "      <td>20</td>\n",
       "      <td>96.62</td>\n",
       "      <td>1932.40</td>\n",
       "      <td>2016-03-17 10:19:05</td>\n",
       "      <td>0.045</td>\n",
       "      <td>250</td>\n",
       "    </tr>\n",
       "    <tr>\n",
       "      <th>6</th>\n",
       "      <td>398620</td>\n",
       "      <td>Brekke Ltd</td>\n",
       "      <td>Esequiel Schinner</td>\n",
       "      <td>DU-87462</td>\n",
       "      <td>Shirt</td>\n",
       "      <td>10</td>\n",
       "      <td>67.64</td>\n",
       "      <td>676.40</td>\n",
       "      <td>2015-11-25 22:05:36</td>\n",
       "      <td>0.025</td>\n",
       "      <td>0</td>\n",
       "    </tr>\n",
       "  </tbody>\n",
       "</table>\n",
       "</div>"
      ],
      "text/plain": [
       "   account number               customer name          sales rep       sku  \\\n",
       "3           14406  Harber, Lubowitz and Fahey  Esequiel Schinner  NZ-99565   \n",
       "4          398620                  Brekke Ltd  Esequiel Schinner  NZ-99565   \n",
       "5          282122   Connelly, Abshire and Von        Beth Skiles  GJ-90272   \n",
       "6          398620                  Brekke Ltd  Esequiel Schinner  DU-87462   \n",
       "\n",
       "  category  quantity  unit price  ext price                 date  commission  \\\n",
       "3    Shirt        12       90.29    1083.48  2016-01-23 02:15:50       0.025   \n",
       "4    Shirt         5       72.64     363.20  2015-08-10 07:16:03       0.025   \n",
       "5    Shoes        20       96.62    1932.40  2016-03-17 10:19:05       0.045   \n",
       "6    Shirt        10       67.64     676.40  2015-11-25 22:05:36       0.025   \n",
       "\n",
       "   bonus  \n",
       "3      0  \n",
       "4      0  \n",
       "5    250  \n",
       "6      0  "
      ]
     },
     "execution_count": 13,
     "metadata": {},
     "output_type": "execute_result"
    }
   ],
   "source": [
    "df[\"bonus\"] = 0\n",
    "df.loc[(df[\"category\"] == \"Shoes\") & (df[\"ext price\"] >= 1000 ), [\"bonus\", \"commission\"]] = (250, 0.045)\n",
    "\n",
    "# Показать образец строк, показывающих этот бонус:\n",
    "df.iloc[3:7]"
   ]
  },
  {
   "cell_type": "markdown",
   "metadata": {},
   "source": [
    "Для расчета комиссионных:"
   ]
  },
  {
   "cell_type": "code",
   "execution_count": 14,
   "metadata": {},
   "outputs": [
    {
     "data": {
      "text/plain": [
       "sales rep\n",
       "Ansley Cummings       2169.76\n",
       "Beth Skiles           3028.60\n",
       "Esequiel Schinner    10451.21\n",
       "Loring Predovic      10108.60\n",
       "Shannen Hudson        5275.66\n",
       "Teagan O'Keefe        7989.52\n",
       "Trish Deckow          5807.74\n",
       "Name: comp, dtype: float64"
      ]
     },
     "execution_count": 14,
     "metadata": {},
     "output_type": "execute_result"
    }
   ],
   "source": [
    "# Рассчитайте компенсацию для каждой строки\n",
    "df[\"comp\"] = df[\"commission\"] * df[\"ext price\"] + df[\"bonus\"]\n",
    "\n",
    "# Подведите итоги и округлите результаты по торговым представителям\n",
    "df.groupby([\"sales rep\"])[\"comp\"].sum().round(2)"
   ]
  },
  {
   "cell_type": "markdown",
   "metadata": {},
   "source": [
    "## Заключение\n",
    "\n",
    "Спасибо, что прочитали статью. Я считаю, что одна из самых больших проблем для новых пользователей в изучении того, как использовать pandas, - это выяснить, как использовать свои знания на основе Excel для создания эквивалентного решения на основе pandas. Во многих случаях решение pandas будет более надежным, быстрым, легким для аудита и более мощным. Однако процесс обучения может занять некоторое время. Я надеюсь, что этот пример, показывающий, как решить проблему с помощью инструмента \"Фильтр\" в Excel, станет полезным руководством для тех, кто только начинает свое pandas путешествие. Удачи!"
   ]
  },
  {
   "cell_type": "code",
   "execution_count": null,
   "metadata": {},
   "outputs": [],
   "source": []
  }
 ],
 "metadata": {
  "kernelspec": {
   "display_name": "Python 3",
   "language": "python",
   "name": "python3"
  },
  "language_info": {
   "codemirror_mode": {
    "name": "ipython",
    "version": 3
   },
   "file_extension": ".py",
   "mimetype": "text/x-python",
   "name": "python",
   "nbconvert_exporter": "python",
   "pygments_lexer": "ipython3",
   "version": "3.8.3"
  }
 },
 "nbformat": 4,
 "nbformat_minor": 4
}
