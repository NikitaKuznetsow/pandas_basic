{
 "cells": [
  {
   "cell_type": "markdown",
   "metadata": {},
   "source": [
    "# Введение в визуализацию данных с помощью Altair\n",
    "\n",
    "<a href=\"https://t.me/init_python\"><img src=\"https://dfedorov.spb.ru/pandas/logo-telegram.png\" width=\"35\" height=\"35\" alt=\"telegram\" align=\"left\"></a>"
   ]
  },
  {
   "cell_type": "markdown",
   "metadata": {},
   "source": [
    "<a href=\"https://colab.research.google.com/github/dm-fedorov/pandas_basic/blob/master/быстрое%20введение%20в%20pandas/Введение%20в%20визуализацию%20данных%20с%20помощью%20Altair.ipynb\" target=\"_blank\"><img align=\"left\" src=\"https://colab.research.google.com/assets/colab-badge.svg\" alt=\"Open in Colab\" title=\"Open and Execute in Google Colaboratory\"></a>"
   ]
  },
  {
   "cell_type": "markdown",
   "metadata": {},
   "source": [
    "<img src=\"https://raw.githubusercontent.com/dm-fedorov/pandas_basic/master/pic/pyviz.jpg\" height=\"600px\" width=\"800px\" >\n",
    "\n",
    "[*Источник картинки*](https://pyviz.org/overviews/index.html)"
   ]
  },
  {
   "cell_type": "markdown",
   "metadata": {},
   "source": [
    "Чтобы не отставать от последних трендов в области визуализации, я недавно услышал об [*Altair*](https://altair-viz.github.io/), который называет себя *\"библиотекой декларативной статистической визуализации для Python\"*. \n",
    "\n",
    "> Оригинал статьи Криса [тут](https://pbpython.com/altair-intro.html)\n",
    "\n",
    "Меня особенно заинтересовало то, что он разработан [Брайаном Грейнджером](https://twitter.com/ellisonbg) (*Brian Granger*) и [Джейком Вандерпласом](https://twitter.com/jakevdp) (*Jake Vanderplas*). Брайан является основным разработчиком проекта *IPython* и очень активен в научном сообществе *Python*. Джейк также активен в научном сообществе питонистов и написал прекрасную книгу [\"Python Data Science Handbook\"](https://jakevdp.github.io/PythonDataScienceHandbook/). Оба эти человека чрезвычайно опытны и хорошо осведомлены о *Python* и различных инструментах в его научной экосистеме. Из-за их прошлого мне было очень любопытно посмотреть, как они подошли к этой проблеме."
   ]
  },
  {
   "cell_type": "markdown",
   "metadata": {},
   "source": [
    "## Общее описание\n",
    "\n",
    "Одна из уникальных концепций дизайна *Altair* заключается в том, что он использует спецификацию [Vega-Lite](https://vega.github.io/vega-lite/) для создания \"красивых и эффективных визуализаций с минимальным количеством кода\". \n",
    "\n",
    "> Vega-Lite - это [грамматика высокого уровня интерактивной графики](https://vega.github.io/vega-lite/tutorials/getting_started.html). Она предоставляет краткий декларативный синтаксис JSON для создания выразительного набора визуализаций для анализа и представления данных.\n",
    "\n",
    "Что это значит? \n",
    "\n",
    "*Altair* предоставляет *Python API* для декларативного построения статистических визуализаций. \n",
    "\n",
    "Под статистической визуализацией понимается:\n",
    "\n",
    "- Источником данных является `DataFrame`, который состоит из столбцов с разными типами данных (количественные, порядковые, номинальные и дата/время).\n",
    "- `DataFrame` имеет *аккуратный* [tidy](http://vita.had.co.nz/papers/tidy-data.pdf) формат, где строки соответствуют выборкам, а столбцы соответствуют наблюдаемым переменным.\n",
    "- Данные сопоставляются с визуальными свойствами (положение, цвет, размер, форма и т. д.) с помощью операции группировки Pandas и SQL.\n",
    "- API Altair не содержит фактического кода визуализации, но вместо этого генерирует JSON структуры данных в соответствии со спецификацией *Vega-Lite*. Для удобства *Altair* может дополнительно использовать [ipyvega](https://github.com/vega/ipyvega) для плавного отображения клиентских рендеров в Jupyter блокноте."
   ]
  },
  {
   "cell_type": "markdown",
   "metadata": {},
   "source": [
    "*Altair* пытается интерпретировать переданные ему данные и проделать некоторые разумные предположения о том, как их отображать. Делая разумные предположения, пользователь может тратить больше времени на изучение данных, чем на попытки разработать сложный API для их отображения."
   ]
  },
  {
   "cell_type": "markdown",
   "metadata": {},
   "source": [
    "Прежде чем двигаться дальше, я хотел бы выделить еще один уникальный аспект *Altair*, связанный с ожидаемым форматом данных. Как описано выше, *Altair* ожидает, что все данные будут в *аккуратном (tidy) формате*. \n",
    "\n",
    "Общая идея заключается в том, что вы преобразуете свои данные в соответствующий формат, а затем используете API *Altair* для выполнения различных группировок или других методов сводки данных для вашей конкретной ситуации. Новым пользователям может потребоваться некоторое время, чтобы привыкнуть к этому. Тем не менее, я думаю, что в долгосрочной перспективе это хороший навык, и вложения в обработку данных (при необходимости) окупятся, в конце концов, путем обеспечения согласованного процесса визуализации данных. "
   ]
  },
  {
   "cell_type": "markdown",
   "metadata": {},
   "source": [
    "# Обзор возможностей Altair\n",
    "\n",
    "> Оригинал документации [тут](https://github.com/altair-viz/altair-tutorial)"
   ]
  },
  {
   "cell_type": "markdown",
   "metadata": {},
   "source": [
    "Установим необходимые модули:"
   ]
  },
  {
   "cell_type": "code",
   "execution_count": null,
   "metadata": {},
   "outputs": [],
   "source": [
    "#!pip3 install altair"
   ]
  },
  {
   "cell_type": "code",
   "execution_count": null,
   "metadata": {},
   "outputs": [],
   "source": [
    "#!pip3 install vega_datasets"
   ]
  },
  {
   "cell_type": "markdown",
   "metadata": {},
   "source": [
    "Начнем с демонстрации возможностей *Altair*. \n",
    "\n",
    "В этом разделе поверхностно рассматриваются многие концепции, например, `data`, `marks`, `encodings`, `aggregation`, `data types`, `selections` и т. д. Позже мы вернемся к более глубокому рассмотрению каждой из них, поэтому не беспокойтесь, если покажется, что все идет слишком быстро!\n",
    "\n",
    "> *Altair* строится на [спецификации Vega-Lite](https://vega.github.io/vega-lite/tutorials/getting_started.html) и вся терминология взята оттуда.\n",
    "\n",
    "## Изучение набора данных автомобилей\n",
    "\n",
    "Начнем с импорта пакета *Altair*:"
   ]
  },
  {
   "cell_type": "code",
   "execution_count": null,
   "metadata": {},
   "outputs": [],
   "source": [
    "import altair as alt"
   ]
  },
  {
   "cell_type": "markdown",
   "metadata": {},
   "source": [
    "Теперь воспользуемся пакетом [vega_datasets](https://github.com/altair-viz/vega_datasets), чтобы загрузить набор данных:"
   ]
  },
  {
   "cell_type": "code",
   "execution_count": null,
   "metadata": {},
   "outputs": [],
   "source": [
    "from vega_datasets import data\n",
    "\n",
    "cars = data.cars()\n",
    "cars.head()"
   ]
  },
  {
   "cell_type": "markdown",
   "metadata": {},
   "source": [
    "Используя *Altair*, можем исследовать эти данные.\n",
    "\n",
    "Самая простая [диаграмма](https://altair-viz.github.io/user_guide/generated/toplevel/altair.Chart.html#altair.Chart) (*chart*) содержит набор данных вместе с меткой (*mark*) для представления каждой строки:"
   ]
  },
  {
   "cell_type": "code",
   "execution_count": null,
   "metadata": {},
   "outputs": [],
   "source": [
    "alt.Chart(cars).mark_point()"
   ]
  },
  {
   "cell_type": "markdown",
   "metadata": {},
   "source": [
    "Это довольно глупая диаграмма, потому что она состоит из `406` точек, расположенных друг над другом.\n",
    "\n",
    "Чтобы сделать ее более интересной, необходимо *закодировать* (`encode`) столбцы данных в визуальные элементы графика (*plot*), например, положение `x`, положение `y`, `size`, `color` и т. д.\n",
    "\n",
    "Давайте закодируем *мили на галлон* (*miles per gallon*) по оси `x` с помощью метода [`encode()`](https://altair-viz.github.io/user_guide/generated/toplevel/altair.Chart.html#altair.Chart.encode):"
   ]
  },
  {
   "cell_type": "code",
   "execution_count": null,
   "metadata": {},
   "outputs": [],
   "source": [
    "alt.Chart(cars).mark_point().encode(\n",
    "    x='Miles_per_Gallon'\n",
    ")"
   ]
  },
  {
   "cell_type": "markdown",
   "metadata": {},
   "source": [
    "Немного лучше, но `point` (*точечная*) маркировка, вероятно, не самая лучшая для такой одномерной диаграммы.\n",
    "\n",
    "Вместо этого попробуем задать `tick` маркировку:"
   ]
  },
  {
   "cell_type": "code",
   "execution_count": null,
   "metadata": {},
   "outputs": [],
   "source": [
    "alt.Chart(cars).mark_tick().encode(\n",
    "    x='Miles_per_Gallon'\n",
    ")"
   ]
  },
  {
   "cell_type": "markdown",
   "metadata": {},
   "source": [
    "Можем развернуть в 2D-диаграмму, также закодировав значение `y`. \n",
    "\n",
    "Вернемся к использованию `point` (*точечной*) маркировки и поместим `Horsepower` (*мощность в лошадиных силах*) по оси `y`:"
   ]
  },
  {
   "cell_type": "code",
   "execution_count": null,
   "metadata": {},
   "outputs": [],
   "source": [
    "alt.Chart(cars).mark_point().encode(\n",
    "    x='Miles_per_Gallon',\n",
    "    y='Horsepower'\n",
    ")"
   ]
  },
  {
   "cell_type": "markdown",
   "metadata": {},
   "source": [
    "Одна из самых приятных особенностей *Altair* - это грамматика взаимодействия, которую он предоставляет. \n",
    "\n",
    "Самый простой вид взаимодействия - это возможность панорамировать (*pan*) и масштабировать (*zoom*) диаграммы; их можно включить с помощью метода `interactive()`:"
   ]
  },
  {
   "cell_type": "code",
   "execution_count": null,
   "metadata": {},
   "outputs": [],
   "source": [
    "alt.Chart(cars).mark_point().encode(\n",
    "    x='Miles_per_Gallon',\n",
    "    y='Horsepower'\n",
    ").interactive()"
   ]
  },
  {
   "cell_type": "markdown",
   "metadata": {},
   "source": [
    "Это позволяет нажимать и перетаскивать, а также использовать прокрутку/масштабирование для увеличения и уменьшения масштаба диаграммы.\n",
    "\n",
    "Позже мы увидим и другие варианты взаимодействия."
   ]
  },
  {
   "cell_type": "markdown",
   "metadata": {},
   "source": [
    "Двухмерный график (*2D plot*) позволяет кодировать два измерения данных. \n",
    "\n",
    "Давайте посмотрим, как использовать *цвет* (*color*) для кодирования третьего измерения (`Origin`):"
   ]
  },
  {
   "cell_type": "code",
   "execution_count": null,
   "metadata": {},
   "outputs": [],
   "source": [
    "alt.Chart(cars).mark_point().encode(\n",
    "    x='Miles_per_Gallon',\n",
    "    y='Horsepower',\n",
    "    color='Origin'\n",
    ")"
   ]
  },
  {
   "cell_type": "markdown",
   "metadata": {},
   "source": [
    "Обратите внимание, что когда мы используем категориальное значение (*categorical value*) для цвета, Altair выбирает соответствующую цветовую карту для категориальных данных.\n",
    "\n",
    "Посмотрим, что происходит, когда мы используем непрерывное значение цвета (`Acceleration`):"
   ]
  },
  {
   "cell_type": "code",
   "execution_count": null,
   "metadata": {},
   "outputs": [],
   "source": [
    "alt.Chart(cars).mark_point().encode(\n",
    "    x='Miles_per_Gallon',\n",
    "    y='Horsepower',\n",
    "    color='Acceleration'\n",
    ")"
   ]
  },
  {
   "cell_type": "markdown",
   "metadata": {},
   "source": [
    "Непрерывный цвет формирует цветовую шкалу, подходящую для непрерывных данных.\n",
    "\n",
    "А как насчет промежуточного случая: упорядоченные категории, например количество цилиндров (`Cylinders`)?"
   ]
  },
  {
   "cell_type": "code",
   "execution_count": null,
   "metadata": {},
   "outputs": [],
   "source": [
    "alt.Chart(cars).mark_point().encode(\n",
    "    x='Miles_per_Gallon',\n",
    "    y='Horsepower',\n",
    "    color='Cylinders'\n",
    ")"
   ]
  },
  {
   "cell_type": "markdown",
   "metadata": {},
   "source": [
    "*Altair* по-прежнему выбирает непрерывное значение, потому что количество цилиндров числовое.\n",
    "\n",
    "Можем улучшить это, указав, что данные следует рассматривать как дискретное упорядоченное значение, добавив `\":O\"` (`\"O\"` для \"порядковых\" или \"упорядоченных категорий\") после кодирования (*encoding*):"
   ]
  },
  {
   "cell_type": "code",
   "execution_count": null,
   "metadata": {},
   "outputs": [],
   "source": [
    "alt.Chart(cars).mark_point().encode(\n",
    "    x='Miles_per_Gallon',\n",
    "    y='Horsepower',\n",
    "    color='Cylinders:O'\n",
    ")"
   ]
  },
  {
   "cell_type": "markdown",
   "metadata": {},
   "source": [
    "Теперь у нас есть дискретная надпись (*legend*) с упорядоченным цветовым отображением."
   ]
  },
  {
   "cell_type": "markdown",
   "metadata": {},
   "source": [
    "Давайте быстро вернемся к нашей одномерной диаграмме (*1D chart*) *миль на галлон*:"
   ]
  },
  {
   "cell_type": "code",
   "execution_count": null,
   "metadata": {},
   "outputs": [],
   "source": [
    "alt.Chart(cars).mark_tick().encode(\n",
    "    x='Miles_per_Gallon',\n",
    ")"
   ]
  },
  {
   "cell_type": "markdown",
   "metadata": {},
   "source": [
    "Другой способ представления этих данных - создание *гистограммы*: объединить (*to bin*) данные `x` и отобразить счетчик (*count*) по оси `y`. \n",
    "\n",
    "Во многих библиотеках это делается с помощью специального метода `hist()`. В *Altair* такое объединение (*binning*) и агрегация является частью декларативного API.\n",
    "\n",
    "Чтобы выйти за рамки простого имени поля, мы используем `alt.X()` для кодирования `x`, и `count()` для кодирования `y`:"
   ]
  },
  {
   "cell_type": "code",
   "execution_count": null,
   "metadata": {},
   "outputs": [],
   "source": [
    "alt.Chart(cars).mark_bar().encode(\n",
    "    x=alt.X('Miles_per_Gallon', bin=True),\n",
    "    y='count()'\n",
    ")"
   ]
  },
  {
   "cell_type": "markdown",
   "metadata": {},
   "source": [
    "Если нам нужен больший контроль над ячейками (bins), мы можем использовать `alt.Bin` для настройки параметров ячейки:"
   ]
  },
  {
   "cell_type": "code",
   "execution_count": null,
   "metadata": {},
   "outputs": [],
   "source": [
    "alt.Chart(cars).mark_bar().encode(\n",
    "    x=alt.X('Miles_per_Gallon', bin=alt.Bin(maxbins=30)),\n",
    "    y='count()'\n",
    ")"
   ]
  },
  {
   "cell_type": "markdown",
   "metadata": {},
   "source": [
    "Если мы применим другое кодирование (например, `color`), данные будут автоматически сгруппированы в каждой ячейке:"
   ]
  },
  {
   "cell_type": "code",
   "execution_count": null,
   "metadata": {},
   "outputs": [],
   "source": [
    "alt.Chart(cars).mark_bar().encode(\n",
    "    x=alt.X('Miles_per_Gallon', bin=alt.Bin(maxbins=30)),\n",
    "    y='count()',\n",
    "    color='Origin'\n",
    ")"
   ]
  },
  {
   "cell_type": "markdown",
   "metadata": {},
   "source": [
    "Если вы предпочитаете отдельный график для каждой категории, то может помочь кодирование `column`:"
   ]
  },
  {
   "cell_type": "code",
   "execution_count": null,
   "metadata": {},
   "outputs": [],
   "source": [
    "alt.Chart(cars).mark_bar().encode(\n",
    "    x=alt.X('Miles_per_Gallon', bin=alt.Bin(maxbins=30)),\n",
    "    y='count()',\n",
    "    color='Origin',\n",
    "    column='Origin'\n",
    ")"
   ]
  },
  {
   "cell_type": "markdown",
   "metadata": {},
   "source": [
    "Биннинг и агрегация также работают в двух измерениях; мы можем использовать `rect` маркер и визуализировать количество (*count*) с помощью цвета (*color*):"
   ]
  },
  {
   "cell_type": "code",
   "execution_count": null,
   "metadata": {},
   "outputs": [],
   "source": [
    "alt.Chart(cars).mark_rect().encode(\n",
    "    x=alt.X('Miles_per_Gallon', bin=True),\n",
    "    y=alt.Y('Horsepower', bin=True),\n",
    "    color='count()'\n",
    ")"
   ]
  },
  {
   "cell_type": "markdown",
   "metadata": {},
   "source": [
    "Агрегации могут быть не просто количеством (*counts*); мы также можем агрегировать и вычислять среднее (*mean*) значение третьего измерения в каждой ячейке:"
   ]
  },
  {
   "cell_type": "code",
   "execution_count": null,
   "metadata": {},
   "outputs": [],
   "source": [
    "alt.Chart(cars).mark_rect().encode(\n",
    "    x=alt.X('Miles_per_Gallon', bin=True),\n",
    "    y=alt.Y('Horsepower', bin=True),\n",
    "    color='mean(Weight_in_lbs)'\n",
    ")"
   ]
  },
  {
   "cell_type": "markdown",
   "metadata": {},
   "source": [
    "До сих пор мы игнорировали столбец `date`, но интересно увидеть временной тренд, например, *миль на галлон*:"
   ]
  },
  {
   "cell_type": "code",
   "execution_count": null,
   "metadata": {},
   "outputs": [],
   "source": [
    "alt.Chart(cars).mark_point().encode(\n",
    "    x='Year',\n",
    "    y='Miles_per_Gallon'\n",
    ")"
   ]
  },
  {
   "cell_type": "markdown",
   "metadata": {},
   "source": [
    "Ежегодное есть несколько автомобилей, и данные во многом совпадают. \n",
    "\n",
    "Можем немного очистить их, построив среднее для каждого значения `x`:"
   ]
  },
  {
   "cell_type": "code",
   "execution_count": null,
   "metadata": {},
   "outputs": [],
   "source": [
    "alt.Chart(cars).mark_line().encode(\n",
    "    x='Year',\n",
    "    y='mean(Miles_per_Gallon)',\n",
    ")"
   ]
  },
  {
   "cell_type": "markdown",
   "metadata": {},
   "source": [
    "В качестве альтернативы можем изменить метку на `area` (*площадь*) и использовать метки `ci0` и `ci1` для построения доверительного интервала оценки среднего:"
   ]
  },
  {
   "cell_type": "code",
   "execution_count": null,
   "metadata": {},
   "outputs": [],
   "source": [
    "alt.Chart(cars).mark_area().encode(\n",
    "    x='Year',\n",
    "    y='ci0(Miles_per_Gallon)',\n",
    "    y2='ci1(Miles_per_Gallon)'\n",
    ")"
   ]
  },
  {
   "cell_type": "markdown",
   "metadata": {},
   "source": [
    "Давайте немного скорректируем эту диаграмму: добавим непрозрачности (*opacity*), цвета по стране происхождения (`Origin`), увеличим ширину и добавим более понятный заголовок оси:"
   ]
  },
  {
   "cell_type": "code",
   "execution_count": null,
   "metadata": {},
   "outputs": [],
   "source": [
    "alt.Chart(cars).mark_area(opacity=0.3).encode(\n",
    "    x=alt.X('Year', timeUnit='year'),\n",
    "    y=alt.Y('ci0(Miles_per_Gallon)', axis=alt.Axis(title='Miles per Gallon')),\n",
    "    y2='ci1(Miles_per_Gallon)',\n",
    "    color='Origin'\n",
    ").properties(\n",
    "    width=800\n",
    ")"
   ]
  },
  {
   "cell_type": "markdown",
   "metadata": {},
   "source": [
    "Наконец, мы можем использовать API слоев *Altair* для наложения линейной диаграммы, представляющей среднее значение, поверх диаграммы с областями, представляющей доверительный интервал:"
   ]
  },
  {
   "cell_type": "code",
   "execution_count": null,
   "metadata": {},
   "outputs": [],
   "source": [
    "spread = alt.Chart(cars).mark_area(opacity=0.3).encode(\n",
    "    x=alt.X('Year', timeUnit='year'),\n",
    "    y=alt.Y('ci0(Miles_per_Gallon)', axis=alt.Axis(title='Miles per Gallon')),\n",
    "    y2='ci1(Miles_per_Gallon)',\n",
    "    color='Origin'\n",
    ").properties(\n",
    "    width=800\n",
    ")\n",
    "\n",
    "lines = alt.Chart(cars).mark_line().encode(\n",
    "    x=alt.X('Year', timeUnit='year'),\n",
    "    y='mean(Miles_per_Gallon)',\n",
    "    color='Origin'\n",
    ").properties(\n",
    "    width=800\n",
    ")\n",
    "\n",
    "spread + lines"
   ]
  },
  {
   "cell_type": "markdown",
   "metadata": {},
   "source": [
    "Вернемся к нашему графику рассеяния и посмотрим на другие типы интерактивности, которые предлагает *Altair*:"
   ]
  },
  {
   "cell_type": "code",
   "execution_count": null,
   "metadata": {},
   "outputs": [],
   "source": [
    "alt.Chart(cars).mark_point().encode(\n",
    "    x='Miles_per_Gallon',\n",
    "    y='Horsepower',\n",
    "    color='Origin'\n",
    ")"
   ]
  },
  {
   "cell_type": "markdown",
   "metadata": {},
   "source": [
    "Напомним, что вы можете добавить `interactive()` в конец диаграммы, чтобы включить самые простые интерактивные шкалы:"
   ]
  },
  {
   "cell_type": "code",
   "execution_count": null,
   "metadata": {},
   "outputs": [],
   "source": [
    "alt.Chart(cars).mark_point().encode(\n",
    "    x='Miles_per_Gallon',\n",
    "    y='Horsepower',\n",
    "    color='Origin'\n",
    ").interactive()"
   ]
  },
  {
   "cell_type": "markdown",
   "metadata": {},
   "source": [
    "*Altair* предоставляет обобщенный `selection` API для создания интерактивных графиков; например, далее мы создаем выбор интервала (*interval selection*):"
   ]
  },
  {
   "cell_type": "code",
   "execution_count": null,
   "metadata": {},
   "outputs": [],
   "source": [
    "interval = alt.selection_interval()\n",
    "\n",
    "alt.Chart(cars).mark_point().encode(\n",
    "    x='Miles_per_Gallon',\n",
    "    y='Horsepower',\n",
    "    color='Origin'\n",
    ").add_selection(\n",
    "    interval\n",
    ")"
   ]
  },
  {
   "cell_type": "markdown",
   "metadata": {},
   "source": [
    "Сейчас этот выбор ничего не делает, но мы можем изменить это, задав цвет для выбора:"
   ]
  },
  {
   "cell_type": "code",
   "execution_count": null,
   "metadata": {},
   "outputs": [],
   "source": [
    "interval = alt.selection_interval()\n",
    "\n",
    "alt.Chart(cars).mark_point().encode(\n",
    "    x='Miles_per_Gallon',\n",
    "    y='Horsepower',\n",
    "    color=alt.condition(interval, 'Origin', alt.value('lightgray'))\n",
    ").add_selection(\n",
    "    interval\n",
    ")"
   ]
  },
  {
   "cell_type": "markdown",
   "metadata": {},
   "source": [
    "Хорошая особенность `selection` API заключается в том, что он *автоматически* применяется ко всем составным диаграммам; например, далее мы можем объединить две диаграммы по горизонтали, и, поскольку они имеют одинаковый `selection`, то обе реагируют одинаково:"
   ]
  },
  {
   "cell_type": "code",
   "execution_count": null,
   "metadata": {},
   "outputs": [],
   "source": [
    "interval = alt.selection_interval()\n",
    "\n",
    "base = alt.Chart(cars).mark_point().encode(\n",
    "    y='Horsepower',\n",
    "    color=alt.condition(interval, 'Origin', alt.value('lightgray')),\n",
    "    tooltip='Name'\n",
    ").add_selection(\n",
    "    interval\n",
    ")\n",
    "\n",
    "base.encode(x='Miles_per_Gallon') | base.encode(x='Acceleration')"
   ]
  },
  {
   "cell_type": "markdown",
   "metadata": {},
   "source": [
    "С `selections` мы можем делать еще более сложные вещи. \n",
    "\n",
    "Например, давайте сделаем гистограмму количества машин по `Origin` и добавим (*stack*) ее на нашу диаграмму рассеяния:"
   ]
  },
  {
   "cell_type": "code",
   "execution_count": null,
   "metadata": {},
   "outputs": [],
   "source": [
    "interval = alt.selection_interval()\n",
    "\n",
    "base = alt.Chart(cars).mark_point().encode(\n",
    "    y='Horsepower',\n",
    "    color=alt.condition(interval, 'Origin', alt.value('lightgray')),\n",
    "    tooltip='Name'\n",
    ").add_selection(\n",
    "    interval\n",
    ")\n",
    "\n",
    "hist = alt.Chart(cars).mark_bar().encode(\n",
    "    x='count()',\n",
    "    y='Origin',\n",
    "    color='Origin'\n",
    ").properties(\n",
    "    width=800,\n",
    "    height=80\n",
    ").transform_filter(\n",
    "    interval\n",
    ")\n",
    "\n",
    "scatter = base.encode(x='Miles_per_Gallon') | base.encode(x='Acceleration')\n",
    "\n",
    "scatter & hist"
   ]
  },
  {
   "cell_type": "markdown",
   "metadata": {},
   "source": [
    "## Простые диаграммы: основные концепции"
   ]
  },
  {
   "cell_type": "markdown",
   "metadata": {},
   "source": [
    "Цель данного раздела - научить вас основным концепциям, необходимым для создания базовой диаграммы в *Altair*:\n",
    "\n",
    "- **Данные** (*data*), **метки** (*marks*) и **кодирование** (*encodings*): три основных элемента диаграммы *Altair*.\n",
    "- **Типы кодирования**: `Q` (количественное), `N` (номинальное), `O` (порядковое), `T` (временное), которые определяют визуальное представление кодирования.\n",
    "- **Биннинг и агрегирование**: которые позволяют контролировать аспекты представления данных в *Altair*.\n",
    "\n",
    "Начнем с импорта *Altair*:"
   ]
  },
  {
   "cell_type": "code",
   "execution_count": null,
   "metadata": {},
   "outputs": [],
   "source": [
    "import altair as alt"
   ]
  },
  {
   "cell_type": "markdown",
   "metadata": {},
   "source": [
    "Важнейшими элементами диаграммы *Altair* являются данные (*data*), метка (*mark*) и кодировка (*encoding*).\n",
    "\n",
    "Формат, в котором они указаны, будет выглядеть примерно так:\n",
    "\n",
    "```python\n",
    "alt.Chart(data).mark_point().encode(\n",
    "    encoding_1='column_1',\n",
    "    encoding_2='column_2',\n",
    "    # etc.\n",
    ")\n",
    "```\n",
    "\n",
    "Давайте посмотрим на эти части."
   ]
  },
  {
   "cell_type": "markdown",
   "metadata": {},
   "source": [
    "### Данные\n",
    "\n",
    "Данные в *Altair* построены на основе [`Dataframe`](https://pandas.pydata.org/pandas-docs/stable/reference/api/pandas.DataFrame.html) *pandas*. \n",
    "\n",
    "Далее будем использовать набор данных автомобилей, который загрузим с помощью пакета `vega_datasets`:"
   ]
  },
  {
   "cell_type": "code",
   "execution_count": null,
   "metadata": {},
   "outputs": [],
   "source": [
    "from vega_datasets import data\n",
    "cars = data.cars()\n",
    "\n",
    "cars.head()"
   ]
  },
  {
   "cell_type": "markdown",
   "metadata": {},
   "source": [
    "Ожидается, что данные в *Altair* будут в [аккуратном формате](http://vita.had.co.nz/papers/tidy-data.pdf); другими словами:\n",
    "\n",
    "- каждая строка - это наблюдение;\n",
    "- каждый столбец - это переменная.\n",
    "\n",
    "> Дополнительную информацию см. в [документации по данным *Altair*](https://altair-viz.github.io/user_guide/data.html)."
   ]
  },
  {
   "cell_type": "markdown",
   "metadata": {},
   "source": [
    "### Объект Chart\n",
    "\n",
    "Определив данные, вы можете создать экземпляр фундаментального объекта *Altair* - `Chart`. По сути, `Chart` - это объект, который знает, как генерировать JSON словарь, представляющий данные и кодировки визуализации, которые могут быть отправлены в блокнот и обработаны JavaScript библиотекой Vega-Lite. \n",
    "\n",
    "Давайте посмотрим, как выглядит это JSON-представление, используя только первую строку данных:"
   ]
  },
  {
   "cell_type": "code",
   "execution_count": null,
   "metadata": {},
   "outputs": [],
   "source": [
    "cars1 = cars.iloc[:1]\n",
    "alt.Chart(cars1).mark_point().to_dict()"
   ]
  },
  {
   "cell_type": "markdown",
   "metadata": {},
   "source": [
    "На этом этапе диаграмма включает представление фрейма данных в JSON формате, какой тип метки использовать, а также некоторые метаданные, которые включаются в каждый вывод диаграммы."
   ]
  },
  {
   "cell_type": "markdown",
   "metadata": {},
   "source": [
    "### Метка\n",
    "\n",
    "Мы можем решить, какую метку мы хотели бы использовать для представления наших данных. В предыдущем примере мы можем выбрать `point` (*точечную*) метку для представления данных в виде точки на графике:"
   ]
  },
  {
   "cell_type": "code",
   "execution_count": null,
   "metadata": {},
   "outputs": [],
   "source": [
    "alt.Chart(cars).mark_point()"
   ]
  },
  {
   "cell_type": "markdown",
   "metadata": {},
   "source": [
    "В результате получается визуализация с одной точкой на строку в данных, хотя это не особенно интересно: все точки располагаются друг над другом!\n",
    "\n",
    "Полезно еще раз изучить JSON вывод:"
   ]
  },
  {
   "cell_type": "code",
   "execution_count": null,
   "metadata": {},
   "outputs": [],
   "source": [
    "alt.Chart(cars1).mark_point().to_dict()"
   ]
  },
  {
   "cell_type": "markdown",
   "metadata": {},
   "source": [
    "Обратите внимание, что теперь помимо данных в спецификацию включена информация о типе метки.\n",
    "\n",
    "Есть ряд доступных меток, которые вы можете использовать. \n",
    "\n",
    "Вот некоторые из наиболее распространенных:\n",
    "\n",
    "* `mark_point()` \n",
    "* `mark_circle()`\n",
    "* `mark_square()`\n",
    "* `mark_line()`\n",
    "* `mark_area()`\n",
    "* `mark_bar()`\n",
    "* `mark_tick()`\n",
    "\n",
    "Вы можете получить полный список методов `mark_*`, используя функцию завершения табуляции в *Jupyter*, в любой ячейке просто введите:\n",
    "\n",
    "    alt.Chart.mark_\n",
    "    \n",
    "с последующим нажатием клавиши табуляции, чтобы увидеть доступные параметры."
   ]
  },
  {
   "cell_type": "markdown",
   "metadata": {},
   "source": [
    "### Кодировки\n",
    "\n",
    "Следующим шагом является добавление к диаграмме *каналов визуального кодирования* (или для краткости *кодирования*). Канал кодирования определяет, как данный столбец должен отображаться на визуальные свойства визуализации. \n",
    "\n",
    "Некоторые из наиболее часто используемых визуальных кодировок:\n",
    "\n",
    "- `x`: значение оси x\n",
    "- `y`: значение оси y\n",
    "- `color`: цвет метки\n",
    "- `opacity`: прозрачность/непрозрачность метки\n",
    "- `shape`: форма метки\n",
    "- `size`: размер метки\n",
    "- `row`: строка в сетке фасетных графиков\n",
    "- `column`: столбец в сетке фасетных графиков\n",
    "\n",
    "> Полный список кодировок см. в [документации](https://altair-viz.github.io/user_guide/encoding.html).\n",
    "\n",
    "Визуальные кодировки могут быть созданы с помощью метода `encode()` объекта `Chart`. Например, мы можем начать с сопоставления оси `y` диаграммы со столбцом `Origin`:"
   ]
  },
  {
   "cell_type": "code",
   "execution_count": null,
   "metadata": {},
   "outputs": [],
   "source": [
    "alt.Chart(cars).mark_point().encode(\n",
    "    y='Origin'\n",
    ")"
   ]
  },
  {
   "cell_type": "markdown",
   "metadata": {},
   "source": [
    "Результатом является одномерная визуализация, представляющая значения, принятые из `Origin`, с точками в каждой категории поверх друг друга. \n",
    "\n",
    "Как и выше, мы можем просмотреть JSON данные, созданные для этой визуализации:"
   ]
  },
  {
   "cell_type": "code",
   "execution_count": null,
   "metadata": {},
   "outputs": [],
   "source": [
    "alt.Chart(cars1).mark_point().encode(\n",
    "    x='Origin'\n",
    ").to_dict()"
   ]
  },
  {
   "cell_type": "markdown",
   "metadata": {},
   "source": [
    "Результат такой же, как и выше, с добавлением ключа `'encoding'`, который указывает канал визуализации (`y`), имя поля (`Origin`) и тип переменной (`nominal`). Мы обсудим эти типы данных чуть позже.\n",
    "\n",
    "Визуализацию можно сделать более интересной, добавив в кодировку еще один канал: давайте закодируем `Miles_per_Gallon` как позицию `x`:"
   ]
  },
  {
   "cell_type": "code",
   "execution_count": null,
   "metadata": {},
   "outputs": [],
   "source": [
    "alt.Chart(cars).mark_point().encode(\n",
    "    y='Origin',\n",
    "    x='Miles_per_Gallon'\n",
    ")"
   ]
  },
  {
   "cell_type": "markdown",
   "metadata": {},
   "source": [
    "Вы можете добавить столько кодировок, сколько захотите, при этом каждая кодировка будет сопоставлена столбцу данных. \n",
    "\n",
    "Например, далее мы раскрасим точки по `Origin` и построим график `Miles_per_gallon` против `Year`:"
   ]
  },
  {
   "cell_type": "code",
   "execution_count": null,
   "metadata": {},
   "outputs": [],
   "source": [
    "alt.Chart(cars).mark_point().encode(\n",
    "    color='Origin',\n",
    "    y='Miles_per_Gallon',\n",
    "    x='Year'\n",
    ")"
   ]
  },
  {
   "cell_type": "markdown",
   "metadata": {},
   "source": [
    "### Упражнение: изучение данных\n",
    "\n",
    "Теперь, когда вы знаете основы (данные, кодировки, метки), потратьте немного времени и попробуйте создать несколько графиков!\n",
    "\n",
    "В частности, я бы предложил попробовать различные комбинации из следующего:\n",
    "\n",
    "- Метки: ``mark_point()``, ``mark_line()``, ``mark_bar()``, ``mark_text()``, ``mark_rect()``...\n",
    "- Столбцы данных: ``'Acceleration'``, ``'Cylinders'``, ``'Displacement'``, ``'Horsepower'``, ``'Miles_per_Gallon'``, ``'Name'``, ``'Origin'``, ``'Weight_in_lbs'``, ``'Year'``\n",
    "- Кодировки: ``x``, ``y``, ``color``, ``shape``, ``row``, ``column``, ``opacity``, ``text``, ``tooltip``..."
   ]
  },
  {
   "cell_type": "markdown",
   "metadata": {},
   "source": [
    "В частности, подумайте о следующем:\n",
    "\n",
    "- Какие кодировки подходят для непрерывных количественных значений?\n",
    "- Какие кодировки подходят для дискретных, категориальных (то есть номинальных) значений?"
   ]
  },
  {
   "cell_type": "markdown",
   "metadata": {},
   "source": [
    "### Типы кодирования\n",
    "\n",
    "Одна из центральных идей *Altair* заключается в том, что библиотека выбирает подходящие значения по умолчанию для вашего типа данных.\n",
    "\n",
    "Основные типы данных, поддерживаемые *Altair*, следующие:\n",
    "\n",
    "<table>\n",
    "  <tr>\n",
    "    <th>Тип данных</th>\n",
    "    <th>Код</th>\n",
    "    <th>Описание</th>\n",
    "  </tr>\n",
    "  <tr>\n",
    "    <td>quantitative</td>\n",
    "    <td>Q</td>\n",
    "    <td>Числовая величина (действительная)</td>\n",
    "  </tr>\n",
    "  <tr>\n",
    "    <td>nominal</td>\n",
    "    <td>N</td>\n",
    "    <td>Наименование / Неупорядоченный категориальный</td>\n",
    "  </tr>\n",
    "  <tr>\n",
    "    <td>ordinal</td>\n",
    "    <td>O</td>\n",
    "    <td>Упорярядоченный категориальный</td>\n",
    "  </tr>\n",
    "  <tr>\n",
    "    <td>temporal</td>\n",
    "    <td>T</td>\n",
    "    <td>Дата / время</td>\n",
    "  </tr>\n",
    "</table>\n",
    "\n",
    "Когда вы указываете данные в виде *фрейма данных* *pandas*, эти типы *автоматически определяются* *Altair*.\n",
    "\n",
    "Когда вы указываете данные как URL, вы должны *вручную указать* типы данных для каждого из столбцов.\n",
    "\n",
    "Давайте посмотрим на простой график, содержащий три столбца данных об автомобилях:"
   ]
  },
  {
   "cell_type": "code",
   "execution_count": null,
   "metadata": {},
   "outputs": [],
   "source": [
    "alt.Chart(cars).mark_tick().encode(\n",
    "    x='Miles_per_Gallon',\n",
    "    y='Origin',\n",
    "    color='Cylinders'\n",
    ")"
   ]
  },
  {
   "cell_type": "markdown",
   "metadata": {},
   "source": [
    "Вопросы:\n",
    "\n",
    "- какой тип данных лучше всего подходит для `Miles_per_Gallon`?\n",
    "- какой тип данных лучше всего подходит для `Origin`?\n",
    "- какой тип данных лучше всего подходит для `Cylinders`?\n",
    "\n",
    "Давайте добавим сокращения для каждого из этих типов данных в нашу спецификацию, используя однобуквенные коды выше (например, измените `\"Miles_per_Gallon\"` на `\"Miles_per_Gallon: Q\"`, чтобы явно указать, что это количественный тип):"
   ]
  },
  {
   "cell_type": "code",
   "execution_count": null,
   "metadata": {},
   "outputs": [],
   "source": [
    "alt.Chart(cars).mark_tick().encode(\n",
    "    x='Miles_per_Gallon:Q',\n",
    "    y='Origin:N',\n",
    "    color='Cylinders:O'\n",
    ")"
   ]
  },
  {
   "cell_type": "markdown",
   "metadata": {},
   "source": [
    "Обратите внимание, как только мы изменим тип данных для `Cylinders` на порядковый, график изменится.\n",
    "\n",
    "При использовании *Altair* полезно выработать привычку всегда указывать эти типы явно, потому что это обязательно при работе с данными, загруженными из файла или URL."
   ]
  },
  {
   "cell_type": "markdown",
   "metadata": {},
   "source": [
    "### Упражнение: добавление явных типов\n",
    "\n",
    "Ниже приведены несколько простых диаграмм, созданных с использованием набора данных автомобилей. Для каждого из них попробуйте добавить явные типы к кодировкам (например, измените `\"Horsepower\"` на `\"Horsepower:Q\"`, чтобы график не изменился.\n",
    "\n",
    "Есть ли графики, которые можно улучшить, изменив тип?"
   ]
  },
  {
   "cell_type": "code",
   "execution_count": null,
   "metadata": {},
   "outputs": [],
   "source": [
    "alt.Chart(cars).mark_bar().encode(\n",
    "    y='Origin',\n",
    "    x='mean(Horsepower)'\n",
    ")"
   ]
  },
  {
   "cell_type": "code",
   "execution_count": null,
   "metadata": {},
   "outputs": [],
   "source": [
    "alt.Chart(cars).mark_line().encode(\n",
    "    x='Year',\n",
    "    y='mean(Miles_per_Gallon)',\n",
    "    color='Origin'\n",
    ")"
   ]
  },
  {
   "cell_type": "code",
   "execution_count": null,
   "metadata": {},
   "outputs": [],
   "source": [
    "alt.Chart(cars).mark_bar().encode(\n",
    "    y='Cylinders',\n",
    "    x='count()',\n",
    "    color='Origin'\n",
    ")"
   ]
  },
  {
   "cell_type": "code",
   "execution_count": null,
   "metadata": {},
   "outputs": [],
   "source": [
    "alt.Chart(cars).mark_rect().encode(\n",
    "    x='Cylinders',\n",
    "    y='Origin',\n",
    "    color='count()'\n",
    ")"
   ]
  },
  {
   "cell_type": "markdown",
   "metadata": {},
   "source": [
    "*Продолжение следует...*"
   ]
  },
  {
   "cell_type": "code",
   "execution_count": null,
   "metadata": {},
   "outputs": [],
   "source": []
  }
 ],
 "metadata": {
  "kernelspec": {
   "display_name": "Python 3",
   "language": "python",
   "name": "python3"
  },
  "language_info": {
   "codemirror_mode": {
    "name": "ipython",
    "version": 3
   },
   "file_extension": ".py",
   "mimetype": "text/x-python",
   "name": "python",
   "nbconvert_exporter": "python",
   "pygments_lexer": "ipython3",
   "version": "3.8.3"
  },
  "widgets": {
   "application/vnd.jupyter.widget-state+json": {
    "state": {},
    "version_major": 2,
    "version_minor": 0
   }
  }
 },
 "nbformat": 4,
 "nbformat_minor": 4
}
