{
 "cells": [
  {
   "cell_type": "markdown",
   "metadata": {},
   "source": [
    "# Моделирование Монте-Карло с помощью Python"
   ]
  },
  {
   "cell_type": "markdown",
   "metadata": {},
   "source": [
    "<a href=\"https://colab.research.google.com/github/dm-fedorov/pandas_basic/blob/master/%D0%A2%D0%B5%D0%BF%D0%BB%D0%B8%D1%86%D0%B0/5.%20%D0%9F%D0%B0%D1%80%D0%BA%D0%B8.ipynb\"><img align=\"left\" src=\"https://colab.research.google.com/assets/colab-badge.svg\" alt=\"Open in Colab\" title=\"Open and Execute in Google Colaboratory\" target=\"_blank\"></a>"
   ]
  },
  {
   "cell_type": "markdown",
   "metadata": {},
   "source": [
    "## Введение\n",
    "\n",
    "Существует множество моделей, которые могут использоваться для решения задачи прогнозирования. Одним из подходов, который может дать лучшее понимание диапазона возможных результатов и помочь избежать [\"ошибки средних\"](https://hbr.org/2002/11/the-flaw-of-averages), является [*моделирование методом Монте-Карло*](https://ru.wikipedia.org/wiki/%D0%9C%D0%B5%D1%82%D0%BE%D0%B4_%D0%9C%D0%BE%D0%BD%D1%82%D0%B5-%D0%9A%D0%B0%D1%80%D0%BB%D0%BE). \n",
    "\n",
    "В оставшейся части этой статьи будет описано, как использовать *Python* с *pandas* и *NumPy* для прогнозирования диапазона потенциальных значений для бюджета комиссионных с продаж с помощью моделирования Монте-Карло. \n",
    "\n",
    "> Оригинал статьи Криса [тут](https://pbpython.com/monte-carlo.html)"
   ]
  },
  {
   "cell_type": "markdown",
   "metadata": {},
   "source": [
    "## Проблема\n",
    "\n",
    "В следующем примере попытаемся предсказать, сколько денег необходимо выделить на комиссионные с продаж (поощрительные выплаты) в следующем году. Эта задача хорошо подходит для моделирования, т.к. у нас есть определенная формула для расчета комиссионных, и некоторый опыт с выплатой комиссионных за предыдущие годы.\n",
    "\n",
    "Эта проблема также важна с точки зрения бизнеса. Комиссионные с продаж могут оказаться большими расходами, и важно их правильно спланировать. Кроме того, использование моделирования Монте-Карло является относительно простым.\n",
    "\n",
    "Примерная комиссия с продаж будет выглядеть следующим образом для отдела продаж из `5` человек:\n",
    "\n",
    "![](https://github.com/dm-fedorov/pandas_basic/blob/master/pic/Excel_Table_1.png?raw=True)\n",
    "\n",
    "В этом примере комиссия рассчитывается по следующей формуле:\n",
    "\n",
    "`Commission Amount (Сумма комиссии) = Actual Sales (Фактические продажи) * Commission Rate (Ставка комиссионного вознаграждения)`\n",
    "\n",
    "Ставка комиссии основана на этой таблице `Percent To Plan (Процент к плану)`:\n",
    "\n",
    "![](https://github.com/dm-fedorov/pandas_basic/blob/master/pic/Excel_Table_4.png?raw=True)\n",
    "\n",
    "Прежде чем строить модель и запускать симуляцию, давайте рассмотрим простой подход к прогнозированию комиссионных расходов на следующий год."
   ]
  },
  {
   "cell_type": "markdown",
   "metadata": {},
   "source": [
    "## Наивный (Naïve) подход к проблеме\n",
    "\n",
    "Представьте, что ваша задача в роли аналитика Эми или Энди состоит в том, чтобы сообщить финансовому отделу, сколько в бюджете необходимо выделить комиссионных с продаж на следующий год. Один из подходов заключается в том, чтобы предположить, что каждый выполняет `100%` своей цели и получает `4%` комиссионных. \n",
    "\n",
    "Вставка этих значений в *Excel* дает следующее:\n",
    "\n",
    "![](https://github.com/dm-fedorov/pandas_basic/blob/master/pic/Excel_Table_2.png?raw=True)\n",
    "\n",
    "Представьте, что вы представляете это финансовому отделу, и они говорят: \"У нас никогда не бывает одинаковых комиссионных. Нам нужна более точная модель\". \n",
    "\n",
    "Во втором раунде вы можете попробовать несколько диапазонов:\n",
    "\n",
    "![](https://github.com/dm-fedorov/pandas_basic/blob/master/pic/Excel_Table_5.png?raw=True)\n",
    "\n",
    "Или еще один:\n",
    "\n",
    "![](https://github.com/dm-fedorov/pandas_basic/blob/master/pic/Excel_Table_6.png?raw=True)\n",
    "\n",
    "Теперь у вас есть немного больше информации. На этот раз финансовый отдел говорит: \"Этот диапазон полезен, но каково ваше доверие к нему? Кроме того, нам нужно, чтобы вы провели расчет для отдела продаж из 500 человек и смоделировали несколько различных ставок, чтобы определить сумму бюджета\". Хммм… \n",
    "\n",
    "Этот простой подход иллюстрирует основной итерационный метод моделирования Монте-Карло. Вы повторяете процесс много раз, чтобы определить диапазон возможных значений комиссионных за год. Сделать это вручную сложно. К счастью, с Python процесс значительно упрощается."
   ]
  },
  {
   "cell_type": "markdown",
   "metadata": {},
   "source": [
    "## Монте-Карло\n",
    "\n",
    "Теперь, когда мы обсудили проблему на высоком уровне, посмотрим, как метод Монте-Карло может быть применим для прогнозирования комиссионных расходов на следующий год. На простейшем уровне анализ (или моделирование) Монте-Карло выполняет множество сценариев с различными случайными входными данными и обобщение распределения результатов.\n",
    "\n",
    "Используя анализ комиссионных, мы можем продолжить ручной процесс, который мы начали выше, но запустить программу `100` или даже `1000` раз, и получим распределение потенциальных сумм комиссии. Это распределение может информировать о вероятности того, что расходы будут в пределах определенного окна. В конце концов, это прогноз, поэтому мы, скорее всего, никогда его точно не предскажем. Мы можем разработать более информативное представление о потенциальном риске недостаточного или завышенного бюджета.\n",
    "\n",
    "Запуск моделирования Монте-Карло состоит из двух компонентов:\n",
    "\n",
    "- уравнение для оценки;\n",
    "- случайные величины для входа.\n",
    "\n",
    "Уравнение мы рассмотрели выше. Теперь нужно подумать о том, как заполнить случайные величины.\n",
    "\n",
    "Один из простых подходов - взять случайное число от `0%` до `200%` (представляющее нашу интуицию о ставках комиссионных). Однако, поскольку мы выплачиваем комиссионные каждый год, мы понимаем нашу проблему немного подробнее и можем использовать эти предварительные знания для построения более точной модели.\n",
    "\n",
    "Поскольку мы выплачивали комиссионные в течение нескольких лет, мы можем взглянуть на типичное историческое распределение целевого процента:\n",
    "\n",
    "![](https://github.com/dm-fedorov/pandas_basic/blob/master/pic/monte_carlo_image_hist_pct.png?raw=True)\n",
    "\n",
    "Это распределение выглядит как нормальное распределение со средним значением `100%` и стандартным отклонением `10%`. Это понимание полезно, потому что мы можем моделировать наше распределение входных переменных так, чтобы оно было похоже на реальный опыт.\n",
    "\n",
    "Если вас интересуют дополнительные детали для оценки типа распределения, я рекомендую [эту статью](https://www.mikulskibartosz.name/monte-carlo-simulation-in-python/)."
   ]
  },
  {
   "cell_type": "markdown",
   "metadata": {},
   "source": [
    "## Построение модели Python\n",
    "\n",
    "Можем использовать *pandas* для построения модели, которая воспроизводит расчет таблицы *Excel*. Существуют и другие подходы к построению моделей Монте-Карло, но я считаю, что с помощью *pandas* легче понять, если вы ранее работали с *Excel*. \n",
    "\n",
    "Выполним импорт и установим стиль для графиков:"
   ]
  },
  {
   "cell_type": "code",
   "execution_count": 1,
   "metadata": {},
   "outputs": [],
   "source": [
    "import pandas as pd\n",
    "import numpy as np\n",
    "import seaborn as sns\n",
    "\n",
    "sns.set_style('whitegrid')"
   ]
  },
  {
   "cell_type": "markdown",
   "metadata": {},
   "source": [
    "Для этой модели мы будем использовать генерацию случайных чисел из *NumPy*. Преимущество *NumPy* заключается в том, что существует [несколько генераторов случайных чисел](https://numpy.org/doc/stable/reference/random/index.html), которые могут создавать случайные выборки на основе заранее заданного распределения.\n",
    "\n",
    "Как сказано выше, мы знаем, что исторический процент к целевой производительности сосредоточен вокруг среднего значения `100%` и стандартного отклонения `10%`. Давайте определим эти переменные, а также количество торговых представителей и число симуляций, которое мы моделируем:"
   ]
  },
  {
   "cell_type": "code",
   "execution_count": 2,
   "metadata": {},
   "outputs": [],
   "source": [
    "avg = 1\n",
    "std_dev = .1\n",
    "num_reps = 500\n",
    "num_simulations = 1000"
   ]
  },
  {
   "cell_type": "markdown",
   "metadata": {},
   "source": [
    "Теперь мы можем использовать *NumPy* для создания списка процентов, который будет воспроизводить историческое нормальное распределение:"
   ]
  },
  {
   "cell_type": "code",
   "execution_count": 3,
   "metadata": {},
   "outputs": [],
   "source": [
    "pct_to_target = np.random.normal(avg, std_dev, num_reps).round(2)"
   ]
  },
  {
   "cell_type": "markdown",
   "metadata": {},
   "source": [
    "В этом примере я решил округлить результат до двух знаков после запятой, чтобы было легче увидеть границы. \n",
    "\n",
    "Вот как выглядят первые `10` пунктов:"
   ]
  },
  {
   "cell_type": "code",
   "execution_count": 4,
   "metadata": {},
   "outputs": [
    {
     "data": {
      "text/plain": [
       "array([0.92, 1.15, 0.98, 1.13, 0.98, 1.  , 0.94, 1.11, 1.19, 1.07])"
      ]
     },
     "execution_count": 4,
     "metadata": {},
     "output_type": "execute_result"
    }
   ],
   "source": [
    "pct_to_target[:10]"
   ]
  },
  {
   "cell_type": "markdown",
   "metadata": {},
   "source": [
    "Это хорошая проверка, чтобы убедиться, что диапазоны соответствуют ожиданиям.\n",
    "\n",
    "Поскольку мы пытаемся улучшить наш простой подход, то будем придерживаться нормального распределения целевого процента. Однако, используя *NumPy*, можно настроить и использовать другое распределение для будущих моделей, если это необходимо. Предупреждаю, что не надо использовать другие модели, не понимая их и, как они применимы к вашей ситуации.\n",
    "\n",
    "Есть еще одно значение, которое нужно смоделировать, и это фактическая цель продаж. Чтобы проиллюстрировать другое распределение, предположим, что наше целевое распределение продаж выглядит примерно так:\n",
    "\n",
    "![](https://github.com/dm-fedorov/pandas_basic/blob/master/pic/monte_carlo_sales_target.png?raw=True)\n",
    "\n",
    "Это определенно ненормальное распределение. Это распределение показывает нам, что цели продаж устанавливаются в `1` из `5` сегментов, и частота уменьшается с увеличением суммы. Такое распределение может свидетельствовать об очень простом процессе установления целевых показателей, при котором отдельные лица делятся на определенные группы и получают целевые показатели последовательно в зависимости от их срока пребывания (tenure), размера территории или воронки продаж.\n",
    "\n",
    "Для этого примера будем использовать равномерное распределение, но назначим более низкие уровни вероятности для некоторых значений.\n",
    "\n",
    "Вот как мы можем это построить, используя [`numpy.random.choice`](https://numpy.org/doc/stable/reference/random/generated/numpy.random.choice.html):"
   ]
  },
  {
   "cell_type": "code",
   "execution_count": 5,
   "metadata": {},
   "outputs": [],
   "source": [
    "sales_target_values = [75_000, 100_000, 200_000, 300_000, 400_000, 500_000]\n",
    "sales_target_prob = [.3, .3, .2, .1, .05, .05]\n",
    "sales_target = np.random.choice(sales_target_values, num_reps, p=sales_target_prob)"
   ]
  },
  {
   "cell_type": "markdown",
   "metadata": {},
   "source": [
    "По общему признанию, это несколько надуманный пример, но я хотел показать, как различные распределения могут быть включены в модель. \n",
    "\n",
    "Теперь, когда мы знаем, как создать два входных распределения, давайте создадим фрейм данных (*dataframe*) *pandas*:"
   ]
  },
  {
   "cell_type": "code",
   "execution_count": 6,
   "metadata": {},
   "outputs": [],
   "source": [
    "df = pd.DataFrame(index=range(num_reps), \n",
    "                  data={'Pct_To_Target': pct_to_target,\n",
    "                        'Sales_Target': sales_target})"
   ]
  },
  {
   "cell_type": "code",
   "execution_count": 7,
   "metadata": {},
   "outputs": [
    {
     "data": {
      "image/png": "[encoded data removed]",
      "text/plain": [
       "<Figure size 432x288 with 1 Axes>"
      ]
     },
     "metadata": {},
     "output_type": "display_data"
    }
   ],
   "source": [
    "# Простая гистограмма для подтверждения распределения\n",
    "df['Pct_To_Target'].plot(kind='hist', title='Historical % to Target Distribution');"
   ]
  },
  {
   "cell_type": "code",
   "execution_count": 8,
   "metadata": {},
   "outputs": [
    {
     "data": {
      "image/png": "[encoded data removed]",
      "text/plain": [
       "<Figure size 432x288 with 1 Axes>"
      ]
     },
     "metadata": {},
     "output_type": "display_data"
    }
   ],
   "source": [
    "# Посмотрите на целевое распределение продаж\n",
    "df['Sales_Target'].plot(kind='hist', \n",
    "                        title='Historical Sales Target Distribution');"
   ]
  },
  {
   "cell_type": "code",
   "execution_count": 9,
   "metadata": {},
   "outputs": [],
   "source": [
    "# Фактическая сумма продаж\n",
    "df['Sales'] = df['Pct_To_Target'] * df['Sales_Target']"
   ]
  },
  {
   "cell_type": "markdown",
   "metadata": {},
   "source": [
    "Вот как выглядит новый фрейм данных:"
   ]
  },
  {
   "cell_type": "code",
   "execution_count": 10,
   "metadata": {},
   "outputs": [
    {
     "data": {
      "text/html": [
       "<div>\n",
       "<style scoped>\n",
       "    .dataframe tbody tr th:only-of-type {\n",
       "        vertical-align: middle;\n",
       "    }\n",
       "\n",
       "    .dataframe tbody tr th {\n",
       "        vertical-align: top;\n",
       "    }\n",
       "\n",
       "    .dataframe thead th {\n",
       "        text-align: right;\n",
       "    }\n",
       "</style>\n",
       "<table border=\"1\" class=\"dataframe\">\n",
       "  <thead>\n",
       "    <tr style=\"text-align: right;\">\n",
       "      <th></th>\n",
       "      <th>Pct_To_Target</th>\n",
       "      <th>Sales_Target</th>\n",
       "      <th>Sales</th>\n",
       "    </tr>\n",
       "  </thead>\n",
       "  <tbody>\n",
       "    <tr>\n",
       "      <th>0</th>\n",
       "      <td>0.92</td>\n",
       "      <td>300000</td>\n",
       "      <td>276000.0</td>\n",
       "    </tr>\n",
       "    <tr>\n",
       "      <th>1</th>\n",
       "      <td>1.15</td>\n",
       "      <td>75000</td>\n",
       "      <td>86250.0</td>\n",
       "    </tr>\n",
       "    <tr>\n",
       "      <th>2</th>\n",
       "      <td>0.98</td>\n",
       "      <td>200000</td>\n",
       "      <td>196000.0</td>\n",
       "    </tr>\n",
       "    <tr>\n",
       "      <th>3</th>\n",
       "      <td>1.13</td>\n",
       "      <td>100000</td>\n",
       "      <td>113000.0</td>\n",
       "    </tr>\n",
       "    <tr>\n",
       "      <th>4</th>\n",
       "      <td>0.98</td>\n",
       "      <td>100000</td>\n",
       "      <td>98000.0</td>\n",
       "    </tr>\n",
       "  </tbody>\n",
       "</table>\n",
       "</div>"
      ],
      "text/plain": [
       "   Pct_To_Target  Sales_Target     Sales\n",
       "0           0.92        300000  276000.0\n",
       "1           1.15         75000   86250.0\n",
       "2           0.98        200000  196000.0\n",
       "3           1.13        100000  113000.0\n",
       "4           0.98        100000   98000.0"
      ]
     },
     "execution_count": 10,
     "metadata": {},
     "output_type": "execute_result"
    }
   ],
   "source": [
    "df.head()"
   ]
  },
  {
   "cell_type": "markdown",
   "metadata": {},
   "source": [
    "Вы могли заметить, что я проделал небольшой трюк, чтобы вычислить фактическую сумму продаж (*actual sales amount*). Для этой задачи фактическая сумма продаж может сильно меняться с годами, но распределение производительности остается удивительно стабильным. Поэтому я использую случайные распределения для генерации исходных данных и поддержки фактических продаж.\n",
    "\n",
    "Последний фрагмент кода, который нужно создать, - это способ сопоставления `Pct_To_Target` со ставкой комиссии. \n",
    "\n",
    "Вот функция:"
   ]
  },
  {
   "cell_type": "code",
   "execution_count": 11,
   "metadata": {},
   "outputs": [],
   "source": [
    "def calc_commission_rate(x):\n",
    "    \"\"\" Вернуть комиссию по таблице:\n",
    "    0-90% = 2%\n",
    "    91-99% = 3%\n",
    "    >= 100 = 4%\n",
    "    \"\"\"\n",
    "    if x <= .90:\n",
    "        return .02\n",
    "    if x <= .99:\n",
    "        return .03\n",
    "    else:\n",
    "        return .04"
   ]
  },
  {
   "cell_type": "markdown",
   "metadata": {},
   "source": [
    "> Дополнительное преимущество использования *Python* вместо *Excel* заключается в том, что мы можем создать гораздо более сложную логику, которую легче понять, чем если бы мы пытались создать сложный вложенный оператор *if* в *Excel*.\n",
    "\n",
    "Теперь мы создаем ставку комиссии и умножаем ее на продажи:"
   ]
  },
  {
   "cell_type": "code",
   "execution_count": 12,
   "metadata": {},
   "outputs": [],
   "source": [
    "df['Commission_Rate'] = df['Pct_To_Target'].apply(calc_commission_rate)"
   ]
  },
  {
   "cell_type": "code",
   "execution_count": 13,
   "metadata": {},
   "outputs": [],
   "source": [
    "# Рассчитайте комиссии\n",
    "df['Commission_Amount'] = df['Commission_Rate'] * df['Sales']"
   ]
  },
  {
   "cell_type": "markdown",
   "metadata": {},
   "source": [
    "Результат похож на модель, построенную в *Excel*:"
   ]
  },
  {
   "cell_type": "code",
   "execution_count": 14,
   "metadata": {},
   "outputs": [
    {
     "data": {
      "text/html": [
       "<div>\n",
       "<style scoped>\n",
       "    .dataframe tbody tr th:only-of-type {\n",
       "        vertical-align: middle;\n",
       "    }\n",
       "\n",
       "    .dataframe tbody tr th {\n",
       "        vertical-align: top;\n",
       "    }\n",
       "\n",
       "    .dataframe thead th {\n",
       "        text-align: right;\n",
       "    }\n",
       "</style>\n",
       "<table border=\"1\" class=\"dataframe\">\n",
       "  <thead>\n",
       "    <tr style=\"text-align: right;\">\n",
       "      <th></th>\n",
       "      <th>Pct_To_Target</th>\n",
       "      <th>Sales_Target</th>\n",
       "      <th>Sales</th>\n",
       "      <th>Commission_Rate</th>\n",
       "      <th>Commission_Amount</th>\n",
       "    </tr>\n",
       "  </thead>\n",
       "  <tbody>\n",
       "    <tr>\n",
       "      <th>0</th>\n",
       "      <td>0.92</td>\n",
       "      <td>300000</td>\n",
       "      <td>276000.0</td>\n",
       "      <td>0.03</td>\n",
       "      <td>8280.0</td>\n",
       "    </tr>\n",
       "    <tr>\n",
       "      <th>1</th>\n",
       "      <td>1.15</td>\n",
       "      <td>75000</td>\n",
       "      <td>86250.0</td>\n",
       "      <td>0.04</td>\n",
       "      <td>3450.0</td>\n",
       "    </tr>\n",
       "    <tr>\n",
       "      <th>2</th>\n",
       "      <td>0.98</td>\n",
       "      <td>200000</td>\n",
       "      <td>196000.0</td>\n",
       "      <td>0.03</td>\n",
       "      <td>5880.0</td>\n",
       "    </tr>\n",
       "    <tr>\n",
       "      <th>3</th>\n",
       "      <td>1.13</td>\n",
       "      <td>100000</td>\n",
       "      <td>113000.0</td>\n",
       "      <td>0.04</td>\n",
       "      <td>4520.0</td>\n",
       "    </tr>\n",
       "    <tr>\n",
       "      <th>4</th>\n",
       "      <td>0.98</td>\n",
       "      <td>100000</td>\n",
       "      <td>98000.0</td>\n",
       "      <td>0.03</td>\n",
       "      <td>2940.0</td>\n",
       "    </tr>\n",
       "  </tbody>\n",
       "</table>\n",
       "</div>"
      ],
      "text/plain": [
       "   Pct_To_Target  Sales_Target     Sales  Commission_Rate  Commission_Amount\n",
       "0           0.92        300000  276000.0             0.03             8280.0\n",
       "1           1.15         75000   86250.0             0.04             3450.0\n",
       "2           0.98        200000  196000.0             0.03             5880.0\n",
       "3           1.13        100000  113000.0             0.04             4520.0\n",
       "4           0.98        100000   98000.0             0.03             2940.0"
      ]
     },
     "execution_count": 14,
     "metadata": {},
     "output_type": "execute_result"
    }
   ],
   "source": [
    "df.head()"
   ]
  },
  {
   "cell_type": "markdown",
   "metadata": {},
   "source": [
    "Просуммируем значения в каждом из столбцов (нужный нам результат в столбце `Commission_Amount`):"
   ]
  },
  {
   "cell_type": "code",
   "execution_count": 15,
   "metadata": {},
   "outputs": [
    {
     "data": {
      "text/plain": [
       "(84275500.0, 2887310.0, 84225000)"
      ]
     },
     "execution_count": 15,
     "metadata": {},
     "output_type": "execute_result"
    }
   ],
   "source": [
    "df['Sales'].sum(), df['Commission_Amount'].sum(), df['Sales_Target'].sum()"
   ]
  },
  {
   "cell_type": "markdown",
   "metadata": {},
   "source": [
    "Вот и все!\n",
    "\n",
    "Мы воспроизвели модель, аналогичную той, что сделали в *Excel*, но использовали несколько более сложных распределений, чем просто добавление в задачу набора случайных чисел."
   ]
  },
  {
   "cell_type": "markdown",
   "metadata": {},
   "source": [
    "## Запустим цикл\n",
    "\n",
    "Настоящая \"магия\" моделирования Монте-Карло заключается в том, что, если мы запускаем моделирование много раз, то начинаем формировать картину вероятного распределения результатов. В *Excel* понадобится *VBA* для выполнения нескольких итераций. В *Python* мы можем использовать `цикл for` для запуска любого количества симуляций.\n",
    "\n",
    "Помимо запуска каждой симуляции, сохраняем результаты, которые нам интересны, в списке, который превратим во фрейм данных для дальнейшего анализа распределения результатов.\n",
    "\n",
    "Вот полный код цикла:"
   ]
  },
  {
   "cell_type": "code",
   "execution_count": 16,
   "metadata": {},
   "outputs": [],
   "source": [
    "# Определите список, чтобы сохранить результаты каждой симуляции, которую хотим проанализировать\n",
    "all_stats = []\n",
    "\n",
    "# Пройдите через множество симуляций\n",
    "for i in range(num_simulations):\n",
    "\n",
    "    # Выберите случайные входные данные для целей продаж и процент для целей\n",
    "    sales_target = np.random.choice(sales_target_values, num_reps, p=sales_target_prob)\n",
    "    pct_to_target = np.random.normal(avg, std_dev, num_reps).round(2)\n",
    "\n",
    "    # Создайте фрейм данных на основе входных значений и количества повторений\n",
    "    df = pd.DataFrame(index=range(num_reps), data={'Pct_To_Target': pct_to_target,\n",
    "                                                   'Sales_Target': sales_target})\n",
    "\n",
    "    # Вернитесь к количеству продаж, используя процент для целевой ставки\n",
    "    df['Sales'] = df['Pct_To_Target'] * df['Sales_Target']\n",
    "\n",
    "    # Определите ставку комиссии и рассчитайте ее\n",
    "    df['Commission_Rate'] = df['Pct_To_Target'].apply(calc_commission_rate)\n",
    "    df['Commission_Amount'] = df['Commission_Rate'] * df['Sales']\n",
    "\n",
    "    # Мы хотим отслеживать продажи, суммы комиссионных и целевые показатели продаж по всем симуляциям\n",
    "    all_stats.append([df['Sales'].sum().round(0),\n",
    "                      df['Commission_Amount'].sum().round(0),\n",
    "                      df['Sales_Target'].sum().round(0)])"
   ]
  },
  {
   "cell_type": "markdown",
   "metadata": {},
   "source": [
    "Результаты `1 миллиона` симуляций не всегда более полезны, чем `10 000`. Попробуйте разное количества и посмотрите, как изменится результат.\n",
    "\n",
    "Чтобы проанализировать результаты моделирования, я построю фрейм данных из `all_stats`:"
   ]
  },
  {
   "cell_type": "code",
   "execution_count": 17,
   "metadata": {},
   "outputs": [],
   "source": [
    "results_df = pd.DataFrame.from_records(all_stats, columns=['Sales',\n",
    "                                                           'Commission_Amount',\n",
    "                                                           'Sales_Target'])"
   ]
  },
  {
   "cell_type": "markdown",
   "metadata": {},
   "source": [
    "Теперь легко увидеть, как выглядит диапазон результатов:"
   ]
  },
  {
   "cell_type": "code",
   "execution_count": 18,
   "metadata": {},
   "outputs": [
    {
     "data": {
      "text/html": [
       "<style  type=\"text/css\" >\n",
       "</style><table id=\"T_63d03_\" ><thead>    <tr>        <th class=\"blank level0\" ></th>        <th class=\"col_heading level0 col0\" >Sales</th>        <th class=\"col_heading level0 col1\" >Commission_Amount</th>        <th class=\"col_heading level0 col2\" >Sales_Target</th>    </tr></thead><tbody>\n",
       "                <tr>\n",
       "                        <th id=\"T_63d03_level0_row0\" class=\"row_heading level0 row0\" >count</th>\n",
       "                        <td id=\"T_63d03_row0_col0\" class=\"data row0 col0\" >1,000.0</td>\n",
       "                        <td id=\"T_63d03_row0_col1\" class=\"data row0 col1\" >1,000.0</td>\n",
       "                        <td id=\"T_63d03_row0_col2\" class=\"data row0 col2\" >1,000.0</td>\n",
       "            </tr>\n",
       "            <tr>\n",
       "                        <th id=\"T_63d03_level0_row1\" class=\"row_heading level0 row1\" >mean</th>\n",
       "                        <td id=\"T_63d03_row1_col0\" class=\"data row1 col0\" >83,931,180.5</td>\n",
       "                        <td id=\"T_63d03_row1_col1\" class=\"data row1 col1\" >2,865,507.675</td>\n",
       "                        <td id=\"T_63d03_row1_col2\" class=\"data row1 col2\" >83,942,175.0</td>\n",
       "            </tr>\n",
       "            <tr>\n",
       "                        <th id=\"T_63d03_level0_row2\" class=\"row_heading level0 row2\" >std</th>\n",
       "                        <td id=\"T_63d03_row2_col0\" class=\"data row2 col0\" >2,730,459.8230682616</td>\n",
       "                        <td id=\"T_63d03_row2_col1\" class=\"data row2 col1\" >105,217.49947883165</td>\n",
       "                        <td id=\"T_63d03_row2_col2\" class=\"data row2 col2\" >2,661,233.794630732</td>\n",
       "            </tr>\n",
       "            <tr>\n",
       "                        <th id=\"T_63d03_level0_row3\" class=\"row_heading level0 row3\" >min</th>\n",
       "                        <td id=\"T_63d03_row3_col0\" class=\"data row3 col0\" >74,895,750.0</td>\n",
       "                        <td id=\"T_63d03_row3_col1\" class=\"data row3 col1\" >2,529,560.0</td>\n",
       "                        <td id=\"T_63d03_row3_col2\" class=\"data row3 col2\" >75,150,000.0</td>\n",
       "            </tr>\n",
       "            <tr>\n",
       "                        <th id=\"T_63d03_level0_row4\" class=\"row_heading level0 row4\" >25%</th>\n",
       "                        <td id=\"T_63d03_row4_col0\" class=\"data row4 col0\" >82,026,750.0</td>\n",
       "                        <td id=\"T_63d03_row4_col1\" class=\"data row4 col1\" >2,795,261.25</td>\n",
       "                        <td id=\"T_63d03_row4_col2\" class=\"data row4 col2\" >81,975,000.0</td>\n",
       "            </tr>\n",
       "            <tr>\n",
       "                        <th id=\"T_63d03_level0_row5\" class=\"row_heading level0 row5\" >50%</th>\n",
       "                        <td id=\"T_63d03_row5_col0\" class=\"data row5 col0\" >83,817,750.0</td>\n",
       "                        <td id=\"T_63d03_row5_col1\" class=\"data row5 col1\" >2,862,944.0</td>\n",
       "                        <td id=\"T_63d03_row5_col2\" class=\"data row5 col2\" >83,862,500.0</td>\n",
       "            </tr>\n",
       "            <tr>\n",
       "                        <th id=\"T_63d03_level0_row6\" class=\"row_heading level0 row6\" >75%</th>\n",
       "                        <td id=\"T_63d03_row6_col0\" class=\"data row6 col0\" >85,761,250.0</td>\n",
       "                        <td id=\"T_63d03_row6_col1\" class=\"data row6 col1\" >2,935,127.5</td>\n",
       "                        <td id=\"T_63d03_row6_col2\" class=\"data row6 col2\" >85,775,000.0</td>\n",
       "            </tr>\n",
       "            <tr>\n",
       "                        <th id=\"T_63d03_level0_row7\" class=\"row_heading level0 row7\" >max</th>\n",
       "                        <td id=\"T_63d03_row7_col0\" class=\"data row7 col0\" >93,293,250.0</td>\n",
       "                        <td id=\"T_63d03_row7_col1\" class=\"data row7 col1\" >3,248,390.0</td>\n",
       "                        <td id=\"T_63d03_row7_col2\" class=\"data row7 col2\" >92,925,000.0</td>\n",
       "            </tr>\n",
       "    </tbody></table>"
      ],
      "text/plain": [
       "<pandas.io.formats.style.Styler at 0x7f2eda8523d0>"
      ]
     },
     "execution_count": 18,
     "metadata": {},
     "output_type": "execute_result"
    }
   ],
   "source": [
    "results_df.describe().style.format('{:,}')"
   ]
  },
  {
   "cell_type": "markdown",
   "metadata": {},
   "source": [
    "Графически это выглядит так:"
   ]
  },
  {
   "cell_type": "code",
   "execution_count": 19,
   "metadata": {},
   "outputs": [
    {
     "data": {
      "image/png": "[encoded data removed]",
      "text/plain": [
       "<Figure size 432x288 with 1 Axes>"
      ]
     },
     "metadata": {},
     "output_type": "display_data"
    }
   ],
   "source": [
    "results_df['Commission_Amount'].plot(kind='hist', \n",
    "                                     title=\"Total Commission Amount\");"
   ]
  },
  {
   "cell_type": "markdown",
   "metadata": {},
   "source": [
    "Итак, о чем говорит эта диаграмма и результат описания? \n",
    "\n",
    "Видим, что средние комиссионные расходы составляют `2,85 миллиона долларов`, а стандартное отклонение составляет `103 тысячи долларов`. Мы также видим, что размер комиссионных может составлять от `2,5` до `3,2 млн долларов`.\n",
    "\n",
    "Исходя из этих результатов, насколько вы уверены, что расходы на комиссионные будут меньше `3 миллионов долларов`? Или, если кто-то скажет: \"Давайте выделим только `2,7 миллиона долларов`\", почувствуете ли вы, что ваши расходы будут меньше этой суммы? Возможно нет.\n",
    "\n",
    "В этом заключается одно из преимуществ моделирования Монте-Карло. Вы лучше понимаете распределение вероятных результатов и можете использовать эти знания, а также свою деловую хватку, чтобы сделать обоснованную оценку.\n",
    "\n",
    "Другая ценность этой модели состоит в том, что вы можете моделировать множество различных предположений и смотреть, что происходит. Вот несколько простых изменений, которые вы можете внести, чтобы увидеть, как меняются результаты:\n",
    "\n",
    "- увеличить максимальную комиссию до 5%;\n",
    "- уменьшите количество продавцов;\n",
    "- измените ожидаемое стандартное отклонение на большее значение;\n",
    "- изменить распределение целей.\n",
    "\n",
    "Теперь, когда модель создана, внести эти изменения так же просто, как настроить несколько переменных и повторно запустить код. \n",
    "\n",
    "Еще одно наблюдение, касающееся моделирования методом Монте-Карло, заключается в том, что его относительно легко объяснить конечному пользователю. Человек, получающий эту оценку, может не иметь глубоких математических знаний, но способен интуитивно понять, что делает это моделирование и как оценить вероятность диапазона возможных результатов.\n",
    "\n",
    "Наконец, я думаю, что показанный здесь подход легче понять и воспроизвести, чем некоторые решения *Excel*, с которыми вы можете столкнуться. \n",
    "\n",
    "## Заключение\n",
    "\n",
    "*Моделирование методом Монте-Карло* - полезный инструмент для прогнозирования будущих результатов путем многократного вычисления формулы с различными случайными входными данными. \n",
    "\n",
    "Дополнительным преимуществом *Python* является то, что аналитики могут запускать множество сценариев, изменяя исходные данные, и переходить к гораздо более сложным моделям в будущем, если возникнут потребности. Наконец, результатами можно поделиться с нетехническими пользователями и облегчить обсуждение неопределенности конечных результатов."
   ]
  },
  {
   "cell_type": "markdown",
   "metadata": {},
   "source": [
    "### Обновления 19 марта 2019 г. \n",
    "> Основываясь на [комментариях Reddit](https://www.reddit.com/r/Python/comments/arxwkm/monte_carlo_simulation_with_python/), я сделал еще одну [реализацию](https://colab.research.google.com/github/chris1610/pbpython/blob/master/notebooks/Monte_Carlo_Simulationv2.ipynb), которая работает быстрее."
   ]
  },
  {
   "cell_type": "code",
   "execution_count": null,
   "metadata": {},
   "outputs": [],
   "source": []
  }
 ],
 "metadata": {
  "kernelspec": {
   "display_name": "Python 3",
   "language": "python",
   "name": "python3"
  },
  "language_info": {
   "codemirror_mode": {
    "name": "ipython",
    "version": 3
   },
   "file_extension": ".py",
   "mimetype": "text/x-python",
   "name": "python",
   "nbconvert_exporter": "python",
   "pygments_lexer": "ipython3",
   "version": "3.8.3"
  },
  "widgets": {
   "application/vnd.jupyter.widget-state+json": {
    "state": {},
    "version_major": 2,
    "version_minor": 0
   }
  }
 },
 "nbformat": 4,
 "nbformat_minor": 4
}
