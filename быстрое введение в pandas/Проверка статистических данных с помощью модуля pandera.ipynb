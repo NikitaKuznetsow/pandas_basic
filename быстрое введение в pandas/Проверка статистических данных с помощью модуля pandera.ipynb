{
 "cells": [
  {
   "cell_type": "markdown",
   "metadata": {},
   "source": [
    "# Проверка статистических данных для pandas с помощью модуля pandera"
   ]
  },
  {
   "cell_type": "markdown",
   "metadata": {},
   "source": [
    "<a href=\"https://colab.research.google.com/github/dm-fedorov/pandas_basic/blob/master/быстрое%20введение%20в%20pandas/Pandas%20за%2010%20минут.ipynb\"><img align=\"left\" src=\"https://colab.research.google.com/assets/colab-badge.svg\" alt=\"Open in Colab\" title=\"Open and Execute in Google Colaboratory\" target=\"_blank\"></a>"
   ]
  },
  {
   "cell_type": "markdown",
   "metadata": {},
   "source": [
    "<a href=\"https://t.me/init_python\"><img src=\"https://dfedorov.spb.ru/pandas/logo-telegram.png\" width=\"35\" height=\"35\" alt=\"telegram\" align=\"left\"></a>"
   ]
  },
  {
   "cell_type": "markdown",
   "metadata": {},
   "source": [
    "[*pandera*](https://pandera.readthedocs.io/en/stable/) - инструмент проверки данных, который предоставляет интуитивно понятный, гибкий и выразительный API для проверки структур данных *pandas* во время выполнения. \n",
    "\n",
    "![](https://raw.githubusercontent.com/pandera-dev/pandera/master/docs/source/_static/pandera-banner.png)"
   ]
  },
  {
   "cell_type": "code",
   "execution_count": 1,
   "metadata": {},
   "outputs": [],
   "source": [
    "#!pip3 install pandera"
   ]
  },
  {
   "cell_type": "code",
   "execution_count": 2,
   "metadata": {},
   "outputs": [],
   "source": [
    "#conda install -c conda-forge pandera"
   ]
  },
  {
   "cell_type": "markdown",
   "metadata": {},
   "source": [
    "Начем с показательного примера:"
   ]
  },
  {
   "cell_type": "code",
   "execution_count": 3,
   "metadata": {},
   "outputs": [],
   "source": [
    "import pandas as pd\n",
    "import pandera as pa"
   ]
  },
  {
   "cell_type": "code",
   "execution_count": 4,
   "metadata": {},
   "outputs": [
    {
     "data": {
      "text/html": [
       "<div>\n",
       "<style scoped>\n",
       "    .dataframe tbody tr th:only-of-type {\n",
       "        vertical-align: middle;\n",
       "    }\n",
       "\n",
       "    .dataframe tbody tr th {\n",
       "        vertical-align: top;\n",
       "    }\n",
       "\n",
       "    .dataframe thead th {\n",
       "        text-align: right;\n",
       "    }\n",
       "</style>\n",
       "<table border=\"1\" class=\"dataframe\">\n",
       "  <thead>\n",
       "    <tr style=\"text-align: right;\">\n",
       "      <th></th>\n",
       "      <th>column1</th>\n",
       "      <th>column2</th>\n",
       "      <th>column3</th>\n",
       "    </tr>\n",
       "  </thead>\n",
       "  <tbody>\n",
       "    <tr>\n",
       "      <th>0</th>\n",
       "      <td>1</td>\n",
       "      <td>-1.3</td>\n",
       "      <td>value_1</td>\n",
       "    </tr>\n",
       "    <tr>\n",
       "      <th>1</th>\n",
       "      <td>4</td>\n",
       "      <td>-1.4</td>\n",
       "      <td>value_2</td>\n",
       "    </tr>\n",
       "    <tr>\n",
       "      <th>2</th>\n",
       "      <td>0</td>\n",
       "      <td>-2.9</td>\n",
       "      <td>value_3</td>\n",
       "    </tr>\n",
       "    <tr>\n",
       "      <th>3</th>\n",
       "      <td>10</td>\n",
       "      <td>-10.1</td>\n",
       "      <td>value_2</td>\n",
       "    </tr>\n",
       "    <tr>\n",
       "      <th>4</th>\n",
       "      <td>9</td>\n",
       "      <td>-20.4</td>\n",
       "      <td>value_1</td>\n",
       "    </tr>\n",
       "  </tbody>\n",
       "</table>\n",
       "</div>"
      ],
      "text/plain": [
       "   column1  column2  column3\n",
       "0        1     -1.3  value_1\n",
       "1        4     -1.4  value_2\n",
       "2        0     -2.9  value_3\n",
       "3       10    -10.1  value_2\n",
       "4        9    -20.4  value_1"
      ]
     },
     "execution_count": 4,
     "metadata": {},
     "output_type": "execute_result"
    }
   ],
   "source": [
    "# создадим фрейм данных:\n",
    "df = pd.DataFrame({\n",
    "    \"column1\": [1, 4, 0, 10, 9],\n",
    "    \"column2\": [-1.3, -1.4, -2.9, -10.1, -20.4],\n",
    "    \"column3\": [\"value_1\", \"value_2\", \"value_3\", \"value_2\", \"value_1\"]\n",
    "})\n",
    "df"
   ]
  },
  {
   "cell_type": "code",
   "execution_count": 5,
   "metadata": {},
   "outputs": [],
   "source": [
    "# определим схему для проверки фрейма данных:\n",
    "schema = pa.DataFrameSchema({\n",
    "    \"column1\": pa.Column(int, checks=pa.Check.le(10)), # Проверим, что значения меньше или равны 10\n",
    "    \"column2\": pa.Column(float, checks=pa.Check.lt(-1.2)), # Проверим, что значения ряда строго меньше -1.2\n",
    "    \"column3\": pa.Column(str, checks=[\n",
    "        pa.Check.str_startswith(\"value_\"),\n",
    "        # определим пользовательские проверки как функции, \n",
    "        # которые принимают серию в качестве входных данных        \n",
    "        pa.Check(lambda s: s.str.split(\"_\", expand=True).shape[1] == 2)\n",
    "    ]),\n",
    "})"
   ]
  },
  {
   "cell_type": "code",
   "execution_count": 6,
   "metadata": {},
   "outputs": [
    {
     "data": {
      "text/html": [
       "<div>\n",
       "<style scoped>\n",
       "    .dataframe tbody tr th:only-of-type {\n",
       "        vertical-align: middle;\n",
       "    }\n",
       "\n",
       "    .dataframe tbody tr th {\n",
       "        vertical-align: top;\n",
       "    }\n",
       "\n",
       "    .dataframe thead th {\n",
       "        text-align: right;\n",
       "    }\n",
       "</style>\n",
       "<table border=\"1\" class=\"dataframe\">\n",
       "  <thead>\n",
       "    <tr style=\"text-align: right;\">\n",
       "      <th></th>\n",
       "      <th>column1</th>\n",
       "      <th>column2</th>\n",
       "      <th>column3</th>\n",
       "    </tr>\n",
       "  </thead>\n",
       "  <tbody>\n",
       "    <tr>\n",
       "      <th>0</th>\n",
       "      <td>1</td>\n",
       "      <td>-1.3</td>\n",
       "      <td>value_1</td>\n",
       "    </tr>\n",
       "    <tr>\n",
       "      <th>1</th>\n",
       "      <td>4</td>\n",
       "      <td>-1.4</td>\n",
       "      <td>value_2</td>\n",
       "    </tr>\n",
       "    <tr>\n",
       "      <th>2</th>\n",
       "      <td>0</td>\n",
       "      <td>-2.9</td>\n",
       "      <td>value_3</td>\n",
       "    </tr>\n",
       "    <tr>\n",
       "      <th>3</th>\n",
       "      <td>10</td>\n",
       "      <td>-10.1</td>\n",
       "      <td>value_2</td>\n",
       "    </tr>\n",
       "    <tr>\n",
       "      <th>4</th>\n",
       "      <td>9</td>\n",
       "      <td>-20.4</td>\n",
       "      <td>value_1</td>\n",
       "    </tr>\n",
       "  </tbody>\n",
       "</table>\n",
       "</div>"
      ],
      "text/plain": [
       "   column1  column2  column3\n",
       "0        1     -1.3  value_1\n",
       "1        4     -1.4  value_2\n",
       "2        0     -2.9  value_3\n",
       "3       10    -10.1  value_2\n",
       "4        9    -20.4  value_1"
      ]
     },
     "execution_count": 6,
     "metadata": {},
     "output_type": "execute_result"
    }
   ],
   "source": [
    "schema(df)\n",
    "# ошибок не произошло, значит проверка прошла успешно!"
   ]
  },
  {
   "cell_type": "markdown",
   "metadata": {},
   "source": [
    "Основные понятия *pandera* - [`schemas`](https://pandera.readthedocs.io/en/stable/API_reference.html#schemas) (*схемы*), [`schema components`](https://pandera.readthedocs.io/en/stable/API_reference.html#schema-components) (*компоненты схемы*) и [`checks`](https://pandera.readthedocs.io/en/latest/checks.html#checks) (*чекеры*).\n",
    "\n",
    "- *Схемы* - это вызываемые объекты, которые инициализируются правилами проверки. При вызове с совместимыми данными в качестве входного аргумента объект схемы возвращает сами данные, если проверка проходит успешно или вызывает ошибку `SchemaError`. \n",
    "\n",
    "- *Компоненты схемы* ведут себя так же, как *схемы*, но в основном используются для определения правил проверки для определенных частей объекта *pandas*, например столбцов во фрейме данных. \n",
    "\n",
    "- Наконец, *чекеры* позволяют пользователям формулировать правила проверки в зависимости от типа данных, которые *схема* или *компонент схемы* могут проверить. \n",
    "\n",
    "В частности, центральными объектами *pandera* являются [`DataFrameSchema`](https://pandera.readthedocs.io/en/stable/generated/pandera.schemas.DataFrameSchema.html#pandera-schemas-dataframeschema), [`Column`](https://pandera.readthedocs.io/en/stable/generated/pandera.schema_components.Column.html#pandera.schema_components.Column) и [`Check`](https://pandera.readthedocs.io/en/stable/generated/pandera.checks.Check.html#pandera-checks-check). Вместе эти объекты позволяют пользователям заранее выражать схемы в виде контрактов логически сгруппированных наборов правил проверки, которые работают с фреймами данных *pandas*. "
   ]
  },
  {
   "cell_type": "markdown",
   "metadata": {},
   "source": [
    "Например, рассмотрим простой набор данных, содержащий данные о людях, где каждая строка - это человек, а каждый столбец - атрибут об этом человеке:"
   ]
  },
  {
   "cell_type": "code",
   "execution_count": 7,
   "metadata": {},
   "outputs": [],
   "source": [
    "import pandas as pd\n",
    "\n",
    "dataframe = pd.DataFrame({\n",
    "    \"person_id\": [1, 2, 3, 4],\n",
    "    \"height_in_feet\": [6.5, 7, 6.1, 5.1],\n",
    "    \"date_of_birth\": pd.to_datetime([\n",
    "    \"2005\", \"2000\", \"1995\", \"2000\",\n",
    "    ]),\n",
    "    \"education\": [\n",
    "        \"highschool\", \"undergrad\", \"grad\", \"undergrad\",\n",
    "    ],\n",
    "})"
   ]
  },
  {
   "cell_type": "code",
   "execution_count": 8,
   "metadata": {},
   "outputs": [
    {
     "data": {
      "text/html": [
       "<div>\n",
       "<style scoped>\n",
       "    .dataframe tbody tr th:only-of-type {\n",
       "        vertical-align: middle;\n",
       "    }\n",
       "\n",
       "    .dataframe tbody tr th {\n",
       "        vertical-align: top;\n",
       "    }\n",
       "\n",
       "    .dataframe thead th {\n",
       "        text-align: right;\n",
       "    }\n",
       "</style>\n",
       "<table border=\"1\" class=\"dataframe\">\n",
       "  <thead>\n",
       "    <tr style=\"text-align: right;\">\n",
       "      <th></th>\n",
       "      <th>person_id</th>\n",
       "      <th>height_in_feet</th>\n",
       "      <th>date_of_birth</th>\n",
       "      <th>education</th>\n",
       "    </tr>\n",
       "  </thead>\n",
       "  <tbody>\n",
       "    <tr>\n",
       "      <th>0</th>\n",
       "      <td>1</td>\n",
       "      <td>6.5</td>\n",
       "      <td>2005-01-01</td>\n",
       "      <td>highschool</td>\n",
       "    </tr>\n",
       "    <tr>\n",
       "      <th>1</th>\n",
       "      <td>2</td>\n",
       "      <td>7.0</td>\n",
       "      <td>2000-01-01</td>\n",
       "      <td>undergrad</td>\n",
       "    </tr>\n",
       "    <tr>\n",
       "      <th>2</th>\n",
       "      <td>3</td>\n",
       "      <td>6.1</td>\n",
       "      <td>1995-01-01</td>\n",
       "      <td>grad</td>\n",
       "    </tr>\n",
       "    <tr>\n",
       "      <th>3</th>\n",
       "      <td>4</td>\n",
       "      <td>5.1</td>\n",
       "      <td>2000-01-01</td>\n",
       "      <td>undergrad</td>\n",
       "    </tr>\n",
       "  </tbody>\n",
       "</table>\n",
       "</div>"
      ],
      "text/plain": [
       "   person_id  height_in_feet date_of_birth   education\n",
       "0          1             6.5    2005-01-01  highschool\n",
       "1          2             7.0    2000-01-01   undergrad\n",
       "2          3             6.1    1995-01-01        grad\n",
       "3          4             5.1    2000-01-01   undergrad"
      ]
     },
     "execution_count": 8,
     "metadata": {},
     "output_type": "execute_result"
    }
   ],
   "source": [
    "dataframe"
   ]
  },
  {
   "cell_type": "markdown",
   "metadata": {},
   "source": [
    "Изучив имена столбцов и значения данных, можем заметить, что возможно привнести некоторые знания о мире в предметную область, чтобы выразить наши предположения о том, что считать достоверными данными:"
   ]
  },
  {
   "cell_type": "code",
   "execution_count": 9,
   "metadata": {},
   "outputs": [
    {
     "data": {
      "text/html": [
       "<div>\n",
       "<style scoped>\n",
       "    .dataframe tbody tr th:only-of-type {\n",
       "        vertical-align: middle;\n",
       "    }\n",
       "\n",
       "    .dataframe tbody tr th {\n",
       "        vertical-align: top;\n",
       "    }\n",
       "\n",
       "    .dataframe thead th {\n",
       "        text-align: right;\n",
       "    }\n",
       "</style>\n",
       "<table border=\"1\" class=\"dataframe\">\n",
       "  <thead>\n",
       "    <tr style=\"text-align: right;\">\n",
       "      <th></th>\n",
       "      <th>person_id</th>\n",
       "      <th>height_in_feet</th>\n",
       "      <th>date_of_birth</th>\n",
       "      <th>education</th>\n",
       "    </tr>\n",
       "  </thead>\n",
       "  <tbody>\n",
       "    <tr>\n",
       "      <th>0</th>\n",
       "      <td>1</td>\n",
       "      <td>6.5</td>\n",
       "      <td>2005-01-01</td>\n",
       "      <td>highschool</td>\n",
       "    </tr>\n",
       "    <tr>\n",
       "      <th>1</th>\n",
       "      <td>2</td>\n",
       "      <td>7.0</td>\n",
       "      <td>2000-01-01</td>\n",
       "      <td>undergrad</td>\n",
       "    </tr>\n",
       "    <tr>\n",
       "      <th>2</th>\n",
       "      <td>3</td>\n",
       "      <td>6.1</td>\n",
       "      <td>1995-01-01</td>\n",
       "      <td>grad</td>\n",
       "    </tr>\n",
       "    <tr>\n",
       "      <th>3</th>\n",
       "      <td>4</td>\n",
       "      <td>5.1</td>\n",
       "      <td>2000-01-01</td>\n",
       "      <td>undergrad</td>\n",
       "    </tr>\n",
       "  </tbody>\n",
       "</table>\n",
       "</div>"
      ],
      "text/plain": [
       "   person_id  height_in_feet date_of_birth   education\n",
       "0          1             6.5    2005-01-01  highschool\n",
       "1          2             7.0    2000-01-01   undergrad\n",
       "2          3             6.1    1995-01-01        grad\n",
       "3          4             5.1    2000-01-01   undergrad"
      ]
     },
     "execution_count": 9,
     "metadata": {},
     "output_type": "execute_result"
    }
   ],
   "source": [
    "import pandas as pd\n",
    "import pandera as pa\n",
    "from pandera import Column\n",
    "\n",
    "typed_schema = pa.DataFrameSchema(\n",
    "    {\n",
    "        \"person_id\": Column(pa.Int),        \n",
    "        # поддерживаются типы данных numpy и pandas\n",
    "        \"height_in_feet\": Column(\"float\"),\n",
    "        \"date_of_birth\": Column(\"datetime64[ns]\"),        \n",
    "        \"education\": Column(\n",
    "            pd.StringDtype(),\n",
    "            nullable=True\n",
    "        ),\n",
    "    },\n",
    "\n",
    "    # принудительное преобразование к типам данных при проверке фрейма\n",
    "    coerce=True\n",
    ")\n",
    "\n",
    "typed_schema(dataframe)\n",
    "# возвращается фрейм данных"
   ]
  },
  {
   "cell_type": "markdown",
   "metadata": {},
   "source": [
    "## Проверка чекеров\n",
    "\n",
    "Приведенная выше `typed_schema` просто проверяет столбцы, которые, как ожидается, будут присутствовать в допустимом фрейме данных, и связанные с ними типы данных. \n",
    "\n",
    "Пользователи могут пойти дальше, сделав утверждения о значениях, которые заполняют эти столбцы:"
   ]
  },
  {
   "cell_type": "code",
   "execution_count": 10,
   "metadata": {},
   "outputs": [
    {
     "data": {
      "text/html": [
       "<div>\n",
       "<style scoped>\n",
       "    .dataframe tbody tr th:only-of-type {\n",
       "        vertical-align: middle;\n",
       "    }\n",
       "\n",
       "    .dataframe tbody tr th {\n",
       "        vertical-align: top;\n",
       "    }\n",
       "\n",
       "    .dataframe thead th {\n",
       "        text-align: right;\n",
       "    }\n",
       "</style>\n",
       "<table border=\"1\" class=\"dataframe\">\n",
       "  <thead>\n",
       "    <tr style=\"text-align: right;\">\n",
       "      <th></th>\n",
       "      <th>person_id</th>\n",
       "      <th>height_in_feet</th>\n",
       "      <th>date_of_birth</th>\n",
       "      <th>education</th>\n",
       "    </tr>\n",
       "  </thead>\n",
       "  <tbody>\n",
       "    <tr>\n",
       "      <th>0</th>\n",
       "      <td>1</td>\n",
       "      <td>6.5</td>\n",
       "      <td>2005-01-01</td>\n",
       "      <td>highschool</td>\n",
       "    </tr>\n",
       "    <tr>\n",
       "      <th>1</th>\n",
       "      <td>2</td>\n",
       "      <td>7.0</td>\n",
       "      <td>2000-01-01</td>\n",
       "      <td>undergrad</td>\n",
       "    </tr>\n",
       "    <tr>\n",
       "      <th>2</th>\n",
       "      <td>3</td>\n",
       "      <td>6.1</td>\n",
       "      <td>1995-01-01</td>\n",
       "      <td>grad</td>\n",
       "    </tr>\n",
       "    <tr>\n",
       "      <th>3</th>\n",
       "      <td>4</td>\n",
       "      <td>5.1</td>\n",
       "      <td>2000-01-01</td>\n",
       "      <td>undergrad</td>\n",
       "    </tr>\n",
       "  </tbody>\n",
       "</table>\n",
       "</div>"
      ],
      "text/plain": [
       "   person_id  height_in_feet date_of_birth   education\n",
       "0          1             6.5    2005-01-01  highschool\n",
       "1          2             7.0    2000-01-01   undergrad\n",
       "2          3             6.1    1995-01-01        grad\n",
       "3          4             5.1    2000-01-01   undergrad"
      ]
     },
     "execution_count": 10,
     "metadata": {},
     "output_type": "execute_result"
    }
   ],
   "source": [
    "import pandas as pd\n",
    "import pandera as pa\n",
    "from pandera import Column, Check\n",
    "\n",
    "checked_schema = pa.DataFrameSchema(\n",
    "    {\n",
    "        \"person_id\": Column(\n",
    "            pa.Int,\n",
    "            Check.greater_than(0),  # значения ряда строго больше 0\n",
    "            # https://pandera.readthedocs.io/en/stable/generated/methods/pandera.checks.Check.greater_than.html\n",
    "            allow_duplicates=False,\n",
    "        ),\n",
    "        \"height_in_feet\": Column(\n",
    "            \"float\",\n",
    "            Check.in_range(0, 10), # все значения ряда находятся в пределах интервала (0, 10)\n",
    "            # https://pandera.readthedocs.io/en/stable/generated/methods/pandera.checks.Check.in_range.html\n",
    "        ),\n",
    "        \"date_of_birth\": Column(\n",
    "            \"datetime64[ns]\",\n",
    "            Check.less_than_or_equal_to( #  значения меньше или равны pd.Timestamp.now()\n",
    "                # https://pandera.readthedocs.io/en/stable/generated/methods/pandera.checks.Check.less_than_or_equal_to.html\n",
    "                pd.Timestamp.now()\n",
    "            ),\n",
    "        ),\n",
    "        \"education\": Column(\n",
    "            pd.StringDtype(),\n",
    "            Check.isin([  # в серии встречаются только допустимые значения из списка\n",
    "                # https://pandera.readthedocs.io/en/stable/generated/methods/pandera.checks.Check.isin.html\n",
    "                \"highschool\",\n",
    "                \"undergrad\",\n",
    "                \"grad\",\n",
    "            ]),\n",
    "            nullable=True,\n",
    "        ),\n",
    "    },\n",
    "    coerce=True\n",
    ")\n",
    "\n",
    "checked_schema(dataframe)\n",
    "# возвращается фрейм данных"
   ]
  },
  {
   "cell_type": "markdown",
   "metadata": {},
   "source": [
    "Приведенное выше определение схемы устанавливает следующие свойства данных:\n",
    "\n",
    "- столбец `person_id` представляет собой положительное целое число, которое является распространенным способом кодирования уникальных идентификаторов в наборе данных. Установив для `allow_duplicates` значение `False`, схема указывает, что этот столбец является уникальным идентификатором в этом набор данных.\n",
    "- `height_in_feet` - положительное число с плавающей точкой, максимальное значение составляет `10 футов`, что является разумным предположением для максимального роста человека.\n",
    "- `date_of_birth` не может быть датой в будущем.\n",
    "- `education` может принимать допустимые значения в наборе `{\"highschool\", \"undergrad\", \"grad\"}`. Предположим, что эти данные были собраны в онлайн-форме, где ввод поля был необязательным, было бы целесообразно установить `nullable` как `True` (по умолчанию этот аргумент равен `False`).\n",
    "\n",
    "## Отчеты об ошибках и отладка\n",
    "\n",
    "Если фрейм данных, переданный в вызываемый объект *схемы* (schema), не проходит проверки, *pandera* выдает информативное сообщение об ошибке:"
   ]
  },
  {
   "cell_type": "markdown",
   "metadata": {},
   "source": [
    "```Python\n",
    "# данные, которые не проходят проверку:\n",
    "invalid_dataframe = pd.DataFrame({\n",
    "    \"person_id\": [6, 7, 8, 9],\n",
    "    \"height_in_feet\": [-10, 20, 20, 5.1],\n",
    "    \"date_of_birth\": pd.to_datetime([\n",
    "        \"2005\", \"2000\", \"1995\", \"2000\",\n",
    "    ]),\n",
    "    \"education\": [\n",
    "        \"highschool\", \"undergrad\", \"grad\", \"undergrad\",\n",
    "    ],\n",
    "})\n",
    "\n",
    "checked_schema(invalid_dataframe)\n",
    "```"
   ]
  },
  {
   "cell_type": "markdown",
   "metadata": {},
   "source": [
    "Ошибка:\n",
    "\n",
    "```Python\n",
    "SchemaError: <Schema Column(name=height_in_feet, type=float)> failed element-wise validator 0:\n",
    "<Check in_range: in_range(0, 10)>\n",
    "failure cases:\n",
    "   index  failure_case\n",
    "0      0         -10.0\n",
    "1      1          20.0\n",
    "```\n",
    "\n",
    "Причины ошибки `SchemaError` отображаются в виде фрейма данных, где индекс `failure_case` - это конкретное значение данных, которое не соответствует правилу проверки `Check.in_range`, столбец индекса содержит список местоположений индекса в недействительном фрейме данных с ошибочными значениями, а столбец `count` суммирует количество случаев сбоя этого конкретного значения.\n",
    "\n",
    "Для более тонкой отладки аналитик может перехватить исключение с помощью шаблона `try ... except` для доступа к данным и случаям сбоя в качестве атрибутов в объекте `SchemaError`:"
   ]
  },
  {
   "cell_type": "markdown",
   "metadata": {},
   "source": [
    "```Python\n",
    "from pandera.errors import SchemaError\n",
    "\n",
    "try:\n",
    "    checked_schema(invalid_dataframe)\n",
    "except SchemaError as e:\n",
    "    print(\"Failed check:\", e.check)\n",
    "    print(\"\\nInvalidated dataframe:\\n\", e.data)\n",
    "    print(\"\\nFailure cases:\\n\", e.failure_cases)\n",
    "```"
   ]
  },
  {
   "cell_type": "markdown",
   "metadata": {},
   "source": [
    "Таким образом, пользователи могут легко получить доступ и проверить недопустимый фрейм данных и случаи сбоя, что особенно полезно в контексте длинных цепочек методов преобразования данных:\n",
    "\n",
    "```Python\n",
    "raw_data = ... # получение сырых данных\n",
    "schema = ... # определение схемы\n",
    "\n",
    "try:\n",
    "    clean_data = (\n",
    "        raw_data\n",
    "        .rename(...)\n",
    "        .assign(...)\n",
    "        .groupby(...)\n",
    "        .apply(...)\n",
    "        .pipe(schema)\n",
    "    )\n",
    "except SchemaError as e:\n",
    "    # e.data будет содержать итоговый фрейм данных \n",
    "    # для вызова groupby().apply()\n",
    "    ...\n",
    "```\n",
    "\n",
    "## Расширенные возможности\n",
    "\n",
    "**Проверка гипотезы**\n",
    "\n",
    "Чтобы предоставить специалистам полнофункциональный инструмент проверки данных, *pandera* наследует подклассы от класса `Check` для определения `Hypothesis` с целью выражения [проверок статистических гипотез](https://pandera.readthedocs.io/en/stable/hypothesis.html#hypothesis-testing). \n",
    "\n",
    "Чтобы проиллюстрировать один из вариантов использования этой функции, рассмотрим игрушечное научное исследование, в котором контрольная группа получает плацебо, а лечебная группа получает лекарство, которое, как предполагается, улучшает физическую выносливость. Затем участники этого исследования бегают на беговой дорожке (настроенной с одинаковой скоростью) столько, сколько они могут, и продолжительность бега собирается для каждого человека. \n",
    "\n",
    "Еще до сбора данных мы можем определить *схему*, которая выражает наши ожидания относительно положительного результата:"
   ]
  },
  {
   "cell_type": "code",
   "execution_count": 11,
   "metadata": {},
   "outputs": [],
   "source": [
    "import pandas as pd\n",
    "from pandera import Hypothesis\n",
    "\n",
    "endurance_study_schema = pa.DataFrameSchema({\n",
    "    \"subject_id\": Column(pa.Int),\n",
    "    \"arm\": Column(\n",
    "        pa.String,\n",
    "        Check.isin([\"treatment\", \"control\"])\n",
    "    ),\n",
    "    \"duration\": Column(\n",
    "        pa.Float, checks=[\n",
    "            Check.greater_than(0),\n",
    "            Hypothesis.two_sample_ttest(  # Рассчитайте t-критерий для средних значений двух выборок\n",
    "                # https://pandera.readthedocs.io/en/stable/generated/methods/pandera.hypotheses.Hypothesis.two_sample_ttest.html\n",
    "                sample1=\"treatment\",\n",
    "                relationship=\"greater_than\",\n",
    "                sample2=\"control\",\n",
    "                groupby=\"arm\",\n",
    "                alpha=0.01,\n",
    "            )\n",
    "        ]\n",
    "    )\n",
    "})"
   ]
  },
  {
   "cell_type": "markdown",
   "metadata": {},
   "source": [
    "После того, как набор данных для этого исследования будет собран, мы можем пропустить его через *схему*, чтобы подтвердить гипотезу о том, что группа, принимающая препарат, увеличивает физическую выносливость, измеряемую продолжительностью бега.\n",
    "\n",
    "Другой распространенной проверкой гипотез может быть проверка нормального распределения выборки. Используя функцию [`scipy.stats.normaltest`](https://docs.scipy.org/doc/scipy/reference/generated/scipy.stats.normaltest.html), можно написать:"
   ]
  },
  {
   "cell_type": "code",
   "execution_count": 12,
   "metadata": {},
   "outputs": [
    {
     "data": {
      "text/html": [
       "<div>\n",
       "<style scoped>\n",
       "    .dataframe tbody tr th:only-of-type {\n",
       "        vertical-align: middle;\n",
       "    }\n",
       "\n",
       "    .dataframe tbody tr th {\n",
       "        vertical-align: top;\n",
       "    }\n",
       "\n",
       "    .dataframe thead th {\n",
       "        text-align: right;\n",
       "    }\n",
       "</style>\n",
       "<table border=\"1\" class=\"dataframe\">\n",
       "  <thead>\n",
       "    <tr style=\"text-align: right;\">\n",
       "      <th></th>\n",
       "      <th>x1</th>\n",
       "    </tr>\n",
       "  </thead>\n",
       "  <tbody>\n",
       "    <tr>\n",
       "      <th>0</th>\n",
       "      <td>-1.335490</td>\n",
       "    </tr>\n",
       "    <tr>\n",
       "      <th>1</th>\n",
       "      <td>2.402950</td>\n",
       "    </tr>\n",
       "    <tr>\n",
       "      <th>2</th>\n",
       "      <td>-1.702813</td>\n",
       "    </tr>\n",
       "    <tr>\n",
       "      <th>3</th>\n",
       "      <td>0.085724</td>\n",
       "    </tr>\n",
       "    <tr>\n",
       "      <th>4</th>\n",
       "      <td>-0.668640</td>\n",
       "    </tr>\n",
       "  </tbody>\n",
       "</table>\n",
       "</div>"
      ],
      "text/plain": [
       "         x1\n",
       "0 -1.335490\n",
       "1  2.402950\n",
       "2 -1.702813\n",
       "3  0.085724\n",
       "4 -0.668640"
      ]
     },
     "execution_count": 12,
     "metadata": {},
     "output_type": "execute_result"
    }
   ],
   "source": [
    "import numpy as np\n",
    "from scipy import stats\n",
    "\n",
    "dataframe = pd.DataFrame({\n",
    "    \"x1\": np.random.normal(0, 1, size=100),\n",
    "})\n",
    "\n",
    "dataframe.head()"
   ]
  },
  {
   "cell_type": "code",
   "execution_count": 13,
   "metadata": {},
   "outputs": [
    {
     "data": {
      "text/html": [
       "<div>\n",
       "<style scoped>\n",
       "    .dataframe tbody tr th:only-of-type {\n",
       "        vertical-align: middle;\n",
       "    }\n",
       "\n",
       "    .dataframe tbody tr th {\n",
       "        vertical-align: top;\n",
       "    }\n",
       "\n",
       "    .dataframe thead th {\n",
       "        text-align: right;\n",
       "    }\n",
       "</style>\n",
       "<table border=\"1\" class=\"dataframe\">\n",
       "  <thead>\n",
       "    <tr style=\"text-align: right;\">\n",
       "      <th></th>\n",
       "      <th>x1</th>\n",
       "    </tr>\n",
       "  </thead>\n",
       "  <tbody>\n",
       "    <tr>\n",
       "      <th>0</th>\n",
       "      <td>-1.335490</td>\n",
       "    </tr>\n",
       "    <tr>\n",
       "      <th>1</th>\n",
       "      <td>2.402950</td>\n",
       "    </tr>\n",
       "    <tr>\n",
       "      <th>2</th>\n",
       "      <td>-1.702813</td>\n",
       "    </tr>\n",
       "    <tr>\n",
       "      <th>3</th>\n",
       "      <td>0.085724</td>\n",
       "    </tr>\n",
       "    <tr>\n",
       "      <th>4</th>\n",
       "      <td>-0.668640</td>\n",
       "    </tr>\n",
       "    <tr>\n",
       "      <th>...</th>\n",
       "      <td>...</td>\n",
       "    </tr>\n",
       "    <tr>\n",
       "      <th>95</th>\n",
       "      <td>-0.870995</td>\n",
       "    </tr>\n",
       "    <tr>\n",
       "      <th>96</th>\n",
       "      <td>0.037310</td>\n",
       "    </tr>\n",
       "    <tr>\n",
       "      <th>97</th>\n",
       "      <td>1.008274</td>\n",
       "    </tr>\n",
       "    <tr>\n",
       "      <th>98</th>\n",
       "      <td>-1.372855</td>\n",
       "    </tr>\n",
       "    <tr>\n",
       "      <th>99</th>\n",
       "      <td>-1.376724</td>\n",
       "    </tr>\n",
       "  </tbody>\n",
       "</table>\n",
       "<p>100 rows × 1 columns</p>\n",
       "</div>"
      ],
      "text/plain": [
       "          x1\n",
       "0  -1.335490\n",
       "1   2.402950\n",
       "2  -1.702813\n",
       "3   0.085724\n",
       "4  -0.668640\n",
       "..       ...\n",
       "95 -0.870995\n",
       "96  0.037310\n",
       "97  1.008274\n",
       "98 -1.372855\n",
       "99 -1.376724\n",
       "\n",
       "[100 rows x 1 columns]"
      ]
     },
     "execution_count": 13,
     "metadata": {},
     "output_type": "execute_result"
    }
   ],
   "source": [
    "schema = pa.DataFrameSchema({\n",
    "    \"x1\": Column(\n",
    "        checks=Hypothesis(\n",
    "            test=stats.normaltest,\n",
    "            # нулевая гипотеза: x1 нормально распределено\n",
    "            relationship=lambda k2, p: p > 0.01\n",
    "        )\n",
    "    ),\n",
    "})\n",
    "\n",
    "schema(dataframe)"
   ]
  },
  {
   "cell_type": "markdown",
   "metadata": {},
   "source": [
    "## Правила условной проверки\n",
    "\n",
    "Если мы хотим проверить значения одного столбца, связанного с другим, мы можем указать имя другого столбца в аргументе `groupby`. Это изменяет ожидаемую сигнатуру функции `Check` для входного словаря, где ключи представляют собой уровни дискретных групп в условном столбце, а значения представляют собой объекты `Series` *pandas*, содержащие подмножества интересующего столбца. \n",
    "\n",
    "Возвращаясь к примеру исследования выносливости, мы могли бы просто утверждать, что средняя продолжительность бега в экспериментальной группе больше, чем в контрольной группе, без оценки статистической значимости:"
   ]
  },
  {
   "cell_type": "code",
   "execution_count": 14,
   "metadata": {},
   "outputs": [],
   "source": [
    "simple_endurance_study_schema = pa.DataFrameSchema({\n",
    "    \"subject_id\": Column(pa.Int),\n",
    "    \"arm\": Column(\n",
    "        pa.String,\n",
    "        Check.isin([\"treatment\", \"control\"])\n",
    "    ),\n",
    "    \"duration\": Column(\n",
    "        pa.Float, checks=[\n",
    "            Check.greater_than(0),\n",
    "            Check(\n",
    "                lambda duration_by_arm: (\n",
    "                    duration_by_arm[\"treatment\"].mean() > duration_by_arm[\"control\"].mean()\n",
    "                ),\n",
    "                groupby=\"arm\"\n",
    "            )\n",
    "        ]\n",
    "    )\n",
    "})"
   ]
  },
  {
   "cell_type": "markdown",
   "metadata": {},
   "source": [
    "## Дополнительные материалы:\n",
    "\n",
    "- https://www.pyopensci.org/blog/pandera-python-pandas-dataframe-validation\n",
    "- https://youtu.be/PxTLD-ueNd4\n",
    "- https://ericmjl.github.io/blog/2020/8/30/pandera-data-validation-and-statistics/"
   ]
  },
  {
   "cell_type": "markdown",
   "metadata": {},
   "source": [
    "<a href=\"https://t.me/init_python\"><img src=\"https://dfedorov.spb.ru/pandas/logo-telegram.png\" width=\"35\" height=\"35\" alt=\"telegram\" align=\"left\"></a>"
   ]
  },
  {
   "cell_type": "code",
   "execution_count": null,
   "metadata": {},
   "outputs": [],
   "source": []
  }
 ],
 "metadata": {
  "kernelspec": {
   "display_name": "Python 3",
   "language": "python",
   "name": "python3"
  },
  "language_info": {
   "codemirror_mode": {
    "name": "ipython",
    "version": 3
   },
   "file_extension": ".py",
   "mimetype": "text/x-python",
   "name": "python",
   "nbconvert_exporter": "python",
   "pygments_lexer": "ipython3",
   "version": "3.8.2"
  },
  "widgets": {
   "application/vnd.jupyter.widget-state+json": {
    "state": {},
    "version_major": 2,
    "version_minor": 0
   }
  }
 },
 "nbformat": 4,
 "nbformat_minor": 4
}
