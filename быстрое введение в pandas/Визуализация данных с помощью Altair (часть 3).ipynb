{
 "cells": [
  {
   "cell_type": "markdown",
   "metadata": {},
   "source": [
    "# Визуализация данных с помощью Altair (часть 3)\n",
    "\n",
    "<a href=\"https://t.me/init_python\"><img src=\"https://dfedorov.spb.ru/pandas/logo-telegram.png\" width=\"35\" height=\"35\" alt=\"telegram\" align=\"left\"></a>"
   ]
  },
  {
   "cell_type": "markdown",
   "metadata": {},
   "source": [
    "<a href=\"https://colab.research.google.com/github/dm-fedorov/pandas_basic/blob/master/быстрое%20введение%20в%20pandas/Визуализация%20данных%20с%20помощью%20Altair%20(часть%203).ipynb\"><img align=\"left\" src=\"https://colab.research.google.com/assets/colab-badge.svg\" alt=\"Open in Colab\" title=\"Open and Execute in Google Colaboratory\" target=\"_blank\"></a>"
   ]
  },
  {
   "cell_type": "markdown",
   "metadata": {},
   "source": [
    "## Изучение наборов данных\n",
    "\n",
    "Теперь, когда мы познакомились с основными частями *API Altair* (см. [часть 1](https://dfedorov.spb.ru/pandas/%D0%92%D0%B2%D0%B5%D0%B4%D0%B5%D0%BD%D0%B8%D0%B5%20%D0%B2%20%D0%B2%D0%B8%D0%B7%D1%83%D0%B0%D0%BB%D0%B8%D0%B7%D0%B0%D1%86%D0%B8%D1%8E%20%D0%B4%D0%B0%D0%BD%D0%BD%D1%8B%D1%85%20%D1%81%20%D0%BF%D0%BE%D0%BC%D0%BE%D1%89%D1%8C%D1%8E%20Altair.html) и [часть 2](https://dfedorov.spb.ru/pandas/%D0%92%D0%B8%D0%B7%D1%83%D0%B0%D0%BB%D0%B8%D0%B7%D0%B0%D1%86%D0%B8%D1%8F%20%D0%B4%D0%B0%D0%BD%D0%BD%D1%8B%D1%85%20%D1%81%20%D0%BF%D0%BE%D0%BC%D0%BE%D1%89%D1%8C%D1%8E%20Altair%20(%D1%87%D0%B0%D1%81%D1%82%D1%8C%202).html)), пришло время попрактиковаться в его использовании для изучения нового набора данных. \n",
    "\n",
    "Выберите один из следующих четырех наборов данных, подробно описанных ниже.\n",
    "\n",
    "Изучая данные, вспомните о строительных блоках, которые мы обсуждали ранее:\n",
    "\n",
    "- различные метки: `mark_point()`, `mark_line()`, `mark_tick()`, `mark_bar()`, `mark_area()`, `mark_rect()` и т. д.\n",
    "- различные кодировки: `x`, `y`, `color`, `shape`, `size`, `row`, `column`, `text`, `tooltip` и т. д.\n",
    "- биннинг и агрегации: список доступных агрегаций можно найти в [документации *Altair*](https://altair-viz.github.io/user_guide/encoding.html#binning-and-aggregation)\n",
    "- наложение и наслоение (`alt.layer` <-> `+`, `alt.hconcat` <-> `|`, `alt.vconcat` <-> `&`)\n",
    "\n",
    "Начните с простого. Какие кодировки лучше всего работают с количественными данными? С категориальными данными? Что вы можете узнать о своем наборе данных с помощью этих инструментов?"
   ]
  },
  {
   "cell_type": "code",
   "execution_count": null,
   "metadata": {},
   "outputs": [],
   "source": [
    "from vega_datasets import data"
   ]
  },
  {
   "cell_type": "markdown",
   "metadata": {},
   "source": [
    "### Набор данных Погода в Сиэтле \n",
    "\n",
    "Эти данные включают суточные осадки (*daily precipitation*), диапазон температур (*temperature range*), скорость ветра (*wind speed*) и тип погоды в зависимости от даты в период с `2012` по `2015` год в Сиэтле."
   ]
  },
  {
   "cell_type": "code",
   "execution_count": null,
   "metadata": {},
   "outputs": [],
   "source": [
    "weather = data.seattle_weather()\n",
    "weather.head()"
   ]
  },
  {
   "cell_type": "markdown",
   "metadata": {},
   "source": [
    "### Набор данных Gapminder\n",
    "\n",
    "Эти данные включают численность населения (*population*), рождаемости (*fertility*) и ожидаемой продолжительности жизни в ряде стран мира.\n",
    "\n",
    "*Обратите внимание: хотя у вас может возникнуть соблазн использовать временное кодирование для года, здесь год - это просто число, а не отметка даты, поэтому временное кодирование здесь не лучший выбор.*"
   ]
  },
  {
   "cell_type": "code",
   "execution_count": null,
   "metadata": {},
   "outputs": [],
   "source": [
    "gapminder = data.gapminder()\n",
    "gapminder.head()"
   ]
  },
  {
   "cell_type": "markdown",
   "metadata": {},
   "source": [
    "### Набор данных Население США\n",
    "\n",
    "Эти данные содержат информацию о населении США, разделенное по возрасту и полу каждое десятилетие с `1850` года до настоящего времени.\n",
    "\n",
    "*Обратите внимание: хотя у вас может возникнуть соблазн использовать временное кодирование для года, здесь год - это просто число, а не отметка даты, и поэтому временное кодирование - не лучший выбор.*"
   ]
  },
  {
   "cell_type": "code",
   "execution_count": null,
   "metadata": {},
   "outputs": [],
   "source": [
    "population = data.population()\n",
    "population.head()"
   ]
  },
  {
   "cell_type": "markdown",
   "metadata": {},
   "source": [
    "### Набор данных Фильмы\n",
    "\n",
    "Набор данных фильмов содержит данные о `3200` фильмах, включая дату выпуска, бюджет и рейтинги *IMDB* и [*Rotten Tomatoes*](https://www.rottentomatoes.com/)."
   ]
  },
  {
   "cell_type": "code",
   "execution_count": null,
   "metadata": {},
   "outputs": [],
   "source": [
    "movies = data.movies()\n",
    "movies.head()"
   ]
  },
  {
   "cell_type": "markdown",
   "metadata": {},
   "source": [
    "## Интерактивность и выбор\n",
    "\n",
    "Интерактивность и грамматика выбора *Altair* - одна из его уникальных особенностей среди доступных графических библиотек. В этом разделе мы рассмотрим различные доступные типы выбора и начнем практиковаться в создании интерактивных диаграмм и информационных панелей (*dashboards*).\n",
    "\n",
    "Доступны три основных типа выбора:\n",
    "\n",
    "- Выбор интервала: `alt.selection_interval()`\n",
    "- Одиночный выбор: `alt.selection_single()`\n",
    "- Множественный выбор: `alt.selection_multi()`\n",
    "\n",
    "И расскажем о четырех основных вещах, которые вы можете делать с этими выборками.\n",
    "\n",
    "- Условные кодировки (*Conditional encodings*)\n",
    "- *Scales*\n",
    "- Фильтры (*Filters*)\n",
    "- Домены (*Domains*)"
   ]
  },
  {
   "cell_type": "code",
   "execution_count": null,
   "metadata": {},
   "outputs": [],
   "source": [
    "import altair as alt\n",
    "from vega_datasets import data"
   ]
  },
  {
   "cell_type": "markdown",
   "metadata": {},
   "source": [
    "### Основные взаимодействия: панорамирование, масштабирование, всплывающие подсказки\n",
    "\n",
    "Основные взаимодействия, которые предоставляет *Altair*, - это панорамирование (*panning*), масштабирование (*zooming*) и всплывающие подсказки (*tooltips*). Это можно сделать на диаграмме без использования интерфейса выбора, используя метод `interactive()` и кодировку `tooltip`.\n",
    "\n",
    "Например, с нашим стандартным набором данных про автомобили мы можем сделать следующее:"
   ]
  },
  {
   "cell_type": "code",
   "execution_count": null,
   "metadata": {},
   "outputs": [],
   "source": [
    "cars = data.cars()\n",
    "cars.head()"
   ]
  },
  {
   "cell_type": "code",
   "execution_count": null,
   "metadata": {},
   "outputs": [],
   "source": [
    "alt.Chart(cars).mark_point().encode(\n",
    "    x='Horsepower:Q',\n",
    "    y='Miles_per_Gallon:Q',\n",
    "    color='Origin',\n",
    "    tooltip='Name'\n",
    ").interactive()"
   ]
  },
  {
   "cell_type": "markdown",
   "metadata": {},
   "source": [
    "В этот момент при наведении курсора на точку появится всплывающая подсказка с названием модели автомобиля, а нажатие/перетаскивание/прокрутка приведет к панорамированию и масштабированию графика.\n",
    "\n",
    "### Более сложное взаимодействие: выбор\n",
    "\n",
    "#### Пример основного выбора: интервал\n",
    "\n",
    "В качестве примера выбора (*selection*) давайте добавим интервальное выделение на график.\n",
    "\n",
    "Начнем с классического графика рассеяния (*scatter plot*):"
   ]
  },
  {
   "cell_type": "code",
   "execution_count": null,
   "metadata": {},
   "outputs": [],
   "source": [
    "cars = data.cars()\n",
    "cars.head()"
   ]
  },
  {
   "cell_type": "code",
   "execution_count": null,
   "metadata": {},
   "outputs": [],
   "source": [
    "alt.Chart(cars).mark_point().encode(\n",
    "    x='Horsepower:Q',\n",
    "    y='Miles_per_Gallon:Q',\n",
    "    color='Origin'\n",
    ")"
   ]
  },
  {
   "cell_type": "markdown",
   "metadata": {},
   "source": [
    "Чтобы добавить поведение выбора к диаграмме, мы создаем объект выбора и используем метод `add_selection`:"
   ]
  },
  {
   "cell_type": "code",
   "execution_count": null,
   "metadata": {},
   "outputs": [],
   "source": [
    "interval = alt.selection_interval()\n",
    "\n",
    "alt.Chart(cars).mark_point().encode(\n",
    "    x='Horsepower:Q',\n",
    "    y='Miles_per_Gallon:Q',\n",
    "    color='Origin'\n",
    ").add_selection(\n",
    "    interval\n",
    ")"
   ]
  },
  {
   "cell_type": "markdown",
   "metadata": {},
   "source": [
    "Это добавляет к графику взаимодействие, которое позволяет выбирать точки на графике; возможно, наиболее распространенное использование выделения - это выделение точек путем определения их цвета в зависимости от результата выбора.\n",
    "\n",
    "Это можно сделать с помощью `alt.condition`:"
   ]
  },
  {
   "cell_type": "code",
   "execution_count": null,
   "metadata": {},
   "outputs": [],
   "source": [
    "interval = alt.selection_interval()\n",
    "\n",
    "alt.Chart(cars).mark_point().encode(\n",
    "    x='Horsepower:Q',\n",
    "    y='Miles_per_Gallon:Q',\n",
    "    color=alt.condition(interval, 'Origin', alt.value('lightgray'))\n",
    ").add_selection(\n",
    "    interval\n",
    ")"
   ]
  },
  {
   "cell_type": "markdown",
   "metadata": {},
   "source": [
    "Функция `alt.condition` принимает *три аргумента*: объект выбора, значение, которое будет применяться к точкам внутри выделения, и значение, которое будет применено к точкам вне выделения. Здесь мы используем `alt.value('lightgray')`, чтобы убедиться, что цвет обрабатывается как фактический цвет, а не как имя столбца данных.\n",
    "\n",
    "#### Настройка выбора интервала\n",
    "\n",
    "Функция `alt.selection_interval()` принимает ряд дополнительных аргументов; например, задавая `encodings`, мы можем контролировать, охватывает ли выделение `x`, `y` или обе оси:"
   ]
  },
  {
   "cell_type": "code",
   "execution_count": null,
   "metadata": {},
   "outputs": [],
   "source": [
    "interval = alt.selection_interval(encodings=['x'])\n",
    "\n",
    "alt.Chart(cars).mark_point().encode(\n",
    "    x='Horsepower:Q',\n",
    "    y='Miles_per_Gallon:Q',\n",
    "    color=alt.condition(interval, 'Origin', alt.value('lightgray'))\n",
    ").add_selection(\n",
    "    interval\n",
    ")"
   ]
  },
  {
   "cell_type": "code",
   "execution_count": null,
   "metadata": {},
   "outputs": [],
   "source": [
    "interval = alt.selection_interval(encodings=['y'])\n",
    "\n",
    "alt.Chart(cars).mark_point().encode(\n",
    "    x='Horsepower:Q',\n",
    "    y='Miles_per_Gallon:Q',\n",
    "    color=alt.condition(interval, 'Origin', alt.value('lightgray'))\n",
    ").add_selection(\n",
    "    interval\n",
    ")"
   ]
  },
  {
   "cell_type": "markdown",
   "metadata": {},
   "source": [
    "`empty` (пустой) аргумент позволяет нам контролировать, будут ли пустые выделения содержать *все* значения или ни одно из значений; с `empty='none'` точки по умолчанию неактивны:"
   ]
  },
  {
   "cell_type": "code",
   "execution_count": null,
   "metadata": {},
   "outputs": [],
   "source": [
    "interval = alt.selection_interval(empty='none')\n",
    "\n",
    "alt.Chart(cars).mark_point().encode(\n",
    "    x='Horsepower:Q',\n",
    "    y='Miles_per_Gallon:Q',\n",
    "    color=alt.condition(interval, 'Origin', alt.value('lightgray'))\n",
    ").add_selection(\n",
    "    interval\n",
    ")"
   ]
  },
  {
   "cell_type": "markdown",
   "metadata": {},
   "source": [
    "### Одиночный выбор\n",
    "\n",
    "Функция `alt.selection_single()` позволяет пользователю кликать на отдельные объекты диаграммы, чтобы выбрать их по одному. Мы сделаем точки немного больше, чтобы их было легче нажимать:"
   ]
  },
  {
   "cell_type": "code",
   "execution_count": null,
   "metadata": {},
   "outputs": [],
   "source": [
    "single = alt.selection_single()\n",
    "\n",
    "alt.Chart(cars).mark_circle(size=100).encode(\n",
    "    x='Horsepower:Q',\n",
    "    y='Miles_per_Gallon:Q',\n",
    "    color=alt.condition(single, 'Origin', alt.value('lightgray'))\n",
    ").add_selection(\n",
    "    single\n",
    ")"
   ]
  },
  {
   "cell_type": "markdown",
   "metadata": {},
   "source": [
    "Единичный выбор позволяет задать и другое поведение; например, мы можем установить `nearest=True` и `on='mouseover'`, чтобы обновлять выделение до ближайшей точки при перемещении мыши:"
   ]
  },
  {
   "cell_type": "code",
   "execution_count": null,
   "metadata": {},
   "outputs": [],
   "source": [
    "single = alt.selection_single(on='mouseover', nearest=True)\n",
    "\n",
    "alt.Chart(cars).mark_circle(size=100).encode(\n",
    "    x='Horsepower:Q',\n",
    "    y='Miles_per_Gallon:Q',\n",
    "    color=alt.condition(single, 'Origin', alt.value('lightgray'))\n",
    ").add_selection(\n",
    "    single\n",
    ")"
   ]
  },
  {
   "cell_type": "markdown",
   "metadata": {},
   "source": [
    "### Множественный выбор\n",
    "\n",
    "Функция `alt.selection_multi()` очень похожа на функцию `single`, за исключением того, что она позволяет выбрать несколько точек одновременно, удерживая клавишу `Shift`:"
   ]
  },
  {
   "cell_type": "code",
   "execution_count": null,
   "metadata": {},
   "outputs": [],
   "source": [
    "multi = alt.selection_multi()\n",
    "\n",
    "alt.Chart(cars).mark_circle(size=100).encode(\n",
    "    x='Horsepower:Q',\n",
    "    y='Miles_per_Gallon:Q',\n",
    "    color=alt.condition(multi, 'Origin', alt.value('lightgray'))\n",
    ").add_selection(\n",
    "    multi\n",
    ")"
   ]
  },
  {
   "cell_type": "markdown",
   "metadata": {},
   "source": [
    "Такие опции, как `on` и `nearest`, также работают для множественного выбора:"
   ]
  },
  {
   "cell_type": "code",
   "execution_count": null,
   "metadata": {},
   "outputs": [],
   "source": [
    "multi = alt.selection_multi(on='mouseover', nearest=True)\n",
    "\n",
    "alt.Chart(cars).mark_circle(size=100).encode(\n",
    "    x='Horsepower:Q',\n",
    "    y='Miles_per_Gallon:Q',\n",
    "    color=alt.condition(multi, 'Origin', alt.value('lightgray'))\n",
    ").add_selection(\n",
    "    multi\n",
    ")"
   ]
  },
  {
   "cell_type": "markdown",
   "metadata": {},
   "source": [
    "### Привязка выделения\n",
    "\n",
    "Выше мы увидели, как `alt.condition` можно использовать для привязки выделения к различным аспектам диаграммы. Давайте рассмотрим еще несколько способов использования выделения:\n",
    "\n",
    "#### Привязка Scales\n",
    "\n",
    "Для выбора интервала еще одна вещь, которую вы можете сделать с выделением, - это привязать область выбора к шкалам диаграммы:"
   ]
  },
  {
   "cell_type": "code",
   "execution_count": null,
   "metadata": {},
   "outputs": [],
   "source": [
    "bind = alt.selection_interval(bind='scales')\n",
    "\n",
    "alt.Chart(cars).mark_circle(size=100).encode(\n",
    "    x='Horsepower:Q',\n",
    "    y='Miles_per_Gallon:Q',\n",
    "    color='Origin:N'\n",
    ").add_selection(\n",
    "    bind\n",
    ")"
   ]
  },
  {
   "cell_type": "markdown",
   "metadata": {},
   "source": [
    "По сути, это то, что делает метод `chart.interactive()` под капотом.\n",
    "\n",
    "#### Привязка scales к другим доменам\n",
    "\n",
    "Также можно привязать шкалы к другим доменам (*domain*)."
   ]
  },
  {
   "cell_type": "code",
   "execution_count": null,
   "metadata": {},
   "outputs": [],
   "source": [
    "weather = data.seattle_weather()\n",
    "weather.head()"
   ]
  },
  {
   "cell_type": "code",
   "execution_count": null,
   "metadata": {},
   "outputs": [],
   "source": [
    "base = alt.Chart(weather).mark_rule().encode(\n",
    "    x='date:T',\n",
    "    y='temp_min:Q',\n",
    "    y2='temp_max:Q',\n",
    "    color='weather:N'\n",
    ")\n",
    "\n",
    "base"
   ]
  },
  {
   "cell_type": "code",
   "execution_count": null,
   "metadata": {},
   "outputs": [],
   "source": [
    "chart = base.properties(\n",
    "    width=800,\n",
    "    height=300\n",
    ")\n",
    "\n",
    "view = chart.properties(\n",
    "    width=800,\n",
    "    height=50\n",
    ")\n",
    "\n",
    "chart & view"
   ]
  },
  {
   "cell_type": "markdown",
   "metadata": {},
   "source": [
    "Давайте добавим выбор интервала к нижнему графику, который будет контролировать домен верхнего графика:"
   ]
  },
  {
   "cell_type": "code",
   "execution_count": null,
   "metadata": {},
   "outputs": [],
   "source": [
    "interval = alt.selection_interval(encodings=['x'])\n",
    "\n",
    "base = alt.Chart(weather).mark_rule(size=2).encode(\n",
    "    x='date:T',\n",
    "    y='temp_min:Q',\n",
    "    y2='temp_max:Q',\n",
    "    color='weather:N'\n",
    ")\n",
    "\n",
    "chart = base.encode(\n",
    "    x=alt.X('date:T', scale=alt.Scale(domain=interval.ref()))\n",
    ").properties(\n",
    "    width=800,\n",
    "    height=300\n",
    ")\n",
    "\n",
    "view = base.add_selection(\n",
    "    interval\n",
    ").properties(\n",
    "    width=800,\n",
    "    height=50,\n",
    ")\n",
    "\n",
    "chart & view"
   ]
  },
  {
   "cell_type": "markdown",
   "metadata": {},
   "source": [
    "### Фильтрация по выделению\n",
    "\n",
    "В многопанельных диаграммах мы можем использовать результат выбора для фильтрации других представлений данных. Например, вот диаграмма рассеяния вместе с гистограммой:"
   ]
  },
  {
   "cell_type": "code",
   "execution_count": null,
   "metadata": {},
   "outputs": [],
   "source": [
    "interval = alt.selection_interval()\n",
    "\n",
    "scatter = alt.Chart(cars).mark_point().encode(\n",
    "    x='Horsepower:Q',\n",
    "    y='Miles_per_Gallon:Q',\n",
    "    color=alt.condition(interval, 'Origin:N', alt.value('lightgray'))\n",
    ").add_selection(\n",
    "    interval\n",
    ")\n",
    "\n",
    "hist = alt.Chart(cars).mark_bar().encode(\n",
    "    x='count()',\n",
    "    y='Origin',\n",
    "    color='Origin'\n",
    ").transform_filter(\n",
    "    interval\n",
    ")\n",
    "\n",
    "scatter & hist"
   ]
  },
  {
   "cell_type": "markdown",
   "metadata": {},
   "source": [
    "Точно так же вы можете использовать множественный выбор, чтобы пойти другим путем (разрешите кликнуть на гистограмму, чтобы отфильтровать содержимое диаграммы рассеяния. \n",
    "\n",
    "Добавим эту возможность к предыдущей диаграмме:"
   ]
  },
  {
   "cell_type": "code",
   "execution_count": null,
   "metadata": {},
   "outputs": [],
   "source": [
    "click = alt.selection_multi(encodings=['color'])\n",
    "\n",
    "scatter = alt.Chart(cars).mark_point().encode(\n",
    "    x='Horsepower:Q',\n",
    "    y='Miles_per_Gallon:Q',\n",
    "    color='Origin:N'\n",
    ").transform_filter(\n",
    "    click\n",
    ")\n",
    "\n",
    "hist = alt.Chart(cars).mark_bar().encode(\n",
    "    x='count()',\n",
    "    y='Origin',\n",
    "    color=alt.condition(click, 'Origin', alt.value('lightgray'))\n",
    ").add_selection(\n",
    "    click\n",
    ")\n",
    "\n",
    "scatter & hist"
   ]
  },
  {
   "cell_type": "markdown",
   "metadata": {},
   "source": [
    "### Сводная информация по выбору в Altair\n",
    "\n",
    "**Типы выбора:**\n",
    "\n",
    "- `selection_interval()`\n",
    "- `selection_single()`\n",
    "- `selection_multi()`\n",
    "\n",
    "**Привязки:**\n",
    "\n",
    "- привязать масштабы: перетащите и прокрутите, чтобы взаимодействовать с графиком\n",
    "- привязать шкалы к другому графику\n",
    "- условные кодировки (например, цвет, размер)\n",
    "- фильтровать данные"
   ]
  },
  {
   "cell_type": "markdown",
   "metadata": {},
   "source": [
    "### Упражнение: выбор в Altair\n",
    "\n",
    "Теперь у вас есть возможность попробовать построить графики самостоятельно! Выберите один или несколько из следующих интерактивных примеров:\n",
    "\n",
    "1. Используя данные об автомобилях, создайте диаграмму рассеяния (*scatter-plot*), на которой *размер* (*size*) точек становится больше при наведении на них курсора.\n",
    "\n",
    "2. Используя данные об автомобилях, создайте двухпанельную (*two-panel*) гистограмму (скажем, количество миль на галлон на одной панели, количество лошадиных сил на другой), где вы можете перетащить мышь, чтобы выбрать данные на левой панели, чтобы отфильтровать данные на второй панели.\n",
    "\n",
    "3. Измените приведенный выше пример диаграммы разброса и гистограммы, чтобы\n",
    "\n",
    "- панорамировать и увеличивать диаграмму рассеяния;\n",
    "- гистограмма отражала только те точки, которые видны в данный момент.\n",
    "\n",
    "4. Попробуй что-нибудь новое!"
   ]
  },
  {
   "cell_type": "markdown",
   "metadata": {},
   "source": [
    "## Преобразования\n",
    "\n",
    "Важным элементом конвейера визуализации является преобразование данных (*data transformation*).\n",
    "\n",
    "С *Altair* у вас есть два возможных пути преобразования данных, а именно:\n",
    "\n",
    "1. предварительное преобразование в *Python*\n",
    "2. трансформация в *Altair/Vega-Lite*"
   ]
  },
  {
   "cell_type": "code",
   "execution_count": null,
   "metadata": {},
   "outputs": [],
   "source": [
    "import altair as alt"
   ]
  },
  {
   "cell_type": "markdown",
   "metadata": {},
   "source": [
    "### Вычисление преобразования\n",
    "\n",
    "В качестве примера рассмотрим преобразование входных данных о населении. В наборе данных перечислены агрегированные данные переписи США по годам, полу и возрасту, но пол указан как `1` и `2`, что делает надписи на диаграммах мало понятными:"
   ]
  },
  {
   "cell_type": "code",
   "execution_count": null,
   "metadata": {},
   "outputs": [],
   "source": [
    "from vega_datasets import data\n",
    "population = data.population()"
   ]
  },
  {
   "cell_type": "code",
   "execution_count": null,
   "metadata": {},
   "outputs": [],
   "source": [
    "population.head()"
   ]
  },
  {
   "cell_type": "code",
   "execution_count": null,
   "metadata": {},
   "outputs": [],
   "source": [
    "alt.Chart(population).mark_bar().encode(\n",
    "    x='year:O',\n",
    "    y='sum(people):Q',\n",
    "    color='sex:N'\n",
    ")"
   ]
  },
  {
   "cell_type": "markdown",
   "metadata": {},
   "source": [
    "Один из способов решить эту проблему с помощью *Python* - использовать инструменты *Pandas* для переназначения имен столбцов, например:"
   ]
  },
  {
   "cell_type": "code",
   "execution_count": null,
   "metadata": {},
   "outputs": [],
   "source": [
    "population['men_women'] = population['sex'].map({1: 'Men', 2: 'Women'})\n",
    "\n",
    "alt.Chart(population).mark_bar().encode(\n",
    "    x='year:O',\n",
    "    y='sum(people):Q',\n",
    "    color='men_women:N'\n",
    ")"
   ]
  },
  {
   "cell_type": "markdown",
   "metadata": {},
   "source": [
    "Но *Altair* предназначен для использования с данными, доступными по URL, в которых такая предварительная обработка недоступна. В таких ситуациях лучше сделать преобразование частью спецификации графика. \n",
    "\n",
    "Это можно сделать с помощью метода `transform_calculate`, принимающего [*Vega-выражение*](https://vega.github.io/vega/docs/expressions/), которое по сути представляет собой строку, которая может содержать небольшое подмножество операций *JavaScript*:"
   ]
  },
  {
   "cell_type": "code",
   "execution_count": null,
   "metadata": {},
   "outputs": [],
   "source": [
    "# отменить добавление столбца выше...\n",
    "population = population.drop('men_women', axis=1)"
   ]
  },
  {
   "cell_type": "code",
   "execution_count": null,
   "metadata": {},
   "outputs": [],
   "source": [
    "alt.Chart(population).mark_bar().encode(\n",
    "    x='year:O',\n",
    "    y='sum(people):Q',\n",
    "    color='men_women:N'\n",
    ").transform_calculate(\n",
    "    men_women='datum.sex == 1 ? \"Men\" : \"Women\"'\n",
    ")"
   ]
  },
  {
   "cell_type": "markdown",
   "metadata": {},
   "source": [
    "Одна потенциально сбивающая с толку часть - это наличие слова `datum`: это просто соглашение, по которому *Vega-выражения* ссылаются на строку данных.\n",
    "\n",
    "Если вы предпочитаете создавать эти выражения на *Python*, то *Altair* предоставляет для этого облегченный API:"
   ]
  },
  {
   "cell_type": "code",
   "execution_count": null,
   "metadata": {},
   "outputs": [],
   "source": [
    "from altair.expr import datum, if_\n",
    "\n",
    "alt.Chart(population).mark_bar().encode(\n",
    "    x='year:O',\n",
    "    y='sum(people):Q',\n",
    "    color='men_women:N'\n",
    ").transform_calculate(\n",
    "    men_women=if_(datum.sex == 1, \"Men\", \"Women\")\n",
    ")"
   ]
  },
  {
   "cell_type": "markdown",
   "metadata": {},
   "source": [
    "### Преобразование фильтра\n",
    "\n",
    "Преобразование фильтра аналогично. Например, предположим, что вы хотите создать диаграмму, состоящую только из мужского населения из записей переписи. Как и выше, это можно сделать в *Pandas*, но полезно, чтобы эта операция была доступна и в спецификации диаграммы. Это можно сделать с помощью метода `transform_filter()`:"
   ]
  },
  {
   "cell_type": "code",
   "execution_count": null,
   "metadata": {},
   "outputs": [],
   "source": [
    "alt.Chart(population).mark_bar().encode(\n",
    "    x='year:O',\n",
    "    y='sum(people):Q',\n",
    ").transform_filter(\n",
    "    datum.sex == 1\n",
    ")"
   ]
  },
  {
   "cell_type": "markdown",
   "metadata": {},
   "source": [
    "Мы уже встречали метод `transform_filter` раньше, когда выполняли фильтрацию на основе результата выбора."
   ]
  },
  {
   "cell_type": "markdown",
   "metadata": {},
   "source": [
    "### Другие преобразования\n",
    "\n",
    "Доступны и другие методы преобразования, и хотя мы не будем их здесь демонстрировать, примеры можно найти в [документации *Altair Transform*](https://altair-viz.github.io/user_guide/transform/index.html).\n",
    "\n",
    "*Altair* предоставляет ряд полезных преобразований. Некоторые будут вам знакомы:\n",
    "\n",
    "- `transform_aggregate()`\n",
    "- `transform_bin()`\n",
    "- `transform_timeunit()`\n",
    "\n",
    "Эти три преобразования приводят к созданию нового именованного значения, на которое можно ссылаться в нескольких местах на диаграмме.\n",
    "\n",
    "Также существует множество других преобразований, таких как:\n",
    "\n",
    "- `transform_lookup()`: позволяет выполнять одностороннее объединение нескольких наборов данных и часто используется, например, в географических визуализациях, где вы объединяете данные (например, безработица в пределах штатов) с данными о географических регионах, используемых для представления этих данных.\n",
    "- `transform_window()`: позволяет выполнять агрегирование по скользящим окнам, например, вычисляя локальные средние (*local means*) данных. Он был недавно добавлен в *Vega-Lite*, поэтому *API Altair* для этого преобразования пока не очень удобен.\n",
    "\n",
    "Посетите [документацию по *Transform*](https://altair-viz.github.io/user_guide/transform/index.html) для получения более полного списка."
   ]
  },
  {
   "cell_type": "markdown",
   "metadata": {},
   "source": [
    "## Упражнение\n",
    "\n",
    "Возьмем следующие данные:"
   ]
  },
  {
   "cell_type": "code",
   "execution_count": null,
   "metadata": {},
   "outputs": [],
   "source": [
    "import pandas as pd\n",
    "import numpy as np\n",
    "x = pd.DataFrame({'x': np.linspace(-5, 5)})"
   ]
  },
  {
   "cell_type": "markdown",
   "metadata": {},
   "source": [
    "1. Создайте диаграмму на основе этих данных и постройте кривые синуса и косинуса с помощью `transform_calculate`.\n",
    "\n",
    "2. Используйте `transform_filter` на этой диаграмме и удалите области графика, где значение кривой косинуса меньше значения кривой синуса."
   ]
  },
  {
   "cell_type": "markdown",
   "metadata": {},
   "source": [
    "## Конфигурация диаграммы\n",
    "\n",
    "*Altair* предоставляет несколько хуков для настройки внешнего вида диаграммы; у нас нет времени подробно описывать здесь все доступные параметры, но полезно знать, где и как можно получить доступ и изучить такие параметры.\n",
    "\n",
    "Как правило, есть два или три места, где можно управлять видом диаграммы, каждое из которых имеет больший приоритет, чем предыдущее.\n",
    "\n",
    "1. **Конфигурация диаграммы верхнего уровня**. На верхнем уровне диаграммы *Altair* вы можете указать параметры конфигурации, которые будут применяться к каждой панели или слою на диаграмме.\n",
    "\n",
    "2. **Параметры локальной конфигурации**. Параметры верхнего уровня можно переопределить локально, указав локальную конфигурацию.\n",
    "\n",
    "3. **Значения кодирования**. Если указано значение кодировки, оно будет иметь наивысший приоритет и переопределять другие параметры.\n",
    "\n",
    "Посмотрим на пример."
   ]
  },
  {
   "cell_type": "code",
   "execution_count": null,
   "metadata": {},
   "outputs": [],
   "source": [
    "import altair as alt"
   ]
  },
  {
   "cell_type": "code",
   "execution_count": null,
   "metadata": {},
   "outputs": [],
   "source": [
    "import numpy as np\n",
    "import pandas as pd\n",
    "np.random.seed(42)\n",
    "\n",
    "data = pd.DataFrame(np.random.randn(100, 2), columns=['x', 'y'])"
   ]
  },
  {
   "cell_type": "markdown",
   "metadata": {},
   "source": [
    "### Пример 1: Управление свойствами маркера\n",
    "\n",
    "Предположим, вы хотите контролировать *цвет маркеров* на диаграмме рассеяния: давайте посмотрим на каждый из трех вариантов для этого. Мы будем использовать простые наборы данных нормально распределенных точек:"
   ]
  },
  {
   "cell_type": "code",
   "execution_count": null,
   "metadata": {},
   "outputs": [],
   "source": [
    "alt.Chart(data).mark_point().encode(\n",
    "    x='x:Q',\n",
    "    y='y:Q'\n",
    ")"
   ]
  },
  {
   "cell_type": "markdown",
   "metadata": {},
   "source": [
    "### Конфигурация верхнего уровня\n",
    "\n",
    "На верхнем уровне у *Altair* есть метод `configure_mark()`, который позволяет настраивать большое количество параметров конфигурации для меток в целом, а также свойство `configure_point()`, которое специально настраивает свойства точек.\n",
    "\n",
    "Вы можете увидеть доступные параметры в строке документации Jupyter, доступ к которой осуществляется через вопросительный знак:"
   ]
  },
  {
   "cell_type": "code",
   "execution_count": null,
   "metadata": {
    "scrolled": true
   },
   "outputs": [],
   "source": [
    "#alt.Chart.configure_point?"
   ]
  },
  {
   "cell_type": "markdown",
   "metadata": {},
   "source": [
    "Эту конфигурацию верхнего уровня следует рассматривать как тему диаграммы: они являются настройками по умолчанию для эстетики всех элементов диаграммы. Давайте воспользуемся `configure_point`, чтобы установить некоторые свойства точек:"
   ]
  },
  {
   "cell_type": "code",
   "execution_count": null,
   "metadata": {},
   "outputs": [],
   "source": [
    "alt.Chart(data).mark_point().encode(\n",
    "    x='x:Q',\n",
    "    y='y:Q'\n",
    ").configure_point(\n",
    "    size=200,\n",
    "    color='red',\n",
    "    filled=True\n",
    ")"
   ]
  },
  {
   "cell_type": "markdown",
   "metadata": {},
   "source": [
    "Доступно множество локальных конфигураций; вы можете использовать функцию автозавершения табуляции и справочные функции Jupyter, чтобы изучить их\n",
    "\n",
    "```python\n",
    "    alt.Chart.configure_     # затем нажмите клавишу TAB, чтобы увидеть доступные конфигурации\n",
    "```"
   ]
  },
  {
   "cell_type": "markdown",
   "metadata": {},
   "source": [
    "### Конфигурация локальной метки\n",
    "\n",
    "В методе `mark_point()` вы можете передавать локальные конфигурации, которые переопределяют параметры конфигурации верхнего уровня. Аргументы такие же, как у `configure_mark`."
   ]
  },
  {
   "cell_type": "code",
   "execution_count": null,
   "metadata": {},
   "outputs": [],
   "source": [
    "alt.Chart(data).mark_point(color='green', filled=False).encode(\n",
    "    x='x:Q',\n",
    "    y='y:Q'\n",
    ").configure_point(\n",
    "    size=200,\n",
    "    color='red',\n",
    "    filled=True\n",
    ")"
   ]
  },
  {
   "cell_type": "markdown",
   "metadata": {},
   "source": [
    "Обратите внимание, что конфигурации `color` и `fill` переопределяются локальными конфигурациями, но `size` остается таким же, как и раньше.\n",
    "\n",
    "### Конфигурация кодирования\n",
    "\n",
    "Наконец, самый высокий приоритет - это параметр `encoding`. Здесь давайте установим цвет `Steelblue` в кодировке:"
   ]
  },
  {
   "cell_type": "code",
   "execution_count": null,
   "metadata": {},
   "outputs": [],
   "source": [
    "alt.Chart(data).mark_point(color='green', filled=False).encode(\n",
    "    x='x:Q',\n",
    "    y='y:Q',\n",
    "    color=alt.value('steelblue')\n",
    ").configure_point(\n",
    "    size=200,\n",
    "    color='red',\n",
    "    filled=True\n",
    ")"
   ]
  },
  {
   "cell_type": "markdown",
   "metadata": {},
   "source": [
    "Это немного надуманный пример, но он полезен, чтобы помочь понять различные места, в которых могут быть установлены свойства меток.\n",
    "\n",
    "### Пример 2: заголовки диаграммы и осей\n",
    "\n",
    "Названия диаграмм и осей устанавливаются автоматически в зависимости от источника данных, но иногда бывает полезно их изменить. Например, вот гистограмма приведенных выше данных:"
   ]
  },
  {
   "cell_type": "code",
   "execution_count": null,
   "metadata": {},
   "outputs": [],
   "source": [
    "alt.Chart(data).mark_bar().encode(\n",
    "    x=alt.X('x', bin=True),\n",
    "    y=alt.Y('count()')\n",
    ")"
   ]
  },
  {
   "cell_type": "markdown",
   "metadata": {},
   "source": [
    "Мы можем явно установить заголовки осей, используя аргумент `title` для кодировки:"
   ]
  },
  {
   "cell_type": "code",
   "execution_count": null,
   "metadata": {},
   "outputs": [],
   "source": [
    "alt.Chart(data).mark_bar().encode(\n",
    "    x=alt.X('x', bin=True, title='binned x values'),\n",
    "    y=alt.Y('count()', title='counts in x')\n",
    ")"
   ]
  },
  {
   "cell_type": "markdown",
   "metadata": {},
   "source": [
    "Точно так же мы можем установить свойство `title` диаграммы в свойствах диаграммы:"
   ]
  },
  {
   "cell_type": "code",
   "execution_count": null,
   "metadata": {},
   "outputs": [],
   "source": [
    "alt.Chart(data).mark_bar().encode(\n",
    "    x=alt.X('x', bin=True, title='binned x values'),\n",
    "    y=alt.Y('count()', title='counts in x')\n",
    ").properties(\n",
    "    title='A histogram'\n",
    ")"
   ]
  },
  {
   "cell_type": "markdown",
   "metadata": {},
   "source": [
    "### Пример 3: Свойства оси\n",
    "\n",
    "Если вы хотите установить свойства осей, включая линии сетки, вы можете использовать аргумент кодировки `axis`."
   ]
  },
  {
   "cell_type": "code",
   "execution_count": null,
   "metadata": {},
   "outputs": [],
   "source": [
    "alt.Chart(data).mark_bar().encode(\n",
    "    x=alt.X('x', bin=True, axis=alt.Axis(labelAngle=45)),\n",
    "    y=alt.Y('count()', axis=alt.Axis(labels=False, ticks=False, title=None))\n",
    ")"
   ]
  },
  {
   "cell_type": "markdown",
   "metadata": {},
   "source": [
    "Обратите внимание, что некоторые из этих значений также можно настроить в конфигурации верхнего уровня, если вы хотите, чтобы они применялись к диаграмме в целом. Например:"
   ]
  },
  {
   "cell_type": "code",
   "execution_count": null,
   "metadata": {},
   "outputs": [],
   "source": [
    "alt.Chart(data).mark_bar().encode(\n",
    "    x=alt.X('x', bin=True),\n",
    "    y=alt.Y('count()', axis=alt.Axis(labels=False, ticks=False, title=None))\n",
    ").configure_axisX(\n",
    "    labelAngle=45\n",
    ")"
   ]
  },
  {
   "cell_type": "markdown",
   "metadata": {},
   "source": [
    "### Пример 4: Масштабировать свойства и пределы оси\n",
    "\n",
    "Каждая кодировка также имеет `scale` (масштаб), который позволяет настраивать такие параметры, как пределы оси и другие свойства масштаба."
   ]
  },
  {
   "cell_type": "code",
   "execution_count": null,
   "metadata": {},
   "outputs": [],
   "source": [
    "alt.Chart(data).mark_point().encode(\n",
    "    x=alt.X('x:Q', scale=alt.Scale(domain=[-5, 5])),\n",
    "    y=alt.Y('y:Q', scale=alt.Scale(domain=[-5, 5])),\n",
    ")"
   ]
  },
  {
   "cell_type": "markdown",
   "metadata": {},
   "source": [
    "Обратите внимание, что если вы уменьшите масштаб до меньшего размера, чем диапазон данных, данные по умолчанию будут выходить за пределы шкалы:"
   ]
  },
  {
   "cell_type": "code",
   "execution_count": null,
   "metadata": {},
   "outputs": [],
   "source": [
    "alt.Chart(data).mark_point().encode(\n",
    "    x=alt.X('x:Q', scale=alt.Scale(domain=[-3, 1])),\n",
    "    y=alt.Y('y:Q', scale=alt.Scale(domain=[-3, 1])),\n",
    ")"
   ]
  },
  {
   "cell_type": "markdown",
   "metadata": {},
   "source": [
    "Отсутствие скрытия данных - полезный вариант по умолчанию при исследовательской визуализации, поскольку он предотвращает непреднамеренное отсутствие точек данных.\n",
    "\n",
    "Если вы хотите, чтобы маркеры были обрезаны за пределами диапазона шкал, вы можете установить свойство `clip` для маркеров:"
   ]
  },
  {
   "cell_type": "code",
   "execution_count": null,
   "metadata": {},
   "outputs": [],
   "source": [
    "alt.Chart(data).mark_point(clip=True).encode(\n",
    "    x=alt.X('x:Q', scale=alt.Scale(domain=[-3, 1])),\n",
    "    y=alt.Y('y:Q', scale=alt.Scale(domain=[-3, 1])),\n",
    ")"
   ]
  },
  {
   "cell_type": "markdown",
   "metadata": {},
   "source": [
    "Другой полезный подход - вместо этого \"зажимать\" данные до крайних значений шкалы, сохраняя их видимыми, даже когда они находятся вне диапазона:"
   ]
  },
  {
   "cell_type": "code",
   "execution_count": null,
   "metadata": {},
   "outputs": [],
   "source": [
    "alt.Chart(data).mark_point().encode(\n",
    "    x=alt.X('x:Q', scale=alt.Scale(domain=[-3, 1], clamp=True)),\n",
    "    y=alt.Y('y:Q', scale=alt.Scale(domain=[-3, 1], clamp=True)),\n",
    ").interactive()"
   ]
  },
  {
   "cell_type": "markdown",
   "metadata": {},
   "source": [
    "### Пример 5: Цветовые шкалы\n",
    "\n",
    "Иногда полезно вручную настроить используемую цветовую шкалу."
   ]
  },
  {
   "cell_type": "code",
   "execution_count": null,
   "metadata": {},
   "outputs": [],
   "source": [
    "from vega_datasets import data\n",
    "weather = data.seattle_weather()\n",
    "weather.head()"
   ]
  },
  {
   "cell_type": "code",
   "execution_count": null,
   "metadata": {},
   "outputs": [],
   "source": [
    "alt.Chart(weather).mark_point().encode(\n",
    "    x='date:T',\n",
    "    y='temp_max:Q',\n",
    "    color='weather:N'\n",
    ")"
   ]
  },
  {
   "cell_type": "markdown",
   "metadata": {},
   "source": [
    "Вы можете изменить цветовую схему с помощью свойства цветовой шкалы из [цветовых схем *Vega*](https://vega.github.io/vega/docs/schemes/#reference):"
   ]
  },
  {
   "cell_type": "code",
   "execution_count": null,
   "metadata": {},
   "outputs": [],
   "source": [
    "alt.Chart(weather).mark_point().encode(\n",
    "    x='date:T',\n",
    "    y='temp_max:Q',\n",
    "    color=alt.Color('weather:N', scale=alt.Scale(scheme=\"dark2\"))\n",
    ")"
   ]
  },
  {
   "cell_type": "markdown",
   "metadata": {},
   "source": [
    "Как вариант, вы можете создать свою собственную цветовую схему, указав цветовую область и диапазон:"
   ]
  },
  {
   "cell_type": "code",
   "execution_count": null,
   "metadata": {},
   "outputs": [],
   "source": [
    "colorscale = alt.Scale(domain=['sun', 'fog', 'drizzle', 'rain', 'snow'],\n",
    "                       range=['goldenrod', 'gray', 'lightblue', 'steelblue', 'midnightblue'])\n",
    "\n",
    "alt.Chart(weather).mark_point().encode(\n",
    "    x='date:T',\n",
    "    y='temp_max:Q',\n",
    "    color=alt.Color('weather:N', scale=colorscale)\n",
    ")"
   ]
  },
  {
   "cell_type": "markdown",
   "metadata": {},
   "source": [
    "### Упражнение: корректировка графиков\n",
    "\n",
    "Потратьте около 10 минут и попрактикуйтесь в корректировке эстетики ваших графиков.\n",
    "\n",
    "Используйте любимую визуализацию из предыдущего упражнения и настройте эстетику графика:\n",
    "\n",
    "- настроить вид меток (`size`, `strokewidth` и т. д.)\n",
    "- изменить оси и названия графика\n",
    "- изменить пределы `x` и `y`\n",
    "\n",
    "Используйте завершение табуляции в `alt.Chart.configure_`, чтобы увидеть различные параметры конфигурации, затем используйте `?`, чтобы увидеть документацию по функциям."
   ]
  },
  {
   "cell_type": "markdown",
   "metadata": {},
   "source": [
    "## Географические графики\n",
    "\n",
    "В *Altair 2.0* добавлена возможность построения географических данных.\n",
    "\n",
    "Эта функциональность все еще немного сырая (например, не все взаимодействия или выборки работают должным образом с проецируемыми данными), но ее относительно просто использовать.\n",
    "\n",
    "Мы покажем здесь несколько примеров."
   ]
  },
  {
   "cell_type": "code",
   "execution_count": null,
   "metadata": {},
   "outputs": [],
   "source": [
    "import altair as alt"
   ]
  },
  {
   "cell_type": "markdown",
   "metadata": {},
   "source": [
    "### Диаграммы рассеяния в географических координатах\n",
    "\n",
    "Сначала мы покажем пример построения данных широты/долготы с использованием картографической проекции. Мы загрузим набор данных, состоящий из широты/долготы каждого аэропорта США:"
   ]
  },
  {
   "cell_type": "code",
   "execution_count": null,
   "metadata": {},
   "outputs": [],
   "source": [
    "from vega_datasets import data\n",
    "airports = data.airports()\n",
    "airports.head()"
   ]
  },
  {
   "cell_type": "markdown",
   "metadata": {},
   "source": [
    "График очень похож на стандартный график рассеяния с некоторыми отличиями:\n",
    "\n",
    "- мы указываем кодировки `latitude` и `longitude` вместо `x` и `y`\n",
    "- мы указываем проекции (*projection*), который будет использоваться для данных\n",
    "\n",
    "Для данных, охватывающих только США, полезна проекция `albersUsa` (Альберса):\n",
    "\n",
    "> *Проекция Альберса* — картографическая проекция, разработанная в 1805 году немецким картографом Хейнрихом Альберсом. Используется для изображения регионов, вытянутых в широтном направлении. Проекция коническая, сохраняющая площадь объектов, но искажающая углы и форму контуров (из [Вики](https://ru.wikipedia.org/wiki/%D0%9F%D1%80%D0%BE%D0%B5%D0%BA%D1%86%D0%B8%D1%8F_%D0%90%D0%BB%D1%8C%D0%B1%D0%B5%D1%80%D1%81%D0%B0))."
   ]
  },
  {
   "cell_type": "code",
   "execution_count": null,
   "metadata": {},
   "outputs": [],
   "source": [
    "alt.Chart(airports).mark_circle().encode(\n",
    "    longitude='longitude:Q',\n",
    "    latitude='latitude:Q',\n",
    "    size=alt.value(10),\n",
    "    tooltip='name'\n",
    ").project(\n",
    "    \"albersUsa\"\n",
    ").properties(\n",
    "    width=500,\n",
    "    height=400\n",
    ")"
   ]
  },
  {
   "cell_type": "markdown",
   "metadata": {},
   "source": [
    "Доступные проекции перечислены в [документации *Vega*](https://vega.github.io/vega/docs/projections/).\n",
    "\n",
    "## Карты хороплетов (фоновая картограмма)\n",
    "\n",
    "Если вы хотите нанести географические границы, такие как штаты и страны, то должны загрузить данные географической формы для отображения в *Altair*. Для этого требуется немного шаблонов (*boilerplate*) (мы думаем о том, как оптимизировать эту типичную конструкцию в будущих выпусках) и использовать маркер `geoshape`.\n",
    "\n",
    "Например, вот государственные границы:"
   ]
  },
  {
   "cell_type": "code",
   "execution_count": null,
   "metadata": {},
   "outputs": [],
   "source": [
    "states = alt.topo_feature(data.us_10m.url, feature='states')\n",
    "\n",
    "alt.Chart(states).mark_geoshape(\n",
    "    fill='lightgray',\n",
    "    stroke='white'\n",
    ").project('albersUsa').properties(\n",
    "    width=500,\n",
    "    height=300\n",
    ")"
   ]
  },
  {
   "cell_type": "markdown",
   "metadata": {},
   "source": [
    "А вот и границы стран:"
   ]
  },
  {
   "cell_type": "code",
   "execution_count": null,
   "metadata": {},
   "outputs": [],
   "source": [
    "import altair as alt\n",
    "from vega_datasets import data\n",
    "\n",
    "countries = alt.topo_feature(data.world_110m.url, 'countries')\n",
    "\n",
    "alt.Chart(countries).mark_geoshape(\n",
    "    fill='lightgray',\n",
    "    stroke='white'\n",
    ").project(\n",
    "    \"equirectangular\"\n",
    ").properties(\n",
    "    width=500,\n",
    "    height=300\n",
    ")"
   ]
  },
  {
   "cell_type": "markdown",
   "metadata": {},
   "source": [
    "Вы можете посмотреть, что произойдет, если попробуете другие типы проекций, например, можете попробовать `mercator`, `orthographic`, `albers` или `gnomonic`."
   ]
  },
  {
   "cell_type": "markdown",
   "metadata": {},
   "source": [
    "### Точки на фоне\n",
    "\n",
    "Если вы хотите нанести точки данных на фон карты, самый простой способ сделать это - использовать операторы наслоения (*layering operators*):"
   ]
  },
  {
   "cell_type": "code",
   "execution_count": null,
   "metadata": {},
   "outputs": [],
   "source": [
    "states = alt.topo_feature(data.us_10m.url, feature='states')\n",
    "airports = data.airports()\n",
    "\n",
    "background = alt.Chart(states).mark_geoshape(\n",
    "    fill='lightgray',\n",
    "    stroke='white'\n",
    ").project('albersUsa').properties(\n",
    "    width=500,\n",
    "    height=300\n",
    ")\n",
    "\n",
    "points = alt.Chart(airports).mark_circle().encode(\n",
    "    longitude='longitude:Q',\n",
    "    latitude='latitude:Q',\n",
    "    size=alt.value(10),\n",
    "    tooltip='name'\n",
    ")\n",
    "\n",
    "background + points"
   ]
  },
  {
   "cell_type": "markdown",
   "metadata": {},
   "source": [
    "Обратите внимание, что нам нужно указать проекцию и размер диаграммы только один раз."
   ]
  },
  {
   "cell_type": "markdown",
   "metadata": {},
   "source": [
    "## Цветные хороплеты\n",
    "\n",
    "Самый сложный тип диаграммы - это диаграмма, в которой регионы карты окрашены, чтобы отразить лежащие в основе данные. Причина, по которой это сложно, заключается в том, что это часто связано с объединением двух разных наборов данных с помощью преобразования поиска (*lookup transform*).\n",
    "\n",
    "Опять же, это часть API, которую мы надеемся улучшить в будущем.\n",
    "\n",
    "В качестве примера, вот диаграмма, представляющая общее население каждого штата:"
   ]
  },
  {
   "cell_type": "code",
   "execution_count": null,
   "metadata": {},
   "outputs": [],
   "source": [
    "pop = data.population_engineers_hurricanes()\n",
    "pop.head()"
   ]
  },
  {
   "cell_type": "code",
   "execution_count": null,
   "metadata": {},
   "outputs": [],
   "source": [
    "import altair as alt\n",
    "from vega_datasets import data\n",
    "\n",
    "states = alt.topo_feature(data.us_10m.url, 'states')\n",
    "\n",
    "variable_list = ['population', 'engineers', 'hurricanes']\n",
    "\n",
    "alt.Chart(states).mark_geoshape().encode(\n",
    "    color='population:Q'\n",
    ").transform_lookup(\n",
    "    lookup='id',\n",
    "    from_=alt.LookupData(pop, 'id', list(pop.columns))\n",
    ").properties(\n",
    "    width=500,\n",
    "    height=300\n",
    ").project(\n",
    "    type='albersUsa'\n",
    ")"
   ]
  },
  {
   "cell_type": "markdown",
   "metadata": {},
   "source": [
    "Обратите внимание на ключевой момент: данные хороплет имеют столбец `id`, который соответствует столбцу `id` в данных о населении. Мы используем его как ключ поиска, чтобы объединить два набора данных вместе и построить их соответствующим образом.\n",
    "\n",
    "Чтобы увидеть больше примеров географических визуализаций, см. [галерею *Altair*](https://altair-viz.github.io/gallery/index.html#maps) и имейте в виду, что это область *Altair* и *Vega-Lite*, которая постоянно улучшается!"
   ]
  },
  {
   "cell_type": "markdown",
   "metadata": {},
   "source": [
    "Успехов!"
   ]
  },
  {
   "cell_type": "markdown",
   "metadata": {},
   "source": [
    "<a href=\"https://t.me/init_python\"><img src=\"https://dfedorov.spb.ru/pandas/logo-telegram.png\" width=\"35\" height=\"35\" alt=\"telegram\" align=\"left\"></a>"
   ]
  },
  {
   "cell_type": "code",
   "execution_count": null,
   "metadata": {},
   "outputs": [],
   "source": []
  }
 ],
 "metadata": {
  "kernelspec": {
   "display_name": "Python 3",
   "language": "python",
   "name": "python3"
  },
  "language_info": {
   "codemirror_mode": {
    "name": "ipython",
    "version": 3
   },
   "file_extension": ".py",
   "mimetype": "text/x-python",
   "name": "python",
   "nbconvert_exporter": "python",
   "pygments_lexer": "ipython3",
   "version": "3.8.3"
  },
  "widgets": {
   "application/vnd.jupyter.widget-state+json": {
    "state": {},
    "version_major": 2,
    "version_minor": 0
   }
  }
 },
 "nbformat": 4,
 "nbformat_minor": 4
}
