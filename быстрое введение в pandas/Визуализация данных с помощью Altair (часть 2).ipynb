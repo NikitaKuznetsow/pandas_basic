{
 "cells": [
  {
   "cell_type": "markdown",
   "metadata": {},
   "source": [
    "# Визуализация данных с помощью Altair (часть 2)\n",
    "\n",
    "<a href=\"https://t.me/init_python\"><img src=\"https://dfedorov.spb.ru/pandas/logo-telegram.png\" width=\"35\" height=\"35\" alt=\"telegram\" align=\"left\"></a>"
   ]
  },
  {
   "cell_type": "markdown",
   "metadata": {},
   "source": [
    "<a href=\"https://colab.research.google.com/github/dm-fedorov/pandas_basic/blob/master/быстрое%20введение%20в%20pandas/Визуализация%20данных%20с%20помощью%20Altair%20(часть%202).ipynb\"><img align=\"left\" src=\"https://colab.research.google.com/assets/colab-badge.svg\" alt=\"Open in Colab\" title=\"Open and Execute in Google Colaboratory\" target=\"_blank\"></a>"
   ]
  },
  {
   "cell_type": "markdown",
   "metadata": {},
   "source": [
    "## Биннинг и агрегация\n",
    "\n",
    "В [первой части уроков](https://dfedorov.spb.ru/pandas/%D0%92%D0%B2%D0%B5%D0%B4%D0%B5%D0%BD%D0%B8%D0%B5%20%D0%B2%20%D0%B2%D0%B8%D0%B7%D1%83%D0%B0%D0%BB%D0%B8%D0%B7%D0%B0%D1%86%D0%B8%D1%8E%20%D0%B4%D0%B0%D0%BD%D0%BD%D1%8B%D1%85%20%D1%81%20%D0%BF%D0%BE%D0%BC%D0%BE%D1%89%D1%8C%D1%8E%20Altair.html) мы обсудили **данные**, **метки**, **кодировки** и **типы кодирования**. Следующая важная часть *API Altair* - это подход к группированию и агрегированию данных."
   ]
  },
  {
   "cell_type": "code",
   "execution_count": null,
   "metadata": {},
   "outputs": [],
   "source": [
    "import altair as alt"
   ]
  },
  {
   "cell_type": "code",
   "execution_count": null,
   "metadata": {},
   "outputs": [],
   "source": [
    "from vega_datasets import data\n",
    "\n",
    "# загрузили набор данных про машины\n",
    "cars = data.cars()\n",
    "\n",
    "cars.head()"
   ]
  },
  {
   "cell_type": "markdown",
   "metadata": {},
   "source": [
    "## Group-By в Pandas\n",
    "\n",
    "Одной из ключевых операций в исследовании данных является группировка (*group-by*), подробно описанная в [статье](https://dfedorov.spb.ru/pandas/%D0%9F%D0%BE%D0%B4%D1%80%D0%BE%D0%B1%D0%BD%D0%BE%D0%B5%20%D1%80%D1%83%D0%BA%D0%BE%D0%B2%D0%BE%D0%B4%D1%81%D1%82%D0%B2%D0%BE%20%D0%BF%D0%BE%20%D0%B3%D1%80%D1%83%D0%BF%D0%BF%D0%B8%D1%80%D0%BE%D0%B2%D0%BA%D0%B5%20%D0%B8%20%D0%B0%D0%B3%D1%80%D0%B5%D0%B3%D0%B8%D1%80%D0%BE%D0%B2%D0%B0%D0%BD%D0%B8%D1%8E%20%D1%81%20%D0%BF%D0%BE%D0%BC%D0%BE%D1%89%D1%8C%D1%8E%20pandas.html). Короче говоря, группировка разбивает данные в соответствии с некоторым условием, применяет некоторую агрегацию в этих группах, а затем объединяет данные обратно вместе:\n",
    "\n",
    "![Split Apply Combine figure](https://jakevdp.github.io/PythonDataScienceHandbook/figures/03.08-split-apply-combine.png)\n",
    "[Источник картинки](https://jakevdp.github.io/PythonDataScienceHandbook/03.08-aggregation-and-grouping.html)"
   ]
  },
  {
   "cell_type": "markdown",
   "metadata": {},
   "source": [
    "Что касается данных об автомобилях, вы можете разделить их по происхождению (`Origin`), вычислить среднее значение миль на галлон (*miles per gallon*), а затем объединить результаты. \n",
    "\n",
    "В *Pandas* операция выглядит так:"
   ]
  },
  {
   "cell_type": "code",
   "execution_count": null,
   "metadata": {},
   "outputs": [],
   "source": [
    "cars.groupby('Origin')['Miles_per_Gallon'].mean()"
   ]
  },
  {
   "cell_type": "markdown",
   "metadata": {},
   "source": [
    "В *Altair* такой вид \"разделения-применения-комбинирования\" (*split-apply-combine*) может быть выполнен путем передачи оператора агрегирования внутри строки в любую кодировку (*encoding*). \n",
    "\n",
    "Например, мы можем отобразить график, представляющий вышеуказанную агрегацию, следующим образом:"
   ]
  },
  {
   "cell_type": "code",
   "execution_count": null,
   "metadata": {},
   "outputs": [],
   "source": [
    "alt.Chart(cars).mark_bar().encode(\n",
    "    y='Origin',\n",
    "    x='mean(Miles_per_Gallon)'\n",
    ")"
   ]
  },
  {
   "cell_type": "markdown",
   "metadata": {},
   "source": [
    "Обратите внимание, что группировка выполняется неявно внутри кодировок: здесь мы группируем только по происхождению (`Origin`), а затем вычисляем среднее значение по каждой группе.\n",
    "\n",
    "## Одномерные биннинги: гистограммы\n",
    "\n",
    "Одно из наиболее распространенных применений биннинга - создание *гистограмм*. Например, вот гистограмма миль на галлон (*miles per gallon*):"
   ]
  },
  {
   "cell_type": "code",
   "execution_count": null,
   "metadata": {},
   "outputs": [],
   "source": [
    "alt.Chart(cars).mark_bar().encode(\n",
    "    alt.X('Miles_per_Gallon', bin=True),\n",
    "    alt.Y('count()'),\n",
    "    alt.Color('Origin')\n",
    ")"
   ]
  },
  {
   "cell_type": "markdown",
   "metadata": {},
   "source": [
    "Интересно то, что *декларативный подход Altair* позволяет присваивать эти значения разным кодировкам, чтобы увидеть другие представления тех же данных.\n",
    "\n",
    "Например, если мы присвоим цвету (`color`) количество миль на галлон (*miles per gallon*), то получим следующее представление данных:"
   ]
  },
  {
   "cell_type": "code",
   "execution_count": null,
   "metadata": {},
   "outputs": [],
   "source": [
    "alt.Chart(cars).mark_bar().encode(\n",
    "    color=alt.Color('Miles_per_Gallon', bin=True),\n",
    "    x='count()',\n",
    "    y='Origin'\n",
    ")"
   ]
  },
  {
   "cell_type": "markdown",
   "metadata": {},
   "source": [
    "Это дает лучшее представление о доле `MPG` (миль на галлон) в каждой стране.\n",
    "\n",
    "При желании мы можем нормализовать количество по оси `x`, чтобы напрямую сравнивать пропорции:"
   ]
  },
  {
   "cell_type": "code",
   "execution_count": null,
   "metadata": {},
   "outputs": [],
   "source": [
    "alt.Chart(cars).mark_bar().encode(\n",
    "    color=alt.Color('Miles_per_Gallon', bin=True),\n",
    "    x=alt.X('count()', stack='normalize'),\n",
    "    y='Origin'\n",
    ")"
   ]
  },
  {
   "cell_type": "markdown",
   "metadata": {},
   "source": [
    "Видим, что более половины автомобилей в США относятся к категории \"с низким пробегом\" (*low mileage*).\n",
    "\n",
    "Снова изменив кодировку (*encoding*), давайте сопоставим цвет с количеством `color='count()'`:"
   ]
  },
  {
   "cell_type": "code",
   "execution_count": null,
   "metadata": {},
   "outputs": [],
   "source": [
    "alt.Chart(cars).mark_rect().encode(\n",
    "    x=alt.X('Miles_per_Gallon', bin=alt.Bin(maxbins=20)),\n",
    "    color='count()',\n",
    "    y='Origin',\n",
    ")"
   ]
  },
  {
   "cell_type": "markdown",
   "metadata": {},
   "source": [
    "Видим набор данных, похожий на тепловую карту!\n",
    "\n",
    "Это одна из прекрасных особенностей *Altair*: через грамматику API он показывает отношения между разными типами диаграмм, например, двухмерная тепловая карта кодирует те же данные, что и гистограмма с накоплением (*stacked*)!\n",
    "\n",
    "## Прочие агрегаты\n",
    "\n",
    "Агрегаты (aggregates) также могут использоваться с данными, которые неявно объединены в группы. Например, посмотрите на этот график `MPG` (миль на галлон) с течением времени:"
   ]
  },
  {
   "cell_type": "code",
   "execution_count": null,
   "metadata": {},
   "outputs": [],
   "source": [
    "alt.Chart(cars).mark_point().encode(\n",
    "    x='Year:T',\n",
    "    color='Origin',\n",
    "    y='Miles_per_Gallon'\n",
    ")"
   ]
  },
  {
   "cell_type": "markdown",
   "metadata": {},
   "source": [
    "Тот факт, что точки пересекаются, затрудняет просмотр важных частей данных; мы можем сделать его более ясным, построив среднее значение в каждой группе (здесь *среднее значение каждой комбинации Год/Страна*):"
   ]
  },
  {
   "cell_type": "code",
   "execution_count": null,
   "metadata": {},
   "outputs": [],
   "source": [
    "alt.Chart(cars).mark_line().encode(\n",
    "    x='Year:T',\n",
    "    color='Origin',\n",
    "    y='mean(Miles_per_Gallon)'\n",
    ")"
   ]
  },
  {
   "cell_type": "markdown",
   "metadata": {},
   "source": [
    "Однако совокупное среднее значение (*mean*) отражает лишь часть истории: *Altair* также предоставляет встроенные инструменты для вычисления нижней и верхней границ доверительных интервалов для среднего.\n",
    "\n",
    "Мы можем использовать здесь `mark_area()` и указать нижнюю и верхнюю границы области, используя `y` и `y2`:"
   ]
  },
  {
   "cell_type": "code",
   "execution_count": null,
   "metadata": {},
   "outputs": [],
   "source": [
    "alt.Chart(cars).mark_area(opacity=0.3).encode(\n",
    "    x='Year:T',\n",
    "    color='Origin',\n",
    "    y='ci0(Miles_per_Gallon)',\n",
    "    y2='ci1(Miles_per_Gallon)'\n",
    ")"
   ]
  },
  {
   "cell_type": "markdown",
   "metadata": {},
   "source": [
    "## Временной биннинг\n",
    "\n",
    "Одним из особых видов биннинга является группировка временных значений по аспектам даты: например, месяц года или день месяца. Чтобы изучить это, давайте посмотрим на простой набор данных, состоящий из средних температур в Сиэтле:"
   ]
  },
  {
   "cell_type": "code",
   "execution_count": null,
   "metadata": {},
   "outputs": [],
   "source": [
    "temps = data.seattle_temps()\n",
    "temps.head()"
   ]
  },
  {
   "cell_type": "markdown",
   "metadata": {},
   "source": [
    "Если мы попытаемся построить график по этим данным с помощью *Altair*, то получим ошибку `MaxRowsError`:"
   ]
  },
  {
   "cell_type": "markdown",
   "metadata": {},
   "source": [
    "```Python\n",
    "alt.Chart(temps).mark_line().encode(\n",
    "    x='date:T',\n",
    "    y='temp:Q'\n",
    ")\n",
    "```\n",
    "```Python\n",
    "---------------------------------------------------------------------------\n",
    "MaxRowsError                              Traceback (most recent call last)\n",
    "```"
   ]
  },
  {
   "cell_type": "code",
   "execution_count": null,
   "metadata": {},
   "outputs": [],
   "source": [
    "len(temps)"
   ]
  },
  {
   "cell_type": "markdown",
   "metadata": {},
   "source": [
    "## Как Altair кодирует данные\n",
    "\n",
    "> Мы решили возбудить исключение `MaxRowsError` для наборов данных размером более `5000` строк из-за наших наблюдений за учащимися, использующими *Altair*, потому что, если вы не задумаетесь о том, как представлены данные, то довольно легко получить **очень** большие Jupyter блокноты, в которых снизится производительность.\n",
    "\n",
    "Когда вы передаете фрейм данных *pandas* в диаграмму *Altair*, то в результате данные преобразуются в JSON формат и сохраняются в спецификации диаграммы. Затем эта спецификация встраивается в выходные данные Jupyter блокнота, и если вы сделаете таким образом несколько десятков диаграмм с достаточно большим набором данных, то это может значительно замедлить работу вашей машины."
   ]
  },
  {
   "cell_type": "markdown",
   "metadata": {},
   "source": [
    "Так как же обойти эту ошибку? Есть несколько способов:\n",
    "\n",
    "1) Используйте меньший набор данных. Например, мы могли бы использовать *Pandas* для суммирования дневных температур:\n",
    "\n",
    "   ```python\n",
    "   import pandas as pd\n",
    "   temps = temps.groupby(pd.DatetimeIndex(temps.date).date).mean().reset_index()\n",
    "   ```"
   ]
  },
  {
   "cell_type": "markdown",
   "metadata": {},
   "source": [
    "2) Отключите `MaxRowsError`, используя   \n",
    " \n",
    "   ```python\n",
    "   alt.data_transformers.enable('default', max_rows=None)\n",
    "   ```\n",
    " \n",
    "Но учтите, что это может привести к **очень** большим Jupyter блокнотам, если вы не будете осторожны.  "
   ]
  },
  {
   "cell_type": "markdown",
   "metadata": {},
   "source": [
    "3) Обслуживайте свои данные с локального поточного сервера. [Пакет сервера данных altair](https://github.com/altair-viz/altair_data_server) упрощает это.\n",
    "\n",
    "   ```python\n",
    "   alt.data_transformers.enable('data_server')\n",
    "   ```\n",
    "  \n",
    "Обратите внимание, что этот подход может не работать с некоторыми облачными сервисами для Jupyter ноутбуков.    "
   ]
  },
  {
   "cell_type": "markdown",
   "metadata": {},
   "source": [
    "4) Используйте URL-адрес, указывающий на источник данных. Создание [*gist*](https://gist.github.com/) - это быстрый и простой способ хранить часто используемые данные."
   ]
  },
  {
   "cell_type": "code",
   "execution_count": null,
   "metadata": {},
   "outputs": [],
   "source": [
    "temps = \"https://raw.githubusercontent.com/altair-viz/vega_datasets/master/vega_datasets/_data/seattle-temps.csv\""
   ]
  },
  {
   "cell_type": "code",
   "execution_count": null,
   "metadata": {},
   "outputs": [],
   "source": [
    "alt.Chart(temps).mark_line().to_dict()"
   ]
  },
  {
   "cell_type": "markdown",
   "metadata": {},
   "source": [
    "Обратите внимание, что *вместо включения всего набора данных используется только URL-адрес*.\n",
    "\n",
    "Теперь давайте попробуем еще раз с нашим графиком:"
   ]
  },
  {
   "cell_type": "code",
   "execution_count": null,
   "metadata": {},
   "outputs": [],
   "source": [
    "alt.Chart(temps).mark_line().encode(\n",
    "    x='date:T',\n",
    "    y='temp:Q'\n",
    ")"
   ]
  },
  {
   "cell_type": "markdown",
   "metadata": {},
   "source": [
    "Эти данные явно переполнены. Предположим, что мы хотим отсортировать данные по месяцам. Сделаем это с помощью `TimeUnit Transform` на дату:"
   ]
  },
  {
   "cell_type": "code",
   "execution_count": null,
   "metadata": {},
   "outputs": [],
   "source": [
    "alt.Chart(temps).mark_point().encode(\n",
    "    x=alt.X('month(date):T'),\n",
    "    y='temp:Q'\n",
    ")"
   ]
  },
  {
   "cell_type": "markdown",
   "metadata": {},
   "source": [
    "Станет понятнее, если мы просуммируем температуры:"
   ]
  },
  {
   "cell_type": "code",
   "execution_count": null,
   "metadata": {},
   "outputs": [],
   "source": [
    "alt.Chart(temps).mark_bar().encode(\n",
    "    x=alt.X('month(date):O'),\n",
    "    y='mean(temp):Q'\n",
    ")"
   ]
  },
  {
   "cell_type": "markdown",
   "metadata": {},
   "source": [
    "Можем разделить даты двумя разными способами, чтобы получить интересное представление данных, например:"
   ]
  },
  {
   "cell_type": "code",
   "execution_count": null,
   "metadata": {},
   "outputs": [],
   "source": [
    "alt.Chart(temps).mark_rect().encode(\n",
    "    x=alt.X('date(date):O'),\n",
    "    y=alt.Y('month(date):O'),\n",
    "    color='mean(temp):Q'\n",
    ")"
   ]
  },
  {
   "cell_type": "markdown",
   "metadata": {},
   "source": [
    "Или можем посмотреть на среднечасовую температуру как функцию месяца:"
   ]
  },
  {
   "cell_type": "code",
   "execution_count": null,
   "metadata": {},
   "outputs": [],
   "source": [
    "alt.Chart(temps).mark_rect().encode(\n",
    "    x=alt.X('hours(date):O'),\n",
    "    y=alt.Y('month(date):O'),\n",
    "    color='mean(temp):Q'\n",
    ")"
   ]
  },
  {
   "cell_type": "markdown",
   "metadata": {},
   "source": [
    "Этот вид преобразования может оказаться полезным при работе с временными данными.\n",
    "\n",
    "Дополнительная информация о `TimeUnit Transform` доступна [здесь](https://altair-viz.github.io/user_guide/transform/timeunit.html#user-guide-timeunit-transform)"
   ]
  },
  {
   "cell_type": "markdown",
   "metadata": {},
   "source": [
    "## Составные диаграммы\n",
    "\n",
    "*Altair* предоставляет краткий API для создания многопанельных и многоуровневых диаграмм, таких как:\n",
    "\n",
    "- Наслоение (*Layering*)\n",
    "- Горизонтальная конкатенация (*Horizontal Concatenation*)\n",
    "- Вертикальная конкатенация (*Vertical Concatenation*)\n",
    "- Повторить графики (*Repeat Charts*)\n",
    "\n",
    "Мы кратко рассмотрим их далее."
   ]
  },
  {
   "cell_type": "code",
   "execution_count": null,
   "metadata": {},
   "outputs": [],
   "source": [
    "import altair as alt"
   ]
  },
  {
   "cell_type": "markdown",
   "metadata": {},
   "source": [
    "### Наслоение\n",
    "\n",
    "Наслоение (*layering*) позволяет размещать несколько меток (*marks*) на одной диаграмме. Один из распространенных примеров - создание графика с точками и линиями, представляющими одни и те же данные.\n",
    "\n",
    "Давайте использовать данные об акциях (*stocks*) для этого примера:"
   ]
  },
  {
   "cell_type": "code",
   "execution_count": null,
   "metadata": {},
   "outputs": [],
   "source": [
    "from vega_datasets import data\n",
    "stocks = data.stocks()\n",
    "stocks.head()"
   ]
  },
  {
   "cell_type": "markdown",
   "metadata": {},
   "source": [
    "Вот простой линейный график данных по акциям:"
   ]
  },
  {
   "cell_type": "code",
   "execution_count": null,
   "metadata": {},
   "outputs": [],
   "source": [
    "alt.Chart(stocks).mark_line().encode(\n",
    "    x='date:T',\n",
    "    y='price:Q',\n",
    "    color='symbol:N'\n",
    ")"
   ]
  },
  {
   "cell_type": "markdown",
   "metadata": {},
   "source": [
    "А вот тот же график с кружком (*circle mark*):"
   ]
  },
  {
   "cell_type": "code",
   "execution_count": null,
   "metadata": {},
   "outputs": [],
   "source": [
    "alt.Chart(stocks).mark_circle().encode(\n",
    "    x='date:T',\n",
    "    y='price:Q',\n",
    "    color='symbol:N'\n",
    ")"
   ]
  },
  {
   "cell_type": "markdown",
   "metadata": {},
   "source": [
    "Можем наложить эти два графика вместе с помощью оператора `+`:"
   ]
  },
  {
   "cell_type": "code",
   "execution_count": null,
   "metadata": {},
   "outputs": [],
   "source": [
    "lines = alt.Chart(stocks).mark_line().encode(\n",
    "    x='date:T',\n",
    "    y='price:Q',\n",
    "    color='symbol:N'\n",
    ")\n",
    "\n",
    "points = alt.Chart(stocks).mark_circle().encode(\n",
    "    x='date:T',\n",
    "    y='price:Q',\n",
    "    color='symbol:N'\n",
    ")\n",
    "\n",
    "lines + points"
   ]
  },
  {
   "cell_type": "markdown",
   "metadata": {},
   "source": [
    "Оператор `+` всего лишь сокращение для функции `alt.layer()`, которая делает то же самое:"
   ]
  },
  {
   "cell_type": "code",
   "execution_count": null,
   "metadata": {},
   "outputs": [],
   "source": [
    "alt.layer(lines, points)"
   ]
  },
  {
   "cell_type": "markdown",
   "metadata": {},
   "source": [
    "Один из шаблонов, который мы будем часто использовать, - это создать базовую диаграмму с общими элементами и сложить две копии с одним изменением:"
   ]
  },
  {
   "cell_type": "code",
   "execution_count": null,
   "metadata": {},
   "outputs": [],
   "source": [
    "base = alt.Chart(stocks).encode(\n",
    "    x='date:T',\n",
    "    y='price:Q',\n",
    "    color='symbol:N'\n",
    ")\n",
    "\n",
    "base.mark_line() + base.mark_circle()"
   ]
  },
  {
   "cell_type": "markdown",
   "metadata": {},
   "source": [
    "### Горизонтальная конкатенация\n",
    "\n",
    "Так же, как мы можем накладывать диаграммы друг на друга, мы можем объединить их по горизонтали, используя `alt.hconcat` или, что то же самое, оператор `|`:"
   ]
  },
  {
   "cell_type": "code",
   "execution_count": null,
   "metadata": {},
   "outputs": [],
   "source": [
    "base.mark_line() | base.mark_circle()"
   ]
  },
  {
   "cell_type": "code",
   "execution_count": null,
   "metadata": {},
   "outputs": [],
   "source": [
    "alt.hconcat(base.mark_line(),\n",
    "            base.mark_circle())"
   ]
  },
  {
   "cell_type": "markdown",
   "metadata": {},
   "source": [
    "Это может пригодиться для создания многопанельных представлений, например, вот набор данных `iris`:"
   ]
  },
  {
   "cell_type": "code",
   "execution_count": null,
   "metadata": {},
   "outputs": [],
   "source": [
    "iris = data.iris()\n",
    "iris.head()"
   ]
  },
  {
   "cell_type": "code",
   "execution_count": null,
   "metadata": {},
   "outputs": [],
   "source": [
    "base = alt.Chart(iris).mark_point().encode(\n",
    "    x='petalWidth',\n",
    "    y='petalLength',\n",
    "    color='species'\n",
    ")\n",
    "\n",
    "base | base.encode(x='sepalWidth')"
   ]
  },
  {
   "cell_type": "markdown",
   "metadata": {},
   "source": [
    "### Вертикальная конкатенация\n",
    "\n",
    "Вертикальная конкатенация (*vertical concatenation*) очень похожа на горизонтальную, но с использованием либо функции `alt.hconcat()`, либо оператора `&`:"
   ]
  },
  {
   "cell_type": "code",
   "execution_count": null,
   "metadata": {},
   "outputs": [],
   "source": [
    "base & base.encode(y='sepalWidth')"
   ]
  },
  {
   "cell_type": "markdown",
   "metadata": {},
   "source": [
    "### Повторить диаграмму\n",
    "\n",
    "Поскольку это очень распространенный шаблон для объединения диаграмм по горизонтали и вертикали при изменении одной кодировки, *Altair* предлагает для этого сокращение, используя оператор `repeat()`."
   ]
  },
  {
   "cell_type": "code",
   "execution_count": null,
   "metadata": {},
   "outputs": [],
   "source": [
    "import altair as alt\n",
    "from vega_datasets import data\n",
    "\n",
    "iris = data.iris()\n",
    "\n",
    "fields = ['petalLength', 'petalWidth', 'sepalLength', 'sepalWidth']\n",
    "\n",
    "alt.Chart(iris).mark_point().encode(\n",
    "    alt.X(alt.repeat(\"column\"), type='quantitative'),\n",
    "    alt.Y(alt.repeat(\"row\"), type='quantitative'),\n",
    "    color='species'\n",
    ").properties(\n",
    "    width=200,\n",
    "    height=200\n",
    ").repeat(\n",
    "    row=fields,\n",
    "    column=fields[::-1]\n",
    ").interactive()"
   ]
  },
  {
   "cell_type": "markdown",
   "metadata": {},
   "source": [
    "Этот API все еще не так оптимизирован, как мог бы, но мы будем над этим работать."
   ]
  },
  {
   "cell_type": "markdown",
   "metadata": {},
   "source": [
    "**читать далее [Часть 3 в CoLab](https://colab.research.google.com/github/dm-fedorov/pandas_basic/blob/master/быстрое%20введение%20в%20pandas/Визуализация%20данных%20с%20помощью%20Altair%20(часть%203).ipynb)**"
   ]
  },
  {
   "cell_type": "markdown",
   "metadata": {},
   "source": [
    "<a href=\"https://t.me/init_python\"><img src=\"https://dfedorov.spb.ru/pandas/logo-telegram.png\" width=\"35\" height=\"35\" alt=\"telegram\" align=\"left\"></a>"
   ]
  },
  {
   "cell_type": "code",
   "execution_count": null,
   "metadata": {},
   "outputs": [],
   "source": []
  }
 ],
 "metadata": {
  "kernelspec": {
   "display_name": "Python 3",
   "language": "python",
   "name": "python3"
  },
  "language_info": {
   "codemirror_mode": {
    "name": "ipython",
    "version": 3
   },
   "file_extension": ".py",
   "mimetype": "text/x-python",
   "name": "python",
   "nbconvert_exporter": "python",
   "pygments_lexer": "ipython3",
   "version": "3.8.3"
  },
  "widgets": {
   "application/vnd.jupyter.widget-state+json": {
    "state": {},
    "version_major": 2,
    "version_minor": 0
   }
  }
 },
 "nbformat": 4,
 "nbformat_minor": 4
}
