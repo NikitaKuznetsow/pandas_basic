{
 "cells": [
  {
   "cell_type": "markdown",
   "metadata": {},
   "source": [
    "# Взгляд на Plotly"
   ]
  },
  {
   "cell_type": "markdown",
   "metadata": {},
   "source": [
    "<a href=\"https://colab.research.google.com/github/dm-fedorov/pandas_basic/blob/master/быстрое%20введение%20в%20pandas/Взгляд%20на%20Plotly.ipynb\"><img align=\"left\" src=\"https://colab.research.google.com/assets/colab-badge.svg\" alt=\"Open in Colab\" title=\"Open and Execute in Google Colaboratory\" target=\"_blank\"></a>"
   ]
  },
  {
   "cell_type": "markdown",
   "metadata": {},
   "source": [
    "<a href=\"https://t.me/init_python\"><img src=\"https://dfedorov.spb.ru/pandas/logo-telegram.png\" width=\"35\" height=\"35\" alt=\"telegram\" align=\"left\"></a>"
   ]
  },
  {
   "cell_type": "markdown",
   "metadata": {},
   "source": [
    "<img src=\"https://raw.githubusercontent.com/dm-fedorov/pandas_basic/master/pic/pyviz.jpg\" height=\"600px\" width=\"800px\" >\n",
    "\n",
    "[*Источник картинки*](https://pyviz.org/overviews/index.html)"
   ]
  },
  {
   "cell_type": "markdown",
   "metadata": {},
   "source": [
    "В этой статье мы обсудим некоторые из последних изменений в *Plotly*, в чем заключаются преимущества и почему *Plotly* стоит рассмотреть для визуализации данных.\n",
    "\n",
    "> Оригинал статьи Криса [здесь](https://pbpython.com/plotly-look.html)\n",
    "\n",
    "В марте 2019 года *Plotly* [выпустила *Plotly Express*](https://medium.com/plotly/introducing-plotly-express-808df010143d). Эта новая высокоуровневая библиотека решила многие мои опасения по поводу питонической природы *Plotly API*, о которых я расскажу в этой статье."
   ]
  },
  {
   "cell_type": "markdown",
   "metadata": {},
   "source": [
    "## Согласованный API\n",
    "\n",
    "Когда я создаю визуализации, то перебираю множество разных подходов. Для меня важно, что я могу легко переключать подходы к визуализации с минимальными изменениями кода. \n",
    "\n",
    "> Подход *Plotly Express* в чем-то похож на *seaborn*. \n",
    "\n",
    "Для демонстрации будем использовать [данные о злаках](https://www.kaggle.com/crawford/80-cereals), которые я очистил для ясности:"
   ]
  },
  {
   "cell_type": "code",
   "execution_count": null,
   "metadata": {},
   "outputs": [],
   "source": [
    "!pip3 install plotly==4.14.3"
   ]
  },
  {
   "cell_type": "code",
   "execution_count": null,
   "metadata": {},
   "outputs": [],
   "source": [
    "import pandas as pd\n",
    "import plotly.express as px\n",
    "\n",
    "df = pd.read_csv('https://github.com/chris1610/pbpython/blob/master/data/cereal_data.csv?raw=True')"
   ]
  },
  {
   "cell_type": "markdown",
   "metadata": {},
   "source": [
    "Данные содержат некоторые характеристики различных злаков:"
   ]
  },
  {
   "cell_type": "code",
   "execution_count": null,
   "metadata": {},
   "outputs": [],
   "source": [
    "df.head()"
   ]
  },
  {
   "cell_type": "markdown",
   "metadata": {},
   "source": [
    "Если мы хотим посмотреть на взаимосвязь между `rating` и `sugars` и включить название злака в виде ярлыка при наведении курсора:"
   ]
  },
  {
   "cell_type": "code",
   "execution_count": null,
   "metadata": {},
   "outputs": [],
   "source": [
    "fig = px.scatter(df, \n",
    "                 x='sugars', \n",
    "                 y='rating', \n",
    "                 hover_name='name', \n",
    "                 title='Cereal ratings vs. sugars')\n",
    "fig.show()"
   ]
  },
  {
   "cell_type": "markdown",
   "metadata": {},
   "source": [
    "Используя этот подход, легко переключать типы диаграмм, изменяя вызов функции. \n",
    "\n",
    "Например, довольно очевидно, что будет делать каждый из следующих типов диаграмм:\n",
    "\n",
    "- [`px.scatter()`](https://plotly.com/python-api-reference/generated/plotly.express.scatter.html#plotly.express.scatter)\n",
    "- [`px.line()`](https://plotly.com/python-api-reference/generated/plotly.express.line.html#plotly.express.line)\n",
    "- [`px.bar()`](https://plotly.com/python-api-reference/generated/plotly.express.bar.html#plotly.express.bar)\n",
    "- [`px.histogram()`](https://plotly.com/python-api-reference/generated/plotly.express.histogram.html#plotly.express.histogram)\n",
    "- [`px.box()`](https://plotly.com/python-api-reference/generated/plotly.express.box.html#plotly.express.box)\n",
    "- [`px.violin()`](https://plotly.com/python-api-reference/generated/plotly.express.violin.html#plotly.express.violin)\n",
    "- [`px.strip()`](https://plotly.com/python-api-reference/generated/plotly.express.strip.html#plotly.express.strip)\n",
    "\n",
    "> Полный список функций *Plotly Express* доступен по [ссылке](https://plotly.com/python-api-reference/plotly.express.html)\n",
    "\n",
    "Для моей работы эти типы диаграмм покрывают 80-90% того, что я делаю изо дня в день.\n",
    "\n",
    "Другой пример. На этот раз - статическая гистограмма:"
   ]
  },
  {
   "cell_type": "code",
   "execution_count": null,
   "metadata": {},
   "outputs": [],
   "source": [
    "fig = px.histogram(df, \n",
    "                   x='rating', \n",
    "                   title='Rating distribution')\n",
    "fig.show()"
   ]
  },
  {
   "cell_type": "markdown",
   "metadata": {},
   "source": [
    "В дополнение к различным типам диаграмм большинство типов поддерживают одну и ту же базовую сигнатуру функции, поэтому вы можете легко ограничивать (*facet*) данные или изменять цвета/размеры на основе значений в вашем фрейме:"
   ]
  },
  {
   "cell_type": "code",
   "execution_count": null,
   "metadata": {},
   "outputs": [],
   "source": [
    "fig = px.scatter(df, \n",
    "                 x='sugars', \n",
    "                 y='rating', \n",
    "                 color='mfr', \n",
    "                 size='calories', \n",
    "                 facet_row='shelf', \n",
    "                 facet_col='type', \n",
    "                 hover_name='name', \n",
    "                 category_orders={'shelf': ['Top', 'Middle', 'Bottom']})\n",
    "fig.show()"
   ]
  },
  {
   "cell_type": "markdown",
   "metadata": {},
   "source": [
    "Даже если вы никогда раньше не использовали *Plotly*, вы должны иметь общее представление о том, что делает [каждый из этих параметров](https://plotly.com/python-api-reference/generated/plotly.express.scatter.html#plotly.express.scatter), и понимать, насколько полезным может быть отображение данных различными способами, внося незначительные изменения в вызовы функций. \n",
    "\n",
    "## Множество типов диаграмм\n",
    "\n",
    "В дополнение к основным типам диаграмм, описанным выше, *Plotly* имеет несколько расширенных/специализированных диаграмм, таких как [`funnel_chart`](https://plotly.com/python/funnel-charts/), [`timeline`](https://plotly.com/python/gantt/), [`treemap`](https://plotly.com/python/treemaps/), [`sunburst`](https://plotly.com/python/sunburst-charts/) и [`geographic maps`](https://plotly.com/python/maps/).\n",
    "\n",
    "Я думаю, что базовые типы диаграмм должны быть отправной точкой для анализа, но иногда действительно эффективной может оказаться более сложная визуализация. \n",
    "\n",
    "Стоит потратить время и посмотреть [здесь](https://plotly.com/python/plotly-express/) все варианты. Никогда не знаешь, когда может понадобиться более сложный тип диаграммы.\n",
    "\n",
    "Например, древовидная карта (*treemap*) может быть полезной для понимания иерархической природы данных. Этот тип диаграммы обычно не доступен в других библиотеках визуализации *Python*, что является еще одним приятным плюсом для *Plotly*:"
   ]
  },
  {
   "cell_type": "code",
   "execution_count": null,
   "metadata": {},
   "outputs": [],
   "source": [
    "fig = px.treemap(df, \n",
    "                 path=['shelf', 'mfr'], \n",
    "                 values='cereal', \n",
    "                 title='Cereals by shelf location')\n",
    "fig.show()"
   ]
  },
  {
   "cell_type": "markdown",
   "metadata": {},
   "source": [
    "Вы можете поменять концепции и использовать диаграмму солнечных лучей (*sunburst*):"
   ]
  },
  {
   "cell_type": "code",
   "execution_count": null,
   "metadata": {},
   "outputs": [],
   "source": [
    "fig = px.sunburst(df, \n",
    "                  path=['mfr','shelf'], \n",
    "                  values='cereal')\n",
    "fig.show()"
   ]
  },
  {
   "cell_type": "markdown",
   "metadata": {},
   "source": [
    "> Официальное описание *Plotly Express* см. [здесь](https://plotly.com/python/plotly-express/)"
   ]
  },
  {
   "cell_type": "markdown",
   "metadata": {},
   "source": [
    "## Сохранение изображений\n",
    "\n",
    "Удивительно, но одна из проблем многих библиотек построения графиков заключается в том, что непросто сохранять статические файлы `.png`, `.jpeg` или `.svg`. Это одна из областей, где *matplotlib* действительно сияет, и многие инструменты построения графиков на основе javascript испытывают трудности, особенно когда корпоративные системы заблокированы, а настройки межсетевого экрана вызывают проблемы. Я сделал достаточно снимков экрана и вставил изображений в PowerPoint.\n",
    "\n",
    "> см. [эффективное использование *Matplotlib*](https://dfedorov.spb.ru/pandas/%D0%AD%D1%84%D1%84%D0%B5%D0%BA%D1%82%D0%B8%D0%B2%D0%BD%D0%BE%D0%B5%20%D0%B8%D1%81%D0%BF%D0%BE%D0%BB%D1%8C%D0%B7%D0%BE%D0%B2%D0%B0%D0%BD%D0%B8%D0%B5%20Matplotlib.html)\n",
    "\n",
    "Недавно компания *Plotly* выпустила приложение [`kaleido`](https://github.com/plotly/Kaleido), которое значительно упрощает сохранение статических изображений в нескольких форматах. В [анонсе](https://medium.com/plotly/introducing-kaleido-b03c4b7b1d81) более подробно рассказывается о проблемах разработки стабильного и быстрого решения для экспорта изображений. Я лично боролся с некоторыми из этих проблем. \n",
    "\n",
    "Например, если я хочу сохранить уменьшенную версию (`scale=.85`) диаграммы солнечных лучей (*sunburst chart*):"
   ]
  },
  {
   "cell_type": "code",
   "execution_count": null,
   "metadata": {},
   "outputs": [],
   "source": [
    "!pip3 install -U kaleido"
   ]
  },
  {
   "cell_type": "code",
   "execution_count": null,
   "metadata": {},
   "outputs": [],
   "source": [
    "fig.write_image('sunburst.png', \n",
    "                scale=.85, \n",
    "                engine=\"kaleido\")"
   ]
  },
  {
   "cell_type": "markdown",
   "metadata": {},
   "source": [
    "*Plotly* также поддерживает сохранение в виде отдельного HTML."
   ]
  },
  {
   "cell_type": "code",
   "execution_count": null,
   "metadata": {},
   "outputs": [],
   "source": [
    "fig.write_html('treemap.html',\n",
    "               include_plotlyjs='cdn',\n",
    "               full_html=False,\n",
    "               include_mathjax='cdn')"
   ]
  },
  {
   "cell_type": "markdown",
   "metadata": {},
   "source": [
    "## Работа с Pandas\n",
    "\n",
    "При работе с данными, я всегда получаю фрейм данных *pandas*, и большую часть времени он имеет [аккуратный (*tidy*) формат](https://dfedorov.spb.ru/pandas/%D0%90%D0%BA%D0%BA%D1%83%D1%80%D0%B0%D1%82%D0%BD%D1%8B%D0%B5%20%D0%B4%D0%B0%D0%BD%D0%BD%D1%8B%D0%B5%20%D0%B2%20Python.html). *Plotly* изначально понимает фрейм данных, поэтому вам не нужно дополнительное преобразование данных перед построением графика.\n",
    "\n",
    "> Все функции *Plotly Express* принимают в качестве входных данных [\"аккуратный\" фрейм](http://www.jeannicholashould.com/tidy-data-in-python.html). \n",
    "\n",
    "*Pandas* позволяют определять различные бэкэнды построения графиков (*plotting back ends*), и *Plotly* можно включить следующим образом:"
   ]
  },
  {
   "cell_type": "code",
   "execution_count": null,
   "metadata": {},
   "outputs": [],
   "source": [
    "pd.options.plotting.backend = \"plotly\""
   ]
  },
  {
   "cell_type": "markdown",
   "metadata": {},
   "source": [
    "Это позволяет создавать визуализацию, используя комбинацию *pandas* и *Plotly API*. Вот пример гистограммы с использованием этой комбинации:"
   ]
  },
  {
   "cell_type": "code",
   "execution_count": null,
   "metadata": {},
   "outputs": [],
   "source": [
    "fig = df[['sodium', 'potass']].plot(kind='hist',\n",
    "                                    nbins=50,\n",
    "                                    histnorm='probability density',\n",
    "                                    opacity=0.75,\n",
    "                                    marginal='box',\n",
    "                                    title='Potassium and Sodium Distributions')\n",
    "\n",
    "fig.show()"
   ]
  },
  {
   "cell_type": "markdown",
   "metadata": {},
   "source": [
    "Еще одно недавнее изменение в *Plotly Express* заключается в том, что он поддерживает \"широкую форму\" (*wide-form*), а также аккуратные (также известные как *long-form*) данные. \n",
    "\n",
    "Эта функция позволяет передавать несколько столбцов фрейма данных вместо того, чтобы пытаться преобразовать данные в правильный формат. \n",
    "\n",
    "Обратитесь к [документации за дополнительными примерами](https://plotly.com/python/wide-form/)."
   ]
  },
  {
   "cell_type": "markdown",
   "metadata": {},
   "source": [
    "## Настройка рисунка\n",
    "\n",
    "*Plotly Express* поддерживает быстрые и простые модификации визуализаций. Однако бывают случаи, когда нужно выполнить точную настройку. \n",
    "\n",
    "> Каждая функция *Plotly Express* воплощает четкое сопоставление строк фрейма данных с отдельными или сгруппированными визуальными метками и имеет подпись, вдохновленную [Грамматикой графики](https://towardsdatascience.com/a-comprehensive-guide-to-the-grammar-of-graphics-for-effective-visualization-of-multi-dimensional-1f92b4ed4149).\n",
    "\n",
    "Вот цитата из [вводной статьи](https://medium.com/plotly/introducing-plotly-express-808df010143d) о *Plotly Express*:\n",
    "\n",
    "> *Plotly Express* для *Plotly.py* - это то же самое, что *Seaborn* для *matplotlib*: высокоуровневая оболочка, которая позволяет быстро создавать фигуры, а затем использовать возможности базового API и экосистемы для внесения изменений.\n",
    "\n",
    "Вы можете настроить окончательную диаграмму *Plotly Express*, используя `update_layout`, `add_shape`, `add_annotation`, `add_trace` или задав `template`. В [документации много подробных примеров](https://plotly.com/python/creating-and-updating-figures/#updating-figures).\n",
    "\n",
    "Вот пример настройки нескольких компонентов распределения натрия (`sodium`) и калия (`potass`):"
   ]
  },
  {
   "cell_type": "code",
   "execution_count": null,
   "metadata": {},
   "outputs": [],
   "source": [
    "fig = df[['sodium', 'potass']].plot(kind='hist',\n",
    "                                    nbins=50,\n",
    "                                    opacity=0.75,\n",
    "                                    marginal='box',\n",
    "                                    title='Potassium and Sodium Distributions')\n",
    "\n",
    "fig.update_layout(\n",
    "    title_text='Sodium and Potassium Distribution',  # название графика\n",
    "    xaxis_title_text='Grams',\n",
    "    yaxis_title_text='Count',\n",
    "    bargap=0.1,  # промежуток между полосами координат соседнего местоположения\n",
    "    template='simple_white', # выберите один из предопределенных шаблонов\n",
    ")\n",
    "\n",
    "# Может вызывать update_layout несколько раз\n",
    "fig.update_layout(legend=dict(yanchor=\"top\", \n",
    "                              y=.74, \n",
    "                              xanchor=\"right\", \n",
    "                              x=.99))\n",
    "\n",
    "# добавить вертикальную \"целевую\" линию\n",
    "fig.add_shape(\n",
    "    type='line',\n",
    "    line_color='gold',\n",
    "    line_width=3,\n",
    "    opacity=1,\n",
    "    line_dash='dot',\n",
    "    x0=100,\n",
    "    x1=100,\n",
    "    xref='x',\n",
    "    y0=0,\n",
    "    y1=15,\n",
    "    yref='y')\n",
    "\n",
    "# добавить текстовую выноску со стрелкой\n",
    "fig.add_annotation(\n",
    "    text='USDA Target',\n",
    "    xanchor='right',\n",
    "    x=100,\n",
    "    y=12,\n",
    "    arrowhead=1,\n",
    "    showarrow=True)\n",
    "\n",
    "fig.show()"
   ]
  },
  {
   "cell_type": "markdown",
   "metadata": {},
   "source": [
    "Далее пример из [официального описания](https://medium.com/plotly/introducing-plotly-express-808df010143d), который показывает продолжительность жизни в сравнении с ВВП на душу населения по странам за 2007 г:"
   ]
  },
  {
   "cell_type": "code",
   "execution_count": null,
   "metadata": {},
   "outputs": [],
   "source": [
    "import plotly.express as px\n",
    "\n",
    "gapminder = px.data.gapminder()\n",
    "gapminder2007 = gapminder.query(\"year == 2007\")\n",
    "\n",
    "px.scatter(gapminder2007, \n",
    "           x=\"gdpPercap\", \n",
    "           y=\"lifeExp\")"
   ]
  },
  {
   "cell_type": "markdown",
   "metadata": {},
   "source": [
    "Возможно, вы хотите увидеть, как эта диаграмма развивалась с течением времени.\n",
    "\n",
    "Вы можете анимировать ее, установив `animation_frame=\"year\"` и `animation_group=\"country\"`, чтобы определить, какие круги соответствуют каким в кадрах."
   ]
  },
  {
   "cell_type": "code",
   "execution_count": null,
   "metadata": {},
   "outputs": [],
   "source": [
    "px.scatter(gapminder, \n",
    "           x=\"gdpPercap\", \n",
    "           y=\"lifeExp\",\n",
    "           size=\"pop\", \n",
    "           size_max=60, \n",
    "           color=\"continent\", \n",
    "           hover_name=\"country\",\n",
    "           animation_frame=\"year\", \n",
    "           animation_group=\"country\", \n",
    "           log_x=True, \n",
    "           range_x=[100,100000], \n",
    "           range_y=[25,90],\n",
    "           labels=dict(pop=\"Population\", gdpPercap=\"GDP per Capita\", lifeExp=\"Life Expectancy\"))"
   ]
  },
  {
   "cell_type": "markdown",
   "metadata": {},
   "source": [
    "Поскольку это географические данные, то можем представить их в виде анимированной карты: "
   ]
  },
  {
   "cell_type": "code",
   "execution_count": null,
   "metadata": {},
   "outputs": [],
   "source": [
    "px.choropleth(gapminder, \n",
    "              locations=\"iso_alpha\", \n",
    "              color=\"lifeExp\", \n",
    "              hover_name=\"country\", \n",
    "              animation_frame=\"year\",\n",
    "              color_continuous_scale=px.colors.sequential.Plasma, \n",
    "              projection=\"natural earth\")"
   ]
  },
  {
   "cell_type": "markdown",
   "metadata": {},
   "source": [
    "> [Dash](https://dash.plot.ly/) - это фреймворк *Plotly* с открытым исходным кодом для создания аналитических приложений и панелей мониторинга с диаграммами *Plotly.py*. Объекты, которые производит *Plotly Express*, на 100% совместимы с *Dash*.\n",
    "\n",
    "Синтаксис *Plotly* относительно прост, но может потребоваться некоторое время, чтобы проработать документацию и найти правильную комбинацию. Это одна из областей, где относительная молодость пакета означает, что существует не так много примеров настройки. "
   ]
  },
  {
   "cell_type": "markdown",
   "metadata": {},
   "source": [
    "<a href=\"https://t.me/init_python\"><img src=\"https://dfedorov.spb.ru/pandas/logo-telegram.png\" width=\"35\" height=\"35\" alt=\"telegram\" align=\"left\"></a>"
   ]
  },
  {
   "cell_type": "code",
   "execution_count": null,
   "metadata": {},
   "outputs": [],
   "source": []
  }
 ],
 "metadata": {
  "kernelspec": {
   "display_name": "Python 3",
   "language": "python",
   "name": "python3"
  },
  "language_info": {
   "codemirror_mode": {
    "name": "ipython",
    "version": 3
   },
   "file_extension": ".py",
   "mimetype": "text/x-python",
   "name": "python",
   "nbconvert_exporter": "python",
   "pygments_lexer": "ipython3",
   "version": "3.8.3"
  },
  "widgets": {
   "application/vnd.jupyter.widget-state+json": {
    "state": {},
    "version_major": 2,
    "version_minor": 0
   }
  }
 },
 "nbformat": 4,
 "nbformat_minor": 4
}
