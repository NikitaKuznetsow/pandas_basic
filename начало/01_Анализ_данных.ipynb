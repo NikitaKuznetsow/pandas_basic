{
 "cells": [
  {
   "cell_type": "markdown",
   "metadata": {},
   "source": [
    "[Data-вебинары с Андреем Дорожным: данные для начинающих](https://www.youtube.com/watch?v=ppE6LKvuk7Q)"
   ]
  },
  {
   "cell_type": "markdown",
   "metadata": {},
   "source": [
    "### Очистка данных"
   ]
  },
  {
   "cell_type": "markdown",
   "metadata": {},
   "source": [
    "Мусор на входе - мусор на выходе."
   ]
  },
  {
   "cell_type": "markdown",
   "metadata": {},
   "source": [
    "- объединенные ячейки\n",
    "- разный регистр для строк\n",
    "- разные типы переменных в пределах одного столбца (разные форматы дат)\n",
    "- пропущенные значения"
   ]
  },
  {
   "cell_type": "markdown",
   "metadata": {},
   "source": [
    "<img src=\"https://raw.githubusercontent.com/dm-fedorov/pandas_basic/master/%D0%A2%D0%B5%D0%BF%D0%BB%D0%B8%D1%86%D0%B0/pic/table.jpg\" height=\"300px\" width=\"500px\" >"
   ]
  },
  {
   "cell_type": "markdown",
   "metadata": {},
   "source": [
    "**Создание сводных таблиц**\n",
    "\n",
    "<img src=\"https://raw.githubusercontent.com/dm-fedorov/pandas_basic/master/%D0%A2%D0%B5%D0%BF%D0%BB%D0%B8%D1%86%D0%B0/pic/table_all.jpg\" height=\"400px\" width=\"500px\" >\n"
   ]
  },
  {
   "cell_type": "markdown",
   "metadata": {},
   "source": [
    "**Чек-лист очистки данных**\n",
    "\n",
    "- Посмотреть датасет, проверить вкладки, объем датасета;\n",
    "- Переименовать файл, вкладку (латинскими буквами); \n",
    "- Очистите форматирование;\n",
    "- Очистите шапку, сделайте в одну строку; \n",
    "- Описания колонок сохраните в отдельную вкладку (латинские буквы); \n",
    "- Поправьте форматы переменных (числа, текст); \n",
    "- Заморозьте первую строку; \n",
    "- Проверьте датасет на дубликаты\n",
    "- Если есть, удалите дубликаты;\n",
    "- Разделите необходимые колонки; \n",
    "- Проверьте все 10 пунктов "
   ]
  },
  {
   "cell_type": "markdown",
   "metadata": {},
   "source": [
    "[Вебинар 4](https://youtu.be/qZbpdDDPUlo) и [Вебинар 5](https://youtu.be/LzLiArJN5Ws)"
   ]
  }
 ],
 "metadata": {
  "kernelspec": {
   "display_name": "Python 3",
   "language": "python",
   "name": "python3"
  },
  "language_info": {
   "codemirror_mode": {
    "name": "ipython",
    "version": 3
   },
   "file_extension": ".py",
   "mimetype": "text/x-python",
   "name": "python",
   "nbconvert_exporter": "python",
   "pygments_lexer": "ipython3",
   "version": "3.8.3"
  }
 },
 "nbformat": 4,
 "nbformat_minor": 4
}
