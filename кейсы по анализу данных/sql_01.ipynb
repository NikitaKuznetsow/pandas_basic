{
  "cells": [
    {
      "metadata": {
        "trusted": true
      },
      "cell_type": "code",
      "source": "from sqlite3 import connect",
      "execution_count": 1,
      "outputs": []
    },
    {
      "metadata": {
        "trusted": true
      },
      "cell_type": "code",
      "source": "conn = connect(\"my_database.sqlite\")\nc = conn.cursor()",
      "execution_count": 2,
      "outputs": []
    },
    {
      "metadata": {
        "trusted": true
      },
      "cell_type": "code",
      "source": "c",
      "execution_count": 3,
      "outputs": [
        {
          "data": {
            "text/plain": "<sqlite3.Cursor at 0x10bf04b90>"
          },
          "execution_count": 3,
          "metadata": {},
          "output_type": "execute_result"
        }
      ]
    },
    {
      "metadata": {
        "trusted": true
      },
      "cell_type": "code",
      "source": "c.execute(\"\"\"\nCREATE TABLE students (id, first_name, last_name)\n\"\"\")",
      "execution_count": 4,
      "outputs": [
        {
          "data": {
            "text/plain": "<sqlite3.Cursor at 0x10bf04b90>"
          },
          "execution_count": 4,
          "metadata": {},
          "output_type": "execute_result"
        }
      ]
    },
    {
      "metadata": {
        "trusted": true
      },
      "cell_type": "code",
      "source": "c.execute(\"\"\"\nPRAGMA table_info(students)\n\"\"\").fetchall()",
      "execution_count": 5,
      "outputs": [
        {
          "data": {
            "text/plain": "[(0, 'id', '', 0, None, 0),\n (1, 'first_name', '', 0, None, 0),\n (2, 'last_name', '', 0, None, 0)]"
          },
          "execution_count": 5,
          "metadata": {},
          "output_type": "execute_result"
        }
      ]
    },
    {
      "metadata": {
        "trusted": true
      },
      "cell_type": "code",
      "source": "c.execute(\"\"\"\nINSERT INTO students (id, first_name, last_name) VALUES (1, \"Alice\", \"Smith\");\n\"\"\")",
      "execution_count": 6,
      "outputs": [
        {
          "data": {
            "text/plain": "<sqlite3.Cursor at 0x10bf04b90>"
          },
          "execution_count": 6,
          "metadata": {},
          "output_type": "execute_result"
        }
      ]
    },
    {
      "metadata": {
        "trusted": true
      },
      "cell_type": "code",
      "source": "c.execute(\"\"\"\nINSERT INTO students (id, first_name, last_name) VALUES (2, \"Bob\", \"Smith\");\n\"\"\")",
      "execution_count": 7,
      "outputs": [
        {
          "data": {
            "text/plain": "<sqlite3.Cursor at 0x10bf04b90>"
          },
          "execution_count": 7,
          "metadata": {},
          "output_type": "execute_result"
        }
      ]
    },
    {
      "metadata": {
        "trusted": true
      },
      "cell_type": "code",
      "source": "c.execute(\"\"\"\nSELECT * FROM students;\n\"\"\").fetchall()",
      "execution_count": 9,
      "outputs": [
        {
          "data": {
            "text/plain": "[(1, 'Alice', 'Smith'), (2, 'Bob', 'Smith')]"
          },
          "execution_count": 9,
          "metadata": {},
          "output_type": "execute_result"
        }
      ]
    },
    {
      "metadata": {
        "trusted": true
      },
      "cell_type": "code",
      "source": "c.execute(\"\"\"\nSELECT last_name, first_name FROM students;\n\"\"\").fetchall()",
      "execution_count": 10,
      "outputs": [
        {
          "data": {
            "text/plain": "[('Smith', 'Alice'), ('Smith', 'Bob')]"
          },
          "execution_count": 10,
          "metadata": {},
          "output_type": "execute_result"
        }
      ]
    },
    {
      "metadata": {
        "trusted": true
      },
      "cell_type": "code",
      "source": "import pandas as pd",
      "execution_count": 11,
      "outputs": []
    },
    {
      "metadata": {
        "trusted": true
      },
      "cell_type": "code",
      "source": "df = pd.read_csv(\n  \"https://github.com/Godoy/imdb-5000-movie-dataset/raw/master/data/movie_metadata.csv\")",
      "execution_count": 14,
      "outputs": []
    },
    {
      "metadata": {
        "trusted": true
      },
      "cell_type": "code",
      "source": "df.to_sql(\"movies\", conn)",
      "execution_count": 15,
      "outputs": []
    },
    {
      "metadata": {
        "trusted": true
      },
      "cell_type": "code",
      "source": "c.execute(\"\"\"\nPRAGMA table_info(movies)\n\"\"\").fetchall()",
      "execution_count": 16,
      "outputs": [
        {
          "data": {
            "text/plain": "[(0, 'index', 'INTEGER', 0, None, 0),\n (1, 'color', 'TEXT', 0, None, 0),\n (2, 'director_name', 'TEXT', 0, None, 0),\n (3, 'num_critic_for_reviews', 'REAL', 0, None, 0),\n (4, 'duration', 'REAL', 0, None, 0),\n (5, 'director_facebook_likes', 'REAL', 0, None, 0),\n (6, 'actor_3_facebook_likes', 'REAL', 0, None, 0),\n (7, 'actor_2_name', 'TEXT', 0, None, 0),\n (8, 'actor_1_facebook_likes', 'REAL', 0, None, 0),\n (9, 'gross', 'REAL', 0, None, 0),\n (10, 'genres', 'TEXT', 0, None, 0),\n (11, 'actor_1_name', 'TEXT', 0, None, 0),\n (12, 'movie_title', 'TEXT', 0, None, 0),\n (13, 'num_voted_users', 'INTEGER', 0, None, 0),\n (14, 'cast_total_facebook_likes', 'INTEGER', 0, None, 0),\n (15, 'actor_3_name', 'TEXT', 0, None, 0),\n (16, 'facenumber_in_poster', 'REAL', 0, None, 0),\n (17, 'plot_keywords', 'TEXT', 0, None, 0),\n (18, 'movie_imdb_link', 'TEXT', 0, None, 0),\n (19, 'num_user_for_reviews', 'REAL', 0, None, 0),\n (20, 'language', 'TEXT', 0, None, 0),\n (21, 'country', 'TEXT', 0, None, 0),\n (22, 'content_rating', 'TEXT', 0, None, 0),\n (23, 'budget', 'REAL', 0, None, 0),\n (24, 'title_year', 'REAL', 0, None, 0),\n (25, 'actor_2_facebook_likes', 'REAL', 0, None, 0),\n (26, 'imdb_score', 'REAL', 0, None, 0),\n (27, 'aspect_ratio', 'REAL', 0, None, 0),\n (28, 'movie_facebook_likes', 'INTEGER', 0, None, 0)]"
          },
          "execution_count": 16,
          "metadata": {},
          "output_type": "execute_result"
        }
      ]
    },
    {
      "metadata": {
        "trusted": true
      },
      "cell_type": "code",
      "source": "pd.read_sql(\"\"\"SELECT * FROM movies\"\"\", conn)",
      "execution_count": 20,
      "outputs": [
        {
          "data": {
            "text/html": "<div>\n<style scoped>\n    .dataframe tbody tr th:only-of-type {\n        vertical-align: middle;\n    }\n\n    .dataframe tbody tr th {\n        vertical-align: top;\n    }\n\n    .dataframe thead th {\n        text-align: right;\n    }\n</style>\n<table border=\"1\" class=\"dataframe\">\n  <thead>\n    <tr style=\"text-align: right;\">\n      <th></th>\n      <th>index</th>\n      <th>color</th>\n      <th>director_name</th>\n      <th>num_critic_for_reviews</th>\n      <th>duration</th>\n      <th>director_facebook_likes</th>\n      <th>actor_3_facebook_likes</th>\n      <th>actor_2_name</th>\n      <th>actor_1_facebook_likes</th>\n      <th>gross</th>\n      <th>...</th>\n      <th>num_user_for_reviews</th>\n      <th>language</th>\n      <th>country</th>\n      <th>content_rating</th>\n      <th>budget</th>\n      <th>title_year</th>\n      <th>actor_2_facebook_likes</th>\n      <th>imdb_score</th>\n      <th>aspect_ratio</th>\n      <th>movie_facebook_likes</th>\n    </tr>\n  </thead>\n  <tbody>\n    <tr>\n      <th>0</th>\n      <td>0</td>\n      <td>Color</td>\n      <td>James Cameron</td>\n      <td>723.0</td>\n      <td>178.0</td>\n      <td>0.0</td>\n      <td>855.0</td>\n      <td>Joel David Moore</td>\n      <td>1000.0</td>\n      <td>760505847.0</td>\n      <td>...</td>\n      <td>3054.0</td>\n      <td>English</td>\n      <td>USA</td>\n      <td>PG-13</td>\n      <td>237000000.0</td>\n      <td>2009.0</td>\n      <td>936.0</td>\n      <td>7.9</td>\n      <td>1.78</td>\n      <td>33000</td>\n    </tr>\n    <tr>\n      <th>1</th>\n      <td>1</td>\n      <td>Color</td>\n      <td>Gore Verbinski</td>\n      <td>302.0</td>\n      <td>169.0</td>\n      <td>563.0</td>\n      <td>1000.0</td>\n      <td>Orlando Bloom</td>\n      <td>40000.0</td>\n      <td>309404152.0</td>\n      <td>...</td>\n      <td>1238.0</td>\n      <td>English</td>\n      <td>USA</td>\n      <td>PG-13</td>\n      <td>300000000.0</td>\n      <td>2007.0</td>\n      <td>5000.0</td>\n      <td>7.1</td>\n      <td>2.35</td>\n      <td>0</td>\n    </tr>\n    <tr>\n      <th>2</th>\n      <td>2</td>\n      <td>Color</td>\n      <td>Sam Mendes</td>\n      <td>602.0</td>\n      <td>148.0</td>\n      <td>0.0</td>\n      <td>161.0</td>\n      <td>Rory Kinnear</td>\n      <td>11000.0</td>\n      <td>200074175.0</td>\n      <td>...</td>\n      <td>994.0</td>\n      <td>English</td>\n      <td>UK</td>\n      <td>PG-13</td>\n      <td>245000000.0</td>\n      <td>2015.0</td>\n      <td>393.0</td>\n      <td>6.8</td>\n      <td>2.35</td>\n      <td>85000</td>\n    </tr>\n    <tr>\n      <th>3</th>\n      <td>3</td>\n      <td>Color</td>\n      <td>Christopher Nolan</td>\n      <td>813.0</td>\n      <td>164.0</td>\n      <td>22000.0</td>\n      <td>23000.0</td>\n      <td>Christian Bale</td>\n      <td>27000.0</td>\n      <td>448130642.0</td>\n      <td>...</td>\n      <td>2701.0</td>\n      <td>English</td>\n      <td>USA</td>\n      <td>PG-13</td>\n      <td>250000000.0</td>\n      <td>2012.0</td>\n      <td>23000.0</td>\n      <td>8.5</td>\n      <td>2.35</td>\n      <td>164000</td>\n    </tr>\n    <tr>\n      <th>4</th>\n      <td>4</td>\n      <td>None</td>\n      <td>Doug Walker</td>\n      <td>NaN</td>\n      <td>NaN</td>\n      <td>131.0</td>\n      <td>NaN</td>\n      <td>Rob Walker</td>\n      <td>131.0</td>\n      <td>NaN</td>\n      <td>...</td>\n      <td>NaN</td>\n      <td>None</td>\n      <td>None</td>\n      <td>None</td>\n      <td>NaN</td>\n      <td>NaN</td>\n      <td>12.0</td>\n      <td>7.1</td>\n      <td>NaN</td>\n      <td>0</td>\n    </tr>\n    <tr>\n      <th>...</th>\n      <td>...</td>\n      <td>...</td>\n      <td>...</td>\n      <td>...</td>\n      <td>...</td>\n      <td>...</td>\n      <td>...</td>\n      <td>...</td>\n      <td>...</td>\n      <td>...</td>\n      <td>...</td>\n      <td>...</td>\n      <td>...</td>\n      <td>...</td>\n      <td>...</td>\n      <td>...</td>\n      <td>...</td>\n      <td>...</td>\n      <td>...</td>\n      <td>...</td>\n      <td>...</td>\n    </tr>\n    <tr>\n      <th>5038</th>\n      <td>5038</td>\n      <td>Color</td>\n      <td>Scott Smith</td>\n      <td>1.0</td>\n      <td>87.0</td>\n      <td>2.0</td>\n      <td>318.0</td>\n      <td>Daphne Zuniga</td>\n      <td>637.0</td>\n      <td>NaN</td>\n      <td>...</td>\n      <td>6.0</td>\n      <td>English</td>\n      <td>Canada</td>\n      <td>None</td>\n      <td>NaN</td>\n      <td>2013.0</td>\n      <td>470.0</td>\n      <td>7.7</td>\n      <td>NaN</td>\n      <td>84</td>\n    </tr>\n    <tr>\n      <th>5039</th>\n      <td>5039</td>\n      <td>Color</td>\n      <td>None</td>\n      <td>43.0</td>\n      <td>43.0</td>\n      <td>NaN</td>\n      <td>319.0</td>\n      <td>Valorie Curry</td>\n      <td>841.0</td>\n      <td>NaN</td>\n      <td>...</td>\n      <td>359.0</td>\n      <td>English</td>\n      <td>USA</td>\n      <td>TV-14</td>\n      <td>NaN</td>\n      <td>NaN</td>\n      <td>593.0</td>\n      <td>7.5</td>\n      <td>16.00</td>\n      <td>32000</td>\n    </tr>\n    <tr>\n      <th>5040</th>\n      <td>5040</td>\n      <td>Color</td>\n      <td>Benjamin Roberds</td>\n      <td>13.0</td>\n      <td>76.0</td>\n      <td>0.0</td>\n      <td>0.0</td>\n      <td>Maxwell Moody</td>\n      <td>0.0</td>\n      <td>NaN</td>\n      <td>...</td>\n      <td>3.0</td>\n      <td>English</td>\n      <td>USA</td>\n      <td>None</td>\n      <td>1400.0</td>\n      <td>2013.0</td>\n      <td>0.0</td>\n      <td>6.3</td>\n      <td>NaN</td>\n      <td>16</td>\n    </tr>\n    <tr>\n      <th>5041</th>\n      <td>5041</td>\n      <td>Color</td>\n      <td>Daniel Hsia</td>\n      <td>14.0</td>\n      <td>100.0</td>\n      <td>0.0</td>\n      <td>489.0</td>\n      <td>Daniel Henney</td>\n      <td>946.0</td>\n      <td>10443.0</td>\n      <td>...</td>\n      <td>9.0</td>\n      <td>English</td>\n      <td>USA</td>\n      <td>PG-13</td>\n      <td>NaN</td>\n      <td>2012.0</td>\n      <td>719.0</td>\n      <td>6.3</td>\n      <td>2.35</td>\n      <td>660</td>\n    </tr>\n    <tr>\n      <th>5042</th>\n      <td>5042</td>\n      <td>Color</td>\n      <td>Jon Gunn</td>\n      <td>43.0</td>\n      <td>90.0</td>\n      <td>16.0</td>\n      <td>16.0</td>\n      <td>Brian Herzlinger</td>\n      <td>86.0</td>\n      <td>85222.0</td>\n      <td>...</td>\n      <td>84.0</td>\n      <td>English</td>\n      <td>USA</td>\n      <td>PG</td>\n      <td>1100.0</td>\n      <td>2004.0</td>\n      <td>23.0</td>\n      <td>6.6</td>\n      <td>1.85</td>\n      <td>456</td>\n    </tr>\n  </tbody>\n</table>\n<p>5043 rows × 29 columns</p>\n</div>",
            "text/plain": "      index  color      director_name  num_critic_for_reviews  duration  \\\n0         0  Color      James Cameron                   723.0     178.0   \n1         1  Color     Gore Verbinski                   302.0     169.0   \n2         2  Color         Sam Mendes                   602.0     148.0   \n3         3  Color  Christopher Nolan                   813.0     164.0   \n4         4   None        Doug Walker                     NaN       NaN   \n...     ...    ...                ...                     ...       ...   \n5038   5038  Color        Scott Smith                     1.0      87.0   \n5039   5039  Color               None                    43.0      43.0   \n5040   5040  Color   Benjamin Roberds                    13.0      76.0   \n5041   5041  Color        Daniel Hsia                    14.0     100.0   \n5042   5042  Color           Jon Gunn                    43.0      90.0   \n\n      director_facebook_likes  actor_3_facebook_likes      actor_2_name  \\\n0                         0.0                   855.0  Joel David Moore   \n1                       563.0                  1000.0     Orlando Bloom   \n2                         0.0                   161.0      Rory Kinnear   \n3                     22000.0                 23000.0    Christian Bale   \n4                       131.0                     NaN        Rob Walker   \n...                       ...                     ...               ...   \n5038                      2.0                   318.0     Daphne Zuniga   \n5039                      NaN                   319.0     Valorie Curry   \n5040                      0.0                     0.0     Maxwell Moody   \n5041                      0.0                   489.0     Daniel Henney   \n5042                     16.0                    16.0  Brian Herzlinger   \n\n      actor_1_facebook_likes        gross  ... num_user_for_reviews language  \\\n0                     1000.0  760505847.0  ...               3054.0  English   \n1                    40000.0  309404152.0  ...               1238.0  English   \n2                    11000.0  200074175.0  ...                994.0  English   \n3                    27000.0  448130642.0  ...               2701.0  English   \n4                      131.0          NaN  ...                  NaN     None   \n...                      ...          ...  ...                  ...      ...   \n5038                   637.0          NaN  ...                  6.0  English   \n5039                   841.0          NaN  ...                359.0  English   \n5040                     0.0          NaN  ...                  3.0  English   \n5041                   946.0      10443.0  ...                  9.0  English   \n5042                    86.0      85222.0  ...                 84.0  English   \n\n     country  content_rating       budget title_year  actor_2_facebook_likes  \\\n0        USA           PG-13  237000000.0     2009.0                   936.0   \n1        USA           PG-13  300000000.0     2007.0                  5000.0   \n2         UK           PG-13  245000000.0     2015.0                   393.0   \n3        USA           PG-13  250000000.0     2012.0                 23000.0   \n4       None            None          NaN        NaN                    12.0   \n...      ...             ...          ...        ...                     ...   \n5038  Canada            None          NaN     2013.0                   470.0   \n5039     USA           TV-14          NaN        NaN                   593.0   \n5040     USA            None       1400.0     2013.0                     0.0   \n5041     USA           PG-13          NaN     2012.0                   719.0   \n5042     USA              PG       1100.0     2004.0                    23.0   \n\n     imdb_score aspect_ratio  movie_facebook_likes  \n0           7.9         1.78                 33000  \n1           7.1         2.35                     0  \n2           6.8         2.35                 85000  \n3           8.5         2.35                164000  \n4           7.1          NaN                     0  \n...         ...          ...                   ...  \n5038        7.7          NaN                    84  \n5039        7.5        16.00                 32000  \n5040        6.3          NaN                    16  \n5041        6.3         2.35                   660  \n5042        6.6         1.85                   456  \n\n[5043 rows x 29 columns]"
          },
          "execution_count": 20,
          "metadata": {},
          "output_type": "execute_result"
        }
      ]
    },
    {
      "metadata": {
        "trusted": true
      },
      "cell_type": "code",
      "source": "pd.DataFrame(c.execute(\"\"\"\nSELECT * FROM movies\n\"\"\").fetchall())",
      "execution_count": 18,
      "outputs": [
        {
          "data": {
            "text/html": "<div>\n<style scoped>\n    .dataframe tbody tr th:only-of-type {\n        vertical-align: middle;\n    }\n\n    .dataframe tbody tr th {\n        vertical-align: top;\n    }\n\n    .dataframe thead th {\n        text-align: right;\n    }\n</style>\n<table border=\"1\" class=\"dataframe\">\n  <thead>\n    <tr style=\"text-align: right;\">\n      <th></th>\n      <th>0</th>\n      <th>1</th>\n      <th>2</th>\n      <th>3</th>\n      <th>4</th>\n      <th>5</th>\n      <th>6</th>\n      <th>7</th>\n      <th>8</th>\n      <th>9</th>\n      <th>...</th>\n      <th>19</th>\n      <th>20</th>\n      <th>21</th>\n      <th>22</th>\n      <th>23</th>\n      <th>24</th>\n      <th>25</th>\n      <th>26</th>\n      <th>27</th>\n      <th>28</th>\n    </tr>\n  </thead>\n  <tbody>\n    <tr>\n      <th>0</th>\n      <td>0</td>\n      <td>Color</td>\n      <td>James Cameron</td>\n      <td>723.0</td>\n      <td>178.0</td>\n      <td>0.0</td>\n      <td>855.0</td>\n      <td>Joel David Moore</td>\n      <td>1000.0</td>\n      <td>760505847.0</td>\n      <td>...</td>\n      <td>3054.0</td>\n      <td>English</td>\n      <td>USA</td>\n      <td>PG-13</td>\n      <td>237000000.0</td>\n      <td>2009.0</td>\n      <td>936.0</td>\n      <td>7.9</td>\n      <td>1.78</td>\n      <td>33000</td>\n    </tr>\n    <tr>\n      <th>1</th>\n      <td>1</td>\n      <td>Color</td>\n      <td>Gore Verbinski</td>\n      <td>302.0</td>\n      <td>169.0</td>\n      <td>563.0</td>\n      <td>1000.0</td>\n      <td>Orlando Bloom</td>\n      <td>40000.0</td>\n      <td>309404152.0</td>\n      <td>...</td>\n      <td>1238.0</td>\n      <td>English</td>\n      <td>USA</td>\n      <td>PG-13</td>\n      <td>300000000.0</td>\n      <td>2007.0</td>\n      <td>5000.0</td>\n      <td>7.1</td>\n      <td>2.35</td>\n      <td>0</td>\n    </tr>\n    <tr>\n      <th>2</th>\n      <td>2</td>\n      <td>Color</td>\n      <td>Sam Mendes</td>\n      <td>602.0</td>\n      <td>148.0</td>\n      <td>0.0</td>\n      <td>161.0</td>\n      <td>Rory Kinnear</td>\n      <td>11000.0</td>\n      <td>200074175.0</td>\n      <td>...</td>\n      <td>994.0</td>\n      <td>English</td>\n      <td>UK</td>\n      <td>PG-13</td>\n      <td>245000000.0</td>\n      <td>2015.0</td>\n      <td>393.0</td>\n      <td>6.8</td>\n      <td>2.35</td>\n      <td>85000</td>\n    </tr>\n    <tr>\n      <th>3</th>\n      <td>3</td>\n      <td>Color</td>\n      <td>Christopher Nolan</td>\n      <td>813.0</td>\n      <td>164.0</td>\n      <td>22000.0</td>\n      <td>23000.0</td>\n      <td>Christian Bale</td>\n      <td>27000.0</td>\n      <td>448130642.0</td>\n      <td>...</td>\n      <td>2701.0</td>\n      <td>English</td>\n      <td>USA</td>\n      <td>PG-13</td>\n      <td>250000000.0</td>\n      <td>2012.0</td>\n      <td>23000.0</td>\n      <td>8.5</td>\n      <td>2.35</td>\n      <td>164000</td>\n    </tr>\n    <tr>\n      <th>4</th>\n      <td>4</td>\n      <td>None</td>\n      <td>Doug Walker</td>\n      <td>NaN</td>\n      <td>NaN</td>\n      <td>131.0</td>\n      <td>NaN</td>\n      <td>Rob Walker</td>\n      <td>131.0</td>\n      <td>NaN</td>\n      <td>...</td>\n      <td>NaN</td>\n      <td>None</td>\n      <td>None</td>\n      <td>None</td>\n      <td>NaN</td>\n      <td>NaN</td>\n      <td>12.0</td>\n      <td>7.1</td>\n      <td>NaN</td>\n      <td>0</td>\n    </tr>\n    <tr>\n      <th>...</th>\n      <td>...</td>\n      <td>...</td>\n      <td>...</td>\n      <td>...</td>\n      <td>...</td>\n      <td>...</td>\n      <td>...</td>\n      <td>...</td>\n      <td>...</td>\n      <td>...</td>\n      <td>...</td>\n      <td>...</td>\n      <td>...</td>\n      <td>...</td>\n      <td>...</td>\n      <td>...</td>\n      <td>...</td>\n      <td>...</td>\n      <td>...</td>\n      <td>...</td>\n      <td>...</td>\n    </tr>\n    <tr>\n      <th>5038</th>\n      <td>5038</td>\n      <td>Color</td>\n      <td>Scott Smith</td>\n      <td>1.0</td>\n      <td>87.0</td>\n      <td>2.0</td>\n      <td>318.0</td>\n      <td>Daphne Zuniga</td>\n      <td>637.0</td>\n      <td>NaN</td>\n      <td>...</td>\n      <td>6.0</td>\n      <td>English</td>\n      <td>Canada</td>\n      <td>None</td>\n      <td>NaN</td>\n      <td>2013.0</td>\n      <td>470.0</td>\n      <td>7.7</td>\n      <td>NaN</td>\n      <td>84</td>\n    </tr>\n    <tr>\n      <th>5039</th>\n      <td>5039</td>\n      <td>Color</td>\n      <td>None</td>\n      <td>43.0</td>\n      <td>43.0</td>\n      <td>NaN</td>\n      <td>319.0</td>\n      <td>Valorie Curry</td>\n      <td>841.0</td>\n      <td>NaN</td>\n      <td>...</td>\n      <td>359.0</td>\n      <td>English</td>\n      <td>USA</td>\n      <td>TV-14</td>\n      <td>NaN</td>\n      <td>NaN</td>\n      <td>593.0</td>\n      <td>7.5</td>\n      <td>16.00</td>\n      <td>32000</td>\n    </tr>\n    <tr>\n      <th>5040</th>\n      <td>5040</td>\n      <td>Color</td>\n      <td>Benjamin Roberds</td>\n      <td>13.0</td>\n      <td>76.0</td>\n      <td>0.0</td>\n      <td>0.0</td>\n      <td>Maxwell Moody</td>\n      <td>0.0</td>\n      <td>NaN</td>\n      <td>...</td>\n      <td>3.0</td>\n      <td>English</td>\n      <td>USA</td>\n      <td>None</td>\n      <td>1400.0</td>\n      <td>2013.0</td>\n      <td>0.0</td>\n      <td>6.3</td>\n      <td>NaN</td>\n      <td>16</td>\n    </tr>\n    <tr>\n      <th>5041</th>\n      <td>5041</td>\n      <td>Color</td>\n      <td>Daniel Hsia</td>\n      <td>14.0</td>\n      <td>100.0</td>\n      <td>0.0</td>\n      <td>489.0</td>\n      <td>Daniel Henney</td>\n      <td>946.0</td>\n      <td>10443.0</td>\n      <td>...</td>\n      <td>9.0</td>\n      <td>English</td>\n      <td>USA</td>\n      <td>PG-13</td>\n      <td>NaN</td>\n      <td>2012.0</td>\n      <td>719.0</td>\n      <td>6.3</td>\n      <td>2.35</td>\n      <td>660</td>\n    </tr>\n    <tr>\n      <th>5042</th>\n      <td>5042</td>\n      <td>Color</td>\n      <td>Jon Gunn</td>\n      <td>43.0</td>\n      <td>90.0</td>\n      <td>16.0</td>\n      <td>16.0</td>\n      <td>Brian Herzlinger</td>\n      <td>86.0</td>\n      <td>85222.0</td>\n      <td>...</td>\n      <td>84.0</td>\n      <td>English</td>\n      <td>USA</td>\n      <td>PG</td>\n      <td>1100.0</td>\n      <td>2004.0</td>\n      <td>23.0</td>\n      <td>6.6</td>\n      <td>1.85</td>\n      <td>456</td>\n    </tr>\n  </tbody>\n</table>\n<p>5043 rows × 29 columns</p>\n</div>",
            "text/plain": "        0      1                  2      3      4        5        6   \\\n0        0  Color      James Cameron  723.0  178.0      0.0    855.0   \n1        1  Color     Gore Verbinski  302.0  169.0    563.0   1000.0   \n2        2  Color         Sam Mendes  602.0  148.0      0.0    161.0   \n3        3  Color  Christopher Nolan  813.0  164.0  22000.0  23000.0   \n4        4   None        Doug Walker    NaN    NaN    131.0      NaN   \n...    ...    ...                ...    ...    ...      ...      ...   \n5038  5038  Color        Scott Smith    1.0   87.0      2.0    318.0   \n5039  5039  Color               None   43.0   43.0      NaN    319.0   \n5040  5040  Color   Benjamin Roberds   13.0   76.0      0.0      0.0   \n5041  5041  Color        Daniel Hsia   14.0  100.0      0.0    489.0   \n5042  5042  Color           Jon Gunn   43.0   90.0     16.0     16.0   \n\n                    7        8            9   ...      19       20      21  \\\n0     Joel David Moore   1000.0  760505847.0  ...  3054.0  English     USA   \n1        Orlando Bloom  40000.0  309404152.0  ...  1238.0  English     USA   \n2         Rory Kinnear  11000.0  200074175.0  ...   994.0  English      UK   \n3       Christian Bale  27000.0  448130642.0  ...  2701.0  English     USA   \n4           Rob Walker    131.0          NaN  ...     NaN     None    None   \n...                ...      ...          ...  ...     ...      ...     ...   \n5038     Daphne Zuniga    637.0          NaN  ...     6.0  English  Canada   \n5039     Valorie Curry    841.0          NaN  ...   359.0  English     USA   \n5040     Maxwell Moody      0.0          NaN  ...     3.0  English     USA   \n5041     Daniel Henney    946.0      10443.0  ...     9.0  English     USA   \n5042  Brian Herzlinger     86.0      85222.0  ...    84.0  English     USA   \n\n         22           23      24       25   26     27      28  \n0     PG-13  237000000.0  2009.0    936.0  7.9   1.78   33000  \n1     PG-13  300000000.0  2007.0   5000.0  7.1   2.35       0  \n2     PG-13  245000000.0  2015.0    393.0  6.8   2.35   85000  \n3     PG-13  250000000.0  2012.0  23000.0  8.5   2.35  164000  \n4      None          NaN     NaN     12.0  7.1    NaN       0  \n...     ...          ...     ...      ...  ...    ...     ...  \n5038   None          NaN  2013.0    470.0  7.7    NaN      84  \n5039  TV-14          NaN     NaN    593.0  7.5  16.00   32000  \n5040   None       1400.0  2013.0      0.0  6.3    NaN      16  \n5041  PG-13          NaN  2012.0    719.0  6.3   2.35     660  \n5042     PG       1100.0  2004.0     23.0  6.6   1.85     456  \n\n[5043 rows x 29 columns]"
          },
          "execution_count": 18,
          "metadata": {},
          "output_type": "execute_result"
        }
      ]
    },
    {
      "metadata": {
        "trusted": true
      },
      "cell_type": "code",
      "source": "pd.read_sql(\"\"\"\nSELECT * FROM movies\nLIMIT 10\n\"\"\", conn)",
      "execution_count": 21,
      "outputs": [
        {
          "data": {
            "text/html": "<div>\n<style scoped>\n    .dataframe tbody tr th:only-of-type {\n        vertical-align: middle;\n    }\n\n    .dataframe tbody tr th {\n        vertical-align: top;\n    }\n\n    .dataframe thead th {\n        text-align: right;\n    }\n</style>\n<table border=\"1\" class=\"dataframe\">\n  <thead>\n    <tr style=\"text-align: right;\">\n      <th></th>\n      <th>index</th>\n      <th>color</th>\n      <th>director_name</th>\n      <th>num_critic_for_reviews</th>\n      <th>duration</th>\n      <th>director_facebook_likes</th>\n      <th>actor_3_facebook_likes</th>\n      <th>actor_2_name</th>\n      <th>actor_1_facebook_likes</th>\n      <th>gross</th>\n      <th>...</th>\n      <th>num_user_for_reviews</th>\n      <th>language</th>\n      <th>country</th>\n      <th>content_rating</th>\n      <th>budget</th>\n      <th>title_year</th>\n      <th>actor_2_facebook_likes</th>\n      <th>imdb_score</th>\n      <th>aspect_ratio</th>\n      <th>movie_facebook_likes</th>\n    </tr>\n  </thead>\n  <tbody>\n    <tr>\n      <th>0</th>\n      <td>0</td>\n      <td>Color</td>\n      <td>James Cameron</td>\n      <td>723.0</td>\n      <td>178.0</td>\n      <td>0.0</td>\n      <td>855.0</td>\n      <td>Joel David Moore</td>\n      <td>1000.0</td>\n      <td>760505847.0</td>\n      <td>...</td>\n      <td>3054.0</td>\n      <td>English</td>\n      <td>USA</td>\n      <td>PG-13</td>\n      <td>237000000.0</td>\n      <td>2009.0</td>\n      <td>936.0</td>\n      <td>7.9</td>\n      <td>1.78</td>\n      <td>33000</td>\n    </tr>\n    <tr>\n      <th>1</th>\n      <td>1</td>\n      <td>Color</td>\n      <td>Gore Verbinski</td>\n      <td>302.0</td>\n      <td>169.0</td>\n      <td>563.0</td>\n      <td>1000.0</td>\n      <td>Orlando Bloom</td>\n      <td>40000.0</td>\n      <td>309404152.0</td>\n      <td>...</td>\n      <td>1238.0</td>\n      <td>English</td>\n      <td>USA</td>\n      <td>PG-13</td>\n      <td>300000000.0</td>\n      <td>2007.0</td>\n      <td>5000.0</td>\n      <td>7.1</td>\n      <td>2.35</td>\n      <td>0</td>\n    </tr>\n    <tr>\n      <th>2</th>\n      <td>2</td>\n      <td>Color</td>\n      <td>Sam Mendes</td>\n      <td>602.0</td>\n      <td>148.0</td>\n      <td>0.0</td>\n      <td>161.0</td>\n      <td>Rory Kinnear</td>\n      <td>11000.0</td>\n      <td>200074175.0</td>\n      <td>...</td>\n      <td>994.0</td>\n      <td>English</td>\n      <td>UK</td>\n      <td>PG-13</td>\n      <td>245000000.0</td>\n      <td>2015.0</td>\n      <td>393.0</td>\n      <td>6.8</td>\n      <td>2.35</td>\n      <td>85000</td>\n    </tr>\n    <tr>\n      <th>3</th>\n      <td>3</td>\n      <td>Color</td>\n      <td>Christopher Nolan</td>\n      <td>813.0</td>\n      <td>164.0</td>\n      <td>22000.0</td>\n      <td>23000.0</td>\n      <td>Christian Bale</td>\n      <td>27000.0</td>\n      <td>448130642.0</td>\n      <td>...</td>\n      <td>2701.0</td>\n      <td>English</td>\n      <td>USA</td>\n      <td>PG-13</td>\n      <td>250000000.0</td>\n      <td>2012.0</td>\n      <td>23000.0</td>\n      <td>8.5</td>\n      <td>2.35</td>\n      <td>164000</td>\n    </tr>\n    <tr>\n      <th>4</th>\n      <td>4</td>\n      <td>None</td>\n      <td>Doug Walker</td>\n      <td>NaN</td>\n      <td>NaN</td>\n      <td>131.0</td>\n      <td>NaN</td>\n      <td>Rob Walker</td>\n      <td>131.0</td>\n      <td>NaN</td>\n      <td>...</td>\n      <td>NaN</td>\n      <td>None</td>\n      <td>None</td>\n      <td>None</td>\n      <td>NaN</td>\n      <td>NaN</td>\n      <td>12.0</td>\n      <td>7.1</td>\n      <td>NaN</td>\n      <td>0</td>\n    </tr>\n    <tr>\n      <th>5</th>\n      <td>5</td>\n      <td>Color</td>\n      <td>Andrew Stanton</td>\n      <td>462.0</td>\n      <td>132.0</td>\n      <td>475.0</td>\n      <td>530.0</td>\n      <td>Samantha Morton</td>\n      <td>640.0</td>\n      <td>73058679.0</td>\n      <td>...</td>\n      <td>738.0</td>\n      <td>English</td>\n      <td>USA</td>\n      <td>PG-13</td>\n      <td>263700000.0</td>\n      <td>2012.0</td>\n      <td>632.0</td>\n      <td>6.6</td>\n      <td>2.35</td>\n      <td>24000</td>\n    </tr>\n    <tr>\n      <th>6</th>\n      <td>6</td>\n      <td>Color</td>\n      <td>Sam Raimi</td>\n      <td>392.0</td>\n      <td>156.0</td>\n      <td>0.0</td>\n      <td>4000.0</td>\n      <td>James Franco</td>\n      <td>24000.0</td>\n      <td>336530303.0</td>\n      <td>...</td>\n      <td>1902.0</td>\n      <td>English</td>\n      <td>USA</td>\n      <td>PG-13</td>\n      <td>258000000.0</td>\n      <td>2007.0</td>\n      <td>11000.0</td>\n      <td>6.2</td>\n      <td>2.35</td>\n      <td>0</td>\n    </tr>\n    <tr>\n      <th>7</th>\n      <td>7</td>\n      <td>Color</td>\n      <td>Nathan Greno</td>\n      <td>324.0</td>\n      <td>100.0</td>\n      <td>15.0</td>\n      <td>284.0</td>\n      <td>Donna Murphy</td>\n      <td>799.0</td>\n      <td>200807262.0</td>\n      <td>...</td>\n      <td>387.0</td>\n      <td>English</td>\n      <td>USA</td>\n      <td>PG</td>\n      <td>260000000.0</td>\n      <td>2010.0</td>\n      <td>553.0</td>\n      <td>7.8</td>\n      <td>1.85</td>\n      <td>29000</td>\n    </tr>\n    <tr>\n      <th>8</th>\n      <td>8</td>\n      <td>Color</td>\n      <td>Joss Whedon</td>\n      <td>635.0</td>\n      <td>141.0</td>\n      <td>0.0</td>\n      <td>19000.0</td>\n      <td>Robert Downey Jr.</td>\n      <td>26000.0</td>\n      <td>458991599.0</td>\n      <td>...</td>\n      <td>1117.0</td>\n      <td>English</td>\n      <td>USA</td>\n      <td>PG-13</td>\n      <td>250000000.0</td>\n      <td>2015.0</td>\n      <td>21000.0</td>\n      <td>7.5</td>\n      <td>2.35</td>\n      <td>118000</td>\n    </tr>\n    <tr>\n      <th>9</th>\n      <td>9</td>\n      <td>Color</td>\n      <td>David Yates</td>\n      <td>375.0</td>\n      <td>153.0</td>\n      <td>282.0</td>\n      <td>10000.0</td>\n      <td>Daniel Radcliffe</td>\n      <td>25000.0</td>\n      <td>301956980.0</td>\n      <td>...</td>\n      <td>973.0</td>\n      <td>English</td>\n      <td>UK</td>\n      <td>PG</td>\n      <td>250000000.0</td>\n      <td>2009.0</td>\n      <td>11000.0</td>\n      <td>7.5</td>\n      <td>2.35</td>\n      <td>10000</td>\n    </tr>\n  </tbody>\n</table>\n<p>10 rows × 29 columns</p>\n</div>",
            "text/plain": "   index  color      director_name  num_critic_for_reviews  duration  \\\n0      0  Color      James Cameron                   723.0     178.0   \n1      1  Color     Gore Verbinski                   302.0     169.0   \n2      2  Color         Sam Mendes                   602.0     148.0   \n3      3  Color  Christopher Nolan                   813.0     164.0   \n4      4   None        Doug Walker                     NaN       NaN   \n5      5  Color     Andrew Stanton                   462.0     132.0   \n6      6  Color          Sam Raimi                   392.0     156.0   \n7      7  Color       Nathan Greno                   324.0     100.0   \n8      8  Color        Joss Whedon                   635.0     141.0   \n9      9  Color        David Yates                   375.0     153.0   \n\n   director_facebook_likes  actor_3_facebook_likes       actor_2_name  \\\n0                      0.0                   855.0   Joel David Moore   \n1                    563.0                  1000.0      Orlando Bloom   \n2                      0.0                   161.0       Rory Kinnear   \n3                  22000.0                 23000.0     Christian Bale   \n4                    131.0                     NaN         Rob Walker   \n5                    475.0                   530.0    Samantha Morton   \n6                      0.0                  4000.0       James Franco   \n7                     15.0                   284.0       Donna Murphy   \n8                      0.0                 19000.0  Robert Downey Jr.   \n9                    282.0                 10000.0   Daniel Radcliffe   \n\n   actor_1_facebook_likes        gross  ... num_user_for_reviews language  \\\n0                  1000.0  760505847.0  ...               3054.0  English   \n1                 40000.0  309404152.0  ...               1238.0  English   \n2                 11000.0  200074175.0  ...                994.0  English   \n3                 27000.0  448130642.0  ...               2701.0  English   \n4                   131.0          NaN  ...                  NaN     None   \n5                   640.0   73058679.0  ...                738.0  English   \n6                 24000.0  336530303.0  ...               1902.0  English   \n7                   799.0  200807262.0  ...                387.0  English   \n8                 26000.0  458991599.0  ...               1117.0  English   \n9                 25000.0  301956980.0  ...                973.0  English   \n\n  country  content_rating       budget title_year  actor_2_facebook_likes  \\\n0     USA           PG-13  237000000.0     2009.0                   936.0   \n1     USA           PG-13  300000000.0     2007.0                  5000.0   \n2      UK           PG-13  245000000.0     2015.0                   393.0   \n3     USA           PG-13  250000000.0     2012.0                 23000.0   \n4    None            None          NaN        NaN                    12.0   \n5     USA           PG-13  263700000.0     2012.0                   632.0   \n6     USA           PG-13  258000000.0     2007.0                 11000.0   \n7     USA              PG  260000000.0     2010.0                   553.0   \n8     USA           PG-13  250000000.0     2015.0                 21000.0   \n9      UK              PG  250000000.0     2009.0                 11000.0   \n\n  imdb_score aspect_ratio  movie_facebook_likes  \n0        7.9         1.78                 33000  \n1        7.1         2.35                     0  \n2        6.8         2.35                 85000  \n3        8.5         2.35                164000  \n4        7.1          NaN                     0  \n5        6.6         2.35                 24000  \n6        6.2         2.35                     0  \n7        7.8         1.85                 29000  \n8        7.5         2.35                118000  \n9        7.5         2.35                 10000  \n\n[10 rows x 29 columns]"
          },
          "execution_count": 21,
          "metadata": {},
          "output_type": "execute_result"
        }
      ]
    },
    {
      "metadata": {
        "trusted": true
      },
      "cell_type": "code",
      "source": "pd.read_sql(\"\"\"\nSELECT * FROM movies\nWHERE director_name == \"James Cameron\"\n\"\"\", conn)",
      "execution_count": 22,
      "outputs": [
        {
          "data": {
            "text/html": "<div>\n<style scoped>\n    .dataframe tbody tr th:only-of-type {\n        vertical-align: middle;\n    }\n\n    .dataframe tbody tr th {\n        vertical-align: top;\n    }\n\n    .dataframe thead th {\n        text-align: right;\n    }\n</style>\n<table border=\"1\" class=\"dataframe\">\n  <thead>\n    <tr style=\"text-align: right;\">\n      <th></th>\n      <th>index</th>\n      <th>color</th>\n      <th>director_name</th>\n      <th>num_critic_for_reviews</th>\n      <th>duration</th>\n      <th>director_facebook_likes</th>\n      <th>actor_3_facebook_likes</th>\n      <th>actor_2_name</th>\n      <th>actor_1_facebook_likes</th>\n      <th>gross</th>\n      <th>...</th>\n      <th>num_user_for_reviews</th>\n      <th>language</th>\n      <th>country</th>\n      <th>content_rating</th>\n      <th>budget</th>\n      <th>title_year</th>\n      <th>actor_2_facebook_likes</th>\n      <th>imdb_score</th>\n      <th>aspect_ratio</th>\n      <th>movie_facebook_likes</th>\n    </tr>\n  </thead>\n  <tbody>\n    <tr>\n      <th>0</th>\n      <td>0</td>\n      <td>Color</td>\n      <td>James Cameron</td>\n      <td>723.0</td>\n      <td>178.0</td>\n      <td>0.0</td>\n      <td>855.0</td>\n      <td>Joel David Moore</td>\n      <td>1000.0</td>\n      <td>760505847.0</td>\n      <td>...</td>\n      <td>3054.0</td>\n      <td>English</td>\n      <td>USA</td>\n      <td>PG-13</td>\n      <td>237000000.0</td>\n      <td>2009.0</td>\n      <td>936.0</td>\n      <td>7.9</td>\n      <td>1.78</td>\n      <td>33000</td>\n    </tr>\n    <tr>\n      <th>1</th>\n      <td>26</td>\n      <td>Color</td>\n      <td>James Cameron</td>\n      <td>315.0</td>\n      <td>194.0</td>\n      <td>0.0</td>\n      <td>794.0</td>\n      <td>Kate Winslet</td>\n      <td>29000.0</td>\n      <td>658672302.0</td>\n      <td>...</td>\n      <td>2528.0</td>\n      <td>English</td>\n      <td>USA</td>\n      <td>PG-13</td>\n      <td>200000000.0</td>\n      <td>1997.0</td>\n      <td>14000.0</td>\n      <td>7.7</td>\n      <td>2.35</td>\n      <td>26000</td>\n    </tr>\n    <tr>\n      <th>2</th>\n      <td>288</td>\n      <td>Color</td>\n      <td>James Cameron</td>\n      <td>210.0</td>\n      <td>153.0</td>\n      <td>0.0</td>\n      <td>539.0</td>\n      <td>Jenette Goldstein</td>\n      <td>780.0</td>\n      <td>204843350.0</td>\n      <td>...</td>\n      <td>983.0</td>\n      <td>English</td>\n      <td>USA</td>\n      <td>R</td>\n      <td>102000000.0</td>\n      <td>1991.0</td>\n      <td>604.0</td>\n      <td>8.5</td>\n      <td>2.35</td>\n      <td>13000</td>\n    </tr>\n    <tr>\n      <th>3</th>\n      <td>291</td>\n      <td>Color</td>\n      <td>James Cameron</td>\n      <td>94.0</td>\n      <td>141.0</td>\n      <td>0.0</td>\n      <td>618.0</td>\n      <td>Tia Carrere</td>\n      <td>2000.0</td>\n      <td>146282411.0</td>\n      <td>...</td>\n      <td>351.0</td>\n      <td>English</td>\n      <td>USA</td>\n      <td>R</td>\n      <td>115000000.0</td>\n      <td>1994.0</td>\n      <td>1000.0</td>\n      <td>7.2</td>\n      <td>2.35</td>\n      <td>0</td>\n    </tr>\n    <tr>\n      <th>4</th>\n      <td>606</td>\n      <td>Color</td>\n      <td>James Cameron</td>\n      <td>82.0</td>\n      <td>171.0</td>\n      <td>0.0</td>\n      <td>638.0</td>\n      <td>Todd Graff</td>\n      <td>2000.0</td>\n      <td>54222000.0</td>\n      <td>...</td>\n      <td>380.0</td>\n      <td>English</td>\n      <td>USA</td>\n      <td>PG-13</td>\n      <td>69500000.0</td>\n      <td>1989.0</td>\n      <td>650.0</td>\n      <td>7.6</td>\n      <td>2.35</td>\n      <td>0</td>\n    </tr>\n    <tr>\n      <th>5</th>\n      <td>2486</td>\n      <td>Color</td>\n      <td>James Cameron</td>\n      <td>250.0</td>\n      <td>154.0</td>\n      <td>0.0</td>\n      <td>604.0</td>\n      <td>Carrie Henn</td>\n      <td>2000.0</td>\n      <td>85200000.0</td>\n      <td>...</td>\n      <td>1076.0</td>\n      <td>English</td>\n      <td>USA</td>\n      <td>R</td>\n      <td>18500000.0</td>\n      <td>1986.0</td>\n      <td>626.0</td>\n      <td>8.4</td>\n      <td>1.85</td>\n      <td>18000</td>\n    </tr>\n    <tr>\n      <th>6</th>\n      <td>3575</td>\n      <td>Color</td>\n      <td>James Cameron</td>\n      <td>204.0</td>\n      <td>107.0</td>\n      <td>0.0</td>\n      <td>255.0</td>\n      <td>Brian Thompson</td>\n      <td>2000.0</td>\n      <td>38400000.0</td>\n      <td>...</td>\n      <td>692.0</td>\n      <td>English</td>\n      <td>UK</td>\n      <td>R</td>\n      <td>6500000.0</td>\n      <td>1984.0</td>\n      <td>663.0</td>\n      <td>8.1</td>\n      <td>1.85</td>\n      <td>13000</td>\n    </tr>\n  </tbody>\n</table>\n<p>7 rows × 29 columns</p>\n</div>",
            "text/plain": "   index  color  director_name  num_critic_for_reviews  duration  \\\n0      0  Color  James Cameron                   723.0     178.0   \n1     26  Color  James Cameron                   315.0     194.0   \n2    288  Color  James Cameron                   210.0     153.0   \n3    291  Color  James Cameron                    94.0     141.0   \n4    606  Color  James Cameron                    82.0     171.0   \n5   2486  Color  James Cameron                   250.0     154.0   \n6   3575  Color  James Cameron                   204.0     107.0   \n\n   director_facebook_likes  actor_3_facebook_likes       actor_2_name  \\\n0                      0.0                   855.0   Joel David Moore   \n1                      0.0                   794.0       Kate Winslet   \n2                      0.0                   539.0  Jenette Goldstein   \n3                      0.0                   618.0        Tia Carrere   \n4                      0.0                   638.0         Todd Graff   \n5                      0.0                   604.0        Carrie Henn   \n6                      0.0                   255.0     Brian Thompson   \n\n   actor_1_facebook_likes        gross  ... num_user_for_reviews language  \\\n0                  1000.0  760505847.0  ...               3054.0  English   \n1                 29000.0  658672302.0  ...               2528.0  English   \n2                   780.0  204843350.0  ...                983.0  English   \n3                  2000.0  146282411.0  ...                351.0  English   \n4                  2000.0   54222000.0  ...                380.0  English   \n5                  2000.0   85200000.0  ...               1076.0  English   \n6                  2000.0   38400000.0  ...                692.0  English   \n\n  country  content_rating       budget title_year  actor_2_facebook_likes  \\\n0     USA           PG-13  237000000.0     2009.0                   936.0   \n1     USA           PG-13  200000000.0     1997.0                 14000.0   \n2     USA               R  102000000.0     1991.0                   604.0   \n3     USA               R  115000000.0     1994.0                  1000.0   \n4     USA           PG-13   69500000.0     1989.0                   650.0   \n5     USA               R   18500000.0     1986.0                   626.0   \n6      UK               R    6500000.0     1984.0                   663.0   \n\n  imdb_score aspect_ratio  movie_facebook_likes  \n0        7.9         1.78                 33000  \n1        7.7         2.35                 26000  \n2        8.5         2.35                 13000  \n3        7.2         2.35                     0  \n4        7.6         2.35                     0  \n5        8.4         1.85                 18000  \n6        8.1         1.85                 13000  \n\n[7 rows x 29 columns]"
          },
          "execution_count": 22,
          "metadata": {},
          "output_type": "execute_result"
        }
      ]
    },
    {
      "metadata": {
        "trusted": true
      },
      "cell_type": "code",
      "source": "pd.read_sql(\"\"\"\nSELECT avg(duration) FROM movies\n\"\"\", conn)",
      "execution_count": 23,
      "outputs": [
        {
          "data": {
            "text/html": "<div>\n<style scoped>\n    .dataframe tbody tr th:only-of-type {\n        vertical-align: middle;\n    }\n\n    .dataframe tbody tr th {\n        vertical-align: top;\n    }\n\n    .dataframe thead th {\n        text-align: right;\n    }\n</style>\n<table border=\"1\" class=\"dataframe\">\n  <thead>\n    <tr style=\"text-align: right;\">\n      <th></th>\n      <th>avg(duration)</th>\n    </tr>\n  </thead>\n  <tbody>\n    <tr>\n      <th>0</th>\n      <td>107.201074</td>\n    </tr>\n  </tbody>\n</table>\n</div>",
            "text/plain": "   avg(duration)\n0     107.201074"
          },
          "execution_count": 23,
          "metadata": {},
          "output_type": "execute_result"
        }
      ]
    },
    {
      "metadata": {
        "trusted": true
      },
      "cell_type": "code",
      "source": "c.execute(\"\"\"\nSELECT * FROM movies LIMIT 10\n\"\"\").fetchall()",
      "execution_count": 25,
      "outputs": [
        {
          "data": {
            "text/plain": "[(0,\n  'Color',\n  'James Cameron',\n  723.0,\n  178.0,\n  0.0,\n  855.0,\n  'Joel David Moore',\n  1000.0,\n  760505847.0,\n  'Action|Adventure|Fantasy|Sci-Fi',\n  'CCH Pounder',\n  'Avatar\\xa0',\n  886204,\n  4834,\n  'Wes Studi',\n  0.0,\n  'avatar|future|marine|native|paraplegic',\n  'http://www.imdb.com/title/tt0499549/?ref_=fn_tt_tt_1',\n  3054.0,\n  'English',\n  'USA',\n  'PG-13',\n  237000000.0,\n  2009.0,\n  936.0,\n  7.9,\n  1.78,\n  33000),\n (1,\n  'Color',\n  'Gore Verbinski',\n  302.0,\n  169.0,\n  563.0,\n  1000.0,\n  'Orlando Bloom',\n  40000.0,\n  309404152.0,\n  'Action|Adventure|Fantasy',\n  'Johnny Depp',\n  \"Pirates of the Caribbean: At World's End\\xa0\",\n  471220,\n  48350,\n  'Jack Davenport',\n  0.0,\n  'goddess|marriage ceremony|marriage proposal|pirate|singapore',\n  'http://www.imdb.com/title/tt0449088/?ref_=fn_tt_tt_1',\n  1238.0,\n  'English',\n  'USA',\n  'PG-13',\n  300000000.0,\n  2007.0,\n  5000.0,\n  7.1,\n  2.35,\n  0),\n (2,\n  'Color',\n  'Sam Mendes',\n  602.0,\n  148.0,\n  0.0,\n  161.0,\n  'Rory Kinnear',\n  11000.0,\n  200074175.0,\n  'Action|Adventure|Thriller',\n  'Christoph Waltz',\n  'Spectre\\xa0',\n  275868,\n  11700,\n  'Stephanie Sigman',\n  1.0,\n  'bomb|espionage|sequel|spy|terrorist',\n  'http://www.imdb.com/title/tt2379713/?ref_=fn_tt_tt_1',\n  994.0,\n  'English',\n  'UK',\n  'PG-13',\n  245000000.0,\n  2015.0,\n  393.0,\n  6.8,\n  2.35,\n  85000),\n (3,\n  'Color',\n  'Christopher Nolan',\n  813.0,\n  164.0,\n  22000.0,\n  23000.0,\n  'Christian Bale',\n  27000.0,\n  448130642.0,\n  'Action|Thriller',\n  'Tom Hardy',\n  'The Dark Knight Rises\\xa0',\n  1144337,\n  106759,\n  'Joseph Gordon-Levitt',\n  0.0,\n  'deception|imprisonment|lawlessness|police officer|terrorist plot',\n  'http://www.imdb.com/title/tt1345836/?ref_=fn_tt_tt_1',\n  2701.0,\n  'English',\n  'USA',\n  'PG-13',\n  250000000.0,\n  2012.0,\n  23000.0,\n  8.5,\n  2.35,\n  164000),\n (4,\n  None,\n  'Doug Walker',\n  None,\n  None,\n  131.0,\n  None,\n  'Rob Walker',\n  131.0,\n  None,\n  'Documentary',\n  'Doug Walker',\n  'Star Wars: Episode VII - The Force Awakens\\xa0            ',\n  8,\n  143,\n  None,\n  0.0,\n  None,\n  'http://www.imdb.com/title/tt5289954/?ref_=fn_tt_tt_1',\n  None,\n  None,\n  None,\n  None,\n  None,\n  None,\n  12.0,\n  7.1,\n  None,\n  0),\n (5,\n  'Color',\n  'Andrew Stanton',\n  462.0,\n  132.0,\n  475.0,\n  530.0,\n  'Samantha Morton',\n  640.0,\n  73058679.0,\n  'Action|Adventure|Sci-Fi',\n  'Daryl Sabara',\n  'John Carter\\xa0',\n  212204,\n  1873,\n  'Polly Walker',\n  1.0,\n  'alien|american civil war|male nipple|mars|princess',\n  'http://www.imdb.com/title/tt0401729/?ref_=fn_tt_tt_1',\n  738.0,\n  'English',\n  'USA',\n  'PG-13',\n  263700000.0,\n  2012.0,\n  632.0,\n  6.6,\n  2.35,\n  24000),\n (6,\n  'Color',\n  'Sam Raimi',\n  392.0,\n  156.0,\n  0.0,\n  4000.0,\n  'James Franco',\n  24000.0,\n  336530303.0,\n  'Action|Adventure|Romance',\n  'J.K. Simmons',\n  'Spider-Man 3\\xa0',\n  383056,\n  46055,\n  'Kirsten Dunst',\n  0.0,\n  'sandman|spider man|symbiote|venom|villain',\n  'http://www.imdb.com/title/tt0413300/?ref_=fn_tt_tt_1',\n  1902.0,\n  'English',\n  'USA',\n  'PG-13',\n  258000000.0,\n  2007.0,\n  11000.0,\n  6.2,\n  2.35,\n  0),\n (7,\n  'Color',\n  'Nathan Greno',\n  324.0,\n  100.0,\n  15.0,\n  284.0,\n  'Donna Murphy',\n  799.0,\n  200807262.0,\n  'Adventure|Animation|Comedy|Family|Fantasy|Musical|Romance',\n  'Brad Garrett',\n  'Tangled\\xa0',\n  294810,\n  2036,\n  'M.C. Gainey',\n  1.0,\n  '17th century|based on fairy tale|disney|flower|tower',\n  'http://www.imdb.com/title/tt0398286/?ref_=fn_tt_tt_1',\n  387.0,\n  'English',\n  'USA',\n  'PG',\n  260000000.0,\n  2010.0,\n  553.0,\n  7.8,\n  1.85,\n  29000),\n (8,\n  'Color',\n  'Joss Whedon',\n  635.0,\n  141.0,\n  0.0,\n  19000.0,\n  'Robert Downey Jr.',\n  26000.0,\n  458991599.0,\n  'Action|Adventure|Sci-Fi',\n  'Chris Hemsworth',\n  'Avengers: Age of Ultron\\xa0',\n  462669,\n  92000,\n  'Scarlett Johansson',\n  4.0,\n  'artificial intelligence|based on comic book|captain america|marvel cinematic universe|superhero',\n  'http://www.imdb.com/title/tt2395427/?ref_=fn_tt_tt_1',\n  1117.0,\n  'English',\n  'USA',\n  'PG-13',\n  250000000.0,\n  2015.0,\n  21000.0,\n  7.5,\n  2.35,\n  118000),\n (9,\n  'Color',\n  'David Yates',\n  375.0,\n  153.0,\n  282.0,\n  10000.0,\n  'Daniel Radcliffe',\n  25000.0,\n  301956980.0,\n  'Adventure|Family|Fantasy|Mystery',\n  'Alan Rickman',\n  'Harry Potter and the Half-Blood Prince\\xa0',\n  321795,\n  58753,\n  'Rupert Grint',\n  3.0,\n  'blood|book|love|potion|professor',\n  'http://www.imdb.com/title/tt0417741/?ref_=fn_tt_tt_1',\n  973.0,\n  'English',\n  'UK',\n  'PG',\n  250000000.0,\n  2009.0,\n  11000.0,\n  7.5,\n  2.35,\n  10000)]"
          },
          "execution_count": 25,
          "metadata": {},
          "output_type": "execute_result"
        }
      ]
    },
    {
      "metadata": {
        "trusted": true
      },
      "cell_type": "code",
      "source": "c.execute(\"\"\"\nDELETE FROM movies WHERE director_name == \"James Cameron\";\n\"\"\")",
      "execution_count": 27,
      "outputs": [
        {
          "data": {
            "text/plain": "<sqlite3.Cursor at 0x10bf04b90>"
          },
          "execution_count": 27,
          "metadata": {},
          "output_type": "execute_result"
        }
      ]
    },
    {
      "metadata": {
        "trusted": true
      },
      "cell_type": "code",
      "source": "pd.read_sql(\"\"\"\nSELECT * FROM movies\nLIMIT 10\n\"\"\", conn)",
      "execution_count": 29,
      "outputs": [
        {
          "data": {
            "text/html": "<div>\n<style scoped>\n    .dataframe tbody tr th:only-of-type {\n        vertical-align: middle;\n    }\n\n    .dataframe tbody tr th {\n        vertical-align: top;\n    }\n\n    .dataframe thead th {\n        text-align: right;\n    }\n</style>\n<table border=\"1\" class=\"dataframe\">\n  <thead>\n    <tr style=\"text-align: right;\">\n      <th></th>\n      <th>index</th>\n      <th>color</th>\n      <th>director_name</th>\n      <th>num_critic_for_reviews</th>\n      <th>duration</th>\n      <th>director_facebook_likes</th>\n      <th>actor_3_facebook_likes</th>\n      <th>actor_2_name</th>\n      <th>actor_1_facebook_likes</th>\n      <th>gross</th>\n      <th>...</th>\n      <th>num_user_for_reviews</th>\n      <th>language</th>\n      <th>country</th>\n      <th>content_rating</th>\n      <th>budget</th>\n      <th>title_year</th>\n      <th>actor_2_facebook_likes</th>\n      <th>imdb_score</th>\n      <th>aspect_ratio</th>\n      <th>movie_facebook_likes</th>\n    </tr>\n  </thead>\n  <tbody>\n    <tr>\n      <th>0</th>\n      <td>1</td>\n      <td>Color</td>\n      <td>Gore Verbinski</td>\n      <td>302.0</td>\n      <td>169.0</td>\n      <td>563.0</td>\n      <td>1000.0</td>\n      <td>Orlando Bloom</td>\n      <td>40000.0</td>\n      <td>309404152.0</td>\n      <td>...</td>\n      <td>1238.0</td>\n      <td>English</td>\n      <td>USA</td>\n      <td>PG-13</td>\n      <td>300000000.0</td>\n      <td>2007.0</td>\n      <td>5000.0</td>\n      <td>7.1</td>\n      <td>2.35</td>\n      <td>0</td>\n    </tr>\n    <tr>\n      <th>1</th>\n      <td>2</td>\n      <td>Color</td>\n      <td>Sam Mendes</td>\n      <td>602.0</td>\n      <td>148.0</td>\n      <td>0.0</td>\n      <td>161.0</td>\n      <td>Rory Kinnear</td>\n      <td>11000.0</td>\n      <td>200074175.0</td>\n      <td>...</td>\n      <td>994.0</td>\n      <td>English</td>\n      <td>UK</td>\n      <td>PG-13</td>\n      <td>245000000.0</td>\n      <td>2015.0</td>\n      <td>393.0</td>\n      <td>6.8</td>\n      <td>2.35</td>\n      <td>85000</td>\n    </tr>\n    <tr>\n      <th>2</th>\n      <td>3</td>\n      <td>Color</td>\n      <td>Christopher Nolan</td>\n      <td>813.0</td>\n      <td>164.0</td>\n      <td>22000.0</td>\n      <td>23000.0</td>\n      <td>Christian Bale</td>\n      <td>27000.0</td>\n      <td>448130642.0</td>\n      <td>...</td>\n      <td>2701.0</td>\n      <td>English</td>\n      <td>USA</td>\n      <td>PG-13</td>\n      <td>250000000.0</td>\n      <td>2012.0</td>\n      <td>23000.0</td>\n      <td>8.5</td>\n      <td>2.35</td>\n      <td>164000</td>\n    </tr>\n    <tr>\n      <th>3</th>\n      <td>4</td>\n      <td>None</td>\n      <td>Doug Walker</td>\n      <td>NaN</td>\n      <td>NaN</td>\n      <td>131.0</td>\n      <td>NaN</td>\n      <td>Rob Walker</td>\n      <td>131.0</td>\n      <td>NaN</td>\n      <td>...</td>\n      <td>NaN</td>\n      <td>None</td>\n      <td>None</td>\n      <td>None</td>\n      <td>NaN</td>\n      <td>NaN</td>\n      <td>12.0</td>\n      <td>7.1</td>\n      <td>NaN</td>\n      <td>0</td>\n    </tr>\n    <tr>\n      <th>4</th>\n      <td>5</td>\n      <td>Color</td>\n      <td>Andrew Stanton</td>\n      <td>462.0</td>\n      <td>132.0</td>\n      <td>475.0</td>\n      <td>530.0</td>\n      <td>Samantha Morton</td>\n      <td>640.0</td>\n      <td>73058679.0</td>\n      <td>...</td>\n      <td>738.0</td>\n      <td>English</td>\n      <td>USA</td>\n      <td>PG-13</td>\n      <td>263700000.0</td>\n      <td>2012.0</td>\n      <td>632.0</td>\n      <td>6.6</td>\n      <td>2.35</td>\n      <td>24000</td>\n    </tr>\n    <tr>\n      <th>5</th>\n      <td>6</td>\n      <td>Color</td>\n      <td>Sam Raimi</td>\n      <td>392.0</td>\n      <td>156.0</td>\n      <td>0.0</td>\n      <td>4000.0</td>\n      <td>James Franco</td>\n      <td>24000.0</td>\n      <td>336530303.0</td>\n      <td>...</td>\n      <td>1902.0</td>\n      <td>English</td>\n      <td>USA</td>\n      <td>PG-13</td>\n      <td>258000000.0</td>\n      <td>2007.0</td>\n      <td>11000.0</td>\n      <td>6.2</td>\n      <td>2.35</td>\n      <td>0</td>\n    </tr>\n    <tr>\n      <th>6</th>\n      <td>7</td>\n      <td>Color</td>\n      <td>Nathan Greno</td>\n      <td>324.0</td>\n      <td>100.0</td>\n      <td>15.0</td>\n      <td>284.0</td>\n      <td>Donna Murphy</td>\n      <td>799.0</td>\n      <td>200807262.0</td>\n      <td>...</td>\n      <td>387.0</td>\n      <td>English</td>\n      <td>USA</td>\n      <td>PG</td>\n      <td>260000000.0</td>\n      <td>2010.0</td>\n      <td>553.0</td>\n      <td>7.8</td>\n      <td>1.85</td>\n      <td>29000</td>\n    </tr>\n    <tr>\n      <th>7</th>\n      <td>8</td>\n      <td>Color</td>\n      <td>Joss Whedon</td>\n      <td>635.0</td>\n      <td>141.0</td>\n      <td>0.0</td>\n      <td>19000.0</td>\n      <td>Robert Downey Jr.</td>\n      <td>26000.0</td>\n      <td>458991599.0</td>\n      <td>...</td>\n      <td>1117.0</td>\n      <td>English</td>\n      <td>USA</td>\n      <td>PG-13</td>\n      <td>250000000.0</td>\n      <td>2015.0</td>\n      <td>21000.0</td>\n      <td>7.5</td>\n      <td>2.35</td>\n      <td>118000</td>\n    </tr>\n    <tr>\n      <th>8</th>\n      <td>9</td>\n      <td>Color</td>\n      <td>David Yates</td>\n      <td>375.0</td>\n      <td>153.0</td>\n      <td>282.0</td>\n      <td>10000.0</td>\n      <td>Daniel Radcliffe</td>\n      <td>25000.0</td>\n      <td>301956980.0</td>\n      <td>...</td>\n      <td>973.0</td>\n      <td>English</td>\n      <td>UK</td>\n      <td>PG</td>\n      <td>250000000.0</td>\n      <td>2009.0</td>\n      <td>11000.0</td>\n      <td>7.5</td>\n      <td>2.35</td>\n      <td>10000</td>\n    </tr>\n    <tr>\n      <th>9</th>\n      <td>10</td>\n      <td>Color</td>\n      <td>Zack Snyder</td>\n      <td>673.0</td>\n      <td>183.0</td>\n      <td>0.0</td>\n      <td>2000.0</td>\n      <td>Lauren Cohan</td>\n      <td>15000.0</td>\n      <td>330249062.0</td>\n      <td>...</td>\n      <td>3018.0</td>\n      <td>English</td>\n      <td>USA</td>\n      <td>PG-13</td>\n      <td>250000000.0</td>\n      <td>2016.0</td>\n      <td>4000.0</td>\n      <td>6.9</td>\n      <td>2.35</td>\n      <td>197000</td>\n    </tr>\n  </tbody>\n</table>\n<p>10 rows × 29 columns</p>\n</div>",
            "text/plain": "   index  color      director_name  num_critic_for_reviews  duration  \\\n0      1  Color     Gore Verbinski                   302.0     169.0   \n1      2  Color         Sam Mendes                   602.0     148.0   \n2      3  Color  Christopher Nolan                   813.0     164.0   \n3      4   None        Doug Walker                     NaN       NaN   \n4      5  Color     Andrew Stanton                   462.0     132.0   \n5      6  Color          Sam Raimi                   392.0     156.0   \n6      7  Color       Nathan Greno                   324.0     100.0   \n7      8  Color        Joss Whedon                   635.0     141.0   \n8      9  Color        David Yates                   375.0     153.0   \n9     10  Color        Zack Snyder                   673.0     183.0   \n\n   director_facebook_likes  actor_3_facebook_likes       actor_2_name  \\\n0                    563.0                  1000.0      Orlando Bloom   \n1                      0.0                   161.0       Rory Kinnear   \n2                  22000.0                 23000.0     Christian Bale   \n3                    131.0                     NaN         Rob Walker   \n4                    475.0                   530.0    Samantha Morton   \n5                      0.0                  4000.0       James Franco   \n6                     15.0                   284.0       Donna Murphy   \n7                      0.0                 19000.0  Robert Downey Jr.   \n8                    282.0                 10000.0   Daniel Radcliffe   \n9                      0.0                  2000.0       Lauren Cohan   \n\n   actor_1_facebook_likes        gross  ... num_user_for_reviews language  \\\n0                 40000.0  309404152.0  ...               1238.0  English   \n1                 11000.0  200074175.0  ...                994.0  English   \n2                 27000.0  448130642.0  ...               2701.0  English   \n3                   131.0          NaN  ...                  NaN     None   \n4                   640.0   73058679.0  ...                738.0  English   \n5                 24000.0  336530303.0  ...               1902.0  English   \n6                   799.0  200807262.0  ...                387.0  English   \n7                 26000.0  458991599.0  ...               1117.0  English   \n8                 25000.0  301956980.0  ...                973.0  English   \n9                 15000.0  330249062.0  ...               3018.0  English   \n\n  country  content_rating       budget title_year  actor_2_facebook_likes  \\\n0     USA           PG-13  300000000.0     2007.0                  5000.0   \n1      UK           PG-13  245000000.0     2015.0                   393.0   \n2     USA           PG-13  250000000.0     2012.0                 23000.0   \n3    None            None          NaN        NaN                    12.0   \n4     USA           PG-13  263700000.0     2012.0                   632.0   \n5     USA           PG-13  258000000.0     2007.0                 11000.0   \n6     USA              PG  260000000.0     2010.0                   553.0   \n7     USA           PG-13  250000000.0     2015.0                 21000.0   \n8      UK              PG  250000000.0     2009.0                 11000.0   \n9     USA           PG-13  250000000.0     2016.0                  4000.0   \n\n  imdb_score aspect_ratio  movie_facebook_likes  \n0        7.1         2.35                     0  \n1        6.8         2.35                 85000  \n2        8.5         2.35                164000  \n3        7.1          NaN                     0  \n4        6.6         2.35                 24000  \n5        6.2         2.35                     0  \n6        7.8         1.85                 29000  \n7        7.5         2.35                118000  \n8        7.5         2.35                 10000  \n9        6.9         2.35                197000  \n\n[10 rows x 29 columns]"
          },
          "execution_count": 29,
          "metadata": {},
          "output_type": "execute_result"
        }
      ]
    },
    {
      "metadata": {
        "trusted": true
      },
      "cell_type": "code",
      "source": "conn.commit()",
      "execution_count": 30,
      "outputs": []
    },
    {
      "metadata": {
        "trusted": true
      },
      "cell_type": "code",
      "source": "ls",
      "execution_count": 31,
      "outputs": [
        {
          "name": "stdout",
          "output_type": "stream",
          "text": "Lecture 1.ipynb     Lecture 22.ipynb    lecture 12.ipynb    lecture 9.ipynb\r\nLecture 16.ipynb    Untitled.ipynb      lecture 13.ipynb    math-write.pdf\r\nLecture 17.ipynb    \u001b[1m\u001b[36massignments\u001b[m\u001b[m/        lecture 14.ipynb    my_database.sqlite\r\nLecture 18.ipynb    \u001b[31mchromedriver\u001b[m\u001b[m*       lecture 15.ipynb    \u001b[1m\u001b[36mmy_folder\u001b[m\u001b[m/\r\nLecture 19-2.ipynb  climate.html        lecture 4.ipynb     new.txt\r\nLecture 19.ipynb    gapminder.html      lecture 5.ipynb     \u001b[35mold\u001b[m\u001b[m@\r\nLecture 2.ipynb     lecture 03.ipynb    lecture 6.ipynb     ps01-6.ipynb\r\nLecture 20.ipynb    lecture 10.ipynb    lecture 7.ipynb     test-new.txt\r\nLecture 21.ipynb    lecture 11.ipynb    lecture 8.ipynb     test.txt\r\n"
        }
      ]
    },
    {
      "metadata": {
        "trusted": true
      },
      "cell_type": "code",
      "source": "",
      "execution_count": null,
      "outputs": []
    },
    {
      "metadata": {
        "trusted": true
      },
      "cell_type": "code",
      "source": "c.execute(\"\"\"\nDELETE FROM movies WHERE [index] = 1\n\"\"\")",
      "execution_count": 36,
      "outputs": [
        {
          "data": {
            "text/plain": "<sqlite3.Cursor at 0x10bf04b90>"
          },
          "execution_count": 36,
          "metadata": {},
          "output_type": "execute_result"
        }
      ]
    },
    {
      "metadata": {
        "trusted": true
      },
      "cell_type": "code",
      "source": "pd.read_sql(\"\"\"\nSELECT * FROM movies\nLIMIT 10\n\"\"\", conn)",
      "execution_count": 37,
      "outputs": [
        {
          "data": {
            "text/html": "<div>\n<style scoped>\n    .dataframe tbody tr th:only-of-type {\n        vertical-align: middle;\n    }\n\n    .dataframe tbody tr th {\n        vertical-align: top;\n    }\n\n    .dataframe thead th {\n        text-align: right;\n    }\n</style>\n<table border=\"1\" class=\"dataframe\">\n  <thead>\n    <tr style=\"text-align: right;\">\n      <th></th>\n      <th>index</th>\n      <th>color</th>\n      <th>director_name</th>\n      <th>num_critic_for_reviews</th>\n      <th>duration</th>\n      <th>director_facebook_likes</th>\n      <th>actor_3_facebook_likes</th>\n      <th>actor_2_name</th>\n      <th>actor_1_facebook_likes</th>\n      <th>gross</th>\n      <th>...</th>\n      <th>num_user_for_reviews</th>\n      <th>language</th>\n      <th>country</th>\n      <th>content_rating</th>\n      <th>budget</th>\n      <th>title_year</th>\n      <th>actor_2_facebook_likes</th>\n      <th>imdb_score</th>\n      <th>aspect_ratio</th>\n      <th>movie_facebook_likes</th>\n    </tr>\n  </thead>\n  <tbody>\n    <tr>\n      <th>0</th>\n      <td>2</td>\n      <td>Color</td>\n      <td>Sam Mendes</td>\n      <td>602.0</td>\n      <td>148.0</td>\n      <td>0.0</td>\n      <td>161.0</td>\n      <td>Rory Kinnear</td>\n      <td>11000.0</td>\n      <td>200074175.0</td>\n      <td>...</td>\n      <td>994.0</td>\n      <td>English</td>\n      <td>UK</td>\n      <td>PG-13</td>\n      <td>245000000.0</td>\n      <td>2015.0</td>\n      <td>393.0</td>\n      <td>6.8</td>\n      <td>2.35</td>\n      <td>85000</td>\n    </tr>\n    <tr>\n      <th>1</th>\n      <td>3</td>\n      <td>Color</td>\n      <td>Christopher Nolan</td>\n      <td>813.0</td>\n      <td>164.0</td>\n      <td>22000.0</td>\n      <td>23000.0</td>\n      <td>Christian Bale</td>\n      <td>27000.0</td>\n      <td>448130642.0</td>\n      <td>...</td>\n      <td>2701.0</td>\n      <td>English</td>\n      <td>USA</td>\n      <td>PG-13</td>\n      <td>250000000.0</td>\n      <td>2012.0</td>\n      <td>23000.0</td>\n      <td>8.5</td>\n      <td>2.35</td>\n      <td>164000</td>\n    </tr>\n    <tr>\n      <th>2</th>\n      <td>4</td>\n      <td>None</td>\n      <td>Doug Walker</td>\n      <td>NaN</td>\n      <td>NaN</td>\n      <td>131.0</td>\n      <td>NaN</td>\n      <td>Rob Walker</td>\n      <td>131.0</td>\n      <td>NaN</td>\n      <td>...</td>\n      <td>NaN</td>\n      <td>None</td>\n      <td>None</td>\n      <td>None</td>\n      <td>NaN</td>\n      <td>NaN</td>\n      <td>12.0</td>\n      <td>7.1</td>\n      <td>NaN</td>\n      <td>0</td>\n    </tr>\n    <tr>\n      <th>3</th>\n      <td>5</td>\n      <td>Color</td>\n      <td>Andrew Stanton</td>\n      <td>462.0</td>\n      <td>132.0</td>\n      <td>475.0</td>\n      <td>530.0</td>\n      <td>Samantha Morton</td>\n      <td>640.0</td>\n      <td>73058679.0</td>\n      <td>...</td>\n      <td>738.0</td>\n      <td>English</td>\n      <td>USA</td>\n      <td>PG-13</td>\n      <td>263700000.0</td>\n      <td>2012.0</td>\n      <td>632.0</td>\n      <td>6.6</td>\n      <td>2.35</td>\n      <td>24000</td>\n    </tr>\n    <tr>\n      <th>4</th>\n      <td>6</td>\n      <td>Color</td>\n      <td>Sam Raimi</td>\n      <td>392.0</td>\n      <td>156.0</td>\n      <td>0.0</td>\n      <td>4000.0</td>\n      <td>James Franco</td>\n      <td>24000.0</td>\n      <td>336530303.0</td>\n      <td>...</td>\n      <td>1902.0</td>\n      <td>English</td>\n      <td>USA</td>\n      <td>PG-13</td>\n      <td>258000000.0</td>\n      <td>2007.0</td>\n      <td>11000.0</td>\n      <td>6.2</td>\n      <td>2.35</td>\n      <td>0</td>\n    </tr>\n    <tr>\n      <th>5</th>\n      <td>7</td>\n      <td>Color</td>\n      <td>Nathan Greno</td>\n      <td>324.0</td>\n      <td>100.0</td>\n      <td>15.0</td>\n      <td>284.0</td>\n      <td>Donna Murphy</td>\n      <td>799.0</td>\n      <td>200807262.0</td>\n      <td>...</td>\n      <td>387.0</td>\n      <td>English</td>\n      <td>USA</td>\n      <td>PG</td>\n      <td>260000000.0</td>\n      <td>2010.0</td>\n      <td>553.0</td>\n      <td>7.8</td>\n      <td>1.85</td>\n      <td>29000</td>\n    </tr>\n    <tr>\n      <th>6</th>\n      <td>8</td>\n      <td>Color</td>\n      <td>Joss Whedon</td>\n      <td>635.0</td>\n      <td>141.0</td>\n      <td>0.0</td>\n      <td>19000.0</td>\n      <td>Robert Downey Jr.</td>\n      <td>26000.0</td>\n      <td>458991599.0</td>\n      <td>...</td>\n      <td>1117.0</td>\n      <td>English</td>\n      <td>USA</td>\n      <td>PG-13</td>\n      <td>250000000.0</td>\n      <td>2015.0</td>\n      <td>21000.0</td>\n      <td>7.5</td>\n      <td>2.35</td>\n      <td>118000</td>\n    </tr>\n    <tr>\n      <th>7</th>\n      <td>9</td>\n      <td>Color</td>\n      <td>David Yates</td>\n      <td>375.0</td>\n      <td>153.0</td>\n      <td>282.0</td>\n      <td>10000.0</td>\n      <td>Daniel Radcliffe</td>\n      <td>25000.0</td>\n      <td>301956980.0</td>\n      <td>...</td>\n      <td>973.0</td>\n      <td>English</td>\n      <td>UK</td>\n      <td>PG</td>\n      <td>250000000.0</td>\n      <td>2009.0</td>\n      <td>11000.0</td>\n      <td>7.5</td>\n      <td>2.35</td>\n      <td>10000</td>\n    </tr>\n    <tr>\n      <th>8</th>\n      <td>10</td>\n      <td>Color</td>\n      <td>Zack Snyder</td>\n      <td>673.0</td>\n      <td>183.0</td>\n      <td>0.0</td>\n      <td>2000.0</td>\n      <td>Lauren Cohan</td>\n      <td>15000.0</td>\n      <td>330249062.0</td>\n      <td>...</td>\n      <td>3018.0</td>\n      <td>English</td>\n      <td>USA</td>\n      <td>PG-13</td>\n      <td>250000000.0</td>\n      <td>2016.0</td>\n      <td>4000.0</td>\n      <td>6.9</td>\n      <td>2.35</td>\n      <td>197000</td>\n    </tr>\n    <tr>\n      <th>9</th>\n      <td>11</td>\n      <td>Color</td>\n      <td>Bryan Singer</td>\n      <td>434.0</td>\n      <td>169.0</td>\n      <td>0.0</td>\n      <td>903.0</td>\n      <td>Marlon Brando</td>\n      <td>18000.0</td>\n      <td>200069408.0</td>\n      <td>...</td>\n      <td>2367.0</td>\n      <td>English</td>\n      <td>USA</td>\n      <td>PG-13</td>\n      <td>209000000.0</td>\n      <td>2006.0</td>\n      <td>10000.0</td>\n      <td>6.1</td>\n      <td>2.35</td>\n      <td>0</td>\n    </tr>\n  </tbody>\n</table>\n<p>10 rows × 29 columns</p>\n</div>",
            "text/plain": "   index  color      director_name  num_critic_for_reviews  duration  \\\n0      2  Color         Sam Mendes                   602.0     148.0   \n1      3  Color  Christopher Nolan                   813.0     164.0   \n2      4   None        Doug Walker                     NaN       NaN   \n3      5  Color     Andrew Stanton                   462.0     132.0   \n4      6  Color          Sam Raimi                   392.0     156.0   \n5      7  Color       Nathan Greno                   324.0     100.0   \n6      8  Color        Joss Whedon                   635.0     141.0   \n7      9  Color        David Yates                   375.0     153.0   \n8     10  Color        Zack Snyder                   673.0     183.0   \n9     11  Color       Bryan Singer                   434.0     169.0   \n\n   director_facebook_likes  actor_3_facebook_likes       actor_2_name  \\\n0                      0.0                   161.0       Rory Kinnear   \n1                  22000.0                 23000.0     Christian Bale   \n2                    131.0                     NaN         Rob Walker   \n3                    475.0                   530.0    Samantha Morton   \n4                      0.0                  4000.0       James Franco   \n5                     15.0                   284.0       Donna Murphy   \n6                      0.0                 19000.0  Robert Downey Jr.   \n7                    282.0                 10000.0   Daniel Radcliffe   \n8                      0.0                  2000.0       Lauren Cohan   \n9                      0.0                   903.0      Marlon Brando   \n\n   actor_1_facebook_likes        gross  ... num_user_for_reviews language  \\\n0                 11000.0  200074175.0  ...                994.0  English   \n1                 27000.0  448130642.0  ...               2701.0  English   \n2                   131.0          NaN  ...                  NaN     None   \n3                   640.0   73058679.0  ...                738.0  English   \n4                 24000.0  336530303.0  ...               1902.0  English   \n5                   799.0  200807262.0  ...                387.0  English   \n6                 26000.0  458991599.0  ...               1117.0  English   \n7                 25000.0  301956980.0  ...                973.0  English   \n8                 15000.0  330249062.0  ...               3018.0  English   \n9                 18000.0  200069408.0  ...               2367.0  English   \n\n  country  content_rating       budget title_year  actor_2_facebook_likes  \\\n0      UK           PG-13  245000000.0     2015.0                   393.0   \n1     USA           PG-13  250000000.0     2012.0                 23000.0   \n2    None            None          NaN        NaN                    12.0   \n3     USA           PG-13  263700000.0     2012.0                   632.0   \n4     USA           PG-13  258000000.0     2007.0                 11000.0   \n5     USA              PG  260000000.0     2010.0                   553.0   \n6     USA           PG-13  250000000.0     2015.0                 21000.0   \n7      UK              PG  250000000.0     2009.0                 11000.0   \n8     USA           PG-13  250000000.0     2016.0                  4000.0   \n9     USA           PG-13  209000000.0     2006.0                 10000.0   \n\n  imdb_score aspect_ratio  movie_facebook_likes  \n0        6.8         2.35                 85000  \n1        8.5         2.35                164000  \n2        7.1          NaN                     0  \n3        6.6         2.35                 24000  \n4        6.2         2.35                     0  \n5        7.8         1.85                 29000  \n6        7.5         2.35                118000  \n7        7.5         2.35                 10000  \n8        6.9         2.35                197000  \n9        6.1         2.35                     0  \n\n[10 rows x 29 columns]"
          },
          "execution_count": 37,
          "metadata": {},
          "output_type": "execute_result"
        }
      ]
    },
    {
      "metadata": {
        "trusted": true
      },
      "cell_type": "code",
      "source": "c.execute(\"\"\"\nSELECT * FROM movies WHERE color is NULL\n\"\"\").fetchall()",
      "execution_count": 40,
      "outputs": [
        {
          "data": {
            "text/plain": "[(4,\n  None,\n  'Doug Walker',\n  None,\n  None,\n  131.0,\n  None,\n  'Rob Walker',\n  131.0,\n  None,\n  'Documentary',\n  'Doug Walker',\n  'Star Wars: Episode VII - The Force Awakens\\xa0            ',\n  8,\n  143,\n  None,\n  0.0,\n  None,\n  'http://www.imdb.com/title/tt5289954/?ref_=fn_tt_tt_1',\n  None,\n  None,\n  None,\n  None,\n  None,\n  None,\n  12.0,\n  7.1,\n  None,\n  0),\n (279,\n  None,\n  'Christopher Barnard',\n  None,\n  22.0,\n  0.0,\n  None,\n  None,\n  5.0,\n  None,\n  'Comedy',\n  'Mathew Buck',\n  '10,000 B.C.\\xa0            ',\n  6,\n  5,\n  None,\n  0.0,\n  None,\n  'http://www.imdb.com/title/tt1869849/?ref_=fn_tt_tt_1',\n  None,\n  None,\n  None,\n  None,\n  None,\n  None,\n  None,\n  7.2,\n  None,\n  0),\n (459,\n  None,\n  None,\n  95.0,\n  54.0,\n  None,\n  0.0,\n  'Royce Johnson',\n  577.0,\n  None,\n  'Action|Adventure|Crime|Drama|Sci-Fi|Thriller',\n  'Elden Henson',\n  'Daredevil\\xa0            ',\n  213483,\n  581,\n  'Charlie Cox',\n  0.0,\n  'corruption|lawyer|partnership|superhero|vigilante',\n  'http://www.imdb.com/title/tt3322312/?ref_=fn_tt_tt_1',\n  394.0,\n  'English',\n  'USA',\n  'TV-MA',\n  None,\n  None,\n  4.0,\n  8.8,\n  16.0,\n  55000),\n (1948,\n  None,\n  'Lasse Hallström',\n  162.0,\n  108.0,\n  529.0,\n  690.0,\n  'Henry Thomas',\n  17000.0,\n  80014842.0,\n  'Drama|Romance|War',\n  'Channing Tatum',\n  'Dear John\\xa0',\n  104356,\n  19945,\n  'Scott Porter',\n  None,\n  'army|coin collector|love|surfboard|u.s. army',\n  'http://www.imdb.com/title/tt0989757/?ref_=fn_tt_tt_1',\n  186.0,\n  'English',\n  'USA',\n  'PG-13',\n  25000000.0,\n  2010.0,\n  861.0,\n  6.3,\n  2.35,\n  14000),\n (2015,\n  None,\n  'Mario Van Peebles',\n  7.0,\n  100.0,\n  535.0,\n  399.0,\n  'Mario Van Peebles',\n  668.0,\n  None,\n  'Action|Thriller',\n  'Martin Kove',\n  'Red Sky\\xa0',\n  1084,\n  2204,\n  'Jacob Vargas',\n  0.0,\n  'exploding airplane|fighter pilot|hands tied|held at gunpoint|military',\n  'http://www.imdb.com/title/tt1946381/?ref_=fn_tt_tt_1',\n  11.0,\n  'English',\n  'USA',\n  'PG-13',\n  25000000.0,\n  2014.0,\n  535.0,\n  4.1,\n  None,\n  437),\n (2459,\n  None,\n  None,\n  14.0,\n  60.0,\n  None,\n  405.0,\n  'Dylan Walsh',\n  654.0,\n  None,\n  'Drama|Mystery',\n  'Poppy Montgomery',\n  'Unforgettable\\xa0            ',\n  12854,\n  1906,\n  'Dallas Roberts',\n  1.0,\n  'hyperthymesia|new york city|police',\n  'http://www.imdb.com/title/tt1842530/?ref_=fn_tt_tt_1',\n  44.0,\n  None,\n  'USA',\n  None,\n  None,\n  None,\n  426.0,\n  6.7,\n  None,\n  0),\n (2753,\n  None,\n  'Tung-Shing Yee',\n  53.0,\n  119.0,\n  3.0,\n  19.0,\n  'Daniel Wu',\n  556.0,\n  None,\n  'Action|Crime|Drama|Thriller',\n  'Bingbing Fan',\n  'Shinjuku Incident\\xa0',\n  9177,\n  996,\n  'Yasuaki Kurata',\n  4.0,\n  'chinese|gang|gratitude|immigrant|japan',\n  'http://www.imdb.com/title/tt1075419/?ref_=fn_tt_tt_1',\n  53.0,\n  'Mandarin',\n  'Hong Kong',\n  'R',\n  15000000.0,\n  2009.0,\n  353.0,\n  7.1,\n  2.35,\n  821),\n (3272,\n  None,\n  'David Hackl',\n  48.0,\n  94.0,\n  43.0,\n  129.0,\n  'Michaela McManus',\n  826.0,\n  None,\n  'Action|Horror|Thriller',\n  'Scott Glenn',\n  'Into the Grizzly Maze\\xa0',\n  4486,\n  1586,\n  \"Luisa D'Oliveira\",\n  4.0,\n  'bear|breasts|female nudity|grizzly|wilderness',\n  'http://www.imdb.com/title/tt1694021/?ref_=fn_tt_tt_1',\n  38.0,\n  'English',\n  'USA',\n  'R',\n  10000000.0,\n  2015.0,\n  476.0,\n  5.3,\n  1.85,\n  0),\n (3539,\n  None,\n  'Richard Rich',\n  2.0,\n  45.0,\n  24.0,\n  29.0,\n  'Kate Higgins',\n  122.0,\n  None,\n  'Action|Adventure|Animation|Comedy|Drama|Family|Fantasy|Thriller',\n  'Debi Derryberry',\n  'Alpha and Omega 4: The Legend of the Saw Toothed Cave\\xa0',\n  192,\n  236,\n  'Cindy Robinson',\n  0.0,\n  'blindness|cave|spirit|wolf|wolf cub',\n  'http://www.imdb.com/title/tt4061848/?ref_=fn_tt_tt_1',\n  6.0,\n  None,\n  'USA',\n  None,\n  7000000.0,\n  2014.0,\n  35.0,\n  6.0,\n  None,\n  41),\n (3638,\n  None,\n  'Wayne Wang',\n  56.0,\n  104.0,\n  61.0,\n  451.0,\n  'Russell Wong',\n  974.0,\n  1346503.0,\n  'Drama|History',\n  'Bingbing Li',\n  'Snow Flower and the Secret Fan\\xa0',\n  3024,\n  2430,\n  'Ji-hyun Jun',\n  0.0,\n  'car hitting pedestrian|china|fan|nineteenth century|reversal of fortune',\n  'http://www.imdb.com/title/tt1541995/?ref_=fn_tt_tt_1',\n  22.0,\n  'English',\n  'China',\n  'PG-13',\n  6000000.0,\n  2011.0,\n  595.0,\n  6.1,\n  2.35,\n  0),\n (3656,\n  None,\n  'Charles Matthau',\n  13.0,\n  90.0,\n  139.0,\n  1000.0,\n  'Michael Jai White',\n  2000.0,\n  None,\n  'Comedy|Crime|Thriller',\n  'Billy Burke',\n  'Freaky Deaky\\xa0',\n  6741,\n  6569,\n  'Bill Duke',\n  0.0,\n  'black panties|bomb squad|car bomb|dynamite|girl in panties',\n  'http://www.imdb.com/title/tt0938305/?ref_=fn_tt_tt_1',\n  11.0,\n  'English',\n  'USA',\n  'R',\n  6000000.0,\n  2012.0,\n  2000.0,\n  6.5,\n  None,\n  0),\n (4138,\n  None,\n  'Darin Scott',\n  7.0,\n  95.0,\n  39.0,\n  375.0,\n  'Shantel VanSanten',\n  1000.0,\n  None,\n  'Drama|Horror|Mystery|Thriller',\n  'Julian Morris',\n  'Something Wicked\\xa0',\n  976,\n  3024,\n  'John Robinson',\n  2.0,\n  'eugene oregon|independent film|obsession',\n  'http://www.imdb.com/title/tt1327601/?ref_=fn_tt_tt_1',\n  15.0,\n  'English',\n  'USA',\n  'R',\n  3000000.0,\n  2014.0,\n  747.0,\n  4.8,\n  None,\n  395),\n (4215,\n  None,\n  'Zackary Adler',\n  10.0,\n  110.0,\n  0.0,\n  109.0,\n  'Kevin Leslie',\n  490.0,\n  None,\n  'Crime|Drama',\n  'Simon Merrells',\n  'The Rise of the Krays\\xa0',\n  1510,\n  881,\n  'Kris Sommerville',\n  0.0,\n  None,\n  'http://www.imdb.com/title/tt2945796/?ref_=fn_tt_tt_1',\n  26.0,\n  'English',\n  'UK',\n  'R',\n  2500000.0,\n  2015.0,\n  159.0,\n  5.0,\n  None,\n  0),\n (4331,\n  None,\n  'Jonas Åkerlund',\n  33.0,\n  96.0,\n  68.0,\n  722.0,\n  'Saffron Burrows',\n  2000.0,\n  None,\n  'Comedy|Crime|Drama',\n  'Noel Gugliemi',\n  'Small Apartments\\xa0',\n  5732,\n  3683,\n  'Matt Lucas',\n  6.0,\n  \"fire investigator|landlord|suicide|talking to one's self in a mirror|turpentine\",\n  'http://www.imdb.com/title/tt1272886/?ref_=fn_tt_tt_1',\n  26.0,\n  'English',\n  'USA',\n  'R',\n  2000000.0,\n  2012.0,\n  811.0,\n  6.1,\n  1.85,\n  0),\n (4409,\n  None,\n  'John Stockwell',\n  2.0,\n  90.0,\n  134.0,\n  354.0,\n  'T.J. Storm',\n  260000.0,\n  None,\n  'Action',\n  'Matthew Ziff',\n  'Kickboxer: Vengeance\\xa0',\n  246,\n  261818,\n  'Sam Medina',\n  5.0,\n  None,\n  'http://www.imdb.com/title/tt3082898/?ref_=fn_tt_tt_1',\n  1.0,\n  None,\n  'USA',\n  None,\n  17000000.0,\n  2016.0,\n  454.0,\n  9.1,\n  None,\n  0),\n (4441,\n  None,\n  'Dave Rodriguez',\n  9.0,\n  98.0,\n  11.0,\n  636.0,\n  'Michael Rapaport',\n  979.0,\n  None,\n  'Comedy|Drama',\n  'Chazz Palminteri',\n  'Once Upon a Time in Queens\\xa0',\n  291,\n  4036,\n  'Paul Sorvino',\n  2.0,\n  None,\n  'http://www.imdb.com/title/tt1639397/?ref_=fn_tt_tt_1',\n  7.0,\n  'English',\n  'USA',\n  'R',\n  1500000.0,\n  2013.0,\n  975.0,\n  6.3,\n  1.89,\n  283),\n (4630,\n  None,\n  'Jonathan Meyers',\n  1.0,\n  111.0,\n  0.0,\n  426.0,\n  'Luke Perry',\n  657.0,\n  None,\n  'Drama',\n  'Justin Baldoni',\n  'A Fine Step\\xa0',\n  207,\n  2677,\n  'Leonor Varela',\n  0.0,\n  None,\n  'http://www.imdb.com/title/tt1604100/?ref_=fn_tt_tt_1',\n  1.0,\n  None,\n  'USA',\n  'PG',\n  1000000.0,\n  2014.0,\n  608.0,\n  5.3,\n  None,\n  212),\n (4846,\n  None,\n  'Pece Dingo',\n  1.0,\n  94.0,\n  0.0,\n  87.0,\n  'Wilhelm von Homburg',\n  156.0,\n  None,\n  'Horror',\n  'Michael Des Barres',\n  'Midnight Cabaret\\xa0',\n  47,\n  544,\n  'Thom Mathews',\n  0.0,\n  'cigarette smoking|death|devil|nightmare|satanic cult',\n  'http://www.imdb.com/title/tt0100146/?ref_=fn_tt_tt_1',\n  4.0,\n  'English',\n  'USA',\n  'R',\n  None,\n  1990.0,\n  102.0,\n  4.5,\n  None,\n  4),\n (5020,\n  None,\n  'Brandon Landers',\n  None,\n  143.0,\n  8.0,\n  8.0,\n  'Alana Kaniewski',\n  720.0,\n  None,\n  'Drama|Horror|Thriller',\n  'Robbie Barnes',\n  'The Ridges\\xa0',\n  125,\n  770,\n  'Brandon Landers',\n  0.0,\n  'avatar|college|death|tron|university',\n  'http://www.imdb.com/title/tt1781935/?ref_=fn_tt_tt_1',\n  8.0,\n  'English',\n  'USA',\n  None,\n  17350.0,\n  2011.0,\n  19.0,\n  3.0,\n  None,\n  33)]"
          },
          "execution_count": 40,
          "metadata": {},
          "output_type": "execute_result"
        }
      ]
    },
    {
      "metadata": {
        "trusted": true
      },
      "cell_type": "code",
      "source": "c.execute(\"\"\"\nUPDATE movies SET color = \"Unknown\"\nWHERE color is NULL\n\"\"\")",
      "execution_count": 41,
      "outputs": [
        {
          "data": {
            "text/plain": "<sqlite3.Cursor at 0x10bf04b90>"
          },
          "execution_count": 41,
          "metadata": {},
          "output_type": "execute_result"
        }
      ]
    },
    {
      "metadata": {
        "trusted": true
      },
      "cell_type": "code",
      "source": "pd.read_sql(\"\"\"\nSELECT * FROM movies\nLIMIT 10\n\"\"\", conn)",
      "execution_count": 42,
      "outputs": [
        {
          "data": {
            "text/html": "<div>\n<style scoped>\n    .dataframe tbody tr th:only-of-type {\n        vertical-align: middle;\n    }\n\n    .dataframe tbody tr th {\n        vertical-align: top;\n    }\n\n    .dataframe thead th {\n        text-align: right;\n    }\n</style>\n<table border=\"1\" class=\"dataframe\">\n  <thead>\n    <tr style=\"text-align: right;\">\n      <th></th>\n      <th>index</th>\n      <th>color</th>\n      <th>director_name</th>\n      <th>num_critic_for_reviews</th>\n      <th>duration</th>\n      <th>director_facebook_likes</th>\n      <th>actor_3_facebook_likes</th>\n      <th>actor_2_name</th>\n      <th>actor_1_facebook_likes</th>\n      <th>gross</th>\n      <th>...</th>\n      <th>num_user_for_reviews</th>\n      <th>language</th>\n      <th>country</th>\n      <th>content_rating</th>\n      <th>budget</th>\n      <th>title_year</th>\n      <th>actor_2_facebook_likes</th>\n      <th>imdb_score</th>\n      <th>aspect_ratio</th>\n      <th>movie_facebook_likes</th>\n    </tr>\n  </thead>\n  <tbody>\n    <tr>\n      <th>0</th>\n      <td>2</td>\n      <td>Color</td>\n      <td>Sam Mendes</td>\n      <td>602.0</td>\n      <td>148.0</td>\n      <td>0.0</td>\n      <td>161.0</td>\n      <td>Rory Kinnear</td>\n      <td>11000.0</td>\n      <td>200074175.0</td>\n      <td>...</td>\n      <td>994.0</td>\n      <td>English</td>\n      <td>UK</td>\n      <td>PG-13</td>\n      <td>245000000.0</td>\n      <td>2015.0</td>\n      <td>393.0</td>\n      <td>6.8</td>\n      <td>2.35</td>\n      <td>85000</td>\n    </tr>\n    <tr>\n      <th>1</th>\n      <td>3</td>\n      <td>Color</td>\n      <td>Christopher Nolan</td>\n      <td>813.0</td>\n      <td>164.0</td>\n      <td>22000.0</td>\n      <td>23000.0</td>\n      <td>Christian Bale</td>\n      <td>27000.0</td>\n      <td>448130642.0</td>\n      <td>...</td>\n      <td>2701.0</td>\n      <td>English</td>\n      <td>USA</td>\n      <td>PG-13</td>\n      <td>250000000.0</td>\n      <td>2012.0</td>\n      <td>23000.0</td>\n      <td>8.5</td>\n      <td>2.35</td>\n      <td>164000</td>\n    </tr>\n    <tr>\n      <th>2</th>\n      <td>4</td>\n      <td>Unknown</td>\n      <td>Doug Walker</td>\n      <td>NaN</td>\n      <td>NaN</td>\n      <td>131.0</td>\n      <td>NaN</td>\n      <td>Rob Walker</td>\n      <td>131.0</td>\n      <td>NaN</td>\n      <td>...</td>\n      <td>NaN</td>\n      <td>None</td>\n      <td>None</td>\n      <td>None</td>\n      <td>NaN</td>\n      <td>NaN</td>\n      <td>12.0</td>\n      <td>7.1</td>\n      <td>NaN</td>\n      <td>0</td>\n    </tr>\n    <tr>\n      <th>3</th>\n      <td>5</td>\n      <td>Color</td>\n      <td>Andrew Stanton</td>\n      <td>462.0</td>\n      <td>132.0</td>\n      <td>475.0</td>\n      <td>530.0</td>\n      <td>Samantha Morton</td>\n      <td>640.0</td>\n      <td>73058679.0</td>\n      <td>...</td>\n      <td>738.0</td>\n      <td>English</td>\n      <td>USA</td>\n      <td>PG-13</td>\n      <td>263700000.0</td>\n      <td>2012.0</td>\n      <td>632.0</td>\n      <td>6.6</td>\n      <td>2.35</td>\n      <td>24000</td>\n    </tr>\n    <tr>\n      <th>4</th>\n      <td>6</td>\n      <td>Color</td>\n      <td>Sam Raimi</td>\n      <td>392.0</td>\n      <td>156.0</td>\n      <td>0.0</td>\n      <td>4000.0</td>\n      <td>James Franco</td>\n      <td>24000.0</td>\n      <td>336530303.0</td>\n      <td>...</td>\n      <td>1902.0</td>\n      <td>English</td>\n      <td>USA</td>\n      <td>PG-13</td>\n      <td>258000000.0</td>\n      <td>2007.0</td>\n      <td>11000.0</td>\n      <td>6.2</td>\n      <td>2.35</td>\n      <td>0</td>\n    </tr>\n    <tr>\n      <th>5</th>\n      <td>7</td>\n      <td>Color</td>\n      <td>Nathan Greno</td>\n      <td>324.0</td>\n      <td>100.0</td>\n      <td>15.0</td>\n      <td>284.0</td>\n      <td>Donna Murphy</td>\n      <td>799.0</td>\n      <td>200807262.0</td>\n      <td>...</td>\n      <td>387.0</td>\n      <td>English</td>\n      <td>USA</td>\n      <td>PG</td>\n      <td>260000000.0</td>\n      <td>2010.0</td>\n      <td>553.0</td>\n      <td>7.8</td>\n      <td>1.85</td>\n      <td>29000</td>\n    </tr>\n    <tr>\n      <th>6</th>\n      <td>8</td>\n      <td>Color</td>\n      <td>Joss Whedon</td>\n      <td>635.0</td>\n      <td>141.0</td>\n      <td>0.0</td>\n      <td>19000.0</td>\n      <td>Robert Downey Jr.</td>\n      <td>26000.0</td>\n      <td>458991599.0</td>\n      <td>...</td>\n      <td>1117.0</td>\n      <td>English</td>\n      <td>USA</td>\n      <td>PG-13</td>\n      <td>250000000.0</td>\n      <td>2015.0</td>\n      <td>21000.0</td>\n      <td>7.5</td>\n      <td>2.35</td>\n      <td>118000</td>\n    </tr>\n    <tr>\n      <th>7</th>\n      <td>9</td>\n      <td>Color</td>\n      <td>David Yates</td>\n      <td>375.0</td>\n      <td>153.0</td>\n      <td>282.0</td>\n      <td>10000.0</td>\n      <td>Daniel Radcliffe</td>\n      <td>25000.0</td>\n      <td>301956980.0</td>\n      <td>...</td>\n      <td>973.0</td>\n      <td>English</td>\n      <td>UK</td>\n      <td>PG</td>\n      <td>250000000.0</td>\n      <td>2009.0</td>\n      <td>11000.0</td>\n      <td>7.5</td>\n      <td>2.35</td>\n      <td>10000</td>\n    </tr>\n    <tr>\n      <th>8</th>\n      <td>10</td>\n      <td>Color</td>\n      <td>Zack Snyder</td>\n      <td>673.0</td>\n      <td>183.0</td>\n      <td>0.0</td>\n      <td>2000.0</td>\n      <td>Lauren Cohan</td>\n      <td>15000.0</td>\n      <td>330249062.0</td>\n      <td>...</td>\n      <td>3018.0</td>\n      <td>English</td>\n      <td>USA</td>\n      <td>PG-13</td>\n      <td>250000000.0</td>\n      <td>2016.0</td>\n      <td>4000.0</td>\n      <td>6.9</td>\n      <td>2.35</td>\n      <td>197000</td>\n    </tr>\n    <tr>\n      <th>9</th>\n      <td>11</td>\n      <td>Color</td>\n      <td>Bryan Singer</td>\n      <td>434.0</td>\n      <td>169.0</td>\n      <td>0.0</td>\n      <td>903.0</td>\n      <td>Marlon Brando</td>\n      <td>18000.0</td>\n      <td>200069408.0</td>\n      <td>...</td>\n      <td>2367.0</td>\n      <td>English</td>\n      <td>USA</td>\n      <td>PG-13</td>\n      <td>209000000.0</td>\n      <td>2006.0</td>\n      <td>10000.0</td>\n      <td>6.1</td>\n      <td>2.35</td>\n      <td>0</td>\n    </tr>\n  </tbody>\n</table>\n<p>10 rows × 29 columns</p>\n</div>",
            "text/plain": "   index    color      director_name  num_critic_for_reviews  duration  \\\n0      2    Color         Sam Mendes                   602.0     148.0   \n1      3    Color  Christopher Nolan                   813.0     164.0   \n2      4  Unknown        Doug Walker                     NaN       NaN   \n3      5    Color     Andrew Stanton                   462.0     132.0   \n4      6    Color          Sam Raimi                   392.0     156.0   \n5      7    Color       Nathan Greno                   324.0     100.0   \n6      8    Color        Joss Whedon                   635.0     141.0   \n7      9    Color        David Yates                   375.0     153.0   \n8     10    Color        Zack Snyder                   673.0     183.0   \n9     11    Color       Bryan Singer                   434.0     169.0   \n\n   director_facebook_likes  actor_3_facebook_likes       actor_2_name  \\\n0                      0.0                   161.0       Rory Kinnear   \n1                  22000.0                 23000.0     Christian Bale   \n2                    131.0                     NaN         Rob Walker   \n3                    475.0                   530.0    Samantha Morton   \n4                      0.0                  4000.0       James Franco   \n5                     15.0                   284.0       Donna Murphy   \n6                      0.0                 19000.0  Robert Downey Jr.   \n7                    282.0                 10000.0   Daniel Radcliffe   \n8                      0.0                  2000.0       Lauren Cohan   \n9                      0.0                   903.0      Marlon Brando   \n\n   actor_1_facebook_likes        gross  ... num_user_for_reviews language  \\\n0                 11000.0  200074175.0  ...                994.0  English   \n1                 27000.0  448130642.0  ...               2701.0  English   \n2                   131.0          NaN  ...                  NaN     None   \n3                   640.0   73058679.0  ...                738.0  English   \n4                 24000.0  336530303.0  ...               1902.0  English   \n5                   799.0  200807262.0  ...                387.0  English   \n6                 26000.0  458991599.0  ...               1117.0  English   \n7                 25000.0  301956980.0  ...                973.0  English   \n8                 15000.0  330249062.0  ...               3018.0  English   \n9                 18000.0  200069408.0  ...               2367.0  English   \n\n  country  content_rating       budget title_year  actor_2_facebook_likes  \\\n0      UK           PG-13  245000000.0     2015.0                   393.0   \n1     USA           PG-13  250000000.0     2012.0                 23000.0   \n2    None            None          NaN        NaN                    12.0   \n3     USA           PG-13  263700000.0     2012.0                   632.0   \n4     USA           PG-13  258000000.0     2007.0                 11000.0   \n5     USA              PG  260000000.0     2010.0                   553.0   \n6     USA           PG-13  250000000.0     2015.0                 21000.0   \n7      UK              PG  250000000.0     2009.0                 11000.0   \n8     USA           PG-13  250000000.0     2016.0                  4000.0   \n9     USA           PG-13  209000000.0     2006.0                 10000.0   \n\n  imdb_score aspect_ratio  movie_facebook_likes  \n0        6.8         2.35                 85000  \n1        8.5         2.35                164000  \n2        7.1          NaN                     0  \n3        6.6         2.35                 24000  \n4        6.2         2.35                     0  \n5        7.8         1.85                 29000  \n6        7.5         2.35                118000  \n7        7.5         2.35                 10000  \n8        6.9         2.35                197000  \n9        6.1         2.35                     0  \n\n[10 rows x 29 columns]"
          },
          "execution_count": 42,
          "metadata": {},
          "output_type": "execute_result"
        }
      ]
    },
    {
      "metadata": {
        "trusted": true
      },
      "cell_type": "code",
      "source": "pd.read_sql(\"\"\"\nSELECT color, avg(duration) FROM movies\nGROUP BY color\n\"\"\", conn)",
      "execution_count": 43,
      "outputs": [
        {
          "data": {
            "text/html": "<div>\n<style scoped>\n    .dataframe tbody tr th:only-of-type {\n        vertical-align: middle;\n    }\n\n    .dataframe tbody tr th {\n        vertical-align: top;\n    }\n\n    .dataframe thead th {\n        text-align: right;\n    }\n</style>\n<table border=\"1\" class=\"dataframe\">\n  <thead>\n    <tr style=\"text-align: right;\">\n      <th></th>\n      <th>color</th>\n      <th>avg(duration)</th>\n    </tr>\n  </thead>\n  <tbody>\n    <tr>\n      <th>0</th>\n      <td>Black and White</td>\n      <td>112.253589</td>\n    </tr>\n    <tr>\n      <th>1</th>\n      <td>Color</td>\n      <td>106.957229</td>\n    </tr>\n    <tr>\n      <th>2</th>\n      <td>Unknown</td>\n      <td>90.722222</td>\n    </tr>\n  </tbody>\n</table>\n</div>",
            "text/plain": "              color  avg(duration)\n0   Black and White     112.253589\n1             Color     106.957229\n2           Unknown      90.722222"
          },
          "execution_count": 43,
          "metadata": {},
          "output_type": "execute_result"
        }
      ]
    },
    {
      "metadata": {
        "trusted": true
      },
      "cell_type": "code",
      "source": "conn.execute(\"\"\"\nUPDATE movies SET duration = duration * 2 WHERE color == \"Unknown\"\n\"\"\")",
      "execution_count": 44,
      "outputs": [
        {
          "data": {
            "text/plain": "<sqlite3.Cursor at 0x111cd66c0>"
          },
          "execution_count": 44,
          "metadata": {},
          "output_type": "execute_result"
        }
      ]
    },
    {
      "metadata": {
        "trusted": true
      },
      "cell_type": "code",
      "source": "pd.read_sql(\"\"\"\nSELECT color, avg(duration) FROM movies\nGROUP BY color\n\"\"\", conn)",
      "execution_count": 45,
      "outputs": [
        {
          "data": {
            "text/html": "<div>\n<style scoped>\n    .dataframe tbody tr th:only-of-type {\n        vertical-align: middle;\n    }\n\n    .dataframe tbody tr th {\n        vertical-align: top;\n    }\n\n    .dataframe thead th {\n        text-align: right;\n    }\n</style>\n<table border=\"1\" class=\"dataframe\">\n  <thead>\n    <tr style=\"text-align: right;\">\n      <th></th>\n      <th>color</th>\n      <th>avg(duration)</th>\n    </tr>\n  </thead>\n  <tbody>\n    <tr>\n      <th>0</th>\n      <td>Black and White</td>\n      <td>112.253589</td>\n    </tr>\n    <tr>\n      <th>1</th>\n      <td>Color</td>\n      <td>106.957229</td>\n    </tr>\n    <tr>\n      <th>2</th>\n      <td>Unknown</td>\n      <td>181.444444</td>\n    </tr>\n  </tbody>\n</table>\n</div>",
            "text/plain": "              color  avg(duration)\n0   Black and White     112.253589\n1             Color     106.957229\n2           Unknown     181.444444"
          },
          "execution_count": 45,
          "metadata": {},
          "output_type": "execute_result"
        }
      ]
    },
    {
      "metadata": {
        "trusted": true
      },
      "cell_type": "code",
      "source": "conn.execute(\"\"\"\nSELECT POWER(2, duration) FROM movies LIMIT 10;\n\"\"\").fetchall()",
      "execution_count": 52,
      "outputs": [
        {
          "ename": "OperationalError",
          "evalue": "no such function: POWER",
          "output_type": "error",
          "traceback": [
            "\u001b[0;31m---------------------------------------------------------------------------\u001b[0m",
            "\u001b[0;31mOperationalError\u001b[0m                          Traceback (most recent call last)",
            "\u001b[0;32m<ipython-input-52-72e95c05a696>\u001b[0m in \u001b[0;36m<module>\u001b[0;34m()\u001b[0m\n\u001b[1;32m      1\u001b[0m conn.execute(\"\"\"\n\u001b[1;32m      2\u001b[0m \u001b[0mSELECT\u001b[0m \u001b[0mPOWER\u001b[0m\u001b[0;34m(\u001b[0m\u001b[0;36m2\u001b[0m\u001b[0;34m,\u001b[0m \u001b[0mduration\u001b[0m\u001b[0;34m)\u001b[0m \u001b[0mFROM\u001b[0m \u001b[0mmovies\u001b[0m \u001b[0mLIMIT\u001b[0m \u001b[0;36m10\u001b[0m\u001b[0;34m;\u001b[0m\u001b[0;34m\u001b[0m\u001b[0;34m\u001b[0m\u001b[0m\n\u001b[0;32m----> 3\u001b[0;31m \"\"\").fetchall()\n\u001b[0m",
            "\u001b[0;31mOperationalError\u001b[0m: no such function: POWER"
          ]
        }
      ]
    },
    {
      "metadata": {
        "trusted": true
      },
      "cell_type": "code",
      "source": "pd.read_sql(\"\"\"\nSELECT * FROM movies ORDER BY duration DESC LIMIT 10;\n\"\"\", conn)",
      "execution_count": 57,
      "outputs": [
        {
          "data": {
            "text/html": "<div>\n<style scoped>\n    .dataframe tbody tr th:only-of-type {\n        vertical-align: middle;\n    }\n\n    .dataframe tbody tr th {\n        vertical-align: top;\n    }\n\n    .dataframe thead th {\n        text-align: right;\n    }\n</style>\n<table border=\"1\" class=\"dataframe\">\n  <thead>\n    <tr style=\"text-align: right;\">\n      <th></th>\n      <th>index</th>\n      <th>color</th>\n      <th>director_name</th>\n      <th>num_critic_for_reviews</th>\n      <th>duration</th>\n      <th>director_facebook_likes</th>\n      <th>actor_3_facebook_likes</th>\n      <th>actor_2_name</th>\n      <th>actor_1_facebook_likes</th>\n      <th>gross</th>\n      <th>...</th>\n      <th>num_user_for_reviews</th>\n      <th>language</th>\n      <th>country</th>\n      <th>content_rating</th>\n      <th>budget</th>\n      <th>title_year</th>\n      <th>actor_2_facebook_likes</th>\n      <th>imdb_score</th>\n      <th>aspect_ratio</th>\n      <th>movie_facebook_likes</th>\n    </tr>\n  </thead>\n  <tbody>\n    <tr>\n      <th>0</th>\n      <td>1710</td>\n      <td>Color</td>\n      <td>None</td>\n      <td>16.0</td>\n      <td>511.0</td>\n      <td>NaN</td>\n      <td>51.0</td>\n      <td>Ingvar Eggert Sigurðsson</td>\n      <td>147.0</td>\n      <td>NaN</td>\n      <td>...</td>\n      <td>19.0</td>\n      <td>Icelandic</td>\n      <td>Iceland</td>\n      <td>None</td>\n      <td>NaN</td>\n      <td>NaN</td>\n      <td>63.0</td>\n      <td>8.2</td>\n      <td>16.00</td>\n      <td>0</td>\n    </tr>\n    <tr>\n      <th>1</th>\n      <td>2466</td>\n      <td>Color</td>\n      <td>None</td>\n      <td>108.0</td>\n      <td>334.0</td>\n      <td>NaN</td>\n      <td>30.0</td>\n      <td>Nora von Waldstätten</td>\n      <td>897.0</td>\n      <td>145118.0</td>\n      <td>...</td>\n      <td>36.0</td>\n      <td>English</td>\n      <td>France</td>\n      <td>Not Rated</td>\n      <td>NaN</td>\n      <td>NaN</td>\n      <td>30.0</td>\n      <td>7.7</td>\n      <td>2.35</td>\n      <td>0</td>\n    </tr>\n    <tr>\n      <th>2</th>\n      <td>1501</td>\n      <td>Color</td>\n      <td>Taylor Hackford</td>\n      <td>12.0</td>\n      <td>330.0</td>\n      <td>138.0</td>\n      <td>672.0</td>\n      <td>Jesse Borrego</td>\n      <td>848.0</td>\n      <td>4496583.0</td>\n      <td>...</td>\n      <td>129.0</td>\n      <td>English</td>\n      <td>USA</td>\n      <td>R</td>\n      <td>35000000.0</td>\n      <td>1993.0</td>\n      <td>674.0</td>\n      <td>8.0</td>\n      <td>1.66</td>\n      <td>6000</td>\n    </tr>\n    <tr>\n      <th>3</th>\n      <td>1144</td>\n      <td>Color</td>\n      <td>Michael Cimino</td>\n      <td>102.0</td>\n      <td>325.0</td>\n      <td>517.0</td>\n      <td>678.0</td>\n      <td>Sam Waterston</td>\n      <td>12000.0</td>\n      <td>1500000.0</td>\n      <td>...</td>\n      <td>189.0</td>\n      <td>English</td>\n      <td>USA</td>\n      <td>R</td>\n      <td>44000000.0</td>\n      <td>1980.0</td>\n      <td>849.0</td>\n      <td>6.8</td>\n      <td>2.35</td>\n      <td>1000</td>\n    </tr>\n    <tr>\n      <th>4</th>\n      <td>3311</td>\n      <td>Color</td>\n      <td>Chatrichalerm Yukol</td>\n      <td>31.0</td>\n      <td>300.0</td>\n      <td>6.0</td>\n      <td>6.0</td>\n      <td>Chatchai Plengpanich</td>\n      <td>7.0</td>\n      <td>454255.0</td>\n      <td>...</td>\n      <td>47.0</td>\n      <td>Thai</td>\n      <td>Thailand</td>\n      <td>R</td>\n      <td>400000000.0</td>\n      <td>2001.0</td>\n      <td>6.0</td>\n      <td>6.6</td>\n      <td>1.85</td>\n      <td>124</td>\n    </tr>\n    <tr>\n      <th>5</th>\n      <td>2970</td>\n      <td>Color</td>\n      <td>Wolfgang Petersen</td>\n      <td>96.0</td>\n      <td>293.0</td>\n      <td>249.0</td>\n      <td>18.0</td>\n      <td>Martin Semmelrogge</td>\n      <td>362.0</td>\n      <td>11433134.0</td>\n      <td>...</td>\n      <td>426.0</td>\n      <td>German</td>\n      <td>West Germany</td>\n      <td>R</td>\n      <td>14000000.0</td>\n      <td>1981.0</td>\n      <td>21.0</td>\n      <td>8.4</td>\n      <td>1.85</td>\n      <td>11000</td>\n    </tr>\n    <tr>\n      <th>6</th>\n      <td>1571</td>\n      <td>Color</td>\n      <td>Francis Ford Coppola</td>\n      <td>261.0</td>\n      <td>289.0</td>\n      <td>0.0</td>\n      <td>3000.0</td>\n      <td>Marlon Brando</td>\n      <td>11000.0</td>\n      <td>78800000.0</td>\n      <td>...</td>\n      <td>983.0</td>\n      <td>English</td>\n      <td>USA</td>\n      <td>R</td>\n      <td>31500000.0</td>\n      <td>1979.0</td>\n      <td>10000.0</td>\n      <td>8.5</td>\n      <td>2.35</td>\n      <td>19000</td>\n    </tr>\n    <tr>\n      <th>7</th>\n      <td>2727</td>\n      <td>Color</td>\n      <td>None</td>\n      <td>9.0</td>\n      <td>286.0</td>\n      <td>NaN</td>\n      <td>527.0</td>\n      <td>Tom Hollander</td>\n      <td>857.0</td>\n      <td>NaN</td>\n      <td>...</td>\n      <td>39.0</td>\n      <td>English</td>\n      <td>USA</td>\n      <td>None</td>\n      <td>NaN</td>\n      <td>NaN</td>\n      <td>555.0</td>\n      <td>7.9</td>\n      <td>1.78</td>\n      <td>733</td>\n    </tr>\n    <tr>\n      <th>8</th>\n      <td>5020</td>\n      <td>Unknown</td>\n      <td>Brandon Landers</td>\n      <td>NaN</td>\n      <td>286.0</td>\n      <td>8.0</td>\n      <td>8.0</td>\n      <td>Alana Kaniewski</td>\n      <td>720.0</td>\n      <td>NaN</td>\n      <td>...</td>\n      <td>8.0</td>\n      <td>English</td>\n      <td>USA</td>\n      <td>None</td>\n      <td>17350.0</td>\n      <td>2011.0</td>\n      <td>19.0</td>\n      <td>3.0</td>\n      <td>NaN</td>\n      <td>33</td>\n    </tr>\n    <tr>\n      <th>9</th>\n      <td>883</td>\n      <td>Color</td>\n      <td>Ron Maxwell</td>\n      <td>84.0</td>\n      <td>280.0</td>\n      <td>33.0</td>\n      <td>67.0</td>\n      <td>Bruce Boxleitner</td>\n      <td>789.0</td>\n      <td>12870569.0</td>\n      <td>...</td>\n      <td>497.0</td>\n      <td>English</td>\n      <td>USA</td>\n      <td>PG-13</td>\n      <td>56000000.0</td>\n      <td>2003.0</td>\n      <td>640.0</td>\n      <td>6.3</td>\n      <td>2.35</td>\n      <td>953</td>\n    </tr>\n  </tbody>\n</table>\n<p>10 rows × 29 columns</p>\n</div>",
            "text/plain": "   index    color         director_name  num_critic_for_reviews  duration  \\\n0   1710    Color                  None                    16.0     511.0   \n1   2466    Color                  None                   108.0     334.0   \n2   1501    Color       Taylor Hackford                    12.0     330.0   \n3   1144    Color        Michael Cimino                   102.0     325.0   \n4   3311    Color   Chatrichalerm Yukol                    31.0     300.0   \n5   2970    Color     Wolfgang Petersen                    96.0     293.0   \n6   1571    Color  Francis Ford Coppola                   261.0     289.0   \n7   2727    Color                  None                     9.0     286.0   \n8   5020  Unknown       Brandon Landers                     NaN     286.0   \n9    883    Color           Ron Maxwell                    84.0     280.0   \n\n   director_facebook_likes  actor_3_facebook_likes              actor_2_name  \\\n0                      NaN                    51.0  Ingvar Eggert Sigurðsson   \n1                      NaN                    30.0      Nora von Waldstätten   \n2                    138.0                   672.0             Jesse Borrego   \n3                    517.0                   678.0             Sam Waterston   \n4                      6.0                     6.0      Chatchai Plengpanich   \n5                    249.0                    18.0        Martin Semmelrogge   \n6                      0.0                  3000.0             Marlon Brando   \n7                      NaN                   527.0             Tom Hollander   \n8                      8.0                     8.0           Alana Kaniewski   \n9                     33.0                    67.0          Bruce Boxleitner   \n\n   actor_1_facebook_likes       gross  ... num_user_for_reviews   language  \\\n0                   147.0         NaN  ...                 19.0  Icelandic   \n1                   897.0    145118.0  ...                 36.0    English   \n2                   848.0   4496583.0  ...                129.0    English   \n3                 12000.0   1500000.0  ...                189.0    English   \n4                     7.0    454255.0  ...                 47.0       Thai   \n5                   362.0  11433134.0  ...                426.0     German   \n6                 11000.0  78800000.0  ...                983.0    English   \n7                   857.0         NaN  ...                 39.0    English   \n8                   720.0         NaN  ...                  8.0    English   \n9                   789.0  12870569.0  ...                497.0    English   \n\n        country  content_rating       budget title_year  \\\n0       Iceland            None          NaN        NaN   \n1        France       Not Rated          NaN        NaN   \n2           USA               R   35000000.0     1993.0   \n3           USA               R   44000000.0     1980.0   \n4      Thailand               R  400000000.0     2001.0   \n5  West Germany               R   14000000.0     1981.0   \n6           USA               R   31500000.0     1979.0   \n7           USA            None          NaN        NaN   \n8           USA            None      17350.0     2011.0   \n9           USA           PG-13   56000000.0     2003.0   \n\n   actor_2_facebook_likes imdb_score aspect_ratio  movie_facebook_likes  \n0                    63.0        8.2        16.00                     0  \n1                    30.0        7.7         2.35                     0  \n2                   674.0        8.0         1.66                  6000  \n3                   849.0        6.8         2.35                  1000  \n4                     6.0        6.6         1.85                   124  \n5                    21.0        8.4         1.85                 11000  \n6                 10000.0        8.5         2.35                 19000  \n7                   555.0        7.9         1.78                   733  \n8                    19.0        3.0          NaN                    33  \n9                   640.0        6.3         2.35                   953  \n\n[10 rows x 29 columns]"
          },
          "execution_count": 57,
          "metadata": {},
          "output_type": "execute_result"
        }
      ]
    },
    {
      "metadata": {
        "trusted": true
      },
      "cell_type": "code",
      "source": "pd.read_sql(\"\"\"\nSELECT DISTINCT color, director_name FROM movies\n\"\"\", conn)",
      "execution_count": 59,
      "outputs": [
        {
          "data": {
            "text/html": "<div>\n<style scoped>\n    .dataframe tbody tr th:only-of-type {\n        vertical-align: middle;\n    }\n\n    .dataframe tbody tr th {\n        vertical-align: top;\n    }\n\n    .dataframe thead th {\n        text-align: right;\n    }\n</style>\n<table border=\"1\" class=\"dataframe\">\n  <thead>\n    <tr style=\"text-align: right;\">\n      <th></th>\n      <th>color</th>\n      <th>director_name</th>\n    </tr>\n  </thead>\n  <tbody>\n    <tr>\n      <th>0</th>\n      <td>Color</td>\n      <td>Sam Mendes</td>\n    </tr>\n    <tr>\n      <th>1</th>\n      <td>Color</td>\n      <td>Christopher Nolan</td>\n    </tr>\n    <tr>\n      <th>2</th>\n      <td>Unknown</td>\n      <td>Doug Walker</td>\n    </tr>\n    <tr>\n      <th>3</th>\n      <td>Color</td>\n      <td>Andrew Stanton</td>\n    </tr>\n    <tr>\n      <th>4</th>\n      <td>Color</td>\n      <td>Sam Raimi</td>\n    </tr>\n    <tr>\n      <th>...</th>\n      <td>...</td>\n      <td>...</td>\n    </tr>\n    <tr>\n      <th>2505</th>\n      <td>Color</td>\n      <td>Neill Dela Llana</td>\n    </tr>\n    <tr>\n      <th>2506</th>\n      <td>Color</td>\n      <td>Anthony Vallone</td>\n    </tr>\n    <tr>\n      <th>2507</th>\n      <td>Color</td>\n      <td>Scott Smith</td>\n    </tr>\n    <tr>\n      <th>2508</th>\n      <td>Color</td>\n      <td>Benjamin Roberds</td>\n    </tr>\n    <tr>\n      <th>2509</th>\n      <td>Color</td>\n      <td>Daniel Hsia</td>\n    </tr>\n  </tbody>\n</table>\n<p>2510 rows × 2 columns</p>\n</div>",
            "text/plain": "        color      director_name\n0       Color         Sam Mendes\n1       Color  Christopher Nolan\n2     Unknown        Doug Walker\n3       Color     Andrew Stanton\n4       Color          Sam Raimi\n...       ...                ...\n2505    Color   Neill Dela Llana\n2506    Color    Anthony Vallone\n2507    Color        Scott Smith\n2508    Color   Benjamin Roberds\n2509    Color        Daniel Hsia\n\n[2510 rows x 2 columns]"
          },
          "execution_count": 59,
          "metadata": {},
          "output_type": "execute_result"
        }
      ]
    },
    {
      "metadata": {
        "trusted": true
      },
      "cell_type": "code",
      "source": "pd.read_sql(\"\"\"\nSELECT director_name, avg(duration) FROM movies\nGROUP BY director_name\nWHERE avg(duration) < 70\n\"\"\", conn)",
      "execution_count": 62,
      "outputs": [
        {
          "ename": "DatabaseError",
          "evalue": "Execution failed on sql '\nSELECT director_name, avg(duration) FROM movies\nGROUP BY director_name\nWHERE avg(duration) < 70\n': near \"WHERE\": syntax error",
          "output_type": "error",
          "traceback": [
            "\u001b[0;31m---------------------------------------------------------------------------\u001b[0m",
            "\u001b[0;31mOperationalError\u001b[0m                          Traceback (most recent call last)",
            "\u001b[0;32m/usr/local/lib/python3.7/site-packages/pandas/io/sql.py\u001b[0m in \u001b[0;36mexecute\u001b[0;34m(self, *args, **kwargs)\u001b[0m\n\u001b[1;32m   1594\u001b[0m             \u001b[0;32melse\u001b[0m\u001b[0;34m:\u001b[0m\u001b[0;34m\u001b[0m\u001b[0;34m\u001b[0m\u001b[0m\n\u001b[0;32m-> 1595\u001b[0;31m                 \u001b[0mcur\u001b[0m\u001b[0;34m.\u001b[0m\u001b[0mexecute\u001b[0m\u001b[0;34m(\u001b[0m\u001b[0;34m*\u001b[0m\u001b[0margs\u001b[0m\u001b[0;34m)\u001b[0m\u001b[0;34m\u001b[0m\u001b[0;34m\u001b[0m\u001b[0m\n\u001b[0m\u001b[1;32m   1596\u001b[0m             \u001b[0;32mreturn\u001b[0m \u001b[0mcur\u001b[0m\u001b[0;34m\u001b[0m\u001b[0;34m\u001b[0m\u001b[0m\n",
            "\u001b[0;31mOperationalError\u001b[0m: near \"WHERE\": syntax error",
            "\nDuring handling of the above exception, another exception occurred:\n",
            "\u001b[0;31mDatabaseError\u001b[0m                             Traceback (most recent call last)",
            "\u001b[0;32m<ipython-input-62-ffd2bde0f3d2>\u001b[0m in \u001b[0;36m<module>\u001b[0;34m()\u001b[0m\n\u001b[1;32m      3\u001b[0m \u001b[0mGROUP\u001b[0m \u001b[0mBY\u001b[0m \u001b[0mdirector_name\u001b[0m\u001b[0;34m\u001b[0m\u001b[0;34m\u001b[0m\u001b[0m\n\u001b[1;32m      4\u001b[0m \u001b[0mWHERE\u001b[0m \u001b[0mavg\u001b[0m\u001b[0;34m(\u001b[0m\u001b[0mduration\u001b[0m\u001b[0;34m)\u001b[0m \u001b[0;34m<\u001b[0m \u001b[0;36m70\u001b[0m\u001b[0;34m\u001b[0m\u001b[0;34m\u001b[0m\u001b[0m\n\u001b[0;32m----> 5\u001b[0;31m \"\"\", conn)\n\u001b[0m",
            "\u001b[0;32m/usr/local/lib/python3.7/site-packages/pandas/io/sql.py\u001b[0m in \u001b[0;36mread_sql\u001b[0;34m(sql, con, index_col, coerce_float, params, parse_dates, columns, chunksize)\u001b[0m\n\u001b[1;32m    408\u001b[0m             \u001b[0mcoerce_float\u001b[0m\u001b[0;34m=\u001b[0m\u001b[0mcoerce_float\u001b[0m\u001b[0;34m,\u001b[0m\u001b[0;34m\u001b[0m\u001b[0;34m\u001b[0m\u001b[0m\n\u001b[1;32m    409\u001b[0m             \u001b[0mparse_dates\u001b[0m\u001b[0;34m=\u001b[0m\u001b[0mparse_dates\u001b[0m\u001b[0;34m,\u001b[0m\u001b[0;34m\u001b[0m\u001b[0;34m\u001b[0m\u001b[0m\n\u001b[0;32m--> 410\u001b[0;31m             \u001b[0mchunksize\u001b[0m\u001b[0;34m=\u001b[0m\u001b[0mchunksize\u001b[0m\u001b[0;34m,\u001b[0m\u001b[0;34m\u001b[0m\u001b[0;34m\u001b[0m\u001b[0m\n\u001b[0m\u001b[1;32m    411\u001b[0m         )\n\u001b[1;32m    412\u001b[0m \u001b[0;34m\u001b[0m\u001b[0m\n",
            "\u001b[0;32m/usr/local/lib/python3.7/site-packages/pandas/io/sql.py\u001b[0m in \u001b[0;36mread_query\u001b[0;34m(self, sql, index_col, coerce_float, params, parse_dates, chunksize)\u001b[0m\n\u001b[1;32m   1643\u001b[0m \u001b[0;34m\u001b[0m\u001b[0m\n\u001b[1;32m   1644\u001b[0m         \u001b[0margs\u001b[0m \u001b[0;34m=\u001b[0m \u001b[0m_convert_params\u001b[0m\u001b[0;34m(\u001b[0m\u001b[0msql\u001b[0m\u001b[0;34m,\u001b[0m \u001b[0mparams\u001b[0m\u001b[0;34m)\u001b[0m\u001b[0;34m\u001b[0m\u001b[0;34m\u001b[0m\u001b[0m\n\u001b[0;32m-> 1645\u001b[0;31m         \u001b[0mcursor\u001b[0m \u001b[0;34m=\u001b[0m \u001b[0mself\u001b[0m\u001b[0;34m.\u001b[0m\u001b[0mexecute\u001b[0m\u001b[0;34m(\u001b[0m\u001b[0;34m*\u001b[0m\u001b[0margs\u001b[0m\u001b[0;34m)\u001b[0m\u001b[0;34m\u001b[0m\u001b[0;34m\u001b[0m\u001b[0m\n\u001b[0m\u001b[1;32m   1646\u001b[0m         \u001b[0mcolumns\u001b[0m \u001b[0;34m=\u001b[0m \u001b[0;34m[\u001b[0m\u001b[0mcol_desc\u001b[0m\u001b[0;34m[\u001b[0m\u001b[0;36m0\u001b[0m\u001b[0;34m]\u001b[0m \u001b[0;32mfor\u001b[0m \u001b[0mcol_desc\u001b[0m \u001b[0;32min\u001b[0m \u001b[0mcursor\u001b[0m\u001b[0;34m.\u001b[0m\u001b[0mdescription\u001b[0m\u001b[0;34m]\u001b[0m\u001b[0;34m\u001b[0m\u001b[0;34m\u001b[0m\u001b[0m\n\u001b[1;32m   1647\u001b[0m \u001b[0;34m\u001b[0m\u001b[0m\n",
            "\u001b[0;32m/usr/local/lib/python3.7/site-packages/pandas/io/sql.py\u001b[0m in \u001b[0;36mexecute\u001b[0;34m(self, *args, **kwargs)\u001b[0m\n\u001b[1;32m   1608\u001b[0m                 \u001b[0;34m\"Execution failed on sql '{sql}': {exc}\"\u001b[0m\u001b[0;34m.\u001b[0m\u001b[0mformat\u001b[0m\u001b[0;34m(\u001b[0m\u001b[0msql\u001b[0m\u001b[0;34m=\u001b[0m\u001b[0margs\u001b[0m\u001b[0;34m[\u001b[0m\u001b[0;36m0\u001b[0m\u001b[0;34m]\u001b[0m\u001b[0;34m,\u001b[0m \u001b[0mexc\u001b[0m\u001b[0;34m=\u001b[0m\u001b[0mexc\u001b[0m\u001b[0;34m)\u001b[0m\u001b[0;34m\u001b[0m\u001b[0;34m\u001b[0m\u001b[0m\n\u001b[1;32m   1609\u001b[0m             )\n\u001b[0;32m-> 1610\u001b[0;31m             \u001b[0mraise_with_traceback\u001b[0m\u001b[0;34m(\u001b[0m\u001b[0mex\u001b[0m\u001b[0;34m)\u001b[0m\u001b[0;34m\u001b[0m\u001b[0;34m\u001b[0m\u001b[0m\n\u001b[0m\u001b[1;32m   1611\u001b[0m \u001b[0;34m\u001b[0m\u001b[0m\n\u001b[1;32m   1612\u001b[0m     \u001b[0;34m@\u001b[0m\u001b[0mstaticmethod\u001b[0m\u001b[0;34m\u001b[0m\u001b[0;34m\u001b[0m\u001b[0m\n",
            "\u001b[0;32m/usr/local/lib/python3.7/site-packages/pandas/compat/__init__.py\u001b[0m in \u001b[0;36mraise_with_traceback\u001b[0;34m(exc, traceback)\u001b[0m\n\u001b[1;32m     45\u001b[0m     \u001b[0;32mif\u001b[0m \u001b[0mtraceback\u001b[0m \u001b[0;34m==\u001b[0m \u001b[0mEllipsis\u001b[0m\u001b[0;34m:\u001b[0m\u001b[0;34m\u001b[0m\u001b[0;34m\u001b[0m\u001b[0m\n\u001b[1;32m     46\u001b[0m         \u001b[0m_\u001b[0m\u001b[0;34m,\u001b[0m \u001b[0m_\u001b[0m\u001b[0;34m,\u001b[0m \u001b[0mtraceback\u001b[0m \u001b[0;34m=\u001b[0m \u001b[0msys\u001b[0m\u001b[0;34m.\u001b[0m\u001b[0mexc_info\u001b[0m\u001b[0;34m(\u001b[0m\u001b[0;34m)\u001b[0m\u001b[0;34m\u001b[0m\u001b[0;34m\u001b[0m\u001b[0m\n\u001b[0;32m---> 47\u001b[0;31m     \u001b[0;32mraise\u001b[0m \u001b[0mexc\u001b[0m\u001b[0;34m.\u001b[0m\u001b[0mwith_traceback\u001b[0m\u001b[0;34m(\u001b[0m\u001b[0mtraceback\u001b[0m\u001b[0;34m)\u001b[0m\u001b[0;34m\u001b[0m\u001b[0;34m\u001b[0m\u001b[0m\n\u001b[0m\u001b[1;32m     48\u001b[0m \u001b[0;34m\u001b[0m\u001b[0m\n\u001b[1;32m     49\u001b[0m \u001b[0;34m\u001b[0m\u001b[0m\n",
            "\u001b[0;32m/usr/local/lib/python3.7/site-packages/pandas/io/sql.py\u001b[0m in \u001b[0;36mexecute\u001b[0;34m(self, *args, **kwargs)\u001b[0m\n\u001b[1;32m   1593\u001b[0m                 \u001b[0mcur\u001b[0m\u001b[0;34m.\u001b[0m\u001b[0mexecute\u001b[0m\u001b[0;34m(\u001b[0m\u001b[0;34m*\u001b[0m\u001b[0margs\u001b[0m\u001b[0;34m,\u001b[0m \u001b[0;34m**\u001b[0m\u001b[0mkwargs\u001b[0m\u001b[0;34m)\u001b[0m\u001b[0;34m\u001b[0m\u001b[0;34m\u001b[0m\u001b[0m\n\u001b[1;32m   1594\u001b[0m             \u001b[0;32melse\u001b[0m\u001b[0;34m:\u001b[0m\u001b[0;34m\u001b[0m\u001b[0;34m\u001b[0m\u001b[0m\n\u001b[0;32m-> 1595\u001b[0;31m                 \u001b[0mcur\u001b[0m\u001b[0;34m.\u001b[0m\u001b[0mexecute\u001b[0m\u001b[0;34m(\u001b[0m\u001b[0;34m*\u001b[0m\u001b[0margs\u001b[0m\u001b[0;34m)\u001b[0m\u001b[0;34m\u001b[0m\u001b[0;34m\u001b[0m\u001b[0m\n\u001b[0m\u001b[1;32m   1596\u001b[0m             \u001b[0;32mreturn\u001b[0m \u001b[0mcur\u001b[0m\u001b[0;34m\u001b[0m\u001b[0;34m\u001b[0m\u001b[0m\n\u001b[1;32m   1597\u001b[0m         \u001b[0;32mexcept\u001b[0m \u001b[0mException\u001b[0m \u001b[0;32mas\u001b[0m \u001b[0mexc\u001b[0m\u001b[0;34m:\u001b[0m\u001b[0;34m\u001b[0m\u001b[0;34m\u001b[0m\u001b[0m\n",
            "\u001b[0;31mDatabaseError\u001b[0m: Execution failed on sql '\nSELECT director_name, avg(duration) FROM movies\nGROUP BY director_name\nWHERE avg(duration) < 70\n': near \"WHERE\": syntax error"
          ]
        }
      ]
    },
    {
      "metadata": {
        "trusted": true
      },
      "cell_type": "code",
      "source": "pd.read_sql(\"\"\"\nSELECT director_name, avg(duration) as avgdur FROM movies\nGROUP BY director_name\nHAVING avgdur < 70\n\"\"\", conn)",
      "execution_count": 64,
      "outputs": [
        {
          "data": {
            "text/html": "<div>\n<style scoped>\n    .dataframe tbody tr th:only-of-type {\n        vertical-align: middle;\n    }\n\n    .dataframe tbody tr th {\n        vertical-align: top;\n    }\n\n    .dataframe thead th {\n        text-align: right;\n    }\n</style>\n<table border=\"1\" class=\"dataframe\">\n  <thead>\n    <tr style=\"text-align: right;\">\n      <th></th>\n      <th>director_name</th>\n      <th>avgdur</th>\n    </tr>\n  </thead>\n  <tbody>\n    <tr>\n      <th>0</th>\n      <td>None</td>\n      <td>62.0</td>\n    </tr>\n    <tr>\n      <th>1</th>\n      <td>Alex Gibney</td>\n      <td>53.0</td>\n    </tr>\n    <tr>\n      <th>2</th>\n      <td>Amal Al-Agroobi</td>\n      <td>62.0</td>\n    </tr>\n    <tr>\n      <th>3</th>\n      <td>Andrew Leman</td>\n      <td>47.0</td>\n    </tr>\n    <tr>\n      <th>4</th>\n      <td>Barrett Esposito</td>\n      <td>67.0</td>\n    </tr>\n    <tr>\n      <th>5</th>\n      <td>Bill Melendez</td>\n      <td>25.0</td>\n    </tr>\n    <tr>\n      <th>6</th>\n      <td>Chris Marker</td>\n      <td>59.0</td>\n    </tr>\n    <tr>\n      <th>7</th>\n      <td>Christopher Barnard</td>\n      <td>22.0</td>\n    </tr>\n    <tr>\n      <th>8</th>\n      <td>Clark Baker</td>\n      <td>14.0</td>\n    </tr>\n    <tr>\n      <th>9</th>\n      <td>Deborah Anderson</td>\n      <td>66.0</td>\n    </tr>\n    <tr>\n      <th>10</th>\n      <td>Don Kempf</td>\n      <td>46.0</td>\n    </tr>\n    <tr>\n      <th>11</th>\n      <td>Frank Nissen</td>\n      <td>68.0</td>\n    </tr>\n    <tr>\n      <th>12</th>\n      <td>James Bidgood</td>\n      <td>65.0</td>\n    </tr>\n    <tr>\n      <th>13</th>\n      <td>Jane Clark</td>\n      <td>7.0</td>\n    </tr>\n    <tr>\n      <th>14</th>\n      <td>Jason Naumann</td>\n      <td>35.0</td>\n    </tr>\n    <tr>\n      <th>15</th>\n      <td>Jean-Jacques Mantello</td>\n      <td>42.0</td>\n    </tr>\n    <tr>\n      <th>16</th>\n      <td>Jim Chuchu</td>\n      <td>60.0</td>\n    </tr>\n    <tr>\n      <th>17</th>\n      <td>Joe Kenemore</td>\n      <td>52.0</td>\n    </tr>\n    <tr>\n      <th>18</th>\n      <td>John Blanchard</td>\n      <td>65.0</td>\n    </tr>\n    <tr>\n      <th>19</th>\n      <td>John Reinhardt</td>\n      <td>68.0</td>\n    </tr>\n    <tr>\n      <th>20</th>\n      <td>Lowell Sherman</td>\n      <td>66.0</td>\n    </tr>\n    <tr>\n      <th>21</th>\n      <td>Nacho Vigalondo</td>\n      <td>66.0</td>\n    </tr>\n    <tr>\n      <th>22</th>\n      <td>Ole Christian Madsen</td>\n      <td>45.0</td>\n    </tr>\n    <tr>\n      <th>23</th>\n      <td>Richard Rich</td>\n      <td>45.0</td>\n    </tr>\n    <tr>\n      <th>24</th>\n      <td>Robert Greenwald</td>\n      <td>47.5</td>\n    </tr>\n    <tr>\n      <th>25</th>\n      <td>Ronan Chapalain</td>\n      <td>41.0</td>\n    </tr>\n    <tr>\n      <th>26</th>\n      <td>Sam Martin</td>\n      <td>66.0</td>\n    </tr>\n    <tr>\n      <th>27</th>\n      <td>Stephen J. Anderson</td>\n      <td>63.0</td>\n    </tr>\n    <tr>\n      <th>28</th>\n      <td>Travis Romero</td>\n      <td>67.0</td>\n    </tr>\n  </tbody>\n</table>\n</div>",
            "text/plain": "            director_name  avgdur\n0                    None    62.0\n1             Alex Gibney    53.0\n2         Amal Al-Agroobi    62.0\n3            Andrew Leman    47.0\n4        Barrett Esposito    67.0\n5           Bill Melendez    25.0\n6            Chris Marker    59.0\n7     Christopher Barnard    22.0\n8             Clark Baker    14.0\n9        Deborah Anderson    66.0\n10              Don Kempf    46.0\n11           Frank Nissen    68.0\n12          James Bidgood    65.0\n13             Jane Clark     7.0\n14          Jason Naumann    35.0\n15  Jean-Jacques Mantello    42.0\n16             Jim Chuchu    60.0\n17           Joe Kenemore    52.0\n18         John Blanchard    65.0\n19         John Reinhardt    68.0\n20         Lowell Sherman    66.0\n21        Nacho Vigalondo    66.0\n22   Ole Christian Madsen    45.0\n23           Richard Rich    45.0\n24       Robert Greenwald    47.5\n25        Ronan Chapalain    41.0\n26             Sam Martin    66.0\n27    Stephen J. Anderson    63.0\n28          Travis Romero    67.0"
          },
          "execution_count": 64,
          "metadata": {},
          "output_type": "execute_result"
        }
      ]
    },
    {
      "metadata": {
        "trusted": true
      },
      "cell_type": "code",
      "source": "pd.read_sql(\"\"\"\nSELECT director_name, duration as dur FROM movies\nWHERE dur < 100\n\"\"\", conn)",
      "execution_count": 65,
      "outputs": [
        {
          "data": {
            "text/html": "<div>\n<style scoped>\n    .dataframe tbody tr th:only-of-type {\n        vertical-align: middle;\n    }\n\n    .dataframe tbody tr th {\n        vertical-align: top;\n    }\n\n    .dataframe thead th {\n        text-align: right;\n    }\n</style>\n<table border=\"1\" class=\"dataframe\">\n  <thead>\n    <tr style=\"text-align: right;\">\n      <th></th>\n      <th>director_name</th>\n      <th>dur</th>\n    </tr>\n  </thead>\n  <tbody>\n    <tr>\n      <th>0</th>\n      <td>Peter Sohn</td>\n      <td>93.0</td>\n    </tr>\n    <tr>\n      <th>1</th>\n      <td>Mark Andrews</td>\n      <td>93.0</td>\n    </tr>\n    <tr>\n      <th>2</th>\n      <td>Andrew Stanton</td>\n      <td>98.0</td>\n    </tr>\n    <tr>\n      <th>3</th>\n      <td>Brett Ratner</td>\n      <td>91.0</td>\n    </tr>\n    <tr>\n      <th>4</th>\n      <td>Robert Zemeckis</td>\n      <td>96.0</td>\n    </tr>\n    <tr>\n      <th>...</th>\n      <td>...</td>\n      <td>...</td>\n    </tr>\n    <tr>\n      <th>2033</th>\n      <td>Edward Burns</td>\n      <td>95.0</td>\n    </tr>\n    <tr>\n      <th>2034</th>\n      <td>Scott Smith</td>\n      <td>87.0</td>\n    </tr>\n    <tr>\n      <th>2035</th>\n      <td>None</td>\n      <td>43.0</td>\n    </tr>\n    <tr>\n      <th>2036</th>\n      <td>Benjamin Roberds</td>\n      <td>76.0</td>\n    </tr>\n    <tr>\n      <th>2037</th>\n      <td>Jon Gunn</td>\n      <td>90.0</td>\n    </tr>\n  </tbody>\n</table>\n<p>2038 rows × 2 columns</p>\n</div>",
            "text/plain": "         director_name   dur\n0           Peter Sohn  93.0\n1         Mark Andrews  93.0\n2       Andrew Stanton  98.0\n3         Brett Ratner  91.0\n4      Robert Zemeckis  96.0\n...                ...   ...\n2033      Edward Burns  95.0\n2034       Scott Smith  87.0\n2035              None  43.0\n2036  Benjamin Roberds  76.0\n2037          Jon Gunn  90.0\n\n[2038 rows x 2 columns]"
          },
          "execution_count": 65,
          "metadata": {},
          "output_type": "execute_result"
        }
      ]
    },
    {
      "metadata": {
        "trusted": true
      },
      "cell_type": "code",
      "source": "pd.read_sql(\"\"\"\nSELECT count(*) - count(color) FROM movies\n\"\"\", conn)",
      "execution_count": 75,
      "outputs": [
        {
          "data": {
            "text/html": "<div>\n<style scoped>\n    .dataframe tbody tr th:only-of-type {\n        vertical-align: middle;\n    }\n\n    .dataframe tbody tr th {\n        vertical-align: top;\n    }\n\n    .dataframe thead th {\n        text-align: right;\n    }\n</style>\n<table border=\"1\" class=\"dataframe\">\n  <thead>\n    <tr style=\"text-align: right;\">\n      <th></th>\n      <th>count(*) - count(color)</th>\n    </tr>\n  </thead>\n  <tbody>\n    <tr>\n      <th>0</th>\n      <td>19</td>\n    </tr>\n  </tbody>\n</table>\n</div>",
            "text/plain": "   count(*) - count(color)\n0                       19"
          },
          "execution_count": 75,
          "metadata": {},
          "output_type": "execute_result"
        }
      ]
    },
    {
      "metadata": {
        "trusted": true
      },
      "cell_type": "code",
      "source": "pd.read_sql(\"\"\"\nSELECT count(color) FROM movies\n\"\"\", conn)",
      "execution_count": 74,
      "outputs": [
        {
          "data": {
            "text/html": "<div>\n<style scoped>\n    .dataframe tbody tr th:only-of-type {\n        vertical-align: middle;\n    }\n\n    .dataframe tbody tr th {\n        vertical-align: top;\n    }\n\n    .dataframe thead th {\n        text-align: right;\n    }\n</style>\n<table border=\"1\" class=\"dataframe\">\n  <thead>\n    <tr style=\"text-align: right;\">\n      <th></th>\n      <th>count(color)</th>\n    </tr>\n  </thead>\n  <tbody>\n    <tr>\n      <th>0</th>\n      <td>5017</td>\n    </tr>\n  </tbody>\n</table>\n</div>",
            "text/plain": "   count(color)\n0          5017"
          },
          "execution_count": 74,
          "metadata": {},
          "output_type": "execute_result"
        }
      ]
    },
    {
      "metadata": {
        "trusted": true
      },
      "cell_type": "code",
      "source": "pd.read_sql(\"\"\"\nSELECT count(*) FROM movies WHERE color is NULL\n\"\"\", conn)",
      "execution_count": 79,
      "outputs": [
        {
          "data": {
            "text/html": "<div>\n<style scoped>\n    .dataframe tbody tr th:only-of-type {\n        vertical-align: middle;\n    }\n\n    .dataframe tbody tr th {\n        vertical-align: top;\n    }\n\n    .dataframe thead th {\n        text-align: right;\n    }\n</style>\n<table border=\"1\" class=\"dataframe\">\n  <thead>\n    <tr style=\"text-align: right;\">\n      <th></th>\n      <th>count(*)</th>\n    </tr>\n  </thead>\n  <tbody>\n    <tr>\n      <th>0</th>\n      <td>19</td>\n    </tr>\n  </tbody>\n</table>\n</div>",
            "text/plain": "   count(*)\n0        19"
          },
          "execution_count": 79,
          "metadata": {},
          "output_type": "execute_result"
        }
      ]
    },
    {
      "metadata": {
        "trusted": true
      },
      "cell_type": "code",
      "source": "c.execute(\"\"\"\nALTER TABLE movies ADD my_rating INTEGER;\n\"\"\")",
      "execution_count": 80,
      "outputs": [
        {
          "data": {
            "text/plain": "<sqlite3.Cursor at 0x10bf04b90>"
          },
          "execution_count": 80,
          "metadata": {},
          "output_type": "execute_result"
        }
      ]
    },
    {
      "metadata": {
        "trusted": true
      },
      "cell_type": "code",
      "source": "pd.read_sql(\"\"\"\nSELECT * FROM movies LIMIT 10\n\"\"\", conn)",
      "execution_count": 81,
      "outputs": [
        {
          "data": {
            "text/html": "<div>\n<style scoped>\n    .dataframe tbody tr th:only-of-type {\n        vertical-align: middle;\n    }\n\n    .dataframe tbody tr th {\n        vertical-align: top;\n    }\n\n    .dataframe thead th {\n        text-align: right;\n    }\n</style>\n<table border=\"1\" class=\"dataframe\">\n  <thead>\n    <tr style=\"text-align: right;\">\n      <th></th>\n      <th>index</th>\n      <th>color</th>\n      <th>director_name</th>\n      <th>num_critic_for_reviews</th>\n      <th>duration</th>\n      <th>director_facebook_likes</th>\n      <th>actor_3_facebook_likes</th>\n      <th>actor_2_name</th>\n      <th>actor_1_facebook_likes</th>\n      <th>gross</th>\n      <th>...</th>\n      <th>language</th>\n      <th>country</th>\n      <th>content_rating</th>\n      <th>budget</th>\n      <th>title_year</th>\n      <th>actor_2_facebook_likes</th>\n      <th>imdb_score</th>\n      <th>aspect_ratio</th>\n      <th>movie_facebook_likes</th>\n      <th>my_rating</th>\n    </tr>\n  </thead>\n  <tbody>\n    <tr>\n      <th>0</th>\n      <td>1</td>\n      <td>Color</td>\n      <td>Gore Verbinski</td>\n      <td>302.0</td>\n      <td>169.0</td>\n      <td>563.0</td>\n      <td>1000.0</td>\n      <td>Orlando Bloom</td>\n      <td>40000.0</td>\n      <td>309404152.0</td>\n      <td>...</td>\n      <td>English</td>\n      <td>USA</td>\n      <td>PG-13</td>\n      <td>300000000.0</td>\n      <td>2007.0</td>\n      <td>5000.0</td>\n      <td>7.1</td>\n      <td>2.35</td>\n      <td>0</td>\n      <td>None</td>\n    </tr>\n    <tr>\n      <th>1</th>\n      <td>2</td>\n      <td>Color</td>\n      <td>Sam Mendes</td>\n      <td>602.0</td>\n      <td>148.0</td>\n      <td>0.0</td>\n      <td>161.0</td>\n      <td>Rory Kinnear</td>\n      <td>11000.0</td>\n      <td>200074175.0</td>\n      <td>...</td>\n      <td>English</td>\n      <td>UK</td>\n      <td>PG-13</td>\n      <td>245000000.0</td>\n      <td>2015.0</td>\n      <td>393.0</td>\n      <td>6.8</td>\n      <td>2.35</td>\n      <td>85000</td>\n      <td>None</td>\n    </tr>\n    <tr>\n      <th>2</th>\n      <td>3</td>\n      <td>Color</td>\n      <td>Christopher Nolan</td>\n      <td>813.0</td>\n      <td>164.0</td>\n      <td>22000.0</td>\n      <td>23000.0</td>\n      <td>Christian Bale</td>\n      <td>27000.0</td>\n      <td>448130642.0</td>\n      <td>...</td>\n      <td>English</td>\n      <td>USA</td>\n      <td>PG-13</td>\n      <td>250000000.0</td>\n      <td>2012.0</td>\n      <td>23000.0</td>\n      <td>8.5</td>\n      <td>2.35</td>\n      <td>164000</td>\n      <td>None</td>\n    </tr>\n    <tr>\n      <th>3</th>\n      <td>4</td>\n      <td>None</td>\n      <td>Doug Walker</td>\n      <td>NaN</td>\n      <td>NaN</td>\n      <td>131.0</td>\n      <td>NaN</td>\n      <td>Rob Walker</td>\n      <td>131.0</td>\n      <td>NaN</td>\n      <td>...</td>\n      <td>None</td>\n      <td>None</td>\n      <td>None</td>\n      <td>NaN</td>\n      <td>NaN</td>\n      <td>12.0</td>\n      <td>7.1</td>\n      <td>NaN</td>\n      <td>0</td>\n      <td>None</td>\n    </tr>\n    <tr>\n      <th>4</th>\n      <td>5</td>\n      <td>Color</td>\n      <td>Andrew Stanton</td>\n      <td>462.0</td>\n      <td>132.0</td>\n      <td>475.0</td>\n      <td>530.0</td>\n      <td>Samantha Morton</td>\n      <td>640.0</td>\n      <td>73058679.0</td>\n      <td>...</td>\n      <td>English</td>\n      <td>USA</td>\n      <td>PG-13</td>\n      <td>263700000.0</td>\n      <td>2012.0</td>\n      <td>632.0</td>\n      <td>6.6</td>\n      <td>2.35</td>\n      <td>24000</td>\n      <td>None</td>\n    </tr>\n    <tr>\n      <th>5</th>\n      <td>6</td>\n      <td>Color</td>\n      <td>Sam Raimi</td>\n      <td>392.0</td>\n      <td>156.0</td>\n      <td>0.0</td>\n      <td>4000.0</td>\n      <td>James Franco</td>\n      <td>24000.0</td>\n      <td>336530303.0</td>\n      <td>...</td>\n      <td>English</td>\n      <td>USA</td>\n      <td>PG-13</td>\n      <td>258000000.0</td>\n      <td>2007.0</td>\n      <td>11000.0</td>\n      <td>6.2</td>\n      <td>2.35</td>\n      <td>0</td>\n      <td>None</td>\n    </tr>\n    <tr>\n      <th>6</th>\n      <td>7</td>\n      <td>Color</td>\n      <td>Nathan Greno</td>\n      <td>324.0</td>\n      <td>100.0</td>\n      <td>15.0</td>\n      <td>284.0</td>\n      <td>Donna Murphy</td>\n      <td>799.0</td>\n      <td>200807262.0</td>\n      <td>...</td>\n      <td>English</td>\n      <td>USA</td>\n      <td>PG</td>\n      <td>260000000.0</td>\n      <td>2010.0</td>\n      <td>553.0</td>\n      <td>7.8</td>\n      <td>1.85</td>\n      <td>29000</td>\n      <td>None</td>\n    </tr>\n    <tr>\n      <th>7</th>\n      <td>8</td>\n      <td>Color</td>\n      <td>Joss Whedon</td>\n      <td>635.0</td>\n      <td>141.0</td>\n      <td>0.0</td>\n      <td>19000.0</td>\n      <td>Robert Downey Jr.</td>\n      <td>26000.0</td>\n      <td>458991599.0</td>\n      <td>...</td>\n      <td>English</td>\n      <td>USA</td>\n      <td>PG-13</td>\n      <td>250000000.0</td>\n      <td>2015.0</td>\n      <td>21000.0</td>\n      <td>7.5</td>\n      <td>2.35</td>\n      <td>118000</td>\n      <td>None</td>\n    </tr>\n    <tr>\n      <th>8</th>\n      <td>9</td>\n      <td>Color</td>\n      <td>David Yates</td>\n      <td>375.0</td>\n      <td>153.0</td>\n      <td>282.0</td>\n      <td>10000.0</td>\n      <td>Daniel Radcliffe</td>\n      <td>25000.0</td>\n      <td>301956980.0</td>\n      <td>...</td>\n      <td>English</td>\n      <td>UK</td>\n      <td>PG</td>\n      <td>250000000.0</td>\n      <td>2009.0</td>\n      <td>11000.0</td>\n      <td>7.5</td>\n      <td>2.35</td>\n      <td>10000</td>\n      <td>None</td>\n    </tr>\n    <tr>\n      <th>9</th>\n      <td>10</td>\n      <td>Color</td>\n      <td>Zack Snyder</td>\n      <td>673.0</td>\n      <td>183.0</td>\n      <td>0.0</td>\n      <td>2000.0</td>\n      <td>Lauren Cohan</td>\n      <td>15000.0</td>\n      <td>330249062.0</td>\n      <td>...</td>\n      <td>English</td>\n      <td>USA</td>\n      <td>PG-13</td>\n      <td>250000000.0</td>\n      <td>2016.0</td>\n      <td>4000.0</td>\n      <td>6.9</td>\n      <td>2.35</td>\n      <td>197000</td>\n      <td>None</td>\n    </tr>\n  </tbody>\n</table>\n<p>10 rows × 30 columns</p>\n</div>",
            "text/plain": "   index  color      director_name  num_critic_for_reviews  duration  \\\n0      1  Color     Gore Verbinski                   302.0     169.0   \n1      2  Color         Sam Mendes                   602.0     148.0   \n2      3  Color  Christopher Nolan                   813.0     164.0   \n3      4   None        Doug Walker                     NaN       NaN   \n4      5  Color     Andrew Stanton                   462.0     132.0   \n5      6  Color          Sam Raimi                   392.0     156.0   \n6      7  Color       Nathan Greno                   324.0     100.0   \n7      8  Color        Joss Whedon                   635.0     141.0   \n8      9  Color        David Yates                   375.0     153.0   \n9     10  Color        Zack Snyder                   673.0     183.0   \n\n   director_facebook_likes  actor_3_facebook_likes       actor_2_name  \\\n0                    563.0                  1000.0      Orlando Bloom   \n1                      0.0                   161.0       Rory Kinnear   \n2                  22000.0                 23000.0     Christian Bale   \n3                    131.0                     NaN         Rob Walker   \n4                    475.0                   530.0    Samantha Morton   \n5                      0.0                  4000.0       James Franco   \n6                     15.0                   284.0       Donna Murphy   \n7                      0.0                 19000.0  Robert Downey Jr.   \n8                    282.0                 10000.0   Daniel Radcliffe   \n9                      0.0                  2000.0       Lauren Cohan   \n\n   actor_1_facebook_likes        gross  ... language country content_rating  \\\n0                 40000.0  309404152.0  ...  English     USA          PG-13   \n1                 11000.0  200074175.0  ...  English      UK          PG-13   \n2                 27000.0  448130642.0  ...  English     USA          PG-13   \n3                   131.0          NaN  ...     None    None           None   \n4                   640.0   73058679.0  ...  English     USA          PG-13   \n5                 24000.0  336530303.0  ...  English     USA          PG-13   \n6                   799.0  200807262.0  ...  English     USA             PG   \n7                 26000.0  458991599.0  ...  English     USA          PG-13   \n8                 25000.0  301956980.0  ...  English      UK             PG   \n9                 15000.0  330249062.0  ...  English     USA          PG-13   \n\n        budget  title_year actor_2_facebook_likes  imdb_score aspect_ratio  \\\n0  300000000.0      2007.0                 5000.0         7.1         2.35   \n1  245000000.0      2015.0                  393.0         6.8         2.35   \n2  250000000.0      2012.0                23000.0         8.5         2.35   \n3          NaN         NaN                   12.0         7.1          NaN   \n4  263700000.0      2012.0                  632.0         6.6         2.35   \n5  258000000.0      2007.0                11000.0         6.2         2.35   \n6  260000000.0      2010.0                  553.0         7.8         1.85   \n7  250000000.0      2015.0                21000.0         7.5         2.35   \n8  250000000.0      2009.0                11000.0         7.5         2.35   \n9  250000000.0      2016.0                 4000.0         6.9         2.35   \n\n  movie_facebook_likes  my_rating  \n0                    0       None  \n1                85000       None  \n2               164000       None  \n3                    0       None  \n4                24000       None  \n5                    0       None  \n6                29000       None  \n7               118000       None  \n8                10000       None  \n9               197000       None  \n\n[10 rows x 30 columns]"
          },
          "execution_count": 81,
          "metadata": {},
          "output_type": "execute_result"
        }
      ]
    },
    {
      "metadata": {
        "trusted": true
      },
      "cell_type": "code",
      "source": "",
      "execution_count": null,
      "outputs": []
    }
  ],
  "metadata": {
    "kernelspec": {
      "name": "python3",
      "display_name": "Python 3",
      "language": "python"
    },
    "language_info": {
      "name": "python",
      "version": "3.7.2",
      "mimetype": "text/x-python",
      "codemirror_mode": {
        "name": "ipython",
        "version": 3
      },
      "pygments_lexer": "ipython3",
      "nbconvert_exporter": "python",
      "file_extension": ".py"
    },
    "gist": {
      "id": "",
      "data": {
        "description": "Lecture 23.ipynb",
        "public": false
      }
    }
  },
  "nbformat": 4,
  "nbformat_minor": 2
}