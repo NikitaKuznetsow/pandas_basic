{
  "cells": [
    {
      "metadata": {
        "trusted": true
      },
      "cell_type": "code",
      "source": "import requests\nr = requests.get(\"http://math-info.hse.ru/f/2018-19/nes-ds/gradebook.sqlite\")\nwith open(\"gradebook.sqlite\", \"wb\") as f:\n    f.write(r.content)",
      "execution_count": 1,
      "outputs": []
    },
    {
      "metadata": {
        "trusted": true
      },
      "cell_type": "code",
      "source": "import sqlite3",
      "execution_count": 3,
      "outputs": []
    },
    {
      "metadata": {
        "trusted": true
      },
      "cell_type": "code",
      "source": "conn = sqlite3.connect(\"gradebook.sqlite\")",
      "execution_count": 4,
      "outputs": []
    },
    {
      "metadata": {
        "trusted": true
      },
      "cell_type": "code",
      "source": "c = conn.cursor()",
      "execution_count": 5,
      "outputs": []
    },
    {
      "metadata": {
        "trusted": true
      },
      "cell_type": "code",
      "source": "import pandas as pd",
      "execution_count": 6,
      "outputs": []
    },
    {
      "metadata": {
        "trusted": true
      },
      "cell_type": "code",
      "source": "pd.read_sql(\"\"\"\nSELECT name FROM sqlite_master WHERE type='table';\n\"\"\", conn)",
      "execution_count": 10,
      "outputs": [
        {
          "output_type": "execute_result",
          "execution_count": 10,
          "data": {
            "text/plain": "          name\n0      courses\n1  submissions\n2        users\n3  course_user\n4  assignments",
            "text/html": "<div>\n<style scoped>\n    .dataframe tbody tr th:only-of-type {\n        vertical-align: middle;\n    }\n\n    .dataframe tbody tr th {\n        vertical-align: top;\n    }\n\n    .dataframe thead th {\n        text-align: right;\n    }\n</style>\n<table border=\"1\" class=\"dataframe\">\n  <thead>\n    <tr style=\"text-align: right;\">\n      <th></th>\n      <th>name</th>\n    </tr>\n  </thead>\n  <tbody>\n    <tr>\n      <th>0</th>\n      <td>courses</td>\n    </tr>\n    <tr>\n      <th>1</th>\n      <td>submissions</td>\n    </tr>\n    <tr>\n      <th>2</th>\n      <td>users</td>\n    </tr>\n    <tr>\n      <th>3</th>\n      <td>course_user</td>\n    </tr>\n    <tr>\n      <th>4</th>\n      <td>assignments</td>\n    </tr>\n  </tbody>\n</table>\n</div>"
          },
          "metadata": {}
        }
      ]
    },
    {
      "metadata": {
        "trusted": true
      },
      "cell_type": "code",
      "source": "def rs(sql):\n    return pd.read_sql(sql, conn)",
      "execution_count": 11,
      "outputs": []
    },
    {
      "metadata": {
        "trusted": true
      },
      "cell_type": "code",
      "source": "rs(\"\"\"\nPRAGMA table_info(courses)\n\"\"\")",
      "execution_count": 12,
      "outputs": [
        {
          "output_type": "execute_result",
          "execution_count": 12,
          "data": {
            "text/plain": "   cid    name     type  notnull dflt_value  pk\n0    0      id  INTEGER        0       None   0\n1    1    code     TEXT        0       None   0\n2    2    year  INTEGER        0       None   0\n3    3  active  INTEGER        0       None   0",
            "text/html": "<div>\n<style scoped>\n    .dataframe tbody tr th:only-of-type {\n        vertical-align: middle;\n    }\n\n    .dataframe tbody tr th {\n        vertical-align: top;\n    }\n\n    .dataframe thead th {\n        text-align: right;\n    }\n</style>\n<table border=\"1\" class=\"dataframe\">\n  <thead>\n    <tr style=\"text-align: right;\">\n      <th></th>\n      <th>cid</th>\n      <th>name</th>\n      <th>type</th>\n      <th>notnull</th>\n      <th>dflt_value</th>\n      <th>pk</th>\n    </tr>\n  </thead>\n  <tbody>\n    <tr>\n      <th>0</th>\n      <td>0</td>\n      <td>id</td>\n      <td>INTEGER</td>\n      <td>0</td>\n      <td>None</td>\n      <td>0</td>\n    </tr>\n    <tr>\n      <th>1</th>\n      <td>1</td>\n      <td>code</td>\n      <td>TEXT</td>\n      <td>0</td>\n      <td>None</td>\n      <td>0</td>\n    </tr>\n    <tr>\n      <th>2</th>\n      <td>2</td>\n      <td>year</td>\n      <td>INTEGER</td>\n      <td>0</td>\n      <td>None</td>\n      <td>0</td>\n    </tr>\n    <tr>\n      <th>3</th>\n      <td>3</td>\n      <td>active</td>\n      <td>INTEGER</td>\n      <td>0</td>\n      <td>None</td>\n      <td>0</td>\n    </tr>\n  </tbody>\n</table>\n</div>"
          },
          "metadata": {}
        }
      ]
    },
    {
      "metadata": {
        "trusted": true
      },
      "cell_type": "code",
      "source": "rs(\"\"\"\nSELECT * FROM courses\n\"\"\")",
      "execution_count": 13,
      "outputs": [
        {
          "output_type": "execute_result",
          "execution_count": 13,
          "data": {
            "text/plain": "   id         code  year  active\n0   1       nes-ds  2017       0\n1   2       nes-ds  2018       1\n2   3      dj-prog  2018       1\n3   4   python-all  2015       0\n4   5  python-icef  2018       1",
            "text/html": "<div>\n<style scoped>\n    .dataframe tbody tr th:only-of-type {\n        vertical-align: middle;\n    }\n\n    .dataframe tbody tr th {\n        vertical-align: top;\n    }\n\n    .dataframe thead th {\n        text-align: right;\n    }\n</style>\n<table border=\"1\" class=\"dataframe\">\n  <thead>\n    <tr style=\"text-align: right;\">\n      <th></th>\n      <th>id</th>\n      <th>code</th>\n      <th>year</th>\n      <th>active</th>\n    </tr>\n  </thead>\n  <tbody>\n    <tr>\n      <th>0</th>\n      <td>1</td>\n      <td>nes-ds</td>\n      <td>2017</td>\n      <td>0</td>\n    </tr>\n    <tr>\n      <th>1</th>\n      <td>2</td>\n      <td>nes-ds</td>\n      <td>2018</td>\n      <td>1</td>\n    </tr>\n    <tr>\n      <th>2</th>\n      <td>3</td>\n      <td>dj-prog</td>\n      <td>2018</td>\n      <td>1</td>\n    </tr>\n    <tr>\n      <th>3</th>\n      <td>4</td>\n      <td>python-all</td>\n      <td>2015</td>\n      <td>0</td>\n    </tr>\n    <tr>\n      <th>4</th>\n      <td>5</td>\n      <td>python-icef</td>\n      <td>2018</td>\n      <td>1</td>\n    </tr>\n  </tbody>\n</table>\n</div>"
          },
          "metadata": {}
        }
      ]
    },
    {
      "metadata": {
        "trusted": true
      },
      "cell_type": "code",
      "source": "rs(\"\"\"\nSELECT * FROM submissions LIMIT 10\n\"\"\")",
      "execution_count": 16,
      "outputs": [
        {
          "output_type": "execute_result",
          "execution_count": 16,
          "data": {
            "text/plain": "   id  assignment_id  user_id  grade\n0   1              1        1    6.0\n1   2              2        1    5.0\n2   3              3        1    NaN\n3   4              2        2    3.0\n4   5              3        2    2.0\n5   6              4        3   10.0\n6   7              2        3   23.0\n7   8              4        3   15.0\n8   9              5        4    4.0\n9  10              4        4    5.0",
            "text/html": "<div>\n<style scoped>\n    .dataframe tbody tr th:only-of-type {\n        vertical-align: middle;\n    }\n\n    .dataframe tbody tr th {\n        vertical-align: top;\n    }\n\n    .dataframe thead th {\n        text-align: right;\n    }\n</style>\n<table border=\"1\" class=\"dataframe\">\n  <thead>\n    <tr style=\"text-align: right;\">\n      <th></th>\n      <th>id</th>\n      <th>assignment_id</th>\n      <th>user_id</th>\n      <th>grade</th>\n    </tr>\n  </thead>\n  <tbody>\n    <tr>\n      <th>0</th>\n      <td>1</td>\n      <td>1</td>\n      <td>1</td>\n      <td>6.0</td>\n    </tr>\n    <tr>\n      <th>1</th>\n      <td>2</td>\n      <td>2</td>\n      <td>1</td>\n      <td>5.0</td>\n    </tr>\n    <tr>\n      <th>2</th>\n      <td>3</td>\n      <td>3</td>\n      <td>1</td>\n      <td>NaN</td>\n    </tr>\n    <tr>\n      <th>3</th>\n      <td>4</td>\n      <td>2</td>\n      <td>2</td>\n      <td>3.0</td>\n    </tr>\n    <tr>\n      <th>4</th>\n      <td>5</td>\n      <td>3</td>\n      <td>2</td>\n      <td>2.0</td>\n    </tr>\n    <tr>\n      <th>5</th>\n      <td>6</td>\n      <td>4</td>\n      <td>3</td>\n      <td>10.0</td>\n    </tr>\n    <tr>\n      <th>6</th>\n      <td>7</td>\n      <td>2</td>\n      <td>3</td>\n      <td>23.0</td>\n    </tr>\n    <tr>\n      <th>7</th>\n      <td>8</td>\n      <td>4</td>\n      <td>3</td>\n      <td>15.0</td>\n    </tr>\n    <tr>\n      <th>8</th>\n      <td>9</td>\n      <td>5</td>\n      <td>4</td>\n      <td>4.0</td>\n    </tr>\n    <tr>\n      <th>9</th>\n      <td>10</td>\n      <td>4</td>\n      <td>4</td>\n      <td>5.0</td>\n    </tr>\n  </tbody>\n</table>\n</div>"
          },
          "metadata": {}
        }
      ]
    },
    {
      "metadata": {
        "trusted": true
      },
      "cell_type": "code",
      "source": "rs(\"\"\"\nSELECT * FROM assignments LIMIT 10\n\"\"\")",
      "execution_count": 17,
      "outputs": [
        {
          "output_type": "execute_result",
          "execution_count": 17,
          "data": {
            "text/plain": "   id  course_id  code               name  max_grade\n0   1          1  ps01    Intro to Python         10\n1   2          2  ps01              Intro         12\n2   3          2  ps02          Functions          8\n3   4          1  ps01     Python, part 1         22\n4   5          2  ps03             Pandas         10\n5   6          3  ps03            Classes         15\n6   7          2  ps04    Advanced Python         32\n7   8          3  ps01       Introduction         10\n8   9          4  ps01        First class          7\n9  10          5  ps01  Welcome to Python          8",
            "text/html": "<div>\n<style scoped>\n    .dataframe tbody tr th:only-of-type {\n        vertical-align: middle;\n    }\n\n    .dataframe tbody tr th {\n        vertical-align: top;\n    }\n\n    .dataframe thead th {\n        text-align: right;\n    }\n</style>\n<table border=\"1\" class=\"dataframe\">\n  <thead>\n    <tr style=\"text-align: right;\">\n      <th></th>\n      <th>id</th>\n      <th>course_id</th>\n      <th>code</th>\n      <th>name</th>\n      <th>max_grade</th>\n    </tr>\n  </thead>\n  <tbody>\n    <tr>\n      <th>0</th>\n      <td>1</td>\n      <td>1</td>\n      <td>ps01</td>\n      <td>Intro to Python</td>\n      <td>10</td>\n    </tr>\n    <tr>\n      <th>1</th>\n      <td>2</td>\n      <td>2</td>\n      <td>ps01</td>\n      <td>Intro</td>\n      <td>12</td>\n    </tr>\n    <tr>\n      <th>2</th>\n      <td>3</td>\n      <td>2</td>\n      <td>ps02</td>\n      <td>Functions</td>\n      <td>8</td>\n    </tr>\n    <tr>\n      <th>3</th>\n      <td>4</td>\n      <td>1</td>\n      <td>ps01</td>\n      <td>Python, part 1</td>\n      <td>22</td>\n    </tr>\n    <tr>\n      <th>4</th>\n      <td>5</td>\n      <td>2</td>\n      <td>ps03</td>\n      <td>Pandas</td>\n      <td>10</td>\n    </tr>\n    <tr>\n      <th>5</th>\n      <td>6</td>\n      <td>3</td>\n      <td>ps03</td>\n      <td>Classes</td>\n      <td>15</td>\n    </tr>\n    <tr>\n      <th>6</th>\n      <td>7</td>\n      <td>2</td>\n      <td>ps04</td>\n      <td>Advanced Python</td>\n      <td>32</td>\n    </tr>\n    <tr>\n      <th>7</th>\n      <td>8</td>\n      <td>3</td>\n      <td>ps01</td>\n      <td>Introduction</td>\n      <td>10</td>\n    </tr>\n    <tr>\n      <th>8</th>\n      <td>9</td>\n      <td>4</td>\n      <td>ps01</td>\n      <td>First class</td>\n      <td>7</td>\n    </tr>\n    <tr>\n      <th>9</th>\n      <td>10</td>\n      <td>5</td>\n      <td>ps01</td>\n      <td>Welcome to Python</td>\n      <td>8</td>\n    </tr>\n  </tbody>\n</table>\n</div>"
          },
          "metadata": {}
        }
      ]
    },
    {
      "metadata": {
        "trusted": true
      },
      "cell_type": "code",
      "source": "rs(\"\"\"\nSELECT * FROM users LIMIT 10\n\"\"\")",
      "execution_count": 18,
      "outputs": [
        {
          "output_type": "execute_result",
          "execution_count": 18,
          "data": {
            "text/plain": "   id first_name  last_name                          email\n0   1     Eddard      Stark        ned@winterfell.north.7k\n1   2        Jon       Snow      jsnow@winterfell.north.7k\n2   3       Arya      Stark       arya@winterfell.north.7k\n3   4     Tyrion  Lannister  hand-of-a-queen@dragons.rules\n4   5     Cersei  Lannister           queen@iron-throne.7k\n5   6      Sansa      Stark       lady@winterfell.north.7k\n6   7   Daenerys  Targaryen            queen@dragons.rules\n7   8    Samwell      Tarly             samwell@citadel.7k\n8   9    Brienne       None               brienne@tarth.7k\n9  10    Ygritte       None     ygritte@wildlings.north.7k",
            "text/html": "<div>\n<style scoped>\n    .dataframe tbody tr th:only-of-type {\n        vertical-align: middle;\n    }\n\n    .dataframe tbody tr th {\n        vertical-align: top;\n    }\n\n    .dataframe thead th {\n        text-align: right;\n    }\n</style>\n<table border=\"1\" class=\"dataframe\">\n  <thead>\n    <tr style=\"text-align: right;\">\n      <th></th>\n      <th>id</th>\n      <th>first_name</th>\n      <th>last_name</th>\n      <th>email</th>\n    </tr>\n  </thead>\n  <tbody>\n    <tr>\n      <th>0</th>\n      <td>1</td>\n      <td>Eddard</td>\n      <td>Stark</td>\n      <td>ned@winterfell.north.7k</td>\n    </tr>\n    <tr>\n      <th>1</th>\n      <td>2</td>\n      <td>Jon</td>\n      <td>Snow</td>\n      <td>jsnow@winterfell.north.7k</td>\n    </tr>\n    <tr>\n      <th>2</th>\n      <td>3</td>\n      <td>Arya</td>\n      <td>Stark</td>\n      <td>arya@winterfell.north.7k</td>\n    </tr>\n    <tr>\n      <th>3</th>\n      <td>4</td>\n      <td>Tyrion</td>\n      <td>Lannister</td>\n      <td>hand-of-a-queen@dragons.rules</td>\n    </tr>\n    <tr>\n      <th>4</th>\n      <td>5</td>\n      <td>Cersei</td>\n      <td>Lannister</td>\n      <td>queen@iron-throne.7k</td>\n    </tr>\n    <tr>\n      <th>5</th>\n      <td>6</td>\n      <td>Sansa</td>\n      <td>Stark</td>\n      <td>lady@winterfell.north.7k</td>\n    </tr>\n    <tr>\n      <th>6</th>\n      <td>7</td>\n      <td>Daenerys</td>\n      <td>Targaryen</td>\n      <td>queen@dragons.rules</td>\n    </tr>\n    <tr>\n      <th>7</th>\n      <td>8</td>\n      <td>Samwell</td>\n      <td>Tarly</td>\n      <td>samwell@citadel.7k</td>\n    </tr>\n    <tr>\n      <th>8</th>\n      <td>9</td>\n      <td>Brienne</td>\n      <td>None</td>\n      <td>brienne@tarth.7k</td>\n    </tr>\n    <tr>\n      <th>9</th>\n      <td>10</td>\n      <td>Ygritte</td>\n      <td>None</td>\n      <td>ygritte@wildlings.north.7k</td>\n    </tr>\n  </tbody>\n</table>\n</div>"
          },
          "metadata": {}
        }
      ]
    },
    {
      "metadata": {
        "trusted": true
      },
      "cell_type": "code",
      "source": "rs(\"\"\"\nSELECT users.id as u_id, first_name, last_name, submissions.id as s_id, grade \nFROM users JOIN submissions \nON users.id == submissions.user_id\n\"\"\")",
      "execution_count": 26,
      "outputs": [
        {
          "output_type": "execute_result",
          "execution_count": 26,
          "data": {
            "text/plain": "    u_id first_name  last_name  s_id  grade\n0      1     Eddard      Stark     1    6.0\n1      1     Eddard      Stark     2    5.0\n2      1     Eddard      Stark     3    NaN\n3      2        Jon       Snow     4    3.0\n4      2        Jon       Snow     5    2.0\n5      3       Arya      Stark     6   10.0\n6      3       Arya      Stark     7   23.0\n7      3       Arya      Stark     8   15.0\n8      4     Tyrion  Lannister     9    4.0\n9      4     Tyrion  Lannister    10    5.0\n10     4     Tyrion  Lannister    11    1.0\n11     4     Tyrion  Lannister    12   10.0\n12     5     Cersei  Lannister    13   20.0\n13     5     Cersei  Lannister    14   14.0\n14     5     Cersei  Lannister    15   21.0\n15     6      Sansa      Stark    16    NaN\n16     6      Sansa      Stark    17   32.0\n17     7   Daenerys  Targaryen    18   15.0\n18     7   Daenerys  Targaryen    19   15.0\n19     7   Daenerys  Targaryen    20   16.0\n20     8    Samwell      Tarly    21   10.0\n21     8    Samwell      Tarly    22   10.0\n22    10    Ygritte       None    23    8.0",
            "text/html": "<div>\n<style scoped>\n    .dataframe tbody tr th:only-of-type {\n        vertical-align: middle;\n    }\n\n    .dataframe tbody tr th {\n        vertical-align: top;\n    }\n\n    .dataframe thead th {\n        text-align: right;\n    }\n</style>\n<table border=\"1\" class=\"dataframe\">\n  <thead>\n    <tr style=\"text-align: right;\">\n      <th></th>\n      <th>u_id</th>\n      <th>first_name</th>\n      <th>last_name</th>\n      <th>s_id</th>\n      <th>grade</th>\n    </tr>\n  </thead>\n  <tbody>\n    <tr>\n      <th>0</th>\n      <td>1</td>\n      <td>Eddard</td>\n      <td>Stark</td>\n      <td>1</td>\n      <td>6.0</td>\n    </tr>\n    <tr>\n      <th>1</th>\n      <td>1</td>\n      <td>Eddard</td>\n      <td>Stark</td>\n      <td>2</td>\n      <td>5.0</td>\n    </tr>\n    <tr>\n      <th>2</th>\n      <td>1</td>\n      <td>Eddard</td>\n      <td>Stark</td>\n      <td>3</td>\n      <td>NaN</td>\n    </tr>\n    <tr>\n      <th>3</th>\n      <td>2</td>\n      <td>Jon</td>\n      <td>Snow</td>\n      <td>4</td>\n      <td>3.0</td>\n    </tr>\n    <tr>\n      <th>4</th>\n      <td>2</td>\n      <td>Jon</td>\n      <td>Snow</td>\n      <td>5</td>\n      <td>2.0</td>\n    </tr>\n    <tr>\n      <th>5</th>\n      <td>3</td>\n      <td>Arya</td>\n      <td>Stark</td>\n      <td>6</td>\n      <td>10.0</td>\n    </tr>\n    <tr>\n      <th>6</th>\n      <td>3</td>\n      <td>Arya</td>\n      <td>Stark</td>\n      <td>7</td>\n      <td>23.0</td>\n    </tr>\n    <tr>\n      <th>7</th>\n      <td>3</td>\n      <td>Arya</td>\n      <td>Stark</td>\n      <td>8</td>\n      <td>15.0</td>\n    </tr>\n    <tr>\n      <th>8</th>\n      <td>4</td>\n      <td>Tyrion</td>\n      <td>Lannister</td>\n      <td>9</td>\n      <td>4.0</td>\n    </tr>\n    <tr>\n      <th>9</th>\n      <td>4</td>\n      <td>Tyrion</td>\n      <td>Lannister</td>\n      <td>10</td>\n      <td>5.0</td>\n    </tr>\n    <tr>\n      <th>10</th>\n      <td>4</td>\n      <td>Tyrion</td>\n      <td>Lannister</td>\n      <td>11</td>\n      <td>1.0</td>\n    </tr>\n    <tr>\n      <th>11</th>\n      <td>4</td>\n      <td>Tyrion</td>\n      <td>Lannister</td>\n      <td>12</td>\n      <td>10.0</td>\n    </tr>\n    <tr>\n      <th>12</th>\n      <td>5</td>\n      <td>Cersei</td>\n      <td>Lannister</td>\n      <td>13</td>\n      <td>20.0</td>\n    </tr>\n    <tr>\n      <th>13</th>\n      <td>5</td>\n      <td>Cersei</td>\n      <td>Lannister</td>\n      <td>14</td>\n      <td>14.0</td>\n    </tr>\n    <tr>\n      <th>14</th>\n      <td>5</td>\n      <td>Cersei</td>\n      <td>Lannister</td>\n      <td>15</td>\n      <td>21.0</td>\n    </tr>\n    <tr>\n      <th>15</th>\n      <td>6</td>\n      <td>Sansa</td>\n      <td>Stark</td>\n      <td>16</td>\n      <td>NaN</td>\n    </tr>\n    <tr>\n      <th>16</th>\n      <td>6</td>\n      <td>Sansa</td>\n      <td>Stark</td>\n      <td>17</td>\n      <td>32.0</td>\n    </tr>\n    <tr>\n      <th>17</th>\n      <td>7</td>\n      <td>Daenerys</td>\n      <td>Targaryen</td>\n      <td>18</td>\n      <td>15.0</td>\n    </tr>\n    <tr>\n      <th>18</th>\n      <td>7</td>\n      <td>Daenerys</td>\n      <td>Targaryen</td>\n      <td>19</td>\n      <td>15.0</td>\n    </tr>\n    <tr>\n      <th>19</th>\n      <td>7</td>\n      <td>Daenerys</td>\n      <td>Targaryen</td>\n      <td>20</td>\n      <td>16.0</td>\n    </tr>\n    <tr>\n      <th>20</th>\n      <td>8</td>\n      <td>Samwell</td>\n      <td>Tarly</td>\n      <td>21</td>\n      <td>10.0</td>\n    </tr>\n    <tr>\n      <th>21</th>\n      <td>8</td>\n      <td>Samwell</td>\n      <td>Tarly</td>\n      <td>22</td>\n      <td>10.0</td>\n    </tr>\n    <tr>\n      <th>22</th>\n      <td>10</td>\n      <td>Ygritte</td>\n      <td>None</td>\n      <td>23</td>\n      <td>8.0</td>\n    </tr>\n  </tbody>\n</table>\n</div>"
          },
          "metadata": {}
        }
      ]
    },
    {
      "metadata": {
        "trusted": true
      },
      "cell_type": "code",
      "source": "rs(\"\"\"\nSELECT users.id as u_id, first_name, last_name, sum(grade) \nFROM users JOIN submissions \nON users.id == submissions.user_id\nGROUP BY u_id\n\"\"\")",
      "execution_count": 33,
      "outputs": [
        {
          "output_type": "execute_result",
          "execution_count": 33,
          "data": {
            "text/plain": "   u_id first_name  last_name  sum(grade)\n0     1     Eddard      Stark        11.0\n1     2        Jon       Snow         5.0\n2     3       Arya      Stark        48.0\n3     4     Tyrion  Lannister        20.0\n4     5     Cersei  Lannister        55.0\n5     6      Sansa      Stark        32.0\n6     7   Daenerys  Targaryen        46.0\n7     8    Samwell      Tarly        20.0\n8    10    Ygritte       None         8.0",
            "text/html": "<div>\n<style scoped>\n    .dataframe tbody tr th:only-of-type {\n        vertical-align: middle;\n    }\n\n    .dataframe tbody tr th {\n        vertical-align: top;\n    }\n\n    .dataframe thead th {\n        text-align: right;\n    }\n</style>\n<table border=\"1\" class=\"dataframe\">\n  <thead>\n    <tr style=\"text-align: right;\">\n      <th></th>\n      <th>u_id</th>\n      <th>first_name</th>\n      <th>last_name</th>\n      <th>sum(grade)</th>\n    </tr>\n  </thead>\n  <tbody>\n    <tr>\n      <th>0</th>\n      <td>1</td>\n      <td>Eddard</td>\n      <td>Stark</td>\n      <td>11.0</td>\n    </tr>\n    <tr>\n      <th>1</th>\n      <td>2</td>\n      <td>Jon</td>\n      <td>Snow</td>\n      <td>5.0</td>\n    </tr>\n    <tr>\n      <th>2</th>\n      <td>3</td>\n      <td>Arya</td>\n      <td>Stark</td>\n      <td>48.0</td>\n    </tr>\n    <tr>\n      <th>3</th>\n      <td>4</td>\n      <td>Tyrion</td>\n      <td>Lannister</td>\n      <td>20.0</td>\n    </tr>\n    <tr>\n      <th>4</th>\n      <td>5</td>\n      <td>Cersei</td>\n      <td>Lannister</td>\n      <td>55.0</td>\n    </tr>\n    <tr>\n      <th>5</th>\n      <td>6</td>\n      <td>Sansa</td>\n      <td>Stark</td>\n      <td>32.0</td>\n    </tr>\n    <tr>\n      <th>6</th>\n      <td>7</td>\n      <td>Daenerys</td>\n      <td>Targaryen</td>\n      <td>46.0</td>\n    </tr>\n    <tr>\n      <th>7</th>\n      <td>8</td>\n      <td>Samwell</td>\n      <td>Tarly</td>\n      <td>20.0</td>\n    </tr>\n    <tr>\n      <th>8</th>\n      <td>10</td>\n      <td>Ygritte</td>\n      <td>None</td>\n      <td>8.0</td>\n    </tr>\n  </tbody>\n</table>\n</div>"
          },
          "metadata": {}
        }
      ]
    },
    {
      "metadata": {
        "trusted": true,
        "collapsed": true
      },
      "cell_type": "code",
      "source": "rs(\"\"\"\nSELECT * FROM users, submissions\nWHERE users.id == submissions.user_id\n\"\"\")",
      "execution_count": 34,
      "outputs": [
        {
          "output_type": "execute_result",
          "execution_count": 34,
          "data": {
            "text/plain": "    id first_name  last_name                          email  id  \\\n0    1     Eddard      Stark        ned@winterfell.north.7k   1   \n1    1     Eddard      Stark        ned@winterfell.north.7k   2   \n2    1     Eddard      Stark        ned@winterfell.north.7k   3   \n3    2        Jon       Snow      jsnow@winterfell.north.7k   4   \n4    2        Jon       Snow      jsnow@winterfell.north.7k   5   \n5    3       Arya      Stark       arya@winterfell.north.7k   6   \n6    3       Arya      Stark       arya@winterfell.north.7k   7   \n7    3       Arya      Stark       arya@winterfell.north.7k   8   \n8    4     Tyrion  Lannister  hand-of-a-queen@dragons.rules   9   \n9    4     Tyrion  Lannister  hand-of-a-queen@dragons.rules  10   \n10   4     Tyrion  Lannister  hand-of-a-queen@dragons.rules  11   \n11   4     Tyrion  Lannister  hand-of-a-queen@dragons.rules  12   \n12   5     Cersei  Lannister           queen@iron-throne.7k  13   \n13   5     Cersei  Lannister           queen@iron-throne.7k  14   \n14   5     Cersei  Lannister           queen@iron-throne.7k  15   \n15   6      Sansa      Stark       lady@winterfell.north.7k  16   \n16   6      Sansa      Stark       lady@winterfell.north.7k  17   \n17   7   Daenerys  Targaryen            queen@dragons.rules  18   \n18   7   Daenerys  Targaryen            queen@dragons.rules  19   \n19   7   Daenerys  Targaryen            queen@dragons.rules  20   \n20   8    Samwell      Tarly             samwell@citadel.7k  21   \n21   8    Samwell      Tarly             samwell@citadel.7k  22   \n22  10    Ygritte       None     ygritte@wildlings.north.7k  23   \n\n    assignment_id  user_id  grade  \n0               1        1    6.0  \n1               2        1    5.0  \n2               3        1    NaN  \n3               2        2    3.0  \n4               3        2    2.0  \n5               4        3   10.0  \n6               2        3   23.0  \n7               4        3   15.0  \n8               5        4    4.0  \n9               4        4    5.0  \n10              4        4    1.0  \n11              5        4   10.0  \n12              6        5   20.0  \n13              7        5   14.0  \n14              6        5   21.0  \n15              7        6    NaN  \n16              8        6   32.0  \n17              9        7   15.0  \n18             10        7   15.0  \n19              1        7   16.0  \n20              5        8   10.0  \n21              4        8   10.0  \n22              6       10    8.0  ",
            "text/html": "<div>\n<style scoped>\n    .dataframe tbody tr th:only-of-type {\n        vertical-align: middle;\n    }\n\n    .dataframe tbody tr th {\n        vertical-align: top;\n    }\n\n    .dataframe thead th {\n        text-align: right;\n    }\n</style>\n<table border=\"1\" class=\"dataframe\">\n  <thead>\n    <tr style=\"text-align: right;\">\n      <th></th>\n      <th>id</th>\n      <th>first_name</th>\n      <th>last_name</th>\n      <th>email</th>\n      <th>id</th>\n      <th>assignment_id</th>\n      <th>user_id</th>\n      <th>grade</th>\n    </tr>\n  </thead>\n  <tbody>\n    <tr>\n      <th>0</th>\n      <td>1</td>\n      <td>Eddard</td>\n      <td>Stark</td>\n      <td>ned@winterfell.north.7k</td>\n      <td>1</td>\n      <td>1</td>\n      <td>1</td>\n      <td>6.0</td>\n    </tr>\n    <tr>\n      <th>1</th>\n      <td>1</td>\n      <td>Eddard</td>\n      <td>Stark</td>\n      <td>ned@winterfell.north.7k</td>\n      <td>2</td>\n      <td>2</td>\n      <td>1</td>\n      <td>5.0</td>\n    </tr>\n    <tr>\n      <th>2</th>\n      <td>1</td>\n      <td>Eddard</td>\n      <td>Stark</td>\n      <td>ned@winterfell.north.7k</td>\n      <td>3</td>\n      <td>3</td>\n      <td>1</td>\n      <td>NaN</td>\n    </tr>\n    <tr>\n      <th>3</th>\n      <td>2</td>\n      <td>Jon</td>\n      <td>Snow</td>\n      <td>jsnow@winterfell.north.7k</td>\n      <td>4</td>\n      <td>2</td>\n      <td>2</td>\n      <td>3.0</td>\n    </tr>\n    <tr>\n      <th>4</th>\n      <td>2</td>\n      <td>Jon</td>\n      <td>Snow</td>\n      <td>jsnow@winterfell.north.7k</td>\n      <td>5</td>\n      <td>3</td>\n      <td>2</td>\n      <td>2.0</td>\n    </tr>\n    <tr>\n      <th>5</th>\n      <td>3</td>\n      <td>Arya</td>\n      <td>Stark</td>\n      <td>arya@winterfell.north.7k</td>\n      <td>6</td>\n      <td>4</td>\n      <td>3</td>\n      <td>10.0</td>\n    </tr>\n    <tr>\n      <th>6</th>\n      <td>3</td>\n      <td>Arya</td>\n      <td>Stark</td>\n      <td>arya@winterfell.north.7k</td>\n      <td>7</td>\n      <td>2</td>\n      <td>3</td>\n      <td>23.0</td>\n    </tr>\n    <tr>\n      <th>7</th>\n      <td>3</td>\n      <td>Arya</td>\n      <td>Stark</td>\n      <td>arya@winterfell.north.7k</td>\n      <td>8</td>\n      <td>4</td>\n      <td>3</td>\n      <td>15.0</td>\n    </tr>\n    <tr>\n      <th>8</th>\n      <td>4</td>\n      <td>Tyrion</td>\n      <td>Lannister</td>\n      <td>hand-of-a-queen@dragons.rules</td>\n      <td>9</td>\n      <td>5</td>\n      <td>4</td>\n      <td>4.0</td>\n    </tr>\n    <tr>\n      <th>9</th>\n      <td>4</td>\n      <td>Tyrion</td>\n      <td>Lannister</td>\n      <td>hand-of-a-queen@dragons.rules</td>\n      <td>10</td>\n      <td>4</td>\n      <td>4</td>\n      <td>5.0</td>\n    </tr>\n    <tr>\n      <th>10</th>\n      <td>4</td>\n      <td>Tyrion</td>\n      <td>Lannister</td>\n      <td>hand-of-a-queen@dragons.rules</td>\n      <td>11</td>\n      <td>4</td>\n      <td>4</td>\n      <td>1.0</td>\n    </tr>\n    <tr>\n      <th>11</th>\n      <td>4</td>\n      <td>Tyrion</td>\n      <td>Lannister</td>\n      <td>hand-of-a-queen@dragons.rules</td>\n      <td>12</td>\n      <td>5</td>\n      <td>4</td>\n      <td>10.0</td>\n    </tr>\n    <tr>\n      <th>12</th>\n      <td>5</td>\n      <td>Cersei</td>\n      <td>Lannister</td>\n      <td>queen@iron-throne.7k</td>\n      <td>13</td>\n      <td>6</td>\n      <td>5</td>\n      <td>20.0</td>\n    </tr>\n    <tr>\n      <th>13</th>\n      <td>5</td>\n      <td>Cersei</td>\n      <td>Lannister</td>\n      <td>queen@iron-throne.7k</td>\n      <td>14</td>\n      <td>7</td>\n      <td>5</td>\n      <td>14.0</td>\n    </tr>\n    <tr>\n      <th>14</th>\n      <td>5</td>\n      <td>Cersei</td>\n      <td>Lannister</td>\n      <td>queen@iron-throne.7k</td>\n      <td>15</td>\n      <td>6</td>\n      <td>5</td>\n      <td>21.0</td>\n    </tr>\n    <tr>\n      <th>15</th>\n      <td>6</td>\n      <td>Sansa</td>\n      <td>Stark</td>\n      <td>lady@winterfell.north.7k</td>\n      <td>16</td>\n      <td>7</td>\n      <td>6</td>\n      <td>NaN</td>\n    </tr>\n    <tr>\n      <th>16</th>\n      <td>6</td>\n      <td>Sansa</td>\n      <td>Stark</td>\n      <td>lady@winterfell.north.7k</td>\n      <td>17</td>\n      <td>8</td>\n      <td>6</td>\n      <td>32.0</td>\n    </tr>\n    <tr>\n      <th>17</th>\n      <td>7</td>\n      <td>Daenerys</td>\n      <td>Targaryen</td>\n      <td>queen@dragons.rules</td>\n      <td>18</td>\n      <td>9</td>\n      <td>7</td>\n      <td>15.0</td>\n    </tr>\n    <tr>\n      <th>18</th>\n      <td>7</td>\n      <td>Daenerys</td>\n      <td>Targaryen</td>\n      <td>queen@dragons.rules</td>\n      <td>19</td>\n      <td>10</td>\n      <td>7</td>\n      <td>15.0</td>\n    </tr>\n    <tr>\n      <th>19</th>\n      <td>7</td>\n      <td>Daenerys</td>\n      <td>Targaryen</td>\n      <td>queen@dragons.rules</td>\n      <td>20</td>\n      <td>1</td>\n      <td>7</td>\n      <td>16.0</td>\n    </tr>\n    <tr>\n      <th>20</th>\n      <td>8</td>\n      <td>Samwell</td>\n      <td>Tarly</td>\n      <td>samwell@citadel.7k</td>\n      <td>21</td>\n      <td>5</td>\n      <td>8</td>\n      <td>10.0</td>\n    </tr>\n    <tr>\n      <th>21</th>\n      <td>8</td>\n      <td>Samwell</td>\n      <td>Tarly</td>\n      <td>samwell@citadel.7k</td>\n      <td>22</td>\n      <td>4</td>\n      <td>8</td>\n      <td>10.0</td>\n    </tr>\n    <tr>\n      <th>22</th>\n      <td>10</td>\n      <td>Ygritte</td>\n      <td>None</td>\n      <td>ygritte@wildlings.north.7k</td>\n      <td>23</td>\n      <td>6</td>\n      <td>10</td>\n      <td>8.0</td>\n    </tr>\n  </tbody>\n</table>\n</div>"
          },
          "metadata": {}
        }
      ]
    },
    {
      "metadata": {
        "trusted": true,
        "collapsed": true
      },
      "cell_type": "code",
      "source": "rs(\"\"\"\nSELECT * FROM users JOIN submissions\nON users.id == submissions.user_id\n\"\"\")",
      "execution_count": 37,
      "outputs": [
        {
          "output_type": "execute_result",
          "execution_count": 37,
          "data": {
            "text/plain": "    id first_name  last_name                          email  id  \\\n0    1     Eddard      Stark        ned@winterfell.north.7k   1   \n1    1     Eddard      Stark        ned@winterfell.north.7k   2   \n2    1     Eddard      Stark        ned@winterfell.north.7k   3   \n3    2        Jon       Snow      jsnow@winterfell.north.7k   4   \n4    2        Jon       Snow      jsnow@winterfell.north.7k   5   \n5    3       Arya      Stark       arya@winterfell.north.7k   6   \n6    3       Arya      Stark       arya@winterfell.north.7k   7   \n7    3       Arya      Stark       arya@winterfell.north.7k   8   \n8    4     Tyrion  Lannister  hand-of-a-queen@dragons.rules   9   \n9    4     Tyrion  Lannister  hand-of-a-queen@dragons.rules  10   \n10   4     Tyrion  Lannister  hand-of-a-queen@dragons.rules  11   \n11   4     Tyrion  Lannister  hand-of-a-queen@dragons.rules  12   \n12   5     Cersei  Lannister           queen@iron-throne.7k  13   \n13   5     Cersei  Lannister           queen@iron-throne.7k  14   \n14   5     Cersei  Lannister           queen@iron-throne.7k  15   \n15   6      Sansa      Stark       lady@winterfell.north.7k  16   \n16   6      Sansa      Stark       lady@winterfell.north.7k  17   \n17   7   Daenerys  Targaryen            queen@dragons.rules  18   \n18   7   Daenerys  Targaryen            queen@dragons.rules  19   \n19   7   Daenerys  Targaryen            queen@dragons.rules  20   \n20   8    Samwell      Tarly             samwell@citadel.7k  21   \n21   8    Samwell      Tarly             samwell@citadel.7k  22   \n22  10    Ygritte       None     ygritte@wildlings.north.7k  23   \n\n    assignment_id  user_id  grade  \n0               1        1    6.0  \n1               2        1    5.0  \n2               3        1    NaN  \n3               2        2    3.0  \n4               3        2    2.0  \n5               4        3   10.0  \n6               2        3   23.0  \n7               4        3   15.0  \n8               5        4    4.0  \n9               4        4    5.0  \n10              4        4    1.0  \n11              5        4   10.0  \n12              6        5   20.0  \n13              7        5   14.0  \n14              6        5   21.0  \n15              7        6    NaN  \n16              8        6   32.0  \n17              9        7   15.0  \n18             10        7   15.0  \n19              1        7   16.0  \n20              5        8   10.0  \n21              4        8   10.0  \n22              6       10    8.0  ",
            "text/html": "<div>\n<style scoped>\n    .dataframe tbody tr th:only-of-type {\n        vertical-align: middle;\n    }\n\n    .dataframe tbody tr th {\n        vertical-align: top;\n    }\n\n    .dataframe thead th {\n        text-align: right;\n    }\n</style>\n<table border=\"1\" class=\"dataframe\">\n  <thead>\n    <tr style=\"text-align: right;\">\n      <th></th>\n      <th>id</th>\n      <th>first_name</th>\n      <th>last_name</th>\n      <th>email</th>\n      <th>id</th>\n      <th>assignment_id</th>\n      <th>user_id</th>\n      <th>grade</th>\n    </tr>\n  </thead>\n  <tbody>\n    <tr>\n      <th>0</th>\n      <td>1</td>\n      <td>Eddard</td>\n      <td>Stark</td>\n      <td>ned@winterfell.north.7k</td>\n      <td>1</td>\n      <td>1</td>\n      <td>1</td>\n      <td>6.0</td>\n    </tr>\n    <tr>\n      <th>1</th>\n      <td>1</td>\n      <td>Eddard</td>\n      <td>Stark</td>\n      <td>ned@winterfell.north.7k</td>\n      <td>2</td>\n      <td>2</td>\n      <td>1</td>\n      <td>5.0</td>\n    </tr>\n    <tr>\n      <th>2</th>\n      <td>1</td>\n      <td>Eddard</td>\n      <td>Stark</td>\n      <td>ned@winterfell.north.7k</td>\n      <td>3</td>\n      <td>3</td>\n      <td>1</td>\n      <td>NaN</td>\n    </tr>\n    <tr>\n      <th>3</th>\n      <td>2</td>\n      <td>Jon</td>\n      <td>Snow</td>\n      <td>jsnow@winterfell.north.7k</td>\n      <td>4</td>\n      <td>2</td>\n      <td>2</td>\n      <td>3.0</td>\n    </tr>\n    <tr>\n      <th>4</th>\n      <td>2</td>\n      <td>Jon</td>\n      <td>Snow</td>\n      <td>jsnow@winterfell.north.7k</td>\n      <td>5</td>\n      <td>3</td>\n      <td>2</td>\n      <td>2.0</td>\n    </tr>\n    <tr>\n      <th>5</th>\n      <td>3</td>\n      <td>Arya</td>\n      <td>Stark</td>\n      <td>arya@winterfell.north.7k</td>\n      <td>6</td>\n      <td>4</td>\n      <td>3</td>\n      <td>10.0</td>\n    </tr>\n    <tr>\n      <th>6</th>\n      <td>3</td>\n      <td>Arya</td>\n      <td>Stark</td>\n      <td>arya@winterfell.north.7k</td>\n      <td>7</td>\n      <td>2</td>\n      <td>3</td>\n      <td>23.0</td>\n    </tr>\n    <tr>\n      <th>7</th>\n      <td>3</td>\n      <td>Arya</td>\n      <td>Stark</td>\n      <td>arya@winterfell.north.7k</td>\n      <td>8</td>\n      <td>4</td>\n      <td>3</td>\n      <td>15.0</td>\n    </tr>\n    <tr>\n      <th>8</th>\n      <td>4</td>\n      <td>Tyrion</td>\n      <td>Lannister</td>\n      <td>hand-of-a-queen@dragons.rules</td>\n      <td>9</td>\n      <td>5</td>\n      <td>4</td>\n      <td>4.0</td>\n    </tr>\n    <tr>\n      <th>9</th>\n      <td>4</td>\n      <td>Tyrion</td>\n      <td>Lannister</td>\n      <td>hand-of-a-queen@dragons.rules</td>\n      <td>10</td>\n      <td>4</td>\n      <td>4</td>\n      <td>5.0</td>\n    </tr>\n    <tr>\n      <th>10</th>\n      <td>4</td>\n      <td>Tyrion</td>\n      <td>Lannister</td>\n      <td>hand-of-a-queen@dragons.rules</td>\n      <td>11</td>\n      <td>4</td>\n      <td>4</td>\n      <td>1.0</td>\n    </tr>\n    <tr>\n      <th>11</th>\n      <td>4</td>\n      <td>Tyrion</td>\n      <td>Lannister</td>\n      <td>hand-of-a-queen@dragons.rules</td>\n      <td>12</td>\n      <td>5</td>\n      <td>4</td>\n      <td>10.0</td>\n    </tr>\n    <tr>\n      <th>12</th>\n      <td>5</td>\n      <td>Cersei</td>\n      <td>Lannister</td>\n      <td>queen@iron-throne.7k</td>\n      <td>13</td>\n      <td>6</td>\n      <td>5</td>\n      <td>20.0</td>\n    </tr>\n    <tr>\n      <th>13</th>\n      <td>5</td>\n      <td>Cersei</td>\n      <td>Lannister</td>\n      <td>queen@iron-throne.7k</td>\n      <td>14</td>\n      <td>7</td>\n      <td>5</td>\n      <td>14.0</td>\n    </tr>\n    <tr>\n      <th>14</th>\n      <td>5</td>\n      <td>Cersei</td>\n      <td>Lannister</td>\n      <td>queen@iron-throne.7k</td>\n      <td>15</td>\n      <td>6</td>\n      <td>5</td>\n      <td>21.0</td>\n    </tr>\n    <tr>\n      <th>15</th>\n      <td>6</td>\n      <td>Sansa</td>\n      <td>Stark</td>\n      <td>lady@winterfell.north.7k</td>\n      <td>16</td>\n      <td>7</td>\n      <td>6</td>\n      <td>NaN</td>\n    </tr>\n    <tr>\n      <th>16</th>\n      <td>6</td>\n      <td>Sansa</td>\n      <td>Stark</td>\n      <td>lady@winterfell.north.7k</td>\n      <td>17</td>\n      <td>8</td>\n      <td>6</td>\n      <td>32.0</td>\n    </tr>\n    <tr>\n      <th>17</th>\n      <td>7</td>\n      <td>Daenerys</td>\n      <td>Targaryen</td>\n      <td>queen@dragons.rules</td>\n      <td>18</td>\n      <td>9</td>\n      <td>7</td>\n      <td>15.0</td>\n    </tr>\n    <tr>\n      <th>18</th>\n      <td>7</td>\n      <td>Daenerys</td>\n      <td>Targaryen</td>\n      <td>queen@dragons.rules</td>\n      <td>19</td>\n      <td>10</td>\n      <td>7</td>\n      <td>15.0</td>\n    </tr>\n    <tr>\n      <th>19</th>\n      <td>7</td>\n      <td>Daenerys</td>\n      <td>Targaryen</td>\n      <td>queen@dragons.rules</td>\n      <td>20</td>\n      <td>1</td>\n      <td>7</td>\n      <td>16.0</td>\n    </tr>\n    <tr>\n      <th>20</th>\n      <td>8</td>\n      <td>Samwell</td>\n      <td>Tarly</td>\n      <td>samwell@citadel.7k</td>\n      <td>21</td>\n      <td>5</td>\n      <td>8</td>\n      <td>10.0</td>\n    </tr>\n    <tr>\n      <th>21</th>\n      <td>8</td>\n      <td>Samwell</td>\n      <td>Tarly</td>\n      <td>samwell@citadel.7k</td>\n      <td>22</td>\n      <td>4</td>\n      <td>8</td>\n      <td>10.0</td>\n    </tr>\n    <tr>\n      <th>22</th>\n      <td>10</td>\n      <td>Ygritte</td>\n      <td>None</td>\n      <td>ygritte@wildlings.north.7k</td>\n      <td>23</td>\n      <td>6</td>\n      <td>10</td>\n      <td>8.0</td>\n    </tr>\n  </tbody>\n</table>\n</div>"
          },
          "metadata": {}
        }
      ]
    },
    {
      "metadata": {
        "trusted": true
      },
      "cell_type": "code",
      "source": "rs(\"\"\"\nSELECT * \nFROM users LEFT JOIN submissions \nON users.id == submissions.user_id\n\"\"\")",
      "execution_count": 41,
      "outputs": [
        {
          "output_type": "execute_result",
          "execution_count": 41,
          "data": {
            "text/plain": "    id first_name  last_name                          email    id  \\\n0    1     Eddard      Stark        ned@winterfell.north.7k   1.0   \n1    1     Eddard      Stark        ned@winterfell.north.7k   2.0   \n2    1     Eddard      Stark        ned@winterfell.north.7k   3.0   \n3    2        Jon       Snow      jsnow@winterfell.north.7k   4.0   \n4    2        Jon       Snow      jsnow@winterfell.north.7k   5.0   \n5    3       Arya      Stark       arya@winterfell.north.7k   6.0   \n6    3       Arya      Stark       arya@winterfell.north.7k   7.0   \n7    3       Arya      Stark       arya@winterfell.north.7k   8.0   \n8    4     Tyrion  Lannister  hand-of-a-queen@dragons.rules   9.0   \n9    4     Tyrion  Lannister  hand-of-a-queen@dragons.rules  10.0   \n10   4     Tyrion  Lannister  hand-of-a-queen@dragons.rules  11.0   \n11   4     Tyrion  Lannister  hand-of-a-queen@dragons.rules  12.0   \n12   5     Cersei  Lannister           queen@iron-throne.7k  13.0   \n13   5     Cersei  Lannister           queen@iron-throne.7k  14.0   \n14   5     Cersei  Lannister           queen@iron-throne.7k  15.0   \n15   6      Sansa      Stark       lady@winterfell.north.7k  16.0   \n16   6      Sansa      Stark       lady@winterfell.north.7k  17.0   \n17   7   Daenerys  Targaryen            queen@dragons.rules  18.0   \n18   7   Daenerys  Targaryen            queen@dragons.rules  19.0   \n19   7   Daenerys  Targaryen            queen@dragons.rules  20.0   \n20   8    Samwell      Tarly             samwell@citadel.7k  21.0   \n21   8    Samwell      Tarly             samwell@citadel.7k  22.0   \n22   9    Brienne       None               brienne@tarth.7k   NaN   \n23  10    Ygritte       None     ygritte@wildlings.north.7k  23.0   \n\n    assignment_id  user_id  grade  \n0             1.0      1.0    6.0  \n1             2.0      1.0    5.0  \n2             3.0      1.0    NaN  \n3             2.0      2.0    3.0  \n4             3.0      2.0    2.0  \n5             4.0      3.0   10.0  \n6             2.0      3.0   23.0  \n7             4.0      3.0   15.0  \n8             5.0      4.0    4.0  \n9             4.0      4.0    5.0  \n10            4.0      4.0    1.0  \n11            5.0      4.0   10.0  \n12            6.0      5.0   20.0  \n13            7.0      5.0   14.0  \n14            6.0      5.0   21.0  \n15            7.0      6.0    NaN  \n16            8.0      6.0   32.0  \n17            9.0      7.0   15.0  \n18           10.0      7.0   15.0  \n19            1.0      7.0   16.0  \n20            5.0      8.0   10.0  \n21            4.0      8.0   10.0  \n22            NaN      NaN    NaN  \n23            6.0     10.0    8.0  ",
            "text/html": "<div>\n<style scoped>\n    .dataframe tbody tr th:only-of-type {\n        vertical-align: middle;\n    }\n\n    .dataframe tbody tr th {\n        vertical-align: top;\n    }\n\n    .dataframe thead th {\n        text-align: right;\n    }\n</style>\n<table border=\"1\" class=\"dataframe\">\n  <thead>\n    <tr style=\"text-align: right;\">\n      <th></th>\n      <th>id</th>\n      <th>first_name</th>\n      <th>last_name</th>\n      <th>email</th>\n      <th>id</th>\n      <th>assignment_id</th>\n      <th>user_id</th>\n      <th>grade</th>\n    </tr>\n  </thead>\n  <tbody>\n    <tr>\n      <th>0</th>\n      <td>1</td>\n      <td>Eddard</td>\n      <td>Stark</td>\n      <td>ned@winterfell.north.7k</td>\n      <td>1.0</td>\n      <td>1.0</td>\n      <td>1.0</td>\n      <td>6.0</td>\n    </tr>\n    <tr>\n      <th>1</th>\n      <td>1</td>\n      <td>Eddard</td>\n      <td>Stark</td>\n      <td>ned@winterfell.north.7k</td>\n      <td>2.0</td>\n      <td>2.0</td>\n      <td>1.0</td>\n      <td>5.0</td>\n    </tr>\n    <tr>\n      <th>2</th>\n      <td>1</td>\n      <td>Eddard</td>\n      <td>Stark</td>\n      <td>ned@winterfell.north.7k</td>\n      <td>3.0</td>\n      <td>3.0</td>\n      <td>1.0</td>\n      <td>NaN</td>\n    </tr>\n    <tr>\n      <th>3</th>\n      <td>2</td>\n      <td>Jon</td>\n      <td>Snow</td>\n      <td>jsnow@winterfell.north.7k</td>\n      <td>4.0</td>\n      <td>2.0</td>\n      <td>2.0</td>\n      <td>3.0</td>\n    </tr>\n    <tr>\n      <th>4</th>\n      <td>2</td>\n      <td>Jon</td>\n      <td>Snow</td>\n      <td>jsnow@winterfell.north.7k</td>\n      <td>5.0</td>\n      <td>3.0</td>\n      <td>2.0</td>\n      <td>2.0</td>\n    </tr>\n    <tr>\n      <th>5</th>\n      <td>3</td>\n      <td>Arya</td>\n      <td>Stark</td>\n      <td>arya@winterfell.north.7k</td>\n      <td>6.0</td>\n      <td>4.0</td>\n      <td>3.0</td>\n      <td>10.0</td>\n    </tr>\n    <tr>\n      <th>6</th>\n      <td>3</td>\n      <td>Arya</td>\n      <td>Stark</td>\n      <td>arya@winterfell.north.7k</td>\n      <td>7.0</td>\n      <td>2.0</td>\n      <td>3.0</td>\n      <td>23.0</td>\n    </tr>\n    <tr>\n      <th>7</th>\n      <td>3</td>\n      <td>Arya</td>\n      <td>Stark</td>\n      <td>arya@winterfell.north.7k</td>\n      <td>8.0</td>\n      <td>4.0</td>\n      <td>3.0</td>\n      <td>15.0</td>\n    </tr>\n    <tr>\n      <th>8</th>\n      <td>4</td>\n      <td>Tyrion</td>\n      <td>Lannister</td>\n      <td>hand-of-a-queen@dragons.rules</td>\n      <td>9.0</td>\n      <td>5.0</td>\n      <td>4.0</td>\n      <td>4.0</td>\n    </tr>\n    <tr>\n      <th>9</th>\n      <td>4</td>\n      <td>Tyrion</td>\n      <td>Lannister</td>\n      <td>hand-of-a-queen@dragons.rules</td>\n      <td>10.0</td>\n      <td>4.0</td>\n      <td>4.0</td>\n      <td>5.0</td>\n    </tr>\n    <tr>\n      <th>10</th>\n      <td>4</td>\n      <td>Tyrion</td>\n      <td>Lannister</td>\n      <td>hand-of-a-queen@dragons.rules</td>\n      <td>11.0</td>\n      <td>4.0</td>\n      <td>4.0</td>\n      <td>1.0</td>\n    </tr>\n    <tr>\n      <th>11</th>\n      <td>4</td>\n      <td>Tyrion</td>\n      <td>Lannister</td>\n      <td>hand-of-a-queen@dragons.rules</td>\n      <td>12.0</td>\n      <td>5.0</td>\n      <td>4.0</td>\n      <td>10.0</td>\n    </tr>\n    <tr>\n      <th>12</th>\n      <td>5</td>\n      <td>Cersei</td>\n      <td>Lannister</td>\n      <td>queen@iron-throne.7k</td>\n      <td>13.0</td>\n      <td>6.0</td>\n      <td>5.0</td>\n      <td>20.0</td>\n    </tr>\n    <tr>\n      <th>13</th>\n      <td>5</td>\n      <td>Cersei</td>\n      <td>Lannister</td>\n      <td>queen@iron-throne.7k</td>\n      <td>14.0</td>\n      <td>7.0</td>\n      <td>5.0</td>\n      <td>14.0</td>\n    </tr>\n    <tr>\n      <th>14</th>\n      <td>5</td>\n      <td>Cersei</td>\n      <td>Lannister</td>\n      <td>queen@iron-throne.7k</td>\n      <td>15.0</td>\n      <td>6.0</td>\n      <td>5.0</td>\n      <td>21.0</td>\n    </tr>\n    <tr>\n      <th>15</th>\n      <td>6</td>\n      <td>Sansa</td>\n      <td>Stark</td>\n      <td>lady@winterfell.north.7k</td>\n      <td>16.0</td>\n      <td>7.0</td>\n      <td>6.0</td>\n      <td>NaN</td>\n    </tr>\n    <tr>\n      <th>16</th>\n      <td>6</td>\n      <td>Sansa</td>\n      <td>Stark</td>\n      <td>lady@winterfell.north.7k</td>\n      <td>17.0</td>\n      <td>8.0</td>\n      <td>6.0</td>\n      <td>32.0</td>\n    </tr>\n    <tr>\n      <th>17</th>\n      <td>7</td>\n      <td>Daenerys</td>\n      <td>Targaryen</td>\n      <td>queen@dragons.rules</td>\n      <td>18.0</td>\n      <td>9.0</td>\n      <td>7.0</td>\n      <td>15.0</td>\n    </tr>\n    <tr>\n      <th>18</th>\n      <td>7</td>\n      <td>Daenerys</td>\n      <td>Targaryen</td>\n      <td>queen@dragons.rules</td>\n      <td>19.0</td>\n      <td>10.0</td>\n      <td>7.0</td>\n      <td>15.0</td>\n    </tr>\n    <tr>\n      <th>19</th>\n      <td>7</td>\n      <td>Daenerys</td>\n      <td>Targaryen</td>\n      <td>queen@dragons.rules</td>\n      <td>20.0</td>\n      <td>1.0</td>\n      <td>7.0</td>\n      <td>16.0</td>\n    </tr>\n    <tr>\n      <th>20</th>\n      <td>8</td>\n      <td>Samwell</td>\n      <td>Tarly</td>\n      <td>samwell@citadel.7k</td>\n      <td>21.0</td>\n      <td>5.0</td>\n      <td>8.0</td>\n      <td>10.0</td>\n    </tr>\n    <tr>\n      <th>21</th>\n      <td>8</td>\n      <td>Samwell</td>\n      <td>Tarly</td>\n      <td>samwell@citadel.7k</td>\n      <td>22.0</td>\n      <td>4.0</td>\n      <td>8.0</td>\n      <td>10.0</td>\n    </tr>\n    <tr>\n      <th>22</th>\n      <td>9</td>\n      <td>Brienne</td>\n      <td>None</td>\n      <td>brienne@tarth.7k</td>\n      <td>NaN</td>\n      <td>NaN</td>\n      <td>NaN</td>\n      <td>NaN</td>\n    </tr>\n    <tr>\n      <th>23</th>\n      <td>10</td>\n      <td>Ygritte</td>\n      <td>None</td>\n      <td>ygritte@wildlings.north.7k</td>\n      <td>23.0</td>\n      <td>6.0</td>\n      <td>10.0</td>\n      <td>8.0</td>\n    </tr>\n  </tbody>\n</table>\n</div>"
          },
          "metadata": {}
        }
      ]
    },
    {
      "metadata": {
        "trusted": true
      },
      "cell_type": "code",
      "source": "rs(\"\"\"\nSELECT * \nFROM users OUTER JOIN submissions \nON users.id == submissions.user_id\n\"\"\")",
      "execution_count": 40,
      "outputs": [
        {
          "output_type": "error",
          "ename": "DatabaseError",
          "evalue": "Execution failed on sql '\nSELECT * \nFROM users OUTER JOIN submissions \nON users.id == submissions.user_id\n': RIGHT and FULL OUTER JOINs are not currently supported",
          "traceback": [
            "\u001b[0;31m---------------------------------------------------------------------------\u001b[0m",
            "\u001b[0;31mOperationalError\u001b[0m                          Traceback (most recent call last)",
            "\u001b[0;32m/usr/local/lib/python3.7/site-packages/pandas/io/sql.py\u001b[0m in \u001b[0;36mexecute\u001b[0;34m(self, *args, **kwargs)\u001b[0m\n\u001b[1;32m   1594\u001b[0m             \u001b[0;32melse\u001b[0m\u001b[0;34m:\u001b[0m\u001b[0;34m\u001b[0m\u001b[0;34m\u001b[0m\u001b[0m\n\u001b[0;32m-> 1595\u001b[0;31m                 \u001b[0mcur\u001b[0m\u001b[0;34m.\u001b[0m\u001b[0mexecute\u001b[0m\u001b[0;34m(\u001b[0m\u001b[0;34m*\u001b[0m\u001b[0margs\u001b[0m\u001b[0;34m)\u001b[0m\u001b[0;34m\u001b[0m\u001b[0;34m\u001b[0m\u001b[0m\n\u001b[0m\u001b[1;32m   1596\u001b[0m             \u001b[0;32mreturn\u001b[0m \u001b[0mcur\u001b[0m\u001b[0;34m\u001b[0m\u001b[0;34m\u001b[0m\u001b[0m\n",
            "\u001b[0;31mOperationalError\u001b[0m: RIGHT and FULL OUTER JOINs are not currently supported",
            "\nDuring handling of the above exception, another exception occurred:\n",
            "\u001b[0;31mDatabaseError\u001b[0m                             Traceback (most recent call last)",
            "\u001b[0;32m<ipython-input-40-1e527a3998f8>\u001b[0m in \u001b[0;36m<module>\u001b[0;34m()\u001b[0m\n\u001b[1;32m      3\u001b[0m \u001b[0mFROM\u001b[0m \u001b[0musers\u001b[0m \u001b[0mOUTER\u001b[0m \u001b[0mJOIN\u001b[0m \u001b[0msubmissions\u001b[0m\u001b[0;34m\u001b[0m\u001b[0;34m\u001b[0m\u001b[0m\n\u001b[1;32m      4\u001b[0m \u001b[0mON\u001b[0m \u001b[0musers\u001b[0m\u001b[0;34m.\u001b[0m\u001b[0mid\u001b[0m \u001b[0;34m==\u001b[0m \u001b[0msubmissions\u001b[0m\u001b[0;34m.\u001b[0m\u001b[0muser_id\u001b[0m\u001b[0;34m\u001b[0m\u001b[0;34m\u001b[0m\u001b[0m\n\u001b[0;32m----> 5\u001b[0;31m \"\"\")\n\u001b[0m",
            "\u001b[0;32m<ipython-input-11-7e3c9c1b3fa9>\u001b[0m in \u001b[0;36mrs\u001b[0;34m(sql)\u001b[0m\n\u001b[1;32m      1\u001b[0m \u001b[0;32mdef\u001b[0m \u001b[0mrs\u001b[0m\u001b[0;34m(\u001b[0m\u001b[0msql\u001b[0m\u001b[0;34m)\u001b[0m\u001b[0;34m:\u001b[0m\u001b[0;34m\u001b[0m\u001b[0;34m\u001b[0m\u001b[0m\n\u001b[0;32m----> 2\u001b[0;31m     \u001b[0;32mreturn\u001b[0m \u001b[0mpd\u001b[0m\u001b[0;34m.\u001b[0m\u001b[0mread_sql\u001b[0m\u001b[0;34m(\u001b[0m\u001b[0msql\u001b[0m\u001b[0;34m,\u001b[0m \u001b[0mconn\u001b[0m\u001b[0;34m)\u001b[0m\u001b[0;34m\u001b[0m\u001b[0;34m\u001b[0m\u001b[0m\n\u001b[0m",
            "\u001b[0;32m/usr/local/lib/python3.7/site-packages/pandas/io/sql.py\u001b[0m in \u001b[0;36mread_sql\u001b[0;34m(sql, con, index_col, coerce_float, params, parse_dates, columns, chunksize)\u001b[0m\n\u001b[1;32m    408\u001b[0m             \u001b[0mcoerce_float\u001b[0m\u001b[0;34m=\u001b[0m\u001b[0mcoerce_float\u001b[0m\u001b[0;34m,\u001b[0m\u001b[0;34m\u001b[0m\u001b[0;34m\u001b[0m\u001b[0m\n\u001b[1;32m    409\u001b[0m             \u001b[0mparse_dates\u001b[0m\u001b[0;34m=\u001b[0m\u001b[0mparse_dates\u001b[0m\u001b[0;34m,\u001b[0m\u001b[0;34m\u001b[0m\u001b[0;34m\u001b[0m\u001b[0m\n\u001b[0;32m--> 410\u001b[0;31m             \u001b[0mchunksize\u001b[0m\u001b[0;34m=\u001b[0m\u001b[0mchunksize\u001b[0m\u001b[0;34m,\u001b[0m\u001b[0;34m\u001b[0m\u001b[0;34m\u001b[0m\u001b[0m\n\u001b[0m\u001b[1;32m    411\u001b[0m         )\n\u001b[1;32m    412\u001b[0m \u001b[0;34m\u001b[0m\u001b[0m\n",
            "\u001b[0;32m/usr/local/lib/python3.7/site-packages/pandas/io/sql.py\u001b[0m in \u001b[0;36mread_query\u001b[0;34m(self, sql, index_col, coerce_float, params, parse_dates, chunksize)\u001b[0m\n\u001b[1;32m   1643\u001b[0m \u001b[0;34m\u001b[0m\u001b[0m\n\u001b[1;32m   1644\u001b[0m         \u001b[0margs\u001b[0m \u001b[0;34m=\u001b[0m \u001b[0m_convert_params\u001b[0m\u001b[0;34m(\u001b[0m\u001b[0msql\u001b[0m\u001b[0;34m,\u001b[0m \u001b[0mparams\u001b[0m\u001b[0;34m)\u001b[0m\u001b[0;34m\u001b[0m\u001b[0;34m\u001b[0m\u001b[0m\n\u001b[0;32m-> 1645\u001b[0;31m         \u001b[0mcursor\u001b[0m \u001b[0;34m=\u001b[0m \u001b[0mself\u001b[0m\u001b[0;34m.\u001b[0m\u001b[0mexecute\u001b[0m\u001b[0;34m(\u001b[0m\u001b[0;34m*\u001b[0m\u001b[0margs\u001b[0m\u001b[0;34m)\u001b[0m\u001b[0;34m\u001b[0m\u001b[0;34m\u001b[0m\u001b[0m\n\u001b[0m\u001b[1;32m   1646\u001b[0m         \u001b[0mcolumns\u001b[0m \u001b[0;34m=\u001b[0m \u001b[0;34m[\u001b[0m\u001b[0mcol_desc\u001b[0m\u001b[0;34m[\u001b[0m\u001b[0;36m0\u001b[0m\u001b[0;34m]\u001b[0m \u001b[0;32mfor\u001b[0m \u001b[0mcol_desc\u001b[0m \u001b[0;32min\u001b[0m \u001b[0mcursor\u001b[0m\u001b[0;34m.\u001b[0m\u001b[0mdescription\u001b[0m\u001b[0;34m]\u001b[0m\u001b[0;34m\u001b[0m\u001b[0;34m\u001b[0m\u001b[0m\n\u001b[1;32m   1647\u001b[0m \u001b[0;34m\u001b[0m\u001b[0m\n",
            "\u001b[0;32m/usr/local/lib/python3.7/site-packages/pandas/io/sql.py\u001b[0m in \u001b[0;36mexecute\u001b[0;34m(self, *args, **kwargs)\u001b[0m\n\u001b[1;32m   1608\u001b[0m                 \u001b[0;34m\"Execution failed on sql '{sql}': {exc}\"\u001b[0m\u001b[0;34m.\u001b[0m\u001b[0mformat\u001b[0m\u001b[0;34m(\u001b[0m\u001b[0msql\u001b[0m\u001b[0;34m=\u001b[0m\u001b[0margs\u001b[0m\u001b[0;34m[\u001b[0m\u001b[0;36m0\u001b[0m\u001b[0;34m]\u001b[0m\u001b[0;34m,\u001b[0m \u001b[0mexc\u001b[0m\u001b[0;34m=\u001b[0m\u001b[0mexc\u001b[0m\u001b[0;34m)\u001b[0m\u001b[0;34m\u001b[0m\u001b[0;34m\u001b[0m\u001b[0m\n\u001b[1;32m   1609\u001b[0m             )\n\u001b[0;32m-> 1610\u001b[0;31m             \u001b[0mraise_with_traceback\u001b[0m\u001b[0;34m(\u001b[0m\u001b[0mex\u001b[0m\u001b[0;34m)\u001b[0m\u001b[0;34m\u001b[0m\u001b[0;34m\u001b[0m\u001b[0m\n\u001b[0m\u001b[1;32m   1611\u001b[0m \u001b[0;34m\u001b[0m\u001b[0m\n\u001b[1;32m   1612\u001b[0m     \u001b[0;34m@\u001b[0m\u001b[0mstaticmethod\u001b[0m\u001b[0;34m\u001b[0m\u001b[0;34m\u001b[0m\u001b[0m\n",
            "\u001b[0;32m/usr/local/lib/python3.7/site-packages/pandas/compat/__init__.py\u001b[0m in \u001b[0;36mraise_with_traceback\u001b[0;34m(exc, traceback)\u001b[0m\n\u001b[1;32m     45\u001b[0m     \u001b[0;32mif\u001b[0m \u001b[0mtraceback\u001b[0m \u001b[0;34m==\u001b[0m \u001b[0mEllipsis\u001b[0m\u001b[0;34m:\u001b[0m\u001b[0;34m\u001b[0m\u001b[0;34m\u001b[0m\u001b[0m\n\u001b[1;32m     46\u001b[0m         \u001b[0m_\u001b[0m\u001b[0;34m,\u001b[0m \u001b[0m_\u001b[0m\u001b[0;34m,\u001b[0m \u001b[0mtraceback\u001b[0m \u001b[0;34m=\u001b[0m \u001b[0msys\u001b[0m\u001b[0;34m.\u001b[0m\u001b[0mexc_info\u001b[0m\u001b[0;34m(\u001b[0m\u001b[0;34m)\u001b[0m\u001b[0;34m\u001b[0m\u001b[0;34m\u001b[0m\u001b[0m\n\u001b[0;32m---> 47\u001b[0;31m     \u001b[0;32mraise\u001b[0m \u001b[0mexc\u001b[0m\u001b[0;34m.\u001b[0m\u001b[0mwith_traceback\u001b[0m\u001b[0;34m(\u001b[0m\u001b[0mtraceback\u001b[0m\u001b[0;34m)\u001b[0m\u001b[0;34m\u001b[0m\u001b[0;34m\u001b[0m\u001b[0m\n\u001b[0m\u001b[1;32m     48\u001b[0m \u001b[0;34m\u001b[0m\u001b[0m\n\u001b[1;32m     49\u001b[0m \u001b[0;34m\u001b[0m\u001b[0m\n",
            "\u001b[0;32m/usr/local/lib/python3.7/site-packages/pandas/io/sql.py\u001b[0m in \u001b[0;36mexecute\u001b[0;34m(self, *args, **kwargs)\u001b[0m\n\u001b[1;32m   1593\u001b[0m                 \u001b[0mcur\u001b[0m\u001b[0;34m.\u001b[0m\u001b[0mexecute\u001b[0m\u001b[0;34m(\u001b[0m\u001b[0;34m*\u001b[0m\u001b[0margs\u001b[0m\u001b[0;34m,\u001b[0m \u001b[0;34m**\u001b[0m\u001b[0mkwargs\u001b[0m\u001b[0;34m)\u001b[0m\u001b[0;34m\u001b[0m\u001b[0;34m\u001b[0m\u001b[0m\n\u001b[1;32m   1594\u001b[0m             \u001b[0;32melse\u001b[0m\u001b[0;34m:\u001b[0m\u001b[0;34m\u001b[0m\u001b[0;34m\u001b[0m\u001b[0m\n\u001b[0;32m-> 1595\u001b[0;31m                 \u001b[0mcur\u001b[0m\u001b[0;34m.\u001b[0m\u001b[0mexecute\u001b[0m\u001b[0;34m(\u001b[0m\u001b[0;34m*\u001b[0m\u001b[0margs\u001b[0m\u001b[0;34m)\u001b[0m\u001b[0;34m\u001b[0m\u001b[0;34m\u001b[0m\u001b[0m\n\u001b[0m\u001b[1;32m   1596\u001b[0m             \u001b[0;32mreturn\u001b[0m \u001b[0mcur\u001b[0m\u001b[0;34m\u001b[0m\u001b[0;34m\u001b[0m\u001b[0m\n\u001b[1;32m   1597\u001b[0m         \u001b[0;32mexcept\u001b[0m \u001b[0mException\u001b[0m \u001b[0;32mas\u001b[0m \u001b[0mexc\u001b[0m\u001b[0;34m:\u001b[0m\u001b[0;34m\u001b[0m\u001b[0;34m\u001b[0m\u001b[0m\n",
            "\u001b[0;31mDatabaseError\u001b[0m: Execution failed on sql '\nSELECT * \nFROM users OUTER JOIN submissions \nON users.id == submissions.user_id\n': RIGHT and FULL OUTER JOINs are not currently supported"
          ]
        }
      ]
    },
    {
      "metadata": {
        "trusted": true
      },
      "cell_type": "code",
      "source": "rs(\"\"\"\nSELECT * FROM users\nWHERE users.id NOT IN (SELECT user_id FROM submissions)\n\"\"\")",
      "execution_count": 45,
      "outputs": [
        {
          "output_type": "execute_result",
          "execution_count": 45,
          "data": {
            "text/plain": "   id first_name last_name             email\n0   9    Brienne      None  brienne@tarth.7k",
            "text/html": "<div>\n<style scoped>\n    .dataframe tbody tr th:only-of-type {\n        vertical-align: middle;\n    }\n\n    .dataframe tbody tr th {\n        vertical-align: top;\n    }\n\n    .dataframe thead th {\n        text-align: right;\n    }\n</style>\n<table border=\"1\" class=\"dataframe\">\n  <thead>\n    <tr style=\"text-align: right;\">\n      <th></th>\n      <th>id</th>\n      <th>first_name</th>\n      <th>last_name</th>\n      <th>email</th>\n    </tr>\n  </thead>\n  <tbody>\n    <tr>\n      <th>0</th>\n      <td>9</td>\n      <td>Brienne</td>\n      <td>None</td>\n      <td>brienne@tarth.7k</td>\n    </tr>\n  </tbody>\n</table>\n</div>"
          },
          "metadata": {}
        }
      ]
    },
    {
      "metadata": {
        "trusted": true
      },
      "cell_type": "code",
      "source": "rs(\"\"\"\nSELECT * FROM users WHERE last_name == \"Stark\"\nUNION ALL\nSELECT * FROM users WHERE last_name == \"Snow\"\n\"\"\")",
      "execution_count": 49,
      "outputs": [
        {
          "output_type": "execute_result",
          "execution_count": 49,
          "data": {
            "text/plain": "   id first_name last_name                      email\n0   1     Eddard     Stark    ned@winterfell.north.7k\n1   3       Arya     Stark   arya@winterfell.north.7k\n2   6      Sansa     Stark   lady@winterfell.north.7k\n3   2        Jon      Snow  jsnow@winterfell.north.7k",
            "text/html": "<div>\n<style scoped>\n    .dataframe tbody tr th:only-of-type {\n        vertical-align: middle;\n    }\n\n    .dataframe tbody tr th {\n        vertical-align: top;\n    }\n\n    .dataframe thead th {\n        text-align: right;\n    }\n</style>\n<table border=\"1\" class=\"dataframe\">\n  <thead>\n    <tr style=\"text-align: right;\">\n      <th></th>\n      <th>id</th>\n      <th>first_name</th>\n      <th>last_name</th>\n      <th>email</th>\n    </tr>\n  </thead>\n  <tbody>\n    <tr>\n      <th>0</th>\n      <td>1</td>\n      <td>Eddard</td>\n      <td>Stark</td>\n      <td>ned@winterfell.north.7k</td>\n    </tr>\n    <tr>\n      <th>1</th>\n      <td>3</td>\n      <td>Arya</td>\n      <td>Stark</td>\n      <td>arya@winterfell.north.7k</td>\n    </tr>\n    <tr>\n      <th>2</th>\n      <td>6</td>\n      <td>Sansa</td>\n      <td>Stark</td>\n      <td>lady@winterfell.north.7k</td>\n    </tr>\n    <tr>\n      <th>3</th>\n      <td>2</td>\n      <td>Jon</td>\n      <td>Snow</td>\n      <td>jsnow@winterfell.north.7k</td>\n    </tr>\n  </tbody>\n</table>\n</div>"
          },
          "metadata": {}
        }
      ]
    },
    {
      "metadata": {
        "trusted": true
      },
      "cell_type": "code",
      "source": "## Для каждого пользователя и каждой его домашки посчитать среднюю оценку\n## по всем submission для этой домашки, учитывая, что она не может превышать\n## max_grade данного assignment",
      "execution_count": 64,
      "outputs": []
    },
    {
      "metadata": {
        "trusted": true
      },
      "cell_type": "code",
      "source": "rs(\"\"\"\nSELECT users.id, assign_id, first_name, last_name, avg(final_grade) \nFROM users JOIN \n(\n  SELECT submissions.id, \n         assignments.id as assign_id,\n         submissions.user_id as subm_id, \n         min(submissions.grade, assignments.max_grade) as final_grade \n  FROM submissions \n  JOIN assignments ON submissions.assignment_id == assignments.id\n) subm_with_grades\nWHERE users.id == subm_with_grades.subm_id\nGROUP BY users.id, assign_id\n\"\"\")",
      "execution_count": 73,
      "outputs": [
        {
          "output_type": "execute_result",
          "execution_count": 73,
          "data": {
            "text/plain": "    id  assign_id first_name  last_name  avg(final_grade)\n0    1          1     Eddard      Stark               6.0\n1    1          2     Eddard      Stark               5.0\n2    1          3     Eddard      Stark               NaN\n3    2          2        Jon       Snow               3.0\n4    2          3        Jon       Snow               2.0\n5    3          2       Arya      Stark              12.0\n6    3          4       Arya      Stark              12.5\n7    4          4     Tyrion  Lannister               3.0\n8    4          5     Tyrion  Lannister               7.0\n9    5          6     Cersei  Lannister              15.0\n10   5          7     Cersei  Lannister              14.0\n11   6          7      Sansa      Stark               NaN\n12   6          8      Sansa      Stark              10.0\n13   7          1   Daenerys  Targaryen              10.0\n14   7          9   Daenerys  Targaryen               7.0\n15   7         10   Daenerys  Targaryen               8.0\n16   8          4    Samwell      Tarly              10.0\n17   8          5    Samwell      Tarly              10.0\n18  10          6    Ygritte       None               8.0",
            "text/html": "<div>\n<style scoped>\n    .dataframe tbody tr th:only-of-type {\n        vertical-align: middle;\n    }\n\n    .dataframe tbody tr th {\n        vertical-align: top;\n    }\n\n    .dataframe thead th {\n        text-align: right;\n    }\n</style>\n<table border=\"1\" class=\"dataframe\">\n  <thead>\n    <tr style=\"text-align: right;\">\n      <th></th>\n      <th>id</th>\n      <th>assign_id</th>\n      <th>first_name</th>\n      <th>last_name</th>\n      <th>avg(final_grade)</th>\n    </tr>\n  </thead>\n  <tbody>\n    <tr>\n      <th>0</th>\n      <td>1</td>\n      <td>1</td>\n      <td>Eddard</td>\n      <td>Stark</td>\n      <td>6.0</td>\n    </tr>\n    <tr>\n      <th>1</th>\n      <td>1</td>\n      <td>2</td>\n      <td>Eddard</td>\n      <td>Stark</td>\n      <td>5.0</td>\n    </tr>\n    <tr>\n      <th>2</th>\n      <td>1</td>\n      <td>3</td>\n      <td>Eddard</td>\n      <td>Stark</td>\n      <td>NaN</td>\n    </tr>\n    <tr>\n      <th>3</th>\n      <td>2</td>\n      <td>2</td>\n      <td>Jon</td>\n      <td>Snow</td>\n      <td>3.0</td>\n    </tr>\n    <tr>\n      <th>4</th>\n      <td>2</td>\n      <td>3</td>\n      <td>Jon</td>\n      <td>Snow</td>\n      <td>2.0</td>\n    </tr>\n    <tr>\n      <th>5</th>\n      <td>3</td>\n      <td>2</td>\n      <td>Arya</td>\n      <td>Stark</td>\n      <td>12.0</td>\n    </tr>\n    <tr>\n      <th>6</th>\n      <td>3</td>\n      <td>4</td>\n      <td>Arya</td>\n      <td>Stark</td>\n      <td>12.5</td>\n    </tr>\n    <tr>\n      <th>7</th>\n      <td>4</td>\n      <td>4</td>\n      <td>Tyrion</td>\n      <td>Lannister</td>\n      <td>3.0</td>\n    </tr>\n    <tr>\n      <th>8</th>\n      <td>4</td>\n      <td>5</td>\n      <td>Tyrion</td>\n      <td>Lannister</td>\n      <td>7.0</td>\n    </tr>\n    <tr>\n      <th>9</th>\n      <td>5</td>\n      <td>6</td>\n      <td>Cersei</td>\n      <td>Lannister</td>\n      <td>15.0</td>\n    </tr>\n    <tr>\n      <th>10</th>\n      <td>5</td>\n      <td>7</td>\n      <td>Cersei</td>\n      <td>Lannister</td>\n      <td>14.0</td>\n    </tr>\n    <tr>\n      <th>11</th>\n      <td>6</td>\n      <td>7</td>\n      <td>Sansa</td>\n      <td>Stark</td>\n      <td>NaN</td>\n    </tr>\n    <tr>\n      <th>12</th>\n      <td>6</td>\n      <td>8</td>\n      <td>Sansa</td>\n      <td>Stark</td>\n      <td>10.0</td>\n    </tr>\n    <tr>\n      <th>13</th>\n      <td>7</td>\n      <td>1</td>\n      <td>Daenerys</td>\n      <td>Targaryen</td>\n      <td>10.0</td>\n    </tr>\n    <tr>\n      <th>14</th>\n      <td>7</td>\n      <td>9</td>\n      <td>Daenerys</td>\n      <td>Targaryen</td>\n      <td>7.0</td>\n    </tr>\n    <tr>\n      <th>15</th>\n      <td>7</td>\n      <td>10</td>\n      <td>Daenerys</td>\n      <td>Targaryen</td>\n      <td>8.0</td>\n    </tr>\n    <tr>\n      <th>16</th>\n      <td>8</td>\n      <td>4</td>\n      <td>Samwell</td>\n      <td>Tarly</td>\n      <td>10.0</td>\n    </tr>\n    <tr>\n      <th>17</th>\n      <td>8</td>\n      <td>5</td>\n      <td>Samwell</td>\n      <td>Tarly</td>\n      <td>10.0</td>\n    </tr>\n    <tr>\n      <th>18</th>\n      <td>10</td>\n      <td>6</td>\n      <td>Ygritte</td>\n      <td>None</td>\n      <td>8.0</td>\n    </tr>\n  </tbody>\n</table>\n</div>"
          },
          "metadata": {}
        }
      ]
    },
    {
      "metadata": {
        "trusted": true
      },
      "cell_type": "code",
      "source": "rs(\"\"\"\nselect u.id,\n       u.first_name, \n       u.last_name, \n       a.id, \n       avg(min(s.grade, max_grade)) as grade from users u\nleft join submissions s\non u.id = s.user_id\nleft join assignments a\non s.assignment_id = a.id\nGROUP BY u.id, a.id\n\"\"\")",
      "execution_count": 74,
      "outputs": [
        {
          "output_type": "execute_result",
          "execution_count": 74,
          "data": {
            "text/plain": "    id first_name  last_name    id  grade\n0    1     Eddard      Stark   1.0    6.0\n1    1     Eddard      Stark   2.0    5.0\n2    1     Eddard      Stark   3.0    NaN\n3    2        Jon       Snow   2.0    3.0\n4    2        Jon       Snow   3.0    2.0\n5    3       Arya      Stark   2.0   12.0\n6    3       Arya      Stark   4.0   12.5\n7    4     Tyrion  Lannister   4.0    3.0\n8    4     Tyrion  Lannister   5.0    7.0\n9    5     Cersei  Lannister   6.0   15.0\n10   5     Cersei  Lannister   7.0   14.0\n11   6      Sansa      Stark   7.0    NaN\n12   6      Sansa      Stark   8.0   10.0\n13   7   Daenerys  Targaryen   1.0   10.0\n14   7   Daenerys  Targaryen   9.0    7.0\n15   7   Daenerys  Targaryen  10.0    8.0\n16   8    Samwell      Tarly   4.0   10.0\n17   8    Samwell      Tarly   5.0   10.0\n18   9    Brienne       None   NaN    NaN\n19  10    Ygritte       None   6.0    8.0",
            "text/html": "<div>\n<style scoped>\n    .dataframe tbody tr th:only-of-type {\n        vertical-align: middle;\n    }\n\n    .dataframe tbody tr th {\n        vertical-align: top;\n    }\n\n    .dataframe thead th {\n        text-align: right;\n    }\n</style>\n<table border=\"1\" class=\"dataframe\">\n  <thead>\n    <tr style=\"text-align: right;\">\n      <th></th>\n      <th>id</th>\n      <th>first_name</th>\n      <th>last_name</th>\n      <th>id</th>\n      <th>grade</th>\n    </tr>\n  </thead>\n  <tbody>\n    <tr>\n      <th>0</th>\n      <td>1</td>\n      <td>Eddard</td>\n      <td>Stark</td>\n      <td>1.0</td>\n      <td>6.0</td>\n    </tr>\n    <tr>\n      <th>1</th>\n      <td>1</td>\n      <td>Eddard</td>\n      <td>Stark</td>\n      <td>2.0</td>\n      <td>5.0</td>\n    </tr>\n    <tr>\n      <th>2</th>\n      <td>1</td>\n      <td>Eddard</td>\n      <td>Stark</td>\n      <td>3.0</td>\n      <td>NaN</td>\n    </tr>\n    <tr>\n      <th>3</th>\n      <td>2</td>\n      <td>Jon</td>\n      <td>Snow</td>\n      <td>2.0</td>\n      <td>3.0</td>\n    </tr>\n    <tr>\n      <th>4</th>\n      <td>2</td>\n      <td>Jon</td>\n      <td>Snow</td>\n      <td>3.0</td>\n      <td>2.0</td>\n    </tr>\n    <tr>\n      <th>5</th>\n      <td>3</td>\n      <td>Arya</td>\n      <td>Stark</td>\n      <td>2.0</td>\n      <td>12.0</td>\n    </tr>\n    <tr>\n      <th>6</th>\n      <td>3</td>\n      <td>Arya</td>\n      <td>Stark</td>\n      <td>4.0</td>\n      <td>12.5</td>\n    </tr>\n    <tr>\n      <th>7</th>\n      <td>4</td>\n      <td>Tyrion</td>\n      <td>Lannister</td>\n      <td>4.0</td>\n      <td>3.0</td>\n    </tr>\n    <tr>\n      <th>8</th>\n      <td>4</td>\n      <td>Tyrion</td>\n      <td>Lannister</td>\n      <td>5.0</td>\n      <td>7.0</td>\n    </tr>\n    <tr>\n      <th>9</th>\n      <td>5</td>\n      <td>Cersei</td>\n      <td>Lannister</td>\n      <td>6.0</td>\n      <td>15.0</td>\n    </tr>\n    <tr>\n      <th>10</th>\n      <td>5</td>\n      <td>Cersei</td>\n      <td>Lannister</td>\n      <td>7.0</td>\n      <td>14.0</td>\n    </tr>\n    <tr>\n      <th>11</th>\n      <td>6</td>\n      <td>Sansa</td>\n      <td>Stark</td>\n      <td>7.0</td>\n      <td>NaN</td>\n    </tr>\n    <tr>\n      <th>12</th>\n      <td>6</td>\n      <td>Sansa</td>\n      <td>Stark</td>\n      <td>8.0</td>\n      <td>10.0</td>\n    </tr>\n    <tr>\n      <th>13</th>\n      <td>7</td>\n      <td>Daenerys</td>\n      <td>Targaryen</td>\n      <td>1.0</td>\n      <td>10.0</td>\n    </tr>\n    <tr>\n      <th>14</th>\n      <td>7</td>\n      <td>Daenerys</td>\n      <td>Targaryen</td>\n      <td>9.0</td>\n      <td>7.0</td>\n    </tr>\n    <tr>\n      <th>15</th>\n      <td>7</td>\n      <td>Daenerys</td>\n      <td>Targaryen</td>\n      <td>10.0</td>\n      <td>8.0</td>\n    </tr>\n    <tr>\n      <th>16</th>\n      <td>8</td>\n      <td>Samwell</td>\n      <td>Tarly</td>\n      <td>4.0</td>\n      <td>10.0</td>\n    </tr>\n    <tr>\n      <th>17</th>\n      <td>8</td>\n      <td>Samwell</td>\n      <td>Tarly</td>\n      <td>5.0</td>\n      <td>10.0</td>\n    </tr>\n    <tr>\n      <th>18</th>\n      <td>9</td>\n      <td>Brienne</td>\n      <td>None</td>\n      <td>NaN</td>\n      <td>NaN</td>\n    </tr>\n    <tr>\n      <th>19</th>\n      <td>10</td>\n      <td>Ygritte</td>\n      <td>None</td>\n      <td>6.0</td>\n      <td>8.0</td>\n    </tr>\n  </tbody>\n</table>\n</div>"
          },
          "metadata": {}
        }
      ]
    },
    {
      "metadata": {
        "trusted": true
      },
      "cell_type": "code",
      "source": "rs(\"\"\"\nselect u.first_name, \n       u.last_name, \n       a.name, \n       round(min((s.grade / a.max_grade)*10,10)) as grade \nfrom users u\nleft join submissions s\non u.id = s.user_id\nleft join assignments a\non s.assignment_id = a.id\nwhere grade is not null\nORDER BY name \"\"\")",
      "execution_count": 62,
      "outputs": [
        {
          "output_type": "execute_result",
          "execution_count": 62,
          "data": {
            "text/plain": "   first_name  last_name               name  grade\n0      Cersei  Lannister    Advanced Python    4.0\n1      Cersei  Lannister            Classes   10.0\n2      Cersei  Lannister            Classes   10.0\n3     Ygritte       None            Classes    5.0\n4    Daenerys  Targaryen        First class   10.0\n5         Jon       Snow          Functions    3.0\n6      Eddard      Stark              Intro    4.0\n7         Jon       Snow              Intro    3.0\n8        Arya      Stark              Intro   10.0\n9      Eddard      Stark    Intro to Python    6.0\n10   Daenerys  Targaryen    Intro to Python   10.0\n11      Sansa      Stark       Introduction   10.0\n12     Tyrion  Lannister             Pandas    4.0\n13     Tyrion  Lannister             Pandas   10.0\n14    Samwell      Tarly             Pandas   10.0\n15       Arya      Stark     Python, part 1    5.0\n16       Arya      Stark     Python, part 1    7.0\n17     Tyrion  Lannister     Python, part 1    2.0\n18     Tyrion  Lannister     Python, part 1    0.0\n19    Samwell      Tarly     Python, part 1    5.0\n20   Daenerys  Targaryen  Welcome to Python   10.0",
            "text/html": "<div>\n<style scoped>\n    .dataframe tbody tr th:only-of-type {\n        vertical-align: middle;\n    }\n\n    .dataframe tbody tr th {\n        vertical-align: top;\n    }\n\n    .dataframe thead th {\n        text-align: right;\n    }\n</style>\n<table border=\"1\" class=\"dataframe\">\n  <thead>\n    <tr style=\"text-align: right;\">\n      <th></th>\n      <th>first_name</th>\n      <th>last_name</th>\n      <th>name</th>\n      <th>grade</th>\n    </tr>\n  </thead>\n  <tbody>\n    <tr>\n      <th>0</th>\n      <td>Cersei</td>\n      <td>Lannister</td>\n      <td>Advanced Python</td>\n      <td>4.0</td>\n    </tr>\n    <tr>\n      <th>1</th>\n      <td>Cersei</td>\n      <td>Lannister</td>\n      <td>Classes</td>\n      <td>10.0</td>\n    </tr>\n    <tr>\n      <th>2</th>\n      <td>Cersei</td>\n      <td>Lannister</td>\n      <td>Classes</td>\n      <td>10.0</td>\n    </tr>\n    <tr>\n      <th>3</th>\n      <td>Ygritte</td>\n      <td>None</td>\n      <td>Classes</td>\n      <td>5.0</td>\n    </tr>\n    <tr>\n      <th>4</th>\n      <td>Daenerys</td>\n      <td>Targaryen</td>\n      <td>First class</td>\n      <td>10.0</td>\n    </tr>\n    <tr>\n      <th>5</th>\n      <td>Jon</td>\n      <td>Snow</td>\n      <td>Functions</td>\n      <td>3.0</td>\n    </tr>\n    <tr>\n      <th>6</th>\n      <td>Eddard</td>\n      <td>Stark</td>\n      <td>Intro</td>\n      <td>4.0</td>\n    </tr>\n    <tr>\n      <th>7</th>\n      <td>Jon</td>\n      <td>Snow</td>\n      <td>Intro</td>\n      <td>3.0</td>\n    </tr>\n    <tr>\n      <th>8</th>\n      <td>Arya</td>\n      <td>Stark</td>\n      <td>Intro</td>\n      <td>10.0</td>\n    </tr>\n    <tr>\n      <th>9</th>\n      <td>Eddard</td>\n      <td>Stark</td>\n      <td>Intro to Python</td>\n      <td>6.0</td>\n    </tr>\n    <tr>\n      <th>10</th>\n      <td>Daenerys</td>\n      <td>Targaryen</td>\n      <td>Intro to Python</td>\n      <td>10.0</td>\n    </tr>\n    <tr>\n      <th>11</th>\n      <td>Sansa</td>\n      <td>Stark</td>\n      <td>Introduction</td>\n      <td>10.0</td>\n    </tr>\n    <tr>\n      <th>12</th>\n      <td>Tyrion</td>\n      <td>Lannister</td>\n      <td>Pandas</td>\n      <td>4.0</td>\n    </tr>\n    <tr>\n      <th>13</th>\n      <td>Tyrion</td>\n      <td>Lannister</td>\n      <td>Pandas</td>\n      <td>10.0</td>\n    </tr>\n    <tr>\n      <th>14</th>\n      <td>Samwell</td>\n      <td>Tarly</td>\n      <td>Pandas</td>\n      <td>10.0</td>\n    </tr>\n    <tr>\n      <th>15</th>\n      <td>Arya</td>\n      <td>Stark</td>\n      <td>Python, part 1</td>\n      <td>5.0</td>\n    </tr>\n    <tr>\n      <th>16</th>\n      <td>Arya</td>\n      <td>Stark</td>\n      <td>Python, part 1</td>\n      <td>7.0</td>\n    </tr>\n    <tr>\n      <th>17</th>\n      <td>Tyrion</td>\n      <td>Lannister</td>\n      <td>Python, part 1</td>\n      <td>2.0</td>\n    </tr>\n    <tr>\n      <th>18</th>\n      <td>Tyrion</td>\n      <td>Lannister</td>\n      <td>Python, part 1</td>\n      <td>0.0</td>\n    </tr>\n    <tr>\n      <th>19</th>\n      <td>Samwell</td>\n      <td>Tarly</td>\n      <td>Python, part 1</td>\n      <td>5.0</td>\n    </tr>\n    <tr>\n      <th>20</th>\n      <td>Daenerys</td>\n      <td>Targaryen</td>\n      <td>Welcome to Python</td>\n      <td>10.0</td>\n    </tr>\n  </tbody>\n</table>\n</div>"
          },
          "metadata": {}
        }
      ]
    },
    {
      "metadata": {
        "trusted": true
      },
      "cell_type": "code",
      "source": "",
      "execution_count": null,
      "outputs": []
    }
  ],
  "metadata": {
    "kernelspec": {
      "name": "python3",
      "display_name": "Python 3",
      "language": "python"
    },
    "language_info": {
      "name": "python",
      "version": "3.7.2",
      "mimetype": "text/x-python",
      "codemirror_mode": {
        "name": "ipython",
        "version": 3
      },
      "pygments_lexer": "ipython3",
      "nbconvert_exporter": "python",
      "file_extension": ".py"
    },
    "gist": {
      "id": "",
      "data": {
        "description": "sql-lecture-2-join",
        "public": false
      }
    }
  },
  "nbformat": 4,
  "nbformat_minor": 2
}