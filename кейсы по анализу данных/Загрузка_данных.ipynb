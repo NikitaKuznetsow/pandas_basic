{
 "cells": [
  {
   "cell_type": "markdown",
   "metadata": {},
   "source": [
    "<a href=\"https://colab.research.google.com/github/dm-fedorov/pandas_basic/blob/master/%D0%BA%D0%B5%D0%B9%D1%81%D1%8B%20%D0%BF%D0%BE%20%D0%B0%D0%BD%D0%B0%D0%BB%D0%B8%D0%B7%D1%83%20%D0%B4%D0%B0%D0%BD%D0%BD%D1%8B%D1%85/COVID-19.ipynb\"><img align=\"left\" src=\"https://colab.research.google.com/assets/colab-badge.svg\" alt=\"Open in Colab\" title=\"Open and Execute in Google Colaboratory\" target=\"_blank\"></a>"
   ]
  },
  {
   "cell_type": "code",
   "execution_count": 3,
   "metadata": {},
   "outputs": [],
   "source": [
    "import numpy as np\n",
    "import pandas as pd"
   ]
  },
  {
   "cell_type": "markdown",
   "metadata": {},
   "source": [
    "С помощью модуля csv взглянем на первые 5 строк CSV-файла:"
   ]
  },
  {
   "cell_type": "code",
   "execution_count": 4,
   "metadata": {
    "scrolled": true
   },
   "outputs": [
    {
     "name": "stdout",
     "output_type": "stream",
     "text": [
      "['id', 'order_date', 'ship_mode', 'customer_id', 'sales']\n",
      "['100006', '2014-09-07', 'Standard', 'DK-13375', '377.97']\n",
      "['100090', '2014-07-08', 'Standard', 'EB-13705', '699.192']\n",
      "['100293', '2014-03-14', 'Standard', 'NF-18475', '91.056']\n",
      "['100328', '2014-01-28', 'Standard', 'JC-15340', '3.928']\n",
      "['100363', '2014-04-08', 'Standard', 'JM-15655', '21.376']\n"
     ]
    }
   ],
   "source": [
    "import csv \n",
    "with open('../data/orders.csv') as file:\n",
    "    reader = csv.reader(file)\n",
    "    for i, row in enumerate(reader):\n",
    "        print(row)\n",
    "        if i >= 5:\n",
    "            break"
   ]
  },
  {
   "cell_type": "markdown",
   "metadata": {},
   "source": [
    "### Считывание CSV-файла в датафрейм"
   ]
  },
  {
   "cell_type": "markdown",
   "metadata": {},
   "source": [
    "Датасеты лежат [здесь](https://github.com/dm-fedorov/pandas_basic/tree/master/data)."
   ]
  },
  {
   "cell_type": "code",
   "execution_count": 5,
   "metadata": {},
   "outputs": [
    {
     "data": {
      "text/html": [
       "<div>\n",
       "<style scoped>\n",
       "    .dataframe tbody tr th:only-of-type {\n",
       "        vertical-align: middle;\n",
       "    }\n",
       "\n",
       "    .dataframe tbody tr th {\n",
       "        vertical-align: top;\n",
       "    }\n",
       "\n",
       "    .dataframe thead th {\n",
       "        text-align: right;\n",
       "    }\n",
       "</style>\n",
       "<table border=\"1\" class=\"dataframe\">\n",
       "  <thead>\n",
       "    <tr style=\"text-align: right;\">\n",
       "      <th></th>\n",
       "      <th>id</th>\n",
       "      <th>order_date</th>\n",
       "      <th>ship_mode</th>\n",
       "      <th>customer_id</th>\n",
       "      <th>sales</th>\n",
       "    </tr>\n",
       "  </thead>\n",
       "  <tbody>\n",
       "    <tr>\n",
       "      <th>0</th>\n",
       "      <td>100006</td>\n",
       "      <td>2014-09-07</td>\n",
       "      <td>Standard</td>\n",
       "      <td>DK-13375</td>\n",
       "      <td>377.970</td>\n",
       "    </tr>\n",
       "    <tr>\n",
       "      <th>1</th>\n",
       "      <td>100090</td>\n",
       "      <td>2014-07-08</td>\n",
       "      <td>Standard</td>\n",
       "      <td>EB-13705</td>\n",
       "      <td>699.192</td>\n",
       "    </tr>\n",
       "    <tr>\n",
       "      <th>2</th>\n",
       "      <td>100293</td>\n",
       "      <td>2014-03-14</td>\n",
       "      <td>Standard</td>\n",
       "      <td>NF-18475</td>\n",
       "      <td>91.056</td>\n",
       "    </tr>\n",
       "    <tr>\n",
       "      <th>3</th>\n",
       "      <td>100328</td>\n",
       "      <td>2014-01-28</td>\n",
       "      <td>Standard</td>\n",
       "      <td>JC-15340</td>\n",
       "      <td>3.928</td>\n",
       "    </tr>\n",
       "    <tr>\n",
       "      <th>4</th>\n",
       "      <td>100363</td>\n",
       "      <td>2014-04-08</td>\n",
       "      <td>Standard</td>\n",
       "      <td>JM-15655</td>\n",
       "      <td>21.376</td>\n",
       "    </tr>\n",
       "  </tbody>\n",
       "</table>\n",
       "</div>"
      ],
      "text/plain": [
       "       id  order_date ship_mode customer_id    sales\n",
       "0  100006  2014-09-07  Standard    DK-13375  377.970\n",
       "1  100090  2014-07-08  Standard    EB-13705  699.192\n",
       "2  100293  2014-03-14  Standard    NF-18475   91.056\n",
       "3  100328  2014-01-28  Standard    JC-15340    3.928\n",
       "4  100363  2014-04-08  Standard    JM-15655   21.376"
      ]
     },
     "execution_count": 5,
     "metadata": {},
     "output_type": "execute_result"
    }
   ],
   "source": [
    "orders = pd.read_csv('../data/orders.csv')\n",
    "orders.head()"
   ]
  },
  {
   "cell_type": "markdown",
   "metadata": {},
   "source": [
    "### Указание индекса столбца при считывании CSV-файла "
   ]
  },
  {
   "cell_type": "markdown",
   "metadata": {},
   "source": [
    "Используем столбец 0 в качестве индекса:"
   ]
  },
  {
   "cell_type": "code",
   "execution_count": 6,
   "metadata": {},
   "outputs": [
    {
     "data": {
      "text/html": [
       "<div>\n",
       "<style scoped>\n",
       "    .dataframe tbody tr th:only-of-type {\n",
       "        vertical-align: middle;\n",
       "    }\n",
       "\n",
       "    .dataframe tbody tr th {\n",
       "        vertical-align: top;\n",
       "    }\n",
       "\n",
       "    .dataframe thead th {\n",
       "        text-align: right;\n",
       "    }\n",
       "</style>\n",
       "<table border=\"1\" class=\"dataframe\">\n",
       "  <thead>\n",
       "    <tr style=\"text-align: right;\">\n",
       "      <th></th>\n",
       "      <th>order_date</th>\n",
       "      <th>ship_mode</th>\n",
       "      <th>customer_id</th>\n",
       "      <th>sales</th>\n",
       "    </tr>\n",
       "    <tr>\n",
       "      <th>id</th>\n",
       "      <th></th>\n",
       "      <th></th>\n",
       "      <th></th>\n",
       "      <th></th>\n",
       "    </tr>\n",
       "  </thead>\n",
       "  <tbody>\n",
       "    <tr>\n",
       "      <th>100006</th>\n",
       "      <td>2014-09-07</td>\n",
       "      <td>Standard</td>\n",
       "      <td>DK-13375</td>\n",
       "      <td>377.970</td>\n",
       "    </tr>\n",
       "    <tr>\n",
       "      <th>100090</th>\n",
       "      <td>2014-07-08</td>\n",
       "      <td>Standard</td>\n",
       "      <td>EB-13705</td>\n",
       "      <td>699.192</td>\n",
       "    </tr>\n",
       "    <tr>\n",
       "      <th>100293</th>\n",
       "      <td>2014-03-14</td>\n",
       "      <td>Standard</td>\n",
       "      <td>NF-18475</td>\n",
       "      <td>91.056</td>\n",
       "    </tr>\n",
       "    <tr>\n",
       "      <th>100328</th>\n",
       "      <td>2014-01-28</td>\n",
       "      <td>Standard</td>\n",
       "      <td>JC-15340</td>\n",
       "      <td>3.928</td>\n",
       "    </tr>\n",
       "    <tr>\n",
       "      <th>100363</th>\n",
       "      <td>2014-04-08</td>\n",
       "      <td>Standard</td>\n",
       "      <td>JM-15655</td>\n",
       "      <td>21.376</td>\n",
       "    </tr>\n",
       "  </tbody>\n",
       "</table>\n",
       "</div>"
      ],
      "text/plain": [
       "        order_date ship_mode customer_id    sales\n",
       "id                                               \n",
       "100006  2014-09-07  Standard    DK-13375  377.970\n",
       "100090  2014-07-08  Standard    EB-13705  699.192\n",
       "100293  2014-03-14  Standard    NF-18475   91.056\n",
       "100328  2014-01-28  Standard    JC-15340    3.928\n",
       "100363  2014-04-08  Standard    JM-15655   21.376"
      ]
     },
     "execution_count": 6,
     "metadata": {},
     "output_type": "execute_result"
    }
   ],
   "source": [
    "orders = pd.read_csv('../data/orders.csv', index_col=0)\n",
    "orders.head()"
   ]
  },
  {
   "cell_type": "markdown",
   "metadata": {},
   "source": [
    "### Вывод и спецификация типа данных"
   ]
  },
  {
   "cell_type": "markdown",
   "metadata": {},
   "source": [
    "Исследуем типы столбцов в этом датафрейме:"
   ]
  },
  {
   "cell_type": "code",
   "execution_count": 7,
   "metadata": {},
   "outputs": [
    {
     "data": {
      "text/plain": [
       "order_date      object\n",
       "ship_mode       object\n",
       "customer_id     object\n",
       "sales          float64\n",
       "dtype: object"
      ]
     },
     "execution_count": 7,
     "metadata": {},
     "output_type": "execute_result"
    }
   ],
   "source": [
    "orders.dtypes"
   ]
  },
  {
   "cell_type": "markdown",
   "metadata": {},
   "source": [
    "Если это не так! указываем, что столбец sales должен иметь тип float64:"
   ]
  },
  {
   "cell_type": "code",
   "execution_count": 8,
   "metadata": {
    "scrolled": true
   },
   "outputs": [
    {
     "data": {
      "text/plain": [
       "id               int64\n",
       "order_date      object\n",
       "ship_mode       object\n",
       "customer_id     object\n",
       "sales          float64\n",
       "dtype: object"
      ]
     },
     "execution_count": 8,
     "metadata": {},
     "output_type": "execute_result"
    }
   ],
   "source": [
    "orders = pd.read_csv('../data/orders.csv', \n",
    "                      dtype={'sales': np.float64})\n",
    "orders.dtypes"
   ]
  },
  {
   "cell_type": "markdown",
   "metadata": {},
   "source": [
    "### Указание имен столбцов"
   ]
  },
  {
   "cell_type": "markdown",
   "metadata": {},
   "source": [
    "Задаем новый набор имен для столбцов, все имеют нижний регистр, header=0 задает строку заголовков:"
   ]
  },
  {
   "cell_type": "code",
   "execution_count": 9,
   "metadata": {},
   "outputs": [
    {
     "data": {
      "text/html": [
       "<div>\n",
       "<style scoped>\n",
       "    .dataframe tbody tr th:only-of-type {\n",
       "        vertical-align: middle;\n",
       "    }\n",
       "\n",
       "    .dataframe tbody tr th {\n",
       "        vertical-align: top;\n",
       "    }\n",
       "\n",
       "    .dataframe thead th {\n",
       "        text-align: right;\n",
       "    }\n",
       "</style>\n",
       "<table border=\"1\" class=\"dataframe\">\n",
       "  <thead>\n",
       "    <tr style=\"text-align: right;\">\n",
       "      <th></th>\n",
       "      <th>1</th>\n",
       "      <th>2</th>\n",
       "      <th>3</th>\n",
       "      <th>4</th>\n",
       "      <th>5</th>\n",
       "    </tr>\n",
       "  </thead>\n",
       "  <tbody>\n",
       "    <tr>\n",
       "      <th>0</th>\n",
       "      <td>100006</td>\n",
       "      <td>2014-09-07</td>\n",
       "      <td>Standard</td>\n",
       "      <td>DK-13375</td>\n",
       "      <td>377.970</td>\n",
       "    </tr>\n",
       "    <tr>\n",
       "      <th>1</th>\n",
       "      <td>100090</td>\n",
       "      <td>2014-07-08</td>\n",
       "      <td>Standard</td>\n",
       "      <td>EB-13705</td>\n",
       "      <td>699.192</td>\n",
       "    </tr>\n",
       "    <tr>\n",
       "      <th>2</th>\n",
       "      <td>100293</td>\n",
       "      <td>2014-03-14</td>\n",
       "      <td>Standard</td>\n",
       "      <td>NF-18475</td>\n",
       "      <td>91.056</td>\n",
       "    </tr>\n",
       "    <tr>\n",
       "      <th>3</th>\n",
       "      <td>100328</td>\n",
       "      <td>2014-01-28</td>\n",
       "      <td>Standard</td>\n",
       "      <td>JC-15340</td>\n",
       "      <td>3.928</td>\n",
       "    </tr>\n",
       "    <tr>\n",
       "      <th>4</th>\n",
       "      <td>100363</td>\n",
       "      <td>2014-04-08</td>\n",
       "      <td>Standard</td>\n",
       "      <td>JM-15655</td>\n",
       "      <td>21.376</td>\n",
       "    </tr>\n",
       "  </tbody>\n",
       "</table>\n",
       "</div>"
      ],
      "text/plain": [
       "        1           2         3         4        5\n",
       "0  100006  2014-09-07  Standard  DK-13375  377.970\n",
       "1  100090  2014-07-08  Standard  EB-13705  699.192\n",
       "2  100293  2014-03-14  Standard  NF-18475   91.056\n",
       "3  100328  2014-01-28  Standard  JC-15340    3.928\n",
       "4  100363  2014-04-08  Standard  JM-15655   21.376"
      ]
     },
     "execution_count": 9,
     "metadata": {},
     "output_type": "execute_result"
    }
   ],
   "source": [
    "df = pd.read_csv('../data/orders.csv', \n",
    "                 header=0,\n",
    "                 names=['1', '2', '3', '4', '5'])\n",
    "df.head()"
   ]
  },
  {
   "cell_type": "markdown",
   "metadata": {},
   "source": [
    "### Указание конкретных столбцов для загрузки"
   ]
  },
  {
   "cell_type": "markdown",
   "metadata": {},
   "source": [
    "Считываем в данных только столбцы Date и Close и индексируем по столбцу Date:"
   ]
  },
  {
   "cell_type": "code",
   "execution_count": 11,
   "metadata": {},
   "outputs": [
    {
     "data": {
      "text/html": [
       "<div>\n",
       "<style scoped>\n",
       "    .dataframe tbody tr th:only-of-type {\n",
       "        vertical-align: middle;\n",
       "    }\n",
       "\n",
       "    .dataframe tbody tr th {\n",
       "        vertical-align: top;\n",
       "    }\n",
       "\n",
       "    .dataframe thead th {\n",
       "        text-align: right;\n",
       "    }\n",
       "</style>\n",
       "<table border=\"1\" class=\"dataframe\">\n",
       "  <thead>\n",
       "    <tr style=\"text-align: right;\">\n",
       "      <th></th>\n",
       "      <th>name</th>\n",
       "    </tr>\n",
       "    <tr>\n",
       "      <th>id</th>\n",
       "      <th></th>\n",
       "    </tr>\n",
       "  </thead>\n",
       "  <tbody>\n",
       "    <tr>\n",
       "      <th>CG-12520</th>\n",
       "      <td>Claire Gute</td>\n",
       "    </tr>\n",
       "    <tr>\n",
       "      <th>DV-13045</th>\n",
       "      <td>Darrin Van Huff</td>\n",
       "    </tr>\n",
       "    <tr>\n",
       "      <th>SO-20335</th>\n",
       "      <td>Sean O'Donnell</td>\n",
       "    </tr>\n",
       "    <tr>\n",
       "      <th>BH-11710</th>\n",
       "      <td>Brosina Hoffman</td>\n",
       "    </tr>\n",
       "    <tr>\n",
       "      <th>AA-10480</th>\n",
       "      <td>Andrew Allen</td>\n",
       "    </tr>\n",
       "  </tbody>\n",
       "</table>\n",
       "</div>"
      ],
      "text/plain": [
       "                     name\n",
       "id                       \n",
       "CG-12520      Claire Gute\n",
       "DV-13045  Darrin Van Huff\n",
       "SO-20335   Sean O'Donnell\n",
       "BH-11710  Brosina Hoffman\n",
       "AA-10480     Andrew Allen"
      ]
     },
     "execution_count": 11,
     "metadata": {},
     "output_type": "execute_result"
    }
   ],
   "source": [
    "df2 = pd.read_csv(\"../data/customers.csv\", \n",
    "                  usecols=['id', 'name'], \n",
    "                  index_col=['id'])\n",
    "df2.head()"
   ]
  },
  {
   "cell_type": "markdown",
   "metadata": {},
   "source": [
    "### Сохранение датафрейма в CSV-файл"
   ]
  },
  {
   "cell_type": "markdown",
   "metadata": {},
   "source": [
    "Сохраняем датафрейм df2 в новый csv-файл задаем имя индекса как id:"
   ]
  },
  {
   "cell_type": "code",
   "execution_count": 14,
   "metadata": {},
   "outputs": [],
   "source": [
    "df2.to_csv(\"../data/customers_modified.csv\", index_label='id') # index_label"
   ]
  },
  {
   "cell_type": "markdown",
   "metadata": {},
   "source": [
    "С помощью модуля csv взглянем на первые 5 строк CSV-файла:"
   ]
  },
  {
   "cell_type": "code",
   "execution_count": 15,
   "metadata": {},
   "outputs": [
    {
     "name": "stdout",
     "output_type": "stream",
     "text": [
      "['id', 'name']\n",
      "['CG-12520', 'Claire Gute']\n",
      "['DV-13045', 'Darrin Van Huff']\n",
      "['SO-20335', \"Sean O'Donnell\"]\n",
      "['BH-11710', 'Brosina Hoffman']\n",
      "['AA-10480', 'Andrew Allen']\n"
     ]
    }
   ],
   "source": [
    "with open('../data/customers_modified.csv') as file:\n",
    "    reader = csv.reader(file)\n",
    "    for i,row in enumerate(reader):\n",
    "        print(row)\n",
    "        if i >= 5:\n",
    "            break"
   ]
  },
  {
   "cell_type": "markdown",
   "metadata": {},
   "source": [
    "### Работа с данными, в которых используются разделители полей"
   ]
  },
  {
   "cell_type": "markdown",
   "metadata": {},
   "source": [
    "Используем функцию read_table с параметром sep=',', чтобы прочитать CSV-файл:"
   ]
  },
  {
   "cell_type": "code",
   "execution_count": 16,
   "metadata": {},
   "outputs": [
    {
     "data": {
      "text/html": [
       "<div>\n",
       "<style scoped>\n",
       "    .dataframe tbody tr th:only-of-type {\n",
       "        vertical-align: middle;\n",
       "    }\n",
       "\n",
       "    .dataframe tbody tr th {\n",
       "        vertical-align: top;\n",
       "    }\n",
       "\n",
       "    .dataframe thead th {\n",
       "        text-align: right;\n",
       "    }\n",
       "</style>\n",
       "<table border=\"1\" class=\"dataframe\">\n",
       "  <thead>\n",
       "    <tr style=\"text-align: right;\">\n",
       "      <th></th>\n",
       "      <th>id</th>\n",
       "      <th>order_date</th>\n",
       "      <th>ship_mode</th>\n",
       "      <th>customer_id</th>\n",
       "      <th>sales</th>\n",
       "    </tr>\n",
       "  </thead>\n",
       "  <tbody>\n",
       "    <tr>\n",
       "      <th>0</th>\n",
       "      <td>100006</td>\n",
       "      <td>2014-09-07</td>\n",
       "      <td>Standard</td>\n",
       "      <td>DK-13375</td>\n",
       "      <td>377.970</td>\n",
       "    </tr>\n",
       "    <tr>\n",
       "      <th>1</th>\n",
       "      <td>100090</td>\n",
       "      <td>2014-07-08</td>\n",
       "      <td>Standard</td>\n",
       "      <td>EB-13705</td>\n",
       "      <td>699.192</td>\n",
       "    </tr>\n",
       "    <tr>\n",
       "      <th>2</th>\n",
       "      <td>100293</td>\n",
       "      <td>2014-03-14</td>\n",
       "      <td>Standard</td>\n",
       "      <td>NF-18475</td>\n",
       "      <td>91.056</td>\n",
       "    </tr>\n",
       "    <tr>\n",
       "      <th>3</th>\n",
       "      <td>100328</td>\n",
       "      <td>2014-01-28</td>\n",
       "      <td>Standard</td>\n",
       "      <td>JC-15340</td>\n",
       "      <td>3.928</td>\n",
       "    </tr>\n",
       "    <tr>\n",
       "      <th>4</th>\n",
       "      <td>100363</td>\n",
       "      <td>2014-04-08</td>\n",
       "      <td>Standard</td>\n",
       "      <td>JM-15655</td>\n",
       "      <td>21.376</td>\n",
       "    </tr>\n",
       "  </tbody>\n",
       "</table>\n",
       "</div>"
      ],
      "text/plain": [
       "       id  order_date ship_mode customer_id    sales\n",
       "0  100006  2014-09-07  Standard    DK-13375  377.970\n",
       "1  100090  2014-07-08  Standard    EB-13705  699.192\n",
       "2  100293  2014-03-14  Standard    NF-18475   91.056\n",
       "3  100328  2014-01-28  Standard    JC-15340    3.928\n",
       "4  100363  2014-04-08  Standard    JM-15655   21.376"
      ]
     },
     "execution_count": 16,
     "metadata": {},
     "output_type": "execute_result"
    }
   ],
   "source": [
    "df = pd.read_table(\"../data/orders.csv\", sep=',')\n",
    "df.head()"
   ]
  },
  {
   "cell_type": "markdown",
   "metadata": {},
   "source": [
    "Сохраняем как данные, в которых разделителем является вертикальная черта:"
   ]
  },
  {
   "cell_type": "code",
   "execution_count": 17,
   "metadata": {},
   "outputs": [],
   "source": [
    "df.to_csv(\"../data/orders_piped.txt\", sep='|')"
   ]
  },
  {
   "cell_type": "markdown",
   "metadata": {},
   "source": [
    "Смотрим, как сработал программный код:"
   ]
  },
  {
   "cell_type": "code",
   "execution_count": 20,
   "metadata": {},
   "outputs": [
    {
     "name": "stdout",
     "output_type": "stream",
     "text": [
      "['|id|order_date|ship_mode|customer_id|sales']\n",
      "['0|100006|2014-09-07|Standard|DK-13375|377.97']\n",
      "['1|100090|2014-07-08|Standard|EB-13705|699.192']\n",
      "['2|100293|2014-03-14|Standard|NF-18475|91.056']\n",
      "['3|100328|2014-01-28|Standard|JC-15340|3.928']\n",
      "['4|100363|2014-04-08|Standard|JM-15655|21.375999999999998']\n"
     ]
    }
   ],
   "source": [
    "with open('../data/orders_piped.txt') as file:\n",
    "    reader = csv.reader(file, delimiter=',')\n",
    "    for i,row in enumerate(reader):\n",
    "        print(row)\n",
    "        if i >= 5:\n",
    "            break"
   ]
  },
  {
   "cell_type": "markdown",
   "metadata": {},
   "source": [
    "### Обработка загрязненных данных, в которых используются разделители полей"
   ]
  },
  {
   "cell_type": "markdown",
   "metadata": {},
   "source": [
    "Смотрим первые 6 наблюдений файла msft2.csv:"
   ]
  },
  {
   "cell_type": "code",
   "execution_count": 21,
   "metadata": {
    "scrolled": true
   },
   "outputs": [
    {
     "name": "stdout",
     "output_type": "stream",
     "text": [
      "['This is fun because the data does not start on the first line', '', '', '', '', '']\n",
      "['Date', 'Open', 'High', 'Low', 'Close', 'Volume']\n",
      "['', '', '', '', '', '']\n",
      "['And there is space between the header row and data', '', '', '', '', '']\n",
      "['7/21/2014', '83.46', '83.53', '81.81', '81.93', '2359300']\n",
      "['7/18/2014', '83.3', '83.4', '82.52', '83.35', '4020800']\n",
      "['7/17/2014', '84.35', '84.63', '83.33', '83.63', '1974000']\n"
     ]
    }
   ],
   "source": [
    "with open('../data/msft2.csv') as file:\n",
    "    reader = csv.reader(file, delimiter=',')\n",
    "    for i,row in enumerate(reader):\n",
    "        print(row)\n",
    "        if i >= 6:\n",
    "            break"
   ]
  },
  {
   "cell_type": "markdown",
   "metadata": {},
   "source": [
    "Считываем данные, пропустив строки 0, 2 и 3:"
   ]
  },
  {
   "cell_type": "code",
   "execution_count": 22,
   "metadata": {},
   "outputs": [
    {
     "data": {
      "text/html": [
       "<div>\n",
       "<style scoped>\n",
       "    .dataframe tbody tr th:only-of-type {\n",
       "        vertical-align: middle;\n",
       "    }\n",
       "\n",
       "    .dataframe tbody tr th {\n",
       "        vertical-align: top;\n",
       "    }\n",
       "\n",
       "    .dataframe thead th {\n",
       "        text-align: right;\n",
       "    }\n",
       "</style>\n",
       "<table border=\"1\" class=\"dataframe\">\n",
       "  <thead>\n",
       "    <tr style=\"text-align: right;\">\n",
       "      <th></th>\n",
       "      <th>Date</th>\n",
       "      <th>Open</th>\n",
       "      <th>High</th>\n",
       "      <th>Low</th>\n",
       "      <th>Close</th>\n",
       "      <th>Volume</th>\n",
       "    </tr>\n",
       "  </thead>\n",
       "  <tbody>\n",
       "    <tr>\n",
       "      <th>0</th>\n",
       "      <td>7/21/2014</td>\n",
       "      <td>83.46</td>\n",
       "      <td>83.53</td>\n",
       "      <td>81.81</td>\n",
       "      <td>81.93</td>\n",
       "      <td>2359300</td>\n",
       "    </tr>\n",
       "    <tr>\n",
       "      <th>1</th>\n",
       "      <td>7/18/2014</td>\n",
       "      <td>83.30</td>\n",
       "      <td>83.40</td>\n",
       "      <td>82.52</td>\n",
       "      <td>83.35</td>\n",
       "      <td>4020800</td>\n",
       "    </tr>\n",
       "    <tr>\n",
       "      <th>2</th>\n",
       "      <td>7/17/2014</td>\n",
       "      <td>84.35</td>\n",
       "      <td>84.63</td>\n",
       "      <td>83.33</td>\n",
       "      <td>83.63</td>\n",
       "      <td>1974000</td>\n",
       "    </tr>\n",
       "    <tr>\n",
       "      <th>3</th>\n",
       "      <td>7/16/2014</td>\n",
       "      <td>83.77</td>\n",
       "      <td>84.91</td>\n",
       "      <td>83.66</td>\n",
       "      <td>84.91</td>\n",
       "      <td>1755600</td>\n",
       "    </tr>\n",
       "    <tr>\n",
       "      <th>4</th>\n",
       "      <td>7/15/2014</td>\n",
       "      <td>84.30</td>\n",
       "      <td>84.38</td>\n",
       "      <td>83.20</td>\n",
       "      <td>83.58</td>\n",
       "      <td>1874700</td>\n",
       "    </tr>\n",
       "  </tbody>\n",
       "</table>\n",
       "</div>"
      ],
      "text/plain": [
       "        Date   Open   High    Low  Close   Volume\n",
       "0  7/21/2014  83.46  83.53  81.81  81.93  2359300\n",
       "1  7/18/2014  83.30  83.40  82.52  83.35  4020800\n",
       "2  7/17/2014  84.35  84.63  83.33  83.63  1974000\n",
       "3  7/16/2014  83.77  84.91  83.66  84.91  1755600\n",
       "4  7/15/2014  84.30  84.38  83.20  83.58  1874700"
      ]
     },
     "execution_count": 22,
     "metadata": {},
     "output_type": "execute_result"
    }
   ],
   "source": [
    "df = pd.read_csv(\"../data/msft2.csv\", skiprows=[0, 2, 3])\n",
    "df[:5]"
   ]
  },
  {
   "cell_type": "markdown",
   "metadata": {},
   "source": [
    "Смотрим файл msft_with_footer.csv:"
   ]
  },
  {
   "cell_type": "code",
   "execution_count": 24,
   "metadata": {},
   "outputs": [
    {
     "name": "stdout",
     "output_type": "stream",
     "text": [
      "['Date', 'Open', 'High', 'Low', 'Close', 'Volume']\n",
      "['7/21/2014', '83.46', '83.53', '81.81', '81.93', '2359300']\n",
      "['7/18/2014', '83.3', '83.4', '82.52', '83.35', '4020800']\n",
      "[]\n",
      "['Uh oh', ' there is stuff at the end.']\n"
     ]
    }
   ],
   "source": [
    "with open('../data/msft_with_footer.csv') as file:\n",
    "    reader = csv.reader(file, delimiter=',')\n",
    "    for row in reader:\n",
    "        print(row)"
   ]
  },
  {
   "cell_type": "markdown",
   "metadata": {},
   "source": [
    "Считываем, пропустив две строки в конце файла:"
   ]
  },
  {
   "cell_type": "code",
   "execution_count": 25,
   "metadata": {},
   "outputs": [
    {
     "data": {
      "text/html": [
       "<div>\n",
       "<style scoped>\n",
       "    .dataframe tbody tr th:only-of-type {\n",
       "        vertical-align: middle;\n",
       "    }\n",
       "\n",
       "    .dataframe tbody tr th {\n",
       "        vertical-align: top;\n",
       "    }\n",
       "\n",
       "    .dataframe thead th {\n",
       "        text-align: right;\n",
       "    }\n",
       "</style>\n",
       "<table border=\"1\" class=\"dataframe\">\n",
       "  <thead>\n",
       "    <tr style=\"text-align: right;\">\n",
       "      <th></th>\n",
       "      <th>Date</th>\n",
       "      <th>Open</th>\n",
       "      <th>High</th>\n",
       "      <th>Low</th>\n",
       "      <th>Close</th>\n",
       "      <th>Volume</th>\n",
       "    </tr>\n",
       "  </thead>\n",
       "  <tbody>\n",
       "    <tr>\n",
       "      <th>0</th>\n",
       "      <td>7/21/2014</td>\n",
       "      <td>83.46</td>\n",
       "      <td>83.53</td>\n",
       "      <td>81.81</td>\n",
       "      <td>81.93</td>\n",
       "      <td>2359300</td>\n",
       "    </tr>\n",
       "    <tr>\n",
       "      <th>1</th>\n",
       "      <td>7/18/2014</td>\n",
       "      <td>83.30</td>\n",
       "      <td>83.40</td>\n",
       "      <td>82.52</td>\n",
       "      <td>83.35</td>\n",
       "      <td>4020800</td>\n",
       "    </tr>\n",
       "  </tbody>\n",
       "</table>\n",
       "</div>"
      ],
      "text/plain": [
       "        Date   Open   High    Low  Close   Volume\n",
       "0  7/21/2014  83.46  83.53  81.81  81.93  2359300\n",
       "1  7/18/2014  83.30  83.40  82.52  83.35  4020800"
      ]
     },
     "execution_count": 25,
     "metadata": {},
     "output_type": "execute_result"
    }
   ],
   "source": [
    "df = pd.read_csv(\"../data/msft_with_footer.csv\", \n",
    "                 skipfooter=2,\n",
    "                 engine='python')\n",
    "df"
   ]
  },
  {
   "cell_type": "markdown",
   "metadata": {},
   "source": [
    "Считаем только первые три строки:"
   ]
  },
  {
   "cell_type": "code",
   "execution_count": 26,
   "metadata": {},
   "outputs": [
    {
     "data": {
      "text/html": [
       "<div>\n",
       "<style scoped>\n",
       "    .dataframe tbody tr th:only-of-type {\n",
       "        vertical-align: middle;\n",
       "    }\n",
       "\n",
       "    .dataframe tbody tr th {\n",
       "        vertical-align: top;\n",
       "    }\n",
       "\n",
       "    .dataframe thead th {\n",
       "        text-align: right;\n",
       "    }\n",
       "</style>\n",
       "<table border=\"1\" class=\"dataframe\">\n",
       "  <thead>\n",
       "    <tr style=\"text-align: right;\">\n",
       "      <th></th>\n",
       "      <th>id</th>\n",
       "      <th>order_date</th>\n",
       "      <th>ship_mode</th>\n",
       "      <th>customer_id</th>\n",
       "      <th>sales</th>\n",
       "    </tr>\n",
       "  </thead>\n",
       "  <tbody>\n",
       "    <tr>\n",
       "      <th>0</th>\n",
       "      <td>100006</td>\n",
       "      <td>2014-09-07</td>\n",
       "      <td>Standard</td>\n",
       "      <td>DK-13375</td>\n",
       "      <td>377.970</td>\n",
       "    </tr>\n",
       "    <tr>\n",
       "      <th>1</th>\n",
       "      <td>100090</td>\n",
       "      <td>2014-07-08</td>\n",
       "      <td>Standard</td>\n",
       "      <td>EB-13705</td>\n",
       "      <td>699.192</td>\n",
       "    </tr>\n",
       "    <tr>\n",
       "      <th>2</th>\n",
       "      <td>100293</td>\n",
       "      <td>2014-03-14</td>\n",
       "      <td>Standard</td>\n",
       "      <td>NF-18475</td>\n",
       "      <td>91.056</td>\n",
       "    </tr>\n",
       "  </tbody>\n",
       "</table>\n",
       "</div>"
      ],
      "text/plain": [
       "       id  order_date ship_mode customer_id    sales\n",
       "0  100006  2014-09-07  Standard    DK-13375  377.970\n",
       "1  100090  2014-07-08  Standard    EB-13705  699.192\n",
       "2  100293  2014-03-14  Standard    NF-18475   91.056"
      ]
     },
     "execution_count": 26,
     "metadata": {},
     "output_type": "execute_result"
    }
   ],
   "source": [
    "pd.read_csv(\"../data/orders.csv\", nrows=3)"
   ]
  },
  {
   "cell_type": "markdown",
   "metadata": {},
   "source": [
    "Пропускаем 100 строк, а затем считываем следующие 5 строк:"
   ]
  },
  {
   "cell_type": "code",
   "execution_count": 27,
   "metadata": {},
   "outputs": [
    {
     "data": {
      "text/html": [
       "<div>\n",
       "<style scoped>\n",
       "    .dataframe tbody tr th:only-of-type {\n",
       "        vertical-align: middle;\n",
       "    }\n",
       "\n",
       "    .dataframe tbody tr th {\n",
       "        vertical-align: top;\n",
       "    }\n",
       "\n",
       "    .dataframe thead th {\n",
       "        text-align: right;\n",
       "    }\n",
       "</style>\n",
       "<table border=\"1\" class=\"dataframe\">\n",
       "  <thead>\n",
       "    <tr style=\"text-align: right;\">\n",
       "      <th></th>\n",
       "      <th>107524</th>\n",
       "      <th>2014-03-02</th>\n",
       "      <th>Standard</th>\n",
       "      <th>KN-16705</th>\n",
       "      <th>47.76</th>\n",
       "    </tr>\n",
       "  </thead>\n",
       "  <tbody>\n",
       "    <tr>\n",
       "      <th>0</th>\n",
       "      <td>107573</td>\n",
       "      <td>2014-12-12</td>\n",
       "      <td>Standard</td>\n",
       "      <td>PB-19150</td>\n",
       "      <td>23.472</td>\n",
       "    </tr>\n",
       "    <tr>\n",
       "      <th>1</th>\n",
       "      <td>107594</td>\n",
       "      <td>2014-07-02</td>\n",
       "      <td>Standard</td>\n",
       "      <td>EH-13945</td>\n",
       "      <td>79.560</td>\n",
       "    </tr>\n",
       "    <tr>\n",
       "      <th>2</th>\n",
       "      <td>107706</td>\n",
       "      <td>2014-02-14</td>\n",
       "      <td>Second</td>\n",
       "      <td>ST-20530</td>\n",
       "      <td>16.176</td>\n",
       "    </tr>\n",
       "    <tr>\n",
       "      <th>3</th>\n",
       "      <td>107755</td>\n",
       "      <td>2014-02-07</td>\n",
       "      <td>Standard</td>\n",
       "      <td>CK-12760</td>\n",
       "      <td>115.360</td>\n",
       "    </tr>\n",
       "    <tr>\n",
       "      <th>4</th>\n",
       "      <td>107769</td>\n",
       "      <td>2014-10-28</td>\n",
       "      <td>Standard</td>\n",
       "      <td>BT-11395</td>\n",
       "      <td>257.980</td>\n",
       "    </tr>\n",
       "  </tbody>\n",
       "</table>\n",
       "</div>"
      ],
      "text/plain": [
       "   107524  2014-03-02  Standard  KN-16705    47.76\n",
       "0  107573  2014-12-12  Standard  PB-19150   23.472\n",
       "1  107594  2014-07-02  Standard  EH-13945   79.560\n",
       "2  107706  2014-02-14    Second  ST-20530   16.176\n",
       "3  107755  2014-02-07  Standard  CK-12760  115.360\n",
       "4  107769  2014-10-28  Standard  BT-11395  257.980"
      ]
     },
     "execution_count": 27,
     "metadata": {},
     "output_type": "execute_result"
    }
   ],
   "source": [
    "pd.read_csv(\"../data/orders.csv\", skiprows=100, nrows=5) "
   ]
  },
  {
   "cell_type": "markdown",
   "metadata": {},
   "source": [
    "### Чтение и запись данных в формате Excel"
   ]
  },
  {
   "cell_type": "markdown",
   "metadata": {},
   "source": [
    "Считываем файл Excel, считываем только данные первого рабочего листа (msft в данном случае):"
   ]
  },
  {
   "cell_type": "code",
   "execution_count": 28,
   "metadata": {},
   "outputs": [
    {
     "data": {
      "text/html": [
       "<div>\n",
       "<style scoped>\n",
       "    .dataframe tbody tr th:only-of-type {\n",
       "        vertical-align: middle;\n",
       "    }\n",
       "\n",
       "    .dataframe tbody tr th {\n",
       "        vertical-align: top;\n",
       "    }\n",
       "\n",
       "    .dataframe thead th {\n",
       "        text-align: right;\n",
       "    }\n",
       "</style>\n",
       "<table border=\"1\" class=\"dataframe\">\n",
       "  <thead>\n",
       "    <tr style=\"text-align: right;\">\n",
       "      <th></th>\n",
       "      <th>Date</th>\n",
       "      <th>Open</th>\n",
       "      <th>High</th>\n",
       "      <th>Low</th>\n",
       "      <th>Close</th>\n",
       "      <th>Volume</th>\n",
       "    </tr>\n",
       "  </thead>\n",
       "  <tbody>\n",
       "    <tr>\n",
       "      <th>0</th>\n",
       "      <td>2014-07-21</td>\n",
       "      <td>83.46</td>\n",
       "      <td>83.53</td>\n",
       "      <td>81.81</td>\n",
       "      <td>81.93</td>\n",
       "      <td>2359300</td>\n",
       "    </tr>\n",
       "    <tr>\n",
       "      <th>1</th>\n",
       "      <td>2014-07-18</td>\n",
       "      <td>83.30</td>\n",
       "      <td>83.40</td>\n",
       "      <td>82.52</td>\n",
       "      <td>83.35</td>\n",
       "      <td>4020800</td>\n",
       "    </tr>\n",
       "    <tr>\n",
       "      <th>2</th>\n",
       "      <td>2014-07-17</td>\n",
       "      <td>84.35</td>\n",
       "      <td>84.63</td>\n",
       "      <td>83.33</td>\n",
       "      <td>83.63</td>\n",
       "      <td>1974000</td>\n",
       "    </tr>\n",
       "    <tr>\n",
       "      <th>3</th>\n",
       "      <td>2014-07-16</td>\n",
       "      <td>83.77</td>\n",
       "      <td>84.91</td>\n",
       "      <td>83.66</td>\n",
       "      <td>84.91</td>\n",
       "      <td>1755600</td>\n",
       "    </tr>\n",
       "    <tr>\n",
       "      <th>4</th>\n",
       "      <td>2014-07-15</td>\n",
       "      <td>84.30</td>\n",
       "      <td>84.38</td>\n",
       "      <td>83.20</td>\n",
       "      <td>83.58</td>\n",
       "      <td>1874700</td>\n",
       "    </tr>\n",
       "  </tbody>\n",
       "</table>\n",
       "</div>"
      ],
      "text/plain": [
       "        Date   Open   High    Low  Close   Volume\n",
       "0 2014-07-21  83.46  83.53  81.81  81.93  2359300\n",
       "1 2014-07-18  83.30  83.40  82.52  83.35  4020800\n",
       "2 2014-07-17  84.35  84.63  83.33  83.63  1974000\n",
       "3 2014-07-16  83.77  84.91  83.66  84.91  1755600\n",
       "4 2014-07-15  84.30  84.38  83.20  83.58  1874700"
      ]
     },
     "execution_count": 28,
     "metadata": {},
     "output_type": "execute_result"
    }
   ],
   "source": [
    "df = pd.read_excel(\"../data/stocks.xlsx\")\n",
    "df.head()"
   ]
  },
  {
   "cell_type": "markdown",
   "metadata": {},
   "source": [
    "Считываем данные рабочего листа aapl:"
   ]
  },
  {
   "cell_type": "code",
   "execution_count": 29,
   "metadata": {},
   "outputs": [
    {
     "data": {
      "text/html": [
       "<div>\n",
       "<style scoped>\n",
       "    .dataframe tbody tr th:only-of-type {\n",
       "        vertical-align: middle;\n",
       "    }\n",
       "\n",
       "    .dataframe tbody tr th {\n",
       "        vertical-align: top;\n",
       "    }\n",
       "\n",
       "    .dataframe thead th {\n",
       "        text-align: right;\n",
       "    }\n",
       "</style>\n",
       "<table border=\"1\" class=\"dataframe\">\n",
       "  <thead>\n",
       "    <tr style=\"text-align: right;\">\n",
       "      <th></th>\n",
       "      <th>Date</th>\n",
       "      <th>Open</th>\n",
       "      <th>High</th>\n",
       "      <th>Low</th>\n",
       "      <th>Close</th>\n",
       "      <th>Volume</th>\n",
       "    </tr>\n",
       "  </thead>\n",
       "  <tbody>\n",
       "    <tr>\n",
       "      <th>0</th>\n",
       "      <td>2014-07-21</td>\n",
       "      <td>94.99</td>\n",
       "      <td>95.00</td>\n",
       "      <td>93.72</td>\n",
       "      <td>93.94</td>\n",
       "      <td>38887700</td>\n",
       "    </tr>\n",
       "    <tr>\n",
       "      <th>1</th>\n",
       "      <td>2014-07-18</td>\n",
       "      <td>93.62</td>\n",
       "      <td>94.74</td>\n",
       "      <td>93.02</td>\n",
       "      <td>94.43</td>\n",
       "      <td>49898600</td>\n",
       "    </tr>\n",
       "    <tr>\n",
       "      <th>2</th>\n",
       "      <td>2014-07-17</td>\n",
       "      <td>95.03</td>\n",
       "      <td>95.28</td>\n",
       "      <td>92.57</td>\n",
       "      <td>93.09</td>\n",
       "      <td>57152000</td>\n",
       "    </tr>\n",
       "    <tr>\n",
       "      <th>3</th>\n",
       "      <td>2014-07-16</td>\n",
       "      <td>96.97</td>\n",
       "      <td>97.10</td>\n",
       "      <td>94.74</td>\n",
       "      <td>94.78</td>\n",
       "      <td>53396300</td>\n",
       "    </tr>\n",
       "    <tr>\n",
       "      <th>4</th>\n",
       "      <td>2014-07-15</td>\n",
       "      <td>96.80</td>\n",
       "      <td>96.85</td>\n",
       "      <td>95.03</td>\n",
       "      <td>95.32</td>\n",
       "      <td>45477900</td>\n",
       "    </tr>\n",
       "  </tbody>\n",
       "</table>\n",
       "</div>"
      ],
      "text/plain": [
       "        Date   Open   High    Low  Close    Volume\n",
       "0 2014-07-21  94.99  95.00  93.72  93.94  38887700\n",
       "1 2014-07-18  93.62  94.74  93.02  94.43  49898600\n",
       "2 2014-07-17  95.03  95.28  92.57  93.09  57152000\n",
       "3 2014-07-16  96.97  97.10  94.74  94.78  53396300\n",
       "4 2014-07-15  96.80  96.85  95.03  95.32  45477900"
      ]
     },
     "execution_count": 29,
     "metadata": {},
     "output_type": "execute_result"
    }
   ],
   "source": [
    "aapl = pd.read_excel(\"../data/stocks.xlsx\", sheet_name='aapl')\n",
    "aapl.head()"
   ]
  },
  {
   "cell_type": "markdown",
   "metadata": {},
   "source": [
    "Сохраняем XLS-файл в рабочем листе 'Sheet1':"
   ]
  },
  {
   "cell_type": "code",
   "execution_count": 30,
   "metadata": {},
   "outputs": [],
   "source": [
    "df.to_excel(\"../data/stocks2.xls\")"
   ]
  },
  {
   "cell_type": "markdown",
   "metadata": {},
   "source": [
    "Записываем, задав имя рабочего листа MSFT:"
   ]
  },
  {
   "cell_type": "code",
   "execution_count": 31,
   "metadata": {},
   "outputs": [],
   "source": [
    "df.to_excel(\"../data/stocks_msft.xls\", sheet_name='MSFT')"
   ]
  },
  {
   "cell_type": "markdown",
   "metadata": {},
   "source": [
    "Записываем несколько рабочих листов, требуется класс ExcelWriter:"
   ]
  },
  {
   "cell_type": "code",
   "execution_count": 32,
   "metadata": {},
   "outputs": [],
   "source": [
    "from pandas import ExcelWriter\n",
    "\n",
    "with ExcelWriter(\"../data/all_stocks.xls\") as writer:\n",
    "    aapl.to_excel(writer, sheet_name='AAPL')\n",
    "    df.to_excel(writer, sheet_name='MSFT')"
   ]
  },
  {
   "cell_type": "markdown",
   "metadata": {},
   "source": [
    "Записываем в xlsx:"
   ]
  },
  {
   "cell_type": "code",
   "execution_count": 33,
   "metadata": {},
   "outputs": [],
   "source": [
    "df.to_excel(\"../data/msft2.xlsx\")"
   ]
  },
  {
   "cell_type": "markdown",
   "metadata": {},
   "source": [
    "### Чтение и запись JSON-файлов"
   ]
  },
  {
   "cell_type": "markdown",
   "metadata": {},
   "source": [
    "Записываем данные Excel в JSON-файл:"
   ]
  },
  {
   "cell_type": "code",
   "execution_count": 34,
   "metadata": {
    "scrolled": true
   },
   "outputs": [],
   "source": [
    "df.head().to_json(\"../data/stocks.json\")"
   ]
  },
  {
   "cell_type": "markdown",
   "metadata": {},
   "source": [
    "Теперь взглянем на JSON-файл:"
   ]
  },
  {
   "cell_type": "code",
   "execution_count": 35,
   "metadata": {
    "scrolled": true
   },
   "outputs": [
    {
     "name": "stdout",
     "output_type": "stream",
     "text": [
      "{'Close': {'0': 81.93, '1': 83.35, '2': 83.63, '3': 84.91, '4': 83.58},\n",
      " 'Date': {'0': 1405900800000,\n",
      "          '1': 1405641600000,\n",
      "          '2': 1405555200000,\n",
      "          '3': 1405468800000,\n",
      "          '4': 1405382400000},\n",
      " 'High': {'0': 83.53, '1': 83.4, '2': 84.63, '3': 84.91, '4': 84.38},\n",
      " 'Low': {'0': 81.81, '1': 82.52, '2': 83.33, '3': 83.66, '4': 83.2},\n",
      " 'Open': {'0': 83.46, '1': 83.3, '2': 84.35, '3': 83.77, '4': 84.3},\n",
      " 'Volume': {'0': 2359300,\n",
      "            '1': 4020800,\n",
      "            '2': 1974000,\n",
      "            '3': 1755600,\n",
      "            '4': 1874700}}\n"
     ]
    }
   ],
   "source": [
    "import json\n",
    "from pprint import pprint\n",
    "\n",
    "with open('../data/stocks.json') as data_file:    \n",
    "    data = json.load(data_file)\n",
    "\n",
    "pprint(data)"
   ]
  },
  {
   "cell_type": "markdown",
   "metadata": {},
   "source": [
    "Считываем данные в формате JSON:"
   ]
  },
  {
   "cell_type": "code",
   "execution_count": 36,
   "metadata": {
    "scrolled": true
   },
   "outputs": [
    {
     "data": {
      "text/html": [
       "<div>\n",
       "<style scoped>\n",
       "    .dataframe tbody tr th:only-of-type {\n",
       "        vertical-align: middle;\n",
       "    }\n",
       "\n",
       "    .dataframe tbody tr th {\n",
       "        vertical-align: top;\n",
       "    }\n",
       "\n",
       "    .dataframe thead th {\n",
       "        text-align: right;\n",
       "    }\n",
       "</style>\n",
       "<table border=\"1\" class=\"dataframe\">\n",
       "  <thead>\n",
       "    <tr style=\"text-align: right;\">\n",
       "      <th></th>\n",
       "      <th>Date</th>\n",
       "      <th>Open</th>\n",
       "      <th>High</th>\n",
       "      <th>Low</th>\n",
       "      <th>Close</th>\n",
       "      <th>Volume</th>\n",
       "    </tr>\n",
       "  </thead>\n",
       "  <tbody>\n",
       "    <tr>\n",
       "      <th>0</th>\n",
       "      <td>2014-07-21</td>\n",
       "      <td>83.46</td>\n",
       "      <td>83.53</td>\n",
       "      <td>81.81</td>\n",
       "      <td>81.93</td>\n",
       "      <td>2359300</td>\n",
       "    </tr>\n",
       "    <tr>\n",
       "      <th>1</th>\n",
       "      <td>2014-07-18</td>\n",
       "      <td>83.30</td>\n",
       "      <td>83.40</td>\n",
       "      <td>82.52</td>\n",
       "      <td>83.35</td>\n",
       "      <td>4020800</td>\n",
       "    </tr>\n",
       "    <tr>\n",
       "      <th>2</th>\n",
       "      <td>2014-07-17</td>\n",
       "      <td>84.35</td>\n",
       "      <td>84.63</td>\n",
       "      <td>83.33</td>\n",
       "      <td>83.63</td>\n",
       "      <td>1974000</td>\n",
       "    </tr>\n",
       "    <tr>\n",
       "      <th>3</th>\n",
       "      <td>2014-07-16</td>\n",
       "      <td>83.77</td>\n",
       "      <td>84.91</td>\n",
       "      <td>83.66</td>\n",
       "      <td>84.91</td>\n",
       "      <td>1755600</td>\n",
       "    </tr>\n",
       "    <tr>\n",
       "      <th>4</th>\n",
       "      <td>2014-07-15</td>\n",
       "      <td>84.30</td>\n",
       "      <td>84.38</td>\n",
       "      <td>83.20</td>\n",
       "      <td>83.58</td>\n",
       "      <td>1874700</td>\n",
       "    </tr>\n",
       "  </tbody>\n",
       "</table>\n",
       "</div>"
      ],
      "text/plain": [
       "        Date   Open   High    Low  Close   Volume\n",
       "0 2014-07-21  83.46  83.53  81.81  81.93  2359300\n",
       "1 2014-07-18  83.30  83.40  82.52  83.35  4020800\n",
       "2 2014-07-17  84.35  84.63  83.33  83.63  1974000\n",
       "3 2014-07-16  83.77  84.91  83.66  84.91  1755600\n",
       "4 2014-07-15  84.30  84.38  83.20  83.58  1874700"
      ]
     },
     "execution_count": 36,
     "metadata": {},
     "output_type": "execute_result"
    }
   ],
   "source": [
    "df_from_json = pd.read_json(\"../data/stocks.json\")\n",
    "df_from_json.head()"
   ]
  },
  {
   "cell_type": "markdown",
   "metadata": {},
   "source": [
    "### Чтение HTML-файлов из Интернета"
   ]
  },
  {
   "cell_type": "markdown",
   "metadata": {},
   "source": [
    "Задаем URL-адрес HTML-файла:"
   ]
  },
  {
   "cell_type": "code",
   "execution_count": 37,
   "metadata": {},
   "outputs": [],
   "source": [
    "url = \"http://rating.unecon.ru/index.php?&y=2019&k=1&f=1&up=12259&s=2&upp=all&sort=fio&ball=hide&g=12450\""
   ]
  },
  {
   "cell_type": "code",
   "execution_count": 37,
   "metadata": {},
   "outputs": [],
   "source": [
    "students = pd.read_html(url, encoding='utf8')"
   ]
  },
  {
   "cell_type": "markdown",
   "metadata": {},
   "source": [
    "Проверяем, как была прочитана часть первой таблицы:"
   ]
  },
  {
   "cell_type": "code",
   "execution_count": 38,
   "metadata": {},
   "outputs": [
    {
     "data": {
      "text/html": [
       "<div>\n",
       "<style scoped>\n",
       "    .dataframe tbody tr th:only-of-type {\n",
       "        vertical-align: middle;\n",
       "    }\n",
       "\n",
       "    .dataframe tbody tr th {\n",
       "        vertical-align: top;\n",
       "    }\n",
       "\n",
       "    .dataframe thead tr th {\n",
       "        text-align: left;\n",
       "    }\n",
       "</style>\n",
       "<table border=\"1\" class=\"dataframe\">\n",
       "  <thead>\n",
       "    <tr>\n",
       "      <th></th>\n",
       "      <th>№</th>\n",
       "      <th>Фамилия, имя, отчество</th>\n",
       "    </tr>\n",
       "    <tr>\n",
       "      <th></th>\n",
       "      <th>№</th>\n",
       "      <th>Фамилия, имя, отчество</th>\n",
       "    </tr>\n",
       "  </thead>\n",
       "  <tbody>\n",
       "    <tr>\n",
       "      <th>0</th>\n",
       "      <td>1</td>\n",
       "      <td>Абзалов Никита Фаргатович</td>\n",
       "    </tr>\n",
       "    <tr>\n",
       "      <th>1</th>\n",
       "      <td>2</td>\n",
       "      <td>Архипова Анна Дмитриевна</td>\n",
       "    </tr>\n",
       "    <tr>\n",
       "      <th>2</th>\n",
       "      <td>3</td>\n",
       "      <td>Ахтариев Альберт Марсельевич</td>\n",
       "    </tr>\n",
       "    <tr>\n",
       "      <th>3</th>\n",
       "      <td>4</td>\n",
       "      <td>Беляева Яна Сергеевна</td>\n",
       "    </tr>\n",
       "    <tr>\n",
       "      <th>4</th>\n",
       "      <td>5</td>\n",
       "      <td>Бондаренко Руслан Александрович</td>\n",
       "    </tr>\n",
       "  </tbody>\n",
       "</table>\n",
       "</div>"
      ],
      "text/plain": [
       "   №           Фамилия, имя, отчество\n",
       "   №           Фамилия, имя, отчество\n",
       "0  1        Абзалов Никита Фаргатович\n",
       "1  2         Архипова Анна Дмитриевна\n",
       "2  3     Ахтариев Альберт Марсельевич\n",
       "3  4            Беляева Яна Сергеевна\n",
       "4  5  Бондаренко Руслан Александрович"
      ]
     },
     "execution_count": 38,
     "metadata": {},
     "output_type": "execute_result"
    }
   ],
   "source": [
    "students[0][0:5].iloc[:,0:2]"
   ]
  },
  {
   "cell_type": "markdown",
   "metadata": {},
   "source": [
    "Считываем данные о котировках акций:"
   ]
  },
  {
   "cell_type": "code",
   "execution_count": 39,
   "metadata": {},
   "outputs": [],
   "source": [
    "df = pd.read_excel(\"../data/stocks.xlsx\")"
   ]
  },
  {
   "cell_type": "markdown",
   "metadata": {},
   "source": [
    "Записываем первые две строки в HTML:"
   ]
  },
  {
   "cell_type": "code",
   "execution_count": 40,
   "metadata": {},
   "outputs": [],
   "source": [
    "df.head(2).to_html(\"../data/stocks.html\")"
   ]
  },
  {
   "cell_type": "markdown",
   "metadata": {},
   "source": [
    "Смотрим HTML-файл в браузере:"
   ]
  },
  {
   "cell_type": "code",
   "execution_count": 41,
   "metadata": {},
   "outputs": [
    {
     "data": {
      "text/plain": [
       "True"
      ]
     },
     "execution_count": 41,
     "metadata": {},
     "output_type": "execute_result"
    }
   ],
   "source": [
    "import webbrowser\n",
    "webbrowser.open(\"../data/stocks.html\")"
   ]
  },
  {
   "cell_type": "markdown",
   "metadata": {},
   "source": [
    "### Загрузка данных из Интернета и облака"
   ]
  },
  {
   "cell_type": "code",
   "execution_count": 43,
   "metadata": {},
   "outputs": [
    {
     "data": {
      "text/html": [
       "<div>\n",
       "<style scoped>\n",
       "    .dataframe tbody tr th:only-of-type {\n",
       "        vertical-align: middle;\n",
       "    }\n",
       "\n",
       "    .dataframe tbody tr th {\n",
       "        vertical-align: top;\n",
       "    }\n",
       "\n",
       "    .dataframe thead th {\n",
       "        text-align: right;\n",
       "    }\n",
       "</style>\n",
       "<table border=\"1\" class=\"dataframe\">\n",
       "  <thead>\n",
       "    <tr style=\"text-align: right;\">\n",
       "      <th></th>\n",
       "      <th>plot_id</th>\n",
       "      <th>plot_type</th>\n",
       "    </tr>\n",
       "  </thead>\n",
       "  <tbody>\n",
       "    <tr>\n",
       "      <th>0</th>\n",
       "      <td>1</td>\n",
       "      <td>Spectab exclosure</td>\n",
       "    </tr>\n",
       "    <tr>\n",
       "      <th>1</th>\n",
       "      <td>2</td>\n",
       "      <td>Control</td>\n",
       "    </tr>\n",
       "    <tr>\n",
       "      <th>2</th>\n",
       "      <td>3</td>\n",
       "      <td>Long-term Krat Exclosure</td>\n",
       "    </tr>\n",
       "    <tr>\n",
       "      <th>3</th>\n",
       "      <td>4</td>\n",
       "      <td>Control</td>\n",
       "    </tr>\n",
       "    <tr>\n",
       "      <th>4</th>\n",
       "      <td>5</td>\n",
       "      <td>Rodent Exclosure</td>\n",
       "    </tr>\n",
       "  </tbody>\n",
       "</table>\n",
       "</div>"
      ],
      "text/plain": [
       "   plot_id                 plot_type\n",
       "0        1         Spectab exclosure\n",
       "1        2                   Control\n",
       "2        3  Long-term Krat Exclosure\n",
       "3        4                   Control\n",
       "4        5          Rodent Exclosure"
      ]
     },
     "execution_count": 43,
     "metadata": {},
     "output_type": "execute_result"
    }
   ],
   "source": [
    "df = pd.read_csv(\n",
    "    \"https://raw.githubusercontent.com/arthur-e/swc-workshop/master/data/ecology-plots.csv\",\n",
    "    encoding='utf8')\n",
    "df.head()"
   ]
  },
  {
   "cell_type": "markdown",
   "metadata": {},
   "source": [
    "### Чтение из базы данных SQL и запись в базу данных SQL"
   ]
  },
  {
   "cell_type": "raw",
   "metadata": {},
   "source": [
    "orders = pd.read_csv(\"Data/orders.csv\")\n",
    "#orders[\"\"]=\"MSFT\"\n",
    "customers = pd.read_csv(\"Data/customers.csv\")\n",
    "#aapl[\"Symbol\"]=\"AAPL\""
   ]
  },
  {
   "cell_type": "markdown",
   "metadata": {},
   "source": [
    ".to_sql() создаст базу SQL для хранения датафрейма в указанной таблице.  \n",
    "\n",
    "if_exists задает действие, которое нужно выполнить в том случае, если таблица уже существует\n"
   ]
  },
  {
   "cell_type": "raw",
   "metadata": {},
   "source": [
    "import sqlite3\n",
    "\n",
    "# создаем подключение\n",
    "connection = sqlite3.connect(\"Data/stocks.sqlite\")\n",
    "orders.to_sql(\"MY_DATA\", connection, if_exists=\"replace\")\n",
    "customers.to_sql(\"MY_DATA\", connection, if_exists=\"append\")\n",
    "\n",
    "# подтверждаем отправку данных в базу и закрываем подключение\n",
    "connection.commit()\n",
    "connection.close()"
   ]
  },
  {
   "cell_type": "raw",
   "metadata": {},
   "source": [
    "# подключаемся к файлу базы данных\n",
    "connection = sqlite3.connect(\"Data/stocks.sqlite\")\n",
    "\n",
    "# запрос всех записей в STOCK_DATA\n",
    "# возвращает датафрейм\n",
    "# index_col задает столбец, который нужно сделать\n",
    "# индексом датафрейма\n",
    "stocks = pd.io.sql.read_sql(\"SELECT * FROM STOCK_DATA;\", \n",
    "                             connection, index_col='index')\n",
    "\n",
    "# закрываем подключение\n",
    "connection.close()\n",
    "\n",
    "# выводим первые 5 наблюдений в извлеченных данных\n",
    "stocks[:5]"
   ]
  }
 ],
 "metadata": {
  "anaconda-cloud": {},
  "kernelspec": {
   "display_name": "Python 3",
   "language": "python",
   "name": "python3"
  },
  "language_info": {
   "codemirror_mode": {
    "name": "ipython",
    "version": 3
   },
   "file_extension": ".py",
   "mimetype": "text/x-python",
   "name": "python",
   "nbconvert_exporter": "python",
   "pygments_lexer": "ipython3",
   "version": "3.8.3"
  }
 },
 "nbformat": 4,
 "nbformat_minor": 4
}
