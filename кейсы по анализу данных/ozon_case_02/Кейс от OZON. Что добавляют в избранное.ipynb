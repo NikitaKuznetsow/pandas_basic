{
 "cells": [
  {
   "cell_type": "markdown",
   "metadata": {},
   "source": [
    "# Что добавляют в избранное на OZON\n",
    "\n",
    "> [источник](https://opendata.ozon.ru/data/chto-dobavlyaut-v-izbrannoe/)\n",
    "\n",
    "Один из способов оценить, насколько товар востребован среди покупателей - посмотреть, как часто его добавляют в избранное. В этом датасете мы собрали товары, которые пользователи чаще всего добавляли в избранное, и которых уже более 15 дней нет в наличии. Такие товары мы разбили на две группы:\n",
    "\n",
    "- Товары, добавленные в избранное наибольшее количество раз по итогам последнего месяца, которых нет в наличии более 15 дней.\n",
    "- Товары, которые пользователи больше всего добавляли в избранное за всю историю и которых нет в наличии более 15 дней"
   ]
  },
  {
   "cell_type": "code",
   "execution_count": null,
   "metadata": {},
   "outputs": [],
   "source": [
    "# chto-dobavlyali-v-izbrannoe-v-noyabre-2020.xlsx"
   ]
  }
 ],
 "metadata": {
  "kernelspec": {
   "display_name": "Python 3",
   "language": "python",
   "name": "python3"
  },
  "language_info": {
   "codemirror_mode": {
    "name": "ipython",
    "version": 3
   },
   "file_extension": ".py",
   "mimetype": "text/x-python",
   "name": "python",
   "nbconvert_exporter": "python",
   "pygments_lexer": "ipython3",
   "version": "3.8.3"
  }
 },
 "nbformat": 4,
 "nbformat_minor": 4
}
