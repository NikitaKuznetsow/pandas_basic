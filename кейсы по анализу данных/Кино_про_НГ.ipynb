{
 "cells": [
  {
   "cell_type": "markdown",
   "metadata": {},
   "source": [
    "<a href=\"https://colab.research.google.com/github/dm-fedorov/pandas_basic/blob/master/кейсы%20по%20анализу%20данных/Кино_про_НГ.ipynb\" target=\"_blank\"><img align=\"left\" src=\"https://colab.research.google.com/assets/colab-badge.svg\" alt=\"Open in Colab\" title=\"Open and Execute in Google Colaboratory\"></a>"
   ]
  },
  {
   "cell_type": "code",
   "execution_count": 1,
   "metadata": {},
   "outputs": [],
   "source": [
    "import numpy as np\n",
    "import pandas as pd"
   ]
  },
  {
   "cell_type": "code",
   "execution_count": 2,
   "metadata": {},
   "outputs": [],
   "source": [
    "url = \"https://raw.githubusercontent.com/dm-fedorov/pandas_basic/master/data/new_year_film.csv\""
   ]
  },
  {
   "cell_type": "code",
   "execution_count": 3,
   "metadata": {},
   "outputs": [
    {
     "data": {
      "text/html": [
       "<div>\n",
       "<style scoped>\n",
       "    .dataframe tbody tr th:only-of-type {\n",
       "        vertical-align: middle;\n",
       "    }\n",
       "\n",
       "    .dataframe tbody tr th {\n",
       "        vertical-align: top;\n",
       "    }\n",
       "\n",
       "    .dataframe thead th {\n",
       "        text-align: right;\n",
       "    }\n",
       "</style>\n",
       "<table border=\"1\" class=\"dataframe\">\n",
       "  <thead>\n",
       "    <tr style=\"text-align: right;\">\n",
       "      <th></th>\n",
       "      <th>name</th>\n",
       "      <th>country</th>\n",
       "      <th>time</th>\n",
       "      <th>ranking</th>\n",
       "      <th>type</th>\n",
       "      <th>year</th>\n",
       "    </tr>\n",
       "  </thead>\n",
       "  <tbody>\n",
       "    <tr>\n",
       "      <th>0</th>\n",
       "      <td>Невеста</td>\n",
       "      <td>Россия</td>\n",
       "      <td>74</td>\n",
       "      <td>7,66</td>\n",
       "      <td>фильм</td>\n",
       "      <td>2006</td>\n",
       "    </tr>\n",
       "    <tr>\n",
       "      <th>1</th>\n",
       "      <td>Кто приходит в зимний вечер</td>\n",
       "      <td>Россия</td>\n",
       "      <td>90</td>\n",
       "      <td>6,038</td>\n",
       "      <td>фильм</td>\n",
       "      <td>2006</td>\n",
       "    </tr>\n",
       "    <tr>\n",
       "      <th>2</th>\n",
       "      <td>Моя мама Снегурочка</td>\n",
       "      <td>Россия</td>\n",
       "      <td>90</td>\n",
       "      <td>6,828</td>\n",
       "      <td>фильм</td>\n",
       "      <td>2007</td>\n",
       "    </tr>\n",
       "    <tr>\n",
       "      <th>3</th>\n",
       "      <td>Набережная Орфевр</td>\n",
       "      <td>Франция</td>\n",
       "      <td>106</td>\n",
       "      <td>7,597</td>\n",
       "      <td>фильм</td>\n",
       "      <td>1947</td>\n",
       "    </tr>\n",
       "    <tr>\n",
       "      <th>4</th>\n",
       "      <td>Лузер</td>\n",
       "      <td>Россия</td>\n",
       "      <td>104</td>\n",
       "      <td>6,065</td>\n",
       "      <td>фильм</td>\n",
       "      <td>2007</td>\n",
       "    </tr>\n",
       "  </tbody>\n",
       "</table>\n",
       "</div>"
      ],
      "text/plain": [
       "                          name  country  time ranking   type  year\n",
       "0                      Невеста   Россия    74    7,66  фильм  2006\n",
       "1  Кто приходит в зимний вечер   Россия    90   6,038  фильм  2006\n",
       "2          Моя мама Снегурочка   Россия    90   6,828  фильм  2007\n",
       "3            Набережная Орфевр  Франция   106   7,597  фильм  1947\n",
       "4                       Лузер    Россия   104   6,065  фильм  2007"
      ]
     },
     "execution_count": 3,
     "metadata": {},
     "output_type": "execute_result"
    }
   ],
   "source": [
    "df_kino = pd.read_csv(url, usecols=[\"name\", \"country\", \"time\", \"ranking\", \"type\", \"year\"])\n",
    "df_kino.head()"
   ]
  },
  {
   "cell_type": "code",
   "execution_count": 4,
   "metadata": {},
   "outputs": [
    {
     "data": {
      "text/html": [
       "<div>\n",
       "<style scoped>\n",
       "    .dataframe tbody tr th:only-of-type {\n",
       "        vertical-align: middle;\n",
       "    }\n",
       "\n",
       "    .dataframe tbody tr th {\n",
       "        vertical-align: top;\n",
       "    }\n",
       "\n",
       "    .dataframe thead th {\n",
       "        text-align: right;\n",
       "    }\n",
       "</style>\n",
       "<table border=\"1\" class=\"dataframe\">\n",
       "  <thead>\n",
       "    <tr style=\"text-align: right;\">\n",
       "      <th></th>\n",
       "      <th>name</th>\n",
       "      <th>country</th>\n",
       "      <th>time</th>\n",
       "      <th>ranking</th>\n",
       "      <th>type</th>\n",
       "      <th>year</th>\n",
       "    </tr>\n",
       "  </thead>\n",
       "  <tbody>\n",
       "    <tr>\n",
       "      <th>145</th>\n",
       "      <td>Карнавальная ночь</td>\n",
       "      <td>СССР</td>\n",
       "      <td>78</td>\n",
       "      <td>7,929</td>\n",
       "      <td>фильм</td>\n",
       "      <td>1956</td>\n",
       "    </tr>\n",
       "    <tr>\n",
       "      <th>146</th>\n",
       "      <td>Квартира</td>\n",
       "      <td>США</td>\n",
       "      <td>125</td>\n",
       "      <td>8,021</td>\n",
       "      <td>фильм</td>\n",
       "      <td>1960</td>\n",
       "    </tr>\n",
       "    <tr>\n",
       "      <th>147</th>\n",
       "      <td>Когда зажигаются елки</td>\n",
       "      <td>СССР</td>\n",
       "      <td>20</td>\n",
       "      <td>7,94</td>\n",
       "      <td>мультфильм</td>\n",
       "      <td>1950</td>\n",
       "    </tr>\n",
       "    <tr>\n",
       "      <th>148</th>\n",
       "      <td>Кошмар перед Рождеством</td>\n",
       "      <td>США</td>\n",
       "      <td>76</td>\n",
       "      <td>8,049</td>\n",
       "      <td>мультфильм</td>\n",
       "      <td>1993</td>\n",
       "    </tr>\n",
       "    <tr>\n",
       "      <th>149</th>\n",
       "      <td>Красавица и чудовище: Чудесное Рождество (видео)</td>\n",
       "      <td>США</td>\n",
       "      <td>72</td>\n",
       "      <td>6,814</td>\n",
       "      <td>мультфильм</td>\n",
       "      <td>1997</td>\n",
       "    </tr>\n",
       "  </tbody>\n",
       "</table>\n",
       "</div>"
      ],
      "text/plain": [
       "                                                 name country  time ranking  \\\n",
       "145                                 Карнавальная ночь    СССР    78   7,929   \n",
       "146                                          Квартира     США   125   8,021   \n",
       "147                             Когда зажигаются елки    СССР    20    7,94   \n",
       "148                           Кошмар перед Рождеством     США    76   8,049   \n",
       "149  Красавица и чудовище: Чудесное Рождество (видео)     США    72   6,814   \n",
       "\n",
       "           type  year  \n",
       "145       фильм  1956  \n",
       "146       фильм  1960  \n",
       "147  мультфильм  1950  \n",
       "148  мультфильм  1993  \n",
       "149  мультфильм  1997  "
      ]
     },
     "execution_count": 4,
     "metadata": {},
     "output_type": "execute_result"
    }
   ],
   "source": [
    "df_kino.tail()"
   ]
  },
  {
   "cell_type": "code",
   "execution_count": 5,
   "metadata": {},
   "outputs": [
    {
     "name": "stdout",
     "output_type": "stream",
     "text": [
      "<class 'pandas.core.frame.DataFrame'>\n",
      "RangeIndex: 150 entries, 0 to 149\n",
      "Data columns (total 6 columns):\n",
      " #   Column   Non-Null Count  Dtype \n",
      "---  ------   --------------  ----- \n",
      " 0   name     150 non-null    object\n",
      " 1   country  150 non-null    object\n",
      " 2   time     150 non-null    int64 \n",
      " 3   ranking  150 non-null    object\n",
      " 4   type     150 non-null    object\n",
      " 5   year     150 non-null    int64 \n",
      "dtypes: int64(2), object(4)\n",
      "memory usage: 7.2+ KB\n"
     ]
    }
   ],
   "source": [
    "df_kino.info()"
   ]
  },
  {
   "cell_type": "code",
   "execution_count": 6,
   "metadata": {},
   "outputs": [
    {
     "data": {
      "text/html": [
       "<div>\n",
       "<style scoped>\n",
       "    .dataframe tbody tr th:only-of-type {\n",
       "        vertical-align: middle;\n",
       "    }\n",
       "\n",
       "    .dataframe tbody tr th {\n",
       "        vertical-align: top;\n",
       "    }\n",
       "\n",
       "    .dataframe thead th {\n",
       "        text-align: right;\n",
       "    }\n",
       "</style>\n",
       "<table border=\"1\" class=\"dataframe\">\n",
       "  <thead>\n",
       "    <tr style=\"text-align: right;\">\n",
       "      <th></th>\n",
       "      <th>time</th>\n",
       "      <th>year</th>\n",
       "    </tr>\n",
       "  </thead>\n",
       "  <tbody>\n",
       "    <tr>\n",
       "      <th>count</th>\n",
       "      <td>150.000000</td>\n",
       "      <td>150.000000</td>\n",
       "    </tr>\n",
       "    <tr>\n",
       "      <th>mean</th>\n",
       "      <td>84.366667</td>\n",
       "      <td>1988.986667</td>\n",
       "    </tr>\n",
       "    <tr>\n",
       "      <th>std</th>\n",
       "      <td>45.719809</td>\n",
       "      <td>20.198341</td>\n",
       "    </tr>\n",
       "    <tr>\n",
       "      <th>min</th>\n",
       "      <td>5.000000</td>\n",
       "      <td>1932.000000</td>\n",
       "    </tr>\n",
       "    <tr>\n",
       "      <th>25%</th>\n",
       "      <td>61.500000</td>\n",
       "      <td>1975.000000</td>\n",
       "    </tr>\n",
       "    <tr>\n",
       "      <th>50%</th>\n",
       "      <td>91.000000</td>\n",
       "      <td>1995.500000</td>\n",
       "    </tr>\n",
       "    <tr>\n",
       "      <th>75%</th>\n",
       "      <td>105.000000</td>\n",
       "      <td>2005.000000</td>\n",
       "    </tr>\n",
       "    <tr>\n",
       "      <th>max</th>\n",
       "      <td>322.000000</td>\n",
       "      <td>2012.000000</td>\n",
       "    </tr>\n",
       "  </tbody>\n",
       "</table>\n",
       "</div>"
      ],
      "text/plain": [
       "             time         year\n",
       "count  150.000000   150.000000\n",
       "mean    84.366667  1988.986667\n",
       "std     45.719809    20.198341\n",
       "min      5.000000  1932.000000\n",
       "25%     61.500000  1975.000000\n",
       "50%     91.000000  1995.500000\n",
       "75%    105.000000  2005.000000\n",
       "max    322.000000  2012.000000"
      ]
     },
     "execution_count": 6,
     "metadata": {},
     "output_type": "execute_result"
    }
   ],
   "source": [
    "df_kino.describe()"
   ]
  },
  {
   "cell_type": "code",
   "execution_count": 7,
   "metadata": {},
   "outputs": [
    {
     "data": {
      "text/plain": [
       "(150, 6)"
      ]
     },
     "execution_count": 7,
     "metadata": {},
     "output_type": "execute_result"
    }
   ],
   "source": [
    "df_kino.shape"
   ]
  },
  {
   "cell_type": "code",
   "execution_count": 8,
   "metadata": {},
   "outputs": [
    {
     "data": {
      "text/plain": [
       "RangeIndex(start=0, stop=150, step=1)"
      ]
     },
     "execution_count": 8,
     "metadata": {},
     "output_type": "execute_result"
    }
   ],
   "source": [
    "df_kino.index # исследуем индекс"
   ]
  },
  {
   "cell_type": "code",
   "execution_count": 9,
   "metadata": {},
   "outputs": [
    {
     "data": {
      "text/plain": [
       "Index(['name', 'country', 'time', 'ranking', 'type', 'year'], dtype='object')"
      ]
     },
     "execution_count": 9,
     "metadata": {},
     "output_type": "execute_result"
    }
   ],
   "source": [
    "df_kino.columns # получаем столбцы"
   ]
  },
  {
   "cell_type": "code",
   "execution_count": 10,
   "metadata": {},
   "outputs": [
    {
     "data": {
      "text/plain": [
       "0     7,66\n",
       "1    6,038\n",
       "2    6,828\n",
       "3    7,597\n",
       "4    6,065\n",
       "Name: ranking, dtype: object"
      ]
     },
     "execution_count": 10,
     "metadata": {},
     "output_type": "execute_result"
    }
   ],
   "source": [
    "df_kino['ranking'].head() # извлекаем столбец ranking"
   ]
  },
  {
   "cell_type": "code",
   "execution_count": 11,
   "metadata": {},
   "outputs": [
    {
     "data": {
      "text/plain": [
       "0       7,66\n",
       "1      6,038\n",
       "2      6,828\n",
       "3      7,597\n",
       "4      6,065\n",
       "       ...  \n",
       "145    7,929\n",
       "146    8,021\n",
       "147     7,94\n",
       "148    8,049\n",
       "149    6,814\n",
       "Name: ranking, Length: 150, dtype: object"
      ]
     },
     "execution_count": 11,
     "metadata": {},
     "output_type": "execute_result"
    }
   ],
   "source": [
    "df_kino.ranking"
   ]
  },
  {
   "cell_type": "code",
   "execution_count": 12,
   "metadata": {},
   "outputs": [
    {
     "data": {
      "text/html": [
       "<div>\n",
       "<style scoped>\n",
       "    .dataframe tbody tr th:only-of-type {\n",
       "        vertical-align: middle;\n",
       "    }\n",
       "\n",
       "    .dataframe tbody tr th {\n",
       "        vertical-align: top;\n",
       "    }\n",
       "\n",
       "    .dataframe thead th {\n",
       "        text-align: right;\n",
       "    }\n",
       "</style>\n",
       "<table border=\"1\" class=\"dataframe\">\n",
       "  <thead>\n",
       "    <tr style=\"text-align: right;\">\n",
       "      <th></th>\n",
       "      <th>ranking</th>\n",
       "      <th>country</th>\n",
       "    </tr>\n",
       "  </thead>\n",
       "  <tbody>\n",
       "    <tr>\n",
       "      <th>0</th>\n",
       "      <td>7,66</td>\n",
       "      <td>Россия</td>\n",
       "    </tr>\n",
       "    <tr>\n",
       "      <th>1</th>\n",
       "      <td>6,038</td>\n",
       "      <td>Россия</td>\n",
       "    </tr>\n",
       "    <tr>\n",
       "      <th>2</th>\n",
       "      <td>6,828</td>\n",
       "      <td>Россия</td>\n",
       "    </tr>\n",
       "    <tr>\n",
       "      <th>3</th>\n",
       "      <td>7,597</td>\n",
       "      <td>Франция</td>\n",
       "    </tr>\n",
       "    <tr>\n",
       "      <th>4</th>\n",
       "      <td>6,065</td>\n",
       "      <td>Россия</td>\n",
       "    </tr>\n",
       "  </tbody>\n",
       "</table>\n",
       "</div>"
      ],
      "text/plain": [
       "  ranking  country\n",
       "0    7,66   Россия\n",
       "1   6,038   Россия\n",
       "2   6,828   Россия\n",
       "3   7,597  Франция\n",
       "4   6,065   Россия"
      ]
     },
     "execution_count": 12,
     "metadata": {},
     "output_type": "execute_result"
    }
   ],
   "source": [
    "df_kino[['ranking', 'country']].head() # извлекаем столбцы "
   ]
  },
  {
   "cell_type": "code",
   "execution_count": 13,
   "metadata": {},
   "outputs": [
    {
     "data": {
      "text/plain": [
       "name       Карнавальная ночь\n",
       "country                 СССР\n",
       "time                      78\n",
       "ranking                7,929\n",
       "type                   фильм\n",
       "year                    1956\n",
       "Name: 145, dtype: object"
      ]
     },
     "execution_count": 13,
     "metadata": {},
     "output_type": "execute_result"
    }
   ],
   "source": [
    "df_kino.loc[145]"
   ]
  },
  {
   "cell_type": "code",
   "execution_count": 14,
   "metadata": {},
   "outputs": [
    {
     "data": {
      "text/plain": [
       "name       Карнавальная ночь\n",
       "country                 СССР\n",
       "time                      78\n",
       "ranking                7,929\n",
       "type                   фильм\n",
       "year                    1956\n",
       "Name: 145, dtype: object"
      ]
     },
     "execution_count": 14,
     "metadata": {},
     "output_type": "execute_result"
    }
   ],
   "source": [
    "df_kino.iloc[145]"
   ]
  },
  {
   "cell_type": "code",
   "execution_count": 15,
   "metadata": {},
   "outputs": [
    {
     "data": {
      "text/html": [
       "<div>\n",
       "<style scoped>\n",
       "    .dataframe tbody tr th:only-of-type {\n",
       "        vertical-align: middle;\n",
       "    }\n",
       "\n",
       "    .dataframe tbody tr th {\n",
       "        vertical-align: top;\n",
       "    }\n",
       "\n",
       "    .dataframe thead th {\n",
       "        text-align: right;\n",
       "    }\n",
       "</style>\n",
       "<table border=\"1\" class=\"dataframe\">\n",
       "  <thead>\n",
       "    <tr style=\"text-align: right;\">\n",
       "      <th></th>\n",
       "      <th>country</th>\n",
       "      <th>time</th>\n",
       "      <th>ranking</th>\n",
       "      <th>type</th>\n",
       "      <th>year</th>\n",
       "    </tr>\n",
       "    <tr>\n",
       "      <th>name</th>\n",
       "      <th></th>\n",
       "      <th></th>\n",
       "      <th></th>\n",
       "      <th></th>\n",
       "      <th></th>\n",
       "    </tr>\n",
       "  </thead>\n",
       "  <tbody>\n",
       "    <tr>\n",
       "      <th>Невеста</th>\n",
       "      <td>Россия</td>\n",
       "      <td>74</td>\n",
       "      <td>7,66</td>\n",
       "      <td>фильм</td>\n",
       "      <td>2006</td>\n",
       "    </tr>\n",
       "    <tr>\n",
       "      <th>Кто приходит в зимний вечер</th>\n",
       "      <td>Россия</td>\n",
       "      <td>90</td>\n",
       "      <td>6,038</td>\n",
       "      <td>фильм</td>\n",
       "      <td>2006</td>\n",
       "    </tr>\n",
       "    <tr>\n",
       "      <th>Моя мама Снегурочка</th>\n",
       "      <td>Россия</td>\n",
       "      <td>90</td>\n",
       "      <td>6,828</td>\n",
       "      <td>фильм</td>\n",
       "      <td>2007</td>\n",
       "    </tr>\n",
       "    <tr>\n",
       "      <th>Набережная Орфевр</th>\n",
       "      <td>Франция</td>\n",
       "      <td>106</td>\n",
       "      <td>7,597</td>\n",
       "      <td>фильм</td>\n",
       "      <td>1947</td>\n",
       "    </tr>\n",
       "    <tr>\n",
       "      <th>Лузер</th>\n",
       "      <td>Россия</td>\n",
       "      <td>104</td>\n",
       "      <td>6,065</td>\n",
       "      <td>фильм</td>\n",
       "      <td>2007</td>\n",
       "    </tr>\n",
       "    <tr>\n",
       "      <th>...</th>\n",
       "      <td>...</td>\n",
       "      <td>...</td>\n",
       "      <td>...</td>\n",
       "      <td>...</td>\n",
       "      <td>...</td>\n",
       "    </tr>\n",
       "    <tr>\n",
       "      <th>Карнавальная ночь</th>\n",
       "      <td>СССР</td>\n",
       "      <td>78</td>\n",
       "      <td>7,929</td>\n",
       "      <td>фильм</td>\n",
       "      <td>1956</td>\n",
       "    </tr>\n",
       "    <tr>\n",
       "      <th>Квартира</th>\n",
       "      <td>США</td>\n",
       "      <td>125</td>\n",
       "      <td>8,021</td>\n",
       "      <td>фильм</td>\n",
       "      <td>1960</td>\n",
       "    </tr>\n",
       "    <tr>\n",
       "      <th>Когда зажигаются елки</th>\n",
       "      <td>СССР</td>\n",
       "      <td>20</td>\n",
       "      <td>7,94</td>\n",
       "      <td>мультфильм</td>\n",
       "      <td>1950</td>\n",
       "    </tr>\n",
       "    <tr>\n",
       "      <th>Кошмар перед Рождеством</th>\n",
       "      <td>США</td>\n",
       "      <td>76</td>\n",
       "      <td>8,049</td>\n",
       "      <td>мультфильм</td>\n",
       "      <td>1993</td>\n",
       "    </tr>\n",
       "    <tr>\n",
       "      <th>Красавица и чудовище: Чудесное Рождество (видео)</th>\n",
       "      <td>США</td>\n",
       "      <td>72</td>\n",
       "      <td>6,814</td>\n",
       "      <td>мультфильм</td>\n",
       "      <td>1997</td>\n",
       "    </tr>\n",
       "  </tbody>\n",
       "</table>\n",
       "<p>150 rows × 5 columns</p>\n",
       "</div>"
      ],
      "text/plain": [
       "                                                  country  time ranking  \\\n",
       "name                                                                      \n",
       "Невеста                                            Россия    74    7,66   \n",
       "Кто приходит в зимний вечер                        Россия    90   6,038   \n",
       "Моя мама Снегурочка                                Россия    90   6,828   \n",
       "Набережная Орфевр                                 Франция   106   7,597   \n",
       "Лузер                                              Россия   104   6,065   \n",
       "...                                                   ...   ...     ...   \n",
       "Карнавальная ночь                                    СССР    78   7,929   \n",
       "Квартира                                              США   125   8,021   \n",
       "Когда зажигаются елки                                СССР    20    7,94   \n",
       "Кошмар перед Рождеством                               США    76   8,049   \n",
       "Красавица и чудовище: Чудесное Рождество (видео)      США    72   6,814   \n",
       "\n",
       "                                                        type  year  \n",
       "name                                                                \n",
       "Невеста                                                фильм  2006  \n",
       "Кто приходит в зимний вечер                            фильм  2006  \n",
       "Моя мама Снегурочка                                    фильм  2007  \n",
       "Набережная Орфевр                                      фильм  1947  \n",
       "Лузер                                                  фильм  2007  \n",
       "...                                                      ...   ...  \n",
       "Карнавальная ночь                                      фильм  1956  \n",
       "Квартира                                               фильм  1960  \n",
       "Когда зажигаются елки                             мультфильм  1950  \n",
       "Кошмар перед Рождеством                           мультфильм  1993  \n",
       "Красавица и чудовище: Чудесное Рождество (видео)  мультфильм  1997  \n",
       "\n",
       "[150 rows x 5 columns]"
      ]
     },
     "execution_count": 15,
     "metadata": {},
     "output_type": "execute_result"
    }
   ],
   "source": [
    "# https://pandas.pydata.org/pandas-docs/stable/reference/api/pandas.DataFrame.set_index.html\n",
    "df_kino = df_kino.set_index(\"name\")\n",
    "df_kino"
   ]
  },
  {
   "cell_type": "code",
   "execution_count": 16,
   "metadata": {},
   "outputs": [
    {
     "data": {
      "text/plain": [
       "country     СССР\n",
       "time          78\n",
       "ranking    7,929\n",
       "type       фильм\n",
       "year        1956\n",
       "Name: Карнавальная ночь, dtype: object"
      ]
     },
     "execution_count": 16,
     "metadata": {},
     "output_type": "execute_result"
    }
   ],
   "source": [
    "df_kino.iloc[145]"
   ]
  },
  {
   "cell_type": "code",
   "execution_count": 17,
   "metadata": {},
   "outputs": [
    {
     "data": {
      "text/plain": [
       "country     СССР\n",
       "time          78\n",
       "ranking    7,929\n",
       "type       фильм\n",
       "year        1956\n",
       "Name: Карнавальная ночь, dtype: object"
      ]
     },
     "execution_count": 17,
     "metadata": {},
     "output_type": "execute_result"
    }
   ],
   "source": [
    "df_kino.loc[\"Карнавальная ночь\"]"
   ]
  },
  {
   "cell_type": "code",
   "execution_count": 18,
   "metadata": {},
   "outputs": [
    {
     "data": {
      "text/html": [
       "<div>\n",
       "<style scoped>\n",
       "    .dataframe tbody tr th:only-of-type {\n",
       "        vertical-align: middle;\n",
       "    }\n",
       "\n",
       "    .dataframe tbody tr th {\n",
       "        vertical-align: top;\n",
       "    }\n",
       "\n",
       "    .dataframe thead th {\n",
       "        text-align: right;\n",
       "    }\n",
       "</style>\n",
       "<table border=\"1\" class=\"dataframe\">\n",
       "  <thead>\n",
       "    <tr style=\"text-align: right;\">\n",
       "      <th></th>\n",
       "      <th>country</th>\n",
       "      <th>time</th>\n",
       "      <th>ranking</th>\n",
       "      <th>type</th>\n",
       "      <th>year</th>\n",
       "    </tr>\n",
       "    <tr>\n",
       "      <th>name</th>\n",
       "      <th></th>\n",
       "      <th></th>\n",
       "      <th></th>\n",
       "      <th></th>\n",
       "      <th></th>\n",
       "    </tr>\n",
       "  </thead>\n",
       "  <tbody>\n",
       "    <tr>\n",
       "      <th>Карнавальная ночь</th>\n",
       "      <td>СССР</td>\n",
       "      <td>78</td>\n",
       "      <td>7,929</td>\n",
       "      <td>фильм</td>\n",
       "      <td>1956</td>\n",
       "    </tr>\n",
       "    <tr>\n",
       "      <th>Невеста</th>\n",
       "      <td>Россия</td>\n",
       "      <td>74</td>\n",
       "      <td>7,66</td>\n",
       "      <td>фильм</td>\n",
       "      <td>2006</td>\n",
       "    </tr>\n",
       "  </tbody>\n",
       "</table>\n",
       "</div>"
      ],
      "text/plain": [
       "                  country  time ranking   type  year\n",
       "name                                                \n",
       "Карнавальная ночь    СССР    78   7,929  фильм  1956\n",
       "Невеста            Россия    74    7,66  фильм  2006"
      ]
     },
     "execution_count": 18,
     "metadata": {},
     "output_type": "execute_result"
    }
   ],
   "source": [
    "df_kino.loc[['Карнавальная ночь', 'Невеста']]"
   ]
  },
  {
   "cell_type": "code",
   "execution_count": 19,
   "metadata": {},
   "outputs": [
    {
     "data": {
      "text/html": [
       "<div>\n",
       "<style scoped>\n",
       "    .dataframe tbody tr th:only-of-type {\n",
       "        vertical-align: middle;\n",
       "    }\n",
       "\n",
       "    .dataframe tbody tr th {\n",
       "        vertical-align: top;\n",
       "    }\n",
       "\n",
       "    .dataframe thead th {\n",
       "        text-align: right;\n",
       "    }\n",
       "</style>\n",
       "<table border=\"1\" class=\"dataframe\">\n",
       "  <thead>\n",
       "    <tr style=\"text-align: right;\">\n",
       "      <th></th>\n",
       "      <th>country</th>\n",
       "      <th>time</th>\n",
       "      <th>ranking</th>\n",
       "      <th>type</th>\n",
       "      <th>year</th>\n",
       "    </tr>\n",
       "    <tr>\n",
       "      <th>name</th>\n",
       "      <th></th>\n",
       "      <th></th>\n",
       "      <th></th>\n",
       "      <th></th>\n",
       "      <th></th>\n",
       "    </tr>\n",
       "  </thead>\n",
       "  <tbody>\n",
       "    <tr>\n",
       "      <th>Невеста</th>\n",
       "      <td>Россия</td>\n",
       "      <td>74</td>\n",
       "      <td>7,66</td>\n",
       "      <td>фильм</td>\n",
       "      <td>2006</td>\n",
       "    </tr>\n",
       "    <tr>\n",
       "      <th>Моя мама Снегурочка</th>\n",
       "      <td>Россия</td>\n",
       "      <td>90</td>\n",
       "      <td>6,828</td>\n",
       "      <td>фильм</td>\n",
       "      <td>2007</td>\n",
       "    </tr>\n",
       "  </tbody>\n",
       "</table>\n",
       "</div>"
      ],
      "text/plain": [
       "                    country  time ranking   type  year\n",
       "name                                                  \n",
       "Невеста              Россия    74    7,66  фильм  2006\n",
       "Моя мама Снегурочка  Россия    90   6,828  фильм  2007"
      ]
     },
     "execution_count": 19,
     "metadata": {},
     "output_type": "execute_result"
    }
   ],
   "source": [
    "df_kino.iloc[[0, 2]] # получаем строки, имеющие позиции 0 и 2"
   ]
  },
  {
   "cell_type": "code",
   "execution_count": 20,
   "metadata": {},
   "outputs": [
    {
     "data": {
      "text/plain": [
       "(0, 2)"
      ]
     },
     "execution_count": 20,
     "metadata": {},
     "output_type": "execute_result"
    }
   ],
   "source": [
    "i1 = df_kino.index.get_loc('Невеста') # получаем позиции меток в индексе\n",
    "i2 = df_kino.index.get_loc('Моя мама Снегурочка')\n",
    "(i1, i2)"
   ]
  },
  {
   "cell_type": "code",
   "execution_count": 21,
   "metadata": {},
   "outputs": [
    {
     "data": {
      "text/html": [
       "<div>\n",
       "<style scoped>\n",
       "    .dataframe tbody tr th:only-of-type {\n",
       "        vertical-align: middle;\n",
       "    }\n",
       "\n",
       "    .dataframe tbody tr th {\n",
       "        vertical-align: top;\n",
       "    }\n",
       "\n",
       "    .dataframe thead th {\n",
       "        text-align: right;\n",
       "    }\n",
       "</style>\n",
       "<table border=\"1\" class=\"dataframe\">\n",
       "  <thead>\n",
       "    <tr style=\"text-align: right;\">\n",
       "      <th></th>\n",
       "      <th>country</th>\n",
       "      <th>time</th>\n",
       "      <th>ranking</th>\n",
       "      <th>type</th>\n",
       "      <th>year</th>\n",
       "    </tr>\n",
       "    <tr>\n",
       "      <th>name</th>\n",
       "      <th></th>\n",
       "      <th></th>\n",
       "      <th></th>\n",
       "      <th></th>\n",
       "      <th></th>\n",
       "    </tr>\n",
       "  </thead>\n",
       "  <tbody>\n",
       "    <tr>\n",
       "      <th>Невеста</th>\n",
       "      <td>Россия</td>\n",
       "      <td>74</td>\n",
       "      <td>7,66</td>\n",
       "      <td>фильм</td>\n",
       "      <td>2006</td>\n",
       "    </tr>\n",
       "    <tr>\n",
       "      <th>Моя мама Снегурочка</th>\n",
       "      <td>Россия</td>\n",
       "      <td>90</td>\n",
       "      <td>6,828</td>\n",
       "      <td>фильм</td>\n",
       "      <td>2007</td>\n",
       "    </tr>\n",
       "  </tbody>\n",
       "</table>\n",
       "</div>"
      ],
      "text/plain": [
       "                    country  time ranking   type  year\n",
       "name                                                  \n",
       "Невеста              Россия    74    7,66  фильм  2006\n",
       "Моя мама Снегурочка  Россия    90   6,828  фильм  2007"
      ]
     },
     "execution_count": 21,
     "metadata": {},
     "output_type": "execute_result"
    }
   ],
   "source": [
    "df_kino.iloc[[i1, i2]] # и извлекаем строки"
   ]
  },
  {
   "cell_type": "markdown",
   "metadata": {},
   "source": [
    "Ищем скалярное значение по метке строки и метке (имени) столбца:"
   ]
  },
  {
   "cell_type": "code",
   "execution_count": 22,
   "metadata": {},
   "outputs": [
    {
     "data": {
      "text/plain": [
       "'фильм'"
      ]
     },
     "execution_count": 22,
     "metadata": {},
     "output_type": "execute_result"
    }
   ],
   "source": [
    "df_kino.at['Невеста', 'type']"
   ]
  },
  {
   "cell_type": "code",
   "execution_count": 23,
   "metadata": {},
   "outputs": [
    {
     "data": {
      "text/plain": [
       "2006"
      ]
     },
     "execution_count": 23,
     "metadata": {},
     "output_type": "execute_result"
    }
   ],
   "source": [
    "df_kino.at['Невеста', 'year']"
   ]
  },
  {
   "cell_type": "markdown",
   "metadata": {},
   "source": [
    "Ищем скалярное значение по позиции строки и позиции столбца извлекаем значение в строке 4, столбце 1:"
   ]
  },
  {
   "cell_type": "code",
   "execution_count": 24,
   "metadata": {},
   "outputs": [
    {
     "data": {
      "text/plain": [
       "104"
      ]
     },
     "execution_count": 24,
     "metadata": {},
     "output_type": "execute_result"
    }
   ],
   "source": [
    "df_kino.iat[4, 1]"
   ]
  },
  {
   "cell_type": "code",
   "execution_count": 25,
   "metadata": {},
   "outputs": [
    {
     "data": {
      "text/html": [
       "<div>\n",
       "<style scoped>\n",
       "    .dataframe tbody tr th:only-of-type {\n",
       "        vertical-align: middle;\n",
       "    }\n",
       "\n",
       "    .dataframe tbody tr th {\n",
       "        vertical-align: top;\n",
       "    }\n",
       "\n",
       "    .dataframe thead th {\n",
       "        text-align: right;\n",
       "    }\n",
       "</style>\n",
       "<table border=\"1\" class=\"dataframe\">\n",
       "  <thead>\n",
       "    <tr style=\"text-align: right;\">\n",
       "      <th></th>\n",
       "      <th>country</th>\n",
       "      <th>time</th>\n",
       "      <th>ranking</th>\n",
       "      <th>type</th>\n",
       "      <th>year</th>\n",
       "    </tr>\n",
       "    <tr>\n",
       "      <th>name</th>\n",
       "      <th></th>\n",
       "      <th></th>\n",
       "      <th></th>\n",
       "      <th></th>\n",
       "      <th></th>\n",
       "    </tr>\n",
       "  </thead>\n",
       "  <tbody>\n",
       "    <tr>\n",
       "      <th>Невеста</th>\n",
       "      <td>Россия</td>\n",
       "      <td>74</td>\n",
       "      <td>7,66</td>\n",
       "      <td>фильм</td>\n",
       "      <td>2006</td>\n",
       "    </tr>\n",
       "    <tr>\n",
       "      <th>Кто приходит в зимний вечер</th>\n",
       "      <td>Россия</td>\n",
       "      <td>90</td>\n",
       "      <td>6,038</td>\n",
       "      <td>фильм</td>\n",
       "      <td>2006</td>\n",
       "    </tr>\n",
       "    <tr>\n",
       "      <th>Моя мама Снегурочка</th>\n",
       "      <td>Россия</td>\n",
       "      <td>90</td>\n",
       "      <td>6,828</td>\n",
       "      <td>фильм</td>\n",
       "      <td>2007</td>\n",
       "    </tr>\n",
       "    <tr>\n",
       "      <th>Набережная Орфевр</th>\n",
       "      <td>Франция</td>\n",
       "      <td>106</td>\n",
       "      <td>7,597</td>\n",
       "      <td>фильм</td>\n",
       "      <td>1947</td>\n",
       "    </tr>\n",
       "    <tr>\n",
       "      <th>Лузер</th>\n",
       "      <td>Россия</td>\n",
       "      <td>104</td>\n",
       "      <td>6,065</td>\n",
       "      <td>фильм</td>\n",
       "      <td>2007</td>\n",
       "    </tr>\n",
       "    <tr>\n",
       "      <th>Крепкий орешек</th>\n",
       "      <td>США</td>\n",
       "      <td>133</td>\n",
       "      <td>8,024</td>\n",
       "      <td>фильм</td>\n",
       "      <td>1988</td>\n",
       "    </tr>\n",
       "    <tr>\n",
       "      <th>Морозко</th>\n",
       "      <td>СССР</td>\n",
       "      <td>84</td>\n",
       "      <td>8,011</td>\n",
       "      <td>фильм</td>\n",
       "      <td>1964</td>\n",
       "    </tr>\n",
       "    <tr>\n",
       "      <th>Крепкий орешек 2</th>\n",
       "      <td>США</td>\n",
       "      <td>124</td>\n",
       "      <td>7,759</td>\n",
       "      <td>фильм</td>\n",
       "      <td>1990</td>\n",
       "    </tr>\n",
       "    <tr>\n",
       "      <th>Кунг-фу Панда: Праздничный выпуск</th>\n",
       "      <td>США</td>\n",
       "      <td>21</td>\n",
       "      <td>7,07</td>\n",
       "      <td>мультфильм</td>\n",
       "      <td>2010</td>\n",
       "    </tr>\n",
       "    <tr>\n",
       "      <th>Любители игрушек</th>\n",
       "      <td>США</td>\n",
       "      <td>7</td>\n",
       "      <td>6,861</td>\n",
       "      <td>мультфильм</td>\n",
       "      <td>1949</td>\n",
       "    </tr>\n",
       "    <tr>\n",
       "      <th>Магазинчик за углом</th>\n",
       "      <td>США</td>\n",
       "      <td>99</td>\n",
       "      <td>7,921</td>\n",
       "      <td>фильм</td>\n",
       "      <td>1940</td>\n",
       "    </tr>\n",
       "    <tr>\n",
       "      <th>Мужчина в моей голове</th>\n",
       "      <td>Россия</td>\n",
       "      <td>113</td>\n",
       "      <td>7,143</td>\n",
       "      <td>фильм</td>\n",
       "      <td>2009</td>\n",
       "    </tr>\n",
       "    <tr>\n",
       "      <th>Микки: Однажды под Рождество (видео)</th>\n",
       "      <td>США</td>\n",
       "      <td>66</td>\n",
       "      <td>7,189</td>\n",
       "      <td>мультфильм</td>\n",
       "      <td>1999</td>\n",
       "    </tr>\n",
       "    <tr>\n",
       "      <th>Кушать подано!</th>\n",
       "      <td>Украина</td>\n",
       "      <td>85</td>\n",
       "      <td>7,348</td>\n",
       "      <td>фильм</td>\n",
       "      <td>2005</td>\n",
       "    </tr>\n",
       "    <tr>\n",
       "      <th>Мастерская Санта Клауса</th>\n",
       "      <td>США</td>\n",
       "      <td>7</td>\n",
       "      <td>6,706</td>\n",
       "      <td>мультфильм</td>\n",
       "      <td>1932</td>\n",
       "    </tr>\n",
       "  </tbody>\n",
       "</table>\n",
       "</div>"
      ],
      "text/plain": [
       "                                      country  time ranking        type  year\n",
       "name                                                                         \n",
       "Невеста                                Россия    74    7,66       фильм  2006\n",
       "Кто приходит в зимний вечер            Россия    90   6,038       фильм  2006\n",
       "Моя мама Снегурочка                    Россия    90   6,828       фильм  2007\n",
       "Набережная Орфевр                     Франция   106   7,597       фильм  1947\n",
       "Лузер                                  Россия   104   6,065       фильм  2007\n",
       "Крепкий орешек                            США   133   8,024       фильм  1988\n",
       "Морозко                                  СССР    84   8,011       фильм  1964\n",
       "Крепкий орешек 2                          США   124   7,759       фильм  1990\n",
       "Кунг-фу Панда: Праздничный выпуск         США    21    7,07  мультфильм  2010\n",
       "Любители игрушек                          США     7   6,861  мультфильм  1949\n",
       "Магазинчик за углом                       США    99   7,921       фильм  1940\n",
       "Мужчина в моей голове                  Россия   113   7,143       фильм  2009\n",
       "Микки: Однажды под Рождество (видео)      США    66   7,189  мультфильм  1999\n",
       "Кушать подано!                        Украина    85   7,348       фильм  2005\n",
       "Мастерская Санта Клауса                   США     7   6,706  мультфильм  1932"
      ]
     },
     "execution_count": 25,
     "metadata": {},
     "output_type": "execute_result"
    }
   ],
   "source": [
    "df_kino[:15] # первые 15 строк аналог head(15)"
   ]
  },
  {
   "cell_type": "markdown",
   "metadata": {},
   "source": [
    "Добавим столбец:"
   ]
  },
  {
   "cell_type": "code",
   "execution_count": 26,
   "metadata": {},
   "outputs": [
    {
     "data": {
      "text/html": [
       "<div>\n",
       "<style scoped>\n",
       "    .dataframe tbody tr th:only-of-type {\n",
       "        vertical-align: middle;\n",
       "    }\n",
       "\n",
       "    .dataframe tbody tr th {\n",
       "        vertical-align: top;\n",
       "    }\n",
       "\n",
       "    .dataframe thead th {\n",
       "        text-align: right;\n",
       "    }\n",
       "</style>\n",
       "<table border=\"1\" class=\"dataframe\">\n",
       "  <thead>\n",
       "    <tr style=\"text-align: right;\">\n",
       "      <th></th>\n",
       "      <th>country</th>\n",
       "      <th>time</th>\n",
       "      <th>ranking</th>\n",
       "      <th>type</th>\n",
       "      <th>year</th>\n",
       "      <th>budget</th>\n",
       "    </tr>\n",
       "    <tr>\n",
       "      <th>name</th>\n",
       "      <th></th>\n",
       "      <th></th>\n",
       "      <th></th>\n",
       "      <th></th>\n",
       "      <th></th>\n",
       "      <th></th>\n",
       "    </tr>\n",
       "  </thead>\n",
       "  <tbody>\n",
       "    <tr>\n",
       "      <th>Невеста</th>\n",
       "      <td>Россия</td>\n",
       "      <td>74</td>\n",
       "      <td>7,66</td>\n",
       "      <td>фильм</td>\n",
       "      <td>2006</td>\n",
       "      <td>87715</td>\n",
       "    </tr>\n",
       "    <tr>\n",
       "      <th>Кто приходит в зимний вечер</th>\n",
       "      <td>Россия</td>\n",
       "      <td>90</td>\n",
       "      <td>6,038</td>\n",
       "      <td>фильм</td>\n",
       "      <td>2006</td>\n",
       "      <td>76690</td>\n",
       "    </tr>\n",
       "    <tr>\n",
       "      <th>Моя мама Снегурочка</th>\n",
       "      <td>Россия</td>\n",
       "      <td>90</td>\n",
       "      <td>6,828</td>\n",
       "      <td>фильм</td>\n",
       "      <td>2007</td>\n",
       "      <td>51615</td>\n",
       "    </tr>\n",
       "    <tr>\n",
       "      <th>Набережная Орфевр</th>\n",
       "      <td>Франция</td>\n",
       "      <td>106</td>\n",
       "      <td>7,597</td>\n",
       "      <td>фильм</td>\n",
       "      <td>1947</td>\n",
       "      <td>83338</td>\n",
       "    </tr>\n",
       "    <tr>\n",
       "      <th>Лузер</th>\n",
       "      <td>Россия</td>\n",
       "      <td>104</td>\n",
       "      <td>6,065</td>\n",
       "      <td>фильм</td>\n",
       "      <td>2007</td>\n",
       "      <td>63846</td>\n",
       "    </tr>\n",
       "    <tr>\n",
       "      <th>...</th>\n",
       "      <td>...</td>\n",
       "      <td>...</td>\n",
       "      <td>...</td>\n",
       "      <td>...</td>\n",
       "      <td>...</td>\n",
       "      <td>...</td>\n",
       "    </tr>\n",
       "    <tr>\n",
       "      <th>Карнавальная ночь</th>\n",
       "      <td>СССР</td>\n",
       "      <td>78</td>\n",
       "      <td>7,929</td>\n",
       "      <td>фильм</td>\n",
       "      <td>1956</td>\n",
       "      <td>71948</td>\n",
       "    </tr>\n",
       "    <tr>\n",
       "      <th>Квартира</th>\n",
       "      <td>США</td>\n",
       "      <td>125</td>\n",
       "      <td>8,021</td>\n",
       "      <td>фильм</td>\n",
       "      <td>1960</td>\n",
       "      <td>71104</td>\n",
       "    </tr>\n",
       "    <tr>\n",
       "      <th>Когда зажигаются елки</th>\n",
       "      <td>СССР</td>\n",
       "      <td>20</td>\n",
       "      <td>7,94</td>\n",
       "      <td>мультфильм</td>\n",
       "      <td>1950</td>\n",
       "      <td>86278</td>\n",
       "    </tr>\n",
       "    <tr>\n",
       "      <th>Кошмар перед Рождеством</th>\n",
       "      <td>США</td>\n",
       "      <td>76</td>\n",
       "      <td>8,049</td>\n",
       "      <td>мультфильм</td>\n",
       "      <td>1993</td>\n",
       "      <td>74343</td>\n",
       "    </tr>\n",
       "    <tr>\n",
       "      <th>Красавица и чудовище: Чудесное Рождество (видео)</th>\n",
       "      <td>США</td>\n",
       "      <td>72</td>\n",
       "      <td>6,814</td>\n",
       "      <td>мультфильм</td>\n",
       "      <td>1997</td>\n",
       "      <td>72427</td>\n",
       "    </tr>\n",
       "  </tbody>\n",
       "</table>\n",
       "<p>150 rows × 6 columns</p>\n",
       "</div>"
      ],
      "text/plain": [
       "                                                  country  time ranking  \\\n",
       "name                                                                      \n",
       "Невеста                                            Россия    74    7,66   \n",
       "Кто приходит в зимний вечер                        Россия    90   6,038   \n",
       "Моя мама Снегурочка                                Россия    90   6,828   \n",
       "Набережная Орфевр                                 Франция   106   7,597   \n",
       "Лузер                                              Россия   104   6,065   \n",
       "...                                                   ...   ...     ...   \n",
       "Карнавальная ночь                                    СССР    78   7,929   \n",
       "Квартира                                              США   125   8,021   \n",
       "Когда зажигаются елки                                СССР    20    7,94   \n",
       "Кошмар перед Рождеством                               США    76   8,049   \n",
       "Красавица и чудовище: Чудесное Рождество (видео)      США    72   6,814   \n",
       "\n",
       "                                                        type  year  budget  \n",
       "name                                                                        \n",
       "Невеста                                                фильм  2006   87715  \n",
       "Кто приходит в зимний вечер                            фильм  2006   76690  \n",
       "Моя мама Снегурочка                                    фильм  2007   51615  \n",
       "Набережная Орфевр                                      фильм  1947   83338  \n",
       "Лузер                                                  фильм  2007   63846  \n",
       "...                                                      ...   ...     ...  \n",
       "Карнавальная ночь                                      фильм  1956   71948  \n",
       "Квартира                                               фильм  1960   71104  \n",
       "Когда зажигаются елки                             мультфильм  1950   86278  \n",
       "Кошмар перед Рождеством                           мультфильм  1993   74343  \n",
       "Красавица и чудовище: Чудесное Рождество (видео)  мультфильм  1997   72427  \n",
       "\n",
       "[150 rows x 6 columns]"
      ]
     },
     "execution_count": 26,
     "metadata": {},
     "output_type": "execute_result"
    }
   ],
   "source": [
    "df_kino[\"budget\"] = np.random.randint(50_000, 100_000, size=len(df_kino))\n",
    "df_kino"
   ]
  },
  {
   "cell_type": "code",
   "execution_count": 27,
   "metadata": {},
   "outputs": [
    {
     "data": {
      "text/plain": [
       "name\n",
       "Невеста                                              74\n",
       "Кто приходит в зимний вечер                          90\n",
       "Моя мама Снегурочка                                  90\n",
       "Набережная Орфевр                                   106\n",
       "Лузер                                               104\n",
       "                                                   ... \n",
       "Карнавальная ночь                                    78\n",
       "Квартира                                            125\n",
       "Когда зажигаются елки                                20\n",
       "Кошмар перед Рождеством                              76\n",
       "Красавица и чудовище: Чудесное Рождество (видео)     72\n",
       "Name: time, Length: 150, dtype: int64"
      ]
     },
     "execution_count": 27,
     "metadata": {},
     "output_type": "execute_result"
    }
   ],
   "source": [
    "df_kino.time"
   ]
  },
  {
   "cell_type": "code",
   "execution_count": 28,
   "metadata": {},
   "outputs": [
    {
     "data": {
      "text/plain": [
       "name\n",
       "Невеста                                              True\n",
       "Кто приходит в зимний вечер                         False\n",
       "Моя мама Снегурочка                                 False\n",
       "Набережная Орфевр                                   False\n",
       "Лузер                                               False\n",
       "                                                    ...  \n",
       "Карнавальная ночь                                    True\n",
       "Квартира                                            False\n",
       "Когда зажигаются елки                                True\n",
       "Кошмар перед Рождеством                              True\n",
       "Красавица и чудовище: Чудесное Рождество (видео)     True\n",
       "Name: time, Length: 150, dtype: bool"
      ]
     },
     "execution_count": 28,
     "metadata": {},
     "output_type": "execute_result"
    }
   ],
   "source": [
    "df_kino.time < 90"
   ]
  },
  {
   "cell_type": "code",
   "execution_count": 29,
   "metadata": {},
   "outputs": [
    {
     "data": {
      "text/plain": [
       "name\n",
       "Невеста                                             74\n",
       "Морозко                                             84\n",
       "Кунг-фу Панда: Праздничный выпуск                   21\n",
       "Любители игрушек                                     7\n",
       "Микки: Однажды под Рождество (видео)                66\n",
       "                                                    ..\n",
       "Как ежик и медвежонок встречали Новый год            8\n",
       "Карнавальная ночь                                   78\n",
       "Когда зажигаются елки                               20\n",
       "Кошмар перед Рождеством                             76\n",
       "Красавица и чудовище: Чудесное Рождество (видео)    72\n",
       "Name: time, Length: 65, dtype: int64"
      ]
     },
     "execution_count": 29,
     "metadata": {},
     "output_type": "execute_result"
    }
   ],
   "source": [
    "df_kino.time[df_kino.time < 90]"
   ]
  },
  {
   "cell_type": "code",
   "execution_count": 30,
   "metadata": {},
   "outputs": [
    {
     "data": {
      "text/html": [
       "<div>\n",
       "<style scoped>\n",
       "    .dataframe tbody tr th:only-of-type {\n",
       "        vertical-align: middle;\n",
       "    }\n",
       "\n",
       "    .dataframe tbody tr th {\n",
       "        vertical-align: top;\n",
       "    }\n",
       "\n",
       "    .dataframe thead th {\n",
       "        text-align: right;\n",
       "    }\n",
       "</style>\n",
       "<table border=\"1\" class=\"dataframe\">\n",
       "  <thead>\n",
       "    <tr style=\"text-align: right;\">\n",
       "      <th></th>\n",
       "      <th>country</th>\n",
       "      <th>time</th>\n",
       "      <th>ranking</th>\n",
       "      <th>type</th>\n",
       "      <th>year</th>\n",
       "      <th>budget</th>\n",
       "    </tr>\n",
       "    <tr>\n",
       "      <th>name</th>\n",
       "      <th></th>\n",
       "      <th></th>\n",
       "      <th></th>\n",
       "      <th></th>\n",
       "      <th></th>\n",
       "      <th></th>\n",
       "    </tr>\n",
       "  </thead>\n",
       "  <tbody>\n",
       "    <tr>\n",
       "      <th>Невеста</th>\n",
       "      <td>Россия</td>\n",
       "      <td>74</td>\n",
       "      <td>7,66</td>\n",
       "      <td>фильм</td>\n",
       "      <td>2006</td>\n",
       "      <td>87715</td>\n",
       "    </tr>\n",
       "    <tr>\n",
       "      <th>Кунг-фу Панда: Праздничный выпуск</th>\n",
       "      <td>США</td>\n",
       "      <td>21</td>\n",
       "      <td>7,07</td>\n",
       "      <td>мультфильм</td>\n",
       "      <td>2010</td>\n",
       "      <td>71177</td>\n",
       "    </tr>\n",
       "    <tr>\n",
       "      <th>Кушать подано!</th>\n",
       "      <td>Украина</td>\n",
       "      <td>85</td>\n",
       "      <td>7,348</td>\n",
       "      <td>фильм</td>\n",
       "      <td>2005</td>\n",
       "      <td>73002</td>\n",
       "    </tr>\n",
       "    <tr>\n",
       "      <th>Однажды в Токио</th>\n",
       "      <td>Япония</td>\n",
       "      <td>88</td>\n",
       "      <td>7,702</td>\n",
       "      <td>мультфильм</td>\n",
       "      <td>2003</td>\n",
       "      <td>71751</td>\n",
       "    </tr>\n",
       "    <tr>\n",
       "      <th>Нико: Путь к звездам</th>\n",
       "      <td>Финляндия</td>\n",
       "      <td>81</td>\n",
       "      <td>6,739</td>\n",
       "      <td>мультфильм</td>\n",
       "      <td>2008</td>\n",
       "      <td>85141</td>\n",
       "    </tr>\n",
       "    <tr>\n",
       "      <th>Пингвины из Мадагаскара в рождественских приключениях</th>\n",
       "      <td>США</td>\n",
       "      <td>10</td>\n",
       "      <td>7,53</td>\n",
       "      <td>мультфильм</td>\n",
       "      <td>2005</td>\n",
       "      <td>71719</td>\n",
       "    </tr>\n",
       "    <tr>\n",
       "      <th>Рождественская история (Фин.)</th>\n",
       "      <td>Финляндия</td>\n",
       "      <td>83</td>\n",
       "      <td>7,44</td>\n",
       "      <td>фильм</td>\n",
       "      <td>2007</td>\n",
       "      <td>62805</td>\n",
       "    </tr>\n",
       "    <tr>\n",
       "      <th>Рождественский Мадагаскар</th>\n",
       "      <td>США</td>\n",
       "      <td>21</td>\n",
       "      <td>7,106</td>\n",
       "      <td>мультфильм</td>\n",
       "      <td>2009</td>\n",
       "      <td>59159</td>\n",
       "    </tr>\n",
       "    <tr>\n",
       "      <th>Приготовление и начало</th>\n",
       "      <td>США</td>\n",
       "      <td>22</td>\n",
       "      <td>7,127</td>\n",
       "      <td>мультфильм</td>\n",
       "      <td>2009</td>\n",
       "      <td>65891</td>\n",
       "    </tr>\n",
       "    <tr>\n",
       "      <th>Тушите свет</th>\n",
       "      <td>Россия</td>\n",
       "      <td>75</td>\n",
       "      <td>5,856</td>\n",
       "      <td>фильм</td>\n",
       "      <td>2008</td>\n",
       "      <td>82143</td>\n",
       "    </tr>\n",
       "    <tr>\n",
       "      <th>Саманта: Каникулы американской девочки</th>\n",
       "      <td>США</td>\n",
       "      <td>86</td>\n",
       "      <td>7,564</td>\n",
       "      <td>фильм</td>\n",
       "      <td>2004</td>\n",
       "      <td>63262</td>\n",
       "    </tr>\n",
       "    <tr>\n",
       "      <th>Со мною вот что происходит</th>\n",
       "      <td>Россия</td>\n",
       "      <td>72</td>\n",
       "      <td>7,124</td>\n",
       "      <td>фильм</td>\n",
       "      <td>2012</td>\n",
       "      <td>98066</td>\n",
       "    </tr>\n",
       "    <tr>\n",
       "      <th>Тариф Новогодний</th>\n",
       "      <td>Россия</td>\n",
       "      <td>83</td>\n",
       "      <td>7,096</td>\n",
       "      <td>фильм</td>\n",
       "      <td>2008</td>\n",
       "      <td>66575</td>\n",
       "    </tr>\n",
       "    <tr>\n",
       "      <th>Потерянное Рождество</th>\n",
       "      <td>Великобритания</td>\n",
       "      <td>88</td>\n",
       "      <td>7,372</td>\n",
       "      <td>фильм</td>\n",
       "      <td>2011</td>\n",
       "      <td>61900</td>\n",
       "    </tr>\n",
       "    <tr>\n",
       "      <th>Шрек мороз, зеленый нос</th>\n",
       "      <td>США</td>\n",
       "      <td>21</td>\n",
       "      <td>6,733</td>\n",
       "      <td>мультфильм</td>\n",
       "      <td>2007</td>\n",
       "      <td>65955</td>\n",
       "    </tr>\n",
       "    <tr>\n",
       "      <th>Девочка со спичками</th>\n",
       "      <td>США</td>\n",
       "      <td>7</td>\n",
       "      <td>7,981</td>\n",
       "      <td>мультфильм</td>\n",
       "      <td>2006</td>\n",
       "      <td>60048</td>\n",
       "    </tr>\n",
       "    <tr>\n",
       "      <th>Дед Мороз поневоле</th>\n",
       "      <td>Россия</td>\n",
       "      <td>77</td>\n",
       "      <td>5,99</td>\n",
       "      <td>фильм</td>\n",
       "      <td>2007</td>\n",
       "      <td>65609</td>\n",
       "    </tr>\n",
       "    <tr>\n",
       "      <th>Драконы: Подарок ночной фурии (видео)</th>\n",
       "      <td>США</td>\n",
       "      <td>22</td>\n",
       "      <td>7,897</td>\n",
       "      <td>мультфильм</td>\n",
       "      <td>2011</td>\n",
       "      <td>91343</td>\n",
       "    </tr>\n",
       "  </tbody>\n",
       "</table>\n",
       "</div>"
      ],
      "text/plain": [
       "                                                           country  time  \\\n",
       "name                                                                       \n",
       "Невеста                                                     Россия    74   \n",
       "Кунг-фу Панда: Праздничный выпуск                              США    21   \n",
       "Кушать подано!                                             Украина    85   \n",
       "Однажды в Токио                                             Япония    88   \n",
       "Нико: Путь к звездам                                     Финляндия    81   \n",
       "Пингвины из Мадагаскара в рождественских приклю...             США    10   \n",
       "Рождественская история (Фин.)                            Финляндия    83   \n",
       "Рождественский Мадагаскар                                      США    21   \n",
       "Приготовление и начало                                         США    22   \n",
       "Тушите свет                                                 Россия    75   \n",
       "Саманта: Каникулы американской девочки                         США    86   \n",
       "Со мною вот что происходит                                  Россия    72   \n",
       "Тариф Новогодний                                            Россия    83   \n",
       "Потерянное Рождество                                Великобритания    88   \n",
       "Шрек мороз, зеленый нос                                        США    21   \n",
       "Девочка со спичками                                            США     7   \n",
       "Дед Мороз поневоле                                          Россия    77   \n",
       "Драконы: Подарок ночной фурии (видео)                          США    22   \n",
       "\n",
       "                                                   ranking        type  year  \\\n",
       "name                                                                           \n",
       "Невеста                                               7,66       фильм  2006   \n",
       "Кунг-фу Панда: Праздничный выпуск                     7,07  мультфильм  2010   \n",
       "Кушать подано!                                       7,348       фильм  2005   \n",
       "Однажды в Токио                                      7,702  мультфильм  2003   \n",
       "Нико: Путь к звездам                                 6,739  мультфильм  2008   \n",
       "Пингвины из Мадагаскара в рождественских приклю...    7,53  мультфильм  2005   \n",
       "Рождественская история (Фин.)                         7,44       фильм  2007   \n",
       "Рождественский Мадагаскар                            7,106  мультфильм  2009   \n",
       "Приготовление и начало                               7,127  мультфильм  2009   \n",
       "Тушите свет                                          5,856       фильм  2008   \n",
       "Саманта: Каникулы американской девочки               7,564       фильм  2004   \n",
       "Со мною вот что происходит                           7,124       фильм  2012   \n",
       "Тариф Новогодний                                     7,096       фильм  2008   \n",
       "Потерянное Рождество                                 7,372       фильм  2011   \n",
       "Шрек мороз, зеленый нос                              6,733  мультфильм  2007   \n",
       "Девочка со спичками                                  7,981  мультфильм  2006   \n",
       "Дед Мороз поневоле                                    5,99       фильм  2007   \n",
       "Драконы: Подарок ночной фурии (видео)                7,897  мультфильм  2011   \n",
       "\n",
       "                                                    budget  \n",
       "name                                                        \n",
       "Невеста                                              87715  \n",
       "Кунг-фу Панда: Праздничный выпуск                    71177  \n",
       "Кушать подано!                                       73002  \n",
       "Однажды в Токио                                      71751  \n",
       "Нико: Путь к звездам                                 85141  \n",
       "Пингвины из Мадагаскара в рождественских приклю...   71719  \n",
       "Рождественская история (Фин.)                        62805  \n",
       "Рождественский Мадагаскар                            59159  \n",
       "Приготовление и начало                               65891  \n",
       "Тушите свет                                          82143  \n",
       "Саманта: Каникулы американской девочки               63262  \n",
       "Со мною вот что происходит                           98066  \n",
       "Тариф Новогодний                                     66575  \n",
       "Потерянное Рождество                                 61900  \n",
       "Шрек мороз, зеленый нос                              65955  \n",
       "Девочка со спичками                                  60048  \n",
       "Дед Мороз поневоле                                   65609  \n",
       "Драконы: Подарок ночной фурии (видео)                91343  "
      ]
     },
     "execution_count": 30,
     "metadata": {},
     "output_type": "execute_result"
    }
   ],
   "source": [
    "df_kino[(df_kino.time < 90) & (df_kino.year > 2002)]"
   ]
  },
  {
   "cell_type": "code",
   "execution_count": 31,
   "metadata": {},
   "outputs": [
    {
     "data": {
      "text/plain": [
       "name\n",
       "Невеста                                                          Россия\n",
       "Кунг-фу Панда: Праздничный выпуск                                   США\n",
       "Кушать подано!                                                  Украина\n",
       "Однажды в Токио                                                  Япония\n",
       "Нико: Путь к звездам                                          Финляндия\n",
       "Пингвины из Мадагаскара в рождественских приключениях               США\n",
       "Рождественская история (Фин.)                                 Финляндия\n",
       "Рождественский Мадагаскар                                           США\n",
       "Приготовление и начало                                              США\n",
       "Тушите свет                                                      Россия\n",
       "Саманта: Каникулы американской девочки                              США\n",
       "Со мною вот что происходит                                       Россия\n",
       "Тариф Новогодний                                                 Россия\n",
       "Потерянное Рождество                                     Великобритания\n",
       "Шрек мороз, зеленый нос                                             США\n",
       "Девочка со спичками                                                 США\n",
       "Дед Мороз поневоле                                               Россия\n",
       "Драконы: Подарок ночной фурии (видео)                               США\n",
       "Name: country, dtype: object"
      ]
     },
     "execution_count": 31,
     "metadata": {},
     "output_type": "execute_result"
    }
   ],
   "source": [
    "df_kino[(df_kino.time < 90) & (df_kino.year > 2002)]['country']"
   ]
  },
  {
   "cell_type": "code",
   "execution_count": 32,
   "metadata": {},
   "outputs": [
    {
     "data": {
      "text/html": [
       "<div>\n",
       "<style scoped>\n",
       "    .dataframe tbody tr th:only-of-type {\n",
       "        vertical-align: middle;\n",
       "    }\n",
       "\n",
       "    .dataframe tbody tr th {\n",
       "        vertical-align: top;\n",
       "    }\n",
       "\n",
       "    .dataframe thead th {\n",
       "        text-align: right;\n",
       "    }\n",
       "</style>\n",
       "<table border=\"1\" class=\"dataframe\">\n",
       "  <thead>\n",
       "    <tr style=\"text-align: right;\">\n",
       "      <th></th>\n",
       "      <th>country</th>\n",
       "      <th>type</th>\n",
       "    </tr>\n",
       "    <tr>\n",
       "      <th>name</th>\n",
       "      <th></th>\n",
       "      <th></th>\n",
       "    </tr>\n",
       "  </thead>\n",
       "  <tbody>\n",
       "    <tr>\n",
       "      <th>Моя мама Снегурочка</th>\n",
       "      <td>Россия</td>\n",
       "      <td>фильм</td>\n",
       "    </tr>\n",
       "    <tr>\n",
       "      <th>Набережная Орфевр</th>\n",
       "      <td>Франция</td>\n",
       "      <td>фильм</td>\n",
       "    </tr>\n",
       "  </tbody>\n",
       "</table>\n",
       "</div>"
      ],
      "text/plain": [
       "                     country   type\n",
       "name                               \n",
       "Моя мама Снегурочка   Россия  фильм\n",
       "Набережная Орфевр    Франция  фильм"
      ]
     },
     "execution_count": 32,
     "metadata": {},
     "output_type": "execute_result"
    }
   ],
   "source": [
    "df_kino.loc[['Моя мама Снегурочка', 'Набережная Орфевр']][['country', 'type']]"
   ]
  },
  {
   "cell_type": "code",
   "execution_count": 33,
   "metadata": {},
   "outputs": [
    {
     "data": {
      "text/plain": [
       "name\n",
       "Невеста                                              7,66\n",
       "Кто приходит в зимний вечер                         6,038\n",
       "Моя мама Снегурочка                                 6,828\n",
       "Набережная Орфевр                                   7,597\n",
       "Лузер                                               6,065\n",
       "                                                    ...  \n",
       "Карнавальная ночь                                   7,929\n",
       "Квартира                                            8,021\n",
       "Когда зажигаются елки                                7,94\n",
       "Кошмар перед Рождеством                             8,049\n",
       "Красавица и чудовище: Чудесное Рождество (видео)    6,814\n",
       "Name: ranking, Length: 150, dtype: object"
      ]
     },
     "execution_count": 33,
     "metadata": {},
     "output_type": "execute_result"
    }
   ],
   "source": [
    "df_kino.ranking"
   ]
  },
  {
   "cell_type": "code",
   "execution_count": 34,
   "metadata": {},
   "outputs": [
    {
     "ename": "TypeError",
     "evalue": "'>' not supported between instances of 'str' and 'int'",
     "output_type": "error",
     "traceback": [
      "\u001b[0;31m---------------------------------------------------------------------------\u001b[0m",
      "\u001b[0;31mTypeError\u001b[0m                                 Traceback (most recent call last)",
      "\u001b[0;32m<ipython-input-34-3580094f9016>\u001b[0m in \u001b[0;36m<module>\u001b[0;34m\u001b[0m\n\u001b[0;32m----> 1\u001b[0;31m \u001b[0mdf_kino\u001b[0m\u001b[0;34m.\u001b[0m\u001b[0mranking\u001b[0m \u001b[0;34m>\u001b[0m \u001b[0;36m7\u001b[0m\u001b[0;34m\u001b[0m\u001b[0;34m\u001b[0m\u001b[0m\n\u001b[0m",
      "\u001b[0;32m~/anaconda3/lib/python3.8/site-packages/pandas/core/ops/common.py\u001b[0m in \u001b[0;36mnew_method\u001b[0;34m(self, other)\u001b[0m\n\u001b[1;32m     63\u001b[0m         \u001b[0mother\u001b[0m \u001b[0;34m=\u001b[0m \u001b[0mitem_from_zerodim\u001b[0m\u001b[0;34m(\u001b[0m\u001b[0mother\u001b[0m\u001b[0;34m)\u001b[0m\u001b[0;34m\u001b[0m\u001b[0;34m\u001b[0m\u001b[0m\n\u001b[1;32m     64\u001b[0m \u001b[0;34m\u001b[0m\u001b[0m\n\u001b[0;32m---> 65\u001b[0;31m         \u001b[0;32mreturn\u001b[0m \u001b[0mmethod\u001b[0m\u001b[0;34m(\u001b[0m\u001b[0mself\u001b[0m\u001b[0;34m,\u001b[0m \u001b[0mother\u001b[0m\u001b[0;34m)\u001b[0m\u001b[0;34m\u001b[0m\u001b[0;34m\u001b[0m\u001b[0m\n\u001b[0m\u001b[1;32m     66\u001b[0m \u001b[0;34m\u001b[0m\u001b[0m\n\u001b[1;32m     67\u001b[0m     \u001b[0;32mreturn\u001b[0m \u001b[0mnew_method\u001b[0m\u001b[0;34m\u001b[0m\u001b[0;34m\u001b[0m\u001b[0m\n",
      "\u001b[0;32m~/anaconda3/lib/python3.8/site-packages/pandas/core/ops/__init__.py\u001b[0m in \u001b[0;36mwrapper\u001b[0;34m(self, other)\u001b[0m\n\u001b[1;32m    368\u001b[0m         \u001b[0mrvalues\u001b[0m \u001b[0;34m=\u001b[0m \u001b[0mextract_array\u001b[0m\u001b[0;34m(\u001b[0m\u001b[0mother\u001b[0m\u001b[0;34m,\u001b[0m \u001b[0mextract_numpy\u001b[0m\u001b[0;34m=\u001b[0m\u001b[0;32mTrue\u001b[0m\u001b[0;34m)\u001b[0m\u001b[0;34m\u001b[0m\u001b[0;34m\u001b[0m\u001b[0m\n\u001b[1;32m    369\u001b[0m \u001b[0;34m\u001b[0m\u001b[0m\n\u001b[0;32m--> 370\u001b[0;31m         \u001b[0mres_values\u001b[0m \u001b[0;34m=\u001b[0m \u001b[0mcomparison_op\u001b[0m\u001b[0;34m(\u001b[0m\u001b[0mlvalues\u001b[0m\u001b[0;34m,\u001b[0m \u001b[0mrvalues\u001b[0m\u001b[0;34m,\u001b[0m \u001b[0mop\u001b[0m\u001b[0;34m)\u001b[0m\u001b[0;34m\u001b[0m\u001b[0;34m\u001b[0m\u001b[0m\n\u001b[0m\u001b[1;32m    371\u001b[0m \u001b[0;34m\u001b[0m\u001b[0m\n\u001b[1;32m    372\u001b[0m         \u001b[0;32mreturn\u001b[0m \u001b[0mself\u001b[0m\u001b[0;34m.\u001b[0m\u001b[0m_construct_result\u001b[0m\u001b[0;34m(\u001b[0m\u001b[0mres_values\u001b[0m\u001b[0;34m,\u001b[0m \u001b[0mname\u001b[0m\u001b[0;34m=\u001b[0m\u001b[0mres_name\u001b[0m\u001b[0;34m)\u001b[0m\u001b[0;34m\u001b[0m\u001b[0;34m\u001b[0m\u001b[0m\n",
      "\u001b[0;32m~/anaconda3/lib/python3.8/site-packages/pandas/core/ops/array_ops.py\u001b[0m in \u001b[0;36mcomparison_op\u001b[0;34m(left, right, op)\u001b[0m\n\u001b[1;32m    242\u001b[0m \u001b[0;34m\u001b[0m\u001b[0m\n\u001b[1;32m    243\u001b[0m     \u001b[0;32melif\u001b[0m \u001b[0mis_object_dtype\u001b[0m\u001b[0;34m(\u001b[0m\u001b[0mlvalues\u001b[0m\u001b[0;34m.\u001b[0m\u001b[0mdtype\u001b[0m\u001b[0;34m)\u001b[0m\u001b[0;34m:\u001b[0m\u001b[0;34m\u001b[0m\u001b[0;34m\u001b[0m\u001b[0m\n\u001b[0;32m--> 244\u001b[0;31m         \u001b[0mres_values\u001b[0m \u001b[0;34m=\u001b[0m \u001b[0mcomp_method_OBJECT_ARRAY\u001b[0m\u001b[0;34m(\u001b[0m\u001b[0mop\u001b[0m\u001b[0;34m,\u001b[0m \u001b[0mlvalues\u001b[0m\u001b[0;34m,\u001b[0m \u001b[0mrvalues\u001b[0m\u001b[0;34m)\u001b[0m\u001b[0;34m\u001b[0m\u001b[0;34m\u001b[0m\u001b[0m\n\u001b[0m\u001b[1;32m    245\u001b[0m \u001b[0;34m\u001b[0m\u001b[0m\n\u001b[1;32m    246\u001b[0m     \u001b[0;32melse\u001b[0m\u001b[0;34m:\u001b[0m\u001b[0;34m\u001b[0m\u001b[0;34m\u001b[0m\u001b[0m\n",
      "\u001b[0;32m~/anaconda3/lib/python3.8/site-packages/pandas/core/ops/array_ops.py\u001b[0m in \u001b[0;36mcomp_method_OBJECT_ARRAY\u001b[0;34m(op, x, y)\u001b[0m\n\u001b[1;32m     54\u001b[0m         \u001b[0mresult\u001b[0m \u001b[0;34m=\u001b[0m \u001b[0mlibops\u001b[0m\u001b[0;34m.\u001b[0m\u001b[0mvec_compare\u001b[0m\u001b[0;34m(\u001b[0m\u001b[0mx\u001b[0m\u001b[0;34m.\u001b[0m\u001b[0mravel\u001b[0m\u001b[0;34m(\u001b[0m\u001b[0;34m)\u001b[0m\u001b[0;34m,\u001b[0m \u001b[0my\u001b[0m\u001b[0;34m.\u001b[0m\u001b[0mravel\u001b[0m\u001b[0;34m(\u001b[0m\u001b[0;34m)\u001b[0m\u001b[0;34m,\u001b[0m \u001b[0mop\u001b[0m\u001b[0;34m)\u001b[0m\u001b[0;34m\u001b[0m\u001b[0;34m\u001b[0m\u001b[0m\n\u001b[1;32m     55\u001b[0m     \u001b[0;32melse\u001b[0m\u001b[0;34m:\u001b[0m\u001b[0;34m\u001b[0m\u001b[0;34m\u001b[0m\u001b[0m\n\u001b[0;32m---> 56\u001b[0;31m         \u001b[0mresult\u001b[0m \u001b[0;34m=\u001b[0m \u001b[0mlibops\u001b[0m\u001b[0;34m.\u001b[0m\u001b[0mscalar_compare\u001b[0m\u001b[0;34m(\u001b[0m\u001b[0mx\u001b[0m\u001b[0;34m.\u001b[0m\u001b[0mravel\u001b[0m\u001b[0;34m(\u001b[0m\u001b[0;34m)\u001b[0m\u001b[0;34m,\u001b[0m \u001b[0my\u001b[0m\u001b[0;34m,\u001b[0m \u001b[0mop\u001b[0m\u001b[0;34m)\u001b[0m\u001b[0;34m\u001b[0m\u001b[0;34m\u001b[0m\u001b[0m\n\u001b[0m\u001b[1;32m     57\u001b[0m     \u001b[0;32mreturn\u001b[0m \u001b[0mresult\u001b[0m\u001b[0;34m.\u001b[0m\u001b[0mreshape\u001b[0m\u001b[0;34m(\u001b[0m\u001b[0mx\u001b[0m\u001b[0;34m.\u001b[0m\u001b[0mshape\u001b[0m\u001b[0;34m)\u001b[0m\u001b[0;34m\u001b[0m\u001b[0;34m\u001b[0m\u001b[0m\n\u001b[1;32m     58\u001b[0m \u001b[0;34m\u001b[0m\u001b[0m\n",
      "\u001b[0;32mpandas/_libs/ops.pyx\u001b[0m in \u001b[0;36mpandas._libs.ops.scalar_compare\u001b[0;34m()\u001b[0m\n",
      "\u001b[0;31mTypeError\u001b[0m: '>' not supported between instances of 'str' and 'int'"
     ]
    }
   ],
   "source": [
    "df_kino.ranking > 7"
   ]
  },
  {
   "cell_type": "markdown",
   "metadata": {},
   "source": [
    "Кто виноват и что делать???"
   ]
  }
 ],
 "metadata": {
  "kernelspec": {
   "display_name": "Python 3",
   "language": "python",
   "name": "python3"
  },
  "language_info": {
   "codemirror_mode": {
    "name": "ipython",
    "version": 3
   },
   "file_extension": ".py",
   "mimetype": "text/x-python",
   "name": "python",
   "nbconvert_exporter": "python",
   "pygments_lexer": "ipython3",
   "version": "3.8.3"
  }
 },
 "nbformat": 4,
 "nbformat_minor": 4
}
