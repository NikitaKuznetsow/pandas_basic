{
 "cells": [
  {
   "cell_type": "markdown",
   "metadata": {},
   "source": [
    "# Что не находят на Ozon\n",
    "\n",
    "> [источник](https://opendata.ozon.ru/data/chto-ne-nakhodyat-na-ozon/)\n",
    "\n",
    "Кроме популярных товаров, Ozon также анализирует поисковые запросы, по которым покупатели не нашли товаров вообще или не заинтересовались предложенными. Мы собрали такие запросы в отдельный файл и разбили на три группы:\n",
    "\n",
    "- Нет результатов — по поисковому запросу нет товаров\n",
    "- Только похожие — подходящих результатов нет, но есть похожие товары\n",
    "- Не подошли — результаты таких поисковых запросов не заинтересовали покупателей. В столбце Доля неуспешных запросов указан процент запросов, после которых покупатели не перешли на карточку товара и не добавили ни одного товара в корзину"
   ]
  },
  {
   "cell_type": "markdown",
   "metadata": {},
   "source": [
    "<a href=\"https://colab.research.google.com/github/dm-fedorov/pandas_basic/blob/master/кейсы%20по%20анализу%20данных/ozon_case_01/Кейс%20от%20OZON.%20Что%20не%20находят%20на%20Ozon.ipynb\" target=\"_blank\"><img align=\"left\" src=\"https://colab.research.google.com/assets/colab-badge.svg\" alt=\"Open in Colab\" title=\"Open and Execute in Google Colaboratory\"></a>"
   ]
  },
  {
   "cell_type": "code",
   "execution_count": 1,
   "metadata": {},
   "outputs": [],
   "source": [
    "import pandas as pd"
   ]
  },
  {
   "cell_type": "code",
   "execution_count": 4,
   "metadata": {},
   "outputs": [
    {
     "data": {
      "text/html": [
       "<div>\n",
       "<style scoped>\n",
       "    .dataframe tbody tr th:only-of-type {\n",
       "        vertical-align: middle;\n",
       "    }\n",
       "\n",
       "    .dataframe tbody tr th {\n",
       "        vertical-align: top;\n",
       "    }\n",
       "\n",
       "    .dataframe thead th {\n",
       "        text-align: right;\n",
       "    }\n",
       "</style>\n",
       "<table border=\"1\" class=\"dataframe\">\n",
       "  <thead>\n",
       "    <tr style=\"text-align: right;\">\n",
       "      <th></th>\n",
       "      <th>Поисковый запрос</th>\n",
       "      <th>Количество запросов с пустым результатом за ноябрь 2020</th>\n",
       "      <th>Предположительная категория поиска 1</th>\n",
       "      <th>Предположительная категория поиска 2</th>\n",
       "      <th>Статус запроса на 01.12.2020</th>\n",
       "    </tr>\n",
       "  </thead>\n",
       "  <tbody>\n",
       "    <tr>\n",
       "      <th>0</th>\n",
       "      <td>аквадетрим</td>\n",
       "      <td>42961</td>\n",
       "      <td>Лекарственные средства</td>\n",
       "      <td>NaN</td>\n",
       "      <td>Товар найден</td>\n",
       "    </tr>\n",
       "    <tr>\n",
       "      <th>1</th>\n",
       "      <td>арбидол</td>\n",
       "      <td>20569</td>\n",
       "      <td>Лекарственные средства</td>\n",
       "      <td>NaN</td>\n",
       "      <td>Товар найден</td>\n",
       "    </tr>\n",
       "    <tr>\n",
       "      <th>2</th>\n",
       "      <td>цефтриаксон</td>\n",
       "      <td>20060</td>\n",
       "      <td>Лекарственные средства</td>\n",
       "      <td>NaN</td>\n",
       "      <td>Нет результатов</td>\n",
       "    </tr>\n",
       "    <tr>\n",
       "      <th>3</th>\n",
       "      <td>детримакс</td>\n",
       "      <td>16971</td>\n",
       "      <td>Лекарственные средства</td>\n",
       "      <td>NaN</td>\n",
       "      <td>Товар найден</td>\n",
       "    </tr>\n",
       "    <tr>\n",
       "      <th>4</th>\n",
       "      <td>shiseido</td>\n",
       "      <td>8928</td>\n",
       "      <td>Товары для красоты</td>\n",
       "      <td>Тональные средства для лица</td>\n",
       "      <td>Товар найден</td>\n",
       "    </tr>\n",
       "  </tbody>\n",
       "</table>\n",
       "</div>"
      ],
      "text/plain": [
       "  Поисковый запрос  Количество запросов с пустым результатом за ноябрь 2020  \\\n",
       "0       аквадетрим                                              42961         \n",
       "1          арбидол                                              20569         \n",
       "2      цефтриаксон                                              20060         \n",
       "3        детримакс                                              16971         \n",
       "4         shiseido                                               8928         \n",
       "\n",
       "  Предположительная категория поиска 1 Предположительная категория поиска 2  \\\n",
       "0               Лекарственные средства                                  NaN   \n",
       "1               Лекарственные средства                                  NaN   \n",
       "2               Лекарственные средства                                  NaN   \n",
       "3               Лекарственные средства                                  NaN   \n",
       "4                   Товары для красоты          Тональные средства для лица   \n",
       "\n",
       "  Статус запроса на 01.12.2020  \n",
       "0                 Товар найден  \n",
       "1                 Товар найден  \n",
       "2              Нет результатов  \n",
       "3                 Товар найден  \n",
       "4                 Товар найден  "
      ]
     },
     "execution_count": 4,
     "metadata": {},
     "output_type": "execute_result"
    }
   ],
   "source": [
    "df = pd.read_excel(\"https://github.com/dm-fedorov/pandas_basic/blob/master/%D0%BA%D0%B5%D0%B9%D1%81%D1%8B%20%D0%BF%D0%BE%20%D0%B0%D0%BD%D0%B0%D0%BB%D0%B8%D0%B7%D1%83%20%D0%B4%D0%B0%D0%BD%D0%BD%D1%8B%D1%85/ozon_case_01/data/raw/chto-ne-nashli-na-ozon-v-noyabre-2020_JBQtdms.xlsx?raw=True\")\n",
    "df.head()"
   ]
  },
  {
   "cell_type": "code",
   "execution_count": 1,
   "metadata": {},
   "outputs": [],
   "source": []
  },
  {
   "cell_type": "code",
   "execution_count": null,
   "metadata": {},
   "outputs": [],
   "source": []
  }
 ],
 "metadata": {
  "kernelspec": {
   "display_name": "Python 3",
   "language": "python",
   "name": "python3"
  },
  "language_info": {
   "codemirror_mode": {
    "name": "ipython",
    "version": 3
   },
   "file_extension": ".py",
   "mimetype": "text/x-python",
   "name": "python",
   "nbconvert_exporter": "python",
   "pygments_lexer": "ipython3",
   "version": "3.8.3"
  }
 },
 "nbformat": 4,
 "nbformat_minor": 4
}
