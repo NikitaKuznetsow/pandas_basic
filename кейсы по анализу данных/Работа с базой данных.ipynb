{
 "cells": [
  {
   "cell_type": "markdown",
   "metadata": {},
   "source": [
    "База данных (БД) - хранилище данных.\n",
    "\n",
    "Система управления базой данных (СУБД) - программа, которая позволяет работать с данными с помощью запросов."
   ]
  },
  {
   "cell_type": "markdown",
   "metadata": {},
   "source": [
    "### Типы баз данных\n",
    "\n",
    "* Самым распространенным типом является реляционная база данных (SQL), от слова relation — отношение. Примеры: SQLite, MySQL, MSSQL, [PostgreSQL](https://www.postgresql.org/).\n",
    "* Следом по популярности идут объектные базы данных. Данные в них хранятся в виде объектов, как в Объектно-Ориентированном Программировании.\n",
    "Примеры: [ObjectDatabase++](http://tdbe.ekkysoftware.com/ODBPP)\n",
    "* Существуют документоориентированные базы данных (NoSQL). Самый популярный пример — [MongoDB](https://www.mongodb.com/). Например, в таких базах можно хранить документы форматов XML и json.\n",
    "* Другой пример — графовые базы данных. Они позволяют хранить данные в виде графа, имеющего объекты и связи между ними. Такие базы удобно использовать, например, для хранения геоданных или данных о пользователях в социальной сети. Пример — [Neo4J](https://neo4j.com/).\n",
    "\n",
    "Еще один интересный, с точки зрения анализа данных, пример — столбцовые (колоночные) БД. Например, [ClickHouse от Яндекса](https://habr.com/ru/company/yandex/blog/303282/). Попробовать [online](https://clickhouse.tech). Эту СУБД используют в Яндексе для хранения данных из Яндекс.Метрики, так как она позволяет быстро сохранять слабо структурированные данные в базу и обрабатывать огромные объёмы данных в реальном времени. Важно помнить, что если при обработке данных нам приходится больше работать со строками, а не со столбцами, то лучше использовать реляционные БД."
   ]
  },
  {
   "cell_type": "markdown",
   "metadata": {},
   "source": [
    "### О реляционных базах данных\n",
    "\n",
    "Реляционная база данных — это набор таблиц, связанных друг с другом. При этом каждая таблица хранит информацию об объектах определённого типа. Например, в одной таблице будут данные о людях, а в другой — об их домашних животных. \n",
    "\n",
    "Строка таблицы содержит данные об одном объекте (например, о человеке из первой базы). Столбцы таблицы описывают различные характеристики (атрибуты) этих объектов. Например, имя, пол, возраст и так далее. Каждый атрибут имеет строго определённый тип данных. На столбец можно накладывать ограничение NOT NULL, говорящее, что в нем не должно быть пропусков. Тогда система не даст добавить запись с пропуском в данном атрибуте.\n",
    "\n",
    "Записи (примеры, строки) имеют одинаковую структуру: они состоят из полей, хранящих атрибуты (признаки) объекта. В строках могут находиться пропуски, если только не наложено ограничение NOT NULL.\n",
    "\n",
    "Хорошая подробная статья о том, [как работает реляционная БД](https://habr.com/ru/company/yandex/blog/303282/)."
   ]
  },
  {
   "cell_type": "markdown",
   "metadata": {},
   "source": [
    "### Связи в таблицах\n",
    "\n",
    "Таблицы в  могут быть связаны друг с другом. Две таблицы связаны, если в них имеются одинаковые столбцы.\n",
    "\n",
    "В реляционной базе данных каждая таблица должна иметь первичный ключ (PRIMARY KEY) — поле или комбинацию полей, которые единственным образом идентифицируют каждую строку таблицы.\n",
    "\n",
    "Если ключ состоит из нескольких полей, то он называется составным. Ключ должен быть уникальным и однозначно определять запись. По значению ключа можно отыскать единственную запись. Ключи служат также для упорядочивания информации в БД. В качестве ключа можно использовать какой-то искусственно созданный идентификатор человека или уже существующие уникальные коды типа ИНН. Нехорошо выбирать идентификатором имя, так как оно не уникально. Несмотря на то, что ключом можно объявить сразу несколько атрибутов, выделять атрибуты (фамилия, имя, отчество) как составной первичный ключ тоже нехорошо, по той же причине.\n",
    "\n",
    "Кроме первичного ключа существует внешний ключ (FOREIGN KEY), который создаёт жесткую связь между парой таблиц. Как это работает? Создается Таблица 1, в которой определяется первичный ключ (например, id). Затем создается Таблица 2, в которой определяется внешний ключ (например, f_id), при этом явно указывается, что он ссылается на первичный ключ из таблицы 1 (который мы назвали id).\n",
    "\n",
    "Такая связь позволяет при изменении значения первичного ключа в первой таблице изменить все соответствующие значения связанного поля во второй таблице. При удалении записи с определенным первичным ключом в первой таблице могут быть удалены все записи с определенным (тем же) значением связанного внешним ключом поля во второй таблице.\n",
    "\n",
    "Например, у нас есть таблица с данными о сотрудниках. Кроме этого, есть таблица с медицинскими данными для каждого сотрудника, для которого есть такая информация. Во второй таблице будет указан внешний ключ, ссылающийся на идентификатор сотрудника в первой таблице. При удалении сотрудника можно будет автоматически (каскадно) удалить соответствующие ему записи из других связанных таблиц, в том числе, из таблицы с медицинскими данными."
   ]
  },
  {
   "cell_type": "markdown",
   "metadata": {},
   "source": [
    "### Что такое нормализация?\n",
    "\n",
    "Часто говорят, что таблицы реляционной БД должны отвечать требованиям нормализации отношений.\n",
    "\n",
    "Нормализация — это способ наложить ограничение на формирование таблиц, которое позволяет устранить дублирование, обеспечивает непротиворечивость хранимых в базе данных, уменьшает трудозатраты на ведение базы данных.\n",
    "\n",
    "Чтобы нормализовать таблицу, ее приводят к нормальным формам. Подробнее [про нормальные формы на Хабре](https://habr.com/ru/post/254773/)."
   ]
  },
  {
   "cell_type": "code",
   "execution_count": 28,
   "metadata": {},
   "outputs": [],
   "source": [
    "import sqlite3\n",
    "conn = sqlite3.connect('restaurant.db') # Создаем соединение с нашей базой данных"
   ]
  },
  {
   "cell_type": "markdown",
   "metadata": {},
   "source": [
    "# Часть №1\n",
    "\n",
    "#### Хотим таблицу Склад:\n",
    "\n",
    "| Название ингредиента | Количество | Дата* |\n",
    "| -------------------- |:----------:|:-----:|\n",
    "| Брокколи             | 25         | 02.12 |\n",
    "| Куриное филе         | 5          | 03.12 |\n",
    "| Брокколи             | 30         | 04.12 |\n",
    "\n",
    "*когда испортится или когда привезли\n",
    "\n",
    "#### Как ее правильно реализовать в реляционных базах данных?\n",
    "###### Таблица Склад:  \n",
    "   \n",
    "| id | id ингредиента | Количество | Дата* |\n",
    "| -- | -------------- |:----------:|:-----:|\n",
    "| 1  | 5              | 25         | 1575314617 |\n",
    "| 2  | 7              | 5          | 1575401017 |\n",
    "| 3  | 5              | 30         | 1575487417 |\n",
    "\n",
    "###### Таблица Ингредиенты:\n",
    "\n",
    "| id ингредиента | Название |\n",
    "| -- | -------------- |\n",
    "| 5  | Брокколи       |\n",
    "| 7  | Куриное филе   |\n",
    "\n",
    "*unix-time"
   ]
  },
  {
   "cell_type": "code",
   "execution_count": 29,
   "metadata": {},
   "outputs": [],
   "source": [
    "# Создаем курсор - это специальный объект который делает запросы и получает их результаты\n",
    "c = conn.cursor()\n",
    "\n",
    "# Создаем таблицу ингредиентов\n",
    "c.execute('''CREATE TABLE ingredients\n",
    "             (id INTEGER PRIMARY KEY, name TEXT)''')\n",
    "\n",
    "# Создаем таблицу для склада\n",
    "c.execute('''CREATE TABLE warehouse\n",
    "             (id INTEGER PRIMARY KEY AUTOINCREMENT NOT NULL, ingredient_id INTEGER, count INTEGER, date REAL)''')\n",
    "\n",
    "# Save (commit) the changes\n",
    "conn.commit()"
   ]
  },
  {
   "cell_type": "markdown",
   "metadata": {},
   "source": [
    "Заполним таблицу ингредиентов:"
   ]
  },
  {
   "cell_type": "code",
   "execution_count": 5,
   "metadata": {},
   "outputs": [
    {
     "name": "stdout",
     "output_type": "stream",
     "text": [
      "('Молоко',)\n",
      "('Яйцо',)\n",
      "('Мука',)\n",
      "('Разрыхлитель',)\n",
      "('Масло растительное',)\n",
      "('Сахар',)\n",
      "('Соль',)\n"
     ]
    }
   ],
   "source": [
    "ingredients = ['Молоко', 'Яйцо', 'Мука', 'Разрыхлитель', 'Масло растительное', 'Сахар', 'Соль']\n",
    "for i in map(lambda it: (it, ), ingredients):\n",
    "    print(i)\n",
    "    c.execute(\"INSERT INTO ingredients (name) VALUES (?)\", i)"
   ]
  },
  {
   "cell_type": "code",
   "execution_count": 33,
   "metadata": {},
   "outputs": [
    {
     "data": {
      "text/plain": [
       "[(1, 'Молоко')]"
      ]
     },
     "execution_count": 33,
     "metadata": {},
     "output_type": "execute_result"
    }
   ],
   "source": [
    "c.execute(\"SELECT * FROM ingredients\")\n",
    "results = c.fetchall()\n",
    "results"
   ]
  },
  {
   "cell_type": "code",
   "execution_count": 7,
   "metadata": {},
   "outputs": [
    {
     "data": {
      "text/plain": [
       "[('Молоко',),\n",
       " ('Яйцо',),\n",
       " ('Мука',),\n",
       " ('Разрыхлитель',),\n",
       " ('Масло растительное',),\n",
       " ('Сахар',),\n",
       " ('Соль',)]"
      ]
     },
     "execution_count": 7,
     "metadata": {},
     "output_type": "execute_result"
    }
   ],
   "source": [
    "c.execute(\"SELECT name FROM ingredients\")\n",
    "results = c.fetchall()\n",
    "results"
   ]
  },
  {
   "cell_type": "code",
   "execution_count": 8,
   "metadata": {},
   "outputs": [
    {
     "name": "stdout",
     "output_type": "stream",
     "text": [
      "[(5, 'Масло растительное')]\n",
      "[(7, 'Соль')]\n"
     ]
    }
   ],
   "source": [
    "c.execute(\"SELECT * FROM ingredients WHERE id=5\")\n",
    "print(c.fetchall())\n",
    "\n",
    "c.execute(\"SELECT * FROM ingredients WHERE name='Соль'\")\n",
    "print(c.fetchall())"
   ]
  },
  {
   "cell_type": "markdown",
   "metadata": {},
   "source": [
    "Посчитаем количество строк этой таблицы:"
   ]
  },
  {
   "cell_type": "code",
   "execution_count": 9,
   "metadata": {},
   "outputs": [
    {
     "name": "stdout",
     "output_type": "stream",
     "text": [
      "[(7,)]\n",
      "[(28,)]\n"
     ]
    }
   ],
   "source": [
    "c.execute(\"SELECT COUNT(*) FROM ingredients\")\n",
    "print(c.fetchall())\n",
    "\n",
    "c.execute(\"SELECT SUM(id) FROM ingredients\")\n",
    "print(c.fetchall())"
   ]
  },
  {
   "cell_type": "markdown",
   "metadata": {},
   "source": [
    "Создадим случайные данные для Склада и запишем их в БД:"
   ]
  },
  {
   "cell_type": "code",
   "execution_count": 10,
   "metadata": {},
   "outputs": [
    {
     "name": "stdout",
     "output_type": "stream",
     "text": [
      "[(1,), (2,), (3,), (4,), (5,), (6,), (7,)]\n",
      "[1, 2, 3, 4, 5, 6, 7]\n"
     ]
    }
   ],
   "source": [
    "c.execute(\"SELECT id FROM ingredients\")\n",
    "results = c.fetchall()\n",
    "print(results)\n",
    "ids = list(map(lambda it: it[0], results))\n",
    "print(ids)"
   ]
  },
  {
   "cell_type": "code",
   "execution_count": 11,
   "metadata": {},
   "outputs": [],
   "source": [
    "import random\n",
    "import datetime\n",
    "\n",
    "for i in range(1, 28):\n",
    "    count = random.randint(10, 100)\n",
    "    date = datetime.datetime(2019, 11, i, hour=random.randint(12, 18), minute=random.randint(0, 59), second=0, microsecond=0, tzinfo=None)\n",
    "    ingredient = random.choice(ids)\n",
    "    c.execute(\"INSERT INTO warehouse (ingredient_id, count, date) VALUES (?, ?, ?)\", (ingredient, count, date.timestamp()))"
   ]
  },
  {
   "cell_type": "code",
   "execution_count": 12,
   "metadata": {},
   "outputs": [
    {
     "data": {
      "text/plain": [
       "[(1, 4, 62, 1572611520.0),\n",
       " (2, 3, 14, 1572696720.0),\n",
       " (3, 4, 27, 1572786240.0),\n",
       " (4, 2, 21, 1572859740.0),\n",
       " (5, 6, 96, 1572968760.0),\n",
       " (6, 4, 84, 1573050540.0),\n",
       " (7, 6, 76, 1573125120.0),\n",
       " (8, 3, 16, 1573215180.0),\n",
       " (9, 4, 71, 1573291320.0),\n",
       " (10, 5, 63, 1573394760.0),\n",
       " (11, 2, 53, 1573466460.0),\n",
       " (12, 5, 87, 1573554480.0),\n",
       " (13, 4, 95, 1573649640.0),\n",
       " (14, 6, 97, 1573739460.0),\n",
       " (15, 2, 62, 1573814280.0),\n",
       " (16, 4, 65, 1573902000.0),\n",
       " (17, 1, 67, 1574005920.0),\n",
       " (18, 3, 54, 1574092500.0),\n",
       " (19, 2, 32, 1574172060.0),\n",
       " (20, 2, 31, 1574262420.0),\n",
       " (21, 2, 27, 1574335380.0),\n",
       " (22, 7, 40, 1574433180.0),\n",
       " (23, 3, 42, 1574516220.0),\n",
       " (24, 7, 14, 1574605260.0),\n",
       " (25, 6, 63, 1574674140.0),\n",
       " (26, 1, 53, 1574780820.0),\n",
       " (27, 6, 19, 1574850000.0)]"
      ]
     },
     "execution_count": 12,
     "metadata": {},
     "output_type": "execute_result"
    }
   ],
   "source": [
    "c.execute(\"SELECT * FROM warehouse\")\n",
    "results = c.fetchall()\n",
    "results"
   ]
  },
  {
   "cell_type": "markdown",
   "metadata": {},
   "source": [
    "Приведем все в нормальный вид:"
   ]
  },
  {
   "cell_type": "code",
   "execution_count": 13,
   "metadata": {},
   "outputs": [
    {
     "data": {
      "text/plain": [
       "[('Разрыхлитель', 62, 1572611520.0),\n",
       " ('Мука', 14, 1572696720.0),\n",
       " ('Разрыхлитель', 27, 1572786240.0),\n",
       " ('Яйцо', 21, 1572859740.0),\n",
       " ('Сахар', 96, 1572968760.0),\n",
       " ('Разрыхлитель', 84, 1573050540.0),\n",
       " ('Сахар', 76, 1573125120.0),\n",
       " ('Мука', 16, 1573215180.0),\n",
       " ('Разрыхлитель', 71, 1573291320.0),\n",
       " ('Масло растительное', 63, 1573394760.0),\n",
       " ('Яйцо', 53, 1573466460.0),\n",
       " ('Масло растительное', 87, 1573554480.0),\n",
       " ('Разрыхлитель', 95, 1573649640.0),\n",
       " ('Сахар', 97, 1573739460.0),\n",
       " ('Яйцо', 62, 1573814280.0),\n",
       " ('Разрыхлитель', 65, 1573902000.0),\n",
       " ('Молоко', 67, 1574005920.0),\n",
       " ('Мука', 54, 1574092500.0),\n",
       " ('Яйцо', 32, 1574172060.0),\n",
       " ('Яйцо', 31, 1574262420.0),\n",
       " ('Яйцо', 27, 1574335380.0),\n",
       " ('Соль', 40, 1574433180.0),\n",
       " ('Мука', 42, 1574516220.0),\n",
       " ('Соль', 14, 1574605260.0),\n",
       " ('Сахар', 63, 1574674140.0),\n",
       " ('Молоко', 53, 1574780820.0),\n",
       " ('Сахар', 19, 1574850000.0)]"
      ]
     },
     "execution_count": 13,
     "metadata": {},
     "output_type": "execute_result"
    }
   ],
   "source": [
    "def prettyWarehouse(cursor):\n",
    "    cursor.execute(\"\"\"SELECT name, count, date FROM warehouse\n",
    "          JOIN ingredients WHERE warehouse.ingredient_id = ingredients.id\"\"\")\n",
    "    return cursor.fetchall()\n",
    "\n",
    "prettyWarehouse(c)"
   ]
  },
  {
   "cell_type": "markdown",
   "metadata": {},
   "source": [
    "Посчитаем количество ингредиентов на складе:"
   ]
  },
  {
   "cell_type": "code",
   "execution_count": 14,
   "metadata": {},
   "outputs": [
    {
     "data": {
      "text/plain": [
       "[('Масло растительное', 150),\n",
       " ('Молоко', 120),\n",
       " ('Мука', 126),\n",
       " ('Разрыхлитель', 404),\n",
       " ('Сахар', 351),\n",
       " ('Соль', 54),\n",
       " ('Яйцо', 226)]"
      ]
     },
     "execution_count": 14,
     "metadata": {},
     "output_type": "execute_result"
    }
   ],
   "source": [
    "def ingredientsOnWarehouse(cursor):\n",
    "    cursor.execute(\"\"\"SELECT name, SUM(count) FROM warehouse \n",
    "          JOIN ingredients WHERE warehouse.ingredient_id = ingredients.id\n",
    "          GROUP BY name\"\"\")\n",
    "    return cursor.fetchall()\n",
    "\n",
    "ingredientsOnWarehouse(c)"
   ]
  },
  {
   "cell_type": "markdown",
   "metadata": {},
   "source": [
    "Создадим функцию для поставки ингредиентов:"
   ]
  },
  {
   "cell_type": "code",
   "execution_count": 15,
   "metadata": {},
   "outputs": [
    {
     "name": "stdout",
     "output_type": "stream",
     "text": [
      "[(3,)]\n"
     ]
    },
    {
     "data": {
      "text/plain": [
       "3"
      ]
     },
     "execution_count": 15,
     "metadata": {},
     "output_type": "execute_result"
    }
   ],
   "source": [
    "c.execute(\"SELECT id FROM ingredients WHERE name=?\", ('Мука',))\n",
    "results = c.fetchall()\n",
    "print(results)\n",
    "ingredient_id = results[0][0]\n",
    "ingredient_id"
   ]
  },
  {
   "cell_type": "code",
   "execution_count": 16,
   "metadata": {},
   "outputs": [
    {
     "name": "stdout",
     "output_type": "stream",
     "text": [
      "[]\n",
      "0\n"
     ]
    }
   ],
   "source": [
    "c.execute(\"SELECT id FROM ingredients WHERE name=?\", ('Авокадо',))\n",
    "results = c.fetchall()\n",
    "print(results)\n",
    "print(len(results))"
   ]
  },
  {
   "cell_type": "code",
   "execution_count": 17,
   "metadata": {},
   "outputs": [],
   "source": [
    "def getIngredientId(cursor, name):\n",
    "    cursor.execute(\"SELECT id FROM ingredients WHERE name=?\", (name, ))\n",
    "    results = cursor.fetchall()\n",
    "    if(len(results) > 0):\n",
    "        return results[0][0]\n",
    "    else:\n",
    "        cursor.execute(\"INSERT INTO ingredients (name) VALUES (?)\", (name, ))\n",
    "        return getIngredientId(cursor, name)"
   ]
  },
  {
   "cell_type": "code",
   "execution_count": 18,
   "metadata": {},
   "outputs": [],
   "source": [
    "import datetime\n",
    "def supply(cursor, ingredient_name, count, date):\n",
    "    ingredient_id = getIngredientId(cursor, ingredient_name)\n",
    "    cursor.execute(\"INSERT INTO warehouse (ingredient_id, count, date) VALUES (?, ?, ?)\", \n",
    "                       (ingredient_id, count, date.timestamp()))"
   ]
  },
  {
   "cell_type": "code",
   "execution_count": 19,
   "metadata": {},
   "outputs": [
    {
     "data": {
      "text/plain": [
       "[]"
      ]
     },
     "execution_count": 19,
     "metadata": {},
     "output_type": "execute_result"
    }
   ],
   "source": [
    "c.execute(\"DELETE FROM warehouse\");\n",
    "c.execute(\"SELECT * FROM warehouse\")\n",
    "results = c.fetchall()\n",
    "results"
   ]
  },
  {
   "cell_type": "code",
   "execution_count": 20,
   "metadata": {},
   "outputs": [
    {
     "data": {
      "text/plain": [
       "[(1, 'Молоко'),\n",
       " (2, 'Яйцо'),\n",
       " (3, 'Мука'),\n",
       " (4, 'Разрыхлитель'),\n",
       " (5, 'Масло растительное'),\n",
       " (6, 'Сахар'),\n",
       " (7, 'Соль')]"
      ]
     },
     "execution_count": 20,
     "metadata": {},
     "output_type": "execute_result"
    }
   ],
   "source": [
    "c.execute(\"SELECT * FROM ingredients\")\n",
    "results = c.fetchall()\n",
    "results"
   ]
  },
  {
   "cell_type": "code",
   "execution_count": 21,
   "metadata": {},
   "outputs": [],
   "source": [
    "supply(c, 'Мука', 10, datetime.datetime.now())\n",
    "supply(c, 'Авокадо', 10, datetime.datetime.now())"
   ]
  },
  {
   "cell_type": "code",
   "execution_count": 22,
   "metadata": {},
   "outputs": [
    {
     "data": {
      "text/plain": [
       "[('Мука', 10, 1588688351.069826), ('Авокадо', 10, 1588688351.071124)]"
      ]
     },
     "execution_count": 22,
     "metadata": {},
     "output_type": "execute_result"
    }
   ],
   "source": [
    "prettyWarehouse(c)"
   ]
  },
  {
   "cell_type": "code",
   "execution_count": 23,
   "metadata": {},
   "outputs": [
    {
     "data": {
      "text/plain": [
       "[(1, 'Молоко'),\n",
       " (2, 'Яйцо'),\n",
       " (3, 'Мука'),\n",
       " (4, 'Разрыхлитель'),\n",
       " (5, 'Масло растительное'),\n",
       " (6, 'Сахар'),\n",
       " (7, 'Соль'),\n",
       " (8, 'Авокадо')]"
      ]
     },
     "execution_count": 23,
     "metadata": {},
     "output_type": "execute_result"
    }
   ],
   "source": [
    "c.execute(\"SELECT * FROM ingredients\")\n",
    "results = c.fetchall()\n",
    "results"
   ]
  },
  {
   "cell_type": "code",
   "execution_count": 34,
   "metadata": {},
   "outputs": [],
   "source": [
    "# We can also close the connection if we are done with it.\n",
    "# Just be sure any changes have been committed or they will be lost.\n",
    "conn.close()"
   ]
  },
  {
   "cell_type": "code",
   "execution_count": null,
   "metadata": {},
   "outputs": [],
   "source": []
  },
  {
   "cell_type": "markdown",
   "metadata": {},
   "source": [
    "### SQLAlchemy"
   ]
  },
  {
   "cell_type": "code",
   "execution_count": 24,
   "metadata": {},
   "outputs": [],
   "source": [
    "# https://docs.sqlalchemy.org/en/13/dialects/sqlite.html"
   ]
  },
  {
   "cell_type": "code",
   "execution_count": null,
   "metadata": {},
   "outputs": [],
   "source": []
  }
 ],
 "metadata": {
  "kernelspec": {
   "display_name": "Python 3",
   "language": "python",
   "name": "python3"
  },
  "language_info": {
   "codemirror_mode": {
    "name": "ipython",
    "version": 3
   },
   "file_extension": ".py",
   "mimetype": "text/x-python",
   "name": "python",
   "nbconvert_exporter": "python",
   "pygments_lexer": "ipython3",
   "version": "3.7.3"
  }
 },
 "nbformat": 4,
 "nbformat_minor": 4
}
