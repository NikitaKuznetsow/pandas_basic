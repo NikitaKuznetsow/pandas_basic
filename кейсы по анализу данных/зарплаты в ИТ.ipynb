{
 "cells": [
  {
   "cell_type": "markdown",
   "metadata": {},
   "source": [
    "<a href=\"https://colab.research.google.com/github/dm-fedorov/pandas_basic/blob/master/%D0%BA%D0%B5%D0%B9%D1%81%D1%8B%20%D0%BF%D0%BE%20%D0%B0%D0%BD%D0%B0%D0%BB%D0%B8%D0%B7%D1%83%20%D0%B4%D0%B0%D0%BD%D0%BD%D1%8B%D1%85/%D0%B7%D0%B0%D1%80%D0%BF%D0%BB%D0%B0%D1%82%D1%8B%20%D0%B2%20%D0%98%D0%A2.ipynb\" target=\"_blank\"><img align=\"left\" src=\"https://colab.research.google.com/assets/colab-badge.svg\" alt=\"Open in Colab\" title=\"Open and Execute in Google Colaboratory\"></a>"
   ]
  },
  {
   "cell_type": "code",
   "execution_count": 7,
   "metadata": {},
   "outputs": [
    {
     "data": {
      "text/html": [
       "<div>\n",
       "<style scoped>\n",
       "    .dataframe tbody tr th:only-of-type {\n",
       "        vertical-align: middle;\n",
       "    }\n",
       "\n",
       "    .dataframe tbody tr th {\n",
       "        vertical-align: top;\n",
       "    }\n",
       "\n",
       "    .dataframe thead th {\n",
       "        text-align: right;\n",
       "    }\n",
       "</style>\n",
       "<table border=\"1\" class=\"dataframe\">\n",
       "  <thead>\n",
       "    <tr style=\"text-align: right;\">\n",
       "      <th></th>\n",
       "      <th>id</th>\n",
       "      <th>Дата рождения</th>\n",
       "      <th>Вакансия</th>\n",
       "      <th>Технология</th>\n",
       "      <th>Локация</th>\n",
       "      <th>З/п в валюте найма</th>\n",
       "    </tr>\n",
       "  </thead>\n",
       "  <tbody>\n",
       "    <tr>\n",
       "      <th>0</th>\n",
       "      <td>1</td>\n",
       "      <td>18.04.1994</td>\n",
       "      <td>Инженер-программист 2 категории</td>\n",
       "      <td>JS</td>\n",
       "      <td>Санкт-Петербург</td>\n",
       "      <td>140 000,00 ₽</td>\n",
       "    </tr>\n",
       "    <tr>\n",
       "      <th>1</th>\n",
       "      <td>2</td>\n",
       "      <td>27.03.1993</td>\n",
       "      <td>Разработчик информационных систем</td>\n",
       "      <td>.NET</td>\n",
       "      <td>Москва</td>\n",
       "      <td>130 000,00 ₽</td>\n",
       "    </tr>\n",
       "    <tr>\n",
       "      <th>2</th>\n",
       "      <td>3</td>\n",
       "      <td>24.11.1983</td>\n",
       "      <td>Java Developer</td>\n",
       "      <td>Java</td>\n",
       "      <td>Санкт-Петербург</td>\n",
       "      <td>200 000,00 ₽</td>\n",
       "    </tr>\n",
       "    <tr>\n",
       "      <th>3</th>\n",
       "      <td>4</td>\n",
       "      <td>09.06.1989</td>\n",
       "      <td>Архитектор ПО</td>\n",
       "      <td>Java</td>\n",
       "      <td>Москва</td>\n",
       "      <td>250 000,00 ₽</td>\n",
       "    </tr>\n",
       "    <tr>\n",
       "      <th>4</th>\n",
       "      <td>5</td>\n",
       "      <td>03.10.1978</td>\n",
       "      <td>QA Automation Engineer</td>\n",
       "      <td>QA</td>\n",
       "      <td>Санкт-Петербург</td>\n",
       "      <td>172 413,00 ₽</td>\n",
       "    </tr>\n",
       "    <tr>\n",
       "      <th>5</th>\n",
       "      <td>6</td>\n",
       "      <td>21.08.1973</td>\n",
       "      <td>Big Data Developer</td>\n",
       "      <td>Big Data</td>\n",
       "      <td>Санкт-Петербург</td>\n",
       "      <td>280 000,00 ₽</td>\n",
       "    </tr>\n",
       "    <tr>\n",
       "      <th>6</th>\n",
       "      <td>7</td>\n",
       "      <td>10.10.1991</td>\n",
       "      <td>JS Developer</td>\n",
       "      <td>JS</td>\n",
       "      <td>Москва</td>\n",
       "      <td>129 000,00 ₽</td>\n",
       "    </tr>\n",
       "    <tr>\n",
       "      <th>7</th>\n",
       "      <td>8</td>\n",
       "      <td>16.08.1982</td>\n",
       "      <td>Разработчик мобильных приложений</td>\n",
       "      <td>Android</td>\n",
       "      <td>Москва</td>\n",
       "      <td>185 000,00 ₽</td>\n",
       "    </tr>\n",
       "    <tr>\n",
       "      <th>8</th>\n",
       "      <td>9</td>\n",
       "      <td>16.05.1988</td>\n",
       "      <td>Инженер-программист 2 категории</td>\n",
       "      <td>.NET</td>\n",
       "      <td>Санкт-Петербург</td>\n",
       "      <td>160 000,00 ₽</td>\n",
       "    </tr>\n",
       "    <tr>\n",
       "      <th>9</th>\n",
       "      <td>10</td>\n",
       "      <td>01.12.1990</td>\n",
       "      <td>Java Engineer</td>\n",
       "      <td>Java</td>\n",
       "      <td>Краков; Польша</td>\n",
       "      <td>9 500,00 zł</td>\n",
       "    </tr>\n",
       "  </tbody>\n",
       "</table>\n",
       "</div>"
      ],
      "text/plain": [
       "   id Дата рождения                           Вакансия Технология  \\\n",
       "0   1    18.04.1994    Инженер-программист 2 категории         JS   \n",
       "1   2    27.03.1993  Разработчик информационных систем       .NET   \n",
       "2   3    24.11.1983                     Java Developer       Java   \n",
       "3   4    09.06.1989                      Архитектор ПО       Java   \n",
       "4   5    03.10.1978             QA Automation Engineer         QA   \n",
       "5   6    21.08.1973                 Big Data Developer   Big Data   \n",
       "6   7    10.10.1991                       JS Developer         JS   \n",
       "7   8    16.08.1982   Разработчик мобильных приложений    Android   \n",
       "8   9    16.05.1988    Инженер-программист 2 категории       .NET   \n",
       "9  10    01.12.1990                      Java Engineer       Java   \n",
       "\n",
       "           Локация З/п в валюте найма  \n",
       "0  Санкт-Петербург       140 000,00 ₽  \n",
       "1           Москва       130 000,00 ₽  \n",
       "2  Санкт-Петербург       200 000,00 ₽  \n",
       "3           Москва       250 000,00 ₽  \n",
       "4  Санкт-Петербург       172 413,00 ₽  \n",
       "5  Санкт-Петербург       280 000,00 ₽  \n",
       "6           Москва       129 000,00 ₽  \n",
       "7           Москва       185 000,00 ₽  \n",
       "8  Санкт-Петербург       160 000,00 ₽  \n",
       "9   Краков; Польша        9 500,00 zł  "
      ]
     },
     "execution_count": 7,
     "metadata": {},
     "output_type": "execute_result"
    }
   ],
   "source": [
    "import pandas as pd\n",
    "\n",
    "df = pd.read_csv('https://raw.githubusercontent.com/dm-fedorov/pandas_basic/master/data/it.csv')\n",
    "df.head(10)"
   ]
  },
  {
   "cell_type": "code",
   "execution_count": null,
   "metadata": {},
   "outputs": [],
   "source": []
  },
  {
   "cell_type": "markdown",
   "metadata": {},
   "source": [
    "### Определите среднюю з.п."
   ]
  },
  {
   "cell_type": "code",
   "execution_count": null,
   "metadata": {},
   "outputs": [],
   "source": []
  },
  {
   "cell_type": "markdown",
   "metadata": {},
   "source": [
    "### Определите технологию с максимальной з.п."
   ]
  },
  {
   "cell_type": "code",
   "execution_count": null,
   "metadata": {},
   "outputs": [],
   "source": []
  },
  {
   "cell_type": "markdown",
   "metadata": {},
   "source": [
    "### Определите возраст программистов с максимальной з.п."
   ]
  },
  {
   "cell_type": "code",
   "execution_count": null,
   "metadata": {},
   "outputs": [],
   "source": []
  },
  {
   "cell_type": "markdown",
   "metadata": {},
   "source": [
    "### Определите зарплаты работников, у которых в названии вакансии встречается слово Engineer"
   ]
  },
  {
   "cell_type": "code",
   "execution_count": null,
   "metadata": {},
   "outputs": [],
   "source": []
  }
 ],
 "metadata": {
  "kernelspec": {
   "display_name": "Python 3",
   "language": "python",
   "name": "python3"
  },
  "language_info": {
   "codemirror_mode": {
    "name": "ipython",
    "version": 3
   },
   "file_extension": ".py",
   "mimetype": "text/x-python",
   "name": "python",
   "nbconvert_exporter": "python",
   "pygments_lexer": "ipython3",
   "version": "3.7.3"
  }
 },
 "nbformat": 4,
 "nbformat_minor": 4
}
