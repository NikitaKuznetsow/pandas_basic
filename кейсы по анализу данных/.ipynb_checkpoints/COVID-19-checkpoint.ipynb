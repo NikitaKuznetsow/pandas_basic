{
 "cells": [
  {
   "cell_type": "markdown",
   "metadata": {},
   "source": [
    "<a href=\"https://colab.research.google.com/github/dm-fedorov/pandas_basic/blob/master/%D0%BA%D0%B5%D0%B9%D1%81%D1%8B%20%D0%BF%D0%BE%20%D0%B0%D0%BD%D0%B0%D0%BB%D0%B8%D0%B7%D1%83%20%D0%B4%D0%B0%D0%BD%D0%BD%D1%8B%D1%85/COVID-19.ipynb\"><img align=\"left\" src=\"https://colab.research.google.com/assets/colab-badge.svg\" alt=\"Open in Colab\" title=\"Open and Execute in Google Colaboratory\" target=\"_blank\"></a>"
   ]
  },
  {
   "cell_type": "markdown",
   "metadata": {},
   "source": [
    "### Где найти базы данных о коронавирусе COVID-19?\n",
    "\n",
    "Учёными и исследователями собираются многочисленные базы данных о коронавирусе, его генетической структуре, ходе распространения и научных исследованиях о нём. Значительные объёмы этих данных общедоступны.\n",
    "\n",
    "Подробности по [ссылке](https://covid19faq.ru/l/ru/article/f3sw02fiup-data)\n",
    "\n",
    "### Почему так сложно сделать хорошую математическую модель COVID-19?\n",
    "\n",
    "В это сложное время пандемии нам всем нужны ответы. Тысячи ученых, исследовательских центров и активистов по всему миру собирают данные и проводят исследования по теме «коронавирус» (COVID-19). Кажется, что уже должны существовать точные ответы. Эти ответы основаны на данных, но проблема в том, что данные повсюду и часто один источник противоречит другому.\n",
    "\n",
    "Подробности по [ссылке](https://covid19faq.ru/l/ru/article/dwmsq2i0ef-good-mathematical-model-covid-19)\n",
    "\n",
    "**Почему так сложно построить хороший прогноз по COVID-19? Как понять, сколько продлится карантин?** [Подробнее](https://vc.ru/flood/117032-pochemu-tak-slozhno-postroit-horoshiy-prognoz-po-covid-19-kak-ponyat-skolko-prodlitsya-karantin)\n",
    "\n",
    "### Где ведутся и публикуются исследования COVID-19?\n",
    "\n",
    "Исследования о COVID-19 ведутся в сотнях научных и исследовательских учреждений по всему миру. Здесь собраны ссылки на общедоступные исследования, базы научных публикаций и сообществ учёных.\n",
    "\n",
    "Подробности по [ссылке](https://covid19faq.ru/l/ru/article/5pqxj6az02-research)\n",
    "\n",
    "### Граф знаний COVID-19 \n",
    "\n",
    "Мы создаем граф знаний по COVID-19, который объединяет различные общедоступные наборы данных. Он включает в себя соответствующие публикации, статистику случаев, гены и функции, молекулярные данные и многое другое.\n",
    "\n",
    "Подробности по [ссылке](https://covidgraph.org)\n"
   ]
  },
  {
   "cell_type": "code",
   "execution_count": null,
   "metadata": {},
   "outputs": [],
   "source": [
    "import pandas as pd\n",
    "\n",
    "#Источник данных: https://github.com/datasets/covid-19\n",
    "\n",
    "url = \"https://raw.githubusercontent.com/datasets/covid-19/master/data/time-series-19-covid-combined.csv\"\n",
    "df = pd.read_csv(url, \n",
    "                 parse_dates=['Date'], \n",
    "                 index_col='Date', \n",
    "                 usecols=['Date','Country/Region', 'Confirmed', 'Recovered', 'Deaths'])\n",
    "df"
   ]
  },
  {
   "cell_type": "code",
   "execution_count": null,
   "metadata": {},
   "outputs": [],
   "source": [
    "df['Country/Region'].unique()"
   ]
  },
  {
   "cell_type": "code",
   "execution_count": null,
   "metadata": {},
   "outputs": [],
   "source": [
    "df.plot();"
   ]
  },
  {
   "cell_type": "code",
   "execution_count": null,
   "metadata": {},
   "outputs": [],
   "source": [
    "rus = df[df['Country/Region']=='Russia']\n",
    "rus"
   ]
  },
  {
   "cell_type": "code",
   "execution_count": null,
   "metadata": {},
   "outputs": [],
   "source": [
    "rus"
   ]
  },
  {
   "cell_type": "code",
   "execution_count": null,
   "metadata": {},
   "outputs": [],
   "source": [
    "rus.describe()"
   ]
  },
  {
   "cell_type": "code",
   "execution_count": null,
   "metadata": {},
   "outputs": [],
   "source": [
    "rus.plot()"
   ]
  },
  {
   "cell_type": "code",
   "execution_count": null,
   "metadata": {},
   "outputs": [],
   "source": [
    "it = df[df['Country/Region']=='Italy']\n",
    "it"
   ]
  },
  {
   "cell_type": "code",
   "execution_count": null,
   "metadata": {},
   "outputs": [],
   "source": [
    "it.plot()"
   ]
  },
  {
   "cell_type": "code",
   "execution_count": null,
   "metadata": {},
   "outputs": [],
   "source": [
    "it[it.Deaths>=1]"
   ]
  },
  {
   "cell_type": "markdown",
   "metadata": {},
   "source": [
    "[Когда пандемия пойдёт на спад? Оцениваем на Python с помощью Pandas](https://habr.com/ru/post/495752/)"
   ]
  },
  {
   "cell_type": "markdown",
   "metadata": {},
   "source": [
    "### Отчеты о тенденциях мобильности от Apple\n",
    "\n",
    "Узнайте о [тенденциях мобильности COVID⁠-⁠19](https://www.apple.com/covid19/mobility) в странах / регионах и городах. Отчеты публикуются ежедневно и отражают запросы на направления в Apple Maps. "
   ]
  },
  {
   "cell_type": "markdown",
   "metadata": {},
   "source": [
    "Данные, которые отправляются с пользовательских устройств в службу «Карты», связаны со случайными вращающимися идентификаторами, поэтому у Apple нет профиля ваших перемещений и поисков. Apple Maps не имеет демографической информации о наших пользователях, поэтому мы не можем делать никаких заявлений о репрезентативности нашего использования по отношению к населению в целом."
   ]
  },
  {
   "cell_type": "code",
   "execution_count": null,
   "metadata": {},
   "outputs": [],
   "source": [
    "url = \"https://covid19-static.cdn-apple.com/covid19-mobility-data/2008HotfixDev26/v2/en-us/applemobilitytrends-2020-05-13.csv\""
   ]
  },
  {
   "cell_type": "code",
   "execution_count": null,
   "metadata": {},
   "outputs": [],
   "source": [
    "import pandas as pd\n",
    "\n",
    "df = pd.read_csv(url)\n",
    "df"
   ]
  },
  {
   "cell_type": "code",
   "execution_count": null,
   "metadata": {},
   "outputs": [],
   "source": [
    "df.region.unique()"
   ]
  },
  {
   "cell_type": "code",
   "execution_count": null,
   "metadata": {},
   "outputs": [],
   "source": [
    "df_rus = df[df.region == 'Russia']\n",
    "df_rus"
   ]
  },
  {
   "cell_type": "code",
   "execution_count": null,
   "metadata": {},
   "outputs": [],
   "source": [
    "df_rus = df_rus.T\n",
    "df_rus"
   ]
  },
  {
   "cell_type": "code",
   "execution_count": null,
   "metadata": {},
   "outputs": [],
   "source": [
    "df_rus = df_rus.drop([\"geo_type\", \"region\", \"transportation_type\"])\n",
    "df_rus"
   ]
  },
  {
   "cell_type": "code",
   "execution_count": null,
   "metadata": {},
   "outputs": [],
   "source": [
    "df_rus = df_rus.rename(columns={107: \"driving\", 108: \"walking\"})\n",
    "df_rus"
   ]
  },
  {
   "cell_type": "code",
   "execution_count": null,
   "metadata": {},
   "outputs": [],
   "source": [
    "df_rus.index = pd.to_datetime(df_rus.index)\n",
    "df_rus"
   ]
  },
  {
   "cell_type": "code",
   "execution_count": null,
   "metadata": {},
   "outputs": [],
   "source": [
    "df_rus.plot();"
   ]
  },
  {
   "cell_type": "code",
   "execution_count": null,
   "metadata": {},
   "outputs": [],
   "source": []
  }
 ],
 "metadata": {
  "kernelspec": {
   "display_name": "Python 3",
   "language": "python",
   "name": "python3"
  },
  "language_info": {
   "codemirror_mode": {
    "name": "ipython",
    "version": 3
   },
   "file_extension": ".py",
   "mimetype": "text/x-python",
   "name": "python",
   "nbconvert_exporter": "python",
   "pygments_lexer": "ipython3",
   "version": "3.7.3"
  }
 },
 "nbformat": 4,
 "nbformat_minor": 4
}
