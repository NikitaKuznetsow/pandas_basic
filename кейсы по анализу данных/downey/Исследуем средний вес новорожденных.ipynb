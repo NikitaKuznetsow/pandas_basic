{
 "cells": [
  {
   "cell_type": "markdown",
   "metadata": {},
   "source": [
    "# Разбираем проект по анализу данных: исследуем средний вес новорожденных"
   ]
  },
  {
   "cell_type": "markdown",
   "metadata": {},
   "source": [
    "<a href=\"https://colab.research.google.com/github/dm-fedorov/pandas_basic/blob/master/%D0%B1%D1%8B%D1%81%D1%82%D1%80%D0%BE%D0%B5%20%D0%B2%D0%B2%D0%B5%D0%B4%D0%B5%D0%BD%D0%B8%D0%B5%20%D0%B2%20pandas/01.%20%D0%9A%D0%B0%D0%BA%D0%B8%D0%B5%20%D0%B4%D0%B0%D0%BD%D0%BD%D1%8B%D0%B5%20%D0%BE%D0%B1%D1%80%D0%B0%D0%B1%D0%B0%D1%82%D1%8B%D0%B2%D0%B0%D0%B5%D1%82%20pandas%3F.ipynb\"><img align=\"left\" src=\"https://colab.research.google.com/assets/colab-badge.svg\" alt=\"Open in Colab\" title=\"Open and Execute in Google Colaboratory\" target=\"_blank\"></a>"
   ]
  },
  {
   "cell_type": "markdown",
   "metadata": {
    "tags": []
   },
   "source": [
    "*Copyright* [Allen B. Downey](https://allendowney.com)\n",
    "\n",
    "*License:* [Creative Commons Attribution-NonCommercial-ShareAlike 4.0 International](https://creativecommons.org/licenses/by-nc-sa/4.0/)"
   ]
  },
  {
   "cell_type": "markdown",
   "metadata": {},
   "source": [
    "<a href=\"https://t.me/init_python\"><img src=\"https://dfedorov.spb.ru/pandas/logo-telegram.png\" width=\"35\" height=\"35\" alt=\"telegram\" align=\"left\"></a>"
   ]
  },
  {
   "cell_type": "markdown",
   "metadata": {},
   "source": [
    "Этот пример демонстрирует важные шаги практически в любом проекте по анализу данных:\n",
    "\n",
    "1. Определение данных, которые помогут ответить на вопрос.\n",
    "\n",
    "2. Получение данных и их загрузка в Python.\n",
    "\n",
    "3. Проверка данных и устранение ошибок.\n",
    "\n",
    "4. Выбор соответствующих подмножеств из данных.\n",
    "\n",
    "5. Использование гистограмм для визуализации распределения значений.\n",
    "\n",
    "6. Использование сводной статистики для описания данных таким образом, чтобы наилучшим образом ответить на вопрос.\n",
    "\n",
    "7. Рассмотрение возможных источников ошибок и ограничений в наших выводах.\n",
    "\n",
    "Начнем с получения данных."
   ]
  },
  {
   "cell_type": "markdown",
   "metadata": {},
   "source": [
    "## Чтение данных\n",
    "\n",
    "Мы будем использовать данные [Национального исследования роста семьи](https://www.cdc.gov/nchs/nsfg/index.htm) (*NSFG*).\n",
    "\n",
    "> Это обследование, проведенное отделом Статистики здравоохранения Центра по контролю и профилактике заболеваний, чтобы понять тенденции, связанные с фертильностью, структурой семьи и демографией в Соединенных Штатах.\n",
    "\n",
    "Чтобы загрузить данные, вы должны принять [Пользовательское соглашение](https://www.cdc.gov/nchs/data_access/ftp_dua.htm).\n",
    "Вам следует внимательно прочитать эти условия, но позвольте обратить ваше внимание на то, что я считаю наиболее важным:\n",
    "\n",
    "> Не пытайтесь узнать личность какого-либо лица или учреждения, включенного в эти данные.\n",
    "\n",
    "Респонденты *NSFG* дают честные ответы на вопросы самого личного характера, ожидая, что их личности не будут раскрыты.\n",
    "Как специалисты по этическим данным, мы должны уважать их конфиденциальность и соблюдать условия использования."
   ]
  },
  {
   "cell_type": "markdown",
   "metadata": {},
   "source": [
    "Респонденты *NSFG* предоставляют общую информацию о себе, которая хранится в *файле респондентов*, и информацию о каждой беременности, которая хранится в *файле о беременности*.\n",
    "\n",
    "Мы будем работать с файлом беременности, который содержит по одной строке для каждой беременности и `248` переменных.\n",
    "Каждая переменная представляет собой ответы на вопрос анкеты *NSFG*."
   ]
  },
  {
   "cell_type": "markdown",
   "metadata": {},
   "source": [
    "Данные хранятся в [формате фиксированной ширины](https://www.ibm.com/docs/en/baw/19.x?topic=formats-fixed-width-format) (*fixed-width format*), это означает, что каждая строка имеет одинаковую длину и каждая переменная охватывает фиксированный диапазон столбцов.\n",
    "\n",
    "В дополнение к файлу данных (`2015_2017_FemPregData.dat`) нам также понадобится словарь данных (`2015_2017_FemPregSetup.dct`), который включает имена переменных и указывает диапазон столбцов, в которых появляется каждая переменная."
   ]
  },
  {
   "cell_type": "code",
   "execution_count": 1,
   "metadata": {},
   "outputs": [],
   "source": [
    "dict_file = '2015_2017_FemPregSetup.dct'\n",
    "data_file = '2015_2017_FemPregData.dat'"
   ]
  },
  {
   "cell_type": "markdown",
   "metadata": {
    "tags": []
   },
   "source": [
    "После того, как вы согласились с условиями, вы можете использовать следующие ячейки для загрузки данных:"
   ]
  },
  {
   "cell_type": "code",
   "execution_count": 2,
   "metadata": {
    "tags": []
   },
   "outputs": [],
   "source": [
    "from os.path import basename, exists\n",
    "\n",
    "def download(url):\n",
    "    filename = basename(url)\n",
    "    if not exists(filename):\n",
    "        from urllib.request import urlretrieve\n",
    "        local, _ = urlretrieve(url, filename)\n",
    "        print('Downloaded ' + local)"
   ]
  },
  {
   "cell_type": "code",
   "execution_count": 3,
   "metadata": {
    "tags": []
   },
   "outputs": [],
   "source": [
    "download('https://ftp.cdc.gov/pub/health_statistics/nchs/' +\n",
    "         'datasets/NSFG/stata/' + dict_file)"
   ]
  },
  {
   "cell_type": "code",
   "execution_count": 4,
   "metadata": {
    "tags": []
   },
   "outputs": [],
   "source": [
    "download('https://ftp.cdc.gov/pub/health_statistics/nchs/' +\n",
    "         'datasets/NSFG/' + data_file)"
   ]
  },
  {
   "cell_type": "markdown",
   "metadata": {},
   "source": [
    "Pandas может читать данные в наиболее распространенных форматах, включая *CSV*, *Excel* и *формате фиксированной ширины*, но не может читать словарь данных, который находится в формате *Stata*.\n",
    "\n",
    "Для этого мы будем использовать библиотеку Python под названием [`parse_stata_dict`](https://github.com/atudomain/statadict)."
   ]
  },
  {
   "cell_type": "markdown",
   "metadata": {
    "tags": []
   },
   "source": [
    "Следующая ячейка при необходимости устанавливает `parse_stata_dict`."
   ]
  },
  {
   "cell_type": "code",
   "execution_count": 5,
   "metadata": {
    "tags": []
   },
   "outputs": [],
   "source": [
    "try:\n",
    "    from statadict import parse_stata_dict\n",
    "except ImportError:\n",
    "    !pip install statadict"
   ]
  },
  {
   "cell_type": "markdown",
   "metadata": {},
   "source": [
    "Из `parse_stata_dict` мы импортируем функцию `parse_stata_dict`, которая читает словарь данных."
   ]
  },
  {
   "cell_type": "code",
   "execution_count": 6,
   "metadata": {},
   "outputs": [
    {
     "data": {
      "text/plain": [
       "<statadict.base.StataDict at 0x7fede2455c70>"
      ]
     },
     "execution_count": 6,
     "metadata": {},
     "output_type": "execute_result"
    }
   ],
   "source": [
    "from statadict import parse_stata_dict\n",
    "\n",
    "stata_dict = parse_stata_dict(dict_file)\n",
    "stata_dict"
   ]
  },
  {
   "cell_type": "markdown",
   "metadata": {},
   "source": [
    "В результате получается объект, содержащий атрибуты\n",
    "\n",
    "* `names`, который представляет собой список имен переменных, и\n",
    "\n",
    "* `colspecs`, который представляет собой список кортежей.\n",
    "\n",
    "Каждый кортеж в `colspecs` определяет первый и последний столбцы, в которых появляется переменная.\n",
    "\n",
    "Эти значения - именно те аргументы, которые нам нужны для использования [`read_fwf`](https://pandas.pydata.org/docs/reference/api/pandas.read_fwf.html), функции Pandas, считывающей файл в *формате фиксированной ширины*."
   ]
  },
  {
   "cell_type": "code",
   "execution_count": 7,
   "metadata": {},
   "outputs": [
    {
     "data": {
      "text/plain": [
       "pandas.core.frame.DataFrame"
      ]
     },
     "execution_count": 7,
     "metadata": {},
     "output_type": "execute_result"
    }
   ],
   "source": [
    "import pandas as pd\n",
    "\n",
    "nsfg = pd.read_fwf(data_file, \n",
    "                   names=stata_dict.names, \n",
    "                   colspecs=stata_dict.colspecs)\n",
    "type(nsfg)"
   ]
  },
  {
   "cell_type": "markdown",
   "metadata": {},
   "source": [
    "Результатом вызова `read_hdf()` стал `DataFrame`, который является основным типом Pandas для хранения данных.\n",
    "\n",
    "В `DataFrame` есть метод `head()`, который показывает первые `5` строк:"
   ]
  },
  {
   "cell_type": "code",
   "execution_count": 8,
   "metadata": {},
   "outputs": [
    {
     "data": {
      "text/html": [
       "<div>\n",
       "<style scoped>\n",
       "    .dataframe tbody tr th:only-of-type {\n",
       "        vertical-align: middle;\n",
       "    }\n",
       "\n",
       "    .dataframe tbody tr th {\n",
       "        vertical-align: top;\n",
       "    }\n",
       "\n",
       "    .dataframe thead th {\n",
       "        text-align: right;\n",
       "    }\n",
       "</style>\n",
       "<table border=\"1\" class=\"dataframe\">\n",
       "  <thead>\n",
       "    <tr style=\"text-align: right;\">\n",
       "      <th></th>\n",
       "      <th>CASEID</th>\n",
       "      <th>PREGORDR</th>\n",
       "      <th>HOWPREG_N</th>\n",
       "      <th>HOWPREG_P</th>\n",
       "      <th>MOSCURRP</th>\n",
       "      <th>NOWPRGDK</th>\n",
       "      <th>PREGEND1</th>\n",
       "      <th>PREGEND2</th>\n",
       "      <th>HOWENDDK</th>\n",
       "      <th>NBRNALIV</th>\n",
       "      <th>...</th>\n",
       "      <th>SECU</th>\n",
       "      <th>SEST</th>\n",
       "      <th>CMINTVW</th>\n",
       "      <th>CMLSTYR</th>\n",
       "      <th>CMJAN3YR</th>\n",
       "      <th>CMJAN4YR</th>\n",
       "      <th>CMJAN5YR</th>\n",
       "      <th>QUARTER</th>\n",
       "      <th>PHASE</th>\n",
       "      <th>INTVWYEAR</th>\n",
       "    </tr>\n",
       "  </thead>\n",
       "  <tbody>\n",
       "    <tr>\n",
       "      <th>0</th>\n",
       "      <td>70627</td>\n",
       "      <td>1</td>\n",
       "      <td>NaN</td>\n",
       "      <td>NaN</td>\n",
       "      <td>NaN</td>\n",
       "      <td>NaN</td>\n",
       "      <td>6.0</td>\n",
       "      <td>NaN</td>\n",
       "      <td>NaN</td>\n",
       "      <td>1.0</td>\n",
       "      <td>...</td>\n",
       "      <td>3</td>\n",
       "      <td>322</td>\n",
       "      <td>1394</td>\n",
       "      <td>1382</td>\n",
       "      <td>1357</td>\n",
       "      <td>1345</td>\n",
       "      <td>1333</td>\n",
       "      <td>18</td>\n",
       "      <td>1</td>\n",
       "      <td>2016</td>\n",
       "    </tr>\n",
       "    <tr>\n",
       "      <th>1</th>\n",
       "      <td>70627</td>\n",
       "      <td>2</td>\n",
       "      <td>NaN</td>\n",
       "      <td>NaN</td>\n",
       "      <td>NaN</td>\n",
       "      <td>NaN</td>\n",
       "      <td>1.0</td>\n",
       "      <td>NaN</td>\n",
       "      <td>NaN</td>\n",
       "      <td>NaN</td>\n",
       "      <td>...</td>\n",
       "      <td>3</td>\n",
       "      <td>322</td>\n",
       "      <td>1394</td>\n",
       "      <td>1382</td>\n",
       "      <td>1357</td>\n",
       "      <td>1345</td>\n",
       "      <td>1333</td>\n",
       "      <td>18</td>\n",
       "      <td>1</td>\n",
       "      <td>2016</td>\n",
       "    </tr>\n",
       "    <tr>\n",
       "      <th>2</th>\n",
       "      <td>70627</td>\n",
       "      <td>3</td>\n",
       "      <td>NaN</td>\n",
       "      <td>NaN</td>\n",
       "      <td>NaN</td>\n",
       "      <td>NaN</td>\n",
       "      <td>6.0</td>\n",
       "      <td>NaN</td>\n",
       "      <td>NaN</td>\n",
       "      <td>1.0</td>\n",
       "      <td>...</td>\n",
       "      <td>3</td>\n",
       "      <td>322</td>\n",
       "      <td>1394</td>\n",
       "      <td>1382</td>\n",
       "      <td>1357</td>\n",
       "      <td>1345</td>\n",
       "      <td>1333</td>\n",
       "      <td>18</td>\n",
       "      <td>1</td>\n",
       "      <td>2016</td>\n",
       "    </tr>\n",
       "    <tr>\n",
       "      <th>3</th>\n",
       "      <td>70628</td>\n",
       "      <td>1</td>\n",
       "      <td>NaN</td>\n",
       "      <td>NaN</td>\n",
       "      <td>NaN</td>\n",
       "      <td>NaN</td>\n",
       "      <td>6.0</td>\n",
       "      <td>NaN</td>\n",
       "      <td>NaN</td>\n",
       "      <td>1.0</td>\n",
       "      <td>...</td>\n",
       "      <td>2</td>\n",
       "      <td>366</td>\n",
       "      <td>1409</td>\n",
       "      <td>1397</td>\n",
       "      <td>1369</td>\n",
       "      <td>1357</td>\n",
       "      <td>1345</td>\n",
       "      <td>23</td>\n",
       "      <td>1</td>\n",
       "      <td>2017</td>\n",
       "    </tr>\n",
       "    <tr>\n",
       "      <th>4</th>\n",
       "      <td>70628</td>\n",
       "      <td>2</td>\n",
       "      <td>NaN</td>\n",
       "      <td>NaN</td>\n",
       "      <td>NaN</td>\n",
       "      <td>NaN</td>\n",
       "      <td>6.0</td>\n",
       "      <td>NaN</td>\n",
       "      <td>NaN</td>\n",
       "      <td>1.0</td>\n",
       "      <td>...</td>\n",
       "      <td>2</td>\n",
       "      <td>366</td>\n",
       "      <td>1409</td>\n",
       "      <td>1397</td>\n",
       "      <td>1369</td>\n",
       "      <td>1357</td>\n",
       "      <td>1345</td>\n",
       "      <td>23</td>\n",
       "      <td>1</td>\n",
       "      <td>2017</td>\n",
       "    </tr>\n",
       "  </tbody>\n",
       "</table>\n",
       "<p>5 rows × 248 columns</p>\n",
       "</div>"
      ],
      "text/plain": [
       "   CASEID  PREGORDR  HOWPREG_N  HOWPREG_P  MOSCURRP  NOWPRGDK  PREGEND1  \\\n",
       "0   70627         1        NaN        NaN       NaN       NaN       6.0   \n",
       "1   70627         2        NaN        NaN       NaN       NaN       1.0   \n",
       "2   70627         3        NaN        NaN       NaN       NaN       6.0   \n",
       "3   70628         1        NaN        NaN       NaN       NaN       6.0   \n",
       "4   70628         2        NaN        NaN       NaN       NaN       6.0   \n",
       "\n",
       "   PREGEND2  HOWENDDK  NBRNALIV  ...  SECU  SEST  CMINTVW  CMLSTYR  CMJAN3YR  \\\n",
       "0       NaN       NaN       1.0  ...     3   322     1394     1382      1357   \n",
       "1       NaN       NaN       NaN  ...     3   322     1394     1382      1357   \n",
       "2       NaN       NaN       1.0  ...     3   322     1394     1382      1357   \n",
       "3       NaN       NaN       1.0  ...     2   366     1409     1397      1369   \n",
       "4       NaN       NaN       1.0  ...     2   366     1409     1397      1369   \n",
       "\n",
       "   CMJAN4YR  CMJAN5YR  QUARTER  PHASE  INTVWYEAR  \n",
       "0      1345      1333       18      1       2016  \n",
       "1      1345      1333       18      1       2016  \n",
       "2      1345      1333       18      1       2016  \n",
       "3      1357      1345       23      1       2017  \n",
       "4      1357      1345       23      1       2017  \n",
       "\n",
       "[5 rows x 248 columns]"
      ]
     },
     "execution_count": 8,
     "metadata": {},
     "output_type": "execute_result"
    }
   ],
   "source": [
    "nsfg.head()"
   ]
  },
  {
   "cell_type": "markdown",
   "metadata": {},
   "source": [
    "Первый столбец - это `CASEID`, который представляет собой уникальный идентификатор для каждого респондента.\n",
    "\n",
    "Первые три строки содержат один и тот же `CASEID`, поэтому респондентка сообщила информацию о трех беременностях.\n",
    "\n",
    "Второй столбец - это `PREGORDR`, который указывает порядок беременностей для каждой респондентки, начиная с `1`.\n",
    "\n",
    "Мы узнаем больше о других переменных по мере исследования."
   ]
  },
  {
   "cell_type": "markdown",
   "metadata": {},
   "source": [
    "В дополнение к таким методам, как `head`, `nsfg` имеет несколько **атрибутов**, которые представляют собой переменные, связанные с определенным типом. \n",
    "\n",
    "Например, у `nsfg` есть атрибут под названием `shape`, который представляет собой количество строк и столбцов:"
   ]
  },
  {
   "cell_type": "code",
   "execution_count": 9,
   "metadata": {},
   "outputs": [
    {
     "data": {
      "text/plain": [
       "(9553, 248)"
      ]
     },
     "execution_count": 9,
     "metadata": {},
     "output_type": "execute_result"
    }
   ],
   "source": [
    "nsfg.shape"
   ]
  },
  {
   "cell_type": "markdown",
   "metadata": {},
   "source": [
    "В этом наборе данных `9553` строки, по одной для каждой беременности, и `248` столбцов, по одной для каждой переменной.\n",
    "\n",
    "`nsfg` также имеет атрибут под названием `columns`, который содержит имена столбцов:"
   ]
  },
  {
   "cell_type": "code",
   "execution_count": 10,
   "metadata": {},
   "outputs": [
    {
     "data": {
      "text/plain": [
       "Index(['CASEID', 'PREGORDR', 'HOWPREG_N', 'HOWPREG_P', 'MOSCURRP', 'NOWPRGDK',\n",
       "       'PREGEND1', 'PREGEND2', 'HOWENDDK', 'NBRNALIV',\n",
       "       ...\n",
       "       'SECU', 'SEST', 'CMINTVW', 'CMLSTYR', 'CMJAN3YR', 'CMJAN4YR',\n",
       "       'CMJAN5YR', 'QUARTER', 'PHASE', 'INTVWYEAR'],\n",
       "      dtype='object', length=248)"
      ]
     },
     "execution_count": 10,
     "metadata": {},
     "output_type": "execute_result"
    }
   ],
   "source": [
    "nsfg.columns"
   ]
  },
  {
   "cell_type": "markdown",
   "metadata": {},
   "source": [
    "Имена столбцов хранятся в `Index`, который является типом Pandas, похожим на список."
   ]
  },
  {
   "cell_type": "code",
   "execution_count": 11,
   "metadata": {
    "tags": []
   },
   "outputs": [
    {
     "data": {
      "text/plain": [
       "pandas.core.indexes.base.Index"
      ]
     },
     "execution_count": 11,
     "metadata": {},
     "output_type": "execute_result"
    }
   ],
   "source": [
    "type(nsfg.columns)"
   ]
  },
  {
   "cell_type": "markdown",
   "metadata": {},
   "source": [
    "Основываясь на именах столбцов, вы можете догадаться, что это за переменные, но в целом вам необходимо прочитать документацию."
   ]
  },
  {
   "cell_type": "markdown",
   "metadata": {},
   "source": [
    "Когда вы работаете с наборами данных, такими как *NSFG*, важно внимательно читать документацию. Если вы интерпретируете переменную неправильно, вы можете получить бессмысленные результаты и никогда этого не осознать. Итак, прежде чем мы начнем рассматривать данные, давайте познакомимся с кодовой книгой *NSFG*, которая описывает каждую переменную.\n",
    "\n",
    "До недавнего времени кодовая книга *NSFG* была доступна в интерактивном онлайн-формате.\n",
    "К сожалению, она больше не доступна, поэтому необходимо использовать [этот PDF-файл](https://github.com/AllenDowney/ElementsOfDataScience/raw/master/data/2015-2017_NSFG_FemPregFile_Codebook-508.pdf), который содержит краткое описание каждой переменной.\n",
    "\n",
    "Если вы выполните поиск в этом документе по запросу *\"weigh at birth\"*, вы должны найти эти переменные, связанные с массой тела при рождении.\n",
    "\n",
    "* `BIRTHWGT_LB1`: масса тела при рождении в фунтах (*Pounds*) - первый ребенок от этой беременности.\n",
    "\n",
    "* `BIRTHWGT_OZ1`: вес при рождении в унциях (*Ounces*) - первый ребенок от этой беременности.\n",
    "\n",
    "Подобные переменные существуют для 2-го или 3-го ребенка, в случае двойни или тройни.\n",
    "Сейчас мы сосредоточимся на первом ребенке от каждой беременности и вернемся к вопросу о многоплодных родах."
   ]
  },
  {
   "cell_type": "markdown",
   "metadata": {},
   "source": [
    "## Series\n",
    "\n",
    "Во многих отношениях `DataFrame` похож на словарь Python, где имена столбцов являются ключами, а столбцы - значениями. Вы можете выбрать столбец из `DataFrame` с помощью оператора скобок со строкой в качестве ключа."
   ]
  },
  {
   "cell_type": "code",
   "execution_count": 12,
   "metadata": {},
   "outputs": [
    {
     "data": {
      "text/plain": [
       "pandas.core.series.Series"
      ]
     },
     "execution_count": 12,
     "metadata": {},
     "output_type": "execute_result"
    }
   ],
   "source": [
    "pounds = nsfg['BIRTHWGT_LB1']\n",
    "type(pounds)"
   ]
  },
  {
   "cell_type": "markdown",
   "metadata": {},
   "source": [
    "Результатом будет `Series`, который является еще одним типом данных Pandas.\n",
    "В этом случае `Series` содержат массу тела в фунтах для каждого рожденного.\n",
    "\n",
    "`head` показывает первые пять значений в серии, имя серии и тип данных:"
   ]
  },
  {
   "cell_type": "code",
   "execution_count": 13,
   "metadata": {},
   "outputs": [
    {
     "data": {
      "text/plain": [
       "0    7.0\n",
       "1    NaN\n",
       "2    9.0\n",
       "3    6.0\n",
       "4    7.0\n",
       "Name: BIRTHWGT_LB1, dtype: float64"
      ]
     },
     "execution_count": 13,
     "metadata": {},
     "output_type": "execute_result"
    }
   ],
   "source": [
    "pounds.head()"
   ]
  },
  {
   "cell_type": "markdown",
   "metadata": {},
   "source": [
    "Одно из значений - `NaN`, что означает *\"Not a Number\"*. \n",
    "\n",
    "`NaN` - это специальное значение, используемое для обозначения недопустимых или отсутствующих данных. В этом примере беременность не закончилась рождением, поэтому вес при рождении неприменим."
   ]
  },
  {
   "cell_type": "markdown",
   "metadata": {},
   "source": [
    "**Упражнение:** Переменная `BIRTHWGT_OZ1` содержит часть веса при рождении в унциях.\n",
    "\n",
    "Выберите столбец `'BIRTHWGT_OZ1'` из фрейма данных `nsfg` и присвойте его новой переменной с именем `ounces`. Затем отобразите первые пять элементов `ounces`."
   ]
  },
  {
   "cell_type": "code",
   "execution_count": 14,
   "metadata": {},
   "outputs": [],
   "source": [
    "# Решение идет здесь"
   ]
  },
  {
   "cell_type": "markdown",
   "metadata": {},
   "source": [
    "**Упражнение:** Вы можете найти документацию по типам данных Pandas по адресам:\n",
    "\n",
    "* [DataFrame](https://pandas.pydata.org/pandas-docs/stable/reference/api/pandas.DataFrame.html)\n",
    "\n",
    "* [Index](https://pandas.pydata.org/pandas-docs/stable/reference/api/pandas.Index.html)\n",
    "\n",
    "* [Series](https://pandas.pydata.org/pandas-docs/stable/reference/api/pandas.Series.html)\n",
    "\n",
    "Эта документация может быть огромной; Не рекомендую пытаться читать все это сейчас. Но вы можете просмотреть, чтобы знать, где искать позже."
   ]
  },
  {
   "cell_type": "markdown",
   "metadata": {},
   "source": [
    "## Проверка\n",
    "\n",
    "На этом этапе мы определили столбцы, которые нам нужны для ответа на вопрос, и присвоили их переменным с именами `pounds` и `ounces`."
   ]
  },
  {
   "cell_type": "code",
   "execution_count": 15,
   "metadata": {},
   "outputs": [],
   "source": [
    "pounds = nsfg['BIRTHWGT_LB1']\n",
    "ounces = nsfg['BIRTHWGT_OZ1']"
   ]
  },
  {
   "cell_type": "markdown",
   "metadata": {},
   "source": [
    "Прежде чем что-либо делать с этими данными, мы должны их проверить (*validate*). Одна часть проверки - это подтверждение того, что мы правильно интерпретируем данные.\n",
    "\n",
    "Мы можем использовать метод `value_counts`, чтобы увидеть, какие значения появляются в `pounds` и сколько раз появляется каждое значение."
   ]
  },
  {
   "cell_type": "code",
   "execution_count": 16,
   "metadata": {
    "tags": []
   },
   "outputs": [
    {
     "data": {
      "text/plain": [
       "7.0     2268\n",
       "6.0     1644\n",
       "8.0     1287\n",
       "5.0      570\n",
       "9.0      396\n",
       "4.0      179\n",
       "99.0      89\n",
       "10.0      82\n",
       "3.0       76\n",
       "2.0       46\n",
       "1.0       28\n",
       "11.0      17\n",
       "98.0       2\n",
       "12.0       2\n",
       "0.0        2\n",
       "14.0       1\n",
       "13.0       1\n",
       "Name: BIRTHWGT_LB1, dtype: int64"
      ]
     },
     "execution_count": 16,
     "metadata": {},
     "output_type": "execute_result"
    }
   ],
   "source": [
    "pounds.value_counts()"
   ]
  },
  {
   "cell_type": "markdown",
   "metadata": {},
   "source": [
    "По умолчанию результаты сортируются сначала по наиболее частому значению, но вместо этого мы можем использовать `sort_index`, чтобы отсортировать их:"
   ]
  },
  {
   "cell_type": "code",
   "execution_count": 17,
   "metadata": {},
   "outputs": [
    {
     "data": {
      "text/plain": [
       "0.0        2\n",
       "1.0       28\n",
       "2.0       46\n",
       "3.0       76\n",
       "4.0      179\n",
       "5.0      570\n",
       "6.0     1644\n",
       "7.0     2268\n",
       "8.0     1287\n",
       "9.0      396\n",
       "10.0      82\n",
       "11.0      17\n",
       "12.0       2\n",
       "13.0       1\n",
       "14.0       1\n",
       "98.0       2\n",
       "99.0      89\n",
       "Name: BIRTHWGT_LB1, dtype: int64"
      ]
     },
     "execution_count": 17,
     "metadata": {},
     "output_type": "execute_result"
    }
   ],
   "source": [
    "pounds.value_counts().sort_index()"
   ]
  },
  {
   "cell_type": "markdown",
   "metadata": {},
   "source": [
    "Как и следовало ожидать, наиболее частыми значениями являются `6-8` фунтов, но есть несколько очень легких детей, несколько очень тяжелых детей и два специальных значения, `98` и `99`. Согласно кодовой книге, эти значения указывают на то, что респондент отказался отвечать на вопрос (`98`) или не знал (`99`).\n",
    "\n",
    "Мы можем проверить результаты, сравнив их с кодовой книгой, в которой перечислены значения и их частота.\n",
    "\n",
    "| Значение | Метка | Итого |\n",
    "| ------- | ---------------- | ------- |\n",
    "| . | НЕПРИМЕНИМО (INAPPLICABLE) | 2863 |\n",
    "| 0-5 | ДО 6 ФУНТОВ | 901 |\n",
    "| 6 | 6 ФУНТОВ | 1644 |\n",
    "| 7 | 7 ФУНТОВ | 2268 |\n",
    "| 8 | 8 ФУНТОВ | 1287 |\n",
    "| 9-95 | 9 ФУНТОВ ИЛИ БОЛЬШЕ | 499 |\n",
    "| 98 | Отказано (Refused) | 2 |\n",
    "| 99 | Не знаю | 89 |\n",
    "| | Итого | 9553 |\n",
    "\n",
    "Результаты от `value_counts` согласуются с кодовой книгой, поэтому у нас есть некоторая уверенность в том, что мы читаем и интерпретируем данные правильно."
   ]
  },
  {
   "cell_type": "markdown",
   "metadata": {},
   "source": [
    "**Упражнение:** В фрейме данных `nsfg` столбец `'OUTCOME'` кодирует исход каждой беременности, как показано ниже:\n",
    "\n",
    "| Значение | Смысл |\n",
    "| --- | --- |\n",
    "| 1 | Рождение (Live birth) |\n",
    "| 2 | Искусственный аборт (Induced abortion) |\n",
    "| 3 | Мертворождение (Stillbirth) |\n",
    "| 4 | Выкидыш (Miscarriage) |\n",
    "| 5 | Внематочная беременность (Ectopic pregnancy) |\n",
    "| 6 | Текущая беременность (Current pregnancy) |\n",
    "\n",
    "Используйте `value_counts`, чтобы отобразить значения в этом столбце и сколько раз появляется каждое значение. Соответствуют ли результаты [кодовой книге](https://github.com/AllenDowney/ElementsOfDataScience/raw/master/data/2015-2017_NSFG_FemPregFile_Codebook-508.pdf)?"
   ]
  },
  {
   "cell_type": "code",
   "execution_count": 18,
   "metadata": {},
   "outputs": [],
   "source": [
    "# Решение идет здесь"
   ]
  },
  {
   "cell_type": "markdown",
   "metadata": {},
   "source": [
    "## Сводные статистические данные\n",
    "\n",
    "Другой способ проверить данные - это `describe`, который вычисляет сводную статистику, такую как *среднее значение*, *стандартное отклонение*, *минимум* и *максимум*.\n",
    "\n",
    "Вот результаты для `pounds`."
   ]
  },
  {
   "cell_type": "code",
   "execution_count": 19,
   "metadata": {},
   "outputs": [
    {
     "data": {
      "text/plain": [
       "count    6690.000000\n",
       "mean        8.008819\n",
       "std        10.771360\n",
       "min         0.000000\n",
       "25%         6.000000\n",
       "50%         7.000000\n",
       "75%         8.000000\n",
       "max        99.000000\n",
       "Name: BIRTHWGT_LB1, dtype: float64"
      ]
     },
     "execution_count": 19,
     "metadata": {},
     "output_type": "execute_result"
    }
   ],
   "source": [
    "pounds.describe()"
   ]
  },
  {
   "cell_type": "markdown",
   "metadata": {},
   "source": [
    "`count` - это количество значений, не считая `NaN`. Для этой переменной есть `6690` значений, отличных от `NaN`.\n",
    "\n",
    "`mean` и `std` - это *среднее значение* и *стандартное отклонение*.\n",
    "\n",
    "`min` и `max` - это минимальное и максимальное значения, а между ними - `25`, `50` и `75` процентили. `50`-й процентиль - это *медиана*.\n",
    "\n",
    "Среднее значение составляет около `8.05`, но это мало что значит, потому что оно включает специальные значения `98` и `99`. Прежде чем мы действительно сможем вычислить среднее значение, мы *должны заменить эти значения* на `NaN`, чтобы идентифицировать их как отсутствующие данные.\n",
    "\n",
    "Метод `replace()` делает то, что мы хотим:"
   ]
  },
  {
   "cell_type": "code",
   "execution_count": 20,
   "metadata": {},
   "outputs": [],
   "source": [
    "import numpy as np\n",
    "\n",
    "pounds_clean = pounds.replace([98, 99], np.nan)"
   ]
  },
  {
   "cell_type": "markdown",
   "metadata": {},
   "source": [
    "`replace` принимает список значений, которые мы хотим заменить, и значение, которым мы хотим их заменить. \n",
    "\n",
    "`np.nan` означает, что мы получаем специальное значение `NaN` из библиотеки NumPy, которая импортируется как `np`.\n",
    "\n",
    "Результатом `replace()` является новая серия, которую я присваиваю переменной `pounds_clean`.\n",
    "\n",
    "Если мы снова запустим `describe`, мы увидим, что `count` включает только допустимые значения."
   ]
  },
  {
   "cell_type": "code",
   "execution_count": 21,
   "metadata": {},
   "outputs": [
    {
     "data": {
      "text/plain": [
       "count    6599.000000\n",
       "mean        6.754357\n",
       "std         1.383268\n",
       "min         0.000000\n",
       "25%         6.000000\n",
       "50%         7.000000\n",
       "75%         8.000000\n",
       "max        14.000000\n",
       "Name: BIRTHWGT_LB1, dtype: float64"
      ]
     },
     "execution_count": 21,
     "metadata": {},
     "output_type": "execute_result"
    }
   ],
   "source": [
    "pounds_clean.describe()"
   ]
  },
  {
   "cell_type": "markdown",
   "metadata": {},
   "source": [
    "Средний вес новой серии составляет около `6,7` фунтов.\n",
    "Помните, что среднее значение оригинальной серии было более `8` фунтов.\n",
    "Это имеет большое значение, когда вы убираете несколько `99`-фунтовых младенцев!"
   ]
  },
  {
   "cell_type": "markdown",
   "metadata": {},
   "source": [
    "**Упражнение:** Используйте `describe`, чтобы суммировать `ounces`.\n",
    "\n",
    "Затем используйте `replace`, чтобы заменить специальные значения `98` и `99` на `NaN`, и присвойте результат переменной `ounces_clean`.\n",
    "\n",
    "Снова запустите `describe`. Насколько эта очистка влияет на результат?"
   ]
  },
  {
   "cell_type": "code",
   "execution_count": 22,
   "metadata": {},
   "outputs": [],
   "source": [
    "# Решение идет здесь"
   ]
  },
  {
   "cell_type": "code",
   "execution_count": 23,
   "metadata": {},
   "outputs": [],
   "source": [
    "# Решение идет здесь"
   ]
  },
  {
   "cell_type": "code",
   "execution_count": 24,
   "metadata": {},
   "outputs": [],
   "source": [
    "# Решение идет здесь"
   ]
  },
  {
   "cell_type": "markdown",
   "metadata": {},
   "source": [
    "## Арифметика с сериями\n",
    "\n",
    "Теперь мы хотим объединить `pounds` и `ounces` в одну серию, содержащую общий вес при рождении.\n",
    "Арифметические операторы работают с объектами `Series`; так, например, чтобы преобразовать `pounds` в унции, мы могли бы написать\n",
    "\n",
    "`pounds * 16`\n",
    "\n",
    "Затем мы могли бы добавить `ounces` вот так\n",
    "\n",
    "`pounds * 16 + ounces`\n"
   ]
  },
  {
   "cell_type": "markdown",
   "metadata": {},
   "source": [
    "**Упражнение:** Используйте `pounds_clean` и `ounces_clean`, чтобы вычислить общий вес при рождении, выраженный в килограммах (это примерно `2,2` фунта на килограмм). Какой средний вес при рождении в килограммах?"
   ]
  },
  {
   "cell_type": "code",
   "execution_count": 25,
   "metadata": {},
   "outputs": [],
   "source": [
    "# Решение идет здесь"
   ]
  },
  {
   "cell_type": "markdown",
   "metadata": {},
   "source": [
    "**Упражнение:** Для каждой беременности в наборе данных *NSFG* переменная `'AGECON'` кодирует возраст респондента на момент зачатия, а `'AGEPREG'` - возраст респондента в конце беременности.\n",
    "\n",
    "Обе переменные записываются как целые числа с двумя неявными десятичными знаками, поэтому значение `2575` означает, что возраст респондента был `25.75`.\n",
    "\n",
    "- Прочтите документацию по этим переменным. Есть ли какие-то особые значения, с которыми нам приходится иметь дело?\n",
    "\n",
    "- Выберите `'AGECON'` и `'AGEPREG'`, разделите их на `100` и присвойте их переменным с именами `agecon` и `agepreg`.\n",
    "\n",
    "- Вычислите разницу, которая является оценкой продолжительности беременности.\n",
    "\n",
    "- Используйте `.describe()` для вычисления средней продолжительности и другой сводной статистики.\n",
    "\n",
    "Если средняя продолжительность беременности кажется короткой, помните, что этот набор данных включает все беременности, а не только те, которые закончились рождением."
   ]
  },
  {
   "cell_type": "code",
   "execution_count": 26,
   "metadata": {},
   "outputs": [],
   "source": [
    "# Решение идет здесь"
   ]
  },
  {
   "cell_type": "markdown",
   "metadata": {},
   "source": [
    "## Гистограммы\n",
    "\n",
    "Вернемся к первоначальному вопросу: каков средний вес новорожденных в США?\n",
    "В качестве ответа мы *могли бы* взять результаты из предыдущего раздела и вычислить среднее значение:"
   ]
  },
  {
   "cell_type": "code",
   "execution_count": 27,
   "metadata": {},
   "outputs": [
    {
     "data": {
      "text/plain": [
       "7.180217889908257"
      ]
     },
     "execution_count": 27,
     "metadata": {},
     "output_type": "execute_result"
    }
   ],
   "source": [
    "pounds_clean = pounds.replace([98, 99], np.nan)\n",
    "ounces_clean = ounces.replace([98, 99], np.nan)\n",
    "\n",
    "birth_weight = pounds_clean + ounces_clean / 16\n",
    "birth_weight.mean()"
   ]
  },
  {
   "cell_type": "markdown",
   "metadata": {},
   "source": [
    "Но вычислять сводную статистику, например среднее значение, до того, как мы рассмотрим все распределение значений, рискованно.\n",
    "\n",
    "**Распределение** - это набор возможных значений и их частот. Одним из способов визуализации распределения является *гистограмма*, которая показывает значения по оси `x` и их частоты по оси `y`.\n",
    "\n",
    "`Series` предоставляет метод `hist`, который строит гистограммы. И мы можем использовать `Matplotlib` для маркировки осей."
   ]
  },
  {
   "cell_type": "code",
   "execution_count": 28,
   "metadata": {},
   "outputs": [
    {
     "data": {
      "image/png": "[encoded data removed]",
      "text/plain": [
       "<Figure size 432x288 with 1 Axes>"
      ]
     },
     "metadata": {
      "needs_background": "light"
     },
     "output_type": "display_data"
    }
   ],
   "source": [
    "import matplotlib.pyplot as plt\n",
    "\n",
    "birth_weight.hist(bins=30)\n",
    "plt.xlabel('Вес при рождении в фунтах')\n",
    "plt.ylabel('Количество рожденных')\n",
    "plt.title('Распределение веса при рождении в США');"
   ]
  },
  {
   "cell_type": "markdown",
   "metadata": {},
   "source": [
    "Ключевой аргумент `bins`, указывает `hist` разделить диапазон весов на `30` интервалов, называемых **bins**, и подсчитать, сколько значений попадает в каждую ячейку.\n",
    "\n",
    "По оси `x` отложена масса тела при рождении в фунтах; ось `y` - это количество рождений в каждой ячейке (*bin*).\n",
    "\n",
    "Распределение немного похоже на колоколообразную кривую, но хвост слева длиннее, чем справа; то есть легких младенцев больше, чем тяжелых.\n",
    "\n",
    "В этом есть смысл, потому что в распределение включены некоторые недоношенные дети."
   ]
  },
  {
   "cell_type": "markdown",
   "metadata": {},
   "source": [
    "**Упражнение:** `hist` принимает ключевые аргументы, которые определяют тип и внешний вид гистограммы.\n",
    "\n",
    "[Найдите документацию](https://pandas.pydata.org/docs/reference/api/pandas.Series.hist.html) по `hist` и посмотрите, сможете ли вы выяснить, как построить гистограмму в виде [незаполненной линии](https://matplotlib.org/stable/api/_as_gen/matplotlib.pyplot.hist.html) (unfilled line)."
   ]
  },
  {
   "cell_type": "code",
   "execution_count": 29,
   "metadata": {},
   "outputs": [],
   "source": [
    "# Решение идет здесь"
   ]
  },
  {
   "cell_type": "markdown",
   "metadata": {},
   "source": [
    "**Упражнение:** Как мы видели в предыдущем упражнении, набор данных *NSFG* включает столбец под названием `AGECON`, в котором записывается возраст на момент зачатия для каждой беременности.\n",
    "\n",
    "- Выберите этот столбец в `DataFrame` и разделите на `100`, чтобы преобразовать его в годы.\n",
    "\n",
    "- Постройте гистограмму этих значений с `20` ячейками (*bins*).\n",
    "\n",
    "- Обозначьте оси `x` и `y` соответствующим образом."
   ]
  },
  {
   "cell_type": "code",
   "execution_count": 30,
   "metadata": {},
   "outputs": [],
   "source": [
    "# Решение идет здесь"
   ]
  },
  {
   "cell_type": "markdown",
   "metadata": {},
   "source": [
    "## Логическая серия (boolean series)\n",
    "\n",
    "Мы видели, что распределение веса при рождении **смещено** влево; то есть легких младенцев больше, чем тяжелых, и они дальше от средних. Это потому, что недоношенные дети, как правило, легче. \n",
    "\n",
    "Наиболее частая продолжительность беременности составляет `39 недель`, что является \"доношенной\"; \"недоношенность\" обычно определяется как срок менее `37 недель`.\n",
    "\n",
    "Чтобы узнать, какие дети недоношены, мы можем использовать `PRGLNGTH`, который содержит продолжительность беременности в неделях и вычисляет ее как `37`."
   ]
  },
  {
   "cell_type": "code",
   "execution_count": 31,
   "metadata": {},
   "outputs": [
    {
     "data": {
      "text/plain": [
       "dtype('bool')"
      ]
     },
     "execution_count": 31,
     "metadata": {},
     "output_type": "execute_result"
    }
   ],
   "source": [
    "preterm = (nsfg['PRGLNGTH'] < 37)\n",
    "preterm.dtype"
   ]
  },
  {
   "cell_type": "markdown",
   "metadata": {},
   "source": [
    "Когда вы сравниваете `Series` со значением, результатом является логическая серия; то есть каждый элемент является логическим значением `True` или `False`. В этом случае для каждого недоношенного ребенка - это `True`, в противном случае - `False`. Мы можем использовать `head`, чтобы увидеть первые `5` элементов."
   ]
  },
  {
   "cell_type": "code",
   "execution_count": 32,
   "metadata": {},
   "outputs": [
    {
     "data": {
      "text/plain": [
       "0    False\n",
       "1     True\n",
       "2    False\n",
       "3    False\n",
       "4    False\n",
       "Name: PRGLNGTH, dtype: bool"
      ]
     },
     "execution_count": 32,
     "metadata": {},
     "output_type": "execute_result"
    }
   ],
   "source": [
    "preterm.head()"
   ]
  },
  {
   "cell_type": "markdown",
   "metadata": {},
   "source": [
    "Если вы вычисляете сумму логической серии, она обрабатывает `True` как `1` и `False` как `0`, поэтому сумма представляет собой количество значений `True`, то есть количество недоношенных детей, около `3700`."
   ]
  },
  {
   "cell_type": "code",
   "execution_count": 33,
   "metadata": {},
   "outputs": [
    {
     "data": {
      "text/plain": [
       "3675"
      ]
     },
     "execution_count": 33,
     "metadata": {},
     "output_type": "execute_result"
    }
   ],
   "source": [
    "preterm.sum()"
   ]
  },
  {
   "cell_type": "markdown",
   "metadata": {},
   "source": [
    "Если вы вычисляете среднее значение логической серии, вы получаете *долю* (*fraction*) от значений `True`.\n",
    "В данном случае это около `0,38`; то есть около `38%` беременностей длится менее `37 недель`."
   ]
  },
  {
   "cell_type": "code",
   "execution_count": 34,
   "metadata": {},
   "outputs": [
    {
     "data": {
      "text/plain": [
       "0.38469590704490736"
      ]
     },
     "execution_count": 34,
     "metadata": {},
     "output_type": "execute_result"
    }
   ],
   "source": [
    "preterm.mean()"
   ]
  },
  {
   "cell_type": "markdown",
   "metadata": {},
   "source": [
    "Однако этот результат может вводить в заблуждение, поскольку он включает все исходы беременности, а не только рождения.\n",
    "Мы можем создать еще одну логическую серию, чтобы указать, какие беременности закончились рождением:"
   ]
  },
  {
   "cell_type": "code",
   "execution_count": 35,
   "metadata": {},
   "outputs": [
    {
     "data": {
      "text/plain": [
       "0.7006176070344394"
      ]
     },
     "execution_count": 35,
     "metadata": {},
     "output_type": "execute_result"
    }
   ],
   "source": [
    "live = (nsfg['OUTCOME'] == 1)\n",
    "live.mean()"
   ]
  },
  {
   "cell_type": "markdown",
   "metadata": {},
   "source": [
    "Теперь мы можем использовать логический оператор `&` для определения беременностей, результатом которых являются преждевременные роды:"
   ]
  },
  {
   "cell_type": "code",
   "execution_count": 36,
   "metadata": {},
   "outputs": [
    {
     "data": {
      "text/plain": [
       "0.08929132209777034"
      ]
     },
     "execution_count": 36,
     "metadata": {},
     "output_type": "execute_result"
    }
   ],
   "source": [
    "live_preterm = (live & preterm)\n",
    "live_preterm.mean()"
   ]
  },
  {
   "cell_type": "markdown",
   "metadata": {},
   "source": [
    "**Упражнение:** Какая часть всех рождений является недоношенными?"
   ]
  },
  {
   "cell_type": "code",
   "execution_count": 37,
   "metadata": {},
   "outputs": [],
   "source": [
    "# Решение идет здесь"
   ]
  },
  {
   "cell_type": "markdown",
   "metadata": {},
   "source": [
    "Другие распространенные логические операторы:\n",
    "    \n",
    "* `|`, который является оператором ИЛИ; например `live | preterm` - истина, если либо `live` - истина, либо `preterm` - истина, либо и то, и другое.\n",
    "\n",
    "* `~`, который является оператором НЕ; например, `~live` истинно, если `live` ложно или `NaN`.\n",
    "\n",
    "Логические операторы обрабатывают `NaN` так же, как `False`. Таким образом, вы должны быть осторожны при использовании оператора НЕ с серией, содержащей значения `NaN`.\n",
    "\n",
    "Например, `~preterm` будут включать не только доношенные беременности, но и беременности с неизвестной продолжительностью."
   ]
  },
  {
   "cell_type": "markdown",
   "metadata": {},
   "source": [
    "**Упражнение:** Какая доля всех беременностей является доношенной, то есть `37` недель или более? Какая доля всех рожденных является доношенными?"
   ]
  },
  {
   "cell_type": "code",
   "execution_count": 38,
   "metadata": {},
   "outputs": [],
   "source": [
    "# Решение идет здесь"
   ]
  },
  {
   "cell_type": "code",
   "execution_count": 39,
   "metadata": {},
   "outputs": [],
   "source": [
    "# Решение идет здесь"
   ]
  },
  {
   "cell_type": "markdown",
   "metadata": {},
   "source": [
    "## Фильтрация\n",
    "\n",
    "Мы можем использовать логическую серию в качестве фильтра; то есть мы можем выбрать только те строки, которые удовлетворяют условию или удовлетворяют некоторому критерию.\n",
    "\n",
    "Например, мы можем использовать `preterm` и оператор скобки для выбора значений из `birth_weight`, так что `preterm_weight` получает вес при рождении для недоношенных детей."
   ]
  },
  {
   "cell_type": "code",
   "execution_count": 40,
   "metadata": {},
   "outputs": [
    {
     "data": {
      "text/plain": [
       "5.480958781362007"
      ]
     },
     "execution_count": 40,
     "metadata": {},
     "output_type": "execute_result"
    }
   ],
   "source": [
    "preterm_weight = birth_weight[preterm]\n",
    "preterm_weight.mean()"
   ]
  },
  {
   "cell_type": "markdown",
   "metadata": {},
   "source": [
    "Чтобы выбрать доношенных детей, мы можем создать логическую серию следующим образом:"
   ]
  },
  {
   "cell_type": "code",
   "execution_count": 41,
   "metadata": {},
   "outputs": [],
   "source": [
    "fullterm = (nsfg['PRGLNGTH'] >= 37)"
   ]
  },
  {
   "cell_type": "markdown",
   "metadata": {},
   "source": [
    "Для выбора веса при рождении доношенных детей используйте:"
   ]
  },
  {
   "cell_type": "code",
   "execution_count": 42,
   "metadata": {},
   "outputs": [
    {
     "data": {
      "text/plain": [
       "7.429609416096791"
      ]
     },
     "execution_count": 42,
     "metadata": {},
     "output_type": "execute_result"
    }
   ],
   "source": [
    "full_term_weight = birth_weight[fullterm]\n",
    "full_term_weight.mean()"
   ]
  },
  {
   "cell_type": "markdown",
   "metadata": {},
   "source": [
    "Как и ожидалось, доношенные дети в среднем тяжелее недоношенных.\n",
    "Чтобы быть более точным, мы также можем ограничить результаты рождением, например:"
   ]
  },
  {
   "cell_type": "code",
   "execution_count": 43,
   "metadata": {},
   "outputs": [
    {
     "data": {
      "text/plain": [
       "7.429609416096791"
      ]
     },
     "execution_count": 43,
     "metadata": {},
     "output_type": "execute_result"
    }
   ],
   "source": [
    "full_term_weight = birth_weight[live & fullterm]\n",
    "full_term_weight.mean()"
   ]
  },
  {
   "cell_type": "markdown",
   "metadata": {},
   "source": [
    "Но в этом случае мы получаем тот же результат, потому что `birth_weight` действителен только для рожденных."
   ]
  },
  {
   "cell_type": "markdown",
   "metadata": {},
   "source": [
    "**Упражнение:** Давайте посмотрим, есть ли разница в весе между одноплодными и многоплодными родами (двойняшки, тройни и т. д.).\n",
    "\n",
    "Переменная `NBRNALIV` представляет количество детей, рожденных живыми от одной беременности."
   ]
  },
  {
   "cell_type": "code",
   "execution_count": 44,
   "metadata": {},
   "outputs": [
    {
     "data": {
      "text/plain": [
       "1.0    6573\n",
       "2.0     111\n",
       "3.0       6\n",
       "Name: NBRNALIV, dtype: int64"
      ]
     },
     "execution_count": 44,
     "metadata": {},
     "output_type": "execute_result"
    }
   ],
   "source": [
    "nbrnaliv = nsfg['NBRNALIV']\n",
    "nbrnaliv.value_counts()"
   ]
  },
  {
   "cell_type": "markdown",
   "metadata": {},
   "source": [
    "Используйте `nbrnaliv` и `live`, чтобы создать логический ряд под названием `multiple`, который является верным для множественных рождений. \n",
    "\n",
    "Какая доля всех рождений приходится на многоплодие?"
   ]
  },
  {
   "cell_type": "code",
   "execution_count": 45,
   "metadata": {},
   "outputs": [],
   "source": [
    "# Решение идет здесь"
   ]
  },
  {
   "cell_type": "code",
   "execution_count": 46,
   "metadata": {},
   "outputs": [],
   "source": [
    "# Решение идет здесь"
   ]
  },
  {
   "cell_type": "markdown",
   "metadata": {},
   "source": [
    "**Упражнение:** Создайте логический ряд под названием `single`, который подходит для одноплодных рождений. \n",
    "\n",
    "Какая часть всех одноплодных родов является преждевременными? \n",
    "\n",
    "Какая часть всех родов являются преждевременными?"
   ]
  },
  {
   "cell_type": "code",
   "execution_count": 47,
   "metadata": {},
   "outputs": [],
   "source": [
    "# Решение идет здесь"
   ]
  },
  {
   "cell_type": "code",
   "execution_count": 48,
   "metadata": {},
   "outputs": [],
   "source": [
    "# Решение идет здесь"
   ]
  },
  {
   "cell_type": "code",
   "execution_count": 49,
   "metadata": {},
   "outputs": [],
   "source": [
    "# Решение идет здесь"
   ]
  },
  {
   "cell_type": "markdown",
   "metadata": {},
   "source": [
    "**Упражнение:** Каков средний вес при рождении живыми (*live*), одноплодными (*single*) и доношенными (*full-term births*)?"
   ]
  },
  {
   "cell_type": "code",
   "execution_count": 50,
   "metadata": {},
   "outputs": [],
   "source": [
    "# Решение идет здесь"
   ]
  },
  {
   "cell_type": "markdown",
   "metadata": {},
   "source": [
    "## Средневзвешенное значение\n",
    "\n",
    "Мы почти готовы вычислить средний вес при рождении, но нам нужно решить еще одну проблему: *передискретизацию* (*oversampling*).\n",
    "\n",
    "*NSFG* не совсем репрезентативен для населения США. По замыслу, некоторые группы чаще появляются в выборке, чем другие; то есть они **передискретизированы** (*oversampled*). Передискретизация помогает гарантировать, что у вас будет достаточно людей в каждой подгруппе для получения надежной статистики, но это немного усложняет анализ данных.\n",
    "\n",
    "Каждая беременность в наборе данных имеет **вес выборки** (*sampling weight*), который указывает, сколько беременностей она представляет. В `nsfg` вес выборки хранится в столбце с именем `wgt2015_2017`. Вот как это выглядит."
   ]
  },
  {
   "cell_type": "code",
   "execution_count": 51,
   "metadata": {},
   "outputs": [
    {
     "data": {
      "text/plain": [
       "count      9553.000000\n",
       "mean      13337.425944\n",
       "std       16138.878271\n",
       "min        1924.916000\n",
       "25%        4575.221221\n",
       "50%        7292.490835\n",
       "75%       15724.902673\n",
       "max      106774.400000\n",
       "Name: WGT2015_2017, dtype: float64"
      ]
     },
     "execution_count": 51,
     "metadata": {},
     "output_type": "execute_result"
    }
   ],
   "source": [
    "sampling_weight = nsfg['WGT2015_2017']\n",
    "sampling_weight.describe()"
   ]
  },
  {
   "cell_type": "markdown",
   "metadata": {},
   "source": [
    "Среднее значение (`50`-й процентиль) в этом столбце составляет около `7292`, что означает, что беременность с таким весом представляет собой `7292` беременностей в популяции.\n",
    "\n",
    "Но диапазон значений широк, поэтому некоторые строки представляют намного больше беременностей, чем другие.\n",
    "\n",
    "Чтобы учесть эти веса, мы можем вычислить **среднее арифметическое взвешенное** (*weighted mean*). \n",
    "\n",
    "Вот шаги:\n",
    "\n",
    "1. Умножьте вес при рождении для каждой беременности на веса выборки и сложите произведения.\n",
    "\n",
    "2. Сложите выборочные веса.\n",
    "\n",
    "3. Разделите первую сумму на вторую.\n",
    "\n",
    "Чтобы сделать это правильно, мы должны быть осторожны с пропущенными (*missing*) данными.\n",
    "Чтобы помочь с этим, мы будем использовать два метода `Series`: `isna` и `notna`.\n",
    "\n",
    "`isna` возвращает логическое значение `Series`, равное `True`, где соответствующее значение - `NaN`."
   ]
  },
  {
   "cell_type": "code",
   "execution_count": 52,
   "metadata": {},
   "outputs": [
    {
     "data": {
      "text/plain": [
       "3013"
      ]
     },
     "execution_count": 52,
     "metadata": {},
     "output_type": "execute_result"
    }
   ],
   "source": [
    "missing = birth_weight.isna()\n",
    "missing.sum()"
   ]
  },
  {
   "cell_type": "markdown",
   "metadata": {},
   "source": [
    "В `birth_weight` `3013` пропущенных значений (в основном для беременностей, которые не закончились рождением).\n",
    "\n",
    "`notna` возвращает логическое значение `Series`, которое имеет значение `True`, где соответствующее значение *не* `NaN`."
   ]
  },
  {
   "cell_type": "code",
   "execution_count": 53,
   "metadata": {},
   "outputs": [
    {
     "data": {
      "text/plain": [
       "6540"
      ]
     },
     "execution_count": 53,
     "metadata": {},
     "output_type": "execute_result"
    }
   ],
   "source": [
    "valid = birth_weight.notna()\n",
    "valid.sum()"
   ]
  },
  {
   "cell_type": "markdown",
   "metadata": {},
   "source": [
    "Мы можем комбинировать `valid` с другими вычисленными нами логическими `Series`, чтобы идентифицировать одноплодные (*single*), доношенные рождения с допустимым весом при рождении."
   ]
  },
  {
   "cell_type": "code",
   "execution_count": 54,
   "metadata": {},
   "outputs": [
    {
     "data": {
      "text/plain": [
       "5648"
      ]
     },
     "execution_count": 54,
     "metadata": {},
     "output_type": "execute_result"
    }
   ],
   "source": [
    "single = (nbrnaliv == 1)\n",
    "selected = valid & live & single & fullterm\n",
    "selected.sum()"
   ]
  },
  {
   "cell_type": "markdown",
   "metadata": {},
   "source": [
    "**Упражнение:** Используйте `selected`, `birth_weight` и `sampling_weight`, чтобы вычислить средневзвешенное значение веса при рождении для живых (*live*), одноплодных (*single*) и доношенных детей (*full term*).\n",
    "\n",
    "Вы должны обнаружить, что взвешенное среднее немного больше невзвешенного среднего, которое мы вычислили в предыдущем разделе. Это связано с тем, что группы, для которых в *NSFG* представлена избыточная выборка (*oversampled*), как правило, в среднем рожают более легких детей."
   ]
  },
  {
   "cell_type": "code",
   "execution_count": 55,
   "metadata": {},
   "outputs": [],
   "source": [
    "# Решение идет здесь"
   ]
  },
  {
   "cell_type": "code",
   "execution_count": 56,
   "metadata": {},
   "outputs": [],
   "source": [
    "# Решение идет здесь"
   ]
  },
  {
   "cell_type": "markdown",
   "metadata": {},
   "source": [
    "## Резюме\n",
    "\n",
    "В этом Блокноте задается, казалось бы, простой вопрос: каков средний вес новорожденных в Соединенных Штатах?\n",
    "\n",
    "Чтобы ответить на него, мы нашли подходящий набор данных и прочитали файлы. Затем мы проверили данные и обработали специальные значения, отсутствующие данные и ошибки.\n",
    "\n",
    "Чтобы исследовать данные, мы использовали `value_counts`, `hist`, `describe` и другие методы Pandas.\n",
    "А для выбора релевантных данных мы использовали логическое значение `Series`.\n",
    "\n",
    "Попутно нам пришлось больше думать над этим вопросом. Что мы подразумеваем под \"средним\" и каких младенцев мы должны включать? Должны ли мы включать всех родившихся или исключать недоношенных или многоплодных детей?\n",
    "\n",
    "И нам нужно было подумать о процессе *семплирования* (*sampling process*). По замыслу респонденты *NSFG* не являются репрезентативными для населения США, но мы можем использовать *веса выборки*, чтобы скорректировать этот эффект.\n",
    "\n",
    "Даже простой вопрос может стать сложным проектом в области науки о данных."
   ]
  },
  {
   "cell_type": "markdown",
   "metadata": {},
   "source": [
    "<a href=\"https://t.me/init_python\"><img src=\"https://dfedorov.spb.ru/pandas/logo-telegram.png\" width=\"35\" height=\"35\" alt=\"telegram\" align=\"left\"></a>"
   ]
  },
  {
   "cell_type": "code",
   "execution_count": null,
   "metadata": {},
   "outputs": [],
   "source": []
  }
 ],
 "metadata": {
  "celltoolbar": "Tags",
  "kernelspec": {
   "display_name": "Python 3",
   "language": "python",
   "name": "python3"
  },
  "language_info": {
   "codemirror_mode": {
    "name": "ipython",
    "version": 3
   },
   "file_extension": ".py",
   "mimetype": "text/x-python",
   "name": "python",
   "nbconvert_exporter": "python",
   "pygments_lexer": "ipython3",
   "version": "3.8.2"
  }
 },
 "nbformat": 4,
 "nbformat_minor": 4
}
