{
 "cells": [
  {
   "cell_type": "markdown",
   "metadata": {},
   "source": [
    "# Урок по визуализации данных на языке Python"
   ]
  },
  {
   "cell_type": "markdown",
   "metadata": {},
   "source": [
    "Зачем она нужна\n",
    "История про джона сноу, как пример зачем нужна визуализация\n",
    "https://sysblok.ru/visual/dzhon-snou-vs-holera/"
   ]
  },
  {
   "cell_type": "markdown",
   "metadata": {},
   "source": [
    "В 1854 году в Лондоне в районе Сохо вспыхнула эпидемия холеры — болезни смертельной и с отвратительными симптомами. «Эта экзотическая захватчица, — как пишет историк Ричард Эванс, — превратила просвещенных европейцев в орду дикарей».\n",
    "\n",
    "Д-р Джон Сноу — британский врач, именно ему первому в голову пришла идея, что распространение холеры связано с водой. Но чтобы доказать свою теорию правительству, ему пришлось обойти все дома в районе пандемии, составить статистику количества зараженных в каждом доме и сопоставить с расположением общественных водокачек:\n",
    "![alt text](https://sysblok.ru/wp-content/uploads/2019/01/jsh3.jpg)\n",
    "\n",
    "Столбики внутри здания — число зараженных, круги — области вокруг водокачек, точки — сами водокачки.\n",
    "\n",
    "![alt text](https://sysblok.ru/wp-content/uploads/2019/01/jsh4.jpg)\n",
    "\n",
    "Глядя на карту, можно увидеть, что основной очаг заражения локализуется вокруг центрального насоса, в то время как в домах рядом с насосами на северо-западе и юго-востоке случаев заражения сильно меньше.\n",
    "\n",
    "![alt text](https://sysblok.ru/wp-content/uploads/2019/01/jsh5.jpg)\n",
    "\n",
    "Единственным вопросом оставалось, почему в местной пивоварне и общежитие для рабочих случаи заражения были единичными. Ответ прост: рабочие, жившие в общежитии, работали преимущественно в пивоварне, хозяин которой не только имел собственную водонапорную скважину в подвале, но и разрешал пить производимое пиво в течение рабочего дня.\n",
    "\n",
    "Составив эту подробную карту, Джону Сноу удалось убедить правительство в своей правоте. Рукоять центрального насоса сломали, и эпидемия вскоре остановилась. В честь Джона Сноу в Лондоне установлен памятник в виде водокачки и открыт паб, но главное — его исследования и метод в последующем использовались для обнаружения очагов заболевания в других странах при вспышках холеры.\n",
    "\n",
    "Источник: https://sysblok.ru/visual/dzhon-snou-vs-holera/"
   ]
  },
  {
   "cell_type": "markdown",
   "metadata": {},
   "source": [
    "Визуализация данных\n",
    "\n",
    "    - исследование закономерностей данных (существует ли в данных закономерность?)\n",
    "    - подготовка моделей (шумы, признаки, гипотезы)\n",
    "    - результаты работы моделей (мониторинги, количественные графики и т.д.)\n",
    "\n",
    "Что можно визуализировать?\n",
    "\n",
    "    - количественные характеристики\n",
    "    - изменение количественных характеристик во времени\n",
    "    - изменение количественных характеристик в пространстве\n",
    "    - распределения характеристик\n",
    "    etc\n",
    "\n"
   ]
  },
  {
   "cell_type": "markdown",
   "metadata": {},
   "source": [
    "Какие примеры мы сегодня рассмотрим:\n",
    "\n",
    "1) диаграмму рассеяния - как бысстро на глаз решить задачу по классификации\n",
    "\n",
    "2) Столбчатая диаграмма (bar plot и horizontal bar plot) \n",
    "\n",
    "3) линейные графики - самый простой способ показать динамику во времени\n",
    "\n",
    "4) Ящик с усами  (Box plot) - мощный инструмент для ученых  и любителей статистики\n",
    "\n",
    "5) Heatmap - если наши данные похожи на матрицу, то это, возможно, лучший способ их визуализировать\n",
    "\n",
    "6) Геоданные "
   ]
  },
  {
   "cell_type": "markdown",
   "metadata": {},
   "source": [
    "# matplotlib\n",
    "\n",
    "Основная библиотека для визуализации данных, лежит в основе визуализаций pandas и библиотеки seaborn. Мощнейший инструмент, в котором можно нарисовать что угодно. \n",
    "\n",
    "* Размер библиотеки огромный сам по себе, около 70 000 строк кода;\n",
    "\n",
    "* Matplotlib содержит несколько разных интерфейсов (способов построения фигуры) и может взаимодействовать с большим количеством бекендов. (Бекенды отвечают за то, как по факту будут отображаться диаграммы, не только за внутреннюю структуру);\n",
    "\n",
    "* Несмотря на обширность, часть собственной документации matplotlib серьезно устарела. Библиотека все еще развивается, и множество старых примеров в сети могут включать на 70% меньше кода, чем в их современной версии;\n",
    "\n",
    "\n",
    "Matplotlib являеется питоновским аналогом **MATLAB** и во многом повторяет функционал последнего\n"
   ]
  },
  {
   "cell_type": "code",
   "execution_count": null,
   "metadata": {},
   "outputs": [],
   "source": [
    "##Каноничный способ импорта matplotlib\n",
    "\n",
    "import matplotlib.pyplot as plt\n",
    "\n",
    "##Каноничный способ импорта numpy\n",
    "\n"
   ]
  },
  {
   "cell_type": "code",
   "execution_count": null,
   "metadata": {},
   "outputs": [],
   "source": [
    "#Простая запись\n",
    "from matplotlib import pyplot as plt\n",
    "import numpy as np\n",
    "\n",
    "x = np.linspace(0, 10, 50)\n",
    "y = x\n",
    "\n",
    "plt.title(\"Линейная зависимость y = x\") # заголовок\n",
    "plt.xlabel(\"x\") # ось абсцисс\n",
    "plt.ylabel(\"y\") # ось ординат\n",
    "plt.grid()      # включение отображение сетки\n",
    "plt.plot(x, y)  # построение графика\n",
    "# plt.savefig('testfig.png')"
   ]
  },
  {
   "cell_type": "code",
   "execution_count": null,
   "metadata": {
    "scrolled": true
   },
   "outputs": [],
   "source": [
    "#Subplots запись\n",
    "\n",
    "x = np.linspace(10, 0, 50)\n",
    "y = -x\n",
    "\n",
    "fig, ax = plt.subplots() # заголовок\n",
    "\n",
    "ax.set_title(\"Линейная зависимость y = x\")\n",
    "ax.set_xlabel(\"x\") # ось абсцисс\n",
    "ax.set_ylabel(\"y\") # ось ординат\n",
    "ax.grid()      # включение отображение сетки\n",
    "ax.plot(x, y)  # построение графика"
   ]
  },
  {
   "cell_type": "code",
   "execution_count": null,
   "metadata": {},
   "outputs": [],
   "source": []
  },
  {
   "cell_type": "code",
   "execution_count": null,
   "metadata": {},
   "outputs": [],
   "source": [
    "import matplotlib.pyplot as plt\n",
    "import numpy as np\n",
    "\n",
    "# Data for plotting\n",
    "t = np.arange(0.0, 2.0, 0.01) #создаем массив numpy от 0 до 2 с интервалом 0.01\n",
    "s = 1 + np.sin(2 * np.pi * t) #создаем массив numpy с помощью функции синуса\n",
    "\n",
    "fig, ax = plt.subplots() \n",
    "#распаковали tuple plt.subplots() и взяли только то, что нам нужно axes. Объект фигура нам не пригодится\n",
    "#https://riptutorial.com/ru/python/example/8400/%D1%83%D0%BF%D0%B0%D0%BA%D0%BE%D0%B2%D0%BA%D0%B0-%D0%B8-%D1%80%D0%B0%D1%81%D0%BF%D0%B0%D0%BA%D0%BE%D0%B2%D0%BA%D0%B0-%D0%BA%D0%BE%D1%80%D1%82%D0%B5%D0%B6%D0%B5%D0%B9\n",
    "\n",
    "ax.plot(t, s) \n",
    "\n",
    "ax.set(xlabel='time (s)', ylabel='voltage (mV)',\n",
    "       title='Пример работы matplotlib')\n",
    "\n",
    "ax.grid() #добавили сетку\n",
    "\n",
    "ax.figure.show() #показали\n",
    "\n",
    "# ax.figure.savefig('test.png') # cохранили график \n",
    "# plt.savefig('sin.png')"
   ]
  },
  {
   "cell_type": "code",
   "execution_count": null,
   "metadata": {},
   "outputs": [],
   "source": [
    "a, b = (1, 2)\n",
    "print(a, 'Это a')\n",
    "print(b, 'Это b')\n"
   ]
  },
  {
   "cell_type": "markdown",
   "metadata": {},
   "source": [
    "Объект Figure – это самый важный внешний контейнер для графики matplotlib, который может включать в себя несколько объектов Axes. Причиной сложности в понимании может быть название: Axes (оси), на самом деле, превращаются в то, что мы подразумеваем под индивидуальным графиком или диаграммой (а не множественное число «оси», как вы можете ожидать).\n",
    "\n",
    "Вы можете рассматривать объект Figure как похожий на ящик контейнер, содержащий один или несколько объектов Axes (настоящих графиков). Под объектами Axes, в порядке иерархии расположены меньшие объекты, такие как индивидуальные линии, отметки, легенды и текстовые боксы. Практически каждый «элемент» диаграммы – это собственный манипулируемый объект Python, вплоть до ярлыков и отметок:\n",
    "\n",
    "![](https://sun9-58.userapi.com/c853420/v853420064/1e5684/fl-cXjtZu6k.jpg)\n",
    "\n",
    "Чтобы понимать как работает эта библиотека лучше обращаться сюда:\n",
    "https://pyprog.pro/mpl/mpl_main_components.html"
   ]
  },
  {
   "cell_type": "markdown",
   "metadata": {},
   "source": [
    "Дополнительно по \"анатомии\" фигур в matplotlib \n",
    "![](https://matplotlib.org/_images/anatomy.png)\n",
    "\n",
    "https://matplotlib.org/examples/showcase/anatomy.html"
   ]
  },
  {
   "cell_type": "code",
   "execution_count": null,
   "metadata": {},
   "outputs": [],
   "source": [
    "\n",
    "# Load the data\n",
    "# https://ru.wikipedia.org/wiki/%D0%98%D1%80%D0%B8%D1%81%D1%8B_%D0%A4%D0%B8%D1%88%D0%B5%D1%80%D0%B0\n",
    "from sklearn.datasets import load_iris\n",
    "iris = load_iris()\n",
    "\n",
    "from matplotlib import pyplot as plt\n",
    "\n",
    "# The indices of the features that we are plotting\n",
    "x_index = 0\n",
    "y_index = 1\n",
    "\n",
    "\n",
    "\n",
    "plt.figure(figsize=(10, 10)) \n",
    "plt.scatter(iris.data[:, x_index], iris.data[:, y_index], c=iris.target)\n",
    "plt.colorbar(ticks=[0, 1, 2])\n",
    "plt.xlabel(iris.feature_names[x_index])\n",
    "plt.ylabel(iris.feature_names[y_index])\n",
    "\n",
    "plt.tight_layout() # применяется к объекту Figure в целом для очистки пробелов;\n",
    "plt.savefig('test2.png')\n",
    "plt.show()"
   ]
  },
  {
   "cell_type": "markdown",
   "metadata": {},
   "source": [
    "### «ax» может быть как одним объектом matplotlib.axes.Axes, так и массивом объектов Axes в более чем одном созданном малом графике.\n",
    "\n"
   ]
  },
  {
   "cell_type": "code",
   "execution_count": null,
   "metadata": {},
   "outputs": [],
   "source": [
    "fig, ax = plt.subplots(nrows=2, ncols=2, figsize=(7, 7))\n",
    "ax1, ax2, ax3, ax4 = ax.flatten()\n",
    "print(ax)\n",
    "\n",
    "# fig, ((ax1, ax2), (ax3, ax4)) = plt.subplots(nrows=2, ncols=2, figsize=(7, 7))\n",
    "\n"
   ]
  },
  {
   "cell_type": "markdown",
   "metadata": {},
   "source": [
    "Немного примеров работы matplotlib"
   ]
  },
  {
   "cell_type": "code",
   "execution_count": null,
   "metadata": {},
   "outputs": [],
   "source": [
    "plt.figure(figsize=(10, 10)) \n",
    "\n",
    "ages_x = [18, 19, 20, 21, 22, 23, 24, 25, 26, 27, 28, 29, 30, 31, 32, 33, 34, 35,\n",
    "          36, 37, 38, 39, 40, 41, 42, 43, 44, 45, 46, 47, 48, 49, 50, 51, 52, 53, 54, 55]\n",
    "\n",
    "py_dev_y = [20046, 17100, 20000, 24744, 30500, 37732, 41247, 45372, 48876, 53850, 57287, 63016, 65998, 70003, 70000, 71496, 75370, 83640, 84666,\n",
    "            84392, 78254, 85000, 87038, 91991, 100000, 94796, 97962, 93302, 99240, 102736, 112285, 100771, 104708, 108423, 101407, 112542, 122870, 120000]\n",
    "\n",
    "\n",
    "plt.plot(ages_x, py_dev_y, label='Python')\n",
    "\n",
    "\n",
    "js_dev_y = [16446, 16791, 18942, 21780, 25704, 29000, 34372, 37810, 43515, 46823, 49293, 53437, 56373, 62375, 66674, 68745, 68746, 74583, 79000,\n",
    "            78508, 79996, 80403, 83820, 88833, 91660, 87892, 96243, 90000, 99313, 91660, 102264, 100000, 100000, 91660, 99240, 108000, 105000, 104000]\n",
    "\n",
    "\n",
    "plt.plot(ages_x, js_dev_y, label='JavaScript')\n",
    "\n",
    "\n",
    "dev_y = [17784, 16500, 18012, 20628, 25206, 30252, 34368, 38496, 42000, 46752, 49320, 53200, 56000, 62316, 64928, 67317, 68748, 73752, 77232,\n",
    "         78000, 78508, 79536, 82488, 88935, 90000, 90056, 95000, 90000, 91633, 91660, 98150, 98964, 100000, 98988, 100000, 108923, 105000, 103117]\n",
    "\n",
    "\n",
    "plt.plot(ages_x, dev_y, color='#444444', linestyle='--', label='All Devs')\n",
    "plt.xlabel('Ages')\n",
    "plt.ylabel('Median Salary (USD)')\n",
    "plt.title('Median Salary (USD) by Age')\n",
    "\n",
    "plt.legend()\n",
    "\n",
    "plt.tight_layout()\n",
    "\n",
    "\n",
    "plt.show()\n",
    "plt.savefig('salary.png')\n",
    "\n",
    "\n",
    "#https://github.com/CoreyMSchafer/code_snippets/blob/master/Python/Matplotlib/01-Introduction/finished_code.py"
   ]
  },
  {
   "cell_type": "code",
   "execution_count": null,
   "metadata": {},
   "outputs": [],
   "source": [
    "import matplotlib.pyplot as plt\n",
    "import numpy as np\n",
    "import pandas as pd\n",
    " \n",
    "# Data\n",
    "df=pd.DataFrame({'x': range(1,11), 'y1': np.random.randn(10), 'y2': np.random.randn(10)+range(1,11), 'y3': np.random.randn(10)+range(11,21) })\n",
    "df\n"
   ]
  },
  {
   "cell_type": "code",
   "execution_count": null,
   "metadata": {},
   "outputs": [],
   "source": [
    "# multiple line plot\n",
    "plt.plot( 'x', 'y1', data=df, marker='o', markerfacecolor='blue', markersize=12, color='skyblue', linewidth=4)\n",
    "plt.plot( 'x', 'y2', data=df, marker='', color='olive', linewidth=2)\n",
    "plt.plot( 'x', 'y3', data=df, marker='', color='olive', linewidth=2, linestyle='dashed', label=\"toto\")\n",
    "plt.legend()"
   ]
  },
  {
   "cell_type": "markdown",
   "metadata": {},
   "source": [
    "# pandas\n",
    "\n",
    "Встроенный инструмент, решающий большинство проблем, если нужно просто посмотреть данные\n",
    "\n",
    "В основе лежит matplotlib\n",
    "\n",
    "примеры использования http://queirozf.com/entries/pandas-dataframe-plot-examples-with-matplotlib-pyplot"
   ]
  },
  {
   "cell_type": "code",
   "execution_count": null,
   "metadata": {},
   "outputs": [],
   "source": [
    "import pandas as pd\n",
    "import numpy as np\n",
    "import matplotlib.pyplot as plt\n"
   ]
  },
  {
   "cell_type": "code",
   "execution_count": null,
   "metadata": {},
   "outputs": [],
   "source": [
    "#http://zpp.rospotrebnadzor.ru/Forum/Appeals - источник данных\n",
    "df = pd.read_csv('https://raw.githubusercontent.com/alnagaev/reni_land/master/sample.csv')\n",
    "df.head()"
   ]
  },
  {
   "cell_type": "code",
   "execution_count": null,
   "metadata": {},
   "outputs": [],
   "source": [
    "#предобработка\n",
    "answered = df[df['response_date'] != 'None']\n",
    "answered['appeal_date'] = pd.to_datetime(answered['appeal_date'], format = ' %d.%m.%Y %H:%M')\n",
    "answered['response_date'] = pd.to_datetime(answered['response_date'], format = '%d.%m.%Y %H:%M')\n",
    "answered['response_time'] = (answered['response_date'] - answered['appeal_date']).astype('timedelta64[h]')"
   ]
  },
  {
   "cell_type": "code",
   "execution_count": null,
   "metadata": {
    "scrolled": true
   },
   "outputs": [],
   "source": [
    "# answered['appeal_date']\n",
    "answered.sort_values(by=['appeal_date'], inplace = True)\n",
    "year_appeal = answered['appeal_date'].groupby(answered['appeal_date'].dt.year).agg('count')"
   ]
  },
  {
   "cell_type": "code",
   "execution_count": null,
   "metadata": {},
   "outputs": [],
   "source": [
    "year_appeal"
   ]
  },
  {
   "cell_type": "code",
   "execution_count": null,
   "metadata": {},
   "outputs": [],
   "source": [
    "year_appeal.plot(x ='Year', y='appeal_count', kind = 'line', figsize = (3,3), linestyle='--', marker='o')"
   ]
  },
  {
   "cell_type": "code",
   "execution_count": null,
   "metadata": {},
   "outputs": [],
   "source": [
    "year_appeal.plot(x ='Year', y='appeal_count', kind = 'bar', figsize = (6,6))"
   ]
  },
  {
   "cell_type": "code",
   "execution_count": null,
   "metadata": {
    "scrolled": true
   },
   "outputs": [],
   "source": [
    "answered['region'].value_counts(normalize=True).plot(kind='barh', figsize=(20,20)).set_xlabel(\"количество обращений в процентах\")\n",
    "\n",
    "#Так можно и запутаться! давайте разобьем это на переменные, чтобы понять как работает наш код\n",
    "\n",
    "# answered['region'].value_counts(normalize=True)  у нас случайная выборка 3000 записей из всего массива, поэтому абсолютные значения нам не интересны\n",
    "# sort_index(ascending=False) отменяем сортировку по возрастанию\n",
    "# .plot(kind='barh', figsize=(20,20)) вот тут начинается самое интересное - мы применяем метод pandas plot(), который превращает наш объект dataframe в объект matplotlib\n",
    "# .set_xlabel(\"количество обращений в процентах\") - и мы сразу задаем ему название оси x\n",
    "\n"
   ]
  },
  {
   "cell_type": "code",
   "execution_count": null,
   "metadata": {},
   "outputs": [],
   "source": [
    "answered['region'].value_counts(normalize = True)"
   ]
  },
  {
   "cell_type": "code",
   "execution_count": null,
   "metadata": {
    "collapsed": true
   },
   "outputs": [],
   "source": [
    "category = answered['category'].value_counts(normalize=True).sort_index(ascending=False).plot(kind = 'bar')\n",
    "\n",
    "category.set_xlabel(\"категория\")\n",
    "category.set_ylabel(\"распространенность\")\n",
    "\n",
    "\n",
    "#для продвинутых пользователей есть аннотации https://matplotlib.org/3.1.1/gallery/lines_bars_and_markers/barchart.html#sphx-glr-gallery-lines-bars-and-markers-barchart-py"
   ]
  },
  {
   "cell_type": "markdown",
   "metadata": {},
   "source": [
    "# Pie chart \n",
    "то что плохо в науке, но хорошо в бизнесе (потому что наглядно, но не дает нам дополнительных важных сведений, которые дает, например boxplot)"
   ]
  },
  {
   "cell_type": "code",
   "execution_count": null,
   "metadata": {},
   "outputs": [],
   "source": [
    "test_data = pd.DataFrame({\n",
    "    'name':['john','mary','peter','jeff','bill','lisa','jose'],\n",
    "    'age':[23,78,22,19,45,33,20],\n",
    "    'gender':['M','F','M','M','M','F','M'],\n",
    "    'state':['california','dc','california','dc','california','texas','texas'],\n",
    "    'num_children':[2,0,0,3,2,1,4],\n",
    "    'num_pets':[5,1,0,5,2,2,3]\n",
    "})\n",
    "\n",
    "explode = [0, 0.1, 0]\n",
    "\n",
    "test_data['is_parent'] = test_data.apply(lambda x: 'yes' if x['num_children'] > 0 else 'no', axis = 1)\n",
    "grouped = test_data.groupby(['state']).count()\n",
    "\n",
    "\n",
    "\n",
    "grouped['name'].plot(kind = 'pie', autopct='%1.1f%%',  figsize = (8,8)) #autopct - лайфхак для любителей процентов\n",
    "\n"
   ]
  },
  {
   "cell_type": "markdown",
   "metadata": {},
   "source": [
    "# Линейный график"
   ]
  },
  {
   "cell_type": "code",
   "execution_count": null,
   "metadata": {},
   "outputs": [],
   "source": [
    "Data = {'Year': [1920,1930,1940,1950,1960,1970,1980,1990,2000,2010],\n",
    "        'Unemployment_Rate': [9.8,12,8,7.2,6.9,7,6.5,6.2,5.5,6.3]\n",
    "       }\n",
    "  \n",
    "unemployement = pd.DataFrame(Data,columns=['Year','Unemployment_Rate'])\n",
    "unemployement.plot(x ='Year', y='Unemployment_Rate', kind = 'line')\n",
    "\n",
    "#хорош при репрезентации времени"
   ]
  },
  {
   "cell_type": "markdown",
   "metadata": {},
   "source": [
    "# seaborn\n",
    "\n",
    "Seaborn — это более высокоуровневое API на базе библиотеки matplotlib.\n",
    "Seaborn содержит более адекватные дефолтные настройки оформления графиков.\n",
    "Также в библиотеке есть достаточно сложные типы визуализации, которые в matplotlib потребовали бы большого количество кода.\n",
    "\n",
    "Отличная удобная библиотка со встроенными датасетами \n",
    "\n",
    "\n",
    "\n"
   ]
  },
  {
   "cell_type": "code",
   "execution_count": null,
   "metadata": {},
   "outputs": [],
   "source": [
    "#seaborn рассмотрим, как делать heatmap\n",
    "\n",
    " \n",
    "import seaborn as sns; \n",
    "sns.set()\n",
    "\n",
    "flights = sns.load_dataset(\"flights\")\n",
    "flights = flights.pivot(\"month\", \"year\", \"passengers\")\n",
    "fig, ax = plt.subplots(figsize=(10,10))\n",
    "sns.heatmap(flights, ax=ax)\n"
   ]
  },
  {
   "cell_type": "code",
   "execution_count": null,
   "metadata": {},
   "outputs": [],
   "source": [
    "flights"
   ]
  },
  {
   "cell_type": "code",
   "execution_count": null,
   "metadata": {},
   "outputs": [],
   "source": [
    "import seaborn as sns\n",
    "sns.set()\n",
    "tips = sns.load_dataset(\"tips\")\n",
    "sns.relplot(x=\"total_bill\", y=\"tip\", col=\"time\",\n",
    "            hue=\"smoker\", style=\"smoker\", size=\"size\",\n",
    "            data=tips)\n",
    "\n",
    "#более красивый способ нарисовать диаграмму рассеяния "
   ]
  },
  {
   "cell_type": "code",
   "execution_count": null,
   "metadata": {
    "scrolled": true
   },
   "outputs": [],
   "source": [
    "tips.head()"
   ]
  },
  {
   "cell_type": "markdown",
   "metadata": {},
   "source": [
    "# boxplot\n",
    "\n",
    "Другое название boxplot — ящик с усами или диаграмма размаха. Он был разработан Джоном Тьюки в 1970-х годах.\n",
    "\n",
    "Такой вид диаграммы в удобной форме показывает медиану (или, если нужно, среднее), нижний и верхний квартили, минимальное и максимальное значение выборки и выбросы. \n",
    "\n",
    "Несколько таких ящиков можно нарисовать бок о бок, чтобы визуально сравнивать одно распределение с другим; их можно располагать как горизонтально, так и вертикально. Расстояния между различными частями ящика позволяют определить степень разброса (дисперсии) и асимметрии данных и выявить выбросы.\n",
    "\n",
    "\n",
    "подробнее здесь: https://nagornyy.me/courses/data-science/intro-to-seaborn/\n",
    "\n"
   ]
  },
  {
   "cell_type": "code",
   "execution_count": null,
   "metadata": {},
   "outputs": [],
   "source": [
    "sns.boxplot(x=\"day\", y=\"total_bill\", data=tips, palette='rainbow');"
   ]
  },
  {
   "cell_type": "code",
   "execution_count": null,
   "metadata": {},
   "outputs": [],
   "source": [
    "tips.boxplot(by ='day', column =['total_bill'], grid = False)"
   ]
  },
  {
   "cell_type": "markdown",
   "metadata": {},
   "source": [
    "Как читать боксплот\n",
    "\n",
    "![alt text](https://3.bp.blogspot.com/-dbiYbXnNoBA/VKk2YUaXG1I/AAAAAAAACfI/LhM4-gTwcUU/s1600/kak-chitat-diagrammu-boxplot.jpg)\n",
    "\n",
    "1 (нижний ус) на диаграмме обозначает минимальное значение - Min\n",
    "\n",
    "2 (основание бочки) обозначает 1st Qu. или он же 1-й квартиль.\n",
    "\n",
    "3 (жирная линия) - Median или медиана\n",
    "\n",
    "4 (крышка бочки) - 3rd Qu. или 3-й квартиль\n",
    "\n",
    "5 (верхний ус) - Максимальное значение или верхняя граница (иногда ниже чем выбросы)\n"
   ]
  },
  {
   "cell_type": "markdown",
   "metadata": {},
   "source": [
    "# plotly\n",
    "если реально нужно делать красиво!\n",
    "\n",
    "pip install cufflinks plotly\n",
    "\n",
    "pip install --upgrade plotly\n",
    "\n",
    "Это уже не надстройка над matplotlib, а самостоятельная библиотека\n",
    "\"Пакет plotly – библиотека с открытым исходным кодом, построенная на plotly.js, которая, в свою очередь, базируется на d3.js. В своих экспериментах с кодом будем использовать обертку над plotly cufflinks. Она упрощает работу с датафреймами pandas. Plotly – это графическая компания, производящая несколько продуктов и инструментов с открытым исходным кодом. Библиотека бесплатна для использования и позволяет создавать неограниченное количество графиков в автономном режиме, а также до 25 диаграмм онлайн.\"\n",
    "\n",
    "Подробнее тут: https://proglib.io/p/plotly"
   ]
  },
  {
   "cell_type": "code",
   "execution_count": null,
   "metadata": {},
   "outputs": [],
   "source": [
    "import plotly.graph_objects as go\n",
    "fig = go.Figure(\n",
    "    data=[go.Bar(y=[2, 1, 3])],\n",
    "    layout_title_text=\"A Figure Displayed with fig.show()\"\n",
    ")\n",
    "fig.show()"
   ]
  },
  {
   "cell_type": "code",
   "execution_count": null,
   "metadata": {},
   "outputs": [],
   "source": [
    "import plotly.express as px\n",
    "# This dataframe has 244 lines, but 4 distinct values for `day`\n",
    "df = px.data.tips()\n",
    "fig = px.pie(df, values='tip', names='day')\n",
    "fig.show()\n",
    "\n"
   ]
  },
  {
   "cell_type": "code",
   "execution_count": null,
   "metadata": {},
   "outputs": [],
   "source": [
    "import plotly.express as px\n",
    "tips = px.data.tips()\n",
    "fig = px.box(tips, y=\"total_bill\")\n",
    "fig.show()"
   ]
  },
  {
   "cell_type": "code",
   "execution_count": null,
   "metadata": {},
   "outputs": [],
   "source": [
    "\n",
    "from urllib.request import urlopen\n",
    "import json\n",
    "with urlopen('https://raw.githubusercontent.com/plotly/datasets/master/geojson-counties-fips.json') as response:\n",
    "    counties = json.load(response)\n",
    "\n",
    "import pandas as pd\n",
    "df = pd.read_csv(\"https://raw.githubusercontent.com/plotly/datasets/master/fips-unemp-16.csv\",\n",
    "                   dtype={\"fips\": str})\n",
    "\n",
    "import plotly.express as px\n",
    "\n",
    "fig = px.choropleth_mapbox(df, geojson=counties, locations='fips', color='unemp',\n",
    "                           color_continuous_scale=\"Viridis\", \n",
    "                           range_color=(0, 12),\n",
    "                           mapbox_style=\"carto-positron\",\n",
    "                           zoom=3, center = {\"lat\": 37.0902, \"lon\": -95.7129},\n",
    "                           opacity=0.5,\n",
    "                           labels={'unemp':'unemployment rate'}\n",
    "                          )\n",
    "fig.update_layout(margin={\"r\":0,\"t\":0,\"l\":0,\"b\":0})\n",
    "fig.show()\n",
    "\n"
   ]
  },
  {
   "cell_type": "markdown",
   "metadata": {},
   "source": [
    "### Bokeh"
   ]
  },
  {
   "cell_type": "markdown",
   "metadata": {},
   "source": [
    "\n",
    "\n",
    "Bokeh - это интерактивная библиотека визуализации Python, предназначенная для современных веб-браузеров для презентации. Его цель - обеспечить элегантное, сжатое построение новой графики в стиле D3.js и расширить эту возможность благодаря высокопроизводительной интерактивности по очень крупным или потоковым наборам данных.\n",
    "\n",
    "Bokeh может помочь всем, кто хочет быстро и легко создавать интерактивные сюжеты, панели мониторинга и приложения для передачи данных.\n",
    "\n"
   ]
  },
  {
   "cell_type": "markdown",
   "metadata": {},
   "source": [
    "!pip install bokeh"
   ]
  },
  {
   "cell_type": "markdown",
   "metadata": {},
   "source": [
    "    \n",
    "Основные этапы создания визуализаций с помощью интерфейса bokeh выглядят следующим образом:\n",
    "\n",
    "### 1) Подготовка данных\n",
    "\n",
    "Списки, массивы NumPy или Pandas Series (или словарные типы, в которыми значениями являются \n",
    "    \n",
    "### 2) Указать bokeh где сгенерировать результат\n",
    "\n",
    "2 опции: output_file() и output_notebook(). Первый способ создает html документ, второй создает график прямо в jupyter notebook\n",
    "    \n",
    "### 3) Вызвать метод figure()\n",
    "\n",
    "Этот метод создает график со стандартными настройками, которые можно расширять с помощью настроек title, tools, axes labels и т.д\n",
    "    \n",
    "### 4) Добавить рендеры \n",
    "   \n",
    "В этом случае мы используем метод line() для нащих данных, указывая настройки цветов, легенд и размеров\n",
    "    \n",
    "### 5) Указать параметр show() или save() для графиков\n",
    "save() - сохранение файла, show() - демонстрация "
   ]
  },
  {
   "cell_type": "markdown",
   "metadata": {},
   "source": [
    "https://docs.bokeh.org/en/latest/docs/user_guide/tools.html"
   ]
  },
  {
   "cell_type": "code",
   "execution_count": null,
   "metadata": {
    "scrolled": false
   },
   "outputs": [],
   "source": [
    "import pandas as pd\n",
    "from bokeh.plotting import figure, output_file, show\n",
    "from bokeh.models import ColumnDataSource\n",
    "from bokeh.io import output_notebook\n",
    "\n",
    "# prepare some data\n",
    "x = [0.1, 0.5, 1.0, 1.5, 2.0, 2.5, 3.0]\n",
    "y0 = [i**2 for i in x]\n",
    "y1 = [10**i for i in x]\n",
    "y2 = [10**(i**2) for i in x]\n",
    "\n",
    "# output to static HTML file\n",
    "output_file(\"log_lines.html\")\n",
    "output_notebook()\n",
    "\n",
    "# create a new plot\n",
    "p = figure(\n",
    "   tools=\"pan,zoom_in, zoom_out, reset,save\",\n",
    "   y_axis_type=\"log\", y_range=[0.001, 10**11], title=\"log axis example\",\n",
    "   x_axis_label='sections', y_axis_label='particles'\n",
    ")\n",
    "\n",
    "# add some renderers\n",
    "p.line(x, x, name=\"y=x\")\n",
    "p.circle(x, x, name=\"y=x\", fill_color=\"white\", size=8)\n",
    "p.line(x, y0, name=\"y=x^2\", line_width=3)\n",
    "p.line(x, y1, name=\"y=10^x\", line_color=\"red\")\n",
    "p.circle(x, y1, name=\"y=10^x\", fill_color=\"red\", line_color=\"red\", size=6)\n",
    "p.line(x, y2, name=\"y=10^x^2\", line_color=\"orange\", line_dash=\"4 4\")\n",
    "\n",
    "# show the results\n",
    "show(p)"
   ]
  },
  {
   "cell_type": "markdown",
   "metadata": {},
   "source": [
    "Указание источника данных в Bokeh\n",
    "\n",
    "from bokeh.models import ColumnDataSource\n"
   ]
  },
  {
   "cell_type": "code",
   "execution_count": null,
   "metadata": {},
   "outputs": [],
   "source": [
    "import pandas as pd\n",
    "from bokeh.plotting import figure, output_file, show\n",
    "from bokeh.models import ColumnDataSource\n",
    "from bokeh.io import output_notebook\n",
    "\n",
    "data = {'x_values': [1, 2, 3, 4, 5],\n",
    "        'y_values': [6, 7, 2, 3, 6]}\n",
    "\n",
    "source = ColumnDataSource(data=data)\n",
    "\n",
    "p = figure()\n",
    "p.circle(x='x_values', y='y_values', source=source)\n",
    "show(p)"
   ]
  },
  {
   "cell_type": "code",
   "execution_count": null,
   "metadata": {},
   "outputs": [],
   "source": [
    "\n",
    "# Read the csv files\n",
    "player_stats = pd.read_csv('https://raw.githubusercontent.com/alnagaev/python_lessons/master/2017-18_playerBoxScore.csv', parse_dates=['gmDate'])\n",
    "team_stats = pd.read_csv('https://raw.githubusercontent.com/alnagaev/python_lessons/master/2017-18_teamBoxScore.csv', parse_dates=['gmDate'])\n",
    "standings = pd.read_csv('https://raw.githubusercontent.com/alnagaev/python_lessons/master/2017-18_standings.csv', parse_dates=['stDate'])\n"
   ]
  },
  {
   "cell_type": "code",
   "execution_count": null,
   "metadata": {},
   "outputs": [],
   "source": [
    "west_top_2 = (standings[(standings['teamAbbr'] == 'HOU') | (standings['teamAbbr'] == 'GS')]\n",
    "               .loc[:, ['stDate', 'teamAbbr', 'gameWon']]\n",
    "               .sort_values(['teamAbbr','stDate']))\n",
    "west_top_2.head()"
   ]
  },
  {
   "cell_type": "code",
   "execution_count": null,
   "metadata": {
    "scrolled": true
   },
   "outputs": [],
   "source": [
    "# Bokeh libraries\n",
    "from bokeh.plotting import figure, show\n",
    "from bokeh.models import ColumnDataSource, CDSView, GroupFilter\n",
    "\n",
    "# Create a ColumnDataSource\n",
    "standings_cds = ColumnDataSource(standings)\n",
    "\n",
    "# Create the views for each team\n",
    "celtics_view = CDSView(source=standings_cds,\n",
    "                      filters=[GroupFilter(column_name='teamAbbr', \n",
    "                                           group='BOS')])\n",
    "\n",
    "raptors_view = CDSView(source=standings_cds,\n",
    "                      filters=[GroupFilter(column_name='teamAbbr', \n",
    "                                           group='TOR')])\n",
    "\n",
    "rockets_view = CDSView(source=standings_cds,\n",
    "                      filters=[GroupFilter(column_name='teamAbbr', \n",
    "                                           group='HOU')])\n",
    "warriors_view = CDSView(source=standings_cds,\n",
    "                      filters=[GroupFilter(column_name='teamAbbr', \n",
    "                                           group='GS')])\n",
    "\n",
    "# Create and configure the figure\n",
    "east_fig = figure(x_axis_type='datetime',\n",
    "                  plot_height=300,\n",
    "                  x_axis_label='Date',\n",
    "                  y_axis_label='Wins',\n",
    "                  toolbar_location=None)\n",
    "\n",
    "west_fig = figure(x_axis_type='datetime',\n",
    "                  plot_height=300,\n",
    "                  x_axis_label='Date',\n",
    "                  y_axis_label='Wins',\n",
    "                  toolbar_location=None)\n",
    "\n",
    "# Configure the figures for each conference\n",
    "east_fig.step('stDate', 'gameWon', \n",
    "              color='#007A33', legend='Celtics',\n",
    "              source=standings_cds, view=celtics_view)\n",
    "east_fig.step('stDate', 'gameWon', \n",
    "              color='#CE1141', legend='Raptors',\n",
    "              source=standings_cds, view=raptors_view)\n",
    "\n",
    "west_fig.step('stDate', 'gameWon', color='#CE1141', legend='Rockets',\n",
    "              source=standings_cds, view=rockets_view)\n",
    "west_fig.step('stDate', 'gameWon', color='#006BB6', legend='Warriors',\n",
    "              source=standings_cds, view=warriors_view)\n",
    "\n",
    "# Move the legend to the upper left corner\n",
    "east_fig.legend.location = 'top_left'\n",
    "west_fig.legend.location = 'top_left'\n",
    "\n",
    "# Layout code snippet goes here!\n",
    "from bokeh.layouts import column\n",
    "show(column(west_fig, east_fig))\n",
    "\n"
   ]
  },
  {
   "cell_type": "code",
   "execution_count": null,
   "metadata": {},
   "outputs": [],
   "source": [
    "from bokeh.models.widgets import Tabs, Panel\n",
    "output_file('east-west-top-2-tabbed_layout.html', \n",
    "            title='Conference Top 2 Teams Wins Race')\n",
    "\n",
    "east_fig.plot_width = west_fig.plot_width = 800\n",
    "\n",
    "# Create two panels, one for each conference\n",
    "east_panel = Panel(child=east_fig, title='Eastern Conference')\n",
    "west_panel = Panel(child=west_fig, title='Western Conference')\n",
    "\n",
    "tabs = Tabs(tabs=[west_panel, east_panel])\n",
    "\n",
    "show(tabs)"
   ]
  },
  {
   "cell_type": "markdown",
   "metadata": {},
   "source": [
    "### Боке сервер\n",
    "\n",
    "https://docs.bokeh.org/en/latest/docs/gallery.html#gallery-server-examples\n",
    "https://github.com/bokeh/bokeh/tree/master/examples/app"
   ]
  },
  {
   "cell_type": "code",
   "execution_count": null,
   "metadata": {},
   "outputs": [],
   "source": [
    "import os\n",
    "#вам нужно скачать репозиторий по ссылке и прописать к нему путь\n",
    "home = '/home/politlen/Documents'\n",
    "bokeh = '/home/politlen/Documents/bokeh/examples/app'\n",
    "os.chdir(bokeh)\n"
   ]
  },
  {
   "cell_type": "code",
   "execution_count": null,
   "metadata": {},
   "outputs": [],
   "source": [
    "!bokeh serve --show sliders.py"
   ]
  },
  {
   "cell_type": "code",
   "execution_count": null,
   "metadata": {},
   "outputs": [],
   "source": [
    "!ls"
   ]
  },
  {
   "cell_type": "markdown",
   "metadata": {},
   "source": [
    "# Спасибо за внимание, буду рад ответить на ваши вопросы! \n",
    "\n",
    "\n",
    "Полезные ссылки:\n",
    "https://exceltip.ru/%D0%BA%D0%B0%D0%BA-%D1%80%D0%B0%D1%81%D1%81%D1%87%D0%B8%D1%82%D0%B0%D1%82%D1%8C-%D0%BA%D0%BE%D1%8D%D1%84%D1%84%D0%B8%D1%86%D0%B8%D0%B5%D0%BD%D1%82-%D0%BA%D0%BE%D1%80%D1%80%D0%B5%D0%BB%D1%8F%D1%86/\n",
    "\n",
    "\n",
    "https://proglib.io/p/plotly \n",
    "\n",
    "https://nagornyy.me/courses/data-science/intro-to-seaborn/ \n",
    "\n",
    "https://pyprog.pro/mpl/mpl_main_components.html \n",
    "\n",
    "https://proglib.io/p/plotly \n",
    "\n",
    "https://nagornyy.me/courses/data-science/intro-to-seaborn/ \n",
    "\n",
    "https://python-scripts.com/matplotlib\n",
    "\n",
    "https://www.youtube.com/watch?v=UO98lJQ3QGI&t=612s отличный понятный туториал для тех кто знает английский\n",
    "\n",
    "https://docs.bokeh.org/en/latest/index.html - библиотека bokeh, ещё один мощный инструмент для визуализации данных\n",
    "\n",
    "https://www.stackshare.io/stackups/bokeh-vs-plotly"
   ]
  }
 ],
 "metadata": {
  "kernelspec": {
   "display_name": "Python 3",
   "language": "python",
   "name": "python3"
  },
  "language_info": {
   "codemirror_mode": {
    "name": "ipython",
    "version": 3
   },
   "file_extension": ".py",
   "mimetype": "text/x-python",
   "name": "python",
   "nbconvert_exporter": "python",
   "pygments_lexer": "ipython3",
   "version": "3.7.3"
  }
 },
 "nbformat": 4,
 "nbformat_minor": 2
}
