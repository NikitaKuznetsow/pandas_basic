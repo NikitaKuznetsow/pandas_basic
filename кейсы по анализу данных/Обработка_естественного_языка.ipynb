{
 "cells": [
  {
   "cell_type": "markdown",
   "metadata": {},
   "source": [
    "# Обработка естественного языка"
   ]
  },
  {
   "cell_type": "markdown",
   "metadata": {},
   "source": [
    "## TextBlob\n",
    "\n",
    "\n",
    "[TextBlob](https://textblob.readthedocs.io/en/latest/) — объектно-ориентированная библиотека NLP-обработки текста, построенная на базе NLP-библиотек NLTK и pattern и упрощающая некоторые аспекты их функциональности. Вот примеры операций NLP, которые можно\n",
    "выполнять при помощи TextBlob:\n",
    "- разбиение на лексемы — разбиение текста на содержательные блоки (например, слова и числа);\n",
    "- пометка частей речи — идентификация части речи каждого слова (существительное, глагол, прилагательное и т. д.);\n",
    "- извлечение именных конструкций — обнаружение групп слов, представляющих имена существительные;\n",
    "- анализ эмоциональной окраски — определение положительной, отрицательной или нейтральной окраски текста;\n",
    "- перевод на другие языки и распознавание языка на базе Google Translate;\n",
    "- формообразование — образование множественного и единственного числа. У формообразования существуют и другие аспекты, которые не поддерживаются TextBlob;\n",
    "- проверка орфографии и исправление ошибок;\n",
    "- выделение основы — исключение приставок, суффиксов и т. д.; например, при выделении основы из слова «varieties» будет получен результат\n",
    "«varieti»;\n",
    "- лемматизация — аналог выделения основы, но с формированием реальных слов на основании контекста исходных слов; например, результатом\n",
    "лемматизации «varieties» является слово «variety»;\n",
    "- определение частот слов — определение того, сколько раз каждое слово встречается в корпусе;\n",
    "- интеграция с WordNet для поиска определений слов, синонимов и антонимов;\n",
    "- устранение игнорируемых слов — исключение таких слов, как a, an, the, I, we, you и т. д., с целью анализа важных слов в корпусе;\n",
    "- n-граммы — построение множеств последовательно идущих слов в корпусе для выявления слов, часто располагающихся по соседству друг с другом."
   ]
  },
  {
   "cell_type": "markdown",
   "metadata": {},
   "source": [
    "Подобных модулей [много](https://nlpub.ru/%D0%9E%D0%B1%D1%80%D0%B0%D0%B1%D0%BE%D1%82%D0%BA%D0%B0_%D1%82%D0%B5%D0%BA%D1%81%D1%82%D0%B0)."
   ]
  },
  {
   "cell_type": "code",
   "execution_count": null,
   "metadata": {},
   "outputs": [],
   "source": [
    "# !conda install -c conda-forge textblob"
   ]
  },
  {
   "cell_type": "markdown",
   "metadata": {},
   "source": [
    "Пример перевода:"
   ]
  },
  {
   "cell_type": "code",
   "execution_count": 3,
   "metadata": {},
   "outputs": [
    {
     "name": "stdout",
     "output_type": "stream",
     "text": [
      "Listen! After all, if the stars are lit, it means that somebody needs it? So - someone wants them to be? So - someone calls these spit a pearl?\n"
     ]
    }
   ],
   "source": [
    "from textblob import TextBlob\n",
    "\n",
    "poem = 'Послушайте! Ведь, если звезды зажигают - значит - это кому-нибудь нужно? Значит - кто-то хочет, чтобы они были? Значит - кто-то называет эти плевочки жемчужиной?'\n",
    "\n",
    "blob = TextBlob(poem)\n",
    "print(blob.translate(to='en'))"
   ]
  },
  {
   "cell_type": "code",
   "execution_count": 4,
   "metadata": {},
   "outputs": [
    {
     "data": {
      "text/plain": [
       "TextBlob(\"Послушайте! Ведь, если звезды зажигают - значит - это кому-нибудь нужно? Значит - кто-то хочет, чтобы они были? Значит - кто-то называет эти плевочки жемчужиной?\")"
      ]
     },
     "execution_count": 4,
     "metadata": {},
     "output_type": "execute_result"
    }
   ],
   "source": [
    "blob"
   ]
  },
  {
   "cell_type": "markdown",
   "metadata": {},
   "source": [
    "Разбиение текста на предложения:"
   ]
  },
  {
   "cell_type": "code",
   "execution_count": 10,
   "metadata": {},
   "outputs": [
    {
     "data": {
      "text/plain": [
       "[Sentence(\"Послушайте!\"),\n",
       " Sentence(\"Ведь, если звезды зажигают - значит - это кому-нибудь нужно?\"),\n",
       " Sentence(\"Значит - кто-то хочет, чтобы они были?\"),\n",
       " Sentence(\"Значит - кто-то называет эти плевочки жемчужиной?\")]"
      ]
     },
     "execution_count": 10,
     "metadata": {},
     "output_type": "execute_result"
    }
   ],
   "source": [
    "blob.sentences"
   ]
  },
  {
   "cell_type": "code",
   "execution_count": 6,
   "metadata": {},
   "outputs": [
    {
     "data": {
      "text/plain": [
       "WordList(['Послушайте', 'Ведь', 'если', 'звезды', 'зажигают', 'значит', 'это', 'кому-нибудь', 'нужно', 'Значит', 'кто-то', 'хочет', 'чтобы', 'они', 'были', 'Значит', 'кто-то', 'называет', 'эти', 'плевочки', 'жемчужиной'])"
      ]
     },
     "execution_count": 6,
     "metadata": {},
     "output_type": "execute_result"
    }
   ],
   "source": [
    "blob.words"
   ]
  },
  {
   "cell_type": "markdown",
   "metadata": {},
   "source": [
    "Определение [частей речи](https://www.clips.uantwerpen.be/clips.bak/pages/mbsp-tags):"
   ]
  },
  {
   "cell_type": "code",
   "execution_count": 11,
   "metadata": {},
   "outputs": [
    {
     "data": {
      "text/plain": [
       "[('Послушайте', 'NN'),\n",
       " ('Ведь', 'NN'),\n",
       " ('если', 'NNP'),\n",
       " ('звезды', 'NNP'),\n",
       " ('зажигают', 'NNP'),\n",
       " ('значит', 'SYM'),\n",
       " ('это', 'JJ'),\n",
       " ('кому-нибудь', 'JJ'),\n",
       " ('нужно', 'NN'),\n",
       " ('Значит', 'LS'),\n",
       " ('кто-то', 'JJ'),\n",
       " ('хочет', 'NN'),\n",
       " ('чтобы', 'NNP'),\n",
       " ('они', 'NNP'),\n",
       " ('были', 'NNP'),\n",
       " ('Значит', 'LS'),\n",
       " ('кто-то', 'JJ'),\n",
       " ('называет', 'NN'),\n",
       " ('эти', 'NNP'),\n",
       " ('плевочки', 'NNP'),\n",
       " ('жемчужиной', 'NNP')]"
      ]
     },
     "execution_count": 11,
     "metadata": {},
     "output_type": "execute_result"
    }
   ],
   "source": [
    "blob.tags"
   ]
  },
  {
   "cell_type": "markdown",
   "metadata": {},
   "source": [
    "Извлечение именных конструкций:"
   ]
  },
  {
   "cell_type": "code",
   "execution_count": 12,
   "metadata": {},
   "outputs": [
    {
     "data": {
      "text/plain": [
       "WordList(['если звезды зажигают', 'это кому-нибудь нужно', 'кто-то хочет', 'чтобы они были', 'кто-то называет эти плевочки жемчужиной'])"
      ]
     },
     "execution_count": 12,
     "metadata": {},
     "output_type": "execute_result"
    }
   ],
   "source": [
    "blob.noun_phrases"
   ]
  },
  {
   "cell_type": "markdown",
   "metadata": {},
   "source": [
    "Анализ эмоциональной окраски:"
   ]
  },
  {
   "cell_type": "code",
   "execution_count": 13,
   "metadata": {},
   "outputs": [
    {
     "data": {
      "text/plain": [
       "Sentiment(polarity=0.0, subjectivity=0.0)"
      ]
     },
     "execution_count": 13,
     "metadata": {},
     "output_type": "execute_result"
    }
   ],
   "source": [
    "blob.sentiment"
   ]
  },
  {
   "cell_type": "markdown",
   "metadata": {},
   "source": [
    "В показанном выводе полярность (показатель polarity) означает эмоциональную окраску со значениями от -1.0 (отрицательная) до 1.0 (положительная); значение 0.0 соответствует нейтральной эмоциональной окраске. На основании данных TextBlob общая эмоциональная окраска близка к нейтральной, а текст в целом субъективен."
   ]
  },
  {
   "cell_type": "markdown",
   "metadata": {},
   "source": [
    "Получение эмоциональной окраски предложения:"
   ]
  },
  {
   "cell_type": "code",
   "execution_count": 14,
   "metadata": {},
   "outputs": [
    {
     "name": "stdout",
     "output_type": "stream",
     "text": [
      "Sentiment(polarity=0.0, subjectivity=0.0)\n",
      "Sentiment(polarity=0.0, subjectivity=0.0)\n",
      "Sentiment(polarity=0.0, subjectivity=0.0)\n",
      "Sentiment(polarity=0.0, subjectivity=0.0)\n"
     ]
    }
   ],
   "source": [
    "for sentence in blob.sentences:\n",
    "    print(sentence.sentiment)"
   ]
  },
  {
   "cell_type": "code",
   "execution_count": 15,
   "metadata": {},
   "outputs": [
    {
     "data": {
      "text/plain": [
       "'ru'"
      ]
     },
     "execution_count": 15,
     "metadata": {},
     "output_type": "execute_result"
    }
   ],
   "source": [
    "blob.detect_language()"
   ]
  },
  {
   "cell_type": "code",
   "execution_count": 16,
   "metadata": {},
   "outputs": [],
   "source": [
    "from textblob import Word"
   ]
  },
  {
   "cell_type": "code",
   "execution_count": 20,
   "metadata": {},
   "outputs": [],
   "source": [
    "word = Word('рыбаки')"
   ]
  },
  {
   "cell_type": "code",
   "execution_count": 21,
   "metadata": {},
   "outputs": [
    {
     "data": {
      "text/plain": [
       "'рыбаки'"
      ]
     },
     "execution_count": 21,
     "metadata": {},
     "output_type": "execute_result"
    }
   ],
   "source": [
    "word.stem()"
   ]
  },
  {
   "cell_type": "code",
   "execution_count": 22,
   "metadata": {},
   "outputs": [
    {
     "data": {
      "text/plain": [
       "'рыбаки'"
      ]
     },
     "execution_count": 22,
     "metadata": {},
     "output_type": "execute_result"
    }
   ],
   "source": [
    "word.lemmatize()"
   ]
  },
  {
   "cell_type": "code",
   "execution_count": null,
   "metadata": {},
   "outputs": [],
   "source": []
  }
 ],
 "metadata": {
  "kernelspec": {
   "display_name": "Python 3",
   "language": "python",
   "name": "python3"
  },
  "language_info": {
   "codemirror_mode": {
    "name": "ipython",
    "version": 3
   },
   "file_extension": ".py",
   "mimetype": "text/x-python",
   "name": "python",
   "nbconvert_exporter": "python",
   "pygments_lexer": "ipython3",
   "version": "3.8.3"
  }
 },
 "nbformat": 4,
 "nbformat_minor": 4
}
