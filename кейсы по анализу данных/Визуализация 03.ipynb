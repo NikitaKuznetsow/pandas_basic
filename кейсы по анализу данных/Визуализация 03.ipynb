{
 "cells": [
  {
   "cell_type": "markdown",
   "metadata": {},
   "source": [
    "### Пример проекта по визуализации геоданных\n",
    "\n",
    "Библиотеки, которые нам понадобились:\n",
    "\n",
    "**pandas** для сбора и анализа данных\n",
    "**geocoder** - для получения коорднат из названия стран\n",
    "**folium** - для нанесения данных на карту\n",
    "\n",
    "Установка:\n",
    "в пустой ячейке введите:\n",
    "!pip install geocoder folium\n",
    "\n",
    "\n",
    "https://proglib.io/p/python-web-map/\n",
    "пошаговая инструкция по фолиуму"
   ]
  },
  {
   "cell_type": "code",
   "execution_count": null,
   "metadata": {},
   "outputs": [],
   "source": [
    "import requests\n",
    "from bs4 import BeautifulSoup\n",
    "import pandas as pd\n",
    "\n",
    "r = requests.get('https://www.worldometers.info/coronavirus/')\n"
   ]
  },
  {
   "cell_type": "code",
   "execution_count": null,
   "metadata": {},
   "outputs": [],
   "source": [
    "df = pd.read_html('https://www.worldometers.info/coronavirus/')[0]"
   ]
  },
  {
   "cell_type": "code",
   "execution_count": null,
   "metadata": {},
   "outputs": [],
   "source": [
    "df"
   ]
  },
  {
   "cell_type": "code",
   "execution_count": null,
   "metadata": {},
   "outputs": [],
   "source": [
    "# import geocoder\n",
    "# lat = []\n",
    "# lng = []\n",
    "# for i in range(len(pickled)):\n",
    "#     g = geocoder.arcgis(pickled['Country,Other'].iloc[i])\n",
    "#     lat.append(g.json['lat'])\n",
    "#     lng.append(g.json['lng'])\n",
    "\n",
    "# pickled['lat'] = lat\n",
    "# pickled['lng'] = lng"
   ]
  },
  {
   "cell_type": "code",
   "execution_count": null,
   "metadata": {},
   "outputs": [],
   "source": [
    "import geocoder\n",
    "g = geocoder.arcgis('Russia')\n",
    "g.json"
   ]
  },
  {
   "cell_type": "code",
   "execution_count": null,
   "metadata": {},
   "outputs": [],
   "source": [
    "pickled = pd.read_csv(\"https://raw.githubusercontent.com/alnagaev/python_lessons/master/latlng.csv\")\n",
    "df['lat'] = pickled['lat']\n",
    "df['lng'] = pickled['lng'] "
   ]
  },
  {
   "cell_type": "code",
   "execution_count": null,
   "metadata": {
    "scrolled": true
   },
   "outputs": [],
   "source": [
    "df['ratio'] = round(df['TotalDeaths']/df['TotalCases']*100, 2)\n",
    "df[['Country,Other', 'ratio', ]].dropna().head()\n",
    "\n",
    " "
   ]
  },
  {
   "cell_type": "code",
   "execution_count": null,
   "metadata": {},
   "outputs": [],
   "source": [
    "from math import ceil\n",
    "def get_radius(rat):\n",
    "    if rat > 10:\n",
    "        return 10\n",
    "    elif rat < 1:\n",
    "        return 1\n",
    "    else:\n",
    "        return ceil(rat)"
   ]
  },
  {
   "cell_type": "code",
   "execution_count": null,
   "metadata": {},
   "outputs": [],
   "source": [
    "dropped = df[['Country,Other', 'ratio', 'lat', 'lng', 'TotalCases']].dropna()\n",
    "dropped['percent'] = round(dropped['TotalCases']/dropped['TotalCases'].sum(), 2)*100\n",
    "dropped['percent'].head()"
   ]
  },
  {
   "cell_type": "code",
   "execution_count": null,
   "metadata": {},
   "outputs": [],
   "source": [
    "import folium\n",
    "fol_map = folium.Map(location=[36.567348, 103.930027], zoom_start=2)\n",
    "for lat, lon, percent, total, country in zip(\n",
    "                            dropped['lat'].tolist(), \n",
    "                            dropped['lng'].tolist(), \n",
    "                            dropped['percent'].tolist(),\n",
    "                            dropped['TotalCases'].tolist(),\n",
    "                            dropped['Country,Other'].tolist()\n",
    "                                 ):\n",
    "    folium.CircleMarker(location=[lat, lon], radius = get_radius(percent), popup= str(country)+' ' + str(total)+\" total cases\").add_to(fol_map)"
   ]
  },
  {
   "cell_type": "code",
   "execution_count": null,
   "metadata": {},
   "outputs": [],
   "source": [
    "fol_map"
   ]
  }
 ],
 "metadata": {
  "kernelspec": {
   "display_name": "Python 3",
   "language": "python",
   "name": "python3"
  },
  "language_info": {
   "codemirror_mode": {
    "name": "ipython",
    "version": 3
   },
   "file_extension": ".py",
   "mimetype": "text/x-python",
   "name": "python",
   "nbconvert_exporter": "python",
   "pygments_lexer": "ipython3",
   "version": "3.7.3"
  }
 },
 "nbformat": 4,
 "nbformat_minor": 2
}
