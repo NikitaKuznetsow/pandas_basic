{
 "cells": [
  {
   "cell_type": "markdown",
   "metadata": {},
   "source": [
    "<a href=\"https://colab.research.google.com/github/dm-fedorov/pandas_basic/blob/master/кейсы%20по%20анализу%20данных/Работа%20с%20датами%2002.ipynb\" target=\"_blank\"><img align=\"left\" src=\"https://colab.research.google.com/assets/colab-badge.svg\" alt=\"Open in Colab\" title=\"Open and Execute in Google Colaboratory\"></a>"
   ]
  },
  {
   "cell_type": "markdown",
   "metadata": {},
   "source": [
    "Работа с датами — неотъемлемая часть решения многих аналитических задач. Некоторые инструменты, например, Excel, имеют встроенные инструменты по распознаванию дат в автоматическом режиме. Но не всегда даже эти инструменты дают корректный результат при работе с базами данных.\n",
    "\n",
    "Например, запись `01.12.17`, скорее всего, будет распознана как `1 декабря 2017 года`. Однако в американском стандарте записи дат это `12 января 2017 года`.\n",
    "\n",
    "Также многие выгрузки из систем и баз данных имеют свой служебный формат. Например, формат времени из разных систем может отличаться:"
   ]
  },
  {
   "cell_type": "markdown",
   "metadata": {},
   "source": [
    "* `2018-11-09 15:45:21`\n",
    "* `11/09/2018 3:45:20 PM`\n",
    "* `2018-11-09T15:45:21.2984`"
   ]
  },
  {
   "cell_type": "markdown",
   "metadata": {},
   "source": [
    "Для всех этих случаев необходимо задавать формат распознавания дат, уметь сравнивать их между собой. Также часто необходимо корректно прибавлять к датам разные временные интервалы. Например, час или день.\n",
    "\n",
    "Представим, что нам надо посчитать показатели рекламной кампании за определенный период. Например, для человека удобно дату начала и конца выгрузки задавать в формате строки:"
   ]
  },
  {
   "cell_type": "code",
   "execution_count": null,
   "metadata": {},
   "outputs": [],
   "source": [
    "startDate = '2017-12-01'\n",
    "endDate = '2017-12-31'"
   ]
  },
  {
   "cell_type": "markdown",
   "metadata": {},
   "source": [
    "Однако сейчас переменные `startDate` и `endDate` — просто строки, которые нельзя преобразовывать, как даты. Для этого необходимо сначала перевести их в специальный формат."
   ]
  },
  {
   "cell_type": "markdown",
   "metadata": {},
   "source": [
    "### БИБЛИОТЕКА DATETIME\n",
    "\n",
    "Будем работать с файлом [`data.tsv`](https://raw.githubusercontent.com/dm-fedorov/pandas_basic/master/data/data.tsv). В нем есть столбец `date`. \n",
    "\n",
    "Возьмем для примера первое значение в этом столбце:"
   ]
  },
  {
   "cell_type": "code",
   "execution_count": null,
   "metadata": {},
   "outputs": [],
   "source": [
    "date_string = '05.10.2016  23:18'"
   ]
  },
  {
   "cell_type": "markdown",
   "metadata": {},
   "source": [
    "Сейчас переменная `date_string` является просто строкой."
   ]
  },
  {
   "cell_type": "code",
   "execution_count": null,
   "metadata": {},
   "outputs": [],
   "source": [
    "type(date_string)"
   ]
  },
  {
   "cell_type": "markdown",
   "metadata": {},
   "source": [
    "Соответственно, сейчас мы не можем выполнять со строкой никаких операций. Например, прибавить к этой дате неделю или посчитать, к какому году она относится. Нам необходимо перевести эту дату в формат `datetime`. Для этого в Python есть библиотека с аналогичным названием `datetime`. \n",
    "\n",
    "Импортируем ее в наш скрипт:"
   ]
  },
  {
   "cell_type": "code",
   "execution_count": null,
   "metadata": {},
   "outputs": [],
   "source": [
    "import datetime"
   ]
  },
  {
   "cell_type": "markdown",
   "metadata": {},
   "source": [
    "На текущем занятии мы будем использовать из этой библиотеки следующие модули: `datetime` для распознавания формата дат и `timedelta` для прибавления к текущей дате определенный временной интервал. Нам придется вызывать эти модули следующим образом: `datetime.datetime` и `datetime.timedelta`, что достаточно громоздко. Чтобы сделать код более читабельным, давайте импортируем эти модули следующим образом:"
   ]
  },
  {
   "cell_type": "code",
   "execution_count": null,
   "metadata": {},
   "outputs": [],
   "source": [
    "from datetime import datetime, timedelta"
   ]
  },
  {
   "cell_type": "markdown",
   "metadata": {},
   "source": [
    "### ФОРМАТЫ ДАТЫ И ВРЕМЕНИ\n",
    "\n",
    "Чтобы перевести переменную `date_string` в формат даты и времени, необходимо указать, в каком формате записана наша переменная. Допустим, что в этом примере цифры значат следующее:"
   ]
  },
  {
   "cell_type": "markdown",
   "metadata": {},
   "source": [
    "* 05 - день\n",
    "* 10 - месяц\n",
    "* 2016 - год\n",
    "* 23 - часы\n",
    "* 18 - минуты"
   ]
  },
  {
   "cell_type": "markdown",
   "metadata": {},
   "source": [
    "В Python для каждого формата даты и времени есть свое обозначение. Например, чтобы указать формат `'часы в формате от 0 до 24'`, надо на [странице](https://docs.python.org/3/library/datetime.html) в таблице форматов (она в конце страницы) найти соответствующее обозначение — `'Hour (24-hour clock) as a zero-padded decimal number'`, т.е. `%H`.\n",
    "\n",
    "В этой таблице есть много форматов, даже на случаи обозначения дней недели, как `Sun`, `Mon` (первая строка таблицы) и использование `AM` и `PM`.\n",
    "\n",
    "Давайте расшифруем формат переменной `date_string`. Для этого используется метод `strptime`, который переводит переменную типа строка в переменную типа дата и время.\n",
    "\n",
    "В качестве первого аргумента ставим строковую переменную (`date_string`), потом указываем формат (при указании формата обязательно учитываем все точки и двоеточия):"
   ]
  },
  {
   "cell_type": "code",
   "execution_count": null,
   "metadata": {},
   "outputs": [],
   "source": [
    "date_string = '05.10.2016  23:18'\n",
    "datetime.strptime(date_string, '%d.%m.%Y %H:%M')"
   ]
  },
  {
   "cell_type": "markdown",
   "metadata": {},
   "source": [
    "Вывод `datetime.datetime(2016, 10, 5, 23, 18)` означает, что мы верно расшифровали формат. Если бы мы ошиблись, то получили бы ошибку:"
   ]
  },
  {
   "cell_type": "code",
   "execution_count": null,
   "metadata": {},
   "outputs": [],
   "source": [
    "#datetime.strptime(date_string, '%Y %H:%M')"
   ]
  },
  {
   "cell_type": "markdown",
   "metadata": {},
   "source": [
    "Запишем наш результат в переменную `date_datetime` и посмотрим, что с ней можно делать:"
   ]
  },
  {
   "cell_type": "code",
   "execution_count": null,
   "metadata": {},
   "outputs": [],
   "source": [
    "date_datetime = datetime.strptime(date_string, '%d.%m.%Y %H:%M')\n",
    "type(date_datetime)"
   ]
  },
  {
   "cell_type": "markdown",
   "metadata": {},
   "source": [
    "Теперь можем получать множество характеристик даты:"
   ]
  },
  {
   "cell_type": "code",
   "execution_count": null,
   "metadata": {},
   "outputs": [],
   "source": [
    "date_datetime.year # если хотим сгруппировать статистику покупок по году"
   ]
  },
  {
   "cell_type": "code",
   "execution_count": null,
   "metadata": {},
   "outputs": [],
   "source": [
    "date_datetime.hour # если строим отчет активности покупок по часам"
   ]
  },
  {
   "cell_type": "markdown",
   "metadata": {},
   "source": [
    "### Задание 1\n",
    "\n",
    "С помощью метода `datetime.strptime` переведите строку `'May 9 2017 9:00AM'` в формат `datetime`.\n",
    "\n",
    "Выделите и запишите номер часа в этой дате (в виде целого числа). Подсказка: у обозначения месяца `May` формат `%b`, у `AM` - `%p`"
   ]
  },
  {
   "cell_type": "code",
   "execution_count": null,
   "metadata": {},
   "outputs": [],
   "source": []
  },
  {
   "cell_type": "markdown",
   "metadata": {},
   "source": [
    "### ПРИБАВЛЕНИЕ ДНЕЙ\n",
    "\n",
    "Необходимость прибавлять временной интервал к дате очень часто встречается в самых разнообразных задачах. Например, при заборе данных из внешних источников с помощью API для каждого дня отдельно (для увеличения точности выгрузки).\n",
    "\n",
    "Допустим, у нас есть дата начала выгрузки `startDate`. Необходимо прибавить к этой дате день. Воспользуемся модулем `timedelta`."
   ]
  },
  {
   "cell_type": "code",
   "execution_count": null,
   "metadata": {},
   "outputs": [],
   "source": [
    "startDate = '2017-01-01'"
   ]
  },
  {
   "cell_type": "markdown",
   "metadata": {},
   "source": [
    "Переводим строковую переменную `startDate` в формат `datetime`:"
   ]
  },
  {
   "cell_type": "code",
   "execution_count": null,
   "metadata": {},
   "outputs": [],
   "source": [
    "startDate_datetime = datetime.strptime(startDate, '%Y-%m-%d')"
   ]
  },
  {
   "cell_type": "markdown",
   "metadata": {},
   "source": [
    "Теперь можем прибавлять к ней нужные временные интервалы с помощью `timedelta`:"
   ]
  },
  {
   "cell_type": "code",
   "execution_count": null,
   "metadata": {},
   "outputs": [],
   "source": [
    "startDate_datetime + timedelta(days=1)"
   ]
  },
  {
   "cell_type": "markdown",
   "metadata": {},
   "source": [
    "В результате получили `2 января 2017 года`. Посмотрим, что получится, если отнять от `startDate_datetime (от 1 января) 7 дней`:"
   ]
  },
  {
   "cell_type": "code",
   "execution_count": null,
   "metadata": {},
   "outputs": [],
   "source": [
    "startDate_datetime + timedelta(days=-7)"
   ]
  },
  {
   "cell_type": "markdown",
   "metadata": {},
   "source": [
    "### ПРИБАВЛЕНИЕ ВРЕМЕНИ\n",
    "\n",
    "Для увеличения даты и времени на определенное количество часов или минут просто меняем название параметра. Попробуем добавить к дате выгрузки 1 час:"
   ]
  },
  {
   "cell_type": "code",
   "execution_count": null,
   "metadata": {},
   "outputs": [],
   "source": [
    "startDate_datetime += timedelta(hours=1)\n",
    "startDate_datetime"
   ]
  },
  {
   "cell_type": "markdown",
   "metadata": {},
   "source": [
    "### Задание 2\n",
    "\n",
    "Возьмите дату из прошлого шага `'May 9 2017 9:00AM'`, переведите в формат `datetime` и прибавьте к ней час с помощью `timedelta`.\n",
    "\n",
    "Какой результат будет на экране в формате `datetime`? Ответ должен иметь вид `datetime.datetime(...)`"
   ]
  },
  {
   "cell_type": "code",
   "execution_count": null,
   "metadata": {},
   "outputs": [],
   "source": []
  },
  {
   "cell_type": "markdown",
   "metadata": {},
   "source": [
    "### ПЕРЕВОД DATETIME В СТРОКУ\n",
    "\n",
    "После вычислений с датами можно легко вернуть результат обратно в строку. Для этого воспользуемся методом `strftime`, указав в качестве аргумента желаемый формат:"
   ]
  },
  {
   "cell_type": "code",
   "execution_count": null,
   "metadata": {},
   "outputs": [],
   "source": [
    "startDate_datetime.strftime( '%Y-%m-%d %H:%M:%S' )"
   ]
  },
  {
   "cell_type": "markdown",
   "metadata": {},
   "source": [
    "### Задание 3\n",
    "\n",
    "Возьмите результат прошлого упражнения (прибавление часа к 9 мая) и запишите результат в формате `'%Y-%m-%d'`. Какой будет результат?"
   ]
  },
  {
   "cell_type": "code",
   "execution_count": null,
   "metadata": {},
   "outputs": [],
   "source": []
  },
  {
   "cell_type": "markdown",
   "metadata": {},
   "source": [
    "### ПОСТАНОВКА ЗАДАЧИ\n",
    "\n",
    "После того, как мы освоили работу с отдельными датами, давайте посмотрим, как работать с большим количеством дат. \n",
    "\n",
    "Для этого мы реализуем алгоритм, который по дате начала и конца выгрузки будет «пробегать» все значения по дням. Этот метод часто необходим при получении данных от внешних систем, а также обработки больших выгрузок частями. Например, по дням или по часам. Типичный пример — выгрузка сложных отчетов из Google Analytics по дням, чтобы уменьшить сэмплирование данных.\n",
    "\n",
    "В дальнейшем такой навык нам понадобится для определения покупательской активности по часам и дням или любой другой аналитики в больших файлах."
   ]
  },
  {
   "cell_type": "markdown",
   "metadata": {},
   "source": [
    "### ПОДГОТОВКА ПЕРЕМЕННЫХ\n",
    "\n",
    "Потренируемся на простом примере. Представим, что нам необходимо из огромной таблицы с данными за год выяснить показатели за новогодние праздники с 1 по 7 января, и научимся в этом шаге перебирать необходимые даты. \n",
    "\n",
    "Начальную и конечную дату будем задавать в удобном для человека строковом виде:"
   ]
  },
  {
   "cell_type": "code",
   "execution_count": null,
   "metadata": {},
   "outputs": [],
   "source": [
    "startDate = '2017-01-01'\n",
    "endDate = '2017-01-07'"
   ]
  },
  {
   "cell_type": "markdown",
   "metadata": {},
   "source": [
    "Поскольку нам надо в цикле работать с датами, то переведем строковые переменные в формат `datetime`:"
   ]
  },
  {
   "cell_type": "code",
   "execution_count": null,
   "metadata": {},
   "outputs": [],
   "source": [
    "startDate_datetime = datetime.strptime(startDate, '%Y-%m-%d')\n",
    "endDate_datetime = datetime.strptime(endDate, '%Y-%m-%d')\n",
    "print(startDate_datetime, endDate_datetime)"
   ]
  },
  {
   "cell_type": "markdown",
   "metadata": {},
   "source": [
    "### СОЗДАЕМ ЦИКЛ\n",
    "\n",
    "Заведем переменную `current_day`, которая в цикле будет изменяться от 1 до 7 января и будет иметь тип `datetime`. В первом шаге цикла эта переменная будет равна 1 января:"
   ]
  },
  {
   "cell_type": "code",
   "execution_count": null,
   "metadata": {},
   "outputs": [],
   "source": [
    "current_day = startDate_datetime"
   ]
  },
  {
   "cell_type": "markdown",
   "metadata": {},
   "source": [
    "Теперь в цикле будем увеличивать значение `current_day` на 1 день, пока ее значение не превысит дату конца выгрузки. Для составления таких циклов используется конструкция `while`. Этот цикл будет работать, пока указанное в нем условие выполняется. Простой пример для вывода нескольких чисел:"
   ]
  },
  {
   "cell_type": "code",
   "execution_count": null,
   "metadata": {},
   "outputs": [],
   "source": [
    "a = 1\n",
    "while a < 5:\n",
    "    print(a)    \n",
    "    a += 1"
   ]
  },
  {
   "cell_type": "markdown",
   "metadata": {},
   "source": [
    "Напишем точно такой же цикл, только заменим `a` на `current_day`, а число 5 на 7 января:"
   ]
  },
  {
   "cell_type": "code",
   "execution_count": null,
   "metadata": {},
   "outputs": [],
   "source": [
    "current_day = startDate_datetime\n",
    "while current_day <= endDate_datetime:\n",
    "    print(current_day)    \n",
    "    current_day += timedelta(days=1)"
   ]
  },
  {
   "cell_type": "markdown",
   "metadata": {},
   "source": [
    "Для удобства вывода заменим вывод `current_day` на более наглядный строковый эквивалент в формате даты:"
   ]
  },
  {
   "cell_type": "code",
   "execution_count": null,
   "metadata": {},
   "outputs": [],
   "source": [
    "current_day = startDate_datetime\n",
    "while current_day <= endDate_datetime:\n",
    "    print(current_day.strftime('%Y-%m-%d'))\n",
    "    current_day += timedelta(days=1)"
   ]
  },
  {
   "cell_type": "markdown",
   "metadata": {},
   "source": [
    "Итак, мы получили цикл, в котором переменная `current_day` «пробегает» между 1 и 7 января по дням."
   ]
  },
  {
   "cell_type": "markdown",
   "metadata": {},
   "source": [
    "### Задание 4\n",
    "\n",
    "Напишите алгоритм, который «пробегает» период 1 до 3 января включительно по часам. Формат вывода `'%Y-%m-%d %H:%M:%S'`.\n",
    "\n",
    "Какое значение будет последним для 2 января (т. е. 23 часа 2 января)? Результат должен иметь формат `%Y-%m-%d %H:%M:%S`"
   ]
  },
  {
   "cell_type": "code",
   "execution_count": null,
   "metadata": {},
   "outputs": [],
   "source": []
  },
  {
   "cell_type": "markdown",
   "metadata": {},
   "source": [
    "### ФУНКЦИЯ ДЛЯ РАБОТЫ\n",
    "\n",
    "Далее функция, которая сразу формирует список с датами в заданном диапазоне. Вы можете скопировать ее и использовать в работе. Пример работы функции приведен в ее описании: "
   ]
  },
  {
   "cell_type": "code",
   "execution_count": null,
   "metadata": {},
   "outputs": [],
   "source": [
    "def date_range(start_date, end_date):\n",
    "    \"\"\"\n",
    "    Возвращает список дат между start_date и end_date с шагом в день.\n",
    "    Если start_date > end_date, то возвращает пустой список. \n",
    "    Пример\n",
    "    date_range('2018-01-01', '2018-01-07')\n",
    "    [\n",
    "        '2018-01-01',\n",
    "        '2018-01-02',\n",
    "        '2018-01-03',\n",
    "        '2018-01-04',\n",
    "        '2018-01-05',\n",
    "        '2018-01-06',\n",
    "        '2018-01-07'\n",
    "    ]\n",
    "    \"\"\" \n",
    "    date_range_list = []\n",
    "    current_date = start_date  \n",
    "    current_date_dt = datetime.strptime(start_date, '%Y-%m-%d')\n",
    "    end_date_dt = datetime.strptime(end_date, '%Y-%m-%d')   \n",
    "    while current_date_dt <= end_date_dt:\n",
    "        date_range_list.append(current_date)        \n",
    "        current_date_dt += timedelta(days=1)\n",
    "        current_date = current_date_dt.strftime('%Y-%m-%d')    \n",
    "    return date_range_list"
   ]
  },
  {
   "cell_type": "markdown",
   "metadata": {},
   "source": [
    "### ПОСТАНОВКА ЗАДАЧИ\n",
    "\n",
    "Нам необходимо для пользователей из датасета [`data.tsv`](https://raw.githubusercontent.com/dm-fedorov/pandas_basic/master/data/data.tsv) посчитать метрику `lifetime`, т. е. среднее время жизни (с точки зрения покупок, конечно). Т. е. если пользователь сделал `2` и более заказа, то для него необходимо посчитать разницу во времени между первой и последней покупкой и, соответственно, усреднить эти значения для всех пользователей.\n",
    "\n",
    "Основной проблемой будет то, что время покупки у нас задано в виде строки. Соответственно, необходимо перевести эту дату в числа и считать разницу между первой и последней покупкой."
   ]
  },
  {
   "cell_type": "markdown",
   "metadata": {},
   "source": [
    "### ПЕРЕВОДИМ СТРОКИ В ДАТЫ\n",
    "Итак, посмотрим, как выглядят наши данные:"
   ]
  },
  {
   "cell_type": "code",
   "execution_count": null,
   "metadata": {},
   "outputs": [],
   "source": [
    "import pandas as pd\n",
    "data = pd.read_csv('https://raw.githubusercontent.com/dm-fedorov/pandas_basic/master/data/data.tsv', sep='\\t')\n",
    "data.head()"
   ]
  },
  {
   "cell_type": "markdown",
   "metadata": {},
   "source": [
    "Переведем столбец `date` в тип `datetime` с помощью функции:"
   ]
  },
  {
   "cell_type": "code",
   "execution_count": null,
   "metadata": {},
   "outputs": [],
   "source": [
    "def convert_to_datetime(row):\n",
    "    return datetime.strptime(row['date'], '%d.%m.%Y %H:%M')"
   ]
  },
  {
   "cell_type": "markdown",
   "metadata": {},
   "source": [
    "Проверяем результат:"
   ]
  },
  {
   "cell_type": "code",
   "execution_count": null,
   "metadata": {},
   "outputs": [],
   "source": [
    "data['datetime'] = data.apply(convert_to_datetime, axis=1)\n",
    "data.head()"
   ]
  },
  {
   "cell_type": "markdown",
   "metadata": {},
   "source": [
    "### ФОРМАТ UNIXTIME\n",
    "\n",
    "Для подсчета разницы в датах есть много методов. Одним из самых простых является перевод времени в формат `unixtime`. Он означает количество секунд, прошедшее с `1 января 1970 года`. Этот формат очень популярен и используется во многих системах. Попробуем использовать его для нашей задачи.\n",
    "\n",
    "Для перевод столбца `datetime` в unix-формат даты используем библиотеку `time` и следующую функцию:"
   ]
  },
  {
   "cell_type": "code",
   "execution_count": null,
   "metadata": {},
   "outputs": [],
   "source": [
    "import time\n",
    "def make_unix_time(row):\n",
    "    return time.mktime(row['datetime'].timetuple())"
   ]
  },
  {
   "cell_type": "markdown",
   "metadata": {},
   "source": [
    "Заведем столбец `unixtime` и посмотрим, что получилось:"
   ]
  },
  {
   "cell_type": "code",
   "execution_count": null,
   "metadata": {},
   "outputs": [],
   "source": [
    "data['unixtime'] = data.apply(make_unix_time, axis=1)\n",
    "data.head()"
   ]
  },
  {
   "cell_type": "markdown",
   "metadata": {},
   "source": [
    "Дальнейшие действия по расчету `lifetime` будут составлять самостоятельное задание."
   ]
  },
  {
   "cell_type": "markdown",
   "metadata": {},
   "source": [
    "### ЗАДАНИЕ\n",
    "Для завершения подсчета `lifetime` вам необходимо сделать следующее:\n",
    "\n",
    "1. Сгруппировать датафрейм data по столбцу user_id, посчитав для столбца unixtime максимальное и минимальное значение для каждого пользователя.\n",
    "2. Посчитать столбец diff с разностью максимального и минимального значения столбца unixtime из пункта 1.\n",
    "3. Исключить из расчета пользователей, у которых разница diff равна 0.\n",
    "4. Посчитать среднее значение столбца diff после фильтрации.\n",
    "5. Вы получите ответ в секундах. Пересчитайте его в количество дней."
   ]
  },
  {
   "cell_type": "markdown",
   "metadata": {},
   "source": [
    "Каково значение `lifetime` в днях? Результат округлите до первого знака после запятой."
   ]
  },
  {
   "cell_type": "code",
   "execution_count": null,
   "metadata": {},
   "outputs": [],
   "source": []
  }
 ],
 "metadata": {
  "kernelspec": {
   "display_name": "Python 3",
   "language": "python",
   "name": "python3"
  },
  "language_info": {
   "codemirror_mode": {
    "name": "ipython",
    "version": 3
   },
   "file_extension": ".py",
   "mimetype": "text/x-python",
   "name": "python",
   "nbconvert_exporter": "python",
   "pygments_lexer": "ipython3",
   "version": "3.8.3"
  },
  "widgets": {
   "application/vnd.jupyter.widget-state+json": {
    "state": {},
    "version_major": 2,
    "version_minor": 0
   }
  }
 },
 "nbformat": 4,
 "nbformat_minor": 4
}
