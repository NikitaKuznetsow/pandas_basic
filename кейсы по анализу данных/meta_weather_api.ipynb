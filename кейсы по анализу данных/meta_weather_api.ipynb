{
 "cells": [
  {
   "cell_type": "markdown",
   "metadata": {},
   "source": [
    "[MetaWeather](https://www.metaweather.com) - это автоматический агрегатор данных о погоде, который принимает прогнозы погоды от различных прогнозистов и вычисляет наиболее вероятный результат.\n",
    "\n",
    "Идея состоит в том, что объединенные знания прогнозистов произведут лучшее предсказание.\n",
    "\n",
    "**История**\n",
    "\n",
    "Я (Джейсон) собрался на свадьбу друга, которая была частично на улице в непредсказуемой Великобритании. При проверке прогноза погоды я задавался вопросом, должен ли я проверить другого прогнозиста, чтобы увидеть, что он предсказал. Этот процесс привел меня к проверке некоторых сайтов. Пара плохо написанных PHP-скриптов, неуклюжая база данных MySQL и несколько часов спустя я перебирал данные о погоде с нескольких сайтов.\n",
    "\n",
    "Я приступил к созданию внешнего интерфейса и с тех пор собрал около миллиарда точек прогнозов и данных наблюдений по состоянию на начало 2017 года. \n",
    "\n",
    "Далее пример работы с API сайта:"
   ]
  },
  {
   "cell_type": "code",
   "execution_count": 1,
   "metadata": {},
   "outputs": [],
   "source": [
    "import requests\n",
    "import pandas as pd\n",
    "from pprint import pprint as pp"
   ]
  },
  {
   "cell_type": "markdown",
   "metadata": {},
   "source": [
    "Пример получения прогноза погоды в Санкт-Петербурге на 24.09.2019\n",
    "\n",
    "Для начала узнаем ID города:"
   ]
  },
  {
   "cell_type": "code",
   "execution_count": 2,
   "metadata": {},
   "outputs": [],
   "source": [
    "json_city = requests.get(\"https://www.metaweather.com/api/location/search/?query=St Petersburg\").json()"
   ]
  },
  {
   "cell_type": "code",
   "execution_count": 3,
   "metadata": {},
   "outputs": [
    {
     "name": "stdout",
     "output_type": "stream",
     "text": [
      "[{'latt_long': '59.932739,30.306721',\n",
      "  'location_type': 'City',\n",
      "  'title': 'St Petersburg',\n",
      "  'woeid': 2123260}]\n"
     ]
    }
   ],
   "source": [
    "pp(json_city)"
   ]
  },
  {
   "cell_type": "code",
   "execution_count": 4,
   "metadata": {},
   "outputs": [],
   "source": [
    "ident = json_city[0][\"woeid\"]"
   ]
  },
  {
   "cell_type": "code",
   "execution_count": 5,
   "metadata": {},
   "outputs": [
    {
     "name": "stdout",
     "output_type": "stream",
     "text": [
      "2123260\n"
     ]
    }
   ],
   "source": [
    "print(ident)"
   ]
  },
  {
   "cell_type": "markdown",
   "metadata": {},
   "source": [
    "Запрос погоды для определенного дня возвращает историю прогноза, т.е. каким образом менялся прогноз за несколько дней.   \n",
    "Поле predictability показывает вероятность прогноза."
   ]
  },
  {
   "cell_type": "code",
   "execution_count": 6,
   "metadata": {},
   "outputs": [
    {
     "name": "stdout",
     "output_type": "stream",
     "text": [
      "[{'air_pressure': 999.9449999999999,\n",
      "  'applicable_date': '2019-10-01',\n",
      "  'created': '2019-10-01T19:23:07.818297Z',\n",
      "  'humidity': 79,\n",
      "  'id': 4847760010379264,\n",
      "  'max_temp': 21.355,\n",
      "  'min_temp': 15.834999999999999,\n",
      "  'predictability': 73,\n",
      "  'the_temp': 21.310000000000002,\n",
      "  'visibility': 11.45280312972242,\n",
      "  'weather_state_abbr': 's',\n",
      "  'weather_state_name': 'Showers',\n",
      "  'wind_direction': 256.08522687339917,\n",
      "  'wind_direction_compass': 'WSW',\n",
      "  'wind_speed': 8.42803344627376},\n",
      " {'air_pressure': 999.9449999999999,\n",
      "  'applicable_date': '2019-10-01',\n",
      "  'created': '2019-10-01T16:23:07.556882Z',\n",
      "  'humidity': 80,\n",
      "  'id': 6739161937608704,\n",
      "  'max_temp': 21.355,\n",
      "  'min_temp': 16.349999999999998,\n",
      "  'predictability': 75,\n",
      "  'the_temp': 21.310000000000002,\n",
      "  'visibility': 12.0449698759246,\n",
      "  'weather_state_abbr': 'lr',\n",
      "  'weather_state_name': 'Light Rain',\n",
      "  'wind_direction': 261.8041212567278,\n",
      "  'wind_direction_compass': 'W',\n",
      "  'wind_speed': 8.701366779607094},\n",
      " {'air_pressure': 999.185,\n",
      "  'applicable_date': '2019-10-01',\n",
      "  'created': '2019-10-01T13:23:07.541776Z',\n",
      "  'humidity': 82,\n",
      "  'id': 5732233094627328,\n",
      "  'max_temp': 17.85,\n",
      "  'min_temp': 15.175,\n",
      "  'predictability': 73,\n",
      "  'the_temp': 18.445,\n",
      "  'visibility': 12.0449698759246,\n",
      "  'weather_state_abbr': 's',\n",
      "  'weather_state_name': 'Showers',\n",
      "  'wind_direction': 239.48316504763488,\n",
      "  'wind_direction_compass': 'WSW',\n",
      "  'wind_speed': 9.094901868024072}]\n"
     ]
    }
   ],
   "source": [
    "pp(requests.get(\"https://www.metaweather.com/api/location/\"+ str(ident)+\"/2019/10/1/\").json()[:3])"
   ]
  },
  {
   "cell_type": "markdown",
   "metadata": {},
   "source": [
    "Данные на сайте собираются из разных источников. Можно посмотреть такие параметры, как атмосферное давление, максимальная и минимальная температура, скорость ветра, влажность, видимость и вероятность (предсказуемость) данного прогноза."
   ]
  },
  {
   "cell_type": "code",
   "execution_count": 7,
   "metadata": {},
   "outputs": [
    {
     "data": {
      "text/html": [
       "<div>\n",
       "<style scoped>\n",
       "    .dataframe tbody tr th:only-of-type {\n",
       "        vertical-align: middle;\n",
       "    }\n",
       "\n",
       "    .dataframe tbody tr th {\n",
       "        vertical-align: top;\n",
       "    }\n",
       "\n",
       "    .dataframe thead th {\n",
       "        text-align: right;\n",
       "    }\n",
       "</style>\n",
       "<table border=\"1\" class=\"dataframe\">\n",
       "  <thead>\n",
       "    <tr style=\"text-align: right;\">\n",
       "      <th></th>\n",
       "      <th>id</th>\n",
       "      <th>weather_state_name</th>\n",
       "      <th>weather_state_abbr</th>\n",
       "      <th>wind_direction_compass</th>\n",
       "      <th>created</th>\n",
       "      <th>applicable_date</th>\n",
       "      <th>min_temp</th>\n",
       "      <th>max_temp</th>\n",
       "      <th>the_temp</th>\n",
       "      <th>wind_speed</th>\n",
       "      <th>wind_direction</th>\n",
       "      <th>air_pressure</th>\n",
       "      <th>humidity</th>\n",
       "      <th>visibility</th>\n",
       "      <th>predictability</th>\n",
       "    </tr>\n",
       "  </thead>\n",
       "  <tbody>\n",
       "    <tr>\n",
       "      <th>0</th>\n",
       "      <td>6703566053965824</td>\n",
       "      <td>Light Cloud</td>\n",
       "      <td>lc</td>\n",
       "      <td>NNW</td>\n",
       "      <td>2019-09-24T19:21:08.322689Z</td>\n",
       "      <td>2019-09-24</td>\n",
       "      <td>14.275</td>\n",
       "      <td>18.170</td>\n",
       "      <td>18.520</td>\n",
       "      <td>4.018637</td>\n",
       "      <td>332.000000</td>\n",
       "      <td>1016.120</td>\n",
       "      <td>58</td>\n",
       "      <td>15.876655</td>\n",
       "      <td>70</td>\n",
       "    </tr>\n",
       "    <tr>\n",
       "      <th>1</th>\n",
       "      <td>5393326150778880</td>\n",
       "      <td>Light Cloud</td>\n",
       "      <td>lc</td>\n",
       "      <td>NNW</td>\n",
       "      <td>2019-09-24T16:20:08.045664Z</td>\n",
       "      <td>2019-09-24</td>\n",
       "      <td>14.275</td>\n",
       "      <td>18.130</td>\n",
       "      <td>18.520</td>\n",
       "      <td>3.981970</td>\n",
       "      <td>335.000000</td>\n",
       "      <td>1016.120</td>\n",
       "      <td>58</td>\n",
       "      <td>16.406685</td>\n",
       "      <td>70</td>\n",
       "    </tr>\n",
       "    <tr>\n",
       "      <th>2</th>\n",
       "      <td>5434643065077760</td>\n",
       "      <td>Light Cloud</td>\n",
       "      <td>lc</td>\n",
       "      <td>NE</td>\n",
       "      <td>2019-09-24T13:20:08.432191Z</td>\n",
       "      <td>2019-09-24</td>\n",
       "      <td>11.125</td>\n",
       "      <td>14.350</td>\n",
       "      <td>14.795</td>\n",
       "      <td>3.625717</td>\n",
       "      <td>34.500000</td>\n",
       "      <td>1015.985</td>\n",
       "      <td>60</td>\n",
       "      <td>16.406685</td>\n",
       "      <td>70</td>\n",
       "    </tr>\n",
       "    <tr>\n",
       "      <th>3</th>\n",
       "      <td>6560484050337792</td>\n",
       "      <td>Light Cloud</td>\n",
       "      <td>lc</td>\n",
       "      <td>NNW</td>\n",
       "      <td>2019-09-24T10:20:07.901292Z</td>\n",
       "      <td>2019-09-24</td>\n",
       "      <td>11.280</td>\n",
       "      <td>14.935</td>\n",
       "      <td>14.790</td>\n",
       "      <td>3.771442</td>\n",
       "      <td>345.072153</td>\n",
       "      <td>1015.985</td>\n",
       "      <td>61</td>\n",
       "      <td>15.540183</td>\n",
       "      <td>70</td>\n",
       "    </tr>\n",
       "    <tr>\n",
       "      <th>4</th>\n",
       "      <td>4943926895050752</td>\n",
       "      <td>Heavy Cloud</td>\n",
       "      <td>hc</td>\n",
       "      <td>N</td>\n",
       "      <td>2019-09-24T07:20:08.903720Z</td>\n",
       "      <td>2019-09-24</td>\n",
       "      <td>12.995</td>\n",
       "      <td>17.160</td>\n",
       "      <td>17.065</td>\n",
       "      <td>4.654204</td>\n",
       "      <td>352.000000</td>\n",
       "      <td>1016.995</td>\n",
       "      <td>60</td>\n",
       "      <td>16.962191</td>\n",
       "      <td>71</td>\n",
       "    </tr>\n",
       "  </tbody>\n",
       "</table>\n",
       "</div>"
      ],
      "text/plain": [
       "                 id weather_state_name weather_state_abbr  \\\n",
       "0  6703566053965824        Light Cloud                 lc   \n",
       "1  5393326150778880        Light Cloud                 lc   \n",
       "2  5434643065077760        Light Cloud                 lc   \n",
       "3  6560484050337792        Light Cloud                 lc   \n",
       "4  4943926895050752        Heavy Cloud                 hc   \n",
       "\n",
       "  wind_direction_compass                      created applicable_date  \\\n",
       "0                    NNW  2019-09-24T19:21:08.322689Z      2019-09-24   \n",
       "1                    NNW  2019-09-24T16:20:08.045664Z      2019-09-24   \n",
       "2                     NE  2019-09-24T13:20:08.432191Z      2019-09-24   \n",
       "3                    NNW  2019-09-24T10:20:07.901292Z      2019-09-24   \n",
       "4                      N  2019-09-24T07:20:08.903720Z      2019-09-24   \n",
       "\n",
       "   min_temp  max_temp  the_temp  wind_speed  wind_direction  air_pressure  \\\n",
       "0    14.275    18.170    18.520    4.018637      332.000000      1016.120   \n",
       "1    14.275    18.130    18.520    3.981970      335.000000      1016.120   \n",
       "2    11.125    14.350    14.795    3.625717       34.500000      1015.985   \n",
       "3    11.280    14.935    14.790    3.771442      345.072153      1015.985   \n",
       "4    12.995    17.160    17.065    4.654204      352.000000      1016.995   \n",
       "\n",
       "   humidity  visibility  predictability  \n",
       "0        58   15.876655              70  \n",
       "1        58   16.406685              70  \n",
       "2        60   16.406685              70  \n",
       "3        61   15.540183              70  \n",
       "4        60   16.962191              71  "
      ]
     },
     "execution_count": 7,
     "metadata": {},
     "output_type": "execute_result"
    }
   ],
   "source": [
    "pd.DataFrame(requests.get(\"https://www.metaweather.com/api/location/\"+ str(ident)+\"/2019/9/24/\").json()).head()"
   ]
  },
  {
   "cell_type": "markdown",
   "metadata": {},
   "source": [
    "## Задание"
   ]
  },
  {
   "cell_type": "markdown",
   "metadata": {},
   "source": [
    "Определите c помощью возможностей модуля *pandas* для города Санкт-Петербург в период с 24 по 27 сентября среднюю наиболее вероятную минимальную температуру."
   ]
  },
  {
   "cell_type": "code",
   "execution_count": null,
   "metadata": {},
   "outputs": [],
   "source": []
  }
 ],
 "metadata": {
  "kernelspec": {
   "display_name": "Python 3",
   "language": "python",
   "name": "python3"
  },
  "language_info": {
   "codemirror_mode": {
    "name": "ipython",
    "version": 3
   },
   "file_extension": ".py",
   "mimetype": "text/x-python",
   "name": "python",
   "nbconvert_exporter": "python",
   "pygments_lexer": "ipython3",
   "version": "3.7.3"
  }
 },
 "nbformat": 4,
 "nbformat_minor": 2
}
