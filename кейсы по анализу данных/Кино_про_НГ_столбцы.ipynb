{
 "cells": [
  {
   "cell_type": "markdown",
   "metadata": {},
   "source": [
    "<a href=\"https://colab.research.google.com/github/dm-fedorov/pandas_basic/blob/master/кейсы%20по%20анализу%20данных/Кино_про_НГ_столбцы.ipynb\" target=\"_blank\"><img align=\"left\" src=\"https://colab.research.google.com/assets/colab-badge.svg\" alt=\"Open in Colab\" title=\"Open and Execute in Google Colaboratory\"></a>"
   ]
  },
  {
   "cell_type": "code",
   "execution_count": 1,
   "metadata": {},
   "outputs": [],
   "source": [
    "import numpy as np\n",
    "import pandas as pd"
   ]
  },
  {
   "cell_type": "code",
   "execution_count": 2,
   "metadata": {},
   "outputs": [],
   "source": [
    "url = \"https://raw.githubusercontent.com/dm-fedorov/pandas_basic/master/data/new_year_film.csv\""
   ]
  },
  {
   "cell_type": "code",
   "execution_count": 3,
   "metadata": {},
   "outputs": [
    {
     "data": {
      "text/html": [
       "<div>\n",
       "<style scoped>\n",
       "    .dataframe tbody tr th:only-of-type {\n",
       "        vertical-align: middle;\n",
       "    }\n",
       "\n",
       "    .dataframe tbody tr th {\n",
       "        vertical-align: top;\n",
       "    }\n",
       "\n",
       "    .dataframe thead th {\n",
       "        text-align: right;\n",
       "    }\n",
       "</style>\n",
       "<table border=\"1\" class=\"dataframe\">\n",
       "  <thead>\n",
       "    <tr style=\"text-align: right;\">\n",
       "      <th></th>\n",
       "      <th>country</th>\n",
       "      <th>time</th>\n",
       "      <th>ranking</th>\n",
       "      <th>type</th>\n",
       "      <th>year</th>\n",
       "      <th>director</th>\n",
       "    </tr>\n",
       "    <tr>\n",
       "      <th>name</th>\n",
       "      <th></th>\n",
       "      <th></th>\n",
       "      <th></th>\n",
       "      <th></th>\n",
       "      <th></th>\n",
       "      <th></th>\n",
       "    </tr>\n",
       "  </thead>\n",
       "  <tbody>\n",
       "    <tr>\n",
       "      <th>Невеста</th>\n",
       "      <td>Россия</td>\n",
       "      <td>74</td>\n",
       "      <td>7,66</td>\n",
       "      <td>фильм</td>\n",
       "      <td>2006</td>\n",
       "      <td>Билли Уайлдер</td>\n",
       "    </tr>\n",
       "    <tr>\n",
       "      <th>Кто приходит в зимний вечер</th>\n",
       "      <td>Россия</td>\n",
       "      <td>90</td>\n",
       "      <td>6,038</td>\n",
       "      <td>фильм</td>\n",
       "      <td>2006</td>\n",
       "      <td>Билли Уайлдер</td>\n",
       "    </tr>\n",
       "    <tr>\n",
       "      <th>Моя мама Снегурочка</th>\n",
       "      <td>Россия</td>\n",
       "      <td>90</td>\n",
       "      <td>6,828</td>\n",
       "      <td>фильм</td>\n",
       "      <td>2007</td>\n",
       "      <td>Билли Уайлдер</td>\n",
       "    </tr>\n",
       "    <tr>\n",
       "      <th>Набережная Орфевр</th>\n",
       "      <td>Франция</td>\n",
       "      <td>106</td>\n",
       "      <td>7,597</td>\n",
       "      <td>фильм</td>\n",
       "      <td>1947</td>\n",
       "      <td>Билли Уайлдер</td>\n",
       "    </tr>\n",
       "    <tr>\n",
       "      <th>Лузер</th>\n",
       "      <td>Россия</td>\n",
       "      <td>104</td>\n",
       "      <td>6,065</td>\n",
       "      <td>фильм</td>\n",
       "      <td>2007</td>\n",
       "      <td>Билли Уайлдер</td>\n",
       "    </tr>\n",
       "  </tbody>\n",
       "</table>\n",
       "</div>"
      ],
      "text/plain": [
       "                             country  time ranking   type  year       director\n",
       "name                                                                          \n",
       "Невеста                       Россия    74    7,66  фильм  2006  Билли Уайлдер\n",
       "Кто приходит в зимний вечер   Россия    90   6,038  фильм  2006  Билли Уайлдер\n",
       "Моя мама Снегурочка           Россия    90   6,828  фильм  2007  Билли Уайлдер\n",
       "Набережная Орфевр            Франция   106   7,597  фильм  1947  Билли Уайлдер\n",
       "Лузер                         Россия   104   6,065  фильм  2007  Билли Уайлдер"
      ]
     },
     "execution_count": 3,
     "metadata": {},
     "output_type": "execute_result"
    }
   ],
   "source": [
    "df_kino = pd.read_csv(url, index_col='name')\n",
    "df_kino.head()"
   ]
  },
  {
   "cell_type": "markdown",
   "metadata": {},
   "source": [
    "### Переименование столбцов"
   ]
  },
  {
   "cell_type": "markdown",
   "metadata": {},
   "source": [
    "[Примеры из официальной документации](https://pandas.pydata.org/pandas-docs/stable/user_guide/basics.html#basics-rename)"
   ]
  },
  {
   "cell_type": "markdown",
   "metadata": {},
   "source": [
    "Полезно, когда хотим убрать пробелы из названий столбцов.\n",
    "\n",
    "Программный код возращает копию датафрейма с переименованным столбцом ([pandas.DataFrame.rename](https://pandas.pydata.org/pandas-docs/stable/reference/api/pandas.DataFrame.rename.html))."
   ]
  },
  {
   "cell_type": "code",
   "execution_count": 4,
   "metadata": {},
   "outputs": [
    {
     "data": {
      "text/html": [
       "<div>\n",
       "<style scoped>\n",
       "    .dataframe tbody tr th:only-of-type {\n",
       "        vertical-align: middle;\n",
       "    }\n",
       "\n",
       "    .dataframe tbody tr th {\n",
       "        vertical-align: top;\n",
       "    }\n",
       "\n",
       "    .dataframe thead th {\n",
       "        text-align: right;\n",
       "    }\n",
       "</style>\n",
       "<table border=\"1\" class=\"dataframe\">\n",
       "  <thead>\n",
       "    <tr style=\"text-align: right;\">\n",
       "      <th></th>\n",
       "      <th>country</th>\n",
       "      <th>time_film</th>\n",
       "      <th>ranking</th>\n",
       "      <th>type</th>\n",
       "      <th>year</th>\n",
       "      <th>director</th>\n",
       "    </tr>\n",
       "    <tr>\n",
       "      <th>name</th>\n",
       "      <th></th>\n",
       "      <th></th>\n",
       "      <th></th>\n",
       "      <th></th>\n",
       "      <th></th>\n",
       "      <th></th>\n",
       "    </tr>\n",
       "  </thead>\n",
       "  <tbody>\n",
       "    <tr>\n",
       "      <th>Невеста</th>\n",
       "      <td>Россия</td>\n",
       "      <td>74</td>\n",
       "      <td>7,66</td>\n",
       "      <td>фильм</td>\n",
       "      <td>2006</td>\n",
       "      <td>Билли Уайлдер</td>\n",
       "    </tr>\n",
       "    <tr>\n",
       "      <th>Кто приходит в зимний вечер</th>\n",
       "      <td>Россия</td>\n",
       "      <td>90</td>\n",
       "      <td>6,038</td>\n",
       "      <td>фильм</td>\n",
       "      <td>2006</td>\n",
       "      <td>Билли Уайлдер</td>\n",
       "    </tr>\n",
       "  </tbody>\n",
       "</table>\n",
       "</div>"
      ],
      "text/plain": [
       "                            country  time_film ranking   type  year  \\\n",
       "name                                                                  \n",
       "Невеста                      Россия         74    7,66  фильм  2006   \n",
       "Кто приходит в зимний вечер  Россия         90   6,038  фильм  2006   \n",
       "\n",
       "                                  director  \n",
       "name                                        \n",
       "Невеста                      Билли Уайлдер  \n",
       "Кто приходит в зимний вечер  Билли Уайлдер  "
      ]
     },
     "execution_count": 4,
     "metadata": {},
     "output_type": "execute_result"
    }
   ],
   "source": [
    "kino_rename = df_kino.rename(columns={'time': 'time_film'})\n",
    "kino_rename.head(2)"
   ]
  },
  {
   "cell_type": "code",
   "execution_count": 5,
   "metadata": {},
   "outputs": [
    {
     "data": {
      "text/html": [
       "<div>\n",
       "<style scoped>\n",
       "    .dataframe tbody tr th:only-of-type {\n",
       "        vertical-align: middle;\n",
       "    }\n",
       "\n",
       "    .dataframe tbody tr th {\n",
       "        vertical-align: top;\n",
       "    }\n",
       "\n",
       "    .dataframe thead th {\n",
       "        text-align: right;\n",
       "    }\n",
       "</style>\n",
       "<table border=\"1\" class=\"dataframe\">\n",
       "  <thead>\n",
       "    <tr style=\"text-align: right;\">\n",
       "      <th></th>\n",
       "      <th>country_film</th>\n",
       "      <th>time_film</th>\n",
       "      <th>ranking</th>\n",
       "      <th>type</th>\n",
       "      <th>year</th>\n",
       "      <th>director</th>\n",
       "    </tr>\n",
       "    <tr>\n",
       "      <th>name</th>\n",
       "      <th></th>\n",
       "      <th></th>\n",
       "      <th></th>\n",
       "      <th></th>\n",
       "      <th></th>\n",
       "      <th></th>\n",
       "    </tr>\n",
       "  </thead>\n",
       "  <tbody>\n",
       "    <tr>\n",
       "      <th>Невеста</th>\n",
       "      <td>Россия</td>\n",
       "      <td>74</td>\n",
       "      <td>7,66</td>\n",
       "      <td>фильм</td>\n",
       "      <td>2006</td>\n",
       "      <td>Билли Уайлдер</td>\n",
       "    </tr>\n",
       "    <tr>\n",
       "      <th>Кто приходит в зимний вечер</th>\n",
       "      <td>Россия</td>\n",
       "      <td>90</td>\n",
       "      <td>6,038</td>\n",
       "      <td>фильм</td>\n",
       "      <td>2006</td>\n",
       "      <td>Билли Уайлдер</td>\n",
       "    </tr>\n",
       "  </tbody>\n",
       "</table>\n",
       "</div>"
      ],
      "text/plain": [
       "                            country_film  time_film ranking   type  year  \\\n",
       "name                                                                       \n",
       "Невеста                           Россия         74    7,66  фильм  2006   \n",
       "Кто приходит в зимний вечер       Россия         90   6,038  фильм  2006   \n",
       "\n",
       "                                  director  \n",
       "name                                        \n",
       "Невеста                      Билли Уайлдер  \n",
       "Кто приходит в зимний вечер  Билли Уайлдер  "
      ]
     },
     "execution_count": 5,
     "metadata": {},
     "output_type": "execute_result"
    }
   ],
   "source": [
    "kino_rename = df_kino.rename(columns={'time': 'time_film', 'country':'country_film'})\n",
    "kino_rename.head(2)"
   ]
  },
  {
   "cell_type": "markdown",
   "metadata": {},
   "source": [
    "Переименовывает столбец \"на месте\":"
   ]
  },
  {
   "cell_type": "code",
   "execution_count": 6,
   "metadata": {},
   "outputs": [
    {
     "data": {
      "text/plain": [
       "Index(['country', 'time_film', 'ranking', 'type', 'year', 'director'], dtype='object')"
      ]
     },
     "execution_count": 6,
     "metadata": {},
     "output_type": "execute_result"
    }
   ],
   "source": [
    "df_kino.rename(columns={'time': 'time_film'},                   \n",
    "               inplace=True)  \n",
    "df_kino.columns"
   ]
  },
  {
   "cell_type": "markdown",
   "metadata": {},
   "source": [
    "### Добавление новых столбцов с помощью оператора [] и метода .insert()"
   ]
  },
  {
   "cell_type": "code",
   "execution_count": 7,
   "metadata": {},
   "outputs": [],
   "source": [
    "kino_copy = df_kino.copy()"
   ]
  },
  {
   "cell_type": "markdown",
   "metadata": {},
   "source": [
    "Переводим столбец со строками в числа с плавающей точкой:"
   ]
  },
  {
   "cell_type": "code",
   "execution_count": 8,
   "metadata": {},
   "outputs": [
    {
     "data": {
      "text/plain": [
       "name\n",
       "Невеста                                             7.660\n",
       "Кто приходит в зимний вечер                         6.038\n",
       "Моя мама Снегурочка                                 6.828\n",
       "Набережная Орфевр                                   7.597\n",
       "Лузер                                               6.065\n",
       "                                                    ...  \n",
       "Карнавальная ночь                                   7.929\n",
       "Квартира                                            8.021\n",
       "Когда зажигаются елки                               7.940\n",
       "Кошмар перед Рождеством                             8.049\n",
       "Красавица и чудовище: Чудесное Рождество (видео)    6.814\n",
       "Name: ranking, Length: 150, dtype: float64"
      ]
     },
     "execution_count": 8,
     "metadata": {},
     "output_type": "execute_result"
    }
   ],
   "source": [
    "kino_copy.ranking = kino_copy.ranking.str.replace(',','.')\n",
    "kino_copy.ranking = kino_copy.ranking.astype(float)\n",
    "kino_copy.ranking"
   ]
  },
  {
   "cell_type": "markdown",
   "metadata": {},
   "source": [
    "Добавляем столбец, содержащий округленную оценку рейтинга:"
   ]
  },
  {
   "cell_type": "code",
   "execution_count": 9,
   "metadata": {},
   "outputs": [
    {
     "data": {
      "text/html": [
       "<div>\n",
       "<style scoped>\n",
       "    .dataframe tbody tr th:only-of-type {\n",
       "        vertical-align: middle;\n",
       "    }\n",
       "\n",
       "    .dataframe tbody tr th {\n",
       "        vertical-align: top;\n",
       "    }\n",
       "\n",
       "    .dataframe thead th {\n",
       "        text-align: right;\n",
       "    }\n",
       "</style>\n",
       "<table border=\"1\" class=\"dataframe\">\n",
       "  <thead>\n",
       "    <tr style=\"text-align: right;\">\n",
       "      <th></th>\n",
       "      <th>country</th>\n",
       "      <th>time_film</th>\n",
       "      <th>ranking</th>\n",
       "      <th>type</th>\n",
       "      <th>year</th>\n",
       "      <th>director</th>\n",
       "      <th>rounded_ranking</th>\n",
       "    </tr>\n",
       "    <tr>\n",
       "      <th>name</th>\n",
       "      <th></th>\n",
       "      <th></th>\n",
       "      <th></th>\n",
       "      <th></th>\n",
       "      <th></th>\n",
       "      <th></th>\n",
       "      <th></th>\n",
       "    </tr>\n",
       "  </thead>\n",
       "  <tbody>\n",
       "    <tr>\n",
       "      <th>Невеста</th>\n",
       "      <td>Россия</td>\n",
       "      <td>74</td>\n",
       "      <td>7.660</td>\n",
       "      <td>фильм</td>\n",
       "      <td>2006</td>\n",
       "      <td>Билли Уайлдер</td>\n",
       "      <td>8.0</td>\n",
       "    </tr>\n",
       "    <tr>\n",
       "      <th>Кто приходит в зимний вечер</th>\n",
       "      <td>Россия</td>\n",
       "      <td>90</td>\n",
       "      <td>6.038</td>\n",
       "      <td>фильм</td>\n",
       "      <td>2006</td>\n",
       "      <td>Билли Уайлдер</td>\n",
       "      <td>6.0</td>\n",
       "    </tr>\n",
       "  </tbody>\n",
       "</table>\n",
       "</div>"
      ],
      "text/plain": [
       "                            country  time_film  ranking   type  year  \\\n",
       "name                                                                   \n",
       "Невеста                      Россия         74    7.660  фильм  2006   \n",
       "Кто приходит в зимний вечер  Россия         90    6.038  фильм  2006   \n",
       "\n",
       "                                  director  rounded_ranking  \n",
       "name                                                         \n",
       "Невеста                      Билли Уайлдер              8.0  \n",
       "Кто приходит в зимний вечер  Билли Уайлдер              6.0  "
      ]
     },
     "execution_count": 9,
     "metadata": {},
     "output_type": "execute_result"
    }
   ],
   "source": [
    "kino_copy['rounded_ranking'] = kino_copy.ranking.round()\n",
    "kino_copy.head(2)"
   ]
  },
  {
   "cell_type": "code",
   "execution_count": 10,
   "metadata": {},
   "outputs": [],
   "source": [
    "kino_copy = df_kino.copy()"
   ]
  },
  {
   "cell_type": "markdown",
   "metadata": {},
   "source": [
    "Заменяем содержимое столбца:"
   ]
  },
  {
   "cell_type": "code",
   "execution_count": 11,
   "metadata": {},
   "outputs": [],
   "source": [
    "kino_copy.ranking = kino_copy.ranking.str.replace(',','.')\n",
    "kino_copy.ranking = kino_copy.ranking.astype(float)"
   ]
  },
  {
   "cell_type": "markdown",
   "metadata": {},
   "source": [
    "Вставляем столбец rounded_ranking в качестве второго столбца датафрейма:"
   ]
  },
  {
   "cell_type": "code",
   "execution_count": 12,
   "metadata": {},
   "outputs": [
    {
     "data": {
      "text/html": [
       "<div>\n",
       "<style scoped>\n",
       "    .dataframe tbody tr th:only-of-type {\n",
       "        vertical-align: middle;\n",
       "    }\n",
       "\n",
       "    .dataframe tbody tr th {\n",
       "        vertical-align: top;\n",
       "    }\n",
       "\n",
       "    .dataframe thead th {\n",
       "        text-align: right;\n",
       "    }\n",
       "</style>\n",
       "<table border=\"1\" class=\"dataframe\">\n",
       "  <thead>\n",
       "    <tr style=\"text-align: right;\">\n",
       "      <th></th>\n",
       "      <th>country</th>\n",
       "      <th>rounded_ranking</th>\n",
       "      <th>time_film</th>\n",
       "      <th>ranking</th>\n",
       "      <th>type</th>\n",
       "      <th>year</th>\n",
       "      <th>director</th>\n",
       "    </tr>\n",
       "    <tr>\n",
       "      <th>name</th>\n",
       "      <th></th>\n",
       "      <th></th>\n",
       "      <th></th>\n",
       "      <th></th>\n",
       "      <th></th>\n",
       "      <th></th>\n",
       "      <th></th>\n",
       "    </tr>\n",
       "  </thead>\n",
       "  <tbody>\n",
       "    <tr>\n",
       "      <th>Невеста</th>\n",
       "      <td>Россия</td>\n",
       "      <td>8.0</td>\n",
       "      <td>74</td>\n",
       "      <td>7.660</td>\n",
       "      <td>фильм</td>\n",
       "      <td>2006</td>\n",
       "      <td>Билли Уайлдер</td>\n",
       "    </tr>\n",
       "    <tr>\n",
       "      <th>Кто приходит в зимний вечер</th>\n",
       "      <td>Россия</td>\n",
       "      <td>6.0</td>\n",
       "      <td>90</td>\n",
       "      <td>6.038</td>\n",
       "      <td>фильм</td>\n",
       "      <td>2006</td>\n",
       "      <td>Билли Уайлдер</td>\n",
       "    </tr>\n",
       "  </tbody>\n",
       "</table>\n",
       "</div>"
      ],
      "text/plain": [
       "                            country  rounded_ranking  time_film  ranking  \\\n",
       "name                                                                       \n",
       "Невеста                      Россия              8.0         74    7.660   \n",
       "Кто приходит в зимний вечер  Россия              6.0         90    6.038   \n",
       "\n",
       "                              type  year       director  \n",
       "name                                                     \n",
       "Невеста                      фильм  2006  Билли Уайлдер  \n",
       "Кто приходит в зимний вечер  фильм  2006  Билли Уайлдер  "
      ]
     },
     "execution_count": 12,
     "metadata": {},
     "output_type": "execute_result"
    }
   ],
   "source": [
    "kino_copy.insert(1, 'rounded_ranking', kino_copy.ranking.round())\n",
    "kino_copy.head(2)"
   ]
  },
  {
   "cell_type": "markdown",
   "metadata": {},
   "source": [
    "### Добавление столбцов за счет расширения датафрейма"
   ]
  },
  {
   "cell_type": "code",
   "execution_count": 13,
   "metadata": {},
   "outputs": [],
   "source": [
    "kino_copy = df_kino[:3].copy()"
   ]
  },
  {
   "cell_type": "markdown",
   "metadata": {},
   "source": [
    "Добавляем столбец с нулевыми значениями:"
   ]
  },
  {
   "cell_type": "code",
   "execution_count": 14,
   "metadata": {},
   "outputs": [
    {
     "data": {
      "text/html": [
       "<div>\n",
       "<style scoped>\n",
       "    .dataframe tbody tr th:only-of-type {\n",
       "        vertical-align: middle;\n",
       "    }\n",
       "\n",
       "    .dataframe tbody tr th {\n",
       "        vertical-align: top;\n",
       "    }\n",
       "\n",
       "    .dataframe thead th {\n",
       "        text-align: right;\n",
       "    }\n",
       "</style>\n",
       "<table border=\"1\" class=\"dataframe\">\n",
       "  <thead>\n",
       "    <tr style=\"text-align: right;\">\n",
       "      <th></th>\n",
       "      <th>country</th>\n",
       "      <th>time_film</th>\n",
       "      <th>ranking</th>\n",
       "      <th>type</th>\n",
       "      <th>year</th>\n",
       "      <th>director</th>\n",
       "      <th>imdb</th>\n",
       "    </tr>\n",
       "    <tr>\n",
       "      <th>name</th>\n",
       "      <th></th>\n",
       "      <th></th>\n",
       "      <th></th>\n",
       "      <th></th>\n",
       "      <th></th>\n",
       "      <th></th>\n",
       "      <th></th>\n",
       "    </tr>\n",
       "  </thead>\n",
       "  <tbody>\n",
       "    <tr>\n",
       "      <th>Невеста</th>\n",
       "      <td>Россия</td>\n",
       "      <td>74</td>\n",
       "      <td>7,66</td>\n",
       "      <td>фильм</td>\n",
       "      <td>2006</td>\n",
       "      <td>Билли Уайлдер</td>\n",
       "      <td>0</td>\n",
       "    </tr>\n",
       "    <tr>\n",
       "      <th>Кто приходит в зимний вечер</th>\n",
       "      <td>Россия</td>\n",
       "      <td>90</td>\n",
       "      <td>6,038</td>\n",
       "      <td>фильм</td>\n",
       "      <td>2006</td>\n",
       "      <td>Билли Уайлдер</td>\n",
       "      <td>0</td>\n",
       "    </tr>\n",
       "    <tr>\n",
       "      <th>Моя мама Снегурочка</th>\n",
       "      <td>Россия</td>\n",
       "      <td>90</td>\n",
       "      <td>6,828</td>\n",
       "      <td>фильм</td>\n",
       "      <td>2007</td>\n",
       "      <td>Билли Уайлдер</td>\n",
       "      <td>0</td>\n",
       "    </tr>\n",
       "  </tbody>\n",
       "</table>\n",
       "</div>"
      ],
      "text/plain": [
       "                            country  time_film ranking   type  year  \\\n",
       "name                                                                  \n",
       "Невеста                      Россия         74    7,66  фильм  2006   \n",
       "Кто приходит в зимний вечер  Россия         90   6,038  фильм  2006   \n",
       "Моя мама Снегурочка          Россия         90   6,828  фильм  2007   \n",
       "\n",
       "                                  director  imdb  \n",
       "name                                              \n",
       "Невеста                      Билли Уайлдер     0  \n",
       "Кто приходит в зимний вечер  Билли Уайлдер     0  \n",
       "Моя мама Снегурочка          Билли Уайлдер     0  "
      ]
     },
     "execution_count": 14,
     "metadata": {},
     "output_type": "execute_result"
    }
   ],
   "source": [
    "kino_copy.loc[:,'imdb'] = 0 \n",
    "kino_copy"
   ]
  },
  {
   "cell_type": "code",
   "execution_count": 15,
   "metadata": {},
   "outputs": [],
   "source": [
    "kino_copy = df_kino[:3].copy()"
   ]
  },
  {
   "cell_type": "markdown",
   "metadata": {},
   "source": [
    "Добавляем новый столбец со случайно сгенерированными значениями:"
   ]
  },
  {
   "cell_type": "code",
   "execution_count": 16,
   "metadata": {},
   "outputs": [
    {
     "data": {
      "text/html": [
       "<div>\n",
       "<style scoped>\n",
       "    .dataframe tbody tr th:only-of-type {\n",
       "        vertical-align: middle;\n",
       "    }\n",
       "\n",
       "    .dataframe tbody tr th {\n",
       "        vertical-align: top;\n",
       "    }\n",
       "\n",
       "    .dataframe thead th {\n",
       "        text-align: right;\n",
       "    }\n",
       "</style>\n",
       "<table border=\"1\" class=\"dataframe\">\n",
       "  <thead>\n",
       "    <tr style=\"text-align: right;\">\n",
       "      <th></th>\n",
       "      <th>country</th>\n",
       "      <th>time_film</th>\n",
       "      <th>ranking</th>\n",
       "      <th>type</th>\n",
       "      <th>year</th>\n",
       "      <th>director</th>\n",
       "      <th>imdb</th>\n",
       "    </tr>\n",
       "    <tr>\n",
       "      <th>name</th>\n",
       "      <th></th>\n",
       "      <th></th>\n",
       "      <th></th>\n",
       "      <th></th>\n",
       "      <th></th>\n",
       "      <th></th>\n",
       "      <th></th>\n",
       "    </tr>\n",
       "  </thead>\n",
       "  <tbody>\n",
       "    <tr>\n",
       "      <th>Невеста</th>\n",
       "      <td>Россия</td>\n",
       "      <td>74</td>\n",
       "      <td>7,66</td>\n",
       "      <td>фильм</td>\n",
       "      <td>2006</td>\n",
       "      <td>Билли Уайлдер</td>\n",
       "      <td>3</td>\n",
       "    </tr>\n",
       "    <tr>\n",
       "      <th>Кто приходит в зимний вечер</th>\n",
       "      <td>Россия</td>\n",
       "      <td>90</td>\n",
       "      <td>6,038</td>\n",
       "      <td>фильм</td>\n",
       "      <td>2006</td>\n",
       "      <td>Билли Уайлдер</td>\n",
       "      <td>3</td>\n",
       "    </tr>\n",
       "    <tr>\n",
       "      <th>Моя мама Снегурочка</th>\n",
       "      <td>Россия</td>\n",
       "      <td>90</td>\n",
       "      <td>6,828</td>\n",
       "      <td>фильм</td>\n",
       "      <td>2007</td>\n",
       "      <td>Билли Уайлдер</td>\n",
       "      <td>3</td>\n",
       "    </tr>\n",
       "  </tbody>\n",
       "</table>\n",
       "</div>"
      ],
      "text/plain": [
       "                            country  time_film ranking   type  year  \\\n",
       "name                                                                  \n",
       "Невеста                      Россия         74    7,66  фильм  2006   \n",
       "Кто приходит в зимний вечер  Россия         90   6,038  фильм  2006   \n",
       "Моя мама Снегурочка          Россия         90   6,828  фильм  2007   \n",
       "\n",
       "                                  director  imdb  \n",
       "name                                              \n",
       "Невеста                      Билли Уайлдер     3  \n",
       "Кто приходит в зимний вечер  Билли Уайлдер     3  \n",
       "Моя мама Снегурочка          Билли Уайлдер     3  "
      ]
     },
     "execution_count": 16,
     "metadata": {},
     "output_type": "execute_result"
    }
   ],
   "source": [
    "kino_copy.loc[:,'imdb'] = pd.Series(np.random.randint(1, 10), index=kino_copy.index) # индекс должен совпадать\n",
    "kino_copy"
   ]
  },
  {
   "cell_type": "markdown",
   "metadata": {},
   "source": [
    "### Переупорядочивание столбцов"
   ]
  },
  {
   "cell_type": "markdown",
   "metadata": {},
   "source": [
    "Возвращаем новый объект со столбцами в обратном порядке:"
   ]
  },
  {
   "cell_type": "code",
   "execution_count": 17,
   "metadata": {},
   "outputs": [
    {
     "data": {
      "text/plain": [
       "Index(['director', 'year', 'type', 'ranking', 'time_film', 'country'], dtype='object')"
      ]
     },
     "execution_count": 17,
     "metadata": {},
     "output_type": "execute_result"
    }
   ],
   "source": [
    "df_kino.columns[::-1]"
   ]
  },
  {
   "cell_type": "code",
   "execution_count": 18,
   "metadata": {},
   "outputs": [
    {
     "data": {
      "text/html": [
       "<div>\n",
       "<style scoped>\n",
       "    .dataframe tbody tr th:only-of-type {\n",
       "        vertical-align: middle;\n",
       "    }\n",
       "\n",
       "    .dataframe tbody tr th {\n",
       "        vertical-align: top;\n",
       "    }\n",
       "\n",
       "    .dataframe thead th {\n",
       "        text-align: right;\n",
       "    }\n",
       "</style>\n",
       "<table border=\"1\" class=\"dataframe\">\n",
       "  <thead>\n",
       "    <tr style=\"text-align: right;\">\n",
       "      <th></th>\n",
       "      <th>director</th>\n",
       "      <th>year</th>\n",
       "      <th>type</th>\n",
       "      <th>ranking</th>\n",
       "      <th>time_film</th>\n",
       "      <th>country</th>\n",
       "    </tr>\n",
       "    <tr>\n",
       "      <th>name</th>\n",
       "      <th></th>\n",
       "      <th></th>\n",
       "      <th></th>\n",
       "      <th></th>\n",
       "      <th></th>\n",
       "      <th></th>\n",
       "    </tr>\n",
       "  </thead>\n",
       "  <tbody>\n",
       "    <tr>\n",
       "      <th>Невеста</th>\n",
       "      <td>Билли Уайлдер</td>\n",
       "      <td>2006</td>\n",
       "      <td>фильм</td>\n",
       "      <td>7,66</td>\n",
       "      <td>74</td>\n",
       "      <td>Россия</td>\n",
       "    </tr>\n",
       "    <tr>\n",
       "      <th>Кто приходит в зимний вечер</th>\n",
       "      <td>Билли Уайлдер</td>\n",
       "      <td>2006</td>\n",
       "      <td>фильм</td>\n",
       "      <td>6,038</td>\n",
       "      <td>90</td>\n",
       "      <td>Россия</td>\n",
       "    </tr>\n",
       "    <tr>\n",
       "      <th>Моя мама Снегурочка</th>\n",
       "      <td>Билли Уайлдер</td>\n",
       "      <td>2007</td>\n",
       "      <td>фильм</td>\n",
       "      <td>6,828</td>\n",
       "      <td>90</td>\n",
       "      <td>Россия</td>\n",
       "    </tr>\n",
       "    <tr>\n",
       "      <th>Набережная Орфевр</th>\n",
       "      <td>Билли Уайлдер</td>\n",
       "      <td>1947</td>\n",
       "      <td>фильм</td>\n",
       "      <td>7,597</td>\n",
       "      <td>106</td>\n",
       "      <td>Франция</td>\n",
       "    </tr>\n",
       "    <tr>\n",
       "      <th>Лузер</th>\n",
       "      <td>Билли Уайлдер</td>\n",
       "      <td>2007</td>\n",
       "      <td>фильм</td>\n",
       "      <td>6,065</td>\n",
       "      <td>104</td>\n",
       "      <td>Россия</td>\n",
       "    </tr>\n",
       "  </tbody>\n",
       "</table>\n",
       "</div>"
      ],
      "text/plain": [
       "                                  director  year   type ranking  time_film  \\\n",
       "name                                                                         \n",
       "Невеста                      Билли Уайлдер  2006  фильм    7,66         74   \n",
       "Кто приходит в зимний вечер  Билли Уайлдер  2006  фильм   6,038         90   \n",
       "Моя мама Снегурочка          Билли Уайлдер  2007  фильм   6,828         90   \n",
       "Набережная Орфевр            Билли Уайлдер  1947  фильм   7,597        106   \n",
       "Лузер                        Билли Уайлдер  2007  фильм   6,065        104   \n",
       "\n",
       "                             country  \n",
       "name                                  \n",
       "Невеста                       Россия  \n",
       "Кто приходит в зимний вечер   Россия  \n",
       "Моя мама Снегурочка           Россия  \n",
       "Набережная Орфевр            Франция  \n",
       "Лузер                         Россия  "
      ]
     },
     "execution_count": 18,
     "metadata": {},
     "output_type": "execute_result"
    }
   ],
   "source": [
    "df_kino[df_kino.columns[::-1]].head()"
   ]
  },
  {
   "cell_type": "markdown",
   "metadata": {},
   "source": [
    "### Удаление столбцов"
   ]
  },
  {
   "cell_type": "markdown",
   "metadata": {},
   "source": [
    "Пример использования del для удаления столбца \"на месте\": "
   ]
  },
  {
   "cell_type": "code",
   "execution_count": 19,
   "metadata": {},
   "outputs": [
    {
     "data": {
      "text/html": [
       "<div>\n",
       "<style scoped>\n",
       "    .dataframe tbody tr th:only-of-type {\n",
       "        vertical-align: middle;\n",
       "    }\n",
       "\n",
       "    .dataframe tbody tr th {\n",
       "        vertical-align: top;\n",
       "    }\n",
       "\n",
       "    .dataframe thead th {\n",
       "        text-align: right;\n",
       "    }\n",
       "</style>\n",
       "<table border=\"1\" class=\"dataframe\">\n",
       "  <thead>\n",
       "    <tr style=\"text-align: right;\">\n",
       "      <th></th>\n",
       "      <th>country</th>\n",
       "      <th>time_film</th>\n",
       "      <th>ranking</th>\n",
       "      <th>type</th>\n",
       "      <th>year</th>\n",
       "    </tr>\n",
       "    <tr>\n",
       "      <th>name</th>\n",
       "      <th></th>\n",
       "      <th></th>\n",
       "      <th></th>\n",
       "      <th></th>\n",
       "      <th></th>\n",
       "    </tr>\n",
       "  </thead>\n",
       "  <tbody>\n",
       "    <tr>\n",
       "      <th>Невеста</th>\n",
       "      <td>Россия</td>\n",
       "      <td>74</td>\n",
       "      <td>7,66</td>\n",
       "      <td>фильм</td>\n",
       "      <td>2006</td>\n",
       "    </tr>\n",
       "    <tr>\n",
       "      <th>Кто приходит в зимний вечер</th>\n",
       "      <td>Россия</td>\n",
       "      <td>90</td>\n",
       "      <td>6,038</td>\n",
       "      <td>фильм</td>\n",
       "      <td>2006</td>\n",
       "    </tr>\n",
       "  </tbody>\n",
       "</table>\n",
       "</div>"
      ],
      "text/plain": [
       "                            country  time_film ranking   type  year\n",
       "name                                                               \n",
       "Невеста                      Россия         74    7,66  фильм  2006\n",
       "Кто приходит в зимний вечер  Россия         90   6,038  фильм  2006"
      ]
     },
     "execution_count": 19,
     "metadata": {},
     "output_type": "execute_result"
    }
   ],
   "source": [
    "kino_copy = df_kino.copy()\n",
    "del kino_copy['director']\n",
    "kino_copy.head(2)"
   ]
  },
  {
   "cell_type": "markdown",
   "metadata": {},
   "source": [
    "Пример использования drop для удаления столбца из датафрейма:"
   ]
  },
  {
   "cell_type": "code",
   "execution_count": 20,
   "metadata": {},
   "outputs": [],
   "source": [
    "kino_copy = df_kino.copy()"
   ]
  },
  {
   "cell_type": "markdown",
   "metadata": {},
   "source": [
    "Эта строка вернет новый датафрейм с удаленным столбцом 'director' копия датафрейма не изменится:"
   ]
  },
  {
   "cell_type": "code",
   "execution_count": 21,
   "metadata": {},
   "outputs": [
    {
     "data": {
      "text/html": [
       "<div>\n",
       "<style scoped>\n",
       "    .dataframe tbody tr th:only-of-type {\n",
       "        vertical-align: middle;\n",
       "    }\n",
       "\n",
       "    .dataframe tbody tr th {\n",
       "        vertical-align: top;\n",
       "    }\n",
       "\n",
       "    .dataframe thead th {\n",
       "        text-align: right;\n",
       "    }\n",
       "</style>\n",
       "<table border=\"1\" class=\"dataframe\">\n",
       "  <thead>\n",
       "    <tr style=\"text-align: right;\">\n",
       "      <th></th>\n",
       "      <th>country</th>\n",
       "      <th>time_film</th>\n",
       "      <th>ranking</th>\n",
       "      <th>type</th>\n",
       "      <th>year</th>\n",
       "    </tr>\n",
       "    <tr>\n",
       "      <th>name</th>\n",
       "      <th></th>\n",
       "      <th></th>\n",
       "      <th></th>\n",
       "      <th></th>\n",
       "      <th></th>\n",
       "    </tr>\n",
       "  </thead>\n",
       "  <tbody>\n",
       "    <tr>\n",
       "      <th>Невеста</th>\n",
       "      <td>Россия</td>\n",
       "      <td>74</td>\n",
       "      <td>7,66</td>\n",
       "      <td>фильм</td>\n",
       "      <td>2006</td>\n",
       "    </tr>\n",
       "    <tr>\n",
       "      <th>Кто приходит в зимний вечер</th>\n",
       "      <td>Россия</td>\n",
       "      <td>90</td>\n",
       "      <td>6,038</td>\n",
       "      <td>фильм</td>\n",
       "      <td>2006</td>\n",
       "    </tr>\n",
       "    <tr>\n",
       "      <th>Моя мама Снегурочка</th>\n",
       "      <td>Россия</td>\n",
       "      <td>90</td>\n",
       "      <td>6,828</td>\n",
       "      <td>фильм</td>\n",
       "      <td>2007</td>\n",
       "    </tr>\n",
       "    <tr>\n",
       "      <th>Набережная Орфевр</th>\n",
       "      <td>Франция</td>\n",
       "      <td>106</td>\n",
       "      <td>7,597</td>\n",
       "      <td>фильм</td>\n",
       "      <td>1947</td>\n",
       "    </tr>\n",
       "    <tr>\n",
       "      <th>Лузер</th>\n",
       "      <td>Россия</td>\n",
       "      <td>104</td>\n",
       "      <td>6,065</td>\n",
       "      <td>фильм</td>\n",
       "      <td>2007</td>\n",
       "    </tr>\n",
       "  </tbody>\n",
       "</table>\n",
       "</div>"
      ],
      "text/plain": [
       "                             country  time_film ranking   type  year\n",
       "name                                                                \n",
       "Невеста                       Россия         74    7,66  фильм  2006\n",
       "Кто приходит в зимний вечер   Россия         90   6,038  фильм  2006\n",
       "Моя мама Снегурочка           Россия         90   6,828  фильм  2007\n",
       "Набережная Орфевр            Франция        106   7,597  фильм  1947\n",
       "Лузер                         Россия        104   6,065  фильм  2007"
      ]
     },
     "execution_count": 21,
     "metadata": {},
     "output_type": "execute_result"
    }
   ],
   "source": [
    "afterdrop = kino_copy.drop(['director'], axis=1) # axis=0 для строки\n",
    "afterdrop.head(5)"
   ]
  },
  {
   "cell_type": "markdown",
   "metadata": {},
   "source": [
    "Рассмотрим работу метода pop():"
   ]
  },
  {
   "cell_type": "code",
   "execution_count": 22,
   "metadata": {},
   "outputs": [],
   "source": [
    "kino_copy = df_kino.copy()"
   ]
  },
  {
   "cell_type": "code",
   "execution_count": 23,
   "metadata": {},
   "outputs": [
    {
     "data": {
      "text/plain": [
       "name\n",
       "Невеста                                             Билли Уайлдер\n",
       "Кто приходит в зимний вечер                         Билли Уайлдер\n",
       "Моя мама Снегурочка                                 Билли Уайлдер\n",
       "Набережная Орфевр                                   Билли Уайлдер\n",
       "Лузер                                               Билли Уайлдер\n",
       "                                                        ...      \n",
       "Карнавальная ночь                                             NaN\n",
       "Квартира                                                      NaN\n",
       "Когда зажигаются елки                                         NaN\n",
       "Кошмар перед Рождеством                                       NaN\n",
       "Красавица и чудовище: Чудесное Рождество (видео)              NaN\n",
       "Name: director, Length: 150, dtype: object"
      ]
     },
     "execution_count": 23,
     "metadata": {},
     "output_type": "execute_result"
    }
   ],
   "source": [
    "popped = kino_copy.pop('director')\n",
    "popped # можем взглянуть на удаленные столбцы"
   ]
  },
  {
   "cell_type": "markdown",
   "metadata": {},
   "source": [
    "### Присоединение строк из других объектов DataFrame с помощью метода .append()"
   ]
  },
  {
   "cell_type": "markdown",
   "metadata": {},
   "source": [
    "Документация [pandas.DataFrame.append](https://pandas.pydata.org/pandas-docs/stable/reference/api/pandas.DataFrame.append.html)"
   ]
  },
  {
   "cell_type": "code",
   "execution_count": 24,
   "metadata": {},
   "outputs": [
    {
     "data": {
      "text/html": [
       "<div>\n",
       "<style scoped>\n",
       "    .dataframe tbody tr th:only-of-type {\n",
       "        vertical-align: middle;\n",
       "    }\n",
       "\n",
       "    .dataframe tbody tr th {\n",
       "        vertical-align: top;\n",
       "    }\n",
       "\n",
       "    .dataframe thead th {\n",
       "        text-align: right;\n",
       "    }\n",
       "</style>\n",
       "<table border=\"1\" class=\"dataframe\">\n",
       "  <thead>\n",
       "    <tr style=\"text-align: right;\">\n",
       "      <th></th>\n",
       "      <th>country</th>\n",
       "      <th>time_film</th>\n",
       "      <th>ranking</th>\n",
       "      <th>type</th>\n",
       "      <th>year</th>\n",
       "      <th>director</th>\n",
       "    </tr>\n",
       "    <tr>\n",
       "      <th>name</th>\n",
       "      <th></th>\n",
       "      <th></th>\n",
       "      <th></th>\n",
       "      <th></th>\n",
       "      <th></th>\n",
       "      <th></th>\n",
       "    </tr>\n",
       "  </thead>\n",
       "  <tbody>\n",
       "    <tr>\n",
       "      <th>Невеста</th>\n",
       "      <td>Россия</td>\n",
       "      <td>74</td>\n",
       "      <td>7,66</td>\n",
       "      <td>фильм</td>\n",
       "      <td>2006</td>\n",
       "      <td>Билли Уайлдер</td>\n",
       "    </tr>\n",
       "    <tr>\n",
       "      <th>Кто приходит в зимний вечер</th>\n",
       "      <td>Россия</td>\n",
       "      <td>90</td>\n",
       "      <td>6,038</td>\n",
       "      <td>фильм</td>\n",
       "      <td>2006</td>\n",
       "      <td>Билли Уайлдер</td>\n",
       "    </tr>\n",
       "    <tr>\n",
       "      <th>Моя мама Снегурочка</th>\n",
       "      <td>Россия</td>\n",
       "      <td>90</td>\n",
       "      <td>6,828</td>\n",
       "      <td>фильм</td>\n",
       "      <td>2007</td>\n",
       "      <td>Билли Уайлдер</td>\n",
       "    </tr>\n",
       "  </tbody>\n",
       "</table>\n",
       "</div>"
      ],
      "text/plain": [
       "                            country  time_film ranking   type  year  \\\n",
       "name                                                                  \n",
       "Невеста                      Россия         74    7,66  фильм  2006   \n",
       "Кто приходит в зимний вечер  Россия         90   6,038  фильм  2006   \n",
       "Моя мама Снегурочка          Россия         90   6,828  фильм  2007   \n",
       "\n",
       "                                  director  \n",
       "name                                        \n",
       "Невеста                      Билли Уайлдер  \n",
       "Кто приходит в зимний вечер  Билли Уайлдер  \n",
       "Моя мама Снегурочка          Билли Уайлдер  "
      ]
     },
     "execution_count": 24,
     "metadata": {},
     "output_type": "execute_result"
    }
   ],
   "source": [
    "df1 = df_kino.iloc[0:3].copy() # копируем первые три строки датафрейма\n",
    "df1"
   ]
  },
  {
   "cell_type": "code",
   "execution_count": 25,
   "metadata": {},
   "outputs": [
    {
     "data": {
      "text/html": [
       "<div>\n",
       "<style scoped>\n",
       "    .dataframe tbody tr th:only-of-type {\n",
       "        vertical-align: middle;\n",
       "    }\n",
       "\n",
       "    .dataframe tbody tr th {\n",
       "        vertical-align: top;\n",
       "    }\n",
       "\n",
       "    .dataframe thead th {\n",
       "        text-align: right;\n",
       "    }\n",
       "</style>\n",
       "<table border=\"1\" class=\"dataframe\">\n",
       "  <thead>\n",
       "    <tr style=\"text-align: right;\">\n",
       "      <th></th>\n",
       "      <th>country</th>\n",
       "      <th>time_film</th>\n",
       "      <th>ranking</th>\n",
       "      <th>type</th>\n",
       "      <th>year</th>\n",
       "      <th>director</th>\n",
       "    </tr>\n",
       "    <tr>\n",
       "      <th>name</th>\n",
       "      <th></th>\n",
       "      <th></th>\n",
       "      <th></th>\n",
       "      <th></th>\n",
       "      <th></th>\n",
       "      <th></th>\n",
       "    </tr>\n",
       "  </thead>\n",
       "  <tbody>\n",
       "    <tr>\n",
       "      <th>Магазинчик за углом</th>\n",
       "      <td>США</td>\n",
       "      <td>99</td>\n",
       "      <td>7,921</td>\n",
       "      <td>фильм</td>\n",
       "      <td>1940</td>\n",
       "      <td>Билли Уайлдер</td>\n",
       "    </tr>\n",
       "    <tr>\n",
       "      <th>Мужчина в моей голове</th>\n",
       "      <td>Россия</td>\n",
       "      <td>113</td>\n",
       "      <td>7,143</td>\n",
       "      <td>фильм</td>\n",
       "      <td>2009</td>\n",
       "      <td>Билли Уайлдер</td>\n",
       "    </tr>\n",
       "    <tr>\n",
       "      <th>Моя мама Снегурочка</th>\n",
       "      <td>Россия</td>\n",
       "      <td>90</td>\n",
       "      <td>6,828</td>\n",
       "      <td>фильм</td>\n",
       "      <td>2007</td>\n",
       "      <td>Билли Уайлдер</td>\n",
       "    </tr>\n",
       "  </tbody>\n",
       "</table>\n",
       "</div>"
      ],
      "text/plain": [
       "                       country  time_film ranking   type  year       director\n",
       "name                                                                         \n",
       "Магазинчик за углом        США         99   7,921  фильм  1940  Билли Уайлдер\n",
       "Мужчина в моей голове   Россия        113   7,143  фильм  2009  Билли Уайлдер\n",
       "Моя мама Снегурочка     Россия         90   6,828  фильм  2007  Билли Уайлдер"
      ]
     },
     "execution_count": 25,
     "metadata": {},
     "output_type": "execute_result"
    }
   ],
   "source": [
    "df2 = df_kino.iloc[[10, 11, 2]] # копируем строки в позициях 10, 11 и 2\n",
    "df2"
   ]
  },
  {
   "cell_type": "markdown",
   "metadata": {},
   "source": [
    "Присоединяем к датафрейму df1 датафрейм df2:"
   ]
  },
  {
   "cell_type": "code",
   "execution_count": 26,
   "metadata": {},
   "outputs": [],
   "source": [
    "appended = df1.append(df2)"
   ]
  },
  {
   "cell_type": "markdown",
   "metadata": {},
   "source": [
    "В результате к строкам первого датафрейма будут присоединены строки второго датафрейма:"
   ]
  },
  {
   "cell_type": "code",
   "execution_count": 27,
   "metadata": {},
   "outputs": [
    {
     "data": {
      "text/html": [
       "<div>\n",
       "<style scoped>\n",
       "    .dataframe tbody tr th:only-of-type {\n",
       "        vertical-align: middle;\n",
       "    }\n",
       "\n",
       "    .dataframe tbody tr th {\n",
       "        vertical-align: top;\n",
       "    }\n",
       "\n",
       "    .dataframe thead th {\n",
       "        text-align: right;\n",
       "    }\n",
       "</style>\n",
       "<table border=\"1\" class=\"dataframe\">\n",
       "  <thead>\n",
       "    <tr style=\"text-align: right;\">\n",
       "      <th></th>\n",
       "      <th>country</th>\n",
       "      <th>time_film</th>\n",
       "      <th>ranking</th>\n",
       "      <th>type</th>\n",
       "      <th>year</th>\n",
       "      <th>director</th>\n",
       "    </tr>\n",
       "    <tr>\n",
       "      <th>name</th>\n",
       "      <th></th>\n",
       "      <th></th>\n",
       "      <th></th>\n",
       "      <th></th>\n",
       "      <th></th>\n",
       "      <th></th>\n",
       "    </tr>\n",
       "  </thead>\n",
       "  <tbody>\n",
       "    <tr>\n",
       "      <th>Невеста</th>\n",
       "      <td>Россия</td>\n",
       "      <td>74</td>\n",
       "      <td>7,66</td>\n",
       "      <td>фильм</td>\n",
       "      <td>2006</td>\n",
       "      <td>Билли Уайлдер</td>\n",
       "    </tr>\n",
       "    <tr>\n",
       "      <th>Кто приходит в зимний вечер</th>\n",
       "      <td>Россия</td>\n",
       "      <td>90</td>\n",
       "      <td>6,038</td>\n",
       "      <td>фильм</td>\n",
       "      <td>2006</td>\n",
       "      <td>Билли Уайлдер</td>\n",
       "    </tr>\n",
       "    <tr>\n",
       "      <th>Моя мама Снегурочка</th>\n",
       "      <td>Россия</td>\n",
       "      <td>90</td>\n",
       "      <td>6,828</td>\n",
       "      <td>фильм</td>\n",
       "      <td>2007</td>\n",
       "      <td>Билли Уайлдер</td>\n",
       "    </tr>\n",
       "    <tr>\n",
       "      <th>Магазинчик за углом</th>\n",
       "      <td>США</td>\n",
       "      <td>99</td>\n",
       "      <td>7,921</td>\n",
       "      <td>фильм</td>\n",
       "      <td>1940</td>\n",
       "      <td>Билли Уайлдер</td>\n",
       "    </tr>\n",
       "    <tr>\n",
       "      <th>Мужчина в моей голове</th>\n",
       "      <td>Россия</td>\n",
       "      <td>113</td>\n",
       "      <td>7,143</td>\n",
       "      <td>фильм</td>\n",
       "      <td>2009</td>\n",
       "      <td>Билли Уайлдер</td>\n",
       "    </tr>\n",
       "    <tr>\n",
       "      <th>Моя мама Снегурочка</th>\n",
       "      <td>Россия</td>\n",
       "      <td>90</td>\n",
       "      <td>6,828</td>\n",
       "      <td>фильм</td>\n",
       "      <td>2007</td>\n",
       "      <td>Билли Уайлдер</td>\n",
       "    </tr>\n",
       "  </tbody>\n",
       "</table>\n",
       "</div>"
      ],
      "text/plain": [
       "                            country  time_film ranking   type  year  \\\n",
       "name                                                                  \n",
       "Невеста                      Россия         74    7,66  фильм  2006   \n",
       "Кто приходит в зимний вечер  Россия         90   6,038  фильм  2006   \n",
       "Моя мама Снегурочка          Россия         90   6,828  фильм  2007   \n",
       "Магазинчик за углом             США         99   7,921  фильм  1940   \n",
       "Мужчина в моей голове        Россия        113   7,143  фильм  2009   \n",
       "Моя мама Снегурочка          Россия         90   6,828  фильм  2007   \n",
       "\n",
       "                                  director  \n",
       "name                                        \n",
       "Невеста                      Билли Уайлдер  \n",
       "Кто приходит в зимний вечер  Билли Уайлдер  \n",
       "Моя мама Снегурочка          Билли Уайлдер  \n",
       "Магазинчик за углом          Билли Уайлдер  \n",
       "Мужчина в моей голове        Билли Уайлдер  \n",
       "Моя мама Снегурочка          Билли Уайлдер  "
      ]
     },
     "execution_count": 27,
     "metadata": {},
     "output_type": "execute_result"
    }
   ],
   "source": [
    "appended"
   ]
  },
  {
   "cell_type": "markdown",
   "metadata": {},
   "source": [
    "### Конкатенация строк"
   ]
  },
  {
   "cell_type": "markdown",
   "metadata": {},
   "source": [
    "Копируем первые три строки датафрейма: "
   ]
  },
  {
   "cell_type": "code",
   "execution_count": 28,
   "metadata": {},
   "outputs": [
    {
     "data": {
      "text/html": [
       "<div>\n",
       "<style scoped>\n",
       "    .dataframe tbody tr th:only-of-type {\n",
       "        vertical-align: middle;\n",
       "    }\n",
       "\n",
       "    .dataframe tbody tr th {\n",
       "        vertical-align: top;\n",
       "    }\n",
       "\n",
       "    .dataframe thead th {\n",
       "        text-align: right;\n",
       "    }\n",
       "</style>\n",
       "<table border=\"1\" class=\"dataframe\">\n",
       "  <thead>\n",
       "    <tr style=\"text-align: right;\">\n",
       "      <th></th>\n",
       "      <th>country</th>\n",
       "      <th>time_film</th>\n",
       "      <th>ranking</th>\n",
       "      <th>type</th>\n",
       "      <th>year</th>\n",
       "      <th>director</th>\n",
       "    </tr>\n",
       "    <tr>\n",
       "      <th>name</th>\n",
       "      <th></th>\n",
       "      <th></th>\n",
       "      <th></th>\n",
       "      <th></th>\n",
       "      <th></th>\n",
       "      <th></th>\n",
       "    </tr>\n",
       "  </thead>\n",
       "  <tbody>\n",
       "    <tr>\n",
       "      <th>Невеста</th>\n",
       "      <td>Россия</td>\n",
       "      <td>74</td>\n",
       "      <td>7,66</td>\n",
       "      <td>фильм</td>\n",
       "      <td>2006</td>\n",
       "      <td>Билли Уайлдер</td>\n",
       "    </tr>\n",
       "    <tr>\n",
       "      <th>Кто приходит в зимний вечер</th>\n",
       "      <td>Россия</td>\n",
       "      <td>90</td>\n",
       "      <td>6,038</td>\n",
       "      <td>фильм</td>\n",
       "      <td>2006</td>\n",
       "      <td>Билли Уайлдер</td>\n",
       "    </tr>\n",
       "    <tr>\n",
       "      <th>Моя мама Снегурочка</th>\n",
       "      <td>Россия</td>\n",
       "      <td>90</td>\n",
       "      <td>6,828</td>\n",
       "      <td>фильм</td>\n",
       "      <td>2007</td>\n",
       "      <td>Билли Уайлдер</td>\n",
       "    </tr>\n",
       "  </tbody>\n",
       "</table>\n",
       "</div>"
      ],
      "text/plain": [
       "                            country  time_film ranking   type  year  \\\n",
       "name                                                                  \n",
       "Невеста                      Россия         74    7,66  фильм  2006   \n",
       "Кто приходит в зимний вечер  Россия         90   6,038  фильм  2006   \n",
       "Моя мама Снегурочка          Россия         90   6,828  фильм  2007   \n",
       "\n",
       "                                  director  \n",
       "name                                        \n",
       "Невеста                      Билли Уайлдер  \n",
       "Кто приходит в зимний вечер  Билли Уайлдер  \n",
       "Моя мама Снегурочка          Билли Уайлдер  "
      ]
     },
     "execution_count": 28,
     "metadata": {},
     "output_type": "execute_result"
    }
   ],
   "source": [
    "df1 = df_kino.iloc[0:3].copy()\n",
    "df1"
   ]
  },
  {
   "cell_type": "markdown",
   "metadata": {},
   "source": [
    "Копируем строки в позициях 10, 11 и 2:"
   ]
  },
  {
   "cell_type": "code",
   "execution_count": 29,
   "metadata": {},
   "outputs": [
    {
     "data": {
      "text/html": [
       "<div>\n",
       "<style scoped>\n",
       "    .dataframe tbody tr th:only-of-type {\n",
       "        vertical-align: middle;\n",
       "    }\n",
       "\n",
       "    .dataframe tbody tr th {\n",
       "        vertical-align: top;\n",
       "    }\n",
       "\n",
       "    .dataframe thead th {\n",
       "        text-align: right;\n",
       "    }\n",
       "</style>\n",
       "<table border=\"1\" class=\"dataframe\">\n",
       "  <thead>\n",
       "    <tr style=\"text-align: right;\">\n",
       "      <th></th>\n",
       "      <th>country</th>\n",
       "      <th>time_film</th>\n",
       "      <th>ranking</th>\n",
       "      <th>type</th>\n",
       "      <th>year</th>\n",
       "      <th>director</th>\n",
       "    </tr>\n",
       "    <tr>\n",
       "      <th>name</th>\n",
       "      <th></th>\n",
       "      <th></th>\n",
       "      <th></th>\n",
       "      <th></th>\n",
       "      <th></th>\n",
       "      <th></th>\n",
       "    </tr>\n",
       "  </thead>\n",
       "  <tbody>\n",
       "    <tr>\n",
       "      <th>Магазинчик за углом</th>\n",
       "      <td>США</td>\n",
       "      <td>99</td>\n",
       "      <td>7,921</td>\n",
       "      <td>фильм</td>\n",
       "      <td>1940</td>\n",
       "      <td>Билли Уайлдер</td>\n",
       "    </tr>\n",
       "    <tr>\n",
       "      <th>Мужчина в моей голове</th>\n",
       "      <td>Россия</td>\n",
       "      <td>113</td>\n",
       "      <td>7,143</td>\n",
       "      <td>фильм</td>\n",
       "      <td>2009</td>\n",
       "      <td>Билли Уайлдер</td>\n",
       "    </tr>\n",
       "    <tr>\n",
       "      <th>Моя мама Снегурочка</th>\n",
       "      <td>Россия</td>\n",
       "      <td>90</td>\n",
       "      <td>6,828</td>\n",
       "      <td>фильм</td>\n",
       "      <td>2007</td>\n",
       "      <td>Билли Уайлдер</td>\n",
       "    </tr>\n",
       "  </tbody>\n",
       "</table>\n",
       "</div>"
      ],
      "text/plain": [
       "                       country  time_film ranking   type  year       director\n",
       "name                                                                         \n",
       "Магазинчик за углом        США         99   7,921  фильм  1940  Билли Уайлдер\n",
       "Мужчина в моей голове   Россия        113   7,143  фильм  2009  Билли Уайлдер\n",
       "Моя мама Снегурочка     Россия         90   6,828  фильм  2007  Билли Уайлдер"
      ]
     },
     "execution_count": 29,
     "metadata": {},
     "output_type": "execute_result"
    }
   ],
   "source": [
    "df2 = df_kino.iloc[[10, 11, 2]]\n",
    "df2"
   ]
  },
  {
   "cell_type": "markdown",
   "metadata": {},
   "source": [
    "Передаем их в виде списка:"
   ]
  },
  {
   "cell_type": "code",
   "execution_count": 30,
   "metadata": {},
   "outputs": [
    {
     "data": {
      "text/html": [
       "<div>\n",
       "<style scoped>\n",
       "    .dataframe tbody tr th:only-of-type {\n",
       "        vertical-align: middle;\n",
       "    }\n",
       "\n",
       "    .dataframe tbody tr th {\n",
       "        vertical-align: top;\n",
       "    }\n",
       "\n",
       "    .dataframe thead th {\n",
       "        text-align: right;\n",
       "    }\n",
       "</style>\n",
       "<table border=\"1\" class=\"dataframe\">\n",
       "  <thead>\n",
       "    <tr style=\"text-align: right;\">\n",
       "      <th></th>\n",
       "      <th>country</th>\n",
       "      <th>time_film</th>\n",
       "      <th>ranking</th>\n",
       "      <th>type</th>\n",
       "      <th>year</th>\n",
       "      <th>director</th>\n",
       "    </tr>\n",
       "    <tr>\n",
       "      <th>name</th>\n",
       "      <th></th>\n",
       "      <th></th>\n",
       "      <th></th>\n",
       "      <th></th>\n",
       "      <th></th>\n",
       "      <th></th>\n",
       "    </tr>\n",
       "  </thead>\n",
       "  <tbody>\n",
       "    <tr>\n",
       "      <th>Невеста</th>\n",
       "      <td>Россия</td>\n",
       "      <td>74</td>\n",
       "      <td>7,66</td>\n",
       "      <td>фильм</td>\n",
       "      <td>2006</td>\n",
       "      <td>Билли Уайлдер</td>\n",
       "    </tr>\n",
       "    <tr>\n",
       "      <th>Кто приходит в зимний вечер</th>\n",
       "      <td>Россия</td>\n",
       "      <td>90</td>\n",
       "      <td>6,038</td>\n",
       "      <td>фильм</td>\n",
       "      <td>2006</td>\n",
       "      <td>Билли Уайлдер</td>\n",
       "    </tr>\n",
       "    <tr>\n",
       "      <th>Моя мама Снегурочка</th>\n",
       "      <td>Россия</td>\n",
       "      <td>90</td>\n",
       "      <td>6,828</td>\n",
       "      <td>фильм</td>\n",
       "      <td>2007</td>\n",
       "      <td>Билли Уайлдер</td>\n",
       "    </tr>\n",
       "    <tr>\n",
       "      <th>Магазинчик за углом</th>\n",
       "      <td>США</td>\n",
       "      <td>99</td>\n",
       "      <td>7,921</td>\n",
       "      <td>фильм</td>\n",
       "      <td>1940</td>\n",
       "      <td>Билли Уайлдер</td>\n",
       "    </tr>\n",
       "    <tr>\n",
       "      <th>Мужчина в моей голове</th>\n",
       "      <td>Россия</td>\n",
       "      <td>113</td>\n",
       "      <td>7,143</td>\n",
       "      <td>фильм</td>\n",
       "      <td>2009</td>\n",
       "      <td>Билли Уайлдер</td>\n",
       "    </tr>\n",
       "    <tr>\n",
       "      <th>Моя мама Снегурочка</th>\n",
       "      <td>Россия</td>\n",
       "      <td>90</td>\n",
       "      <td>6,828</td>\n",
       "      <td>фильм</td>\n",
       "      <td>2007</td>\n",
       "      <td>Билли Уайлдер</td>\n",
       "    </tr>\n",
       "  </tbody>\n",
       "</table>\n",
       "</div>"
      ],
      "text/plain": [
       "                            country  time_film ranking   type  year  \\\n",
       "name                                                                  \n",
       "Невеста                      Россия         74    7,66  фильм  2006   \n",
       "Кто приходит в зимний вечер  Россия         90   6,038  фильм  2006   \n",
       "Моя мама Снегурочка          Россия         90   6,828  фильм  2007   \n",
       "Магазинчик за углом             США         99   7,921  фильм  1940   \n",
       "Мужчина в моей голове        Россия        113   7,143  фильм  2009   \n",
       "Моя мама Снегурочка          Россия         90   6,828  фильм  2007   \n",
       "\n",
       "                                  director  \n",
       "name                                        \n",
       "Невеста                      Билли Уайлдер  \n",
       "Кто приходит в зимний вечер  Билли Уайлдер  \n",
       "Моя мама Снегурочка          Билли Уайлдер  \n",
       "Магазинчик за углом          Билли Уайлдер  \n",
       "Мужчина в моей голове        Билли Уайлдер  \n",
       "Моя мама Снегурочка          Билли Уайлдер  "
      ]
     },
     "execution_count": 30,
     "metadata": {},
     "output_type": "execute_result"
    }
   ],
   "source": [
    "pd.concat([df1, df2])"
   ]
  },
  {
   "cell_type": "markdown",
   "metadata": {},
   "source": [
    "### Добавление строк"
   ]
  },
  {
   "cell_type": "code",
   "execution_count": 31,
   "metadata": {},
   "outputs": [
    {
     "data": {
      "text/html": [
       "<div>\n",
       "<style scoped>\n",
       "    .dataframe tbody tr th:only-of-type {\n",
       "        vertical-align: middle;\n",
       "    }\n",
       "\n",
       "    .dataframe tbody tr th {\n",
       "        vertical-align: top;\n",
       "    }\n",
       "\n",
       "    .dataframe thead th {\n",
       "        text-align: right;\n",
       "    }\n",
       "</style>\n",
       "<table border=\"1\" class=\"dataframe\">\n",
       "  <thead>\n",
       "    <tr style=\"text-align: right;\">\n",
       "      <th></th>\n",
       "      <th>country</th>\n",
       "      <th>time_film</th>\n",
       "      <th>ranking</th>\n",
       "      <th>type</th>\n",
       "      <th>year</th>\n",
       "      <th>director</th>\n",
       "    </tr>\n",
       "    <tr>\n",
       "      <th>name</th>\n",
       "      <th></th>\n",
       "      <th></th>\n",
       "      <th></th>\n",
       "      <th></th>\n",
       "      <th></th>\n",
       "      <th></th>\n",
       "    </tr>\n",
       "  </thead>\n",
       "  <tbody>\n",
       "    <tr>\n",
       "      <th>Очень смешное кино</th>\n",
       "      <td>Россия</td>\n",
       "      <td>90</td>\n",
       "      <td>3,9</td>\n",
       "      <td>фильм</td>\n",
       "      <td>2009</td>\n",
       "      <td>Том Круз</td>\n",
       "    </tr>\n",
       "  </tbody>\n",
       "</table>\n",
       "</div>"
      ],
      "text/plain": [
       "                   country  time_film ranking   type  year  director\n",
       "name                                                                \n",
       "Очень смешное кино  Россия         90     3,9  фильм  2009  Том Круз"
      ]
     },
     "execution_count": 31,
     "metadata": {},
     "output_type": "execute_result"
    }
   ],
   "source": [
    "df_kino.loc[\"Очень смешное кино\"] = [\"Россия\", 90, \"3,9\", \"фильм\", 2009, \"Том Круз\"]\n",
    "df_kino.tail(1)"
   ]
  },
  {
   "cell_type": "markdown",
   "metadata": {},
   "source": [
    "### Удаление строк с помощью метода .drop()"
   ]
  },
  {
   "cell_type": "code",
   "execution_count": 32,
   "metadata": {},
   "outputs": [
    {
     "data": {
      "text/html": [
       "<div>\n",
       "<style scoped>\n",
       "    .dataframe tbody tr th:only-of-type {\n",
       "        vertical-align: middle;\n",
       "    }\n",
       "\n",
       "    .dataframe tbody tr th {\n",
       "        vertical-align: top;\n",
       "    }\n",
       "\n",
       "    .dataframe thead th {\n",
       "        text-align: right;\n",
       "    }\n",
       "</style>\n",
       "<table border=\"1\" class=\"dataframe\">\n",
       "  <thead>\n",
       "    <tr style=\"text-align: right;\">\n",
       "      <th></th>\n",
       "      <th>country</th>\n",
       "      <th>time_film</th>\n",
       "      <th>ranking</th>\n",
       "      <th>type</th>\n",
       "      <th>year</th>\n",
       "      <th>director</th>\n",
       "    </tr>\n",
       "    <tr>\n",
       "      <th>name</th>\n",
       "      <th></th>\n",
       "      <th></th>\n",
       "      <th></th>\n",
       "      <th></th>\n",
       "      <th></th>\n",
       "      <th></th>\n",
       "    </tr>\n",
       "  </thead>\n",
       "  <tbody>\n",
       "    <tr>\n",
       "      <th>Невеста</th>\n",
       "      <td>Россия</td>\n",
       "      <td>74</td>\n",
       "      <td>7,66</td>\n",
       "      <td>фильм</td>\n",
       "      <td>2006</td>\n",
       "      <td>Билли Уайлдер</td>\n",
       "    </tr>\n",
       "    <tr>\n",
       "      <th>Кто приходит в зимний вечер</th>\n",
       "      <td>Россия</td>\n",
       "      <td>90</td>\n",
       "      <td>6,038</td>\n",
       "      <td>фильм</td>\n",
       "      <td>2006</td>\n",
       "      <td>Билли Уайлдер</td>\n",
       "    </tr>\n",
       "    <tr>\n",
       "      <th>Моя мама Снегурочка</th>\n",
       "      <td>Россия</td>\n",
       "      <td>90</td>\n",
       "      <td>6,828</td>\n",
       "      <td>фильм</td>\n",
       "      <td>2007</td>\n",
       "      <td>Билли Уайлдер</td>\n",
       "    </tr>\n",
       "    <tr>\n",
       "      <th>Набережная Орфевр</th>\n",
       "      <td>Франция</td>\n",
       "      <td>106</td>\n",
       "      <td>7,597</td>\n",
       "      <td>фильм</td>\n",
       "      <td>1947</td>\n",
       "      <td>Билли Уайлдер</td>\n",
       "    </tr>\n",
       "    <tr>\n",
       "      <th>Лузер</th>\n",
       "      <td>Россия</td>\n",
       "      <td>104</td>\n",
       "      <td>6,065</td>\n",
       "      <td>фильм</td>\n",
       "      <td>2007</td>\n",
       "      <td>Билли Уайлдер</td>\n",
       "    </tr>\n",
       "  </tbody>\n",
       "</table>\n",
       "</div>"
      ],
      "text/plain": [
       "                             country  time_film ranking   type  year  \\\n",
       "name                                                                   \n",
       "Невеста                       Россия         74    7,66  фильм  2006   \n",
       "Кто приходит в зимний вечер   Россия         90   6,038  фильм  2006   \n",
       "Моя мама Снегурочка           Россия         90   6,828  фильм  2007   \n",
       "Набережная Орфевр            Франция        106   7,597  фильм  1947   \n",
       "Лузер                         Россия        104   6,065  фильм  2007   \n",
       "\n",
       "                                  director  \n",
       "name                                        \n",
       "Невеста                      Билли Уайлдер  \n",
       "Кто приходит в зимний вечер  Билли Уайлдер  \n",
       "Моя мама Снегурочка          Билли Уайлдер  \n",
       "Набережная Орфевр            Билли Уайлдер  \n",
       "Лузер                        Билли Уайлдер  "
      ]
     },
     "execution_count": 32,
     "metadata": {},
     "output_type": "execute_result"
    }
   ],
   "source": [
    "kino_copy = df_kino[:5]\n",
    "kino_copy"
   ]
  },
  {
   "cell_type": "code",
   "execution_count": 33,
   "metadata": {},
   "outputs": [
    {
     "data": {
      "text/html": [
       "<div>\n",
       "<style scoped>\n",
       "    .dataframe tbody tr th:only-of-type {\n",
       "        vertical-align: middle;\n",
       "    }\n",
       "\n",
       "    .dataframe tbody tr th {\n",
       "        vertical-align: top;\n",
       "    }\n",
       "\n",
       "    .dataframe thead th {\n",
       "        text-align: right;\n",
       "    }\n",
       "</style>\n",
       "<table border=\"1\" class=\"dataframe\">\n",
       "  <thead>\n",
       "    <tr style=\"text-align: right;\">\n",
       "      <th></th>\n",
       "      <th>country</th>\n",
       "      <th>time_film</th>\n",
       "      <th>ranking</th>\n",
       "      <th>type</th>\n",
       "      <th>year</th>\n",
       "      <th>director</th>\n",
       "    </tr>\n",
       "    <tr>\n",
       "      <th>name</th>\n",
       "      <th></th>\n",
       "      <th></th>\n",
       "      <th></th>\n",
       "      <th></th>\n",
       "      <th></th>\n",
       "      <th></th>\n",
       "    </tr>\n",
       "  </thead>\n",
       "  <tbody>\n",
       "    <tr>\n",
       "      <th>Невеста</th>\n",
       "      <td>Россия</td>\n",
       "      <td>74</td>\n",
       "      <td>7,66</td>\n",
       "      <td>фильм</td>\n",
       "      <td>2006</td>\n",
       "      <td>Билли Уайлдер</td>\n",
       "    </tr>\n",
       "    <tr>\n",
       "      <th>Кто приходит в зимний вечер</th>\n",
       "      <td>Россия</td>\n",
       "      <td>90</td>\n",
       "      <td>6,038</td>\n",
       "      <td>фильм</td>\n",
       "      <td>2006</td>\n",
       "      <td>Билли Уайлдер</td>\n",
       "    </tr>\n",
       "    <tr>\n",
       "      <th>Лузер</th>\n",
       "      <td>Россия</td>\n",
       "      <td>104</td>\n",
       "      <td>6,065</td>\n",
       "      <td>фильм</td>\n",
       "      <td>2007</td>\n",
       "      <td>Билли Уайлдер</td>\n",
       "    </tr>\n",
       "  </tbody>\n",
       "</table>\n",
       "</div>"
      ],
      "text/plain": [
       "                            country  time_film ranking   type  year  \\\n",
       "name                                                                  \n",
       "Невеста                      Россия         74    7,66  фильм  2006   \n",
       "Кто приходит в зимний вечер  Россия         90   6,038  фильм  2006   \n",
       "Лузер                        Россия        104   6,065  фильм  2007   \n",
       "\n",
       "                                  director  \n",
       "name                                        \n",
       "Невеста                      Билли Уайлдер  \n",
       "Кто приходит в зимний вечер  Билли Уайлдер  \n",
       "Лузер                        Билли Уайлдер  "
      ]
     },
     "execution_count": 33,
     "metadata": {},
     "output_type": "execute_result"
    }
   ],
   "source": [
    "afterdrop = kino_copy.drop(['Моя мама Снегурочка', 'Набережная Орфевр'])\n",
    "afterdrop.head(5)"
   ]
  },
  {
   "cell_type": "markdown",
   "metadata": {},
   "source": [
    "### Удаление строк с помощью логического отбора"
   ]
  },
  {
   "cell_type": "code",
   "execution_count": 34,
   "metadata": {},
   "outputs": [],
   "source": [
    "df_kino.ranking = df_kino.ranking.str.replace(',','.')\n",
    "df_kino.ranking = df_kino.ranking.astype(float)"
   ]
  },
  {
   "cell_type": "markdown",
   "metadata": {},
   "source": [
    "Определяем строки, в которых ranking > 6:"
   ]
  },
  {
   "cell_type": "code",
   "execution_count": 35,
   "metadata": {},
   "outputs": [],
   "source": [
    "selection = df_kino.ranking > 6"
   ]
  },
  {
   "cell_type": "markdown",
   "metadata": {},
   "source": [
    "Выводим информацию о количестве строк и количестве строк, которые будут удалены:"
   ]
  },
  {
   "cell_type": "code",
   "execution_count": 36,
   "metadata": {},
   "outputs": [
    {
     "data": {
      "text/plain": [
       "(151, 136)"
      ]
     },
     "execution_count": 36,
     "metadata": {},
     "output_type": "execute_result"
    }
   ],
   "source": [
    "(len(selection), selection.sum())"
   ]
  },
  {
   "cell_type": "markdown",
   "metadata": {},
   "source": [
    "Для фильтрации применим побитовое отрицание к выражению selection:"
   ]
  },
  {
   "cell_type": "code",
   "execution_count": 37,
   "metadata": {},
   "outputs": [
    {
     "data": {
      "text/html": [
       "<div>\n",
       "<style scoped>\n",
       "    .dataframe tbody tr th:only-of-type {\n",
       "        vertical-align: middle;\n",
       "    }\n",
       "\n",
       "    .dataframe tbody tr th {\n",
       "        vertical-align: top;\n",
       "    }\n",
       "\n",
       "    .dataframe thead th {\n",
       "        text-align: right;\n",
       "    }\n",
       "</style>\n",
       "<table border=\"1\" class=\"dataframe\">\n",
       "  <thead>\n",
       "    <tr style=\"text-align: right;\">\n",
       "      <th></th>\n",
       "      <th>country</th>\n",
       "      <th>time_film</th>\n",
       "      <th>ranking</th>\n",
       "      <th>type</th>\n",
       "      <th>year</th>\n",
       "      <th>director</th>\n",
       "    </tr>\n",
       "    <tr>\n",
       "      <th>name</th>\n",
       "      <th></th>\n",
       "      <th></th>\n",
       "      <th></th>\n",
       "      <th></th>\n",
       "      <th></th>\n",
       "      <th></th>\n",
       "    </tr>\n",
       "  </thead>\n",
       "  <tbody>\n",
       "    <tr>\n",
       "      <th>Ой, мороз, мороз!</th>\n",
       "      <td>РСФСР</td>\n",
       "      <td>95</td>\n",
       "      <td>5.775</td>\n",
       "      <td>фильм</td>\n",
       "      <td>2005</td>\n",
       "      <td>Джиллиан Армстронг</td>\n",
       "    </tr>\n",
       "    <tr>\n",
       "      <th>Новогодний детектив</th>\n",
       "      <td>Россия</td>\n",
       "      <td>90</td>\n",
       "      <td>5.981</td>\n",
       "      <td>фильм</td>\n",
       "      <td>2010</td>\n",
       "      <td>Джиллиан Армстронг</td>\n",
       "    </tr>\n",
       "    <tr>\n",
       "      <th>Откройте, Дед Мороз!</th>\n",
       "      <td>РСФСР</td>\n",
       "      <td>98</td>\n",
       "      <td>5.318</td>\n",
       "      <td>фильм</td>\n",
       "      <td>2007</td>\n",
       "      <td>Джиллиан Армстронг</td>\n",
       "    </tr>\n",
       "    <tr>\n",
       "      <th>Приключения Снеговика Фрости</th>\n",
       "      <td>США</td>\n",
       "      <td>25</td>\n",
       "      <td>5.677</td>\n",
       "      <td>мультфильм</td>\n",
       "      <td>1969</td>\n",
       "      <td>Майк Митчелл</td>\n",
       "    </tr>\n",
       "    <tr>\n",
       "      <th>Сверчок за очагом</th>\n",
       "      <td>Россия</td>\n",
       "      <td>107</td>\n",
       "      <td>5.860</td>\n",
       "      <td>фильм</td>\n",
       "      <td>2001</td>\n",
       "      <td>Майкл Саймон</td>\n",
       "    </tr>\n",
       "  </tbody>\n",
       "</table>\n",
       "</div>"
      ],
      "text/plain": [
       "                              country  time_film  ranking        type  year  \\\n",
       "name                                                                          \n",
       "Ой, мороз, мороз!               РСФСР         95    5.775       фильм  2005   \n",
       "Новогодний детектив            Россия         90    5.981       фильм  2010   \n",
       "Откройте, Дед Мороз!            РСФСР         98    5.318       фильм  2007   \n",
       "Приключения Снеговика Фрости      США         25    5.677  мультфильм  1969   \n",
       "Сверчок за очагом              Россия        107    5.860       фильм  2001   \n",
       "\n",
       "                                         director  \n",
       "name                                               \n",
       "Ой, мороз, мороз!              Джиллиан Армстронг  \n",
       "Новогодний детектив            Джиллиан Армстронг  \n",
       "Откройте, Дед Мороз!           Джиллиан Армстронг  \n",
       "Приключения Снеговика Фрости         Майк Митчелл  \n",
       "Сверчок за очагом                    Майкл Саймон  "
      ]
     },
     "execution_count": 37,
     "metadata": {},
     "output_type": "execute_result"
    }
   ],
   "source": [
    "not_selection = df_kino[~selection]\n",
    "not_selection.head()"
   ]
  },
  {
   "cell_type": "markdown",
   "metadata": {},
   "source": [
    "### Удаление строк с помощью среза"
   ]
  },
  {
   "cell_type": "markdown",
   "metadata": {},
   "source": [
    "Отбираем лишь первые три строки:"
   ]
  },
  {
   "cell_type": "code",
   "execution_count": 38,
   "metadata": {
    "scrolled": true
   },
   "outputs": [
    {
     "data": {
      "text/html": [
       "<div>\n",
       "<style scoped>\n",
       "    .dataframe tbody tr th:only-of-type {\n",
       "        vertical-align: middle;\n",
       "    }\n",
       "\n",
       "    .dataframe tbody tr th {\n",
       "        vertical-align: top;\n",
       "    }\n",
       "\n",
       "    .dataframe thead th {\n",
       "        text-align: right;\n",
       "    }\n",
       "</style>\n",
       "<table border=\"1\" class=\"dataframe\">\n",
       "  <thead>\n",
       "    <tr style=\"text-align: right;\">\n",
       "      <th></th>\n",
       "      <th>country</th>\n",
       "      <th>time_film</th>\n",
       "      <th>ranking</th>\n",
       "      <th>type</th>\n",
       "      <th>year</th>\n",
       "      <th>director</th>\n",
       "    </tr>\n",
       "    <tr>\n",
       "      <th>name</th>\n",
       "      <th></th>\n",
       "      <th></th>\n",
       "      <th></th>\n",
       "      <th></th>\n",
       "      <th></th>\n",
       "      <th></th>\n",
       "    </tr>\n",
       "  </thead>\n",
       "  <tbody>\n",
       "    <tr>\n",
       "      <th>Невеста</th>\n",
       "      <td>Россия</td>\n",
       "      <td>74</td>\n",
       "      <td>7.660</td>\n",
       "      <td>фильм</td>\n",
       "      <td>2006</td>\n",
       "      <td>Билли Уайлдер</td>\n",
       "    </tr>\n",
       "    <tr>\n",
       "      <th>Кто приходит в зимний вечер</th>\n",
       "      <td>Россия</td>\n",
       "      <td>90</td>\n",
       "      <td>6.038</td>\n",
       "      <td>фильм</td>\n",
       "      <td>2006</td>\n",
       "      <td>Билли Уайлдер</td>\n",
       "    </tr>\n",
       "    <tr>\n",
       "      <th>Моя мама Снегурочка</th>\n",
       "      <td>Россия</td>\n",
       "      <td>90</td>\n",
       "      <td>6.828</td>\n",
       "      <td>фильм</td>\n",
       "      <td>2007</td>\n",
       "      <td>Билли Уайлдер</td>\n",
       "    </tr>\n",
       "  </tbody>\n",
       "</table>\n",
       "</div>"
      ],
      "text/plain": [
       "                            country  time_film  ranking   type  year  \\\n",
       "name                                                                   \n",
       "Невеста                      Россия         74    7.660  фильм  2006   \n",
       "Кто приходит в зимний вечер  Россия         90    6.038  фильм  2006   \n",
       "Моя мама Снегурочка          Россия         90    6.828  фильм  2007   \n",
       "\n",
       "                                  director  \n",
       "name                                        \n",
       "Невеста                      Билли Уайлдер  \n",
       "Кто приходит в зимний вечер  Билли Уайлдер  \n",
       "Моя мама Снегурочка          Билли Уайлдер  "
      ]
     },
     "execution_count": 38,
     "metadata": {},
     "output_type": "execute_result"
    }
   ],
   "source": [
    "only_first_three = df_kino[:3]\n",
    "only_first_three"
   ]
  },
  {
   "cell_type": "code",
   "execution_count": 39,
   "metadata": {},
   "outputs": [
    {
     "data": {
      "text/html": [
       "<div>\n",
       "<style scoped>\n",
       "    .dataframe tbody tr th:only-of-type {\n",
       "        vertical-align: middle;\n",
       "    }\n",
       "\n",
       "    .dataframe tbody tr th {\n",
       "        vertical-align: top;\n",
       "    }\n",
       "\n",
       "    .dataframe thead th {\n",
       "        text-align: right;\n",
       "    }\n",
       "</style>\n",
       "<table border=\"1\" class=\"dataframe\">\n",
       "  <thead>\n",
       "    <tr style=\"text-align: right;\">\n",
       "      <th></th>\n",
       "      <th>country</th>\n",
       "      <th>time_film</th>\n",
       "      <th>ranking</th>\n",
       "      <th>type</th>\n",
       "      <th>year</th>\n",
       "      <th>director</th>\n",
       "    </tr>\n",
       "    <tr>\n",
       "      <th>name</th>\n",
       "      <th></th>\n",
       "      <th></th>\n",
       "      <th></th>\n",
       "      <th></th>\n",
       "      <th></th>\n",
       "      <th></th>\n",
       "    </tr>\n",
       "  </thead>\n",
       "  <tbody>\n",
       "    <tr>\n",
       "      <th>Невеста</th>\n",
       "      <td>Россия</td>\n",
       "      <td>74</td>\n",
       "      <td>7.660</td>\n",
       "      <td>фильм</td>\n",
       "      <td>2006</td>\n",
       "      <td>Билли Уайлдер</td>\n",
       "    </tr>\n",
       "    <tr>\n",
       "      <th>Кто приходит в зимний вечер</th>\n",
       "      <td>Россия</td>\n",
       "      <td>90</td>\n",
       "      <td>6.038</td>\n",
       "      <td>фильм</td>\n",
       "      <td>2006</td>\n",
       "      <td>Билли Уайлдер</td>\n",
       "    </tr>\n",
       "    <tr>\n",
       "      <th>Моя мама Снегурочка</th>\n",
       "      <td>Россия</td>\n",
       "      <td>90</td>\n",
       "      <td>6.828</td>\n",
       "      <td>фильм</td>\n",
       "      <td>2007</td>\n",
       "      <td>Билли Уайлдер</td>\n",
       "    </tr>\n",
       "  </tbody>\n",
       "</table>\n",
       "</div>"
      ],
      "text/plain": [
       "                            country  time_film  ranking   type  year  \\\n",
       "name                                                                   \n",
       "Невеста                      Россия         74    7.660  фильм  2006   \n",
       "Кто приходит в зимний вечер  Россия         90    6.038  фильм  2006   \n",
       "Моя мама Снегурочка          Россия         90    6.828  фильм  2007   \n",
       "\n",
       "                                  director  \n",
       "name                                        \n",
       "Невеста                      Билли Уайлдер  \n",
       "Кто приходит в зимний вечер  Билли Уайлдер  \n",
       "Моя мама Снегурочка          Билли Уайлдер  "
      ]
     },
     "execution_count": 39,
     "metadata": {},
     "output_type": "execute_result"
    }
   ],
   "source": [
    "only_first_three = df_kino[:3].copy()\n",
    "only_first_three"
   ]
  }
 ],
 "metadata": {
  "anaconda-cloud": {},
  "kernelspec": {
   "display_name": "Python 3",
   "language": "python",
   "name": "python3"
  },
  "language_info": {
   "codemirror_mode": {
    "name": "ipython",
    "version": 3
   },
   "file_extension": ".py",
   "mimetype": "text/x-python",
   "name": "python",
   "nbconvert_exporter": "python",
   "pygments_lexer": "ipython3",
   "version": "3.8.3"
  }
 },
 "nbformat": 4,
 "nbformat_minor": 4
}
