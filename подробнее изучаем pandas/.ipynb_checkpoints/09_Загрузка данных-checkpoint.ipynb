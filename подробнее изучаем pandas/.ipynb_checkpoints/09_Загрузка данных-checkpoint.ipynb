{
 "cells": [
  {
   "cell_type": "code",
   "execution_count": 2,
   "metadata": {},
   "outputs": [],
   "source": [
    "# импортируем библиотеки numpy и pandas\n",
    "import numpy as np\n",
    "import pandas as pd\n",
    "\n",
    "# импортируем библиотеку datetime для работы с датами\n",
    "import datetime\n",
    "from datetime import datetime, date\n",
    "\n",
    "# импортируем библиотеку matplotlib для построения графиков\n",
    "import matplotlib.pyplot as plt"
   ]
  },
  {
   "cell_type": "code",
   "execution_count": null,
   "metadata": {
    "scrolled": true
   },
   "outputs": [],
   "source": [
    "# с помощью модуля csv взглянем на первые 5 строк CSV-файла\n",
    "import csv \n",
    "with open('Data/orders.csv') as file:\n",
    "    reader = csv.reader(file)\n",
    "    for i, row in enumerate(reader):\n",
    "        print(row)\n",
    "        if(i >= 5):\n",
    "            break"
   ]
  },
  {
   "cell_type": "markdown",
   "metadata": {},
   "source": [
    "### Считывание CSV-файла в датафрейм"
   ]
  },
  {
   "cell_type": "code",
   "execution_count": null,
   "metadata": {},
   "outputs": [],
   "source": [
    "orders = pd.read_csv(\"Data/orders.csv\")\n",
    "orders.head()"
   ]
  },
  {
   "cell_type": "markdown",
   "metadata": {},
   "source": [
    "### Указание индекса столбца при считывании CSV-файла "
   ]
  },
  {
   "cell_type": "code",
   "execution_count": null,
   "metadata": {},
   "outputs": [],
   "source": [
    "# используем столбец 0 в качестве индекса\n",
    "orders = pd.read_csv(\"Data/orders.csv\", index_col=0)\n",
    "orders.head()"
   ]
  },
  {
   "cell_type": "markdown",
   "metadata": {},
   "source": [
    "### Вывод и спецификация типа данных"
   ]
  },
  {
   "cell_type": "code",
   "execution_count": null,
   "metadata": {},
   "outputs": [],
   "source": [
    "# исследуем типы столбцов в этом датафрейме\n",
    "orders.dtypes"
   ]
  },
  {
   "cell_type": "code",
   "execution_count": null,
   "metadata": {
    "scrolled": true
   },
   "outputs": [],
   "source": [
    "# если это не так!\n",
    "# указываем, что столбец sales должен иметь тип float64\n",
    "orders = pd.read_csv(\"Data/orders.csv\", \n",
    "                   dtype={'sales': np.float64})\n",
    "orders.dtypes"
   ]
  },
  {
   "cell_type": "markdown",
   "metadata": {},
   "source": [
    "### Указание имен столбцов"
   ]
  },
  {
   "cell_type": "code",
   "execution_count": null,
   "metadata": {},
   "outputs": [],
   "source": [
    "# задаем новый набор имен для столбцов, все имеют нижний регистр, \n",
    "# header=0 задает строку заголовков\n",
    "df = pd.read_csv(\"Data/orders.csv\", \n",
    "                 header=0,\n",
    "                 names=['1', '2', '3', '4', '5'])\n",
    "df[:5]"
   ]
  },
  {
   "cell_type": "markdown",
   "metadata": {},
   "source": [
    "### Указание конкретных столбцов для загрузки"
   ]
  },
  {
   "cell_type": "code",
   "execution_count": null,
   "metadata": {},
   "outputs": [],
   "source": [
    "# считываем в данных только столбцы Date и Close\n",
    "# и индексируем по столбцу Date\n",
    "df2 = pd.read_csv(\"Data/customers.csv\", \n",
    "                  usecols=['id', 'name'], \n",
    "                  index_col=['id'])\n",
    "df2[:5]"
   ]
  },
  {
   "cell_type": "markdown",
   "metadata": {},
   "source": [
    "### Сохранение датафрейма в CSV-файл"
   ]
  },
  {
   "cell_type": "code",
   "execution_count": null,
   "metadata": {},
   "outputs": [],
   "source": [
    "# сохраняем датафрейм df2 в новый csv-файл\n",
    "# задаем имя индекса как id\n",
    "df2.to_csv(\"Data/customers_modified.csv\", index_label='id') # index_label"
   ]
  },
  {
   "cell_type": "code",
   "execution_count": null,
   "metadata": {},
   "outputs": [],
   "source": [
    "# с помощью модуля csv взглянем\n",
    "# на первые 5 строк CSV-файла\n",
    "with open('Data/customers_modified.csv') as file:\n",
    "    reader = csv.reader(file)\n",
    "    for i,row in enumerate(reader):\n",
    "        print(row)\n",
    "        if(i >= 5):\n",
    "            break"
   ]
  },
  {
   "cell_type": "markdown",
   "metadata": {},
   "source": [
    "### Работа с данными, в которых используются разделители полей"
   ]
  },
  {
   "cell_type": "code",
   "execution_count": null,
   "metadata": {},
   "outputs": [],
   "source": [
    "# используем функцию read_table с параметром sep=',' \n",
    "# чтобы прочитать CSV-файл\n",
    "df = pd.read_table(\"Data/orders.csv\", sep=',')\n",
    "df[:5]"
   ]
  },
  {
   "cell_type": "code",
   "execution_count": null,
   "metadata": {},
   "outputs": [],
   "source": [
    "# сохраняем как данные, в которых разделителем является вертикальная черта\n",
    "df.to_csv(\"Data/orders_piped.txt\", sep='|')\n",
    "\n",
    "# смотрим, как сработал программный код\n",
    "with open('Data/orders_piped.txt') as file:\n",
    "    reader = csv.reader(file, delimiter=',')\n",
    "    for i,row in enumerate(reader):\n",
    "        print(row)\n",
    "        if(i >= 5):\n",
    "            break"
   ]
  },
  {
   "cell_type": "markdown",
   "metadata": {},
   "source": [
    "### Обработка загрязненных данных, в которых используются разделители полей"
   ]
  },
  {
   "cell_type": "code",
   "execution_count": null,
   "metadata": {
    "scrolled": true
   },
   "outputs": [],
   "source": [
    "# смотрим первые 6 наблюдений файла msft2.csv\n",
    "with open('Data/msft2.csv') as file:\n",
    "    reader = csv.reader(file, delimiter=',')\n",
    "    for i,row in enumerate(reader):\n",
    "        print(row)\n",
    "        if(i >= 6):\n",
    "            break"
   ]
  },
  {
   "cell_type": "code",
   "execution_count": null,
   "metadata": {},
   "outputs": [],
   "source": [
    "# считываем данные, пропустив строки 0, 2 и 3\n",
    "df = pd.read_csv(\"Data/msft2.csv\", skiprows=[0, 2, 3])\n",
    "df[:5]"
   ]
  },
  {
   "cell_type": "code",
   "execution_count": null,
   "metadata": {},
   "outputs": [],
   "source": [
    "# смотрим файл msft_with_footer.csv\n",
    "with open('Data/msft_with_footer.csv') as file:\n",
    "    reader = csv.reader(file, delimiter=',')\n",
    "    for row in reader:\n",
    "        print(row)"
   ]
  },
  {
   "cell_type": "code",
   "execution_count": null,
   "metadata": {},
   "outputs": [],
   "source": [
    "# считываем, пропустив две строки в конце файла\n",
    "df = pd.read_csv(\"Data/msft_with_footer.csv\", \n",
    "                 skipfooter=2,\n",
    "                 engine='python')\n",
    "df"
   ]
  },
  {
   "cell_type": "code",
   "execution_count": null,
   "metadata": {},
   "outputs": [],
   "source": [
    "# считаем только первые три строки\n",
    "pd.read_csv(\"Data/orders.csv\", nrows=3)"
   ]
  },
  {
   "cell_type": "code",
   "execution_count": null,
   "metadata": {},
   "outputs": [],
   "source": [
    "# пропускаем 100 строк, а затем считываем следующие 5 строк\n",
    "pd.read_csv(\"Data/orders.csv\", skiprows=100, nrows=5) "
   ]
  },
  {
   "cell_type": "markdown",
   "metadata": {},
   "source": [
    "### Чтение и запись данных в формате Excel"
   ]
  },
  {
   "cell_type": "markdown",
   "metadata": {},
   "source": [
    "[Your Guide to Reading Excel (xlsx) Files in Python](https://www.marsja.se/your-guide-to-reading-excel-xlsx-files-in-python/)"
   ]
  },
  {
   "cell_type": "code",
   "execution_count": null,
   "metadata": {},
   "outputs": [],
   "source": [
    "# считываем файл Excel\n",
    "# считываем только данные первого рабочего листа\n",
    "# (msft в данном случае)\n",
    "df = pd.read_excel(\"Data/stocks.xlsx\")\n",
    "df[:5]"
   ]
  },
  {
   "cell_type": "code",
   "execution_count": null,
   "metadata": {},
   "outputs": [],
   "source": [
    "# считываем данные рабочего листа aapl\n",
    "aapl = pd.read_excel(\"Data/stocks.xlsx\", sheet_name='aapl')\n",
    "aapl[:5]"
   ]
  },
  {
   "cell_type": "code",
   "execution_count": null,
   "metadata": {},
   "outputs": [],
   "source": [
    "# сохраняем XLS-файл в рабочем листе 'Sheet1'\n",
    "df.to_excel(\"Data/stocks2.xls\")"
   ]
  },
  {
   "cell_type": "code",
   "execution_count": null,
   "metadata": {},
   "outputs": [],
   "source": [
    "# записываем, задав имя рабочего листа MSFT\n",
    "df.to_excel(\"Data/stocks_msft.xls\", sheet_name='MSFT')"
   ]
  },
  {
   "cell_type": "code",
   "execution_count": null,
   "metadata": {},
   "outputs": [],
   "source": [
    "# записываем несколько рабочих листов, требуется класс ExcelWriter\n",
    "from pandas import ExcelWriter\n",
    "\n",
    "with ExcelWriter(\"Data/all_stocks.xls\") as writer:\n",
    "    aapl.to_excel(writer, sheet_name='AAPL')\n",
    "    df.to_excel(writer, sheet_name='MSFT')"
   ]
  },
  {
   "cell_type": "code",
   "execution_count": null,
   "metadata": {},
   "outputs": [],
   "source": [
    "# записываем в xlsx\n",
    "df.to_excel(\"Data/msft2.xlsx\")"
   ]
  },
  {
   "cell_type": "markdown",
   "metadata": {},
   "source": [
    "### Чтение и запись JSON-файлов"
   ]
  },
  {
   "cell_type": "code",
   "execution_count": null,
   "metadata": {
    "scrolled": true
   },
   "outputs": [],
   "source": [
    "# записываем данные Excel в JSON-файл\n",
    "df[:5].to_json(\"Data/stocks.json\")\n",
    "\n",
    "# теперь взглянем на JSON-файл\n",
    "import json\n",
    "from pprint import pprint\n",
    "\n",
    "with open('Data/stocks.json') as data_file:    \n",
    "    data = json.load(data_file)\n",
    "\n",
    "pprint(data)"
   ]
  },
  {
   "cell_type": "code",
   "execution_count": null,
   "metadata": {
    "scrolled": true
   },
   "outputs": [],
   "source": [
    "# считываем данные в формате JSON\n",
    "df_from_json = pd.read_json(\"Data/stocks.json\")\n",
    "df_from_json[:5]"
   ]
  },
  {
   "cell_type": "markdown",
   "metadata": {},
   "source": [
    "### Чтение HTML-файлов из Интернета"
   ]
  },
  {
   "cell_type": "code",
   "execution_count": 3,
   "metadata": {},
   "outputs": [],
   "source": [
    "# задаем URL-адрес HTML-файла\n",
    "url = \"http://rating.unecon.ru/index.php?&y=2019&k=1&f=1&up=12259&s=2&upp=all&sort=fio&ball=hide&g=12450\"\n",
    "# читаем его\n",
    "students = pd.read_html(url, encoding='utf8')"
   ]
  },
  {
   "cell_type": "code",
   "execution_count": 4,
   "metadata": {},
   "outputs": [
    {
     "data": {
      "text/html": [
       "<div>\n",
       "<style scoped>\n",
       "    .dataframe tbody tr th:only-of-type {\n",
       "        vertical-align: middle;\n",
       "    }\n",
       "\n",
       "    .dataframe tbody tr th {\n",
       "        vertical-align: top;\n",
       "    }\n",
       "\n",
       "    .dataframe thead tr th {\n",
       "        text-align: left;\n",
       "    }\n",
       "</style>\n",
       "<table border=\"1\" class=\"dataframe\">\n",
       "  <thead>\n",
       "    <tr>\n",
       "      <th></th>\n",
       "      <th>№</th>\n",
       "      <th>Фамилия, имя, отчество</th>\n",
       "    </tr>\n",
       "    <tr>\n",
       "      <th></th>\n",
       "      <th>№</th>\n",
       "      <th>Фамилия, имя, отчество</th>\n",
       "    </tr>\n",
       "  </thead>\n",
       "  <tbody>\n",
       "    <tr>\n",
       "      <th>0</th>\n",
       "      <td>1</td>\n",
       "      <td>Абзалов Никита Фаргатович</td>\n",
       "    </tr>\n",
       "    <tr>\n",
       "      <th>1</th>\n",
       "      <td>2</td>\n",
       "      <td>Архипова Анна Дмитриевна</td>\n",
       "    </tr>\n",
       "    <tr>\n",
       "      <th>2</th>\n",
       "      <td>3</td>\n",
       "      <td>Беляева Яна Сергеевна</td>\n",
       "    </tr>\n",
       "    <tr>\n",
       "      <th>3</th>\n",
       "      <td>4</td>\n",
       "      <td>Бондаренко Руслан Александрович</td>\n",
       "    </tr>\n",
       "    <tr>\n",
       "      <th>4</th>\n",
       "      <td>5</td>\n",
       "      <td>Гирфанова Камилла Рустемовна</td>\n",
       "    </tr>\n",
       "  </tbody>\n",
       "</table>\n",
       "</div>"
      ],
      "text/plain": [
       "   №           Фамилия, имя, отчество\n",
       "   №           Фамилия, имя, отчество\n",
       "0  1        Абзалов Никита Фаргатович\n",
       "1  2         Архипова Анна Дмитриевна\n",
       "2  3            Беляева Яна Сергеевна\n",
       "3  4  Бондаренко Руслан Александрович\n",
       "4  5     Гирфанова Камилла Рустемовна"
      ]
     },
     "execution_count": 4,
     "metadata": {},
     "output_type": "execute_result"
    }
   ],
   "source": [
    "# проверяем, как была прочитана\n",
    "# часть первой таблицы\n",
    "students[0][0:5].iloc[:,0:2]"
   ]
  },
  {
   "cell_type": "code",
   "execution_count": null,
   "metadata": {},
   "outputs": [],
   "source": [
    "# считываем данные о котировках акций\n",
    "df = pd.read_excel(\"Data/stocks.xlsx\")\n",
    "# записываем первые две строки в HTML\n",
    "df.head(2).to_html(\"Data/stocks.html\")\n",
    "# смотрим HTML-файл в браузере\n",
    "import webbrowser\n",
    "webbrowser.open(\"Data/stocks.html\")"
   ]
  },
  {
   "cell_type": "markdown",
   "metadata": {},
   "source": [
    "### Загрузка данных из Интернета и облака"
   ]
  },
  {
   "cell_type": "code",
   "execution_count": null,
   "metadata": {},
   "outputs": [],
   "source": [
    "df = pd.read_csv(\n",
    "    \"https://raw.githubusercontent.com/arthur-e/swc-workshop/master/data/ecology-plots.csv\",\n",
    "    encoding='utf8')\n",
    "msft_hist[:5]"
   ]
  },
  {
   "cell_type": "markdown",
   "metadata": {},
   "source": [
    "### Чтение из базы данных SQL и запись в базу данных SQL"
   ]
  },
  {
   "cell_type": "raw",
   "metadata": {},
   "source": [
    "orders = pd.read_csv(\"Data/orders.csv\")\n",
    "#orders[\"\"]=\"MSFT\"\n",
    "customers = pd.read_csv(\"Data/customers.csv\")\n",
    "#aapl[\"Symbol\"]=\"AAPL\""
   ]
  },
  {
   "cell_type": "markdown",
   "metadata": {},
   "source": [
    ".to_sql() создаст базу SQL для хранения датафрейма в указанной таблице.  \n",
    "\n",
    "if_exists задает действие, которое нужно выполнить в том случае, если таблица уже существует\n"
   ]
  },
  {
   "cell_type": "raw",
   "metadata": {},
   "source": [
    "import sqlite3\n",
    "\n",
    "# создаем подключение\n",
    "connection = sqlite3.connect(\"Data/stocks.sqlite\")\n",
    "orders.to_sql(\"MY_DATA\", connection, if_exists=\"replace\")\n",
    "customers.to_sql(\"MY_DATA\", connection, if_exists=\"append\")\n",
    "\n",
    "# подтверждаем отправку данных в базу и закрываем подключение\n",
    "connection.commit()\n",
    "connection.close()"
   ]
  },
  {
   "cell_type": "raw",
   "metadata": {},
   "source": [
    "# подключаемся к файлу базы данных\n",
    "connection = sqlite3.connect(\"Data/stocks.sqlite\")\n",
    "\n",
    "# запрос всех записей в STOCK_DATA\n",
    "# возвращает датафрейм\n",
    "# index_col задает столбец, который нужно сделать\n",
    "# индексом датафрейма\n",
    "stocks = pd.io.sql.read_sql(\"SELECT * FROM STOCK_DATA;\", \n",
    "                             connection, index_col='index')\n",
    "\n",
    "# закрываем подключение\n",
    "connection.close()\n",
    "\n",
    "# выводим первые 5 наблюдений в извлеченных данных\n",
    "stocks[:5]"
   ]
  }
 ],
 "metadata": {
  "anaconda-cloud": {},
  "kernelspec": {
   "display_name": "Python 3",
   "language": "python",
   "name": "python3"
  },
  "language_info": {
   "codemirror_mode": {
    "name": "ipython",
    "version": 3
   },
   "file_extension": ".py",
   "mimetype": "text/x-python",
   "name": "python",
   "nbconvert_exporter": "python",
   "pygments_lexer": "ipython3",
   "version": "3.7.3"
  }
 },
 "nbformat": 4,
 "nbformat_minor": 4
}
