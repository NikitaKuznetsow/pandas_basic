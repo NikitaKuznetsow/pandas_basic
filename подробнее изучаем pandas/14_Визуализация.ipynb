{
 "cells": [
  {
   "cell_type": "code",
   "execution_count": null,
   "metadata": {},
   "outputs": [],
   "source": [
    "# импортируем библиотеки numpy и pandas\n",
    "import numpy as np\n",
    "import pandas as pd\n",
    "\n",
    "# импортируем библиотеку datetime для работы с датами\n",
    "import datetime\n",
    "from datetime import datetime, date\n",
    "\n",
    "# импортируем библиотеку matplotlib для построения графиков\n",
    "import matplotlib.pyplot as plt"
   ]
  },
  {
   "cell_type": "markdown",
   "metadata": {},
   "source": [
    "### Создание графиков временных рядов "
   ]
  },
  {
   "cell_type": "code",
   "execution_count": null,
   "metadata": {},
   "outputs": [],
   "source": [
    "# генерируем временной ряд на\n",
    "# основе случайного блуждания\n",
    "s = pd.Series(np.random.randn(1096),\n",
    "              index=pd.date_range('2012-01-01', \n",
    "                                  '2014-12-31'))\n",
    "s"
   ]
  },
  {
   "cell_type": "code",
   "execution_count": null,
   "metadata": {},
   "outputs": [],
   "source": [
    "walk_ts = s.cumsum()\n",
    "# эта строка визуализирует случайное блуждание - так просто :)\n",
    "walk_ts.plot();"
   ]
  },
  {
   "cell_type": "markdown",
   "metadata": {},
   "source": [
    "Визуализация объекта DataFrame с одним столбцом даст аналогичный результат, что и визуализация объекта Series, только теперь будет еще добавлена легенда:"
   ]
  },
  {
   "cell_type": "code",
   "execution_count": null,
   "metadata": {},
   "outputs": [],
   "source": [
    "walk_df = pd.DataFrame(walk_ts)\n",
    "walk_df.plot();"
   ]
  },
  {
   "cell_type": "code",
   "execution_count": null,
   "metadata": {},
   "outputs": [],
   "source": [
    "# сгенерируем два случайных блуждания, которые станут двумя столбцами объекта DataFrame:\n",
    "df = pd.DataFrame(np.random.randn(1096, 2), \n",
    "                  index=walk_ts.index, columns=list('AB'))\n",
    "walk_df = df.cumsum()\n",
    "walk_df.head()"
   ]
  },
  {
   "cell_type": "code",
   "execution_count": null,
   "metadata": {},
   "outputs": [],
   "source": [
    "# на графике каждый столбец будет представлен линией, а также будет добавлена легенда\n",
    "walk_df.plot();"
   ]
  },
  {
   "cell_type": "code",
   "execution_count": null,
   "metadata": {},
   "outputs": [],
   "source": [
    "# создаем копию случайного блуждания\n",
    "df2 = walk_df.copy()\n",
    "# добавляем столбец C, который принимает значения от 0 до 1096\n",
    "df2['C'] = pd.Series(np.arange(0, len(df2)), index=df2.index)\n",
    "# в качестве меток оси X вместо дат используем значения столбца 'C', получаем метки оси x в диапазоне от 0 до 1000\n",
    "df2.plot(x='C', y=['A', 'B']);"
   ]
  },
  {
   "cell_type": "markdown",
   "metadata": {},
   "source": [
    "### Добавление заголовка и изменение подписей осей"
   ]
  },
  {
   "cell_type": "code",
   "execution_count": null,
   "metadata": {},
   "outputs": [],
   "source": [
    "# создаем график временного ряда с заголовком и заданными  подписями осей x и y\n",
    "\n",
    "# заголовок задаем с помощью параметра title метода .plot()\n",
    "walk_df.plot(title='Title of the Chart')\n",
    "# после вызова метода .plot() явно\n",
    "# задаем подписи осей x и y\n",
    "plt.xlabel('Time')\n",
    "plt.ylabel('Money');"
   ]
  },
  {
   "cell_type": "markdown",
   "metadata": {},
   "source": [
    "### Настройка содержимого легенды и ее расположения"
   ]
  },
  {
   "cell_type": "code",
   "execution_count": null,
   "metadata": {},
   "outputs": [],
   "source": [
    "# изменяем элементы легенды, соответствующие именам столбцов датафрейма\n",
    "ax = walk_df.plot(title='Title of the Chart')\n",
    "# эта строка задает метки легенды\n",
    "ax.legend(['1', '2']);"
   ]
  },
  {
   "cell_type": "code",
   "execution_count": null,
   "metadata": {},
   "outputs": [],
   "source": [
    "# изменяем расположение легенды\n",
    "ax = walk_df.plot(title='Title of the Chart')\n",
    "# применяем к легенде вертикальное выравнивание сверху с горизонтальным выравниванием по центру\n",
    "ax.legend(['1', '2'], loc='upper center');"
   ]
  },
  {
   "cell_type": "code",
   "execution_count": null,
   "metadata": {},
   "outputs": [],
   "source": [
    "# отключаем легенду с помощью legend=False\n",
    "walk_df.plot(title='Title of the Chart', legend=False);"
   ]
  },
  {
   "cell_type": "markdown",
   "metadata": {},
   "source": [
    "### Настройка цветов, стилей, толщины и маркеров линий"
   ]
  },
  {
   "cell_type": "code",
   "execution_count": null,
   "metadata": {},
   "outputs": [],
   "source": [
    "# меняем цвета линий графика, используя символьный\n",
    "# код для первой линии и шестнадцатеричный\n",
    "# RGB-код для второй\n",
    "walk_df.plot(style=['g', '#FF0000']);"
   ]
  },
  {
   "cell_type": "code",
   "execution_count": null,
   "metadata": {},
   "outputs": [],
   "source": [
    "# демонстрируем различные стили линий\n",
    "t = np.arange(0., 5., 0.2)\n",
    "legend_labels = ['Solid', 'Dashed', 'Dotted', \n",
    "                 'Dot-dashed', 'Points']\n",
    "line_style = pd.DataFrame({0 : t,\n",
    "                           1 : t**1.5,\n",
    "                           2 : t**2.0,\n",
    "                           3 : t**2.5,\n",
    "                           4 : t**3.0})\n",
    "# создаем график, задав цвет и стиль каждой линии\n",
    "ax = line_style.plot(style=['r-', 'g--', 'b:', 'm-.', 'k:'])\n",
    "# задаем легенду\n",
    "ax.legend(legend_labels, loc='upper left');"
   ]
  },
  {
   "cell_type": "code",
   "execution_count": null,
   "metadata": {},
   "outputs": [],
   "source": [
    "# заново строим график, задав стиль и цвет каждой\n",
    "# линии и толщину 3 для всех линий \n",
    "ax = line_style.plot(style=['r-', 'g--', 'b:', 'm-.', 'k:'], lw=3)\n",
    "ax.legend(legend_labels, loc='upper left');"
   ]
  },
  {
   "cell_type": "code",
   "execution_count": null,
   "metadata": {},
   "outputs": [],
   "source": [
    "# рисуем заново, добавив маркеры линий\n",
    "ax = line_style.plot(style=['r-o', 'g--^', 'b:*', \n",
    "                            'm-.D', 'k:o'], lw=3)\n",
    "ax.legend(legend_labels, loc='upper left');"
   ]
  },
  {
   "cell_type": "markdown",
   "metadata": {},
   "source": [
    "### Настройка цены делений и меток делений шкалы"
   ]
  },
  {
   "cell_type": "code",
   "execution_count": null,
   "metadata": {},
   "outputs": [],
   "source": [
    "# строим простой график, чтобы продемонстрировать,\n",
    "# как извлечь информацию о делениях шкалы\n",
    "ticks_data = pd.DataFrame(np.arange(0,5))\n",
    "ticks_data.plot()\n",
    "ticks, labels = plt.xticks()\n",
    "ticks"
   ]
  },
  {
   "cell_type": "code",
   "execution_count": null,
   "metadata": {},
   "outputs": [],
   "source": [
    "# заново задаем диапазон оси x от -1 от 5 и выводим\n",
    "# деления только для целочисленных значений\n",
    "ticks_data = pd.DataFrame(np.arange(0,5))\n",
    "ticks_data.plot()\n",
    "plt.xticks(np.arange(-1, 6));"
   ]
  },
  {
   "cell_type": "code",
   "execution_count": null,
   "metadata": {},
   "outputs": [],
   "source": [
    "# переименовываем метки делений оси y\n",
    "# в метки A, B, C, D и E\n",
    "ticks_data = pd.DataFrame(np.arange(0,5))\n",
    "ticks_data.plot()\n",
    "plt.yticks(np.arange(0, 5), list(\"ABCDE\"));"
   ]
  },
  {
   "cell_type": "markdown",
   "metadata": {},
   "source": [
    "### Форматирование меток делений, содержащих даты, с помощью форматтеров"
   ]
  },
  {
   "cell_type": "code",
   "execution_count": null,
   "metadata": {},
   "outputs": [],
   "source": [
    "# визуализируем данные за январь-февраль 2014\n",
    "# на основе случайного блуждания\n",
    "walk_df.loc['2014-01':'2014-02'].plot();"
   ]
  },
  {
   "cell_type": "code",
   "execution_count": null,
   "metadata": {},
   "outputs": [],
   "source": [
    "# импортируем необходимые локаторы и форматтеры\n",
    "from matplotlib.dates import WeekdayLocator, \\\n",
    "DateFormatter, MonthLocator\n",
    "\n",
    "# визуализируем данные за январь-февраль 2014\n",
    "ax = walk_df.loc['2014-01':'2014-02'].plot()\n",
    "\n",
    "# настраиваем метки промежуточных делений\n",
    "weekday_locator = WeekdayLocator(byweekday=(0), interval=1)\n",
    "ax.xaxis.set_minor_locator(weekday_locator)\n",
    "ax.xaxis.set_minor_formatter(DateFormatter(\"%d\\n%a\"))\n",
    "\n",
    "# настраиваем метки основных делений\n",
    "ax.xaxis.set_major_locator(MonthLocator())\n",
    "ax.xaxis.set_major_formatter(DateFormatter('\\n\\n\\n%b\\n%Y'))"
   ]
  },
  {
   "cell_type": "code",
   "execution_count": null,
   "metadata": {},
   "outputs": [],
   "source": [
    "# создаем копию данных за январь-февраль 2014\n",
    "walk_subset = walk_df['2014-01':'2014-02']\n",
    "\n",
    "# строим график\n",
    "fig, ax = plt.subplots()\n",
    "\n",
    "# информируем matplotlib, что используем даты\n",
    "# обратите внимание на то, что нам нужно преобразовать\n",
    "# индекс DatetimeIndex в однородный многомерный массив Numpy,\n",
    "# состоящий из объектов datetime.datetime\n",
    "ax.plot_date(walk_subset.index.to_pydatetime(), walk_subset, '-')\n",
    "\n",
    "# настраиваем метки промежуточных делений\n",
    "weekday_locator = WeekdayLocator(byweekday=(0), interval=1)\n",
    "ax.xaxis.set_minor_locator(weekday_locator)\n",
    "ax.xaxis.set_minor_formatter(DateFormatter('%d\\n%a'))\n",
    "\n",
    "# настраиваем метки основных делений\n",
    "ax.xaxis.set_major_locator(MonthLocator())\n",
    "ax.xaxis.set_major_formatter(DateFormatter('\\n\\n\\n%b\\n%Y'));"
   ]
  },
  {
   "cell_type": "code",
   "execution_count": null,
   "metadata": {},
   "outputs": [],
   "source": [
    "# строим график\n",
    "fig, ax = plt.subplots()\n",
    "\n",
    "# информируем matplotlib, что используем даты\n",
    "# обратите внимание на то, что нам нужно преобразовать\n",
    "# индекс DatetimeIndex в однородный многомерный массив Numpy,\n",
    "# состоящий из объектов datetime.datetime\n",
    "ax.plot_date(walk_subset.index.to_pydatetime(), walk_subset, '-')\n",
    "\n",
    "# настраиваем метки промежуточных делений\n",
    "weekday_locator = WeekdayLocator(byweekday=(0), interval=1)\n",
    "ax.xaxis.set_minor_locator(weekday_locator)\n",
    "ax.xaxis.set_minor_formatter(DateFormatter('%d\\n%a'))\n",
    "ax.xaxis.grid(True, \"minor\") # включаем линии сетки для промежуточных делений\n",
    "ax.xaxis.grid(False, \"major\") # отключаем линии сетки для основных делений\n",
    "\n",
    "# настраиваем метки основных делений\n",
    "ax.xaxis.set_major_locator(MonthLocator())\n",
    "ax.xaxis.set_major_formatter(DateFormatter('\\n\\n\\n%b\\n%Y'));"
   ]
  },
  {
   "cell_type": "code",
   "execution_count": null,
   "metadata": {},
   "outputs": [],
   "source": [
    "# строим график\n",
    "fig, ax = plt.subplots()\n",
    "\n",
    "# информируем matplotlib, что используем даты\n",
    "# обратите внимание на то, что нам нужно преобразовать\n",
    "# индекс DatetimeIndex в однородный многомерный массив Numpy,\n",
    "# состоящий из объектов datetime.datetime\n",
    "ax.plot_date(walk_subset.index.to_pydatetime(), walk_subset, '-')\n",
    "\n",
    "ax.xaxis.grid(True, \"major\") # выводим линии сетки для основных делений\n",
    "\n",
    "# настраиваем метки основных делений\n",
    "ax.xaxis.set_major_locator(weekday_locator)\n",
    "ax.xaxis.set_major_formatter(DateFormatter('%Y-%m-%d'));\n",
    "\n",
    "# выполняем поворот меток с датами\n",
    "fig.autofmt_xdate();"
   ]
  },
  {
   "cell_type": "markdown",
   "metadata": {},
   "source": [
    "### Столбиковые диаграммы"
   ]
  },
  {
   "cell_type": "code",
   "execution_count": null,
   "metadata": {},
   "outputs": [],
   "source": [
    "# сгенерируем данные для столбиковой диаграммы\n",
    "# сгенерируем небольшую серию, состоящую \n",
    "# из 10 случайных значений\n",
    "np.random.seed(seedval)\n",
    "s = pd.Series(np.random.rand(10) - 0.5)\n",
    "# строим столбиковую диаграмму\n",
    "s.plot(kind='bar');"
   ]
  },
  {
   "cell_type": "code",
   "execution_count": null,
   "metadata": {},
   "outputs": [],
   "source": [
    "# сгенерируем данные для столбиковой диаграммы \n",
    "# на основе нескольких серий\n",
    "# сгенерируем 4 столбца, состоящих\n",
    "# из 10 случайных значений\n",
    "np.random.seed(seedval)\n",
    "df2 = pd.DataFrame(np.random.rand(10, 4), \n",
    "                   columns=['a', 'b', 'c', 'd'])\n",
    "# строим столбиковую диаграмму \n",
    "# на основе нескольких серий\n",
    "df2.plot(kind='bar');"
   ]
  },
  {
   "cell_type": "code",
   "execution_count": null,
   "metadata": {},
   "outputs": [],
   "source": [
    "# вертикальная состыкованная\n",
    "# столбиковая диаграмма\n",
    "df2.plot(kind='bar', stacked=True);"
   ]
  },
  {
   "cell_type": "code",
   "execution_count": null,
   "metadata": {},
   "outputs": [],
   "source": [
    "# горизонтальная состыкованная\n",
    "# столбиковая диаграмма\n",
    "df2.plot(kind='barh', stacked=True);"
   ]
  },
  {
   "cell_type": "markdown",
   "metadata": {},
   "source": [
    "### Гистограммы"
   ]
  },
  {
   "cell_type": "code",
   "execution_count": null,
   "metadata": {},
   "outputs": [],
   "source": [
    "# сгенерируем данные для гистограммы\n",
    "np.random.seed(seedval)\n",
    "# генерируем 1000 случайных чисел\n",
    "dfh = pd.DataFrame(np.random.randn(1000))\n",
    "# строим гистограмму\n",
    "dfh.hist();"
   ]
  },
  {
   "cell_type": "code",
   "execution_count": null,
   "metadata": {},
   "outputs": [],
   "source": [
    "# снова строим гистограмму, но теперь с \n",
    "# большим количеством интервалов (бинов)\n",
    "dfh.hist(bins = 100);"
   ]
  },
  {
   "cell_type": "code",
   "execution_count": null,
   "metadata": {},
   "outputs": [],
   "source": [
    "# сгенерируем данные для графика с\n",
    "# несколькими гистограммами\n",
    "# создаем датафрейм с 4 столбцами,\n",
    "# каждый состоит из 1000 случайных чисел\n",
    "np.random.seed(seedval)\n",
    "dfh = pd.DataFrame(np.random.randn(1000, 4), \n",
    "                   columns=['a', 'b', 'c', 'd'])\n",
    "# строим график. Поскольку у нас 4 столбца,\n",
    "# pandas строит четыре гистограммы\n",
    "dfh.hist();"
   ]
  },
  {
   "cell_type": "code",
   "execution_count": null,
   "metadata": {},
   "outputs": [],
   "source": [
    "# напрямую воспользуемся модулем pyplot \n",
    "# для наложения нескольких гистограмм\n",
    "# сгенерируем два распределения, каждое со своим\n",
    "# средним значением и стандартным отклонением\n",
    "np.random.seed(seedval)\n",
    "x = [np.random.normal(3,1) for _ in range(400)]\n",
    "y = [np.random.normal(4,2) for _ in range(400)]\n",
    "\n",
    "# задаем интервалы (диапазон от -10 до 10 и 100 интервалов)\n",
    "bins = np.linspace(-10, 10, 100)\n",
    "\n",
    "# строим график x с помощью plt.hist, 50% прозрачности\n",
    "plt.hist(x, bins, alpha=0.5, label='x')\n",
    "# строим график y с помощью plt.hist, 50% прозрачности\n",
    "plt.hist(y, bins, alpha=0.5, label='y')\n",
    "# размещаем легенду в верхнем правом углу\n",
    "plt.legend(loc='upper right');"
   ]
  },
  {
   "cell_type": "markdown",
   "metadata": {},
   "source": [
    "### Ящичные диаграммы с усами"
   ]
  },
  {
   "cell_type": "code",
   "execution_count": null,
   "metadata": {},
   "outputs": [],
   "source": [
    "# сгенерируем данные для ящичной диаграммы\n",
    "# сгенерируем серию\n",
    "np.random.seed(seedval)\n",
    "dfb = pd.DataFrame(np.random.randn(10,5))\n",
    "# строим график\n",
    "dfb.boxplot(return_type='axes');"
   ]
  },
  {
   "cell_type": "markdown",
   "metadata": {},
   "source": [
    "### Площадные диаграммы"
   ]
  },
  {
   "cell_type": "code",
   "execution_count": null,
   "metadata": {},
   "outputs": [],
   "source": [
    "# сгенерируем данные для состыкованной\n",
    "# площадной диаграммы\n",
    "# создадим датафрейм из 4 столбцов,\n",
    "# используя случайные числа\n",
    "np.random.seed(seedval)\n",
    "dfa = pd.DataFrame(np.random.rand(10, 4), \n",
    "                   columns=['a', 'b', 'c', 'd'])\n",
    "# создаем площадную диаграмму\n",
    "dfa.plot(kind='area');"
   ]
  },
  {
   "cell_type": "code",
   "execution_count": null,
   "metadata": {},
   "outputs": [],
   "source": [
    "# строим несостыкованную площадную диаграмму\n",
    "dfa.plot(kind='area', stacked=False);"
   ]
  },
  {
   "cell_type": "markdown",
   "metadata": {},
   "source": [
    "### Диаграммы рассеяния"
   ]
  },
  {
   "cell_type": "code",
   "execution_count": null,
   "metadata": {},
   "outputs": [],
   "source": [
    "# создаем диаграмму рассеяния, состоящую из двух серий\n",
    "# нормально распределенных случайных чисел\n",
    "# мы ожидаем получить кластер с координатами центра 0,0\n",
    "np.random.seed(seedval)\n",
    "sp_df = pd.DataFrame(np.random.randn(10000, 2), \n",
    "                     columns=['a', 'b'])\n",
    "sp_df.plot(kind='scatter', x='a', y='b');"
   ]
  },
  {
   "cell_type": "markdown",
   "metadata": {},
   "source": [
    "### График ядерной оценки плотности"
   ]
  },
  {
   "cell_type": "code",
   "execution_count": null,
   "metadata": {},
   "outputs": [],
   "source": [
    "# создаем данные для графика ядерной\n",
    "# оценки плотности\n",
    "# сгенерируем серию из 1000 случайных чисел\n",
    "np.random.seed(seedval)\n",
    "s = pd.Series(np.random.randn(1000))\n",
    "# строим график\n",
    "s.hist(density=True) # выводим столбики\n",
    "s.plot(kind='kde', figsize=(10,8));"
   ]
  },
  {
   "cell_type": "markdown",
   "metadata": {},
   "source": [
    "### Матрица диаграмм рассеяния"
   ]
  },
  {
   "cell_type": "code",
   "execution_count": null,
   "metadata": {},
   "outputs": [],
   "source": [
    "# создаем данные для матрицы\n",
    "# диаграмм рассеяния\n",
    "# импортируем класс scatter_matrix\n",
    "from pandas.plotting import scatter_matrix\n",
    "\n",
    "# создаем датафрейм с 4 столбцами,\n",
    "# каждый состоит из 1000 случайных чисел\n",
    "np.random.seed(seedval)\n",
    "df_spm = pd.DataFrame(np.random.randn(1000, 4), \n",
    "                      columns=['a', 'b', 'c', 'd'])\n",
    "# строим матрицу диаграмм рассеяния\n",
    "scatter_matrix(df_spm, alpha=0.2, figsize=(6, 6), diagonal='kde');"
   ]
  },
  {
   "cell_type": "markdown",
   "metadata": {},
   "source": [
    "### Тепловая карта"
   ]
  },
  {
   "cell_type": "code",
   "execution_count": null,
   "metadata": {},
   "outputs": [],
   "source": [
    "# создаем данные для теплокарты\n",
    "s = pd.Series([0.0, 0.1, 0.2, 0.3, 0.4],\n",
    "              ['V', 'W', 'X', 'Y', 'Z'])\n",
    "heatmap_data = pd.DataFrame({'A' : s + 0.0,\n",
    "                             'B' : s + 0.1,\n",
    "                             'C' : s + 0.2,\n",
    "                             'D' : s + 0.3,\n",
    "                             'E' : s + 0.4,\n",
    "                             'F' : s + 0.5,\n",
    "                             'G' : s + 0.6\n",
    "                     })\n",
    "heatmap_data"
   ]
  },
  {
   "cell_type": "code",
   "execution_count": null,
   "metadata": {
    "scrolled": true
   },
   "outputs": [],
   "source": [
    "# строим теплокарту\n",
    "plt.imshow(heatmap_data, cmap='hot', interpolation='none')\n",
    "plt.colorbar()  # добавим шкалу интенсивности цвета\n",
    "# задаем метки\n",
    "plt.xticks(range(len(heatmap_data.columns)), heatmap_data.columns)\n",
    "plt.yticks(range(len(heatmap_data)), heatmap_data.index);"
   ]
  },
  {
   "cell_type": "markdown",
   "metadata": {},
   "source": [
    "> В следующей главе мы рассмотрим пример, в котором теплокарты используются для визуализации корреляций."
   ]
  },
  {
   "cell_type": "markdown",
   "metadata": {},
   "source": [
    "### Размещение нескольких графиков на одном рисунке"
   ]
  },
  {
   "cell_type": "code",
   "execution_count": null,
   "metadata": {},
   "outputs": [],
   "source": [
    "# создаем два подграфика на одном рисунке,\n",
    "# используя сетку 2x1 (2 строки и 1 столбец)\n",
    "# ax1 - верхняя строка\n",
    "ax1 = plt.subplot2grid(shape=(2,1), loc=(0,0))\n",
    "# и ax2 - нижняя строка\n",
    "ax2 = plt.subplot2grid(shape=(2,1), loc=(1,0))"
   ]
  },
  {
   "cell_type": "code",
   "execution_count": null,
   "metadata": {},
   "outputs": [],
   "source": [
    "# создаем макет с подграфиками, используя сетку 4x4\n",
    "# ax1 расположен в первой строке, шириной 4 столбца,\n",
    "# все 4 столбца объединены в одну ячейку\n",
    "ax1 = plt.subplot2grid((4,4), (0,0), colspan=4)\n",
    "# ax2 расположен во второй строке, крайний слева и имеет \n",
    "# ширину в 2 столбца, при этом 2 столбца объединены в одну ячейку\n",
    "ax2 = plt.subplot2grid((4,4), (1,0), colspan=2)\n",
    "# ax3 имеет 2 столбца в ширину и 2 строки в высоту,\n",
    "# при этом два столбца и две строки объединены в одну ячейку\n",
    "ax3 = plt.subplot2grid((4,4), (1,2), colspan=2, rowspan=2)\n",
    "# ax4 имеет 1 строку в высоту и 1 столбец в ширину, \n",
    "# расположен в строке 4 и столбце 0, \n",
    "# объединение строк и столбцов не задано\n",
    "ax4 = plt.subplot2grid((4,4), (2,0))\n",
    "# ax4 имеет 1 строку в высоту и 1 столбец в ширину, \n",
    "# расположен в строке 4 и столбце 1\n",
    "# объединение строк и столбцов не задано\n",
    "ax5 = plt.subplot2grid((4,4), (2,1));"
   ]
  },
  {
   "cell_type": "code",
   "execution_count": null,
   "metadata": {},
   "outputs": [],
   "source": [
    "# демонстрируем построение подграфиков\n",
    "# создаем макет, используя сетку 2x1,\n",
    "# в каждой строке по одному подграфику\n",
    "ax5 = plt.subplot2grid((2,1), (0,0))\n",
    "ax6 = plt.subplot2grid((2,1), (1,0))\n",
    "# отрисовываем первый подграфик на основе столбца 0 \n",
    "# датафрейма walk_df в верхней строке сетки\n",
    "walk_df[walk_df.columns[0]].plot(ax = ax5)\n",
    "# отрисовываем второй подграфик на основе столбца 1 \n",
    "# датафрейма walk_df в нижней строке сетки\n",
    "walk_df[[walk_df.columns[1]]].plot(ax = ax6);"
   ]
  }
 ],
 "metadata": {
  "kernelspec": {
   "display_name": "Python 3",
   "language": "python",
   "name": "python3"
  },
  "language_info": {
   "codemirror_mode": {
    "name": "ipython",
    "version": 3
   },
   "file_extension": ".py",
   "mimetype": "text/x-python",
   "name": "python",
   "nbconvert_exporter": "python",
   "pygments_lexer": "ipython3",
   "version": "3.7.3"
  }
 },
 "nbformat": 4,
 "nbformat_minor": 4
}
