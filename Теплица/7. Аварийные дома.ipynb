{
 "cells": [
  {
   "cell_type": "markdown",
   "metadata": {},
   "source": [
    "<a href=\"https://colab.research.google.com/github/dm-fedorov/pandas_basic/blob/master/%D0%A2%D0%B5%D0%BF%D0%BB%D0%B8%D1%86%D0%B0/7.%20%D0%90%D0%B2%D0%B0%D1%80%D0%B8%D0%B9%D0%BD%D1%8B%D0%B5%20%D0%B4%D0%BE%D0%BC%D0%B0.ipynb\" target=\"_blank\"><img align=\"left\" src=\"https://colab.research.google.com/assets/colab-badge.svg\" alt=\"Open in Colab\" title=\"Open and Execute in Google Colaboratory\"></a>"
   ]
  },
  {
   "cell_type": "markdown",
   "metadata": {},
   "source": [
    "- `address` - Населенный пункт (наименование)\n",
    "- `houseguid` - Адрес дома\n",
    "- `cadastral_number` - Глобальный уникальный идентификатор дома\n",
    "- `stage` - Дата постановки на кадастровый учет\n",
    "- `built_year` - Стадия жизненного цикла\n",
    "- `exploitation_start_year` - Год постройки\n",
    "- `project_type` - Год ввода в эксплуатацию\n",
    "- `house_type` - Серия, тип постройки здания\n",
    "- `floor_count_max` - Тип дома\n",
    "- `floor_count_min` - Наибольшее количество этажей, ед.\n",
    "- `entrance_count` - Наименьшее количество этажей, ед.\n",
    "- `residents_count` - Количество подъездов, ед.\n",
    "- `area_total` - Количество проживающих, чел.\n",
    "- `area_residential` - Общая площадь дома, всего, кв. м\n",
    "- `area_non_residential` - Общая площадь жилых помещений, кв. м\n",
    "- `area_common_property` - Общая площадь помещений, входящих в состав общего имущества, кв.м\n",
    "- `area_land` - Площадь земельного участка, входящего в состав общего имущества в многоквартирном доме, кв.м\n",
    "- `monument_status` - Наличие статуса памятника архитектуры\n",
    "- `monument_document_date` - Дата документа о признании дома памятником архитектуры\n",
    "- `monument_document_number` - Номер документа о признании дома памятником архитектуры\n",
    "- `deterioration_total` - Общая степень износа здания\n",
    "- `determined_date` - Дата, на которую установлен износ здания\n",
    "- `floor_type` - Тип перекрытий\n",
    "- `wall_material` - материал стен\n",
    "- `alarm_reason` - Материал несущих стен\n",
    "- `alarm_reason_other` - Причина признания дома аварийным\n",
    "- `alarm_document_number` - Причина признания дома аварийным (другое)\n",
    "- `alarm_has_file` - Номер решения органа местного самоуправления/органа исполнительной власти субъекта РФ о признании многоквартирного дома аварийным\n",
    "- `exp_name` - Файл решения\n",
    "- `exp_document_number` - Наименование специализированной организации, проводившей обследование многоквартирного дома\n",
    "- `exp_document_date` - Номер экспертного заключения, проведенного специализированной организацией\n",
    "- `exp_has_file` - Дата экспертного заключения\n",
    "- `commission_document_number` - Файл экспертного заключения\n",
    "- `commission_document_date` - Номер заключения межведомственной комиссии\n",
    "- `commission_has_file` - Дата заключения\n",
    "- `further_use` - Файл заключения\n",
    "- `decision_deadline_date` - Дальнейшее использование\n",
    "- `planned_resettlement_date` - Срок для принятия собственниками помещений дома решения о сносе или реконструкции\n",
    "- `actual_resettlement_date` - Планируемая дата завершения расселения\n",
    "- `planned_rooms_count` - Фактическая дата завершения расселения\n",
    "- `planned_rooms_square` - Количество помещений, подлежащих расселению, ед.\n",
    "- `planned_ppl_count` - Площадь помещений, подлежащих расселению, кв.м\n",
    "- `planned_demolition_date` - Количество граждан, подлежащих расселению, чел.\n",
    "- `resettled_rooms_count` - Планируемая дата сноса\n",
    "- `resettled_rooms_square` - Количество расселенных помещений, ед.\n",
    "- `resettled_ppl_count` - Площадь расселенных помещений, кв.м\n",
    "- `empty_rooms_count` - Количество постоянно проживающих членов семьи в расселенных помещениях, чел.\n",
    "- `empty_rooms_square` - Количество пустующих помещений, ед.\n",
    "- `redemption_amount` - Площадь пустующих помещений, кв.м\n",
    "- `planned_providing_area_square` - Общая сумма необходимого финансирования, тыс.руб.\n",
    "- `alarm_document_date` - Площадь помещений, планируемая для предоставления, кв.м\n",
    "- `year_alarm_document` - Дата решения"
   ]
  },
  {
   "cell_type": "code",
   "execution_count": null,
   "metadata": {},
   "outputs": [],
   "source": [
    "import pandas as pd\n",
    "\n",
    "url = \"https://raw.githubusercontent.com/dm-fedorov/pandas_basic/master/data/houses.csv\"\n",
    "pd.read_csv(url)"
   ]
  },
  {
   "cell_type": "markdown",
   "metadata": {},
   "source": [
    "### Определите\n",
    "\n",
    "Сколько домов признано аварийными по регионам?"
   ]
  },
  {
   "cell_type": "code",
   "execution_count": null,
   "metadata": {},
   "outputs": [],
   "source": []
  },
  {
   "cell_type": "markdown",
   "metadata": {},
   "source": [
    "Сколько домов с 2010 года признано аварийными по городам?"
   ]
  },
  {
   "cell_type": "code",
   "execution_count": null,
   "metadata": {},
   "outputs": [],
   "source": []
  },
  {
   "cell_type": "markdown",
   "metadata": {},
   "source": [
    "Какая доля домов признана аварийными из-за пожара?"
   ]
  },
  {
   "cell_type": "code",
   "execution_count": null,
   "metadata": {},
   "outputs": [],
   "source": []
  },
  {
   "cell_type": "markdown",
   "metadata": {},
   "source": [
    "Сколько домов признавалось аварийными по годам?"
   ]
  },
  {
   "cell_type": "code",
   "execution_count": null,
   "metadata": {},
   "outputs": [],
   "source": []
  }
 ],
 "metadata": {
  "kernelspec": {
   "display_name": "Python 3",
   "language": "python",
   "name": "python3"
  },
  "language_info": {
   "codemirror_mode": {
    "name": "ipython",
    "version": 3
   },
   "file_extension": ".py",
   "mimetype": "text/x-python",
   "name": "python",
   "nbconvert_exporter": "python",
   "pygments_lexer": "ipython3",
   "version": "3.7.3"
  }
 },
 "nbformat": 4,
 "nbformat_minor": 4
}
