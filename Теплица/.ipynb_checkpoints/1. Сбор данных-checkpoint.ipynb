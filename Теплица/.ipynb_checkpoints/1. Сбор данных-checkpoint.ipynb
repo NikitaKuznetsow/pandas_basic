{
 "cells": [
  {
   "cell_type": "markdown",
   "metadata": {},
   "source": [
    "[«Data-вебинары с Андреем Дорожным: данные для начинающих»](https://youtu.be/YCxTK3z7kAs)\n",
    "\n",
    "1) Данных много (мобильные, самолеты, носимая техника).\n",
    "\n",
    "2) Доступ к устройствам для обработки данных.\n",
    "\n",
    "Будем работать с данными в табличном виде.\n",
    "\n",
    "<img src=\"https://raw.githubusercontent.com/dm-fedorov/pandas_basic/master/%D0%A2%D0%B5%D0%BF%D0%BB%D0%B8%D1%86%D0%B0/pic/data.jpg\" height=\"400px\" width=\"500px\" >\n",
    "\n",
    "### Типы величин\n",
    "- категориальные (номинальные): Москва, Петербург\n",
    "- - бинарные: да, нет; правда, ложь\n",
    "- количественные (дискретные): число учеников в классе, число парковок в городе\n",
    "- количественные (непрерывные): число километров (не целые)\n",
    "- ранговые: слабый, средний, крепкий чай; низкий, средний, высокий\n",
    "\n",
    "### Определите тип переменной\n",
    "\n",
    "- группа крови\n",
    "- рост в мм\n",
    "- успеваемость студентов\n",
    "- количество публикаций ученого\n",
    "\n",
    "### Форматы данных\n",
    "\n",
    "<img src=\"https://raw.githubusercontent.com/dm-fedorov/pandas_basic/master/%D0%A2%D0%B5%D0%BF%D0%BB%D0%B8%D1%86%D0%B0/pic/format.jpg\" height=\"400px\" width=\"500px\" >"
   ]
  },
  {
   "cell_type": "markdown",
   "metadata": {},
   "source": [
    "<img src=\"https://raw.githubusercontent.com/dm-fedorov/pandas_basic/master/%D0%A2%D0%B5%D0%BF%D0%BB%D0%B8%D1%86%D0%B0/pic/data_null.jpg\" height=\"400px\" width=\"400px\" >"
   ]
  },
  {
   "cell_type": "markdown",
   "metadata": {},
   "source": [
    "[Вебинар 2](https://youtu.be/6jGquaD1XMo)\n",
    "\n",
    "**Источники данных:**\n",
    "\n",
    "- государство\n",
    "- компании \n",
    "- общественные данные\n",
    "- альтернативные источники"
   ]
  },
  {
   "cell_type": "markdown",
   "metadata": {},
   "source": [
    "**Государственные данные:**\n",
    "\n",
    "- ЕМИСС https://www.fedstat.ru/ \n",
    "- Росстат https://www.gks.ru/ \n",
    "\n",
    "[Как запросить данные у государства?](https://read.infometer.org/odhandbook)"
   ]
  },
  {
   "cell_type": "markdown",
   "metadata": {},
   "source": [
    "**Международные базы данных**\n",
    "\n",
    "- [Всемирная Организация Здравоохранения](https://www.who.int/healthinfo/statistics/en/)\n",
    "- [Организации Объединенных Наций](http://data.un.org/)\n",
    "- [Population Reference Bureau](http://www.prb.org/)\n",
    "- [Данные UNICEF](http://data.unicef.org/)\n",
    "- [Каталог общедоступных данных Google](https://www.google.com/publicdata/directory)\n",
    "- [Данные DBPedia](http://wiki.dbpedia.org/Datasets)\n",
    "- [Factual](https://www.factual.com/)\n",
    "- [Бесплатные ГИС-данные](http://freegisdata.rtwilson.com/)\n",
    "- [Список открытых ресурсов с данными](http://abigbang.wikidot.com/opendata-list-of-resources)\n",
    "- [Репозитории данных по темам](http://oad.simmons.edu/oadwiki/Data_repositories)\n",
    "- [World Research Institute](http://www.wri.org/)\n",
    "- [Quora тема: \"Где я могу найти большие массивы данных в открытом доступе?\"](https://www.quora.com/Data/Where-can-I-find-large-datasets-open-to-the-public)\n",
    "- [Директория APIs](https://www.programmableweb.com/apis/directory)\n",
    "- [Оффшорные Утечки](https://offshoreleaks.icij.org/)\n",
    "- [Investigative Dashboard](https://investigativedashboard.org/)\n",
    "- [Open Corporates](https://opencorporates.com/)\n",
    "- [Natural Earth Data](http://www.naturalearthdata.com/)\n",
    "- [Программа ООН по окружающей среде](http://geodata.grid.unep.ch/)\n",
    "- [Индекс восприятия коррупции](https://www.transparency.org/research/cpi/overview)\n",
    "- [База данных по сделкам с землей](https://landmatrix.org/)\n",
    "- [Gapminder](https://www.gapminder.org/)\n",
    "- [Глобальная Лаборатория Данных](https://globaldatalab.org/)\n",
    "\n"
   ]
  },
  {
   "cell_type": "markdown",
   "metadata": {},
   "source": [
    "[Динамика цен на продажу квартир по городам](https://www.domofond.ru/nedvizhimost-tseny-goroda-prodazha)"
   ]
  },
  {
   "cell_type": "markdown",
   "metadata": {},
   "source": [
    "Расширенные запросы Google: **экология filetype:csv**"
   ]
  },
  {
   "cell_type": "markdown",
   "metadata": {},
   "source": [
    "https://datasetsearch.research.google.com/"
   ]
  },
  {
   "cell_type": "markdown",
   "metadata": {},
   "source": [
    "**Где искать данные?**\n",
    "\n",
    "- [На все случаи данных](https://read.infometer.org/opendata_sources)\n",
    "\n",
    "- [Доска в Трелло](https://trello.com/b/wpWtb0a9/%D0%B4%D0%B0%D0%BD%D0%BD%D1%8B%D0%B5)\n",
    "\n",
    "- [Карты данных Инфокультуры](https://www.infoculture.ru/2018/12/10/datamaps/)\n",
    "\n",
    "- [Данные АНО «Информационная культура»](https://www.infoculture.ru/projects/)"
   ]
  },
  {
   "cell_type": "markdown",
   "metadata": {},
   "source": [
    "Пример использования открытых данных [Карта ДТП](https://dtp-stat.ru/)"
   ]
  },
  {
   "cell_type": "markdown",
   "metadata": {},
   "source": [
    "Если данных нет в готовом виде, то их приходится собирать в автоматическом режиме с сайтов (**скрейпинг**)\n",
    "\n",
    "- расширение для Chrome - [Table Capture](https://chrome.google.com/webstore/detail/table-capture/iebpjdmgckacbodjpijphcplhebcmeop) позволяет вытаскивать таблицы из веб-страниц.\n",
    "\n",
    "- расширение для Chrome - [Instant Data Scraper](https://chrome.google.com/webstore/detail/instant-data-scraper/ofaokhiedipichpaobibbnahnkdoiiah)\n",
    "\n",
    "**Более сложные инструменты:**\n",
    "\n",
    "- https://datatoolbar.com/\n",
    "\n",
    "- https://www.webscraper.io/"
   ]
  },
  {
   "cell_type": "markdown",
   "metadata": {},
   "source": [
    "[Больше 40 источников для поиска статистики](https://vc.ru/media/121834-bolshe-40-istochnikov-dlya-poiska-statistiki)"
   ]
  },
  {
   "cell_type": "markdown",
   "metadata": {},
   "source": [
    "**Проверка данных**\n",
    "\n",
    "- Когда и где были собраны данные?\n",
    "- Какой временной период покрывают данные?\n",
    "- Как собирались данные\n",
    "- Какая организация предоставила эти данные?\n",
    "- Из каких источников эта организация получила?\n",
    "- Могу ли я найти пояснения к этим данным?\n",
    "- Есть ли ссылки на источники данных в таблице?\n",
    "- Это новые или устаревшие данные? \n",
    "- Что означают показатели?\n",
    "- Могу ли я посмотреть определения показателей, которые мне непонятны?\n",
    "- Что означают цифры? Что является единицей измерения?\n",
    "- Можно ли получить эти данные, используя другие величины из другого источника? "
   ]
  },
  {
   "cell_type": "markdown",
   "metadata": {},
   "source": [
    "**Доверие к данным**\n",
    "\n",
    "- Какая организация предоставила эти данные?\n",
    "- Из каких источников эта организация получила?\n",
    "- Могу ли я найти пояснения к этим данным?\n",
    "- Есть ли ссылки на источники данных в таблице?\n",
    "- Это новые или устаревшие данные? \n",
    "- Что означают показатели?\n",
    "- Могу ли я посмотреть определения показателей, которые мне непонятны?\n",
    "- Что означают цифры? Что является единицей измерения?\n",
    "- Можно ли получить эти данные, используя другие величины из другого источника? "
   ]
  },
  {
   "cell_type": "code",
   "execution_count": null,
   "metadata": {},
   "outputs": [],
   "source": []
  }
 ],
 "metadata": {
  "kernelspec": {
   "display_name": "Python 3",
   "language": "python",
   "name": "python3"
  },
  "language_info": {
   "codemirror_mode": {
    "name": "ipython",
    "version": 3
   },
   "file_extension": ".py",
   "mimetype": "text/x-python",
   "name": "python",
   "nbconvert_exporter": "python",
   "pygments_lexer": "ipython3",
   "version": "3.7.3"
  }
 },
 "nbformat": 4,
 "nbformat_minor": 4
}
