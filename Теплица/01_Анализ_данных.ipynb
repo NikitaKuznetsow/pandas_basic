{
 "cells": [
  {
   "cell_type": "markdown",
   "metadata": {},
   "source": [
    "### Очистка данных"
   ]
  },
  {
   "cell_type": "markdown",
   "metadata": {},
   "source": [
    "Мусор на входе - мусор на выходе."
   ]
  },
  {
   "cell_type": "markdown",
   "metadata": {},
   "source": [
    "- объединенные ячейки\n",
    "- разный регистр для строк\n",
    "- разные типы переменных в пределах одного столбца (разные форматы дат)\n",
    "- пропущенные значения"
   ]
  },
  {
   "cell_type": "markdown",
   "metadata": {},
   "source": [
    "<img src=\"https://raw.githubusercontent.com/dm-fedorov/pandas_basic/master/%D0%A2%D0%B5%D0%BF%D0%BB%D0%B8%D1%86%D0%B0/pic/table.jpg\" height=\"300px\" width=\"500px\" >"
   ]
  },
  {
   "cell_type": "markdown",
   "metadata": {},
   "source": [
    "<img src=\"https://raw.githubusercontent.com/dm-fedorov/pandas_basic/master/%D0%A2%D0%B5%D0%BF%D0%BB%D0%B8%D1%86%D0%B0/pic/table.jpg\" height=\"300px\" width=\"500px\" >"
   ]
  },
  {
   "cell_type": "markdown",
   "metadata": {},
   "source": [
    "**Создание сводных таблиц**\n",
    "\n",
    "<img src=\"https://raw.githubusercontent.com/dm-fedorov/pandas_basic/master/%D0%A2%D0%B5%D0%BF%D0%BB%D0%B8%D1%86%D0%B0/pic/table_all.jpg\" height=\"400px\" width=\"500px\" >\n"
   ]
  },
  {
   "cell_type": "markdown",
   "metadata": {},
   "source": [
    "**Чек-лист очистки данных**\n",
    "\n",
    "1. Посмотреть датасет, проверить вкладки, объем датасета.\n",
    "2. Переименовать файл, вкладку (латинскими буквами).\n",
    "3. Очистите форматирование.\n",
    "4. Очистите шапку, сделайте в одну строку.\n",
    "5. Описания колонок сохраните в отдельную вкладку (латинские буквы).\n",
    "6. Поправьте форматы переменных (числа, текст).\n",
    "7. Заморозьте первую строку.\n",
    "8. Проверьте датасет на дубликаты.\n",
    "9. Если есть, удалите дубликаты.\n",
    "10. Разделите необходимые колонки.\n",
    "11. Проверьте все 10 пунктов."
   ]
  },
  {
   "cell_type": "markdown",
   "metadata": {},
   "source": [
    "# Дополнительная информация:\n",
    "\n",
    "* [Data-вебинары с Андреем Дорожным: данные для начинающих](https://www.youtube.com/watch?v=ppE6LKvuk7Q)\n",
    "* [Вебинар 4](https://youtu.be/qZbpdDDPUlo)\n",
    "* [Вебинар 5](https://youtu.be/LzLiArJN5Ws)"
   ]
  }
 ],
 "metadata": {
  "kernelspec": {
   "display_name": "Python 3",
   "language": "python",
   "name": "python3"
  },
  "language_info": {
   "codemirror_mode": {
    "name": "ipython",
    "version": 3
   },
   "file_extension": ".py",
   "mimetype": "text/x-python",
   "name": "python",
   "nbconvert_exporter": "python",
   "pygments_lexer": "ipython3",
   "version": "3.8.3"
  }
 },
 "nbformat": 4,
 "nbformat_minor": 4
}
