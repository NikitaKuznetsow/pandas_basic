{
 "cells": [
  {
   "cell_type": "markdown",
   "metadata": {},
   "source": [
    "### Классификатор организаций, предприятий и учреждений культуры"
   ]
  },
  {
   "cell_type": "markdown",
   "metadata": {},
   "source": [
    "<a href=\"https://colab.research.google.com/github/dm-fedorov/pandas_basic/blob/master/%D0%A2%D0%B5%D0%BF%D0%BB%D0%B8%D1%86%D0%B0/5.%20%D0%9F%D0%B0%D1%80%D0%BA%D0%B8.ipynb\"><img align=\"left\" src=\"https://colab.research.google.com/assets/colab-badge.svg\" alt=\"Open in Colab\" title=\"Open and Execute in Google Colaboratory\" target=\"_blank\"></a>"
   ]
  },
  {
   "cell_type": "markdown",
   "metadata": {},
   "source": [
    "- КОПУК\n",
    "- Название\n",
    "- Адрес\n",
    "- Число дней работы парка (Единица)\n",
    "- Общая площадь парка (Гектар)\n",
    "- Число досуговых объектов: всего (Единица)\n",
    "- Число досуговых объектов: требуют капитального ремонта  (Единица)\n",
    "- Число досуговых объектов: работающие круглогодично (Единица)\n",
    "- Количество спортивных объектов (залов, площадок): в летний сезон (Единица)\n",
    "- Количество спортивных объектов (залов, площадок): в зимний сезон (Единица)\n",
    "- Прокат спортивного инвентаря: в летний сезон (Единица)\n",
    "- Прокат спортивного инвентаря: в зимний сезон (Единица)\n",
    "- Число концертных площадок, павильонов (Единица)\n",
    "- Количество игровых объектов на детских площадках: в летний сезон (Единица)\n",
    "- Количество игровых объектов на детских площадках: в зимний сезон (Единица)\n",
    "- Количество посадочных мест в кафе и ресторанах: в летний сезон (Единица)\n",
    "- Количество посадочных мест в кафе и ресторанах: в зимний сезон (Единица)\n",
    "- Количество туалетов: в летний сезон (Единица)\n",
    "- Количество туалетов: в зимний сезон (Единица)\n",
    "- Наличие доступа в Интернет (Единица)\n",
    "- Число культурно-массовых и физкультурно-оздоровительных мероприятий: всего (Единица)\n",
    "- Численность работников: всего (Человек)\n",
    "- Численность работников: штатных (Человек)"
   ]
  },
  {
   "cell_type": "code",
   "execution_count": null,
   "metadata": {},
   "outputs": [],
   "source": [
    "import pandas as pd\n",
    "\n",
    "url = \"https://raw.githubusercontent.com/dm-fedorov/pandas_basic/master/data/park.csv\"\n",
    "pd.read_csv(url)"
   ]
  },
  {
   "cell_type": "code",
   "execution_count": null,
   "metadata": {},
   "outputs": [],
   "source": []
  }
 ],
 "metadata": {
  "kernelspec": {
   "display_name": "Python 3",
   "language": "python",
   "name": "python3"
  },
  "language_info": {
   "codemirror_mode": {
    "name": "ipython",
    "version": 3
   },
   "file_extension": ".py",
   "mimetype": "text/x-python",
   "name": "python",
   "nbconvert_exporter": "python",
   "pygments_lexer": "ipython3",
   "version": "3.7.3"
  }
 },
 "nbformat": 4,
 "nbformat_minor": 4
}
