{
 "cells": [
  {
   "cell_type": "markdown",
   "metadata": {},
   "source": [
    "<a href=\"https://colab.research.google.com/github/dm-fedorov/pandas_basic/blob/master/кейсы%20по%20анализу%20данных/Виды_спорта.ipynb\" target=\"_blank\"><img align=\"left\" src=\"https://colab.research.google.com/assets/colab-badge.svg\" alt=\"Open in Colab\" title=\"Open and Execute in Google Colaboratory\"></a>"
   ]
  },
  {
   "cell_type": "code",
   "execution_count": 7,
   "metadata": {},
   "outputs": [],
   "source": [
    "import numpy as np\n",
    "import pandas as pd"
   ]
  },
  {
   "cell_type": "markdown",
   "metadata": {},
   "source": [
    "# Задание\n",
    "\n",
    "Определите наиболее популярный вид спорта в стране, исходя из количества построенных спортивных объектов для них. \n",
    "\n",
    "Файл с данными находится по [ссылке](https://raw.githubusercontent.com/dm-fedorov/python_basic/master/data/sports.stat).\n",
    "\n",
    "Cтолбцы файла:\n",
    "- порядковый номер строки;\n",
    "- наименование спортивного объект;\n",
    "- полный адрес спортивного объекта;\n",
    "- виды спорта, для которых предназначен спортивный объект;\n",
    "- пропускная способность объекта;\n",
    "- вместимость объекта;\n",
    "- площадь объекта (Га)."
   ]
  },
  {
   "cell_type": "code",
   "execution_count": 8,
   "metadata": {},
   "outputs": [],
   "source": [
    "url = \"https://raw.githubusercontent.com/dm-fedorov/python_basic/master/data/sports.stat\""
   ]
  },
  {
   "cell_type": "code",
   "execution_count": 9,
   "metadata": {},
   "outputs": [
    {
     "data": {
      "text/html": [
       "<div>\n",
       "<style scoped>\n",
       "    .dataframe tbody tr th:only-of-type {\n",
       "        vertical-align: middle;\n",
       "    }\n",
       "\n",
       "    .dataframe tbody tr th {\n",
       "        vertical-align: top;\n",
       "    }\n",
       "\n",
       "    .dataframe thead th {\n",
       "        text-align: right;\n",
       "    }\n",
       "</style>\n",
       "<table border=\"1\" class=\"dataframe\">\n",
       "  <thead>\n",
       "    <tr style=\"text-align: right;\">\n",
       "      <th></th>\n",
       "      <th>Наименование</th>\n",
       "      <th>Полный адрес</th>\n",
       "      <th>Виды спорта</th>\n",
       "      <th>Пропускная способность</th>\n",
       "      <th>Вместимость</th>\n",
       "      <th>Площадь (Га)</th>\n",
       "    </tr>\n",
       "    <tr>\n",
       "      <th>Номер</th>\n",
       "      <th></th>\n",
       "      <th></th>\n",
       "      <th></th>\n",
       "      <th></th>\n",
       "      <th></th>\n",
       "      <th></th>\n",
       "    </tr>\n",
       "  </thead>\n",
       "  <tbody>\n",
       "    <tr>\n",
       "      <th>1</th>\n",
       "      <td>Государственное бюджетное учреждение города Мо...</td>\n",
       "      <td>Крылатская ул, 16, Москва, Россия, 121609</td>\n",
       "      <td>конькобежный спорт</td>\n",
       "      <td>NaN</td>\n",
       "      <td>7209</td>\n",
       "      <td>12,7275</td>\n",
       "    </tr>\n",
       "    <tr>\n",
       "      <th>2</th>\n",
       "      <td>Горнолыжный комплекс Уязы-Тау</td>\n",
       "      <td>Октябрьский, Россия, 452613</td>\n",
       "      <td>сноуборд , горнолыжный спорт</td>\n",
       "      <td>310</td>\n",
       "      <td>0</td>\n",
       "      <td>36,57</td>\n",
       "    </tr>\n",
       "    <tr>\n",
       "      <th>3</th>\n",
       "      <td>Здание спортивно-тренировочного центра приклад...</td>\n",
       "      <td>Кирова, 100, Медынь, Россия, 249950</td>\n",
       "      <td>волейбол , самбо</td>\n",
       "      <td>500</td>\n",
       "      <td>200</td>\n",
       "      <td>1,0826</td>\n",
       "    </tr>\n",
       "    <tr>\n",
       "      <th>4</th>\n",
       "      <td>Футбольное поле с искусственным покрытием</td>\n",
       "      <td>Девонская, 12 А, Октябрьский, Россия, 452600</td>\n",
       "      <td>NaN</td>\n",
       "      <td>NaN</td>\n",
       "      <td>0</td>\n",
       "      <td>1,2</td>\n",
       "    </tr>\n",
       "    <tr>\n",
       "      <th>5</th>\n",
       "      <td>Горнолыжный центр с инженерной защитой террито...</td>\n",
       "      <td>Красная поляна, Сочи, Россия, 354392</td>\n",
       "      <td>горнолыжный спорт , спортивный туризм</td>\n",
       "      <td>10450</td>\n",
       "      <td>0</td>\n",
       "      <td>21</td>\n",
       "    </tr>\n",
       "  </tbody>\n",
       "</table>\n",
       "</div>"
      ],
      "text/plain": [
       "                                            Наименование  \\\n",
       "Номер                                                      \n",
       "1      Государственное бюджетное учреждение города Мо...   \n",
       "2                         Горнолыжный комплекс Уязы-Тау    \n",
       "3      Здание спортивно-тренировочного центра приклад...   \n",
       "4              Футбольное поле с искусственным покрытием   \n",
       "5      Горнолыжный центр с инженерной защитой террито...   \n",
       "\n",
       "                                       Полный адрес  \\\n",
       "Номер                                                 \n",
       "1         Крылатская ул, 16, Москва, Россия, 121609   \n",
       "2                       Октябрьский, Россия, 452613   \n",
       "3               Кирова, 100, Медынь, Россия, 249950   \n",
       "4      Девонская, 12 А, Октябрьский, Россия, 452600   \n",
       "5              Красная поляна, Сочи, Россия, 354392   \n",
       "\n",
       "                                   Виды спорта Пропускная способность  \\\n",
       "Номер                                                                   \n",
       "1                          конькобежный спорт                     NaN   \n",
       "2                сноуборд , горнолыжный спорт                     310   \n",
       "3                            волейбол , самбо                     500   \n",
       "4                                          NaN                    NaN   \n",
       "5       горнолыжный спорт , спортивный туризм                   10450   \n",
       "\n",
       "      Вместимость Площадь (Га)  \n",
       "Номер                           \n",
       "1            7209      12,7275  \n",
       "2               0        36,57  \n",
       "3             200       1,0826  \n",
       "4               0          1,2  \n",
       "5               0           21  "
      ]
     },
     "execution_count": 9,
     "metadata": {},
     "output_type": "execute_result"
    }
   ],
   "source": [
    "df = pd.read_csv(url, sep=\"\\t\", index_col=\"Номер\")\n",
    "df.head()"
   ]
  },
  {
   "cell_type": "code",
   "execution_count": 10,
   "metadata": {},
   "outputs": [
    {
     "data": {
      "text/plain": [
       "Номер\n",
       "1                        конькобежный спорт \n",
       "2              сноуборд , горнолыжный спорт \n",
       "3                          волейбол , самбо \n",
       "4                                        NaN\n",
       "5     горнолыжный спорт , спортивный туризм \n",
       "Name: Виды спорта, dtype: object"
      ]
     },
     "execution_count": 10,
     "metadata": {},
     "output_type": "execute_result"
    }
   ],
   "source": [
    "df[\"Виды спорта\"].head()"
   ]
  },
  {
   "cell_type": "code",
   "execution_count": 11,
   "metadata": {},
   "outputs": [
    {
     "data": {
      "text/plain": [
       "Номер\n",
       "1                                  [ конькобежный спорт ]\n",
       "2                       [ сноуборд ,  горнолыжный спорт ]\n",
       "3                                   [ волейбол ,  самбо ]\n",
       "4                                                     NaN\n",
       "5              [ горнолыжный спорт ,  спортивный туризм ]\n",
       "                              ...                        \n",
       "1452        [ пулевая стрельба ,  практическая стрельба ]\n",
       "1453    [ самбо ,  легкая атлетика,  прыжки на батуте,...\n",
       "1454                                         [ плавание ]\n",
       "1455        [ практическая стрельба ,  пулевая стрельба ]\n",
       "1456    [теннис,  футбол,  хоккей,  баскетбол,  легкая...\n",
       "Name: Виды спорта, Length: 1453, dtype: object"
      ]
     },
     "execution_count": 11,
     "metadata": {},
     "output_type": "execute_result"
    }
   ],
   "source": [
    "df[\"Виды спорта\"].str.split(\",\")"
   ]
  },
  {
   "cell_type": "code",
   "execution_count": 17,
   "metadata": {},
   "outputs": [
    {
     "data": {
      "text/plain": [
       "' самбо , легкая атлетика, прыжки на батуте, Акробатика'"
      ]
     },
     "execution_count": 17,
     "metadata": {},
     "output_type": "execute_result"
    }
   ],
   "source": [
    "df.loc[1453][\"Виды спорта\"]"
   ]
  },
  {
   "cell_type": "code",
   "execution_count": null,
   "metadata": {},
   "outputs": [],
   "source": []
  }
 ],
 "metadata": {
  "kernelspec": {
   "display_name": "Python 3",
   "language": "python",
   "name": "python3"
  },
  "language_info": {
   "codemirror_mode": {
    "name": "ipython",
    "version": 3
   },
   "file_extension": ".py",
   "mimetype": "text/x-python",
   "name": "python",
   "nbconvert_exporter": "python",
   "pygments_lexer": "ipython3",
   "version": "3.8.3"
  }
 },
 "nbformat": 4,
 "nbformat_minor": 4
}
