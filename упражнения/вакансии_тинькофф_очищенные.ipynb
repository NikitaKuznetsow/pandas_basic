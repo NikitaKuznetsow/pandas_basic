{
 "cells": [
  {
   "cell_type": "code",
   "execution_count": 17,
   "metadata": {
    "scrolled": true
   },
   "outputs": [
    {
     "name": "stdout",
     "output_type": "stream",
     "text": [
      "<class 'pandas.core.frame.DataFrame'>\n",
      "RangeIndex: 2700 entries, 0 to 2699\n",
      "Data columns (total 11 columns):\n",
      " #   Column           Non-Null Count  Dtype \n",
      "---  ------           --------------  ----- \n",
      " 0   Unnamed: 0       2700 non-null   int64 \n",
      " 1   vacancy          2700 non-null   object\n",
      " 2   company          2700 non-null   object\n",
      " 3   creation_date    2700 non-null   object\n",
      " 4   region           2700 non-null   object\n",
      " 5   income           2700 non-null   int64 \n",
      " 6   experience       2700 non-null   object\n",
      " 7   employment_type  2700 non-null   object\n",
      " 8   duties           2700 non-null   object\n",
      " 9   requirements     2543 non-null   object\n",
      " 10  conditions       2700 non-null   object\n",
      "dtypes: int64(2), object(9)\n",
      "memory usage: 232.2+ KB\n"
     ]
    }
   ],
   "source": [
    "import pandas as pd\n",
    "\n",
    "df = pd.read_csv(\"https://github.com/dm-fedorov/pandas_basic/blob/master/data/tinkoff.csv?raw=True\")\n",
    "df.info()"
   ]
  },
  {
   "cell_type": "markdown",
   "metadata": {},
   "source": [
    "# Определите распределение з.п. по вакансиям и добавьте фильтрацию по регионам"
   ]
  },
  {
   "cell_type": "code",
   "execution_count": null,
   "metadata": {},
   "outputs": [],
   "source": []
  }
 ],
 "metadata": {
  "kernelspec": {
   "display_name": "Python 3",
   "language": "python",
   "name": "python3"
  },
  "language_info": {
   "codemirror_mode": {
    "name": "ipython",
    "version": 3
   },
   "file_extension": ".py",
   "mimetype": "text/x-python",
   "name": "python",
   "nbconvert_exporter": "python",
   "pygments_lexer": "ipython3",
   "version": "3.8.3"
  }
 },
 "nbformat": 4,
 "nbformat_minor": 4
}
