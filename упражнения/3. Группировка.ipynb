{
 "cells": [
  {
   "cell_type": "markdown",
   "metadata": {},
   "source": [
    "<a href=\"https://colab.research.google.com/github/dm-fedorov/pandas_basic/blob/master/%D1%83%D0%BF%D1%80%D0%B0%D0%B6%D0%BD%D0%B5%D0%BD%D0%B8%D1%8F/3.%20%D0%93%D1%80%D1%83%D0%BF%D0%BF%D0%B8%D1%80%D0%BE%D0%B2%D0%BA%D0%B0.ipynb\"><img align=\"left\" src=\"https://colab.research.google.com/assets/colab-badge.svg\" alt=\"Open in Colab\" title=\"Open and Execute in Google Colaboratory\" target=\"_blank\"></a>"
   ]
  },
  {
   "cell_type": "code",
   "execution_count": null,
   "metadata": {},
   "outputs": [],
   "source": [
    "import pandas as pd\n",
    "\n",
    "url = 'https://raw.githubusercontent.com/dm-fedorov/pandas_basic/master/data/football.csv'\n",
    "\n",
    "df = pd.read_csv(url)\n",
    "df.head()"
   ]
  },
  {
   "cell_type": "markdown",
   "metadata": {},
   "source": [
    "Предположим, что перед нами стоит задача посчитать сумму зарплат по клубам, чтобы найти клуб с самой высокой зарплатой.\n",
    "\n",
    "Мы можем сделать это с помощью функции `groupby`:"
   ]
  },
  {
   "cell_type": "code",
   "execution_count": null,
   "metadata": {},
   "outputs": [],
   "source": [
    "df.groupby(['Club'])"
   ]
  },
  {
   "cell_type": "markdown",
   "metadata": {},
   "source": [
    "Мы передали на вход функции `groupby` колонку (или список колонок), по которой будет осуществляться группировка. Но в ответ получили что-то странное. Это объект группировки, он хранит в себе информацию о том, какие строки датафрейма (по индексным номерам) соответствуют определенной группе (в нашем случае определенному клубу). Увидеть это можно, вызвав у объекта группировки атрибут `groups`:"
   ]
  },
  {
   "cell_type": "code",
   "execution_count": null,
   "metadata": {},
   "outputs": [],
   "source": [
    "df.groupby(['Club']).groups"
   ]
  },
  {
   "cell_type": "markdown",
   "metadata": {},
   "source": [
    "Это означает, что `FC Köln` соответствуют следующие строки: `166, 379, 899, 1399, 3415, 6904, 7052, 8892, 12171, 12376`.\n",
    "\n",
    "О чем нам это говорит? Нам — ни о чем, но для алгоритма группировки это важная информация. Он поймет, какие строки брать для включения в группу, когда мы решим применить к этим строкам какую-нибудь агрегирующую функцию, например функцию суммы `sum`:"
   ]
  },
  {
   "cell_type": "code",
   "execution_count": null,
   "metadata": {},
   "outputs": [],
   "source": [
    "grouped_df = df.groupby(['Club']).sum()\n",
    "grouped_df"
   ]
  },
  {
   "cell_type": "markdown",
   "metadata": {},
   "source": [
    "Получился датафрейм, где все параметры, к которым можно было применить соответствующую агрегирующую функцию, были просуммированы. Если точнее, были просуммированы все численные параметры. Другие параметры, такие как национальность (`Nationality`), не будут отображены в датафрейме сгруппированных данных. Это связано с тем, что к таким колонкам нельзя применить агрегирующую функцию, потому что они содержат не численные параметры, а текст.\n",
    "\n",
    "Давайте обратимся по индексу к какой-то из строк получившегося датафрейма:"
   ]
  },
  {
   "cell_type": "code",
   "execution_count": null,
   "metadata": {},
   "outputs": [],
   "source": [
    "grouped_df.loc['Ajax']"
   ]
  },
  {
   "cell_type": "markdown",
   "metadata": {},
   "source": [
    "Таким образом, мы получили серию, где индекс содержит все параметры, которые можно было просуммировать, а значения серии — суммы параметров для всех игроков `ФК \"Ajax\"`.\n",
    "\n",
    "Теперь мы можем получить сумму зарплат игроков этого футбольного клуба:"
   ]
  },
  {
   "cell_type": "code",
   "execution_count": null,
   "metadata": {},
   "outputs": [],
   "source": [
    "grouped_df.loc['Ajax']['Wage']"
   ]
  },
  {
   "cell_type": "markdown",
   "metadata": {},
   "source": [
    "Тут важно заметить, что особого смысла суммировать другие параметры нет. Например, что нам даёт сумма возрастов? Это неинформативная метрика, а значит смысла её подсчитывать нет. Поэтому мы можем ограничить список наших параметров и при группировке осуществлять суммирование только по параметру `\"Wage\"` (заработная плата):"
   ]
  },
  {
   "cell_type": "code",
   "execution_count": null,
   "metadata": {},
   "outputs": [],
   "source": [
    "grouped_df = df.groupby(['Club'])['Wage'].sum()\n",
    "grouped_df"
   ]
  },
  {
   "cell_type": "markdown",
   "metadata": {},
   "source": [
    "Уже лучше!\n",
    "\n",
    "Но помните наш исходный вопрос: `\"В каком клубе самая высокая зарплата?\"`\n",
    "\n",
    "Для ответа на этот вопрос нам достаточно лишь отсортировать полученные данные по убыванию суммы зарплат с помощью функции `sort_values`:"
   ]
  },
  {
   "cell_type": "code",
   "execution_count": null,
   "metadata": {},
   "outputs": [],
   "source": [
    "# параметр ascending=False указывает, что данные надо сортировать по убыванию\n",
    "grouped_df = df.groupby(['Club'])['Wage'].sum().sort_values(ascending=False)\n",
    "grouped_df.head(5)"
   ]
  },
  {
   "cell_type": "markdown",
   "metadata": {},
   "source": [
    "И это `Real Madrid`, что вполне ожидаемо!"
   ]
  },
  {
   "cell_type": "markdown",
   "metadata": {},
   "source": [
    "Давайте рассмотрим ещё несколько примеров использования функции `groupby`.\n",
    "\n",
    "Например, построим такую таблицу, где сгруппируем игроков по национальностям (`Nationality`) и посчитаем среднюю зарплату, средний возраст и среднюю силу удара. Ну а что, вдруг это всё как-то взаимосвязано?\n",
    "\n",
    "Для подсчета среднего мы будем использовать агрегирующую функцию `mean`:"
   ]
  },
  {
   "cell_type": "code",
   "execution_count": null,
   "metadata": {},
   "outputs": [],
   "source": [
    "df.groupby(['Nationality'])[['Wage','Age','ShotPower']].mean()"
   ]
  },
  {
   "cell_type": "markdown",
   "metadata": {},
   "source": [
    "Далее отсортируем по убыванию усредненной зарплаты:"
   ]
  },
  {
   "cell_type": "code",
   "execution_count": null,
   "metadata": {},
   "outputs": [],
   "source": [
    "df.groupby(['Nationality'])[['Wage','Age','ShotPower']].mean().sort_values(['Wage'], ascending=False).head(10)"
   ]
  },
  {
   "cell_type": "markdown",
   "metadata": {},
   "source": [
    "Что?! Доминиканская республика? Очень странно, давайте поближе посмотрим на данные по этой стране:"
   ]
  },
  {
   "cell_type": "code",
   "execution_count": null,
   "metadata": {},
   "outputs": [],
   "source": [
    "df.loc[df['Nationality'] == 'Dominican Republic'][['Name','Club','Wage','Age','ShotPower']]"
   ]
  },
  {
   "cell_type": "markdown",
   "metadata": {},
   "source": [
    "Теперь всё ясно. В нашей выборке только два футболиста из этой страны, один из них играет в клубе `\"Real Madrid\"` и получает 140000 евро, а другой в испанском клубе второго дивизиона с зарплатой в 70 раз ниже! Поэтому среднее и получилось таким высоким."
   ]
  },
  {
   "cell_type": "markdown",
   "metadata": {},
   "source": [
    "### Задание 1\n",
    "\n",
    "Посчитайте среднюю зарплату (`Wage`) и цену (`Value`) игроков разных позиций (`Position`). Представители какой позиции имеют самую высокую среднюю цену?"
   ]
  },
  {
   "cell_type": "code",
   "execution_count": null,
   "metadata": {},
   "outputs": [],
   "source": []
  },
  {
   "cell_type": "markdown",
   "metadata": {},
   "source": [
    "Какова средняя зарплата футболистов на данной позиции?"
   ]
  },
  {
   "cell_type": "markdown",
   "metadata": {},
   "source": [
    "В предыдущих примерах мы использовали такие агрегирующие функции, как `sum` (сумма) и `mean` (среднее). Давайте рассмотрим, какие ещё функции можно использовать при группировке данных.\n",
    "\n",
    "Функция `nunique`, которая позволяет посчитать количество уникальных значений по серии. Её лучше всего применять к тем колонкам датафрейма, в которых хранятся категорийные данные:"
   ]
  },
  {
   "cell_type": "code",
   "execution_count": null,
   "metadata": {},
   "outputs": [],
   "source": [
    "df.groupby(['Nationality'])[['Club','Name']].nunique()"
   ]
  },
  {
   "cell_type": "markdown",
   "metadata": {},
   "source": [
    "Функция `count`, с помощью которой можно посчитать количество элементов в группе. То есть результат её будет такой же, как у функции `value_counts`:"
   ]
  },
  {
   "cell_type": "code",
   "execution_count": null,
   "metadata": {},
   "outputs": [],
   "source": [
    "df.groupby(['Club'])['Name'].count()"
   ]
  },
  {
   "cell_type": "markdown",
   "metadata": {},
   "source": [
    "Функция `median`, с помощью которой можно посчитать медианное значение:"
   ]
  },
  {
   "cell_type": "code",
   "execution_count": null,
   "metadata": {},
   "outputs": [],
   "source": [
    "df.groupby(['Club'])['Dribbling'].median()"
   ]
  },
  {
   "cell_type": "markdown",
   "metadata": {},
   "source": [
    "Функция `max`, с помощью которой можно посчитать максимальное значение внутри группы:"
   ]
  },
  {
   "cell_type": "code",
   "execution_count": null,
   "metadata": {},
   "outputs": [],
   "source": [
    "df.groupby(['Club'])['Strength'].max()"
   ]
  },
  {
   "cell_type": "markdown",
   "metadata": {},
   "source": [
    "Функция `min`, с помощью которой можно посчитать минимальное значение внутри группы:"
   ]
  },
  {
   "cell_type": "code",
   "execution_count": null,
   "metadata": {},
   "outputs": [],
   "source": [
    "df.groupby(['Club'])['Balance'].min()"
   ]
  },
  {
   "cell_type": "markdown",
   "metadata": {},
   "source": [
    "### Задание 1\n",
    "\n",
    "Посчитайте среднюю (`mean`) и медианную (`median`) зарплату (`Wage`) футболистов из разных клубов (`Club`). В скольких клубах средняя и медианная зарплаты совпадают?\n",
    "\n",
    "Подсказка: чтобы в процессе группировки применить к данным одновременно две агрегирующие функции, необходимо указать их как аргументы метода `agg`:\n",
    "\n",
    "```Python\n",
    "df.groupby(столбец_для_группировки)[столбцы_для_отображения].agg(['функция_1', 'функция_2'])\n",
    "```"
   ]
  },
  {
   "cell_type": "code",
   "execution_count": null,
   "metadata": {},
   "outputs": [],
   "source": []
  },
  {
   "cell_type": "markdown",
   "metadata": {},
   "source": [
    "### Задание 2\n",
    "\n",
    "Продолжаем работать с клубами, в которых средняя зарплата совпадает с медианной. Каков максимальный размер средней зарплаты в этой группе клубов?"
   ]
  },
  {
   "cell_type": "code",
   "execution_count": null,
   "metadata": {},
   "outputs": [],
   "source": []
  },
  {
   "cell_type": "markdown",
   "metadata": {},
   "source": [
    "Как называется клуб, где игроки получают такую зарплату?"
   ]
  },
  {
   "cell_type": "code",
   "execution_count": null,
   "metadata": {},
   "outputs": [],
   "source": []
  },
  {
   "cell_type": "markdown",
   "metadata": {},
   "source": [
    "### Задача 1\n",
    "\n",
    "С помощью функции groupby посчитайте сумму зарплат (`Wage`) футболистов клуба (`Club`) `\"Chelsea\"`."
   ]
  },
  {
   "cell_type": "code",
   "execution_count": null,
   "metadata": {},
   "outputs": [],
   "source": []
  },
  {
   "cell_type": "markdown",
   "metadata": {},
   "source": [
    "### Задача 2\n",
    "\n",
    "Определите максимальную зарплату футболиста национальности (`Nationality`) Аргентина (`\"Argentina\"`) в возрасте `20 лет`."
   ]
  },
  {
   "cell_type": "code",
   "execution_count": null,
   "metadata": {},
   "outputs": [],
   "source": []
  },
  {
   "cell_type": "markdown",
   "metadata": {},
   "source": [
    "### Задача 3\n",
    "\n",
    "Определите максимальную зарплату футболиста национальности (`Nationality`) Аргентина (`\"Argentina\"`) в возрасте `30 лет`."
   ]
  },
  {
   "cell_type": "code",
   "execution_count": null,
   "metadata": {},
   "outputs": [],
   "source": []
  },
  {
   "cell_type": "markdown",
   "metadata": {},
   "source": [
    "### Задача 4\n",
    "\n",
    "Определите минимальную зарплату футболиста национальности (`Nationality`) Аргентина (`\"Argentina\"`) в возрасте `30 лет`."
   ]
  },
  {
   "cell_type": "code",
   "execution_count": null,
   "metadata": {},
   "outputs": [],
   "source": []
  },
  {
   "cell_type": "markdown",
   "metadata": {},
   "source": [
    "### Задача 5\n",
    "\n",
    "Определите максимальную силу (`Strength`) и баланс (`Balance`) среди игроков клуба (`Club`) `\"FC Barcelona\"` из Аргентины (`\"Argentina\"`). Ответ через точку с запятой без пробела."
   ]
  },
  {
   "cell_type": "code",
   "execution_count": null,
   "metadata": {},
   "outputs": [],
   "source": []
  }
 ],
 "metadata": {
  "kernelspec": {
   "display_name": "Python 3",
   "language": "python",
   "name": "python3"
  },
  "language_info": {
   "codemirror_mode": {
    "name": "ipython",
    "version": 3
   },
   "file_extension": ".py",
   "mimetype": "text/x-python",
   "name": "python",
   "nbconvert_exporter": "python",
   "pygments_lexer": "ipython3",
   "version": "3.7.3"
  }
 },
 "nbformat": 4,
 "nbformat_minor": 4
}
