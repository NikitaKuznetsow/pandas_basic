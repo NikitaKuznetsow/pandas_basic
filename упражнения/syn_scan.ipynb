{
 "cells": [
  {
   "cell_type": "markdown",
   "metadata": {},
   "source": [
    "<a href=\"https://colab.research.google.com/github/dm-fedorov/pandas_basic/blob/master/упражнения/syn_scan.ipynb\" target=\"_blank\"><img align=\"left\" src=\"https://colab.research.google.com/assets/colab-badge.svg\" alt=\"Open in Colab\" title=\"Open and Execute in Google Colaboratory\"></a>"
   ]
  },
  {
   "cell_type": "markdown",
   "metadata": {},
   "source": [
    "# Описание проекта"
   ]
  },
  {
   "cell_type": "code",
   "execution_count": 2,
   "metadata": {},
   "outputs": [],
   "source": [
    "import pandas as pd\n",
    "import numpy as np"
   ]
  },
  {
   "cell_type": "code",
   "execution_count": 5,
   "metadata": {},
   "outputs": [
    {
     "data": {
      "text/html": [
       "<div>\n",
       "<style scoped>\n",
       "    .dataframe tbody tr th:only-of-type {\n",
       "        vertical-align: middle;\n",
       "    }\n",
       "\n",
       "    .dataframe tbody tr th {\n",
       "        vertical-align: top;\n",
       "    }\n",
       "\n",
       "    .dataframe thead th {\n",
       "        text-align: right;\n",
       "    }\n",
       "</style>\n",
       "<table border=\"1\" class=\"dataframe\">\n",
       "  <thead>\n",
       "    <tr style=\"text-align: right;\">\n",
       "      <th></th>\n",
       "      <th>No.</th>\n",
       "      <th>Time</th>\n",
       "      <th>Source</th>\n",
       "      <th>Destination</th>\n",
       "      <th>Protocol</th>\n",
       "      <th>Length</th>\n",
       "      <th>Info</th>\n",
       "    </tr>\n",
       "  </thead>\n",
       "  <tbody>\n",
       "    <tr>\n",
       "      <th>0</th>\n",
       "      <td>1</td>\n",
       "      <td>0.000000</td>\n",
       "      <td>172.16.0.8</td>\n",
       "      <td>64.13.134.52</td>\n",
       "      <td>TCP</td>\n",
       "      <td>58</td>\n",
       "      <td>36050  &gt;  443 [SYN] Seq=0 Win=3072 Len=0 MSS=1460</td>\n",
       "    </tr>\n",
       "    <tr>\n",
       "      <th>1</th>\n",
       "      <td>2</td>\n",
       "      <td>0.001539</td>\n",
       "      <td>172.16.0.8</td>\n",
       "      <td>64.13.134.52</td>\n",
       "      <td>TCP</td>\n",
       "      <td>58</td>\n",
       "      <td>36050  &gt;  143 [SYN] Seq=0 Win=3072 Len=0 MSS=1460</td>\n",
       "    </tr>\n",
       "    <tr>\n",
       "      <th>2</th>\n",
       "      <td>3</td>\n",
       "      <td>0.001597</td>\n",
       "      <td>172.16.0.8</td>\n",
       "      <td>64.13.134.52</td>\n",
       "      <td>TCP</td>\n",
       "      <td>58</td>\n",
       "      <td>36050  &gt;  3306 [SYN] Seq=0 Win=2048 Len=0 MSS=...</td>\n",
       "    </tr>\n",
       "    <tr>\n",
       "      <th>3</th>\n",
       "      <td>4</td>\n",
       "      <td>0.001650</td>\n",
       "      <td>172.16.0.8</td>\n",
       "      <td>64.13.134.52</td>\n",
       "      <td>TCP</td>\n",
       "      <td>58</td>\n",
       "      <td>36050  &gt;  199 [SYN] Seq=0 Win=3072 Len=0 MSS=1460</td>\n",
       "    </tr>\n",
       "    <tr>\n",
       "      <th>4</th>\n",
       "      <td>5</td>\n",
       "      <td>0.001703</td>\n",
       "      <td>172.16.0.8</td>\n",
       "      <td>64.13.134.52</td>\n",
       "      <td>TCP</td>\n",
       "      <td>58</td>\n",
       "      <td>36050  &gt;  111 [SYN] Seq=0 Win=1024 Len=0 MSS=1460</td>\n",
       "    </tr>\n",
       "  </tbody>\n",
       "</table>\n",
       "</div>"
      ],
      "text/plain": [
       "   No.      Time      Source   Destination Protocol  Length  \\\n",
       "0    1  0.000000  172.16.0.8  64.13.134.52      TCP      58   \n",
       "1    2  0.001539  172.16.0.8  64.13.134.52      TCP      58   \n",
       "2    3  0.001597  172.16.0.8  64.13.134.52      TCP      58   \n",
       "3    4  0.001650  172.16.0.8  64.13.134.52      TCP      58   \n",
       "4    5  0.001703  172.16.0.8  64.13.134.52      TCP      58   \n",
       "\n",
       "                                                Info  \n",
       "0  36050  >  443 [SYN] Seq=0 Win=3072 Len=0 MSS=1460  \n",
       "1  36050  >  143 [SYN] Seq=0 Win=3072 Len=0 MSS=1460  \n",
       "2  36050  >  3306 [SYN] Seq=0 Win=2048 Len=0 MSS=...  \n",
       "3  36050  >  199 [SYN] Seq=0 Win=3072 Len=0 MSS=1460  \n",
       "4  36050  >  111 [SYN] Seq=0 Win=1024 Len=0 MSS=1460  "
      ]
     },
     "execution_count": 5,
     "metadata": {},
     "output_type": "execute_result"
    }
   ],
   "source": [
    "df = pd.read_csv(\"https://raw.githubusercontent.com/dm-fedorov/pandas_basic/master/%D1%83%D0%BF%D1%80%D0%B0%D0%B6%D0%BD%D0%B5%D0%BD%D0%B8%D1%8F/data/synscan.csv\")\n",
    "df.head(5)"
   ]
  },
  {
   "cell_type": "code",
   "execution_count": 4,
   "metadata": {},
   "outputs": [
    {
     "data": {
      "text/html": [
       "<div>\n",
       "<style scoped>\n",
       "    .dataframe tbody tr th:only-of-type {\n",
       "        vertical-align: middle;\n",
       "    }\n",
       "\n",
       "    .dataframe tbody tr th {\n",
       "        vertical-align: top;\n",
       "    }\n",
       "\n",
       "    .dataframe thead th {\n",
       "        text-align: right;\n",
       "    }\n",
       "</style>\n",
       "<table border=\"1\" class=\"dataframe\">\n",
       "  <thead>\n",
       "    <tr style=\"text-align: right;\">\n",
       "      <th></th>\n",
       "      <th>No.</th>\n",
       "      <th>Time</th>\n",
       "      <th>Source</th>\n",
       "      <th>Destination</th>\n",
       "      <th>Protocol</th>\n",
       "      <th>Length</th>\n",
       "      <th>Info</th>\n",
       "    </tr>\n",
       "  </thead>\n",
       "  <tbody>\n",
       "    <tr>\n",
       "      <th>2006</th>\n",
       "      <td>2007</td>\n",
       "      <td>9.387931</td>\n",
       "      <td>64.13.134.52</td>\n",
       "      <td>172.16.0.8</td>\n",
       "      <td>TCP</td>\n",
       "      <td>60</td>\n",
       "      <td>[TCP Retransmission] 80  &gt;  36050 [SYN, ACK] S...</td>\n",
       "    </tr>\n",
       "    <tr>\n",
       "      <th>2007</th>\n",
       "      <td>2008</td>\n",
       "      <td>11.064190</td>\n",
       "      <td>64.13.134.52</td>\n",
       "      <td>172.16.0.8</td>\n",
       "      <td>TCP</td>\n",
       "      <td>60</td>\n",
       "      <td>[TCP Retransmission] 22  &gt;  36050 [SYN, ACK] S...</td>\n",
       "    </tr>\n",
       "    <tr>\n",
       "      <th>2008</th>\n",
       "      <td>2009</td>\n",
       "      <td>21.093215</td>\n",
       "      <td>64.13.134.52</td>\n",
       "      <td>172.16.0.8</td>\n",
       "      <td>TCP</td>\n",
       "      <td>60</td>\n",
       "      <td>[TCP Retransmission] 53  &gt;  36050 [SYN, ACK] S...</td>\n",
       "    </tr>\n",
       "    <tr>\n",
       "      <th>2009</th>\n",
       "      <td>2010</td>\n",
       "      <td>21.401180</td>\n",
       "      <td>64.13.134.52</td>\n",
       "      <td>172.16.0.8</td>\n",
       "      <td>TCP</td>\n",
       "      <td>60</td>\n",
       "      <td>[TCP Retransmission] 80  &gt;  36050 [SYN, ACK] S...</td>\n",
       "    </tr>\n",
       "    <tr>\n",
       "      <th>2010</th>\n",
       "      <td>2011</td>\n",
       "      <td>23.085343</td>\n",
       "      <td>64.13.134.52</td>\n",
       "      <td>172.16.0.8</td>\n",
       "      <td>TCP</td>\n",
       "      <td>60</td>\n",
       "      <td>[TCP Retransmission] 22  &gt;  36050 [SYN, ACK] S...</td>\n",
       "    </tr>\n",
       "  </tbody>\n",
       "</table>\n",
       "</div>"
      ],
      "text/plain": [
       "       No.       Time        Source Destination Protocol  Length  \\\n",
       "2006  2007   9.387931  64.13.134.52  172.16.0.8      TCP      60   \n",
       "2007  2008  11.064190  64.13.134.52  172.16.0.8      TCP      60   \n",
       "2008  2009  21.093215  64.13.134.52  172.16.0.8      TCP      60   \n",
       "2009  2010  21.401180  64.13.134.52  172.16.0.8      TCP      60   \n",
       "2010  2011  23.085343  64.13.134.52  172.16.0.8      TCP      60   \n",
       "\n",
       "                                                   Info  \n",
       "2006  [TCP Retransmission] 80  >  36050 [SYN, ACK] S...  \n",
       "2007  [TCP Retransmission] 22  >  36050 [SYN, ACK] S...  \n",
       "2008  [TCP Retransmission] 53  >  36050 [SYN, ACK] S...  \n",
       "2009  [TCP Retransmission] 80  >  36050 [SYN, ACK] S...  \n",
       "2010  [TCP Retransmission] 22  >  36050 [SYN, ACK] S...  "
      ]
     },
     "execution_count": 4,
     "metadata": {},
     "output_type": "execute_result"
    }
   ],
   "source": [
    "df.tail(5)"
   ]
  },
  {
   "cell_type": "code",
   "execution_count": 6,
   "metadata": {},
   "outputs": [
    {
     "data": {
      "text/plain": [
       "'[TCP Retransmission] 22  >  36050 [SYN, ACK] Seq=0 Ack=1 Win=5840 Len=0 MSS=1380'"
      ]
     },
     "execution_count": 6,
     "metadata": {},
     "output_type": "execute_result"
    }
   ],
   "source": [
    "df.Info[2010]"
   ]
  },
  {
   "cell_type": "markdown",
   "metadata": {},
   "source": [
    "найти фразу \"TCP Retransmission\", добавить столбец \"TCP_Retransmission\" со значением True, удалить фразу \"TCP Retransmission\":"
   ]
  },
  {
   "cell_type": "code",
   "execution_count": 7,
   "metadata": {},
   "outputs": [
    {
     "data": {
      "text/plain": [
       "0      -1\n",
       "1      -1\n",
       "2      -1\n",
       "3      -1\n",
       "4      -1\n",
       "       ..\n",
       "2006    0\n",
       "2007    0\n",
       "2008    0\n",
       "2009    0\n",
       "2010    0\n",
       "Name: Info, Length: 2011, dtype: int64"
      ]
     },
     "execution_count": 7,
     "metadata": {},
     "output_type": "execute_result"
    }
   ],
   "source": [
    "df.Info.str.find(\"[TCP Retransmission]\")"
   ]
  },
  {
   "cell_type": "code",
   "execution_count": 8,
   "metadata": {},
   "outputs": [
    {
     "data": {
      "text/plain": [
       "0      -1\n",
       "1      -1\n",
       "2      -1\n",
       "3      -1\n",
       "4      -1\n",
       "       ..\n",
       "2006    0\n",
       "2007    0\n",
       "2008    0\n",
       "2009    0\n",
       "2010    0\n",
       "Name: tcp_retransmission, Length: 2011, dtype: int64"
      ]
     },
     "execution_count": 8,
     "metadata": {},
     "output_type": "execute_result"
    }
   ],
   "source": [
    "df[\"tcp_retransmission\"] = df.Info.str.find(\"[TCP Retransmission]\")  \n",
    "df[\"tcp_retransmission\"]"
   ]
  },
  {
   "cell_type": "code",
   "execution_count": 9,
   "metadata": {},
   "outputs": [
    {
     "data": {
      "text/plain": [
       "0       False\n",
       "1       False\n",
       "2       False\n",
       "3       False\n",
       "4       False\n",
       "        ...  \n",
       "2006     True\n",
       "2007     True\n",
       "2008     True\n",
       "2009     True\n",
       "2010     True\n",
       "Name: tcp_retransmission, Length: 2011, dtype: bool"
      ]
     },
     "execution_count": 9,
     "metadata": {},
     "output_type": "execute_result"
    }
   ],
   "source": [
    "df[\"tcp_retransmission\"] = np.where(df[\"tcp_retransmission\"] == 0, True, False)\n",
    "df[\"tcp_retransmission\"]"
   ]
  },
  {
   "cell_type": "code",
   "execution_count": 10,
   "metadata": {},
   "outputs": [
    {
     "data": {
      "text/html": [
       "<div>\n",
       "<style scoped>\n",
       "    .dataframe tbody tr th:only-of-type {\n",
       "        vertical-align: middle;\n",
       "    }\n",
       "\n",
       "    .dataframe tbody tr th {\n",
       "        vertical-align: top;\n",
       "    }\n",
       "\n",
       "    .dataframe thead th {\n",
       "        text-align: right;\n",
       "    }\n",
       "</style>\n",
       "<table border=\"1\" class=\"dataframe\">\n",
       "  <thead>\n",
       "    <tr style=\"text-align: right;\">\n",
       "      <th></th>\n",
       "      <th>No.</th>\n",
       "      <th>Time</th>\n",
       "      <th>Source</th>\n",
       "      <th>Destination</th>\n",
       "      <th>Protocol</th>\n",
       "      <th>Length</th>\n",
       "      <th>Info</th>\n",
       "      <th>tcp_retransmission</th>\n",
       "    </tr>\n",
       "  </thead>\n",
       "  <tbody>\n",
       "    <tr>\n",
       "      <th>0</th>\n",
       "      <td>1</td>\n",
       "      <td>0.000000</td>\n",
       "      <td>172.16.0.8</td>\n",
       "      <td>64.13.134.52</td>\n",
       "      <td>TCP</td>\n",
       "      <td>58</td>\n",
       "      <td>36050  &gt;  443 [SYN] Seq=0 Win=3072 Len=0 MSS=1460</td>\n",
       "      <td>False</td>\n",
       "    </tr>\n",
       "    <tr>\n",
       "      <th>1</th>\n",
       "      <td>2</td>\n",
       "      <td>0.001539</td>\n",
       "      <td>172.16.0.8</td>\n",
       "      <td>64.13.134.52</td>\n",
       "      <td>TCP</td>\n",
       "      <td>58</td>\n",
       "      <td>36050  &gt;  143 [SYN] Seq=0 Win=3072 Len=0 MSS=1460</td>\n",
       "      <td>False</td>\n",
       "    </tr>\n",
       "    <tr>\n",
       "      <th>2</th>\n",
       "      <td>3</td>\n",
       "      <td>0.001597</td>\n",
       "      <td>172.16.0.8</td>\n",
       "      <td>64.13.134.52</td>\n",
       "      <td>TCP</td>\n",
       "      <td>58</td>\n",
       "      <td>36050  &gt;  3306 [SYN] Seq=0 Win=2048 Len=0 MSS=...</td>\n",
       "      <td>False</td>\n",
       "    </tr>\n",
       "    <tr>\n",
       "      <th>3</th>\n",
       "      <td>4</td>\n",
       "      <td>0.001650</td>\n",
       "      <td>172.16.0.8</td>\n",
       "      <td>64.13.134.52</td>\n",
       "      <td>TCP</td>\n",
       "      <td>58</td>\n",
       "      <td>36050  &gt;  199 [SYN] Seq=0 Win=3072 Len=0 MSS=1460</td>\n",
       "      <td>False</td>\n",
       "    </tr>\n",
       "    <tr>\n",
       "      <th>4</th>\n",
       "      <td>5</td>\n",
       "      <td>0.001703</td>\n",
       "      <td>172.16.0.8</td>\n",
       "      <td>64.13.134.52</td>\n",
       "      <td>TCP</td>\n",
       "      <td>58</td>\n",
       "      <td>36050  &gt;  111 [SYN] Seq=0 Win=1024 Len=0 MSS=1460</td>\n",
       "      <td>False</td>\n",
       "    </tr>\n",
       "  </tbody>\n",
       "</table>\n",
       "</div>"
      ],
      "text/plain": [
       "   No.      Time      Source   Destination Protocol  Length  \\\n",
       "0    1  0.000000  172.16.0.8  64.13.134.52      TCP      58   \n",
       "1    2  0.001539  172.16.0.8  64.13.134.52      TCP      58   \n",
       "2    3  0.001597  172.16.0.8  64.13.134.52      TCP      58   \n",
       "3    4  0.001650  172.16.0.8  64.13.134.52      TCP      58   \n",
       "4    5  0.001703  172.16.0.8  64.13.134.52      TCP      58   \n",
       "\n",
       "                                                Info  tcp_retransmission  \n",
       "0  36050  >  443 [SYN] Seq=0 Win=3072 Len=0 MSS=1460               False  \n",
       "1  36050  >  143 [SYN] Seq=0 Win=3072 Len=0 MSS=1460               False  \n",
       "2  36050  >  3306 [SYN] Seq=0 Win=2048 Len=0 MSS=...               False  \n",
       "3  36050  >  199 [SYN] Seq=0 Win=3072 Len=0 MSS=1460               False  \n",
       "4  36050  >  111 [SYN] Seq=0 Win=1024 Len=0 MSS=1460               False  "
      ]
     },
     "execution_count": 10,
     "metadata": {},
     "output_type": "execute_result"
    }
   ],
   "source": [
    "df.head()"
   ]
  },
  {
   "cell_type": "code",
   "execution_count": 11,
   "metadata": {},
   "outputs": [
    {
     "data": {
      "text/html": [
       "<div>\n",
       "<style scoped>\n",
       "    .dataframe tbody tr th:only-of-type {\n",
       "        vertical-align: middle;\n",
       "    }\n",
       "\n",
       "    .dataframe tbody tr th {\n",
       "        vertical-align: top;\n",
       "    }\n",
       "\n",
       "    .dataframe thead th {\n",
       "        text-align: right;\n",
       "    }\n",
       "</style>\n",
       "<table border=\"1\" class=\"dataframe\">\n",
       "  <thead>\n",
       "    <tr style=\"text-align: right;\">\n",
       "      <th></th>\n",
       "      <th>no.</th>\n",
       "      <th>time</th>\n",
       "      <th>source</th>\n",
       "      <th>destination</th>\n",
       "      <th>protocol</th>\n",
       "      <th>length</th>\n",
       "      <th>info</th>\n",
       "      <th>tcp_retransmission</th>\n",
       "    </tr>\n",
       "  </thead>\n",
       "  <tbody>\n",
       "    <tr>\n",
       "      <th>2006</th>\n",
       "      <td>2007</td>\n",
       "      <td>9.387931</td>\n",
       "      <td>64.13.134.52</td>\n",
       "      <td>172.16.0.8</td>\n",
       "      <td>TCP</td>\n",
       "      <td>60</td>\n",
       "      <td>[TCP Retransmission] 80  &gt;  36050 [SYN, ACK] S...</td>\n",
       "      <td>True</td>\n",
       "    </tr>\n",
       "    <tr>\n",
       "      <th>2007</th>\n",
       "      <td>2008</td>\n",
       "      <td>11.064190</td>\n",
       "      <td>64.13.134.52</td>\n",
       "      <td>172.16.0.8</td>\n",
       "      <td>TCP</td>\n",
       "      <td>60</td>\n",
       "      <td>[TCP Retransmission] 22  &gt;  36050 [SYN, ACK] S...</td>\n",
       "      <td>True</td>\n",
       "    </tr>\n",
       "    <tr>\n",
       "      <th>2008</th>\n",
       "      <td>2009</td>\n",
       "      <td>21.093215</td>\n",
       "      <td>64.13.134.52</td>\n",
       "      <td>172.16.0.8</td>\n",
       "      <td>TCP</td>\n",
       "      <td>60</td>\n",
       "      <td>[TCP Retransmission] 53  &gt;  36050 [SYN, ACK] S...</td>\n",
       "      <td>True</td>\n",
       "    </tr>\n",
       "    <tr>\n",
       "      <th>2009</th>\n",
       "      <td>2010</td>\n",
       "      <td>21.401180</td>\n",
       "      <td>64.13.134.52</td>\n",
       "      <td>172.16.0.8</td>\n",
       "      <td>TCP</td>\n",
       "      <td>60</td>\n",
       "      <td>[TCP Retransmission] 80  &gt;  36050 [SYN, ACK] S...</td>\n",
       "      <td>True</td>\n",
       "    </tr>\n",
       "    <tr>\n",
       "      <th>2010</th>\n",
       "      <td>2011</td>\n",
       "      <td>23.085343</td>\n",
       "      <td>64.13.134.52</td>\n",
       "      <td>172.16.0.8</td>\n",
       "      <td>TCP</td>\n",
       "      <td>60</td>\n",
       "      <td>[TCP Retransmission] 22  &gt;  36050 [SYN, ACK] S...</td>\n",
       "      <td>True</td>\n",
       "    </tr>\n",
       "  </tbody>\n",
       "</table>\n",
       "</div>"
      ],
      "text/plain": [
       "       no.       time        source destination protocol  length  \\\n",
       "2006  2007   9.387931  64.13.134.52  172.16.0.8      TCP      60   \n",
       "2007  2008  11.064190  64.13.134.52  172.16.0.8      TCP      60   \n",
       "2008  2009  21.093215  64.13.134.52  172.16.0.8      TCP      60   \n",
       "2009  2010  21.401180  64.13.134.52  172.16.0.8      TCP      60   \n",
       "2010  2011  23.085343  64.13.134.52  172.16.0.8      TCP      60   \n",
       "\n",
       "                                                   info  tcp_retransmission  \n",
       "2006  [TCP Retransmission] 80  >  36050 [SYN, ACK] S...                True  \n",
       "2007  [TCP Retransmission] 22  >  36050 [SYN, ACK] S...                True  \n",
       "2008  [TCP Retransmission] 53  >  36050 [SYN, ACK] S...                True  \n",
       "2009  [TCP Retransmission] 80  >  36050 [SYN, ACK] S...                True  \n",
       "2010  [TCP Retransmission] 22  >  36050 [SYN, ACK] S...                True  "
      ]
     },
     "execution_count": 11,
     "metadata": {},
     "output_type": "execute_result"
    }
   ],
   "source": [
    "df.columns = [x.lower() for x in df.columns]\n",
    "df.tail()"
   ]
  },
  {
   "cell_type": "code",
   "execution_count": 12,
   "metadata": {},
   "outputs": [
    {
     "data": {
      "text/plain": [
       "0       36050  >  443 [SYN] Seq=0 Win=3072 Len=0 MSS=1460\n",
       "1       36050  >  143 [SYN] Seq=0 Win=3072 Len=0 MSS=1460\n",
       "2       36050  >  3306 [SYN] Seq=0 Win=2048 Len=0 MSS=...\n",
       "3       36050  >  199 [SYN] Seq=0 Win=3072 Len=0 MSS=1460\n",
       "4       36050  >  111 [SYN] Seq=0 Win=1024 Len=0 MSS=1460\n",
       "                              ...                        \n",
       "2006     80  >  36050 [SYN, ACK] Seq=0 Ack=1 Win=5840 ...\n",
       "2007     22  >  36050 [SYN, ACK] Seq=0 Ack=1 Win=5840 ...\n",
       "2008     53  >  36050 [SYN, ACK] Seq=0 Ack=1 Win=5840 ...\n",
       "2009     80  >  36050 [SYN, ACK] Seq=0 Ack=1 Win=5840 ...\n",
       "2010     22  >  36050 [SYN, ACK] Seq=0 Ack=1 Win=5840 ...\n",
       "Name: info, Length: 2011, dtype: object"
      ]
     },
     "execution_count": 12,
     "metadata": {},
     "output_type": "execute_result"
    }
   ],
   "source": [
    "df[\"info\"] = df[\"info\"].str.replace(r\"[TCP Retransmission]\", \"\", regex=False) # отключаем регулярки\n",
    "df[\"info\"]"
   ]
  },
  {
   "cell_type": "code",
   "execution_count": 13,
   "metadata": {},
   "outputs": [
    {
     "data": {
      "text/plain": [
       "0       36050  >  443 [SYN] Seq=0 Win=3072 Len=0 MSS=1460\n",
       "1       36050  >  143 [SYN] Seq=0 Win=3072 Len=0 MSS=1460\n",
       "2       36050  >  3306 [SYN] Seq=0 Win=2048 Len=0 MSS=...\n",
       "3       36050  >  199 [SYN] Seq=0 Win=3072 Len=0 MSS=1460\n",
       "4       36050  >  111 [SYN] Seq=0 Win=1024 Len=0 MSS=1460\n",
       "                              ...                        \n",
       "2006    80  >  36050 [SYN, ACK] Seq=0 Ack=1 Win=5840 L...\n",
       "2007    22  >  36050 [SYN, ACK] Seq=0 Ack=1 Win=5840 L...\n",
       "2008    53  >  36050 [SYN, ACK] Seq=0 Ack=1 Win=5840 L...\n",
       "2009    80  >  36050 [SYN, ACK] Seq=0 Ack=1 Win=5840 L...\n",
       "2010    22  >  36050 [SYN, ACK] Seq=0 Ack=1 Win=5840 L...\n",
       "Name: info, Length: 2011, dtype: object"
      ]
     },
     "execution_count": 13,
     "metadata": {},
     "output_type": "execute_result"
    }
   ],
   "source": [
    "df[\"info\"] = df[\"info\"].str.strip()\n",
    "df[\"info\"]"
   ]
  },
  {
   "cell_type": "code",
   "execution_count": 14,
   "metadata": {},
   "outputs": [
    {
     "data": {
      "text/html": [
       "<div>\n",
       "<style scoped>\n",
       "    .dataframe tbody tr th:only-of-type {\n",
       "        vertical-align: middle;\n",
       "    }\n",
       "\n",
       "    .dataframe tbody tr th {\n",
       "        vertical-align: top;\n",
       "    }\n",
       "\n",
       "    .dataframe thead th {\n",
       "        text-align: right;\n",
       "    }\n",
       "</style>\n",
       "<table border=\"1\" class=\"dataframe\">\n",
       "  <thead>\n",
       "    <tr style=\"text-align: right;\">\n",
       "      <th></th>\n",
       "      <th>no.</th>\n",
       "      <th>time</th>\n",
       "      <th>source</th>\n",
       "      <th>destination</th>\n",
       "      <th>protocol</th>\n",
       "      <th>length</th>\n",
       "      <th>info</th>\n",
       "      <th>tcp_retransmission</th>\n",
       "    </tr>\n",
       "  </thead>\n",
       "  <tbody>\n",
       "    <tr>\n",
       "      <th>0</th>\n",
       "      <td>1</td>\n",
       "      <td>0.000000</td>\n",
       "      <td>172.16.0.8</td>\n",
       "      <td>64.13.134.52</td>\n",
       "      <td>TCP</td>\n",
       "      <td>58</td>\n",
       "      <td>36050  &gt;  443 [SYN] Seq=0 Win=3072 Len=0 MSS=1460</td>\n",
       "      <td>False</td>\n",
       "    </tr>\n",
       "    <tr>\n",
       "      <th>1</th>\n",
       "      <td>2</td>\n",
       "      <td>0.001539</td>\n",
       "      <td>172.16.0.8</td>\n",
       "      <td>64.13.134.52</td>\n",
       "      <td>TCP</td>\n",
       "      <td>58</td>\n",
       "      <td>36050  &gt;  143 [SYN] Seq=0 Win=3072 Len=0 MSS=1460</td>\n",
       "      <td>False</td>\n",
       "    </tr>\n",
       "    <tr>\n",
       "      <th>2</th>\n",
       "      <td>3</td>\n",
       "      <td>0.001597</td>\n",
       "      <td>172.16.0.8</td>\n",
       "      <td>64.13.134.52</td>\n",
       "      <td>TCP</td>\n",
       "      <td>58</td>\n",
       "      <td>36050  &gt;  3306 [SYN] Seq=0 Win=2048 Len=0 MSS=...</td>\n",
       "      <td>False</td>\n",
       "    </tr>\n",
       "    <tr>\n",
       "      <th>3</th>\n",
       "      <td>4</td>\n",
       "      <td>0.001650</td>\n",
       "      <td>172.16.0.8</td>\n",
       "      <td>64.13.134.52</td>\n",
       "      <td>TCP</td>\n",
       "      <td>58</td>\n",
       "      <td>36050  &gt;  199 [SYN] Seq=0 Win=3072 Len=0 MSS=1460</td>\n",
       "      <td>False</td>\n",
       "    </tr>\n",
       "    <tr>\n",
       "      <th>4</th>\n",
       "      <td>5</td>\n",
       "      <td>0.001703</td>\n",
       "      <td>172.16.0.8</td>\n",
       "      <td>64.13.134.52</td>\n",
       "      <td>TCP</td>\n",
       "      <td>58</td>\n",
       "      <td>36050  &gt;  111 [SYN] Seq=0 Win=1024 Len=0 MSS=1460</td>\n",
       "      <td>False</td>\n",
       "    </tr>\n",
       "  </tbody>\n",
       "</table>\n",
       "</div>"
      ],
      "text/plain": [
       "   no.      time      source   destination protocol  length  \\\n",
       "0    1  0.000000  172.16.0.8  64.13.134.52      TCP      58   \n",
       "1    2  0.001539  172.16.0.8  64.13.134.52      TCP      58   \n",
       "2    3  0.001597  172.16.0.8  64.13.134.52      TCP      58   \n",
       "3    4  0.001650  172.16.0.8  64.13.134.52      TCP      58   \n",
       "4    5  0.001703  172.16.0.8  64.13.134.52      TCP      58   \n",
       "\n",
       "                                                info  tcp_retransmission  \n",
       "0  36050  >  443 [SYN] Seq=0 Win=3072 Len=0 MSS=1460               False  \n",
       "1  36050  >  143 [SYN] Seq=0 Win=3072 Len=0 MSS=1460               False  \n",
       "2  36050  >  3306 [SYN] Seq=0 Win=2048 Len=0 MSS=...               False  \n",
       "3  36050  >  199 [SYN] Seq=0 Win=3072 Len=0 MSS=1460               False  \n",
       "4  36050  >  111 [SYN] Seq=0 Win=1024 Len=0 MSS=1460               False  "
      ]
     },
     "execution_count": 14,
     "metadata": {},
     "output_type": "execute_result"
    }
   ],
   "source": [
    "df.head()"
   ]
  },
  {
   "cell_type": "code",
   "execution_count": null,
   "metadata": {},
   "outputs": [],
   "source": [
    "# здесь код: "
   ]
  }
 ],
 "metadata": {
  "kernelspec": {
   "display_name": "Python 3",
   "language": "python",
   "name": "python3"
  },
  "language_info": {
   "codemirror_mode": {
    "name": "ipython",
    "version": 3
   },
   "file_extension": ".py",
   "mimetype": "text/x-python",
   "name": "python",
   "nbconvert_exporter": "python",
   "pygments_lexer": "ipython3",
   "version": "3.8.3"
  }
 },
 "nbformat": 4,
 "nbformat_minor": 4
}
